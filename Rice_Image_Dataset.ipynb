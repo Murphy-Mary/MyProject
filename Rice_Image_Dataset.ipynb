{
  "nbformat": 4,
  "nbformat_minor": 0,
  "metadata": {
    "colab": {
      "provenance": [],
      "authorship_tag": "ABX9TyMJWWUDJzwimSLW9v8zxE4p",
      "include_colab_link": true
    },
    "kernelspec": {
      "name": "python3",
      "display_name": "Python 3"
    },
    "language_info": {
      "name": "python"
    }
  },
  "cells": [
    {
      "cell_type": "markdown",
      "metadata": {
        "id": "view-in-github",
        "colab_type": "text"
      },
      "source": [
        "<a href=\"https://colab.research.google.com/github/Murphy-Mary/MyProject/blob/main/Rice_Image_Dataset.ipynb\" target=\"_parent\"><img src=\"https://colab.research.google.com/assets/colab-badge.svg\" alt=\"Open In Colab\"/></a>"
      ]
    },
    {
      "cell_type": "markdown",
      "source": [
        "Rice Image Dataset\n",
        "https://www.kaggle.com/datasets/muratkokludataset/rice-image-dataset"
      ],
      "metadata": {
        "id": "jCEmoxbuA30R"
      }
    },
    {
      "cell_type": "markdown",
      "source": [
        "# Import Section"
      ],
      "metadata": {
        "id": "fo7YyrTrBMCn"
      }
    },
    {
      "cell_type": "code",
      "execution_count": null,
      "metadata": {
        "id": "lW35FHCUAkxv"
      },
      "outputs": [],
      "source": [
        "from google.colab import drive\n",
        "drive.mount('/content/gdrive')\n",
        "\n",
        "import os\n",
        "os.environ['KAGGLE_CONFIG_DIR'] = \"/content/gdrive/My Drive/Kaggle\"\n",
        "\n",
        "!kaggle datasets download -d muratkokludataset/rice-image-dataset\n",
        "!unzip /content/rice-image-dataset.zip && rm /content/rice-image-dataset.zip"
      ]
    }
  ]
}