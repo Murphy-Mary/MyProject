{
  "cells": [
    {
      "cell_type": "markdown",
      "metadata": {
        "id": "view-in-github",
        "colab_type": "text"
      },
      "source": [
        "<a href=\"https://colab.research.google.com/github/Murphy-Mary/MyProject/blob/main/Twitter_Sentiment_Analysis.ipynb\" target=\"_parent\"><img src=\"https://colab.research.google.com/assets/colab-badge.svg\" alt=\"Open In Colab\"/></a>"
      ]
    },
    {
      "cell_type": "markdown",
      "metadata": {
        "id": "ZdEOKXMJRFew"
      },
      "source": [
        "# Import data"
      ]
    },
    {
      "cell_type": "markdown",
      "metadata": {
        "id": "qNYDNjhoLsmc"
      },
      "source": [
        "souce :https://www.kaggle.com/datasets/jp797498e/twitter-entity-sentiment-analysis"
      ]
    },
    {
      "cell_type": "code",
      "execution_count": null,
      "metadata": {
        "colab": {
          "base_uri": "https://localhost:8080/"
        },
        "id": "C_rlNTFZQJeK",
        "outputId": "61873f00-e9a6-4a83-a4f9-d3b4610caba9"
      },
      "outputs": [
        {
          "output_type": "stream",
          "name": "stdout",
          "text": [
            "Drive already mounted at /content/gdrive; to attempt to forcibly remount, call drive.mount(\"/content/gdrive\", force_remount=True).\n",
            "Downloading twitter-entity-sentiment-analysis.zip to /content\n",
            "  0% 0.00/1.99M [00:00<?, ?B/s]\n",
            "100% 1.99M/1.99M [00:00<00:00, 106MB/s]\n",
            "Archive:  /content/twitter-entity-sentiment-analysis.zip\n",
            "replace twitter_training.csv? [y]es, [n]o, [A]ll, [N]one, [r]ename: "
          ]
        }
      ],
      "source": [
        "from google.colab import drive\n",
        "drive.mount('/content/gdrive')\n",
        "\n",
        "import os\n",
        "os.environ['KAGGLE_CONFIG_DIR'] = \"/content/gdrive/My Drive/Kaggle\"\n",
        "\n",
        "!kaggle datasets download -d jp797498e/twitter-entity-sentiment-analysis\n",
        "!unzip /content/twitter-entity-sentiment-analysis.zip && rm /content/twitter-entity-sentiment-analysis.zip"
      ]
    },
    {
      "cell_type": "code",
      "execution_count": null,
      "metadata": {
        "id": "FPNDvTonQe0s"
      },
      "outputs": [],
      "source": [
        "!pip install -q -U --pre pycaret\n",
        "!python -m venv .env\n",
        "!source /content/.env/bin\n",
        "!pip install -U pip setuptools wheel\n",
        "!pip install -U 'spacy[cuda-autodetect]'\n",
        "!python -m spacy download en_core_web_sm"
      ]
    },
    {
      "cell_type": "code",
      "execution_count": null,
      "metadata": {
        "id": "2OH63iDQQnn7"
      },
      "outputs": [],
      "source": [
        "import numpy as np\n",
        "import pandas as pd\n",
        "import spacy\n",
        "from tqdm.auto import tqdm\n",
        "import time\n",
        "from sklearn.metrics import accuracy_score"
      ]
    },
    {
      "cell_type": "code",
      "execution_count": null,
      "metadata": {
        "id": "K_lchzkpQslS"
      },
      "outputs": [],
      "source": [
        "print(spacy.prefer_gpu())"
      ]
    },
    {
      "cell_type": "markdown",
      "metadata": {
        "id": "VxJN_ckrSsiT"
      },
      "source": [
        "## data"
      ]
    },
    {
      "cell_type": "code",
      "execution_count": null,
      "metadata": {
        "id": "RBMmSOAOREfh"
      },
      "outputs": [],
      "source": [
        "df = pd.read_csv('/content/twitter_training.csv',header=None)"
      ]
    },
    {
      "cell_type": "code",
      "execution_count": null,
      "metadata": {
        "id": "JhrzGuvnRU63"
      },
      "outputs": [],
      "source": [
        "df = df.rename(columns={0: \"Id\",1:\"entity\",2:\"sentiment\",3:\"Tweet_content\"})"
      ]
    },
    {
      "cell_type": "code",
      "execution_count": null,
      "metadata": {
        "id": "f0NHv6AQL8ax"
      },
      "outputs": [],
      "source": [
        "df"
      ]
    },
    {
      "cell_type": "markdown",
      "metadata": {
        "id": "guv1ovYpMMjy"
      },
      "source": [
        "# EDA"
      ]
    },
    {
      "cell_type": "code",
      "execution_count": null,
      "metadata": {
        "id": "gapZth1uMOYI"
      },
      "outputs": [],
      "source": [
        "df.info()"
      ]
    },
    {
      "cell_type": "code",
      "execution_count": null,
      "metadata": {
        "id": "1Ym8qceLMOda"
      },
      "outputs": [],
      "source": [
        "df.isna().sum()"
      ]
    },
    {
      "cell_type": "code",
      "execution_count": null,
      "metadata": {
        "id": "33udxjSOMa67"
      },
      "outputs": [],
      "source": [
        " df = df[df['Tweet_content'].notna()]"
      ]
    },
    {
      "cell_type": "code",
      "execution_count": null,
      "metadata": {
        "id": "mQX_L4JHNH6c"
      },
      "outputs": [],
      "source": [
        "df.isnull().sum()"
      ]
    },
    {
      "cell_type": "code",
      "execution_count": null,
      "metadata": {
        "id": "V5WHH2P_OAl7"
      },
      "outputs": [],
      "source": [
        "df.info()"
      ]
    },
    {
      "cell_type": "code",
      "execution_count": null,
      "metadata": {
        "id": "fyTzEnSUOIME"
      },
      "outputs": [],
      "source": [
        "df.duplicated().sum()"
      ]
    },
    {
      "cell_type": "code",
      "execution_count": null,
      "metadata": {
        "id": "L3S78JNZOM4i"
      },
      "outputs": [],
      "source": [
        "df.drop_duplicates(inplace=True)"
      ]
    },
    {
      "cell_type": "code",
      "execution_count": null,
      "metadata": {
        "id": "CPTYw_bNOPEg"
      },
      "outputs": [],
      "source": [
        "df.duplicated().sum()"
      ]
    },
    {
      "cell_type": "code",
      "execution_count": null,
      "metadata": {
        "id": "UeqlXnEVOYhR"
      },
      "outputs": [],
      "source": [
        "df.loc[df[\"sentiment\"] == \"Negative\",'new_sent'] = 0\n",
        "df.loc[df[\"sentiment\"] == \"Positive\",'new_sent'] = 1\n",
        "df.loc[df[\"sentiment\"] == \"Neutral\",'new_sent'] = 2\n",
        "df.loc[df[\"sentiment\"] == \"Irrelevant\",'new_sent'] = 3\n",
        "# df.loc[df[\"sentiment\"] != \"Neutral\" and df[\"sentiment\"] != \"Positive\" and df[\"sentiment\"] != \"Negative\",'new_sent'] = 3"
      ]
    },
    {
      "cell_type": "code",
      "execution_count": null,
      "metadata": {
        "id": "dke6I3k6Q2TS"
      },
      "outputs": [],
      "source": [
        "df.isna().sum()"
      ]
    },
    {
      "cell_type": "code",
      "execution_count": null,
      "metadata": {
        "id": "YTrJpUhVOgYv"
      },
      "outputs": [],
      "source": [
        "df['new_sent'] = df['new_sent'].fillna(4)"
      ]
    },
    {
      "cell_type": "code",
      "execution_count": null,
      "metadata": {
        "id": "ynn2EwYfdNFc"
      },
      "outputs": [],
      "source": [
        "df"
      ]
    },
    {
      "cell_type": "markdown",
      "metadata": {
        "id": "ZWuuoiidTznx"
      },
      "source": [
        "#prepare"
      ]
    },
    {
      "cell_type": "code",
      "execution_count": null,
      "metadata": {
        "id": "9AKOaXt_T2Bf"
      },
      "outputs": [],
      "source": [
        "# Load the English NLP model\n",
        "spacy.prefer_gpu() # or spacy.require_gpu()\n",
        "nlp = spacy.load('en_core_web_sm')\n",
        "\n",
        "# Define stop words\n",
        "stop_words = spacy.lang.en.stop_words.STOP_WORDS"
      ]
    },
    {
      "cell_type": "code",
      "execution_count": null,
      "metadata": {
        "id": "EAD-Wt57T6En"
      },
      "outputs": [],
      "source": [
        "def preprocess_text(text):\n",
        "    # Parse the text with Spacy\n",
        "    doc = nlp(text)\n",
        "    \n",
        "    # Lemmatize the tokens and remove stop words\n",
        "    lemmas = [token.lemma_.lower() for token in doc if not token.is_stop]\n",
        "    \n",
        "    # Join the lemmas back into a string and return it\n",
        "    return \" \".join(lemmas)"
      ]
    },
    {
      "cell_type": "code",
      "execution_count": null,
      "metadata": {
        "id": "WczzY9cFT_Fv"
      },
      "outputs": [],
      "source": [
        "%%time\n",
        "\n",
        "tqdm.pandas()\n",
        "\n",
        "df['Tweet_content'] = df['Tweet_content'].progress_apply(preprocess_text)"
      ]
    },
    {
      "cell_type": "code",
      "execution_count": null,
      "metadata": {
        "id": "3Ub7_PxjULzw"
      },
      "outputs": [],
      "source": [
        "df"
      ]
    },
    {
      "cell_type": "markdown",
      "metadata": {
        "id": "WoD7mOYqUZvu"
      },
      "source": [
        "# Vectorizing the Text Data"
      ]
    },
    {
      "cell_type": "code",
      "execution_count": null,
      "metadata": {
        "id": "_A9N7Q3xUMSO"
      },
      "outputs": [],
      "source": [
        "from sklearn.model_selection import train_test_split\n",
        "\n",
        "# split the data into training and testing sets\n",
        "X_train, X_test, y_train, y_test = train_test_split(df['Tweet_content'], df['new_sent'], test_size=0.2, random_state=248362023)"
      ]
    },
    {
      "cell_type": "code",
      "execution_count": null,
      "metadata": {
        "id": "4vOVPgf1UbCH"
      },
      "outputs": [],
      "source": [
        "from sklearn.feature_extraction.text import CountVectorizer\n",
        "\n",
        "# create bag-of-words features\n",
        "vectorizer = CountVectorizer()\n",
        "X_train_vect = vectorizer.fit_transform(X_train)\n",
        "X_test_vect = vectorizer.transform(X_test)"
      ]
    },
    {
      "cell_type": "markdown",
      "metadata": {
        "id": "qVVtQiBjUdBA"
      },
      "source": [
        "# ML\n"
      ]
    },
    {
      "cell_type": "markdown",
      "metadata": {
        "id": "owdkRXRXUfE_"
      },
      "source": [
        "## Naive Bayes Classifier"
      ]
    },
    {
      "cell_type": "code",
      "execution_count": null,
      "metadata": {
        "id": "emaz08vuUpmA"
      },
      "outputs": [],
      "source": [
        "from sklearn.naive_bayes import MultinomialNB\n",
        "# train a Naive Bayes classifier\n",
        "clf = MultinomialNB()\n",
        "clf"
      ]
    },
    {
      "cell_type": "code",
      "execution_count": null,
      "metadata": {
        "id": "SrD52maJUtJP"
      },
      "outputs": [],
      "source": [
        "clf.fit(X_train_vect, y_train)"
      ]
    },
    {
      "cell_type": "markdown",
      "metadata": {
        "id": "PGQbjTDQTqPs"
      },
      "source": [
        "## RandomForestClassifier"
      ]
    },
    {
      "cell_type": "code",
      "execution_count": null,
      "metadata": {
        "id": "RW1MyPIQT0Sk"
      },
      "outputs": [],
      "source": [
        "from sklearn.ensemble import RandomForestClassifier"
      ]
    },
    {
      "cell_type": "code",
      "execution_count": null,
      "metadata": {
        "id": "4KH75ULoT35E",
        "colab": {
          "base_uri": "https://localhost:8080/",
          "height": 75
        },
        "outputId": "f4384b64-c2e0-4133-9602-d52827f1401a"
      },
      "outputs": [
        {
          "output_type": "execute_result",
          "data": {
            "text/plain": [
              "RandomForestClassifier(n_estimators=10)"
            ],
            "text/html": [
              "<style>#sk-container-id-1 {color: black;background-color: white;}#sk-container-id-1 pre{padding: 0;}#sk-container-id-1 div.sk-toggleable {background-color: white;}#sk-container-id-1 label.sk-toggleable__label {cursor: pointer;display: block;width: 100%;margin-bottom: 0;padding: 0.3em;box-sizing: border-box;text-align: center;}#sk-container-id-1 label.sk-toggleable__label-arrow:before {content: \"▸\";float: left;margin-right: 0.25em;color: #696969;}#sk-container-id-1 label.sk-toggleable__label-arrow:hover:before {color: black;}#sk-container-id-1 div.sk-estimator:hover label.sk-toggleable__label-arrow:before {color: black;}#sk-container-id-1 div.sk-toggleable__content {max-height: 0;max-width: 0;overflow: hidden;text-align: left;background-color: #f0f8ff;}#sk-container-id-1 div.sk-toggleable__content pre {margin: 0.2em;color: black;border-radius: 0.25em;background-color: #f0f8ff;}#sk-container-id-1 input.sk-toggleable__control:checked~div.sk-toggleable__content {max-height: 200px;max-width: 100%;overflow: auto;}#sk-container-id-1 input.sk-toggleable__control:checked~label.sk-toggleable__label-arrow:before {content: \"▾\";}#sk-container-id-1 div.sk-estimator input.sk-toggleable__control:checked~label.sk-toggleable__label {background-color: #d4ebff;}#sk-container-id-1 div.sk-label input.sk-toggleable__control:checked~label.sk-toggleable__label {background-color: #d4ebff;}#sk-container-id-1 input.sk-hidden--visually {border: 0;clip: rect(1px 1px 1px 1px);clip: rect(1px, 1px, 1px, 1px);height: 1px;margin: -1px;overflow: hidden;padding: 0;position: absolute;width: 1px;}#sk-container-id-1 div.sk-estimator {font-family: monospace;background-color: #f0f8ff;border: 1px dotted black;border-radius: 0.25em;box-sizing: border-box;margin-bottom: 0.5em;}#sk-container-id-1 div.sk-estimator:hover {background-color: #d4ebff;}#sk-container-id-1 div.sk-parallel-item::after {content: \"\";width: 100%;border-bottom: 1px solid gray;flex-grow: 1;}#sk-container-id-1 div.sk-label:hover label.sk-toggleable__label {background-color: #d4ebff;}#sk-container-id-1 div.sk-serial::before {content: \"\";position: absolute;border-left: 1px solid gray;box-sizing: border-box;top: 0;bottom: 0;left: 50%;z-index: 0;}#sk-container-id-1 div.sk-serial {display: flex;flex-direction: column;align-items: center;background-color: white;padding-right: 0.2em;padding-left: 0.2em;position: relative;}#sk-container-id-1 div.sk-item {position: relative;z-index: 1;}#sk-container-id-1 div.sk-parallel {display: flex;align-items: stretch;justify-content: center;background-color: white;position: relative;}#sk-container-id-1 div.sk-item::before, #sk-container-id-1 div.sk-parallel-item::before {content: \"\";position: absolute;border-left: 1px solid gray;box-sizing: border-box;top: 0;bottom: 0;left: 50%;z-index: -1;}#sk-container-id-1 div.sk-parallel-item {display: flex;flex-direction: column;z-index: 1;position: relative;background-color: white;}#sk-container-id-1 div.sk-parallel-item:first-child::after {align-self: flex-end;width: 50%;}#sk-container-id-1 div.sk-parallel-item:last-child::after {align-self: flex-start;width: 50%;}#sk-container-id-1 div.sk-parallel-item:only-child::after {width: 0;}#sk-container-id-1 div.sk-dashed-wrapped {border: 1px dashed gray;margin: 0 0.4em 0.5em 0.4em;box-sizing: border-box;padding-bottom: 0.4em;background-color: white;}#sk-container-id-1 div.sk-label label {font-family: monospace;font-weight: bold;display: inline-block;line-height: 1.2em;}#sk-container-id-1 div.sk-label-container {text-align: center;}#sk-container-id-1 div.sk-container {/* jupyter's `normalize.less` sets `[hidden] { display: none; }` but bootstrap.min.css set `[hidden] { display: none !important; }` so we also need the `!important` here to be able to override the default hidden behavior on the sphinx rendered scikit-learn.org. See: https://github.com/scikit-learn/scikit-learn/issues/21755 */display: inline-block !important;position: relative;}#sk-container-id-1 div.sk-text-repr-fallback {display: none;}</style><div id=\"sk-container-id-1\" class=\"sk-top-container\"><div class=\"sk-text-repr-fallback\"><pre>RandomForestClassifier(n_estimators=10)</pre><b>In a Jupyter environment, please rerun this cell to show the HTML representation or trust the notebook. <br />On GitHub, the HTML representation is unable to render, please try loading this page with nbviewer.org.</b></div><div class=\"sk-container\" hidden><div class=\"sk-item\"><div class=\"sk-estimator sk-toggleable\"><input class=\"sk-toggleable__control sk-hidden--visually\" id=\"sk-estimator-id-1\" type=\"checkbox\" checked><label for=\"sk-estimator-id-1\" class=\"sk-toggleable__label sk-toggleable__label-arrow\">RandomForestClassifier</label><div class=\"sk-toggleable__content\"><pre>RandomForestClassifier(n_estimators=10)</pre></div></div></div></div></div>"
            ]
          },
          "metadata": {},
          "execution_count": 28
        }
      ],
      "source": [
        "clf = RandomForestClassifier(n_estimators=10)\n",
        "clf"
      ]
    },
    {
      "cell_type": "code",
      "execution_count": null,
      "metadata": {
        "id": "o9oaS174T6Qp",
        "colab": {
          "base_uri": "https://localhost:8080/",
          "height": 75
        },
        "outputId": "baf32309-f6dd-4569-87d9-b50aad169b33"
      },
      "outputs": [
        {
          "output_type": "execute_result",
          "data": {
            "text/plain": [
              "RandomForestClassifier(n_estimators=10)"
            ],
            "text/html": [
              "<style>#sk-container-id-2 {color: black;background-color: white;}#sk-container-id-2 pre{padding: 0;}#sk-container-id-2 div.sk-toggleable {background-color: white;}#sk-container-id-2 label.sk-toggleable__label {cursor: pointer;display: block;width: 100%;margin-bottom: 0;padding: 0.3em;box-sizing: border-box;text-align: center;}#sk-container-id-2 label.sk-toggleable__label-arrow:before {content: \"▸\";float: left;margin-right: 0.25em;color: #696969;}#sk-container-id-2 label.sk-toggleable__label-arrow:hover:before {color: black;}#sk-container-id-2 div.sk-estimator:hover label.sk-toggleable__label-arrow:before {color: black;}#sk-container-id-2 div.sk-toggleable__content {max-height: 0;max-width: 0;overflow: hidden;text-align: left;background-color: #f0f8ff;}#sk-container-id-2 div.sk-toggleable__content pre {margin: 0.2em;color: black;border-radius: 0.25em;background-color: #f0f8ff;}#sk-container-id-2 input.sk-toggleable__control:checked~div.sk-toggleable__content {max-height: 200px;max-width: 100%;overflow: auto;}#sk-container-id-2 input.sk-toggleable__control:checked~label.sk-toggleable__label-arrow:before {content: \"▾\";}#sk-container-id-2 div.sk-estimator input.sk-toggleable__control:checked~label.sk-toggleable__label {background-color: #d4ebff;}#sk-container-id-2 div.sk-label input.sk-toggleable__control:checked~label.sk-toggleable__label {background-color: #d4ebff;}#sk-container-id-2 input.sk-hidden--visually {border: 0;clip: rect(1px 1px 1px 1px);clip: rect(1px, 1px, 1px, 1px);height: 1px;margin: -1px;overflow: hidden;padding: 0;position: absolute;width: 1px;}#sk-container-id-2 div.sk-estimator {font-family: monospace;background-color: #f0f8ff;border: 1px dotted black;border-radius: 0.25em;box-sizing: border-box;margin-bottom: 0.5em;}#sk-container-id-2 div.sk-estimator:hover {background-color: #d4ebff;}#sk-container-id-2 div.sk-parallel-item::after {content: \"\";width: 100%;border-bottom: 1px solid gray;flex-grow: 1;}#sk-container-id-2 div.sk-label:hover label.sk-toggleable__label {background-color: #d4ebff;}#sk-container-id-2 div.sk-serial::before {content: \"\";position: absolute;border-left: 1px solid gray;box-sizing: border-box;top: 0;bottom: 0;left: 50%;z-index: 0;}#sk-container-id-2 div.sk-serial {display: flex;flex-direction: column;align-items: center;background-color: white;padding-right: 0.2em;padding-left: 0.2em;position: relative;}#sk-container-id-2 div.sk-item {position: relative;z-index: 1;}#sk-container-id-2 div.sk-parallel {display: flex;align-items: stretch;justify-content: center;background-color: white;position: relative;}#sk-container-id-2 div.sk-item::before, #sk-container-id-2 div.sk-parallel-item::before {content: \"\";position: absolute;border-left: 1px solid gray;box-sizing: border-box;top: 0;bottom: 0;left: 50%;z-index: -1;}#sk-container-id-2 div.sk-parallel-item {display: flex;flex-direction: column;z-index: 1;position: relative;background-color: white;}#sk-container-id-2 div.sk-parallel-item:first-child::after {align-self: flex-end;width: 50%;}#sk-container-id-2 div.sk-parallel-item:last-child::after {align-self: flex-start;width: 50%;}#sk-container-id-2 div.sk-parallel-item:only-child::after {width: 0;}#sk-container-id-2 div.sk-dashed-wrapped {border: 1px dashed gray;margin: 0 0.4em 0.5em 0.4em;box-sizing: border-box;padding-bottom: 0.4em;background-color: white;}#sk-container-id-2 div.sk-label label {font-family: monospace;font-weight: bold;display: inline-block;line-height: 1.2em;}#sk-container-id-2 div.sk-label-container {text-align: center;}#sk-container-id-2 div.sk-container {/* jupyter's `normalize.less` sets `[hidden] { display: none; }` but bootstrap.min.css set `[hidden] { display: none !important; }` so we also need the `!important` here to be able to override the default hidden behavior on the sphinx rendered scikit-learn.org. See: https://github.com/scikit-learn/scikit-learn/issues/21755 */display: inline-block !important;position: relative;}#sk-container-id-2 div.sk-text-repr-fallback {display: none;}</style><div id=\"sk-container-id-2\" class=\"sk-top-container\"><div class=\"sk-text-repr-fallback\"><pre>RandomForestClassifier(n_estimators=10)</pre><b>In a Jupyter environment, please rerun this cell to show the HTML representation or trust the notebook. <br />On GitHub, the HTML representation is unable to render, please try loading this page with nbviewer.org.</b></div><div class=\"sk-container\" hidden><div class=\"sk-item\"><div class=\"sk-estimator sk-toggleable\"><input class=\"sk-toggleable__control sk-hidden--visually\" id=\"sk-estimator-id-2\" type=\"checkbox\" checked><label for=\"sk-estimator-id-2\" class=\"sk-toggleable__label sk-toggleable__label-arrow\">RandomForestClassifier</label><div class=\"sk-toggleable__content\"><pre>RandomForestClassifier(n_estimators=10)</pre></div></div></div></div></div>"
            ]
          },
          "metadata": {},
          "execution_count": 29
        }
      ],
      "source": [
        "clf.fit(X_train_vect, y_train)"
      ]
    },
    {
      "cell_type": "markdown",
      "metadata": {
        "id": "RrWdKhkGyLJS"
      },
      "source": [
        "## neural_network "
      ]
    },
    {
      "cell_type": "code",
      "execution_count": null,
      "metadata": {
        "id": "pDzqu1JKyOQa"
      },
      "outputs": [],
      "source": [
        "from sklearn.neural_network import MLPClassifier"
      ]
    },
    {
      "cell_type": "code",
      "execution_count": null,
      "metadata": {
        "id": "GM2mWVOVyQJm"
      },
      "outputs": [],
      "source": [
        "clf = MLPClassifier(solver='adam', alpha=1e-5,hidden_layer_sizes=(2,), random_state=746563)\n",
        "#5,2\n",
        "#10,2\n",
        "#10,5"
      ]
    },
    {
      "cell_type": "code",
      "execution_count": null,
      "metadata": {
        "id": "yQacsQ93yUAG"
      },
      "outputs": [],
      "source": [
        "clf.fit(X_train_vect, y_train)"
      ]
    },
    {
      "cell_type": "markdown",
      "source": [
        "## Save model"
      ],
      "metadata": {
        "id": "TrpOMmZ99M8S"
      }
    },
    {
      "cell_type": "code",
      "source": [
        "import pickle\n",
        "\n",
        "filename = \"NN_Model.pickle\"\n",
        "# pickle.dump(clf, open(filename, \"wb\"))\n",
        "with open('/content/gdrive/MyDrive/sizeproject/'+ filename , 'wb') as f:\n",
        "    pickle.dump(clf, f)\n",
        "# loaded_model = pickle.load(open(filename, \"rb\"))"
      ],
      "metadata": {
        "id": "QF27ulsf9QjA"
      },
      "execution_count": null,
      "outputs": []
    },
    {
      "cell_type": "markdown",
      "metadata": {
        "id": "LsgFo1pxUydn"
      },
      "source": [
        "# Predictions Section"
      ]
    },
    {
      "cell_type": "code",
      "execution_count": null,
      "metadata": {
        "id": "qGUu86SdU0aG"
      },
      "outputs": [],
      "source": [
        "# evaluate the classifier on the test set\n",
        "y_pred = clf.predict(X_test_vect)"
      ]
    },
    {
      "cell_type": "code",
      "execution_count": null,
      "metadata": {
        "id": "eFi7KXnqU6KT"
      },
      "outputs": [],
      "source": [
        "y_pred"
      ]
    },
    {
      "cell_type": "code",
      "execution_count": null,
      "metadata": {
        "id": "NCP4n7i4U8Df"
      },
      "outputs": [],
      "source": [
        "acc = accuracy_score(y_test, y_pred)\n",
        "print(\"Accuracy:\", acc)"
      ]
    },
    {
      "cell_type": "markdown",
      "metadata": {
        "id": "w8wB-vRDU8ps"
      },
      "source": [
        "# Confusion Matrix"
      ]
    },
    {
      "cell_type": "code",
      "execution_count": null,
      "metadata": {
        "colab": {
          "background_save": true
        },
        "id": "TbpOH5dqU-aP"
      },
      "outputs": [],
      "source": [
        "from sklearn.metrics import confusion_matrix\n",
        "\n",
        "cm = confusion_matrix(y_test, y_pred)\n",
        "print(cm)"
      ]
    },
    {
      "cell_type": "code",
      "execution_count": null,
      "metadata": {
        "colab": {
          "background_save": true
        },
        "id": "YkiwXRJpVAfg"
      },
      "outputs": [],
      "source": [
        "import seaborn as sns\n",
        "sns.heatmap(cm, annot=True)"
      ]
    },
    {
      "cell_type": "markdown",
      "metadata": {
        "id": "rqAfY92iVDCH"
      },
      "source": [
        "# Classification Report"
      ]
    },
    {
      "cell_type": "code",
      "execution_count": null,
      "metadata": {
        "colab": {
          "background_save": true
        },
        "id": "4kWCUFzyVDcn"
      },
      "outputs": [],
      "source": [
        "from sklearn.metrics import classification_report\n",
        "\n",
        "# generate classification report\n",
        "target_names = ['Negative', 'Positive','Neutral','Irrelevant']\n",
        "print(classification_report(y_test, y_pred, target_names=target_names))"
      ]
    },
    {
      "cell_type": "markdown",
      "metadata": {
        "id": "RctLCxmp3FgF"
      },
      "source": [
        "NN\n",
        "non - preproce\n",
        "\n",
        "\n",
        "```\n",
        "precision    recall  f1-score   support\n",
        "\n",
        "    Negative       0.82      0.87      0.85      4297\n",
        "    Positive       0.84      0.82      0.83      4009\n",
        "     Neutral       0.84      0.75      0.79      3592\n",
        "  Irrelevant       0.68      0.73      0.70      2434\n",
        "\n",
        "    accuracy                           0.80     14332\n",
        "   macro avg       0.79      0.79      0.79     14332\n",
        "weighted avg       0.81      0.80      0.80     14332\n",
        "```\n",
        "\n",
        "\n",
        "```\n",
        "precision    recall  f1-score   support\n",
        "\n",
        "    Negative       0.82      0.79      0.81      4297\n",
        "    Positive       0.65      0.73      0.69      4009\n",
        "     Neutral       0.85      0.73      0.79      3592\n",
        "  Irrelevant       0.47      0.49      0.48      2434\n",
        "\n",
        "    accuracy                           0.71     14332\n",
        "   macro avg       0.70      0.69      0.69     14332\n",
        "weighted avg       0.72      0.71      0.71     14332\n",
        "```\n",
        "\n",
        "\n",
        "```\n",
        " precision    recall  f1-score   support\n",
        "\n",
        "    Negative       0.81      0.88      0.85      4297\n",
        "    Positive       0.84      0.84      0.84      4009\n",
        "     Neutral       0.87      0.79      0.83      3592\n",
        "  Irrelevant       0.82      0.80      0.81      2434\n",
        "\n",
        "    accuracy                           0.83     14332\n",
        "   macro avg       0.84      0.83      0.83     14332\n",
        "weighted avg       0.84      0.83      0.83     14332\n",
        "```\n",
        "\n",
        "\n",
        "\n",
        "\n",
        "\n",
        "prepro\n",
        "\n",
        "\n",
        "```\n",
        "    precision    recall  f1-score   support\n",
        "\n",
        "    Negative       0.30      1.00      0.46      4297\n",
        "    Positive       0.00      0.00      0.00      4009\n",
        "     Neutral       0.00      0.00      0.00      3592\n",
        "  Irrelevant       0.00      0.00      0.00      2434\n",
        "\n",
        "    accuracy                           0.30     14332\n",
        "   macro avg       0.07      0.25      0.12     14332\n",
        "weighted avg       0.09      0.30      0.14     14332\n",
        "```\n",
        "\n"
      ]
    },
    {
      "cell_type": "markdown",
      "metadata": {
        "id": "kNjjgISKO1fm"
      },
      "source": [
        "  \n",
        "NO NLP\n",
        "```\n",
        "              precision    recall  f1-score   support\n",
        "\n",
        "    Negative       0.70      0.86      0.77      4297\n",
        "    Positive       0.73      0.81      0.76      4009\n",
        "     Neutral       0.83      0.63      0.72      3592\n",
        "       other       0.81      0.62      0.70      2434\n",
        "\n",
        "    accuracy                           0.75     14332\n",
        "    macro avg       0.77      0.73      0.74     14332\n",
        "    weighted avg       0.76      0.75      0.74     14332\n",
        "```\n",
        "\n",
        "\n",
        "```\n",
        "     precision    recall  f1-score   support\n",
        "\n",
        "    Negative       0.92      0.95      0.93      4297\n",
        "    Positive       0.91      0.93      0.92      4009\n",
        "     Neutral       0.91      0.92      0.92      3592\n",
        "       other       0.98      0.87      0.92      2434\n",
        "\n",
        "    accuracy                           0.92     14332\n",
        "   macro avg       0.93      0.92      0.92     14332\n",
        "weighted avg       0.92      0.92      0.92     14332\n",
        "```\n",
        "\n",
        "\n",
        "NLP\n",
        "\n",
        "\n",
        "```\n",
        " precision    recall  f1-score   support\n",
        "\n",
        "    Negative       0.68      0.85      0.76      4297\n",
        "    Positive       0.71      0.78      0.75      4009\n",
        "     Neutral       0.81      0.64      0.71      3592\n",
        "       other       0.81      0.61      0.70      2434\n",
        "\n",
        "    accuracy                           0.74     14332\n",
        "   macro avg       0.76      0.72      0.73     14332\n",
        "weighted avg       0.75      0.74      0.73     14332\n",
        "```\n",
        "RDF \n",
        "n = 10\n",
        "\n",
        "```\n",
        "     precision    recall  f1-score   support\n",
        "\n",
        "    Negative       0.88      0.91      0.89      4297\n",
        "    Positive       0.82      0.92      0.86      4009\n",
        "     Neutral       0.92      0.85      0.88      3592\n",
        "       other       0.94      0.81      0.87      2434\n",
        "\n",
        "    accuracy                           0.88     14332\n",
        "   macro avg       0.89      0.87      0.88     14332\n",
        "weighted avg       0.88      0.88      0.88     14332\n",
        "\n",
        "```\n",
        "n = 100\n",
        "\n",
        "\n",
        "```\n",
        "  precision    recall  f1-score   support\n",
        "\n",
        "    Negative       0.91      0.92      0.92      4297\n",
        "    Positive       0.85      0.93      0.89      4009\n",
        "     Neutral       0.94      0.88      0.91      3592\n",
        "       other       0.96      0.85      0.90      2434\n",
        "\n",
        "    accuracy                           0.90     14332\n",
        "   macro avg       0.91      0.90      0.90     14332\n",
        "weighted avg       0.91      0.90      0.90     14332\n",
        "```\n",
        "\n",
        "\n",
        "\n",
        "\n",
        "\n",
        "\n",
        "\n",
        "\n",
        "\n"
      ]
    },
    {
      "cell_type": "markdown",
      "metadata": {
        "id": "ffrEpiDvdhrv"
      },
      "source": [
        "# validate"
      ]
    },
    {
      "cell_type": "code",
      "execution_count": null,
      "metadata": {
        "id": "s8CAKchpdkhX"
      },
      "outputs": [],
      "source": [
        "test = pd.read_csv('/content/twitter_validation.csv',header=None)"
      ]
    },
    {
      "cell_type": "code",
      "execution_count": null,
      "metadata": {
        "id": "UjhD2a7Odu7_"
      },
      "outputs": [],
      "source": [
        "test = test.rename(columns={0: \"Id\",1:\"entity\",2:\"sentiment\",3:\"Tweet_content\"})"
      ]
    },
    {
      "cell_type": "code",
      "execution_count": null,
      "metadata": {
        "id": "xVFNZC3neQOA"
      },
      "outputs": [],
      "source": [
        "vtest=test['new_sent']"
      ]
    },
    {
      "cell_type": "code",
      "execution_count": null,
      "metadata": {
        "id": "TpMk-HnGexKO"
      },
      "outputs": [],
      "source": [
        "pred = clf.predict(test)"
      ]
    },
    {
      "cell_type": "code",
      "execution_count": null,
      "metadata": {
        "id": "njjDHTuge0ri"
      },
      "outputs": [],
      "source": [
        "pred"
      ]
    }
  ],
  "metadata": {
    "accelerator": "GPU",
    "colab": {
      "provenance": [],
      "include_colab_link": true
    },
    "gpuClass": "standard",
    "kernelspec": {
      "display_name": "Python 3",
      "name": "python3"
    },
    "language_info": {
      "name": "python"
    }
  },
  "nbformat": 4,
  "nbformat_minor": 0
}