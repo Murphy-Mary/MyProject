{
  "cells": [
    {
      "cell_type": "markdown",
      "metadata": {
        "id": "view-in-github",
        "colab_type": "text"
      },
      "source": [
        "<a href=\"https://colab.research.google.com/github/Murphy-Mary/MyProject/blob/main/game_recommendations_on_steam.ipynb\" target=\"_parent\"><img src=\"https://colab.research.google.com/assets/colab-badge.svg\" alt=\"Open In Colab\"/></a>"
      ]
    },
    {
      "cell_type": "markdown",
      "metadata": {
        "id": "9uIPv4sZ5sn_"
      },
      "source": [
        "# Import data\n"
      ]
    },
    {
      "cell_type": "markdown",
      "metadata": {
        "id": "5gcjTvkVTz-S"
      },
      "source": [
        "souce : https://www.kaggle.com/datasets/antonkozyriev/game-recommendations-on-steam"
      ]
    },
    {
      "cell_type": "code",
      "execution_count": 1,
      "metadata": {
        "id": "_5cB2k1T3LJE",
        "colab": {
          "base_uri": "https://localhost:8080/",
          "height": 0
        },
        "outputId": "d066746b-512e-43c2-a49d-c0cf1045d714"
      },
      "outputs": [
        {
          "output_type": "stream",
          "name": "stdout",
          "text": [
            "Mounted at /content/gdrive\n",
            "Downloading game-recommendations-on-steam.zip to /content\n",
            "100% 112M/112M [00:00<00:00, 160MB/s] \n",
            "100% 112M/112M [00:00<00:00, 127MB/s]\n",
            "Archive:  /content/game-recommendations-on-steam.zip\n",
            "  inflating: games.csv               \n",
            "  inflating: games_metadata.json     \n",
            "  inflating: recommendations.csv     \n",
            "  inflating: users.csv               \n"
          ]
        }
      ],
      "source": [
        "from google.colab import drive\n",
        "drive.mount('/content/gdrive')\n",
        "\n",
        "import os\n",
        "os.environ['KAGGLE_CONFIG_DIR'] = \"/content/gdrive/My Drive/Kaggle\"\n",
        "\n",
        "!kaggle datasets download -d antonkozyriev/game-recommendations-on-steam\n",
        "!unzip /content/game-recommendations-on-steam.zip && rm /content/game-recommendations-on-steam.zip"
      ]
    },
    {
      "cell_type": "code",
      "execution_count": 2,
      "metadata": {
        "colab": {
          "base_uri": "https://localhost:8080/",
          "height": 0
        },
        "id": "X_5ZxVQ99DB5",
        "outputId": "55e323e8-5124-4ab1-fc03-fad4d94904a3"
      },
      "outputs": [
        {
          "output_type": "stream",
          "name": "stdout",
          "text": [
            "\r0% [Working]\r            \rGet:1 https://cloud.r-project.org/bin/linux/ubuntu focal-cran40/ InRelease [3,622 B]\n",
            "\r0% [Waiting for headers] [Waiting for headers] [1 InRelease 0 B/3,622 B 0%] [Wa\r0% [Waiting for headers] [Waiting for headers] [Waiting for headers] [Waiting f\r                                                                               \rGet:2 http://security.ubuntu.com/ubuntu focal-security InRelease [114 kB]\n",
            "\r0% [Waiting for headers] [2 InRelease 14.2 kB/114 kB 12%] [Waiting for headers]\r                                                                               \rHit:3 http://archive.ubuntu.com/ubuntu focal InRelease\n",
            "\r0% [Waiting for headers] [2 InRelease 22.9 kB/114 kB 20%] [Waiting for headers]\r                                                                               \rHit:4 http://ppa.launchpad.net/c2d4u.team/c2d4u4.0+/ubuntu focal InRelease\n",
            "Ign:5 https://developer.download.nvidia.com/compute/machine-learning/repos/ubuntu2004/x86_64  InRelease\n",
            "Hit:6 https://developer.download.nvidia.com/compute/cuda/repos/ubuntu2004/x86_64  InRelease\n",
            "Hit:7 https://developer.download.nvidia.com/compute/machine-learning/repos/ubuntu2004/x86_64  Release\n",
            "Get:8 http://archive.ubuntu.com/ubuntu focal-updates InRelease [114 kB]\n",
            "Hit:9 http://ppa.launchpad.net/cran/libgit2/ubuntu focal InRelease\n",
            "Hit:10 http://ppa.launchpad.net/deadsnakes/ppa/ubuntu focal InRelease\n",
            "Get:11 http://archive.ubuntu.com/ubuntu focal-backports InRelease [108 kB]\n",
            "Hit:12 http://ppa.launchpad.net/graphics-drivers/ppa/ubuntu focal InRelease\n",
            "Hit:13 http://ppa.launchpad.net/ubuntugis/ppa/ubuntu focal InRelease\n",
            "Get:15 http://security.ubuntu.com/ubuntu focal-security/main amd64 Packages [2,496 kB]\n",
            "Get:16 http://security.ubuntu.com/ubuntu focal-security/universe amd64 Packages [1,000 kB]\n",
            "Get:17 http://archive.ubuntu.com/ubuntu focal-updates/restricted amd64 Packages [2,069 kB]\n",
            "Get:18 http://archive.ubuntu.com/ubuntu focal-updates/main amd64 Packages [2,972 kB]\n",
            "Get:19 http://archive.ubuntu.com/ubuntu focal-updates/universe amd64 Packages [1,299 kB]\n",
            "Fetched 10.2 MB in 3s (3,104 kB/s)\n",
            "Reading package lists... Done\n"
          ]
        }
      ],
      "source": [
        "!apt-get update"
      ]
    },
    {
      "cell_type": "code",
      "execution_count": 3,
      "metadata": {
        "colab": {
          "base_uri": "https://localhost:8080/",
          "height": 0
        },
        "id": "yImMt6v56jww",
        "outputId": "cb9c0163-fe9f-4399-9ab7-9d970636c645"
      },
      "outputs": [
        {
          "output_type": "stream",
          "name": "stdout",
          "text": [
            "--2023-02-27 06:43:29--  http://apache.osuosl.org/spark/spark-3.3.2/spark-3.3.2-bin-hadoop3.tgz\n",
            "Resolving apache.osuosl.org (apache.osuosl.org)... 140.211.166.134, 64.50.236.52, 64.50.233.100, ...\n",
            "Connecting to apache.osuosl.org (apache.osuosl.org)|140.211.166.134|:80... connected.\n",
            "HTTP request sent, awaiting response... 200 OK\n",
            "Length: 299360284 (285M) [application/x-gzip]\n",
            "Saving to: ‘spark-3.3.2-bin-hadoop3.tgz’\n",
            "\n",
            "spark-3.3.2-bin-had 100%[===================>] 285.49M  35.8MB/s    in 1m 48s  \n",
            "\n",
            "2023-02-27 06:45:17 (2.64 MB/s) - ‘spark-3.3.2-bin-hadoop3.tgz’ saved [299360284/299360284]\n",
            "\n",
            "\u001b[2K     \u001b[90m━━━━━━━━━━━━━━━━━━━━━━━━━━━━━━━━━━━━━━━━\u001b[0m \u001b[32m57.7/57.7 KB\u001b[0m \u001b[31m2.2 MB/s\u001b[0m eta \u001b[36m0:00:00\u001b[0m\n",
            "\u001b[2K     \u001b[90m━━━━━━━━━━━━━━━━━━━━━━━━━━━━━━━━━━━━━━━━\u001b[0m \u001b[32m1.6/1.6 MB\u001b[0m \u001b[31m14.2 MB/s\u001b[0m eta \u001b[36m0:00:00\u001b[0m\n",
            "\u001b[?25h3.3.2\n"
          ]
        }
      ],
      "source": [
        "#Get Install the Java Development Kit\n",
        "!apt-get install openjdk-8-jdk-headless -qq > /dev/null\n",
        "#Get Spark lib -- address need to be change according to the current version of Spark: https://downloads.apache.org/spark/\n",
        "!wget  http://apache.osuosl.org/spark/spark-3.3.2/spark-3.3.2-bin-hadoop3.tgz\n",
        "#Unzip th Spark\n",
        "!tar xf spark-3.3.2-bin-hadoop3.tgz\n",
        "!rm spark-3.3.2-bin-hadoop3.tgz\n",
        "#install findspark for Python\n",
        "!pip install -q findspark\n",
        "#Install extra lib(s)\n",
        "!pip install -q xlrd\n",
        "!pip install -q kaggle\n",
        "!pip install -q kora\n",
        "\n",
        "#import and set environment for spark\n",
        "os.environ[\"JAVA_HOME\"] = \"/usr/lib/jvm/java-8-openjdk-amd64\"\n",
        "os.environ[\"SPARK_HOME\"] = \"/content/spark-3.3.2-bin-hadoop3\"\n",
        "import kora\n",
        "\n",
        "import findspark\n",
        "findspark.init()\n",
        "from pyspark import SparkContext\n",
        "from pyspark.sql import SparkSession\n",
        "\n",
        "\n",
        "SPARK_URL = \"local[*]\"\n",
        "\n",
        "spark = SparkSession.builder.master(SPARK_URL).getOrCreate()\n",
        "\n",
        "# Check the pyspark version\n",
        "import pyspark\n",
        "print(pyspark.__version__)"
      ]
    },
    {
      "cell_type": "code",
      "execution_count": 4,
      "metadata": {
        "colab": {
          "base_uri": "https://localhost:8080/",
          "height": 0
        },
        "id": "hPfNL1sABeDz",
        "outputId": "913bbf05-3b92-457b-ef44-f4f436e22ced"
      },
      "outputs": [
        {
          "output_type": "stream",
          "name": "stdout",
          "text": [
            "Looking in indexes: https://pypi.org/simple, https://us-python.pkg.dev/colab-wheels/public/simple/\n",
            "Collecting pyspark_dist_explore\n",
            "  Downloading pyspark_dist_explore-0.1.8-py3-none-any.whl (7.2 kB)\n",
            "Requirement already satisfied: pandas in /usr/local/lib/python3.8/dist-packages (from pyspark_dist_explore) (1.3.5)\n",
            "Requirement already satisfied: numpy in /usr/local/lib/python3.8/dist-packages (from pyspark_dist_explore) (1.22.4)\n",
            "Requirement already satisfied: scipy in /usr/local/lib/python3.8/dist-packages (from pyspark_dist_explore) (1.7.3)\n",
            "Requirement already satisfied: matplotlib in /usr/local/lib/python3.8/dist-packages (from pyspark_dist_explore) (3.5.3)\n",
            "Requirement already satisfied: python-dateutil>=2.7 in /usr/local/lib/python3.8/dist-packages (from matplotlib->pyspark_dist_explore) (2.8.2)\n",
            "Requirement already satisfied: pillow>=6.2.0 in /usr/local/lib/python3.8/dist-packages (from matplotlib->pyspark_dist_explore) (7.1.2)\n",
            "Requirement already satisfied: fonttools>=4.22.0 in /usr/local/lib/python3.8/dist-packages (from matplotlib->pyspark_dist_explore) (4.38.0)\n",
            "Requirement already satisfied: pyparsing>=2.2.1 in /usr/local/lib/python3.8/dist-packages (from matplotlib->pyspark_dist_explore) (3.0.9)\n",
            "Requirement already satisfied: cycler>=0.10 in /usr/local/lib/python3.8/dist-packages (from matplotlib->pyspark_dist_explore) (0.11.0)\n",
            "Requirement already satisfied: kiwisolver>=1.0.1 in /usr/local/lib/python3.8/dist-packages (from matplotlib->pyspark_dist_explore) (1.4.4)\n",
            "Requirement already satisfied: packaging>=20.0 in /usr/local/lib/python3.8/dist-packages (from matplotlib->pyspark_dist_explore) (23.0)\n",
            "Requirement already satisfied: pytz>=2017.3 in /usr/local/lib/python3.8/dist-packages (from pandas->pyspark_dist_explore) (2022.7.1)\n",
            "Requirement already satisfied: six>=1.5 in /usr/local/lib/python3.8/dist-packages (from python-dateutil>=2.7->matplotlib->pyspark_dist_explore) (1.15.0)\n",
            "Installing collected packages: pyspark_dist_explore\n",
            "Successfully installed pyspark_dist_explore-0.1.8\n"
          ]
        }
      ],
      "source": [
        "!pip install pyspark_dist_explore"
      ]
    },
    {
      "cell_type": "code",
      "execution_count": 5,
      "metadata": {
        "colab": {
          "base_uri": "https://localhost:8080/",
          "height": 0
        },
        "id": "c4u7xPYE44mB",
        "outputId": "173c486c-63bf-492f-88f2-d32de8c9788a"
      },
      "outputs": [
        {
          "output_type": "stream",
          "name": "stderr",
          "text": [
            "/content/spark-3.3.2-bin-hadoop3/python/pyspark/sql/context.py:112: FutureWarning: Deprecated in 3.0.0. Use SparkSession.builder.getOrCreate() instead.\n",
            "  warnings.warn(\n"
          ]
        }
      ],
      "source": [
        "import numpy as np \n",
        "import pandas as pd\n",
        "import pyspark.sql.functions as f\n",
        "import matplotlib.pyplot as plt\n",
        "import seaborn as sns\n",
        "\n",
        "from IPython.display import display, HTML, display_html #usefull to display wide tables\n",
        "from pyspark_dist_explore import Histogram, hist, distplot, pandas_histogram\n",
        "from pyspark.sql import Row\n",
        "\n",
        "from pyspark.sql.functions import lit\n",
        "from pyspark import SparkConf\n",
        "from pyspark import SparkContext\n",
        "sc = SparkContext.getOrCreate(SparkConf().setMaster(\"local[*]\"))\n",
        "\n",
        "#sc = pyspark.SparkContext()\n",
        "sqlContext = pyspark.SQLContext(sc)\n",
        "%matplotlib inline"
      ]
    },
    {
      "cell_type": "markdown",
      "metadata": {
        "id": "O_po6boIaWOH"
      },
      "source": [
        "## data"
      ]
    },
    {
      "cell_type": "code",
      "execution_count": 6,
      "metadata": {
        "colab": {
          "base_uri": "https://localhost:8080/",
          "height": 0
        },
        "id": "r_y867ze4_ow",
        "outputId": "b58c7fc8-348e-489e-d6cf-f24b8f56460c"
      },
      "outputs": [
        {
          "output_type": "stream",
          "name": "stdout",
          "text": [
            "root\n",
            " |-- app_id: long (nullable = true)\n",
            " |-- description: string (nullable = true)\n",
            " |-- tags: array (nullable = true)\n",
            " |    |-- element: string (containsNull = true)\n",
            "\n",
            "+------+--------------------+--------------------+\n",
            "|app_id|         description|                tags|\n",
            "+------+--------------------+--------------------+\n",
            "| 10090|Call of Duty is b...|[Zombies, World W...|\n",
            "| 13500|Enter the dark un...|[Action, Adventur...|\n",
            "| 22364|                    |            [Action]|\n",
            "|113020|Monaco: What's Yo...|[Co-op, Stealth, ...|\n",
            "|226560|Escape Dead Islan...|[Zombies, Adventu...|\n",
            "|249050|Dungeon of the En...|[Roguelike, Strat...|\n",
            "|250180|“METAL SLUG 3”, t...|[Arcade, Classic,...|\n",
            "|253980|Experience incred...|[RPG, Action, Fan...|\n",
            "|261550|A strategy/action...|[Medieval, Strate...|\n",
            "|271850|                    |[Strategy, Simula...|\n",
            "|282900|Packed with fast-...|[Anime, JRPG, Fem...|\n",
            "| 19810|Lead a team of do...|  [Action, Tactical]|\n",
            "| 15270|In a ferocious Ar...|[Horror, Action, ...|\n",
            "| 21130|Build the adventu...|[LEGO, Adventure,...|\n",
            "| 22130|Includes Hearts o...|[Strategy, Grand ...|\n",
            "| 29180|Enter the ambient...|[Indie, Casual, P...|\n",
            "| 32750|The best-selling ...|[Action, Simulati...|\n",
            "|241620|Action-oriented c...|[RPG, Indie, Isom...|\n",
            "|244910|Explore an abando...|[Atmospheric, Puz...|\n",
            "|245950|                    |[Action, RPG, FPS...|\n",
            "+------+--------------------+--------------------+\n",
            "only showing top 20 rows\n",
            "\n"
          ]
        }
      ],
      "source": [
        "game_tags = spark.read.json(\"/content/games_metadata.json\")\n",
        "game_tags.printSchema()\n",
        "game_tags.show()"
      ]
    },
    {
      "cell_type": "code",
      "execution_count": 7,
      "metadata": {
        "colab": {
          "base_uri": "https://localhost:8080/",
          "height": 0
        },
        "id": "BWt_TYOH5Eyz",
        "outputId": "df414b8d-0358-42ad-97ea-7981b7bcc9b5"
      },
      "outputs": [
        {
          "output_type": "execute_result",
          "data": {
            "text/plain": [
              "21236"
            ]
          },
          "metadata": {},
          "execution_count": 7
        }
      ],
      "source": [
        "game_tags.count()"
      ]
    },
    {
      "cell_type": "code",
      "execution_count": 8,
      "metadata": {
        "colab": {
          "base_uri": "https://localhost:8080/",
          "height": 0
        },
        "id": "F2JckxI2sc_0",
        "outputId": "abeba6de-3028-4daf-d4f5-57d871f4c549"
      },
      "outputs": [
        {
          "output_type": "stream",
          "name": "stdout",
          "text": [
            "root\n",
            " |-- app_id: string (nullable = true)\n",
            " |-- title: string (nullable = true)\n",
            " |-- date_release: string (nullable = true)\n",
            " |-- win: string (nullable = true)\n",
            " |-- mac: string (nullable = true)\n",
            " |-- linux: string (nullable = true)\n",
            " |-- rating: string (nullable = true)\n",
            " |-- positive_ratio: string (nullable = true)\n",
            " |-- user_reviews: double (nullable = true)\n",
            " |-- price_final: double (nullable = true)\n",
            " |-- price_original: double (nullable = true)\n",
            " |-- discount: double (nullable = true)\n",
            " |-- steam_deck: string (nullable = true)\n",
            "\n",
            "+------+--------------------+------------+----+-----+-----+---------------+--------------+------------+-----------+--------------+--------+----------+\n",
            "|app_id|               title|date_release| win|  mac|linux|         rating|positive_ratio|user_reviews|price_final|price_original|discount|steam_deck|\n",
            "+------+--------------------+------------+----+-----+-----+---------------+--------------+------------+-----------+--------------+--------+----------+\n",
            "| 10090|Call of Duty: Wor...|  2008-11-18|true|false|false|  Very Positive|            92|     37039.0|      19.99|         19.99|     0.0|      true|\n",
            "| 13500|Prince of Persia:...|  2008-11-21|true|false|false|  Very Positive|            84|      2199.0|       9.99|          9.99|     0.0|      true|\n",
            "| 22364|BRINK: Agents of ...|  2011-08-03|true|false|false|       Positive|            85|        21.0|       2.99|          2.99|     0.0|      true|\n",
            "|113020|Monaco: What's Yo...|  2013-04-24|true| true| true|  Very Positive|            92|      3722.0|      14.99|         14.99|     0.0|      true|\n",
            "|226560|  Escape Dead Island|  2014-11-18|true|false|false|          Mixed|            61|       873.0|      14.99|         14.99|     0.0|      true|\n",
            "|249050|Dungeon of the EN...|  2014-10-27|true| true|false|  Very Positive|            88|      8784.0|      11.99|         11.99|     0.0|      true|\n",
            "|250180|        METAL SLUG 3|  2015-09-14|true|false|false|  Very Positive|            90|      5579.0|       7.99|          7.99|     0.0|      true|\n",
            "|253980|             Enclave|  2013-10-04|true| true| true|Mostly Positive|            75|      1608.0|       4.99|          4.99|     0.0|      true|\n",
            "|261550|Mount & Blade II:...|  2022-10-25|true|false|false|  Very Positive|            87|    169694.0|      49.99|         49.99|     0.0|      true|\n",
            "|271850|Men of War: Assau...|  2014-05-16|true|false|false|          Mixed|            61|       199.0|       6.99|          6.99|     0.0|      true|\n",
            "|282900|Hyperdimension Ne...|  2015-01-29|true|false|false|  Very Positive|            94|      9686.0|      14.99|         14.99|     0.0|      true|\n",
            "| 19810|The Sum of All Fears|  2008-10-10|true|false|false|Mostly Positive|            75|        33.0|       9.99|          9.99|     0.0|      true|\n",
            "| 15270|          Cold Fear™|  2008-05-13|true|false|false|  Very Positive|            85|       800.0|       9.99|          9.99|     0.0|      true|\n",
            "| 21130|LEGO® Harry Potte...|  2010-06-25|true|false|false|  Very Positive|            85|      5169.0|      19.99|         19.99|     0.0|      true|\n",
            "| 22130|Hearts of Iron 2 ...|  2009-01-23|true|false|false|  Very Positive|            85|       462.0|      14.99|         14.99|     0.0|      true|\n",
            "| 29180|               Osmos|  2009-08-18|true| true| true|  Very Positive|            88|       532.0|       9.99|          9.99|     0.0|      true|\n",
            "| 32750|          Comanche 4|  2009-06-18|true|false|false|  Very Positive|            90|       222.0|       9.99|          9.99|     0.0|      true|\n",
            "|241620|          Inquisitor|  2013-08-01|true|false|false|Mostly Positive|            70|       390.0|       9.99|          9.99|     0.0|      true|\n",
            "|244910|            Homesick|  2015-05-28|true|false|false|Mostly Positive|            77|      1139.0|      14.99|         14.99|     0.0|      true|\n",
            "|245950|Borderlands 2: He...|  2014-02-11|true| true| true|  Very Positive|            84|       294.0|       0.89|          2.99|    70.0|      true|\n",
            "+------+--------------------+------------+----+-----+-----+---------------+--------------+------------+-----------+--------------+--------+----------+\n",
            "only showing top 20 rows\n",
            "\n"
          ]
        }
      ],
      "source": [
        "game = spark.read.csv('/content/games.csv',header=True)\n",
        "# c0ls = [\"user_reviews\",\"price_final\",\"price_original\",\"discount\"]\n",
        "game = game.withColumn(\"user_reviews\",game.user_reviews.cast('double'))\n",
        "game = game.withColumn(\"price_final\",game.price_final.cast('double'))\n",
        "game = game.withColumn(\"price_original\",game.price_original.cast('double'))\n",
        "game = game.withColumn(\"discount\",game.discount.cast('double'))\n",
        "# game = game.withColumn(\"mac\",game.date_release.cast('Boolean'))\n",
        "# game = game.withColumn(\"mac\",game.date_release.cast('Boolean'))\n",
        "# game = game.withColumn(\"win\",game.date_release.cast('Boolean'))\n",
        "# game = game.withColumn(\"steam_deck\",game.date_release.cast('Boolean'))\n",
        "game.printSchema()\n",
        "game.show()"
      ]
    },
    {
      "cell_type": "code",
      "execution_count": 9,
      "metadata": {
        "colab": {
          "base_uri": "https://localhost:8080/",
          "height": 0
        },
        "id": "4ESV2mxR5IKI",
        "outputId": "2cee76a7-2fa3-4e3c-a6ff-317543319d9e"
      },
      "outputs": [
        {
          "output_type": "execute_result",
          "data": {
            "text/plain": [
              "21236"
            ]
          },
          "metadata": {},
          "execution_count": 9
        }
      ],
      "source": [
        "game.count()"
      ]
    },
    {
      "cell_type": "code",
      "execution_count": 10,
      "metadata": {
        "colab": {
          "base_uri": "https://localhost:8080/",
          "height": 0
        },
        "id": "c5NjzTtw5au4",
        "outputId": "26021aae-7d9c-4bc6-fd2e-f4954235257f"
      },
      "outputs": [
        {
          "output_type": "stream",
          "name": "stdout",
          "text": [
            "root\n",
            " |-- app_id: string (nullable = true)\n",
            " |-- helpful: string (nullable = true)\n",
            " |-- funny: string (nullable = true)\n",
            " |-- date: date (nullable = true)\n",
            " |-- is_recommended: boolean (nullable = true)\n",
            " |-- hours: double (nullable = true)\n",
            " |-- user_id: string (nullable = true)\n",
            " |-- review_id: string (nullable = true)\n",
            "\n",
            "+-------+-------+-----+----------+--------------+-----+-------+---------+\n",
            "| app_id|helpful|funny|      date|is_recommended|hours|user_id|review_id|\n",
            "+-------+-------+-----+----------+--------------+-----+-------+---------+\n",
            "| 975370|      0|    0|2022-12-12|          true| 36.3|  14546|        0|\n",
            "| 304390|      4|    0|2017-02-17|         false| 11.5|    797|        1|\n",
            "|1085660|      2|    0|2019-11-17|          true|336.5|  66915|        2|\n",
            "| 703080|      0|    0|2022-09-23|          true| 27.4|  68251|        3|\n",
            "| 526870|      0|    0|2021-01-10|          true|  7.9|   6647|        4|\n",
            "| 306130|      0|    0|2021-10-10|          true|  8.6|  12866|        5|\n",
            "| 238960|      0|    0|2017-11-25|          true|538.8|  24829|        6|\n",
            "|    730|      0|    0|2021-11-30|         false|157.5|  17828|        7|\n",
            "| 255710|      0|    0|2021-05-21|          true| 18.7|  92535|        8|\n",
            "| 289070|      0|    0|2020-05-26|          true|397.5| 118575|        9|\n",
            "| 431960|      0|    0|2020-10-14|          true| 30.3|  53439|       10|\n",
            "|1086940|      0|    0|2020-10-07|          true| 50.0|  24147|       11|\n",
            "|1938090|      0|    0|2022-11-16|          true| 46.7|  43688|       12|\n",
            "|1286830|      2|    0|2020-07-26|          true| 19.3|  31750|       13|\n",
            "|1172620|      0|    0|2020-11-04|          true| 89.1|  34233|       14|\n",
            "| 306130|      0|    0|2021-05-12|          true| 61.1|  21306|       15|\n",
            "| 635260|      0|    0|2022-01-30|          true|177.0|  21626|       16|\n",
            "|1151340|      0|    0|2020-07-01|          true| 86.3|  34784|       17|\n",
            "| 289070|      0|    0|2020-05-29|          true|244.1|  68828|       18|\n",
            "| 392160|      3|    0|2018-12-26|         false|320.5| 106504|       19|\n",
            "+-------+-------+-----+----------+--------------+-----+-------+---------+\n",
            "only showing top 20 rows\n",
            "\n"
          ]
        }
      ],
      "source": [
        "recomm = spark.read.csv('/content/recommendations.csv',header=True)\n",
        "recomm = recomm.withColumn(\"date\",recomm.date.cast('date'))\n",
        "recomm = recomm.withColumn(\"is_recommended\",recomm.is_recommended.cast('Boolean'))\n",
        "recomm = recomm.withColumn(\"hours\",recomm.hours.cast('double'))\n",
        "recomm.printSchema()\n",
        "recomm.show()"
      ]
    },
    {
      "cell_type": "code",
      "source": [
        "recomm.orderBy(f.col(\"date\")).show()"
      ],
      "metadata": {
        "colab": {
          "base_uri": "https://localhost:8080/",
          "height": 0
        },
        "id": "U8xCHSYukqZf",
        "outputId": "288c228a-392c-4558-88c1-70155b084d4c"
      },
      "execution_count": 11,
      "outputs": [
        {
          "output_type": "stream",
          "name": "stdout",
          "text": [
            "+------+-------+-----+----------+--------------+-----+-------+---------+\n",
            "|app_id|helpful|funny|      date|is_recommended|hours|user_id|review_id|\n",
            "+------+-------+-----+----------+--------------+-----+-------+---------+\n",
            "|   550|      8|    0|2010-10-15|          true|128.0|2216180|  5974080|\n",
            "|  4000|      4|    0|2010-10-16|          true|263.0|3004524|  2082190|\n",
            "|   440|      6|    0|2010-10-16|          true|921.1|1339155|  4349757|\n",
            "|  4000|     12|    2|2010-10-16|          true|866.8|3242169|  1411607|\n",
            "|   550|      4|    0|2010-10-17|          true|664.3|3375569|  1062495|\n",
            "|   440|      5|    0|2010-10-18|          true|338.9|2736019|   988084|\n",
            "| 22380|      8|    0|2010-10-20|          true|448.8|2237500|  3261867|\n",
            "| 22380|      2|    0|2010-10-20|          true|158.5|2336036|   919066|\n",
            "| 22380|      0|    0|2010-10-29|          true| 34.3|2298236|  1305073|\n",
            "| 42700|      0|    0|2010-11-03|          true| 24.2|2472269|    60894|\n",
            "| 42700|      0|    0|2010-11-03|          true|  8.3|3081059|  4173736|\n",
            "|   550|      2|    0|2010-11-03|          true|717.1|3355148|  4343753|\n",
            "| 42700|      0|    0|2010-11-17|          true| 21.8|1238939|  2233801|\n",
            "| 42700|      0|    0|2010-11-17|          true| 16.2|3294657|  5476399|\n",
            "| 42700|      0|    0|2010-11-18|          true|  8.7|2545766|  4583617|\n",
            "| 22380|      3|    0|2010-11-19|          true|305.8|3464795|  3619459|\n",
            "| 42700|      0|    0|2010-11-19|          true| 13.8|2937577|  4231262|\n",
            "| 42700|      0|    0|2010-11-19|         false| 20.9|3478394|  3612551|\n",
            "| 22380|      2|    0|2010-11-19|          true| 28.8|2685703|  4248932|\n",
            "| 42700|      0|    0|2010-11-19|          true| 12.2|3587677|  3638322|\n",
            "+------+-------+-----+----------+--------------+-----+-------+---------+\n",
            "only showing top 20 rows\n",
            "\n"
          ]
        }
      ]
    },
    {
      "cell_type": "code",
      "execution_count": 12,
      "metadata": {
        "colab": {
          "base_uri": "https://localhost:8080/",
          "height": 0
        },
        "id": "ouS-EIb15MmR",
        "outputId": "771fd5ee-546b-4938-dec0-83daadc9a753"
      },
      "outputs": [
        {
          "output_type": "execute_result",
          "data": {
            "text/plain": [
              "6126803"
            ]
          },
          "metadata": {},
          "execution_count": 12
        }
      ],
      "source": [
        "recomm.count()"
      ]
    },
    {
      "cell_type": "code",
      "execution_count": 13,
      "metadata": {
        "colab": {
          "base_uri": "https://localhost:8080/",
          "height": 0
        },
        "id": "Ir_n3_qPtbX1",
        "outputId": "b81ff4f9-bab5-4e53-d95c-9f398f39dac8"
      },
      "outputs": [
        {
          "output_type": "stream",
          "name": "stdout",
          "text": [
            "root\n",
            " |-- user_id: string (nullable = true)\n",
            " |-- products: string (nullable = true)\n",
            " |-- reviews: string (nullable = true)\n",
            "\n",
            "+-------+--------+-------+\n",
            "|user_id|products|reviews|\n",
            "+-------+--------+-------+\n",
            "|4154727|     156|      1|\n",
            "|2637640|     329|      2|\n",
            "|1438551|     176|      1|\n",
            "|1549343|      98|      2|\n",
            "|1712796|     144|      2|\n",
            "|2832252|     229|      1|\n",
            "|3004113|     187|      1|\n",
            "|3128965|    1824|      1|\n",
            "|3274807|      12|      1|\n",
            "|3395007|    1319|      1|\n",
            "|3407667|    1903|      3|\n",
            "|3619475|     352|      1|\n",
            "|3788372|     107|      1|\n",
            "|4067577|     587|      3|\n",
            "| 274637|     321|      2|\n",
            "| 360193|     166|      1|\n",
            "| 546655|     752|      1|\n",
            "| 853991|     179|      1|\n",
            "|1119958|     325|      1|\n",
            "|1266621|     115|      1|\n",
            "+-------+--------+-------+\n",
            "only showing top 20 rows\n",
            "\n"
          ]
        }
      ],
      "source": [
        "user = spark.read.csv('/content/users.csv',header=True)\n",
        "user.printSchema()\n",
        "user.show()"
      ]
    },
    {
      "cell_type": "code",
      "execution_count": 14,
      "metadata": {
        "colab": {
          "base_uri": "https://localhost:8080/",
          "height": 0
        },
        "id": "DemaH1ll5O2S",
        "outputId": "eeea6c51-1320-4183-ba30-05c6d8b4383e"
      },
      "outputs": [
        {
          "output_type": "execute_result",
          "data": {
            "text/plain": [
              "4240753"
            ]
          },
          "metadata": {},
          "execution_count": 14
        }
      ],
      "source": [
        "user.count()"
      ]
    },
    {
      "cell_type": "markdown",
      "metadata": {
        "id": "FwV-btcit2FE"
      },
      "source": [
        "# Prepare Section"
      ]
    },
    {
      "cell_type": "code",
      "execution_count": 15,
      "metadata": {
        "id": "0Xtc7csGNstL"
      },
      "outputs": [],
      "source": [
        "game_tng = game.join(game_tags,[\"app_id\"],\"full\")"
      ]
    },
    {
      "cell_type": "code",
      "execution_count": 16,
      "metadata": {
        "colab": {
          "base_uri": "https://localhost:8080/",
          "height": 0
        },
        "id": "yORzFdI2Ns6-",
        "outputId": "e43c7eb3-8824-4f25-a958-652d738b1cb3"
      },
      "outputs": [
        {
          "output_type": "stream",
          "name": "stdout",
          "text": [
            "+------+--------------------+------------+----+-----+-----+--------------------+--------------+------------+-----------+--------------+--------+----------+--------------------+--------------------+\n",
            "|app_id|               title|date_release| win|  mac|linux|              rating|positive_ratio|user_reviews|price_final|price_original|discount|steam_deck|         description|                tags|\n",
            "+------+--------------------+------------+----+-----+-----+--------------------+--------------+------------+-----------+--------------+--------+----------+--------------------+--------------------+\n",
            "|    10|      Counter-Strike|  2000-11-01|true| true| true|Overwhelmingly Po...|            97|    132250.0|       9.99|          9.99|     0.0|      true|Play the world's ...|[Action, FPS, Mul...|\n",
            "|    50|Half-Life: Opposi...|  1999-11-01|true| true| true|Overwhelmingly Po...|            95|     14057.0|       4.99|          4.99|     0.0|      true|Return to the Bla...|[FPS, Action, Cla...|\n",
            "|   130|Half-Life: Blue S...|  2001-06-01|true| true| true|       Very Positive|            91|     10522.0|       4.99|          4.99|     0.0|      true|Made by Gearbox S...|[FPS, Action, Sci...|\n",
            "|   320|Half-Life 2: Deat...|  2004-11-01|true| true| true|       Very Positive|            89|      7539.0|       4.99|          4.99|     0.0|      true|Fast multiplayer ...|[Action, FPS, Mul...|\n",
            "|   420|Half-Life 2: Epis...|  2007-10-10|true| true| true|Overwhelmingly Po...|            97|     26037.0|       7.99|          7.99|     0.0|      true|Half-Life® 2: Epi...|[FPS, Action, Sci...|\n",
            "|   500|         Left 4 Dead|  2008-11-17|true| true|false|Overwhelmingly Po...|            96|     37937.0|       9.99|          9.99|     0.0|      true|From Valve (the c...|[Zombies, Co-op, ...|\n",
            "|   550|       Left 4 Dead 2|  2009-11-16|true| true| true|Overwhelmingly Po...|            97|    519066.0|       9.99|          9.99|     0.0|      true|Set in the zombie...|[Zombies, Co-op, ...|\n",
            "|   570|              Dota 2|  2013-07-09|true| true| true|       Very Positive|            82|   1930493.0|        0.0|           0.0|     0.0|      true|Every day, millio...|[Free to Play, MO...|\n",
            "|   730|Counter-Strike: G...|  2012-08-21|true| true| true|       Very Positive|            88|   6941137.0|      14.99|           0.0|     0.0|      true|Counter-Strike: G...|[FPS, Shooter, Mu...|\n",
            "|  1002|    Rag Doll Kung Fu|  2005-10-12|true|false|false|     Mostly Positive|            72|        44.0|       0.99|          0.99|     0.0|      true|A piece of Steam ...|[2D Fighter, Mart...|\n",
            "|  1200|Red Orchestra: Os...|  2006-03-14|true| true| true|       Very Positive|            84|      1282.0|       4.99|          4.99|     0.0|      true|Fight in the thea...|[World War II, Ac...|\n",
            "|  1250|       Killing Floor|  2009-05-14|true| true| true|Overwhelmingly Po...|            96|     35989.0|      19.99|         19.99|     0.0|      true|6-player co-op su...|[FPS, Zombies, Co...|\n",
            "|  1256|Killing Floor Out...|  2009-07-24|true| true| true|            Positive|            84|        46.0|       7.99|          7.99|     0.0|      true|                    |            [Action]|\n",
            "|  1257|Killing Floor: Ni...|  2010-05-19|true| true| true|       Very Positive|            89|        57.0|       7.99|          7.99|     0.0|      true|                    |            [Action]|\n",
            "|  1520|              DEFCON|  2012-04-24|true| true| true|       Very Positive|            86|      2864.0|       9.99|          9.99|     0.0|      true|Inspired by the 1...|[Strategy, Indie,...|\n",
            "|  1530|          Multiwinia|  2008-09-19|true| true|false|       Very Positive|            81|       368.0|       9.99|          9.99|     0.0|      true|\"Long ago a compu...|[Indie, RTS, Stra...|\n",
            "|  1640|Disciples II: Gal...|  2006-07-06|true|false|false|       Very Positive|            81|      1112.0|       6.99|          6.99|     0.0|      true|Disciples II: Gal...|[Turn-Based Strat...|\n",
            "|  1690|     Space Empires V|  2006-10-16|true|false|false|     Mostly Positive|            71|       360.0|       2.99|         14.99|    80.0|      true|Space Empires V i...|[Strategy, 4X, Sp...|\n",
            "|  1700|         Arx Fatalis|  2007-04-03|true|false|false|       Very Positive|            86|      1543.0|       4.99|          4.99|     0.0|      true|This critically a...|[RPG, First-Perso...|\n",
            "|  1930|Two Worlds Epic E...|  2009-04-30|true| true| true|     Mostly Positive|            76|      2220.0|       9.99|          9.99|     0.0|      true|... 300 years aft...|[RPG, Open World,...|\n",
            "+------+--------------------+------------+----+-----+-----+--------------------+--------------+------------+-----------+--------------+--------+----------+--------------------+--------------------+\n",
            "only showing top 20 rows\n",
            "\n"
          ]
        }
      ],
      "source": [
        "game_tng.show()\n",
        "# game_tng.select('tags').collect()[0][0][0]\n",
        "# game_tng.describe().show()"
      ]
    },
    {
      "cell_type": "code",
      "execution_count": 17,
      "metadata": {
        "id": "3vu2QFBj6M7i"
      },
      "outputs": [],
      "source": [
        "game_tng = game_tng.filter(game_tng.app_id.isNotNull()\\\n",
        "                           |game_tng.title.isNotNull()\\\n",
        "                           |game_tng.win.isNotNull()\\\n",
        "                           |game_tng.rating.isNotNull()\\\n",
        "                           |game_tng.price_final.isNotNull()\\\n",
        "                           |game_tng.price_original.isNotNull()\\\n",
        "                           |game_tng.description.isNotNull()\\\n",
        "                           |game_tng.tags.isNotNull()\\\n",
        "                           ).sort(\"app_id\") \n"
      ]
    },
    {
      "cell_type": "code",
      "execution_count": 18,
      "metadata": {
        "colab": {
          "base_uri": "https://localhost:8080/",
          "height": 0
        },
        "id": "nUfY2ny26lz0",
        "outputId": "5aa1e94e-fde8-47c2-b466-9168510815bb"
      },
      "outputs": [
        {
          "output_type": "execute_result",
          "data": {
            "text/plain": [
              "21236"
            ]
          },
          "metadata": {},
          "execution_count": 18
        }
      ],
      "source": [
        "game_tng.count()"
      ]
    },
    {
      "cell_type": "code",
      "execution_count": 19,
      "metadata": {
        "colab": {
          "base_uri": "https://localhost:8080/",
          "height": 0
        },
        "id": "hPG6M13B-u1S",
        "outputId": "6f353d96-fefd-4aaf-f483-7cc80425215f"
      },
      "outputs": [
        {
          "output_type": "stream",
          "name": "stdout",
          "text": [
            "+-------+--------------------------+------------+----+-----+-----+--------------------+--------------+------------+-----------+--------------+--------+----------+------------------------------+--------------------+\n",
            "| app_id|                     title|date_release| win|  mac|linux|              rating|positive_ratio|user_reviews|price_final|price_original|discount|steam_deck|                   description|                tags|\n",
            "+-------+--------------------------+------------+----+-----+-----+--------------------+--------------+------------+-----------+--------------+--------+----------+------------------------------+--------------------+\n",
            "|     10|            Counter-Strike|  2000-11-01|true| true| true|Overwhelmingly Po...|            97|    132250.0|       9.99|          9.99|     0.0|      true|          Play the world's ...|[Action, FPS, Mul...|\n",
            "|1000000|                 ASCENXION|  2021-05-14|true|false|false|     Mostly Positive|            72|        22.0|       2.49|          9.99|    75.0|      true|          ASCENXION is a 2D...|[Shoot 'Em Up, Me...|\n",
            "|1000010|               Crown Trick|  2020-10-16|true|false|false|       Very Positive|            86|      4158.0|      19.99|         19.99|     0.0|      true|          Enter a labyrinth...|[Roguelike, Turn-...|\n",
            "|1000030|      Cook Serve Delici...|  2020-10-14|true| true|false|Overwhelmingly Po...|            95|      1396.0|      19.99|         19.99|     0.0|      true|          Cook, serve and m...|[Typing, Manageme...|\n",
            "|1000360|             Hellish Quart|  2021-02-16|true|false|false|       Very Positive|            92|      4756.0|      16.99|         16.99|     0.0|      true|          A physics-based, ...|[Early Access, 3D...|\n",
            "|1000410|       WRATH: Aeon of Ruin|  2019-11-22|true|false|false|       Very Positive|            81|      1178.0|      24.99|         24.99|     0.0|      true|          3D Realms, creato...|[Action, FPS, Ret...|\n",
            "|1000440|东方雪莲华 ～ Abyss Sou...|  2023-02-02|true|false|false|       Very Positive|            91|       267.0|      12.99|         12.99|     0.0|      true|东方雪莲华是东方project的二...|[Bullet Hell, Sho...|\n",
            "|1000640|                  Clam Man|  2019-05-23|true| true| true|       Very Positive|            92|        89.0|       9.99|          9.99|     0.0|      true|          An absurd, strang...|[Adventure, Indie...|\n",
            "|1000700|                  Insomnis|  2022-01-07|true|false|false|       Very Positive|            89|        93.0|      14.99|         14.99|     0.0|      true|          Insomnis is a fir...|[Adventure, Indie...|\n",
            "|1000710|      Fishing Planet: B...|  2018-12-27|true| true| true|            Positive|            92|        14.0|      34.99|         34.99|     0.0|      true|                              |[Free to Play, Ma...|\n",
            "|1000714|      Fishing Planet: R...|  2019-06-25|true| true| true|     Mostly Positive|            72|        11.0|       6.99|          6.99|     0.0|      true|                              |[Simulation, Free...|\n",
            "|1000715|      Fishing Planet: M...|  2019-09-06|true| true| true|               Mixed|            53|        13.0|      19.99|         19.99|     0.0|      true|                              |[Free to Play, Ma...|\n",
            "|1000717|      Fishing Planet - ...|  2019-11-27|true| true| true|            Positive|            90|        41.0|       4.99|          4.99|     0.0|      true|                              |[Simulation, Free...|\n",
            "|1000718|      Fishing Planet - ...|  2019-11-27|true| true| true|     Mostly Positive|            75|        36.0|       4.99|          4.99|     0.0|      true|                              |[Simulation, Free...|\n",
            "|1000760|                  Foregone|  2021-03-01|true|false|false|       Very Positive|            82|       927.0|      19.99|         19.99|     0.0|      true|          Foregone is a fas...|[Action, Indie, P...|\n",
            "|1000770|                Urban Tale|  2021-10-07|true| true|false|               Mixed|            65|        97.0|      11.99|         11.99|     0.0|      true|          Urban Tale is a r...|[Simulation, Casu...|\n",
            "|1001060|      Attack on Titan 2...|  2019-07-04|true|false|false|               Mixed|            69|       149.0|      39.99|         39.99|     0.0|      true|                              |[Action, Violent,...|\n",
            "|1001070|                       Koi|  2019-02-22|true|false|false|       Very Positive|            87|        83.0|       0.99|          0.99|     0.0|      true|          KOI is an award-w...|[Casual, Indie, A...|\n",
            "|1001140|      Angry Birds VR: I...|  2019-02-07|true|false|false|       Very Positive|            90|       267.0|      14.99|         14.99|     0.0|      true|          Join Red, Chuck, ...|[Family Friendly,...|\n",
            "|1001150|      Battlestar Galact...|  2019-03-19|true|false|false|            Positive|            86|        23.0|      14.99|         14.99|     0.0|      true|                              |          [Strategy]|\n",
            "+-------+--------------------------+------------+----+-----+-----+--------------------+--------------+------------+-----------+--------------+--------+----------+------------------------------+--------------------+\n",
            "only showing top 20 rows\n",
            "\n"
          ]
        }
      ],
      "source": [
        "game_tng.show()"
      ]
    },
    {
      "cell_type": "markdown",
      "metadata": {
        "id": "ecRcLwm-6OWq"
      },
      "source": [
        "-----------------------------------------------------\n"
      ]
    },
    {
      "cell_type": "code",
      "execution_count": 20,
      "metadata": {
        "id": "jh_tk2dGRrXi"
      },
      "outputs": [],
      "source": [
        "user_recc = recomm.join(user,[\"user_id\"],\"full\")"
      ]
    },
    {
      "cell_type": "code",
      "execution_count": 21,
      "metadata": {
        "colab": {
          "base_uri": "https://localhost:8080/",
          "height": 0
        },
        "id": "vLxWI3z-yFEo",
        "outputId": "6039f526-bd40-4658-c00a-c8650a54dbd4"
      },
      "outputs": [
        {
          "output_type": "stream",
          "name": "stdout",
          "text": [
            "+-------+-------+-------+-----+----------+--------------+-----+---------+--------+-------+\n",
            "|user_id| app_id|helpful|funny|      date|is_recommended|hours|review_id|products|reviews|\n",
            "+-------+-------+-------+-----+----------+--------------+-----+---------+--------+-------+\n",
            "|      0| 291550|      0|    0|2020-11-01|          true| 12.7|   104565|      54|      2|\n",
            "|      0| 493520|      0|    0|2020-10-30|          true| 18.6|  4723376|      54|      2|\n",
            "|  10000| 284160|      0|    0|2022-12-05|          true|163.4|    59114|      13|      2|\n",
            "|  10000|1938090|      0|    0|2022-11-22|          true| 42.3|  1577287|      13|      2|\n",
            "|1000011| 271590|      2|    0|2015-10-29|          true|437.6|  1712956|     209|      3|\n",
            "|1000011|   4000|      2|    0|2014-08-11|          true|721.1|  1743273|     209|      3|\n",
            "|1000011| 306130|      0|    0|2019-06-28|          true|867.3|  1893542|     209|      3|\n",
            "|1000012| 377160|      0|    0|2021-09-06|          true|117.3|  5368336|      11|      3|\n",
            "|1000012| 239030|      0|    0|2022-07-17|          true| 17.5|  5415857|      11|      3|\n",
            "|1000012|1286830|      0|    0|2022-02-15|          true|373.3|  5607907|      11|      3|\n",
            "|1000015|1086940|      0|    0|2022-04-28|          true|148.5|  5934747|      44|      1|\n",
            "|1000020| 632360|      0|    0|2022-03-03|          true| 88.7|   698871|     120|      1|\n",
            "|1000024|1361210|      0|    0|2022-11-22|          true| 10.3|  5098872|     452|      1|\n",
            "|1000030| 438100|      0|    0|2022-02-17|          true|  9.4|  5702748|       3|      1|\n",
            "|1000032|1817070|      0|    0|2022-09-11|          true| 61.9|  4292020|      11|      1|\n",
            "|1000054| 275850|      0|    0|2016-10-14|         false|136.0|  3811170|     263|      1|\n",
            "|1000061| 289070|      0|    0|2020-08-01|         false|281.3|  2075815|      42|      1|\n",
            "|1000064|  39210|      3|    0|2022-01-03|          true|899.4|  2740685|     133|      1|\n",
            "|1000067|1086940|      0|    0|2020-10-06|          true| 96.5|   765191|      78|      1|\n",
            "|1000070|1144200|      0|    0|2021-12-28|          true| 70.2|  6053316|     154|      1|\n",
            "+-------+-------+-------+-----+----------+--------------+-----+---------+--------+-------+\n",
            "only showing top 20 rows\n",
            "\n"
          ]
        }
      ],
      "source": [
        "user_recc.show()\n",
        "# user_recc.describe().show()"
      ]
    },
    {
      "cell_type": "code",
      "execution_count": 22,
      "metadata": {
        "id": "_nufYNoU8Bf-"
      },
      "outputs": [],
      "source": [
        "user_recc = user_recc.filter(user_recc.app_id.isNotNull()).sort(\"user_id\") "
      ]
    },
    {
      "cell_type": "code",
      "execution_count": 23,
      "metadata": {
        "colab": {
          "base_uri": "https://localhost:8080/",
          "height": 0
        },
        "id": "_GGEl5sA8fpd",
        "outputId": "b038e289-f920-4611-9d74-37aa18464834"
      },
      "outputs": [
        {
          "output_type": "execute_result",
          "data": {
            "text/plain": [
              "6126803"
            ]
          },
          "metadata": {},
          "execution_count": 23
        }
      ],
      "source": [
        "user_recc.count()"
      ]
    },
    {
      "cell_type": "code",
      "execution_count": 24,
      "metadata": {
        "colab": {
          "base_uri": "https://localhost:8080/",
          "height": 0
        },
        "id": "JDuves7O8M7o",
        "outputId": "952b0f3b-5087-49d1-95d4-1cf72263b145"
      },
      "outputs": [
        {
          "output_type": "stream",
          "name": "stdout",
          "text": [
            "+-------+-------+-------+-----+----------+--------------+-----+---------+--------+-------+\n",
            "|user_id| app_id|helpful|funny|      date|is_recommended|hours|review_id|products|reviews|\n",
            "+-------+-------+-------+-----+----------+--------------+-----+---------+--------+-------+\n",
            "|      0| 493520|      0|    0|2020-10-30|          true| 18.6|  4723376|      54|      2|\n",
            "|      0| 291550|      0|    0|2020-11-01|          true| 12.7|   104565|      54|      2|\n",
            "|      1| 394360|      0|    0|2021-11-26|          true|107.0|   306001|     369|      1|\n",
            "|    100|1172470|      0|    0|2021-07-10|         false|404.0|   434065|       0|      1|\n",
            "|   1000| 386360|      0|    0|2019-10-14|          true| 81.0|  4276553|     182|      8|\n",
            "|   1000| 306130|      0|    0|2019-06-11|          true| 68.7|   402594|     182|      8|\n",
            "|   1000|1174180|      3|    3|2020-02-08|         false| 11.8|  2726058|     182|      8|\n",
            "|   1000| 431960|      0|    0|2020-04-05|          true| 80.9|   276676|     182|      8|\n",
            "|   1000| 304390|      0|    0|2022-02-04|          true|525.5|  3231531|     182|      8|\n",
            "|   1000| 438100|      0|    0|2018-07-16|          true| 29.5|  3307295|     182|      8|\n",
            "|   1000| 440900|      0|    0|2018-07-21|          true|136.3|   124995|     182|      8|\n",
            "|   1000|1172620|      0|    0|2021-04-17|          true| 86.4|  1167472|     182|      8|\n",
            "|  10000|1938090|      0|    0|2022-11-22|          true| 42.3|  1577287|      13|      2|\n",
            "|  10000| 284160|      0|    0|2022-12-05|          true|163.4|    59114|      13|      2|\n",
            "| 100000|  42700|      0|    0|2022-10-23|          true| 31.1|  5896825|      31|      1|\n",
            "|1000000| 489830|      0|    0|2022-11-01|          true|198.3|  3493765|      36|      1|\n",
            "|1000001|1599340|      0|    0|2022-03-17|          true|757.5|   919025|       0|      1|\n",
            "|1000002|    730|      0|    0|2021-06-25|          true| 75.4|  3144903|       8|      1|\n",
            "|1000003|   4000|      6|    3|2015-05-21|          true| 98.8|   815342|     227|      1|\n",
            "|1000004| 238960|      3|    0|2019-01-23|         false|  2.4|   257631|     129|      3|\n",
            "+-------+-------+-------+-----+----------+--------------+-----+---------+--------+-------+\n",
            "only showing top 20 rows\n",
            "\n"
          ]
        }
      ],
      "source": [
        "user_recc.show()"
      ]
    },
    {
      "cell_type": "code",
      "execution_count": 25,
      "metadata": {
        "id": "vg8sasMOfDhi"
      },
      "outputs": [],
      "source": [
        "all_data = game_tng.join(user_recc,[\"app_id\"],\"full\")"
      ]
    },
    {
      "cell_type": "code",
      "execution_count": 26,
      "metadata": {
        "colab": {
          "base_uri": "https://localhost:8080/",
          "height": 0
        },
        "id": "nwXzy6-ZfU3a",
        "outputId": "21a35718-d045-45b0-9b16-90e9aeafc6e9"
      },
      "outputs": [
        {
          "output_type": "stream",
          "name": "stdout",
          "text": [
            "root\n",
            " |-- app_id: string (nullable = true)\n",
            " |-- title: string (nullable = true)\n",
            " |-- date_release: string (nullable = true)\n",
            " |-- win: string (nullable = true)\n",
            " |-- mac: string (nullable = true)\n",
            " |-- linux: string (nullable = true)\n",
            " |-- rating: string (nullable = true)\n",
            " |-- positive_ratio: string (nullable = true)\n",
            " |-- user_reviews: double (nullable = true)\n",
            " |-- price_final: double (nullable = true)\n",
            " |-- price_original: double (nullable = true)\n",
            " |-- discount: double (nullable = true)\n",
            " |-- steam_deck: string (nullable = true)\n",
            " |-- description: string (nullable = true)\n",
            " |-- tags: array (nullable = true)\n",
            " |    |-- element: string (containsNull = true)\n",
            " |-- user_id: string (nullable = true)\n",
            " |-- helpful: string (nullable = true)\n",
            " |-- funny: string (nullable = true)\n",
            " |-- date: date (nullable = true)\n",
            " |-- is_recommended: boolean (nullable = true)\n",
            " |-- hours: double (nullable = true)\n",
            " |-- review_id: string (nullable = true)\n",
            " |-- products: string (nullable = true)\n",
            " |-- reviews: string (nullable = true)\n",
            "\n"
          ]
        }
      ],
      "source": [
        "all_data.printSchema()"
      ]
    },
    {
      "cell_type": "code",
      "execution_count": 27,
      "metadata": {
        "colab": {
          "base_uri": "https://localhost:8080/",
          "height": 0
        },
        "id": "zE3GOshplWup",
        "outputId": "89ce09b6-2c14-43a6-afd4-5b182c67bc1a"
      },
      "outputs": [
        {
          "output_type": "stream",
          "name": "stdout",
          "text": [
            "+-------+--------------------+------------+----+-----+-----+--------------------+--------------+------------+-----------+--------------+--------+----------+--------------------+--------------------+-------+-------+-----+----+--------------+-----+---------+--------+-------+\n",
            "| app_id|               title|date_release| win|  mac|linux|              rating|positive_ratio|user_reviews|price_final|price_original|discount|steam_deck|         description|                tags|user_id|helpful|funny|date|is_recommended|hours|review_id|products|reviews|\n",
            "+-------+--------------------+------------+----+-----+-----+--------------------+--------------+------------+-----------+--------------+--------+----------+--------------------+--------------------+-------+-------+-----+----+--------------+-----+---------+--------+-------+\n",
            "|1000030|Cook Serve Delici...|  2020-10-14|true| true|false|Overwhelmingly Po...|            95|      1396.0|      19.99|         19.99|     0.0|      true|Cook, serve and m...|[Typing, Manageme...|   null|   null| null|null|          null| null|     null|    null|   null|\n",
            "|1000714|Fishing Planet: R...|  2019-06-25|true| true| true|     Mostly Positive|            72|        11.0|       6.99|          6.99|     0.0|      true|                    |[Simulation, Free...|   null|   null| null|null|          null| null|     null|    null|   null|\n",
            "|1000760|            Foregone|  2021-03-01|true|false|false|       Very Positive|            82|       927.0|      19.99|         19.99|     0.0|      true|Foregone is a fas...|[Action, Indie, P...|   null|   null| null|null|          null| null|     null|    null|   null|\n",
            "|1001140|Angry Birds VR: I...|  2019-02-07|true|false|false|       Very Positive|            90|       267.0|      14.99|         14.99|     0.0|      true|Join Red, Chuck, ...|[Family Friendly,...|   null|   null| null|null|          null| null|     null|    null|   null|\n",
            "|1001370|IL-2 Sturmovik: F...|  2018-12-19|true|false|false|            Positive|            90|        10.0|       9.99|          9.99|     0.0|      true|                    |        [Simulation]|   null|   null| null|null|          null| null|     null|    null|   null|\n",
            "|1003480|Fireboy & Watergi...|  2019-01-24|true| true|false|       Very Positive|            89|       533.0|       0.99|          0.99|     0.0|      true|Help Fireboy and ...|[Action, Local Mu...|   null|   null| null|null|          null| null|     null|    null|   null|\n",
            "|1004490|           Tools Up!|  2019-12-03|true|false|false|     Mostly Positive|            79|       592.0|      19.99|         19.99|     0.0|      true|Tools Up! is an e...|[Casual, Indie, S...|   null|   null| null|null|          null| null|     null|    null|   null|\n",
            "|1004620|     KungFu Kickball|  2022-02-09|true| true|false|            Positive|            97|        35.0|      19.99|         19.99|     0.0|      true|KungFu Kickball i...|[Indie, Sports, A...|   null|   null| null|null|          null| null|     null|    null|   null|\n",
            "|1004740|             iDancer|  2019-01-21|true|false|false|       Very Positive|            85|        98.0|       7.99|          7.99|     0.0|      true|iDancer is a uniq...|[Utilities, Sexua...|   null|   null| null|null|          null| null|     null|    null|   null|\n",
            "|1004860|The Secret Order ...|  2019-02-28|true| true| true|       Very Positive|            87|       106.0|      14.99|         14.99|     0.0|      true|There are dark se...|[Casual, Adventur...|   null|   null| null|null|          null| null|     null|    null|   null|\n",
            "|1004919|Warhammer: Chaosb...|  2019-12-16|true|false|false|               Mixed|            61|        26.0|       9.99|          9.99|     0.0|      true|                    |[RPG, Action, Adv...|   null|   null| null|null|          null| null|     null|    null|   null|\n",
            "|1004950|DiRT Rally 2.0 - ...|  2019-04-08|true|false|false|            Positive|            96|        25.0|       1.99|          1.99|     0.0|      true|                    |[Simulation, Raci...|   null|   null| null|null|          null| null|     null|    null|   null|\n",
            "|1005010|DiRT Rally 2.0 - ...|  2019-07-01|true|false|false|            Positive|            84|        13.0|       1.99|          1.99|     0.0|      true|                    |[Simulation, Raci...|   null|   null| null|null|          null| null|     null|    null|   null|\n",
            "|1005050|Fabulous - Angela...|  2019-01-24|true| true|false|            Positive|            86|        36.0|      12.99|         12.99|     0.0|      true|Take on the New Y...|[Strategy, Casual...|   null|   null| null|null|          null| null|     null|    null|   null|\n",
            "|1005930| Timeflow – Life Sim|  2019-01-01|true| true| true|       Very Positive|            92|      1167.0|       9.99|          9.99|     0.0|      true|Learn how to turn...|[Time Management,...|   null|   null| null|null|          null| null|     null|    null|   null|\n",
            "|1005971|iVRy Driver for S...|  2019-01-23|true|false|false|     Mostly Positive|            74|        50.0|      19.99|         19.99|     0.0|      true|                    |         [Utilities]|   null|   null| null|null|          null| null|     null|    null|   null|\n",
            "|1005972|iVRy Driver for S...|  2019-01-23|true|false|false|               Mixed|            64|        25.0|       9.99|          9.99|     0.0|      true|                    |         [Utilities]|   null|   null| null|null|          null| null|     null|    null|   null|\n",
            "|1006440| The Dame Was Loaded|  2019-01-28|true|false|false|            Positive|            86|        15.0|       6.99|          6.99|     0.0|      true|An adventure set ...|[Adventure, Strat...|   null|   null| null|null|          null| null|     null|    null|   null|\n",
            "|1007350|        Mirror Maker|  2019-01-17|true|false|false|     Mostly Positive|            73|       802.0|       1.99|          1.99|     0.0|      true|The reason we mad...|[Sexual Content, ...|   null|   null| null|null|          null| null|     null|    null|   null|\n",
            "|1007630|        Wraithslayer|  2019-05-07|true| true| true|       Very Positive|            93|        72.0|       4.99|          4.99|     0.0|      true|An intense and ch...|[Action, Indie, A...|   null|   null| null|null|          null| null|     null|    null|   null|\n",
            "+-------+--------------------+------------+----+-----+-----+--------------------+--------------+------------+-----------+--------------+--------+----------+--------------------+--------------------+-------+-------+-----+----+--------------+-----+---------+--------+-------+\n",
            "only showing top 20 rows\n",
            "\n"
          ]
        }
      ],
      "source": [
        "# all_data.count()\n",
        "all_data.show()\n",
        "# app_id,title,win"
      ]
    },
    {
      "cell_type": "code",
      "execution_count": 28,
      "metadata": {
        "id": "xtCh1iEHopwa"
      },
      "outputs": [],
      "source": [
        "#Drop Null\n",
        "all_data = all_data.filter(all_data.app_id.isNotNull()|all_data.title.isNotNull()|all_data.win.isNotNull()).sort(\"app_id\") "
      ]
    },
    {
      "cell_type": "code",
      "execution_count": 29,
      "metadata": {
        "colab": {
          "base_uri": "https://localhost:8080/",
          "height": 0
        },
        "id": "fqBqphf-tkr-",
        "outputId": "509dbc2a-0781-4c8d-f5d9-9fb25dddb4cf"
      },
      "outputs": [
        {
          "output_type": "execute_result",
          "data": {
            "text/plain": [
              "6147826"
            ]
          },
          "metadata": {},
          "execution_count": 29
        }
      ],
      "source": [
        "all_data.count()"
      ]
    },
    {
      "cell_type": "code",
      "execution_count": 30,
      "metadata": {
        "colab": {
          "base_uri": "https://localhost:8080/",
          "height": 0
        },
        "id": "-33fjiJ8kweI",
        "outputId": "151dd6d7-92bf-4c2f-ca7b-cfbd0141449e"
      },
      "outputs": [
        {
          "output_type": "stream",
          "name": "stdout",
          "text": [
            "+-------+--------------------------+------------+----+-----+-----+--------------------+--------------+------------+-----------+--------------+--------+----------+------------------------------+--------------------+-------+-------+-----+----+--------------+-----+---------+--------+-------+\n",
            "| app_id|                     title|date_release| win|  mac|linux|              rating|positive_ratio|user_reviews|price_final|price_original|discount|steam_deck|                   description|                tags|user_id|helpful|funny|date|is_recommended|hours|review_id|products|reviews|\n",
            "+-------+--------------------------+------------+----+-----+-----+--------------------+--------------+------------+-----------+--------------+--------+----------+------------------------------+--------------------+-------+-------+-----+----+--------------+-----+---------+--------+-------+\n",
            "|     10|            Counter-Strike|  2000-11-01|true| true| true|Overwhelmingly Po...|            97|    132250.0|       9.99|          9.99|     0.0|      true|          Play the world's ...|[Action, FPS, Mul...|   null|   null| null|null|          null| null|     null|    null|   null|\n",
            "|1000000|                 ASCENXION|  2021-05-14|true|false|false|     Mostly Positive|            72|        22.0|       2.49|          9.99|    75.0|      true|          ASCENXION is a 2D...|[Shoot 'Em Up, Me...|   null|   null| null|null|          null| null|     null|    null|   null|\n",
            "|1000010|               Crown Trick|  2020-10-16|true|false|false|       Very Positive|            86|      4158.0|      19.99|         19.99|     0.0|      true|          Enter a labyrinth...|[Roguelike, Turn-...|   null|   null| null|null|          null| null|     null|    null|   null|\n",
            "|1000030|      Cook Serve Delici...|  2020-10-14|true| true|false|Overwhelmingly Po...|            95|      1396.0|      19.99|         19.99|     0.0|      true|          Cook, serve and m...|[Typing, Manageme...|   null|   null| null|null|          null| null|     null|    null|   null|\n",
            "|1000360|             Hellish Quart|  2021-02-16|true|false|false|       Very Positive|            92|      4756.0|      16.99|         16.99|     0.0|      true|          A physics-based, ...|[Early Access, 3D...|   null|   null| null|null|          null| null|     null|    null|   null|\n",
            "|1000410|       WRATH: Aeon of Ruin|  2019-11-22|true|false|false|       Very Positive|            81|      1178.0|      24.99|         24.99|     0.0|      true|          3D Realms, creato...|[Action, FPS, Ret...|   null|   null| null|null|          null| null|     null|    null|   null|\n",
            "|1000440|东方雪莲华 ～ Abyss Sou...|  2023-02-02|true|false|false|       Very Positive|            91|       267.0|      12.99|         12.99|     0.0|      true|东方雪莲华是东方project的二...|[Bullet Hell, Sho...|   null|   null| null|null|          null| null|     null|    null|   null|\n",
            "|1000640|                  Clam Man|  2019-05-23|true| true| true|       Very Positive|            92|        89.0|       9.99|          9.99|     0.0|      true|          An absurd, strang...|[Adventure, Indie...|   null|   null| null|null|          null| null|     null|    null|   null|\n",
            "|1000700|                  Insomnis|  2022-01-07|true|false|false|       Very Positive|            89|        93.0|      14.99|         14.99|     0.0|      true|          Insomnis is a fir...|[Adventure, Indie...|   null|   null| null|null|          null| null|     null|    null|   null|\n",
            "|1000710|      Fishing Planet: B...|  2018-12-27|true| true| true|            Positive|            92|        14.0|      34.99|         34.99|     0.0|      true|                              |[Free to Play, Ma...|   null|   null| null|null|          null| null|     null|    null|   null|\n",
            "|1000714|      Fishing Planet: R...|  2019-06-25|true| true| true|     Mostly Positive|            72|        11.0|       6.99|          6.99|     0.0|      true|                              |[Simulation, Free...|   null|   null| null|null|          null| null|     null|    null|   null|\n",
            "|1000715|      Fishing Planet: M...|  2019-09-06|true| true| true|               Mixed|            53|        13.0|      19.99|         19.99|     0.0|      true|                              |[Free to Play, Ma...|   null|   null| null|null|          null| null|     null|    null|   null|\n",
            "|1000717|      Fishing Planet - ...|  2019-11-27|true| true| true|            Positive|            90|        41.0|       4.99|          4.99|     0.0|      true|                              |[Simulation, Free...|   null|   null| null|null|          null| null|     null|    null|   null|\n",
            "|1000718|      Fishing Planet - ...|  2019-11-27|true| true| true|     Mostly Positive|            75|        36.0|       4.99|          4.99|     0.0|      true|                              |[Simulation, Free...|   null|   null| null|null|          null| null|     null|    null|   null|\n",
            "|1000760|                  Foregone|  2021-03-01|true|false|false|       Very Positive|            82|       927.0|      19.99|         19.99|     0.0|      true|          Foregone is a fas...|[Action, Indie, P...|   null|   null| null|null|          null| null|     null|    null|   null|\n",
            "|1000770|                Urban Tale|  2021-10-07|true| true|false|               Mixed|            65|        97.0|      11.99|         11.99|     0.0|      true|          Urban Tale is a r...|[Simulation, Casu...|   null|   null| null|null|          null| null|     null|    null|   null|\n",
            "|1001060|      Attack on Titan 2...|  2019-07-04|true|false|false|               Mixed|            69|       149.0|      39.99|         39.99|     0.0|      true|                              |[Action, Violent,...|   null|   null| null|null|          null| null|     null|    null|   null|\n",
            "|1001070|                       Koi|  2019-02-22|true|false|false|       Very Positive|            87|        83.0|       0.99|          0.99|     0.0|      true|          KOI is an award-w...|[Casual, Indie, A...|   null|   null| null|null|          null| null|     null|    null|   null|\n",
            "|1001140|      Angry Birds VR: I...|  2019-02-07|true|false|false|       Very Positive|            90|       267.0|      14.99|         14.99|     0.0|      true|          Join Red, Chuck, ...|[Family Friendly,...|   null|   null| null|null|          null| null|     null|    null|   null|\n",
            "|1001150|      Battlestar Galact...|  2019-03-19|true|false|false|            Positive|            86|        23.0|      14.99|         14.99|     0.0|      true|                              |          [Strategy]|   null|   null| null|null|          null| null|     null|    null|   null|\n",
            "+-------+--------------------------+------------+----+-----+-----+--------------------+--------------+------------+-----------+--------------+--------+----------+------------------------------+--------------------+-------+-------+-----+----+--------------+-----+---------+--------+-------+\n",
            "only showing top 20 rows\n",
            "\n"
          ]
        }
      ],
      "source": [
        "all_data.show()"
      ]
    },
    {
      "cell_type": "code",
      "execution_count": 31,
      "metadata": {
        "colab": {
          "base_uri": "https://localhost:8080/",
          "height": 0
        },
        "id": "dyCrbVNIyU42",
        "outputId": "5e07f110-8c74-4ee3-bdb1-b56b4dd67fdf"
      },
      "outputs": [
        {
          "output_type": "stream",
          "name": "stdout",
          "text": [
            "+------+-----+------------+---+---+-----+------+--------------+------------+-----------+--------------+--------+----------+-----------+----+-------+-------+-----+----+--------------+-----+---------+--------+-------+\n",
            "|app_id|title|date_release|win|mac|linux|rating|positive_ratio|user_reviews|price_final|price_original|discount|steam_deck|description|tags|user_id|helpful|funny|date|is_recommended|hours|review_id|products|reviews|\n",
            "+------+-----+------------+---+---+-----+------+--------------+------------+-----------+--------------+--------+----------+-----------+----+-------+-------+-----+----+--------------+-----+---------+--------+-------+\n",
            "+------+-----+------------+---+---+-----+------+--------------+------------+-----------+--------------+--------+----------+-----------+----+-------+-------+-----+----+--------------+-----+---------+--------+-------+\n",
            "\n"
          ]
        }
      ],
      "source": [
        "all_data.filter(all_data.date_release.isNull()).show()"
      ]
    },
    {
      "cell_type": "code",
      "execution_count": 32,
      "metadata": {
        "colab": {
          "base_uri": "https://localhost:8080/",
          "height": 0
        },
        "id": "7GuCkh3T0A7i",
        "outputId": "54b375fc-b76f-4598-cde3-b10f19cc8f69"
      },
      "outputs": [
        {
          "output_type": "stream",
          "name": "stdout",
          "text": [
            "+-------+--------------------+------+\n",
            "| app_id|               title| count|\n",
            "+-------+--------------------+------+\n",
            "|1044720|   Farthest Frontier|  4265|\n",
            "| 105600|            Terraria| 48595|\n",
            "|1056640|Phantasy Star Onl...|   264|\n",
            "|1063660|Bendy and the Dar...|  3858|\n",
            "|1063730|           New World|  4482|\n",
            "|1065310|           Evil West|  1763|\n",
            "| 107410|              Arma 3|115929|\n",
            "|1085660|           Destiny 2| 33136|\n",
            "| 108600|     Project Zomboid| 45965|\n",
            "|1086940|     Baldur's Gate 3| 37878|\n",
            "|1091500|      Cyberpunk 2077|109328|\n",
            "|1092790|         Inscryption|  9545|\n",
            "|1096530|Solasta: Crown of...| 10200|\n",
            "|1113120|               IXION|  3461|\n",
            "|1142710|Total War: WARHAM...| 32226|\n",
            "|1144200|        Ready or Not| 50146|\n",
            "|1145360|               Hades| 11859|\n",
            "|1151340|          Fallout 76| 42217|\n",
            "|1151640|Horizon Zero Dawn...| 12444|\n",
            "|1158310|  Crusader Kings III| 10610|\n",
            "+-------+--------------------+------+\n",
            "only showing top 20 rows\n",
            "\n"
          ]
        }
      ],
      "source": [
        "all_data.groupBy(\"app_id\",'title').count().filter(\"count > 1\").sort(\"app_id\").show()"
      ]
    },
    {
      "cell_type": "code",
      "execution_count": 33,
      "metadata": {
        "id": "EoLoPRO0mYja"
      },
      "outputs": [],
      "source": [
        "# all_data.write.parquet(\"/content/gdrive/MyDrive/sizeproject/allgamerecc.parquet\")"
      ]
    },
    {
      "cell_type": "markdown",
      "metadata": {
        "id": "0W_Ybs9pzPfQ"
      },
      "source": [
        "# EDA Section"
      ]
    },
    {
      "cell_type": "code",
      "execution_count": null,
      "metadata": {
        "colab": {
          "base_uri": "https://localhost:8080/"
        },
        "id": "inly8b_SzSSO",
        "outputId": "45a79efe-6d5a-44b0-e199-1fccde47fb51"
      },
      "outputs": [
        {
          "output_type": "stream",
          "name": "stdout",
          "text": [
            "+-------+--------------------+------------+----+-----+-----+--------------------+--------------+------------+-----------+--------------+--------+----------+--------------------+--------------------+-------+-------+-----+----------+--------------+-----+---------+--------+-------+\n",
            "| app_id|               title|date_release| win|  mac|linux|              rating|positive_ratio|user_reviews|price_final|price_original|discount|steam_deck|         description|                tags|user_id|helpful|funny|      date|is_recommended|hours|review_id|products|reviews|\n",
            "+-------+--------------------+------------+----+-----+-----+--------------------+--------------+------------+-----------+--------------+--------+----------+--------------------+--------------------+-------+-------+-----+----------+--------------+-----+---------+--------+-------+\n",
            "|1066860|     RPG Paper Maker|  2019-07-05|true| true| true|       Very Positive|            83|       129.0|        0.0|           0.0|     0.0|      true|RPG Paper Maker i...|[Game Development...|   null|   null| null|      null|          null| null|     null|    null|   null|\n",
            "|1085660|           Destiny 2|  2019-10-01|true|false|false|       Very Positive|            83|    519754.0|        0.0|           0.0|     0.0|      true|Destiny 2 is an a...|[Free to Play, Op...| 100707|      0|    0|2020-03-01|          true|567.5|  4122185|      19|      1|\n",
            "|1085660|           Destiny 2|  2019-10-01|true|false|false|       Very Positive|            83|    519754.0|        0.0|           0.0|     0.0|      true|Destiny 2 is an a...|[Free to Play, Op...|1001450|     17|    0|2020-07-09|          true|955.8|  4879607|     731|      2|\n",
            "|1085660|           Destiny 2|  2019-10-01|true|false|false|       Very Positive|            83|    519754.0|        0.0|           0.0|     0.0|      true|Destiny 2 is an a...|[Free to Play, Op...|1002781|      0|    0|2022-04-01|          true|825.2|  5785659|      74|      5|\n",
            "|1017100|      Territory Idle|  2019-09-10|true|false|false|       Very Positive|            81|      1433.0|        0.0|           0.0|     0.0|      true|Strategic idle ga...|[Idler, Free to P...|   null|   null| null|      null|          null| null|     null|    null|   null|\n",
            "|1085660|           Destiny 2|  2019-10-01|true|false|false|       Very Positive|            83|    519754.0|        0.0|           0.0|     0.0|      true|Destiny 2 is an a...|[Free to Play, Op...|1001733|      0|    0|2021-07-10|         false| 92.3|  5642505|      14|      1|\n",
            "|1028860|Star Chef: Cookin...|  2019-04-03|true|false|false|               Mixed|            55|       306.0|        0.0|           0.0|     0.0|      true|Over 20 Million D...|[Simulation, Free...|   null|   null| null|      null|          null| null|     null|    null|   null|\n",
            "|1085660|           Destiny 2|  2019-10-01|true|false|false|       Very Positive|            83|    519754.0|        0.0|           0.0|     0.0|      true|Destiny 2 is an a...|[Free to Play, Op...|1003143|      4|    0|2019-10-25|         false|171.4|  4111937|     199|      6|\n",
            "|1031140|Horus Heresy: Leg...|  2019-03-28|true| true|false|     Mostly Positive|            71|      2042.0|        0.0|           0.0|     0.0|      true|A card battler ba...|[Deckbuilding, Ca...|   null|   null| null|      null|          null| null|     null|    null|   null|\n",
            "|1085660|           Destiny 2|  2019-10-01|true|false|false|       Very Positive|            83|    519754.0|        0.0|           0.0|     0.0|      true|Destiny 2 is an a...|[Free to Play, Op...|1003496|      0|    0|2021-07-01|          true| 23.0|  3837134|       2|      1|\n",
            "|1064340|Chess Evolved Online|  2021-02-22|true|false|false|       Very Positive|            92|       552.0|        0.0|           0.0|     0.0|      true|secretly the most...|[PvP, Tactical, D...|   null|   null| null|      null|          null| null|     null|    null|   null|\n",
            "|1085660|           Destiny 2|  2019-10-01|true|false|false|       Very Positive|            83|    519754.0|        0.0|           0.0|     0.0|      true|Destiny 2 is an a...|[Free to Play, Op...|1004037|      0|    0|2022-01-04|          true|195.5|   351699|      35|      6|\n",
            "|1072710|    Soviet Jump Game|  2020-07-16|true| true|false|       Very Positive|            82|      1436.0|        0.0|           0.0|     0.0|      true|Snag powerups, co...|[Free to Play, In...|   null|   null| null|      null|          null| null|     null|    null|   null|\n",
            "|1085660|           Destiny 2|  2019-10-01|true|false|false|       Very Positive|            83|    519754.0|        0.0|           0.0|     0.0|      true|Destiny 2 is an a...|[Free to Play, Op...|1004383|      3|    0|2021-04-16|         false| 18.8|  2591971|     357|     12|\n",
            "|1085660|           Destiny 2|  2019-10-01|true|false|false|       Very Positive|            83|    519754.0|        0.0|           0.0|     0.0|      true|Destiny 2 is an a...|[Free to Play, Op...|1000388|      2|    0|2020-06-10|          true|677.8|  1502535|      74|      1|\n",
            "|1085660|           Destiny 2|  2019-10-01|true|false|false|       Very Positive|            83|    519754.0|        0.0|           0.0|     0.0|      true|Destiny 2 is an a...|[Free to Play, Op...|1005757|      0|    0|2021-09-05|          true|214.9|   207762|      31|      2|\n",
            "|1085660|           Destiny 2|  2019-10-01|true|false|false|       Very Positive|            83|    519754.0|        0.0|           0.0|     0.0|      true|Destiny 2 is an a...|[Free to Play, Op...|1008898|      0|    0|2020-06-30|          true|236.9|  3514866|      42|      1|\n",
            "|1085660|           Destiny 2|  2019-10-01|true|false|false|       Very Positive|            83|    519754.0|        0.0|           0.0|     0.0|      true|Destiny 2 is an a...|[Free to Play, Op...|1008754|      2|    0|2021-07-05|          true|190.7|  5326891|       2|      1|\n",
            "|1064610|          Neon Beats|  2019-05-03|true| true|false|Overwhelmingly Po...|            96|      6070.0|        0.0|           0.0|     0.0|      true|Beat your best sc...|[Free to Play, Rh...|   null|   null| null|      null|          null| null|     null|    null|   null|\n",
            "|1085660|           Destiny 2|  2019-10-01|true|false|false|       Very Positive|            83|    519754.0|        0.0|           0.0|     0.0|      true|Destiny 2 is an a...|[Free to Play, Op...|1006568|      0|    0|2022-05-17|          true| 11.3|  1131595|       3|      2|\n",
            "+-------+--------------------+------------+----+-----+-----+--------------------+--------------+------------+-----------+--------------+--------+----------+--------------------+--------------------+-------+-------+-----+----------+--------------+-----+---------+--------+-------+\n",
            "only showing top 20 rows\n",
            "\n"
          ]
        }
      ],
      "source": [
        "all_data.sort(\"price_original\").show()"
      ]
    },
    {
      "cell_type": "markdown",
      "metadata": {
        "id": "mbwuNQEieYpU"
      },
      "source": [
        "## ---- top had user -----"
      ]
    },
    {
      "cell_type": "code",
      "execution_count": 34,
      "metadata": {
        "id": "PCweQuo4zSVF"
      },
      "outputs": [],
      "source": [
        "count_data = all_data.select(\"app_id\",\"title\").groupBy(\"title\").count()\\\n",
        "            .orderBy(f.col(\"count\").desc())"
      ]
    },
    {
      "cell_type": "code",
      "execution_count": 35,
      "metadata": {
        "id": "akrf9vOLfPe7",
        "colab": {
          "base_uri": "https://localhost:8080/",
          "height": 0
        },
        "outputId": "be719d7f-2ef4-4639-8600-e77daa668324"
      },
      "outputs": [
        {
          "output_type": "stream",
          "name": "stdout",
          "text": [
            "+--------------------+------+\n",
            "|               title| count|\n",
            "+--------------------+------+\n",
            "|                Rust|251447|\n",
            "|Counter-Strike: G...|172422|\n",
            "|        No Man's Sky|150267|\n",
            "|    Wallpaper Engine|149644|\n",
            "|  Grand Theft Auto V|148839|\n",
            "|           Fallout 4|148538|\n",
            "|Call of Duty®: Mo...|131361|\n",
            "|Red Dead Redempti...|117967|\n",
            "|              Arma 3|115929|\n",
            "|       Path of Exile|111579|\n",
            "|      Cyberpunk 2077|109328|\n",
            "|      Sea of Thieves|108191|\n",
            "|   Hearts of Iron IV|104752|\n",
            "|          Brawlhalla| 99033|\n",
            "|The Binding of Is...| 98643|\n",
            "|            Lost Ark| 94162|\n",
            "|        BeamNG.drive| 90970|\n",
            "|              VRChat| 87365|\n",
            "|Sid Meier’s Civil...| 83191|\n",
            "|Divinity: Origina...| 76652|\n",
            "+--------------------+------+\n",
            "only showing top 20 rows\n",
            "\n"
          ]
        }
      ],
      "source": [
        "count_data.show()"
      ]
    },
    {
      "cell_type": "code",
      "source": [
        "count_data = count_data.toPandas()\n",
        "count_data.head(10)"
      ],
      "metadata": {
        "colab": {
          "base_uri": "https://localhost:8080/",
          "height": 304
        },
        "id": "sBTy0VW6qDif",
        "outputId": "7657cf19-aa92-4647-bfc0-c947273d4f1a"
      },
      "execution_count": 56,
      "outputs": [
        {
          "output_type": "error",
          "ename": "AttributeError",
          "evalue": "ignored",
          "traceback": [
            "\u001b[0;31m---------------------------------------------------------------------------\u001b[0m",
            "\u001b[0;31mAttributeError\u001b[0m                            Traceback (most recent call last)",
            "\u001b[0;32m<ipython-input-56-e17a3bea40cc>\u001b[0m in \u001b[0;36m<module>\u001b[0;34m\u001b[0m\n\u001b[0;32m----> 1\u001b[0;31m \u001b[0mcount_data\u001b[0m \u001b[0;34m=\u001b[0m \u001b[0mcount_data\u001b[0m\u001b[0;34m.\u001b[0m\u001b[0mtoPandas\u001b[0m\u001b[0;34m(\u001b[0m\u001b[0;34m)\u001b[0m\u001b[0;34m\u001b[0m\u001b[0;34m\u001b[0m\u001b[0m\n\u001b[0m\u001b[1;32m      2\u001b[0m \u001b[0mcount_data\u001b[0m\u001b[0;34m.\u001b[0m\u001b[0mhead\u001b[0m\u001b[0;34m(\u001b[0m\u001b[0;36m10\u001b[0m\u001b[0;34m)\u001b[0m\u001b[0;34m\u001b[0m\u001b[0;34m\u001b[0m\u001b[0m\n",
            "\u001b[0;32m/usr/local/lib/python3.8/dist-packages/pandas/core/generic.py\u001b[0m in \u001b[0;36m__getattr__\u001b[0;34m(self, name)\u001b[0m\n\u001b[1;32m   5485\u001b[0m         ):\n\u001b[1;32m   5486\u001b[0m             \u001b[0;32mreturn\u001b[0m \u001b[0mself\u001b[0m\u001b[0;34m[\u001b[0m\u001b[0mname\u001b[0m\u001b[0;34m]\u001b[0m\u001b[0;34m\u001b[0m\u001b[0;34m\u001b[0m\u001b[0m\n\u001b[0;32m-> 5487\u001b[0;31m         \u001b[0;32mreturn\u001b[0m \u001b[0mobject\u001b[0m\u001b[0;34m.\u001b[0m\u001b[0m__getattribute__\u001b[0m\u001b[0;34m(\u001b[0m\u001b[0mself\u001b[0m\u001b[0;34m,\u001b[0m \u001b[0mname\u001b[0m\u001b[0;34m)\u001b[0m\u001b[0;34m\u001b[0m\u001b[0;34m\u001b[0m\u001b[0m\n\u001b[0m\u001b[1;32m   5488\u001b[0m \u001b[0;34m\u001b[0m\u001b[0m\n\u001b[1;32m   5489\u001b[0m     \u001b[0;32mdef\u001b[0m \u001b[0m__setattr__\u001b[0m\u001b[0;34m(\u001b[0m\u001b[0mself\u001b[0m\u001b[0;34m,\u001b[0m \u001b[0mname\u001b[0m\u001b[0;34m:\u001b[0m \u001b[0mstr\u001b[0m\u001b[0;34m,\u001b[0m \u001b[0mvalue\u001b[0m\u001b[0;34m)\u001b[0m \u001b[0;34m->\u001b[0m \u001b[0;32mNone\u001b[0m\u001b[0;34m:\u001b[0m\u001b[0;34m\u001b[0m\u001b[0;34m\u001b[0m\u001b[0m\n",
            "\u001b[0;31mAttributeError\u001b[0m: 'DataFrame' object has no attribute 'toPandas'"
          ]
        }
      ]
    },
    {
      "cell_type": "code",
      "source": [
        "fig, ax = plt.subplots(figsize =(20,12))\n",
        "ax.bar(count_data['title'][:10],count_data[\"count\"][:10],width=0.7, edgecolor=\"white\", linewidth=1)\n",
        "# ax.set(xlim=(0, 8),ylim=(0, 8))\n",
        "\n",
        "plt.show()"
      ],
      "metadata": {
        "colab": {
          "base_uri": "https://localhost:8080/",
          "height": 700
        },
        "id": "-YMoRl76nCL5",
        "outputId": "69da4a29-eb25-4dea-a0cc-ebbbb97748e9"
      },
      "execution_count": 60,
      "outputs": [
        {
          "output_type": "display_data",
          "data": {
            "text/plain": [
              "<Figure size 1440x864 with 1 Axes>"
            ],
            "image/png": "[encoded data removed]"
          },
          "metadata": {
            "needs_background": "light"
          }
        }
      ]
    },
    {
      "cell_type": "code",
      "source": [
        "# count_data.plt.plot.bar(x='count')  "
      ],
      "metadata": {
        "id": "v8q8_ifsrxnP"
      },
      "execution_count": null,
      "outputs": []
    },
    {
      "cell_type": "code",
      "execution_count": null,
      "metadata": {
        "id": "GBruc1GZ_vPh"
      },
      "outputs": [],
      "source": [
        "# count_datas = count_data.orderBy(f.col('count').desc())\n",
        "# count_datas.show(20)"
      ]
    },
    {
      "cell_type": "markdown",
      "metadata": {
        "id": "FZuSR2MY2r2g"
      },
      "source": [
        "## ---- top buy games ----\n",
        "\n",
        "\n"
      ]
    },
    {
      "cell_type": "code",
      "execution_count": null,
      "metadata": {
        "id": "OwrGi_8n2vbJ"
      },
      "outputs": [],
      "source": [
        "price = all_data.groupBy(\"app_id\",\"title\").sum()"
      ]
    },
    {
      "cell_type": "code",
      "execution_count": null,
      "metadata": {
        "id": "dCeg16t2O2OC",
        "colab": {
          "base_uri": "https://localhost:8080/"
        },
        "outputId": "95658dda-6296-4e9e-b31d-eadba5f37d3b"
      },
      "outputs": [
        {
          "output_type": "execute_result",
          "data": {
            "text/plain": [
              "251447"
            ]
          },
          "metadata": {},
          "execution_count": 40
        }
      ],
      "source": [
        "all_data.select(f.col(\"app_id\"),f.col(\"title\"),f.col(\"price_original\")).filter(\"app_id == 252490\").count()"
      ]
    },
    {
      "cell_type": "code",
      "execution_count": null,
      "metadata": {
        "id": "nnDviMnDX0Uf",
        "colab": {
          "base_uri": "https://localhost:8080/"
        },
        "outputId": "4b323337-1e2c-44e1-de3b-e8a9edb29e40"
      },
      "outputs": [
        {
          "output_type": "stream",
          "name": "stdout",
          "text": [
            "+------+-----+--------------+\n",
            "|app_id|title|price_original|\n",
            "+------+-----+--------------+\n",
            "|252490| Rust|         39.99|\n",
            "|252490| Rust|         39.99|\n",
            "|252490| Rust|         39.99|\n",
            "|252490| Rust|         39.99|\n",
            "|252490| Rust|         39.99|\n",
            "|252490| Rust|         39.99|\n",
            "|252490| Rust|         39.99|\n",
            "|252490| Rust|         39.99|\n",
            "|252490| Rust|         39.99|\n",
            "|252490| Rust|         39.99|\n",
            "|252490| Rust|         39.99|\n",
            "|252490| Rust|         39.99|\n",
            "|252490| Rust|         39.99|\n",
            "|252490| Rust|         39.99|\n",
            "|252490| Rust|         39.99|\n",
            "|252490| Rust|         39.99|\n",
            "|252490| Rust|         39.99|\n",
            "|252490| Rust|         39.99|\n",
            "|252490| Rust|         39.99|\n",
            "|252490| Rust|         39.99|\n",
            "+------+-----+--------------+\n",
            "only showing top 20 rows\n",
            "\n"
          ]
        }
      ],
      "source": [
        "all_data.select(f.col(\"app_id\"),f.col(\"title\"),f.col(\"price_original\")).filter(\"app_id == 252490\").show()"
      ]
    },
    {
      "cell_type": "code",
      "execution_count": null,
      "metadata": {
        "id": "7pQ7JHO_JXxb",
        "colab": {
          "base_uri": "https://localhost:8080/"
        },
        "outputId": "93051a71-d788-4934-95cc-10ff16b3f700"
      },
      "outputs": [
        {
          "output_type": "stream",
          "name": "stdout",
          "text": [
            "+-------+--------------------+-----------------+-------------------+-------------------+-------------+--------------------+\n",
            "| app_id|               title|sum(user_reviews)|   sum(price_final)|sum(price_original)|sum(discount)|          sum(hours)|\n",
            "+-------+--------------------+-----------------+-------------------+-------------------+-------------+--------------------+\n",
            "| 252490|                Rust| 1.81789391931E11|1.005536553004403E7|1.005536553004403E7|          0.0| 8.593886570000276E7|\n",
            "|1938090|Call of Duty®: Mo...|  4.1615690244E10|  5975611.890018661|  9193956.390022406|    4597635.0|1.4871679199999869E7|\n",
            "| 275850|        No Man's Sky|  2.9885551761E10|  9014517.330025472|  9014517.330025472|          0.0|1.9713485499999903E7|\n",
            "|1174180|Red Dead Redempti...|  3.9877918581E10|  7076840.330018253|  7076840.330018253|          0.0|1.8209469800000146E7|\n",
            "|1091500|      Cyberpunk 2077|  5.6995528928E10|  6558586.720016322|  6558586.720016322|          0.0|1.1497222400000196E7|\n",
            "| 289070|Sid Meier’s Civil...|  1.5182523882E10| 498314.08999947907|   4990628.09001048|    7487190.0|1.9649158200000092E7|\n",
            "|1172620|      Sea of Thieves|  2.4897345684E10|   4326558.09001201|   4326558.09001201|          0.0|1.4566210999999817E7|\n",
            "| 394360|   Hearts of Iron IV|  1.6539502784E10|  4189032.480011242|  4189032.480011242|          0.0|  3.97398179000001E7|\n",
            "| 107410|              Arma 3|  1.8097328403E10| 3476710.7100096815| 3476710.7100096815|          0.0| 3.583680980000005E7|\n",
            "| 435150|Divinity: Origina...|  1.0522709908E10|  3448573.480006314|  3448573.480006314|          0.0| 1.415229899999994E7|\n",
            "| 534380|Dying Light 2 Sta...|     5.49456824E9|  3314087.560004234|  3314087.560004234|          0.0|   3486578.200000007|\n",
            "|1245620|          ELDEN RING|   2.655428048E10|  3306648.800004206|  3306648.800004206|          0.0|   9543085.900000036|\n",
            "| 397540|       Borderlands 3|    4.367587684E9|  302890.3399997829| 3033454.3400031882|    4550940.0|    5521268.09999998|\n",
            "| 377160|           Fallout 4|  2.8728586042E10| 2969274.6200088505| 2969274.6200088505|          0.0|3.2569311800000254E7|\n",
            "| 374320|     DARK SOULS™ III|    1.05667848E10| 2850724.8000025074| 2850724.8000025074|          0.0|   9017722.999999983|\n",
            "| 261550|Mount & Blade II:...|    9.200638986E9|  2710407.810002382|  2710407.810002382|          0.0|1.1712098500000075E7|\n",
            "| 292030|The Witcher® 3: W...|  3.7002776092E10|  2308502.730000731|  2308502.730000731|          0.0|    9672395.19999991|\n",
            "| 546560|     Half-Life: Alyx|    2.564219214E9|  2277340.380000371|  2277340.380000371|          0.0|  1106514.0999999957|\n",
            "| 284160|        BeamNG.drive|   1.347556804E10| 2273340.3000008552| 2273340.3000008552|          0.0| 1.739613260000013E7|\n",
            "|1086940|     Baldur's Gate 3|    1.973671068E9| 2272301.2200003522| 2272301.2200003522|          0.0|  3447859.1000000057|\n",
            "+-------+--------------------+-----------------+-------------------+-------------------+-------------+--------------------+\n",
            "only showing top 20 rows\n",
            "\n"
          ]
        }
      ],
      "source": [
        "# from pyspark.sql.functions import *\n",
        "price_ord = price.orderBy(f.col('sum(price_original)').desc())\n",
        "price_ord.show(20)"
      ]
    },
    {
      "cell_type": "markdown",
      "metadata": {
        "id": "K04YkIUWmMHp"
      },
      "source": [
        "## -----Top 10 popular games of 2022 with positive reviews-----"
      ]
    },
    {
      "cell_type": "code",
      "execution_count": null,
      "metadata": {
        "id": "Jlq_9iyFmSdw",
        "colab": {
          "base_uri": "https://localhost:8080/"
        },
        "outputId": "a35a6c52-5251-4a21-dda0-3db62af9677c"
      },
      "outputs": [
        {
          "output_type": "stream",
          "name": "stdout",
          "text": [
            "+------+--------------------+------------+----+-----+-----+---------------+--------------+------------+-----------+--------------+--------+----------+\n",
            "|app_id|               title|date_release| win|  mac|linux|         rating|positive_ratio|user_reviews|price_final|price_original|discount|steam_deck|\n",
            "+------+--------------------+------------+----+-----+-----+---------------+--------------+------------+-----------+--------------+--------+----------+\n",
            "| 10090|Call of Duty: Wor...|  2008-11-18|true|false|false|  Very Positive|            92|     37039.0|      19.99|         19.99|     0.0|      true|\n",
            "| 13500|Prince of Persia:...|  2008-11-21|true|false|false|  Very Positive|            84|      2199.0|       9.99|          9.99|     0.0|      true|\n",
            "| 22364|BRINK: Agents of ...|  2011-08-03|true|false|false|       Positive|            85|        21.0|       2.99|          2.99|     0.0|      true|\n",
            "|113020|Monaco: What's Yo...|  2013-04-24|true| true| true|  Very Positive|            92|      3722.0|      14.99|         14.99|     0.0|      true|\n",
            "|226560|  Escape Dead Island|  2014-11-18|true|false|false|          Mixed|            61|       873.0|      14.99|         14.99|     0.0|      true|\n",
            "|249050|Dungeon of the EN...|  2014-10-27|true| true|false|  Very Positive|            88|      8784.0|      11.99|         11.99|     0.0|      true|\n",
            "|250180|        METAL SLUG 3|  2015-09-14|true|false|false|  Very Positive|            90|      5579.0|       7.99|          7.99|     0.0|      true|\n",
            "|253980|             Enclave|  2013-10-04|true| true| true|Mostly Positive|            75|      1608.0|       4.99|          4.99|     0.0|      true|\n",
            "|261550|Mount & Blade II:...|  2022-10-25|true|false|false|  Very Positive|            87|    169694.0|      49.99|         49.99|     0.0|      true|\n",
            "|271850|Men of War: Assau...|  2014-05-16|true|false|false|          Mixed|            61|       199.0|       6.99|          6.99|     0.0|      true|\n",
            "|282900|Hyperdimension Ne...|  2015-01-29|true|false|false|  Very Positive|            94|      9686.0|      14.99|         14.99|     0.0|      true|\n",
            "| 19810|The Sum of All Fears|  2008-10-10|true|false|false|Mostly Positive|            75|        33.0|       9.99|          9.99|     0.0|      true|\n",
            "| 15270|          Cold Fear™|  2008-05-13|true|false|false|  Very Positive|            85|       800.0|       9.99|          9.99|     0.0|      true|\n",
            "| 21130|LEGO® Harry Potte...|  2010-06-25|true|false|false|  Very Positive|            85|      5169.0|      19.99|         19.99|     0.0|      true|\n",
            "| 22130|Hearts of Iron 2 ...|  2009-01-23|true|false|false|  Very Positive|            85|       462.0|      14.99|         14.99|     0.0|      true|\n",
            "| 29180|               Osmos|  2009-08-18|true| true| true|  Very Positive|            88|       532.0|       9.99|          9.99|     0.0|      true|\n",
            "| 32750|          Comanche 4|  2009-06-18|true|false|false|  Very Positive|            90|       222.0|       9.99|          9.99|     0.0|      true|\n",
            "|241620|          Inquisitor|  2013-08-01|true|false|false|Mostly Positive|            70|       390.0|       9.99|          9.99|     0.0|      true|\n",
            "|244910|            Homesick|  2015-05-28|true|false|false|Mostly Positive|            77|      1139.0|      14.99|         14.99|     0.0|      true|\n",
            "|245950|Borderlands 2: He...|  2014-02-11|true| true| true|  Very Positive|            84|       294.0|       0.89|          2.99|    70.0|      true|\n",
            "+------+--------------------+------------+----+-----+-----+---------------+--------------+------------+-----------+--------------+--------+----------+\n",
            "only showing top 20 rows\n",
            "\n"
          ]
        }
      ],
      "source": [
        "game.show()"
      ]
    },
    {
      "cell_type": "code",
      "execution_count": null,
      "metadata": {
        "id": "tHmaYZLKqZFA"
      },
      "outputs": [],
      "source": [
        "game_pos = game.select('app_id','title','date_release','user_reviews','positive_ratio').\\\n",
        "            filter((game[\"date_release\"]>= lit('2022-01-01')) &(game[\"positive_ratio\"]>=90))\\\n",
        "            .sort(f.col('user_reviews').desc(),f.col('positive_ratio').desc())"
      ]
    },
    {
      "cell_type": "code",
      "execution_count": null,
      "metadata": {
        "id": "tgQWaeLV8zm6",
        "colab": {
          "base_uri": "https://localhost:8080/"
        },
        "outputId": "50580120-570e-45d0-c629-96c67a7a5fb9"
      },
      "outputs": [
        {
          "output_type": "stream",
          "name": "stdout",
          "text": [
            "+-------+--------------------+------------+------------+--------------+\n",
            "| app_id|               title|date_release|user_reviews|positive_ratio|\n",
            "+-------+--------------------+------------+------------+--------------+\n",
            "|1245620|          ELDEN RING|  2022-02-24|    481754.0|            91|\n",
            "| 648800|                Raft|  2022-06-20|    218598.0|            93|\n",
            "|1794680|   Vampire Survivors|  2022-10-20|    175903.0|            98|\n",
            "|1332010|               Stray|  2022-07-19|    101109.0|            97|\n",
            "| 990080|     Hogwarts Legacy|  2023-02-10|     84327.0|            93|\n",
            "|1593500|          God of War|  2022-01-14|     65968.0|            97|\n",
            "|1167630|            Teardown|  2022-04-21|     60815.0|            96|\n",
            "|1817070|Marvel’s Spider-M...|  2022-08-12|     41232.0|            96|\n",
            "|1313140|    Cult of the Lamb|  2022-08-11|     40135.0|            93|\n",
            "|1290000| PowerWash Simulator|  2022-07-14|     29465.0|            97|\n",
            "+-------+--------------------+------------+------------+--------------+\n",
            "only showing top 10 rows\n",
            "\n"
          ]
        }
      ],
      "source": [
        "game_pos.show(10)"
      ]
    },
    {
      "cell_type": "markdown",
      "metadata": {
        "id": "-5HcjyiCTupg"
      },
      "source": [
        "## ----Top 10 popular games of 2022 with mixed or lower reviews----\n"
      ]
    },
    {
      "cell_type": "code",
      "execution_count": null,
      "metadata": {
        "id": "2Bam8cgtVHVE"
      },
      "outputs": [],
      "source": [
        "game_pos2 = game.select('app_id','title','date_release','user_reviews','positive_ratio').\\\n",
        "            filter((game[\"date_release\"]>= lit('2022-01-01')) &(game[\"positive_ratio\"] <= 70))\\\n",
        "            .sort(f.col('user_reviews').desc(),f.col('positive_ratio').desc())"
      ]
    },
    {
      "cell_type": "code",
      "execution_count": null,
      "metadata": {
        "id": "UCKR9bo3Xf6L",
        "colab": {
          "base_uri": "https://localhost:8080/"
        },
        "outputId": "dbafcd4e-0833-4ada-d296-8e6c1c1723ce"
      },
      "outputs": [
        {
          "output_type": "stream",
          "name": "stdout",
          "text": [
            "+-------+--------------------+------------+------------+--------------+\n",
            "| app_id|               title|date_release|user_reviews|positive_ratio|\n",
            "+-------+--------------------+------------+------------+--------------+\n",
            "|1938090|Call of Duty®: Mo...|  2022-10-27|    316804.0|            62|\n",
            "|1811260|  EA SPORTS™ FIFA 23|  2022-09-29|     67263.0|            50|\n",
            "|1361210|Warhammer 40000: ...|  2022-11-30|     54741.0|            54|\n",
            "| 674020|         World War 3|  2022-12-10|     49594.0|            54|\n",
            "| 868270| The Cycle: Frontier|  2022-06-08|     39025.0|            61|\n",
            "|1418630|        Dread Hunger|  2022-01-26|     38500.0|            61|\n",
            "|1544020|The Callisto Prot...|  2022-12-01|     21737.0|            62|\n",
            "| 529340|          Victoria 3|  2022-10-25|     19223.0|            67|\n",
            "|1816670|    GUNDAM EVOLUTION|  2022-09-19|     18407.0|            52|\n",
            "|1969870|    生死狙击2 - 国服|  2022-07-20|     17380.0|            62|\n",
            "+-------+--------------------+------------+------------+--------------+\n",
            "only showing top 10 rows\n",
            "\n"
          ]
        }
      ],
      "source": [
        "game_pos2.show(10)"
      ]
    },
    {
      "cell_type": "markdown",
      "metadata": {
        "id": "8Lm0qu8vm3AF"
      },
      "source": [
        "## ---- Top Genre popular ----"
      ]
    },
    {
      "cell_type": "code",
      "execution_count": null,
      "metadata": {
        "id": "hFOzyeu4nNH4",
        "colab": {
          "base_uri": "https://localhost:8080/"
        },
        "outputId": "25f470f3-6183-4bc6-8bb4-fcd34152b577"
      },
      "outputs": [
        {
          "output_type": "stream",
          "name": "stdout",
          "text": [
            "root\n",
            " |-- app_id: long (nullable = true)\n",
            " |-- description: string (nullable = true)\n",
            " |-- tags: array (nullable = true)\n",
            " |    |-- element: string (containsNull = true)\n",
            "\n",
            "+------+--------------------+--------------------+\n",
            "|app_id|         description|                tags|\n",
            "+------+--------------------+--------------------+\n",
            "| 10090|Call of Duty is b...|[Zombies, World W...|\n",
            "| 13500|Enter the dark un...|[Action, Adventur...|\n",
            "| 22364|                    |            [Action]|\n",
            "|113020|Monaco: What's Yo...|[Co-op, Stealth, ...|\n",
            "|226560|Escape Dead Islan...|[Zombies, Adventu...|\n",
            "|249050|Dungeon of the En...|[Roguelike, Strat...|\n",
            "|250180|“METAL SLUG 3”, t...|[Arcade, Classic,...|\n",
            "|253980|Experience incred...|[RPG, Action, Fan...|\n",
            "|261550|A strategy/action...|[Medieval, Strate...|\n",
            "|271850|                    |[Strategy, Simula...|\n",
            "|282900|Packed with fast-...|[Anime, JRPG, Fem...|\n",
            "| 19810|Lead a team of do...|  [Action, Tactical]|\n",
            "| 15270|In a ferocious Ar...|[Horror, Action, ...|\n",
            "| 21130|Build the adventu...|[LEGO, Adventure,...|\n",
            "| 22130|Includes Hearts o...|[Strategy, Grand ...|\n",
            "| 29180|Enter the ambient...|[Indie, Casual, P...|\n",
            "| 32750|The best-selling ...|[Action, Simulati...|\n",
            "|241620|Action-oriented c...|[RPG, Indie, Isom...|\n",
            "|244910|Explore an abando...|[Atmospheric, Puz...|\n",
            "|245950|                    |[Action, RPG, FPS...|\n",
            "+------+--------------------+--------------------+\n",
            "only showing top 20 rows\n",
            "\n"
          ]
        }
      ],
      "source": [
        "game_tags.printSchema()\n",
        "game_tags.show()"
      ]
    },
    {
      "cell_type": "code",
      "execution_count": null,
      "metadata": {
        "id": "RPUgjHr0gnkF"
      },
      "outputs": [],
      "source": [
        "genre = all_data.select(f.col(\"app_id\"),f.col(\"title\"),f.col(\"price_final\"),f.explode(f.col(\"tags\")))"
      ]
    },
    {
      "cell_type": "code",
      "source": [
        "ganre_2 = genre.orderBy(f.col('col').desc())\n",
        "ganre_2.show(10)"
      ],
      "metadata": {
        "colab": {
          "base_uri": "https://localhost:8080/"
        },
        "id": "wDSFFghdNAQE",
        "outputId": "518049e1-65de-49f0-cb7c-de890fbfedf9"
      },
      "execution_count": null,
      "outputs": [
        {
          "output_type": "stream",
          "name": "stdout",
          "text": [
            "+-------+--------------------+-----------+-------+\n",
            "| app_id|               title|price_final|    col|\n",
            "+-------+--------------------+-----------+-------+\n",
            "|1058830|      Spin Rhythm XD|      19.99|eSports|\n",
            "|1156120|         DOOMBRINGER|      14.99|eSports|\n",
            "|1072190|   Crossfire: Legion|      29.99|eSports|\n",
            "|1004750|WRC 8 FIA World R...|      29.99|eSports|\n",
            "|1097130|  Circuit Superstars|      19.99|eSports|\n",
            "|1021770|      Wanba Warriors|       4.99|eSports|\n",
            "|1100990|            Aimbeast|       4.99|eSports|\n",
            "|1114290|       Windjammers 2|      19.99|eSports|\n",
            "|1126990|     PBA Pro Bowling|      14.99|eSports|\n",
            "|1029550|        Torque Drift|        0.0|eSports|\n",
            "+-------+--------------------+-----------+-------+\n",
            "only showing top 10 rows\n",
            "\n"
          ]
        }
      ]
    },
    {
      "cell_type": "code",
      "source": [
        "# genre.show() all_data.groupBy(\"title\").count().filter(\"count > 100\")\n",
        "ganre_3 = genre.select('title','col').groupBy(\"col\").count().orderBy(f.col('count').desc())\n",
        "# .filter(ganre_2[\"col\"] != lit(\"eSports\")).orderBy(f.col('col').desc())\n",
        "ganre_3.show(10)"
      ],
      "metadata": {
        "colab": {
          "base_uri": "https://localhost:8080/"
        },
        "id": "LcJn_Y-NNSWi",
        "outputId": "9cef1827-8d05-49cb-db30-d34ba522abe6"
      },
      "execution_count": null,
      "outputs": [
        {
          "output_type": "stream",
          "name": "stdout",
          "text": [
            "+------------+-------+\n",
            "|         col|  count|\n",
            "+------------+-------+\n",
            "|      Action|5080011|\n",
            "|Singleplayer|4755822|\n",
            "| Multiplayer|4620768|\n",
            "|       Co-op|3418037|\n",
            "|   Adventure|3415202|\n",
            "|First-Person|3312454|\n",
            "|  Open World|3308630|\n",
            "| Atmospheric|2800194|\n",
            "|  Simulation|2519390|\n",
            "|     Sandbox|2503436|\n",
            "+------------+-------+\n",
            "only showing top 10 rows\n",
            "\n"
          ]
        }
      ]
    },
    {
      "cell_type": "markdown",
      "metadata": {
        "id": "D-jRYqNJcLZz"
      },
      "source": [
        "### Top Gerne Free game"
      ]
    },
    {
      "cell_type": "code",
      "execution_count": null,
      "metadata": {
        "id": "8qTzuvs5cQlQ"
      },
      "outputs": [],
      "source": [
        "ganre_4 = ganre_2.select('title','col').filter(\"price_final == 0\").groupBy(\"col\").count().orderBy(f.col('count').desc())"
      ]
    },
    {
      "cell_type": "code",
      "execution_count": null,
      "metadata": {
        "id": "FP4rq9ekcQrm",
        "colab": {
          "base_uri": "https://localhost:8080/"
        },
        "outputId": "00ff3e69-a730-47db-a4d2-e8438ae545fa"
      },
      "outputs": [
        {
          "output_type": "stream",
          "name": "stdout",
          "text": [
            "+--------------------+------+\n",
            "|                 col| count|\n",
            "+--------------------+------+\n",
            "|              Action|963121|\n",
            "|         Multiplayer|956514|\n",
            "|        Free to Play|852017|\n",
            "|               Co-op|723990|\n",
            "|           Adventure|631394|\n",
            "|        Singleplayer|599761|\n",
            "|                 PvP|573305|\n",
            "|Massively Multipl...|536875|\n",
            "|        Online Co-Op|509124|\n",
            "|Character Customi...|454680|\n",
            "+--------------------+------+\n",
            "only showing top 10 rows\n",
            "\n"
          ]
        }
      ],
      "source": [
        "ganre_4.show(10)"
      ]
    },
    {
      "cell_type": "markdown",
      "metadata": {
        "id": "TJWhzMHAcROH"
      },
      "source": [
        "### Top Gerne Paid game"
      ]
    },
    {
      "cell_type": "code",
      "execution_count": null,
      "metadata": {
        "id": "aOTjzz_acWPp"
      },
      "outputs": [],
      "source": [
        "ganre_5 = ganre_2.select('title','col').filter(\"price_final != 0\").groupBy(\"col\").count().orderBy(f.col('count').desc())"
      ]
    },
    {
      "cell_type": "code",
      "source": [
        "ganre_5.show(10)"
      ],
      "metadata": {
        "id": "iibC6Ky4WNoT",
        "colab": {
          "base_uri": "https://localhost:8080/"
        },
        "outputId": "8f1c5983-e82c-40f1-dc4b-496b81324548"
      },
      "execution_count": null,
      "outputs": [
        {
          "output_type": "stream",
          "name": "stdout",
          "text": [
            "+------------+-------+\n",
            "|         col|  count|\n",
            "+------------+-------+\n",
            "|Singleplayer|4156061|\n",
            "|      Action|4116890|\n",
            "| Multiplayer|3664254|\n",
            "|  Open World|2931171|\n",
            "|First-Person|2906236|\n",
            "|   Adventure|2783808|\n",
            "|       Co-op|2694047|\n",
            "| Atmospheric|2558543|\n",
            "|     Sandbox|2226187|\n",
            "|  Simulation|2184336|\n",
            "+------------+-------+\n",
            "only showing top 10 rows\n",
            "\n"
          ]
        }
      ]
    },
    {
      "cell_type": "markdown",
      "source": [
        "### Top Gerne eSpots game"
      ],
      "metadata": {
        "id": "jPOVIh1rgjXb"
      }
    },
    {
      "cell_type": "code",
      "source": [
        "ganre_6 =  ganre_2.select('title').filter(\"col == 'eSports'\").groupBy(\"title\").count().orderBy(f.col('count').desc())"
      ],
      "metadata": {
        "id": "MKQ0l2fEgoSE"
      },
      "execution_count": null,
      "outputs": []
    },
    {
      "cell_type": "code",
      "source": [
        "ganre_6.show(10)"
      ],
      "metadata": {
        "id": "IQGl1sRKgoU6",
        "colab": {
          "base_uri": "https://localhost:8080/"
        },
        "outputId": "685b1e87-3851-4c92-fb35-5b35ab85ecab"
      },
      "execution_count": null,
      "outputs": [
        {
          "output_type": "stream",
          "name": "stdout",
          "text": [
            "+--------------------+------+\n",
            "|               title| count|\n",
            "+--------------------+------+\n",
            "|Counter-Strike: G...|172422|\n",
            "|          Brawlhalla| 99033|\n",
            "|              Dota 2| 61361|\n",
            "|              SMITE®| 50588|\n",
            "|Yu-Gi-Oh! Master ...| 18817|\n",
            "|  EA SPORTS™ FIFA 23| 16772|\n",
            "|            NBA 2K23|  5685|\n",
            "|DRAGON BALL FighterZ|  4885|\n",
            "|Football Manager ...|  3005|\n",
            "|       Madden NFL 23|  2508|\n",
            "+--------------------+------+\n",
            "only showing top 10 rows\n",
            "\n"
          ]
        }
      ]
    },
    {
      "cell_type": "markdown",
      "source": [
        "## ----Top Gerane Games ----"
      ],
      "metadata": {
        "id": "0ahIyVC6rsbL"
      }
    },
    {
      "cell_type": "code",
      "source": [
        "ganre_3.show(10)"
      ],
      "metadata": {
        "id": "AQm9lQPPr12E",
        "colab": {
          "base_uri": "https://localhost:8080/"
        },
        "outputId": "2f992a06-d994-4577-e3d7-8fcb9b2add89"
      },
      "execution_count": null,
      "outputs": [
        {
          "output_type": "stream",
          "name": "stdout",
          "text": [
            "+------------+-------+\n",
            "|         col|  count|\n",
            "+------------+-------+\n",
            "|      Action|5080011|\n",
            "|Singleplayer|4755822|\n",
            "| Multiplayer|4620768|\n",
            "|       Co-op|3418037|\n",
            "|   Adventure|3415202|\n",
            "|First-Person|3312454|\n",
            "|  Open World|3308630|\n",
            "| Atmospheric|2800194|\n",
            "|  Simulation|2519390|\n",
            "|     Sandbox|2503436|\n",
            "+------------+-------+\n",
            "only showing top 10 rows\n",
            "\n"
          ]
        }
      ]
    },
    {
      "cell_type": "markdown",
      "source": [
        "### By Action"
      ],
      "metadata": {
        "id": "pDKxILCu92xZ"
      }
    },
    {
      "cell_type": "code",
      "source": [
        "top_game1 = ganre_2.select('title').filter(\"col == 'Action'\").groupBy(\"title\").count().orderBy(f.col('count').desc())"
      ],
      "metadata": {
        "id": "uXRtJ1LVr15N"
      },
      "execution_count": null,
      "outputs": []
    },
    {
      "cell_type": "code",
      "source": [
        "top_game1.show(10)"
      ],
      "metadata": {
        "id": "9OkTPaF3-Jc_",
        "colab": {
          "base_uri": "https://localhost:8080/"
        },
        "outputId": "e6ff8e16-095c-4a78-e335-6d659e40b4ac"
      },
      "execution_count": null,
      "outputs": [
        {
          "output_type": "stream",
          "name": "stdout",
          "text": [
            "+--------------------+------+\n",
            "|               title| count|\n",
            "+--------------------+------+\n",
            "|                Rust|251447|\n",
            "|Counter-Strike: G...|172422|\n",
            "|        No Man's Sky|150267|\n",
            "|    Wallpaper Engine|149644|\n",
            "|  Grand Theft Auto V|148839|\n",
            "|           Fallout 4|148538|\n",
            "|Call of Duty®: Mo...|131361|\n",
            "|Red Dead Redempti...|117967|\n",
            "|              Arma 3|115929|\n",
            "|       Path of Exile|111579|\n",
            "+--------------------+------+\n",
            "only showing top 10 rows\n",
            "\n"
          ]
        }
      ]
    },
    {
      "cell_type": "markdown",
      "source": [
        "### By Singleplayer"
      ],
      "metadata": {
        "id": "8FMk5IFX-MlP"
      }
    },
    {
      "cell_type": "code",
      "source": [
        "top_game2 = ganre_2.select('title').filter(\"col == 'Singleplayer'\").groupBy(\"title\").count().orderBy(f.col('count').desc())"
      ],
      "metadata": {
        "id": "viE_iPJD-Sfq"
      },
      "execution_count": null,
      "outputs": []
    },
    {
      "cell_type": "code",
      "source": [
        "top_game2.show(10)"
      ],
      "metadata": {
        "id": "OseHBe7h-Siv",
        "colab": {
          "base_uri": "https://localhost:8080/"
        },
        "outputId": "7ec7cf7e-9f69-46ed-d643-c267e89a6457"
      },
      "execution_count": null,
      "outputs": [
        {
          "output_type": "stream",
          "name": "stdout",
          "text": [
            "+--------------------+------+\n",
            "|               title| count|\n",
            "+--------------------+------+\n",
            "|        No Man's Sky|150267|\n",
            "|    Wallpaper Engine|149644|\n",
            "|  Grand Theft Auto V|148839|\n",
            "|           Fallout 4|148538|\n",
            "|Call of Duty®: Mo...|131361|\n",
            "|Red Dead Redempti...|117967|\n",
            "|              Arma 3|115929|\n",
            "|       Path of Exile|111579|\n",
            "|      Cyberpunk 2077|109328|\n",
            "|      Sea of Thieves|108191|\n",
            "+--------------------+------+\n",
            "only showing top 10 rows\n",
            "\n"
          ]
        }
      ]
    },
    {
      "cell_type": "markdown",
      "source": [
        "### By Multiplayer"
      ],
      "metadata": {
        "id": "p1F-IvfU-iFL"
      }
    },
    {
      "cell_type": "code",
      "source": [
        "top_game3 = ganre_2.select('title').filter(\"col == 'Multiplayer'\").groupBy(\"title\").count().orderBy(f.col('count').desc())"
      ],
      "metadata": {
        "id": "klhBpgdh-lHO"
      },
      "execution_count": null,
      "outputs": []
    },
    {
      "cell_type": "code",
      "source": [
        "top_game3.show(10)"
      ],
      "metadata": {
        "id": "PETh4Not-lJ-",
        "colab": {
          "base_uri": "https://localhost:8080/"
        },
        "outputId": "a7199a74-ea14-42f9-9a39-ced736de77fc"
      },
      "execution_count": null,
      "outputs": [
        {
          "output_type": "stream",
          "name": "stdout",
          "text": [
            "+--------------------+------+\n",
            "|               title| count|\n",
            "+--------------------+------+\n",
            "|                Rust|251447|\n",
            "|Counter-Strike: G...|172422|\n",
            "|        No Man's Sky|150267|\n",
            "|  Grand Theft Auto V|148839|\n",
            "|Call of Duty®: Mo...|131361|\n",
            "|Red Dead Redempti...|117967|\n",
            "|              Arma 3|115929|\n",
            "|       Path of Exile|111579|\n",
            "|      Sea of Thieves|108191|\n",
            "|   Hearts of Iron IV|104752|\n",
            "+--------------------+------+\n",
            "only showing top 10 rows\n",
            "\n"
          ]
        }
      ]
    },
    {
      "cell_type": "markdown",
      "source": [
        "### By Co-op"
      ],
      "metadata": {
        "id": "0MaVcRU0-uJ0"
      }
    },
    {
      "cell_type": "code",
      "source": [
        "top_game4 = ganre_2.select('title').filter(\"col == 'Co-op'\").groupBy(\"title\").count().orderBy(f.col('count').desc())"
      ],
      "metadata": {
        "id": "_BbnweV7-2SI"
      },
      "execution_count": null,
      "outputs": []
    },
    {
      "cell_type": "code",
      "source": [
        "top_game4.show(10)"
      ],
      "metadata": {
        "id": "NzlB5mtF-2Ub",
        "colab": {
          "base_uri": "https://localhost:8080/"
        },
        "outputId": "5dd3818d-ba60-4fe2-b204-1eb5ce8e3aec"
      },
      "execution_count": null,
      "outputs": [
        {
          "output_type": "stream",
          "name": "stdout",
          "text": [
            "+--------------------+------+\n",
            "|               title| count|\n",
            "+--------------------+------+\n",
            "|                Rust|251447|\n",
            "|Counter-Strike: G...|172422|\n",
            "|  Grand Theft Auto V|148839|\n",
            "|Call of Duty®: Mo...|131361|\n",
            "|              Arma 3|115929|\n",
            "|       Path of Exile|111579|\n",
            "|      Sea of Thieves|108191|\n",
            "|   Hearts of Iron IV|104752|\n",
            "|          Brawlhalla| 99033|\n",
            "|The Binding of Is...| 98643|\n",
            "+--------------------+------+\n",
            "only showing top 10 rows\n",
            "\n"
          ]
        }
      ]
    },
    {
      "cell_type": "markdown",
      "source": [
        "### By Adventure"
      ],
      "metadata": {
        "id": "Y2gsfD0g-74R"
      }
    },
    {
      "cell_type": "code",
      "source": [
        "top_game5 = ganre_2.select('title').filter(\"col == 'Adventure'\").groupBy(\"title\").count().orderBy(f.col('count').desc())"
      ],
      "metadata": {
        "id": "Nh8mrXGj-7-e"
      },
      "execution_count": null,
      "outputs": []
    },
    {
      "cell_type": "code",
      "source": [
        "top_game5.show(10)"
      ],
      "metadata": {
        "id": "vb2amtck-8BF",
        "colab": {
          "base_uri": "https://localhost:8080/"
        },
        "outputId": "91ba9e5c-0af6-4a30-f76c-833e2eb69a65"
      },
      "execution_count": null,
      "outputs": [
        {
          "output_type": "stream",
          "name": "stdout",
          "text": [
            "+--------------------+------+\n",
            "|               title| count|\n",
            "+--------------------+------+\n",
            "|                Rust|251447|\n",
            "|        No Man's Sky|150267|\n",
            "|  Grand Theft Auto V|148839|\n",
            "|           Fallout 4|148538|\n",
            "|Red Dead Redempti...|117967|\n",
            "|       Path of Exile|111579|\n",
            "|      Cyberpunk 2077|109328|\n",
            "|      Sea of Thieves|108191|\n",
            "|            Lost Ark| 94162|\n",
            "|        BeamNG.drive| 90970|\n",
            "+--------------------+------+\n",
            "only showing top 10 rows\n",
            "\n"
          ]
        }
      ]
    },
    {
      "cell_type": "markdown",
      "source": [
        "### By First-Person"
      ],
      "metadata": {
        "id": "Lvi2dB4E_FlJ"
      }
    },
    {
      "cell_type": "code",
      "source": [
        "top_game6 = ganre_2.select('title').filter(\"col == 'First-Person'\").groupBy(\"title\").count().orderBy(f.col('count').desc())"
      ],
      "metadata": {
        "id": "Sofe4b6l_HFw"
      },
      "execution_count": null,
      "outputs": []
    },
    {
      "cell_type": "code",
      "source": [
        "top_game6.show(10)"
      ],
      "metadata": {
        "id": "ERznIAYd_HIc",
        "colab": {
          "base_uri": "https://localhost:8080/"
        },
        "outputId": "ade2a6c0-54de-44c8-c662-e0c7a332947e"
      },
      "execution_count": null,
      "outputs": [
        {
          "output_type": "stream",
          "name": "stdout",
          "text": [
            "+--------------------+------+\n",
            "|               title| count|\n",
            "+--------------------+------+\n",
            "|                Rust|251447|\n",
            "|Counter-Strike: G...|172422|\n",
            "|        No Man's Sky|150267|\n",
            "|    Wallpaper Engine|149644|\n",
            "|  Grand Theft Auto V|148839|\n",
            "|           Fallout 4|148538|\n",
            "|Call of Duty®: Mo...|131361|\n",
            "|Red Dead Redempti...|117967|\n",
            "|              Arma 3|115929|\n",
            "|      Cyberpunk 2077|109328|\n",
            "+--------------------+------+\n",
            "only showing top 10 rows\n",
            "\n"
          ]
        }
      ]
    },
    {
      "cell_type": "markdown",
      "source": [
        "### By Open World"
      ],
      "metadata": {
        "id": "_zHHZW9t_Ozg"
      }
    },
    {
      "cell_type": "code",
      "source": [
        "top_game7 = ganre_2.select('title').filter(\"col == 'Open World'\").groupBy(\"title\").count().orderBy(f.col('count').desc())"
      ],
      "metadata": {
        "id": "OrjVQaUT_O8Y"
      },
      "execution_count": null,
      "outputs": []
    },
    {
      "cell_type": "code",
      "source": [
        "top_game7.show(10)"
      ],
      "metadata": {
        "id": "D4GgFnns_O-1",
        "colab": {
          "base_uri": "https://localhost:8080/"
        },
        "outputId": "45da876f-b6e4-442c-878b-cbccd0ec3cc1"
      },
      "execution_count": null,
      "outputs": [
        {
          "output_type": "stream",
          "name": "stdout",
          "text": [
            "+--------------------+------+\n",
            "|               title| count|\n",
            "+--------------------+------+\n",
            "|                Rust|251447|\n",
            "|        No Man's Sky|150267|\n",
            "|  Grand Theft Auto V|148839|\n",
            "|           Fallout 4|148538|\n",
            "|Red Dead Redempti...|117967|\n",
            "|              Arma 3|115929|\n",
            "|      Cyberpunk 2077|109328|\n",
            "|      Sea of Thieves|108191|\n",
            "|   Hearts of Iron IV|104752|\n",
            "|        BeamNG.drive| 90970|\n",
            "+--------------------+------+\n",
            "only showing top 10 rows\n",
            "\n"
          ]
        }
      ]
    },
    {
      "cell_type": "markdown",
      "source": [
        "### By Atmospheric"
      ],
      "metadata": {
        "id": "cTNWti_P_b2x"
      }
    },
    {
      "cell_type": "code",
      "source": [
        "top_game8 = ganre_2.select('title').filter(\"col == 'Atmospheric'\").groupBy(\"title\").count().orderBy(f.col('count').desc())"
      ],
      "metadata": {
        "id": "VK5M_1Cj_dWm"
      },
      "execution_count": null,
      "outputs": []
    },
    {
      "cell_type": "code",
      "source": [
        "top_game8.show(10)"
      ],
      "metadata": {
        "id": "F_EpH-hs_dZb",
        "colab": {
          "base_uri": "https://localhost:8080/"
        },
        "outputId": "8e4bb556-4200-4d67-dd4f-d16a36998618"
      },
      "execution_count": null,
      "outputs": [
        {
          "output_type": "stream",
          "name": "stdout",
          "text": [
            "+--------------------+------+\n",
            "|               title| count|\n",
            "+--------------------+------+\n",
            "|        No Man's Sky|150267|\n",
            "|  Grand Theft Auto V|148839|\n",
            "|           Fallout 4|148538|\n",
            "|Call of Duty®: Mo...|131361|\n",
            "|Red Dead Redempti...|117967|\n",
            "|      Cyberpunk 2077|109328|\n",
            "|      Sea of Thieves|108191|\n",
            "|The Binding of Is...| 98643|\n",
            "|Sid Meier’s Civil...| 83191|\n",
            "|The Elder Scrolls...| 68834|\n",
            "+--------------------+------+\n",
            "only showing top 10 rows\n",
            "\n"
          ]
        }
      ]
    },
    {
      "cell_type": "markdown",
      "source": [
        "### By Simulation"
      ],
      "metadata": {
        "id": "bLF_vHk6_toE"
      }
    },
    {
      "cell_type": "code",
      "source": [
        "top_game9 = ganre_2.select('title').filter(\"col == 'Simulation'\").groupBy(\"title\").count().orderBy(f.col('count').desc())"
      ],
      "metadata": {
        "id": "i_td0bdK_2o7"
      },
      "execution_count": null,
      "outputs": []
    },
    {
      "cell_type": "code",
      "source": [
        "top_game9.show(10)"
      ],
      "metadata": {
        "id": "aw0oXUTY_2rg",
        "colab": {
          "base_uri": "https://localhost:8080/"
        },
        "outputId": "53a888ef-e380-4e4c-d094-f0e47406ae64"
      },
      "execution_count": null,
      "outputs": [
        {
          "output_type": "stream",
          "name": "stdout",
          "text": [
            "+--------------------+------+\n",
            "|               title| count|\n",
            "+--------------------+------+\n",
            "|                Rust|251447|\n",
            "|        No Man's Sky|150267|\n",
            "|              Arma 3|115929|\n",
            "|   Hearts of Iron IV|104752|\n",
            "|        BeamNG.drive| 90970|\n",
            "|              VRChat| 87365|\n",
            "|Sid Meier’s Civil...| 83191|\n",
            "|     Space Engineers| 76198|\n",
            "|        Satisfactory| 68495|\n",
            "|Tom Clancy's Rain...| 67570|\n",
            "+--------------------+------+\n",
            "only showing top 10 rows\n",
            "\n"
          ]
        }
      ]
    },
    {
      "cell_type": "markdown",
      "source": [
        "### By Sandbox"
      ],
      "metadata": {
        "id": "teEDAtQz_85N"
      }
    },
    {
      "cell_type": "code",
      "source": [
        "top_game10 = ganre_2.select('title').filter(\"col == 'Sandbox'\").groupBy(\"title\").count().orderBy(f.col('count').desc())"
      ],
      "metadata": {
        "id": "hEfmUIPSABhk"
      },
      "execution_count": null,
      "outputs": []
    },
    {
      "cell_type": "code",
      "source": [
        "top_game10.show(10)"
      ],
      "metadata": {
        "id": "y3g-ssfxABmR",
        "colab": {
          "base_uri": "https://localhost:8080/"
        },
        "outputId": "b0fc5cba-fe9b-4f65-822e-022a59f60a3c"
      },
      "execution_count": null,
      "outputs": [
        {
          "output_type": "stream",
          "name": "stdout",
          "text": [
            "+--------------------+------+\n",
            "|               title| count|\n",
            "+--------------------+------+\n",
            "|                Rust|251447|\n",
            "|        No Man's Sky|150267|\n",
            "|    Wallpaper Engine|149644|\n",
            "|  Grand Theft Auto V|148839|\n",
            "|           Fallout 4|148538|\n",
            "|Red Dead Redempti...|117967|\n",
            "|              Arma 3|115929|\n",
            "|   Hearts of Iron IV|104752|\n",
            "|        BeamNG.drive| 90970|\n",
            "|              VRChat| 87365|\n",
            "+--------------------+------+\n",
            "only showing top 10 rows\n",
            "\n"
          ]
        }
      ]
    },
    {
      "cell_type": "markdown",
      "source": [
        "## ----Trend by time----"
      ],
      "metadata": {
        "id": "7T5APY61jF_w"
      }
    },
    {
      "cell_type": "code",
      "source": [
        "trend = all_data.groupBy(\"title\",'date_release').count().orderBy(f.col('count').desc())"
      ],
      "metadata": {
        "id": "U1I_-0Wj6V8X"
      },
      "execution_count": null,
      "outputs": []
    },
    {
      "cell_type": "code",
      "source": [
        "trend.show(10)"
      ],
      "metadata": {
        "colab": {
          "base_uri": "https://localhost:8080/"
        },
        "id": "g3Efj0_Y6aT8",
        "outputId": "9800c4ee-52ee-4b51-dc94-e29cc3a45e10"
      },
      "execution_count": null,
      "outputs": [
        {
          "output_type": "stream",
          "name": "stdout",
          "text": [
            "+--------------------+------------+------+\n",
            "|               title|date_release| count|\n",
            "+--------------------+------------+------+\n",
            "|                Rust|  2018-02-08|251447|\n",
            "|Counter-Strike: G...|  2012-08-21|172422|\n",
            "|        No Man's Sky|  2016-08-12|150267|\n",
            "|    Wallpaper Engine|  2018-11-01|149644|\n",
            "|  Grand Theft Auto V|  2015-04-13|148839|\n",
            "|           Fallout 4|  2015-11-09|148538|\n",
            "|Call of Duty®: Mo...|  2022-10-27|131361|\n",
            "|Red Dead Redempti...|  2019-12-05|117967|\n",
            "|              Arma 3|  2013-09-12|115929|\n",
            "|       Path of Exile|  2013-10-23|111579|\n",
            "+--------------------+------------+------+\n",
            "only showing top 10 rows\n",
            "\n"
          ]
        }
      ]
    },
    {
      "cell_type": "markdown",
      "source": [
        "### By < 2000\n"
      ],
      "metadata": {
        "id": "rhunDAP9pR5D"
      }
    },
    {
      "cell_type": "code",
      "source": [
        "trend1 = all_data.filter((f.year('date_release') < lit('2000'))).groupBy(\"title\",'date_release').count().orderBy(f.col('count').desc())"
      ],
      "metadata": {
        "id": "4jJCJU5Ojnvq"
      },
      "execution_count": null,
      "outputs": []
    },
    {
      "cell_type": "code",
      "source": [
        "trend1.show()"
      ],
      "metadata": {
        "id": "TLfS1R2iog-N",
        "colab": {
          "base_uri": "https://localhost:8080/"
        },
        "outputId": "52819dfd-2e96-40d3-c9bf-b7bff7d81079"
      },
      "execution_count": null,
      "outputs": [
        {
          "output_type": "stream",
          "name": "stdout",
          "text": [
            "+--------------------+------------+-----+\n",
            "|               title|date_release|count|\n",
            "+--------------------+------------+-----+\n",
            "|Carmageddon Max Pack|  1997-06-30|    1|\n",
            "|           Half-Life|  1998-11-08|    1|\n",
            "|Team Fortress Cla...|  1999-04-01|    1|\n",
            "|Half-Life: Opposi...|  1999-11-01|    1|\n",
            "+--------------------+------------+-----+\n",
            "\n"
          ]
        }
      ]
    },
    {
      "cell_type": "markdown",
      "source": [
        "### By 2000-2005"
      ],
      "metadata": {
        "id": "-JXQpntrpbC0"
      }
    },
    {
      "cell_type": "code",
      "source": [
        "trend2 = all_data.filter((f.year('date_release') > lit('2000')) &(f.year('date_release') <= lit('2005'))).groupBy(\"title\",'date_release').count().orderBy(f.col('count').desc())"
      ],
      "metadata": {
        "id": "ecfceUAKpgw0"
      },
      "execution_count": null,
      "outputs": []
    },
    {
      "cell_type": "code",
      "source": [
        "trend2.show(10)"
      ],
      "metadata": {
        "id": "Az_t3Nxz1G6n",
        "colab": {
          "base_uri": "https://localhost:8080/"
        },
        "outputId": "6f348313-e43c-4aa1-d69b-49465d308e62"
      },
      "execution_count": null,
      "outputs": [
        {
          "output_type": "stream",
          "name": "stdout",
          "text": [
            "+--------------------+------------+-----+\n",
            "|               title|date_release|count|\n",
            "+--------------------+------------+-----+\n",
            "|Half-Life: Blue S...|  2001-06-01|    1|\n",
            "|   Half-Life: Source|  2004-06-01|    1|\n",
            "|  Deathmatch Classic|  2001-06-01|    1|\n",
            "|       Day of Defeat|  2003-05-01|    1|\n",
            "|Half-Life 2: Deat...|  2004-11-01|    1|\n",
            "|               Mafia|  2002-08-28|    1|\n",
            "|Counter-Strike: S...|  2004-11-01|    1|\n",
            "|Sid Meier's Pirates!|  2005-07-11|    1|\n",
            "|    Rag Doll Kung Fu|  2005-10-12|    1|\n",
            "+--------------------+------------+-----+\n",
            "\n"
          ]
        }
      ]
    },
    {
      "cell_type": "markdown",
      "source": [
        "### By 2005- 2010 "
      ],
      "metadata": {
        "id": "8yb_9ie51VAJ"
      }
    },
    {
      "cell_type": "code",
      "source": [
        "trend3 = all_data.filter((f.year('date_release') > lit('2005')) &(f.year('date_release') <= lit('2010'))).groupBy(\"title\",'date_release').count().orderBy(f.col('count').desc())"
      ],
      "metadata": {
        "id": "N2GXguhH1aas"
      },
      "execution_count": null,
      "outputs": []
    },
    {
      "cell_type": "code",
      "source": [
        "trend3.show(10)"
      ],
      "metadata": {
        "id": "aAWetEDm1adt",
        "colab": {
          "base_uri": "https://localhost:8080/"
        },
        "outputId": "5243085a-8693-47aa-e14f-180f22f9972d"
      },
      "execution_count": null,
      "outputs": [
        {
          "output_type": "stream",
          "name": "stdout",
          "text": [
            "+--------------------+------------+-----+\n",
            "|               title|date_release|count|\n",
            "+--------------------+------------+-----+\n",
            "|         Garry's Mod|  2006-11-29|35199|\n",
            "|  Fallout: New Vegas|  2010-10-19|18488|\n",
            "|Call of Duty®: Bl...|  2010-11-09|18359|\n",
            "|       Left 4 Dead 2|  2009-11-16|11522|\n",
            "|     Team Fortress 2|  2007-10-10| 3787|\n",
            "|Space Quest™ Coll...|  2009-07-23|    1|\n",
            "|         X3: Reunion|  2006-07-21|    1|\n",
            "|  Bejeweled 2 Deluxe|  2006-08-30|    1|\n",
            "|             ArcaniA|  2010-10-15|    1|\n",
            "|        Patrician IV|  2010-09-17|    1|\n",
            "+--------------------+------------+-----+\n",
            "only showing top 10 rows\n",
            "\n"
          ]
        }
      ]
    },
    {
      "cell_type": "markdown",
      "source": [
        "### By 2010 - 2015 "
      ],
      "metadata": {
        "id": "Fah6RhCx2UuH"
      }
    },
    {
      "cell_type": "code",
      "source": [
        "trend4 = all_data.filter((f.year('date_release') > lit('2010')) &(f.year('date_release') <= lit('2015'))).groupBy(\"title\",'date_release').count().orderBy(f.col('count').desc())"
      ],
      "metadata": {
        "id": "szlHBrn42Zu-"
      },
      "execution_count": null,
      "outputs": []
    },
    {
      "cell_type": "code",
      "source": [
        "trend4.show(10)"
      ],
      "metadata": {
        "id": "Qus_DlU72eOm",
        "colab": {
          "base_uri": "https://localhost:8080/"
        },
        "outputId": "b55b504d-7008-482a-8790-e2254bf0a34e"
      },
      "execution_count": null,
      "outputs": [
        {
          "output_type": "stream",
          "name": "stdout",
          "text": [
            "+--------------------+------------+------+\n",
            "|               title|date_release| count|\n",
            "+--------------------+------------+------+\n",
            "|Counter-Strike: G...|  2012-08-21|172422|\n",
            "|  Grand Theft Auto V|  2015-04-13|148839|\n",
            "|           Fallout 4|  2015-11-09|148538|\n",
            "|              Arma 3|  2013-09-12|115929|\n",
            "|       Path of Exile|  2013-10-23|111579|\n",
            "|The Binding of Is...|  2014-11-04| 98643|\n",
            "|        BeamNG.drive|  2015-05-29| 90970|\n",
            "|Tom Clancy's Rain...|  2015-12-01| 67570|\n",
            "|            PAYDAY 2|  2013-08-13| 63813|\n",
            "|              Dota 2|  2013-07-09| 61361|\n",
            "+--------------------+------------+------+\n",
            "only showing top 10 rows\n",
            "\n"
          ]
        }
      ]
    },
    {
      "cell_type": "markdown",
      "source": [
        "### By 2015 - 2020"
      ],
      "metadata": {
        "id": "N_cHTvra2o_a"
      }
    },
    {
      "cell_type": "code",
      "source": [
        "trend5 = all_data.filter((f.year('date_release') > lit('2015')) &(f.year('date_release') <= lit('2020'))).groupBy(\"title\",'date_release').count().orderBy(f.col('count').desc())"
      ],
      "metadata": {
        "id": "Llq1fY8125IR"
      },
      "execution_count": null,
      "outputs": []
    },
    {
      "cell_type": "code",
      "source": [
        "trend5.show(10)"
      ],
      "metadata": {
        "id": "XOPYSQTS3BKG",
        "colab": {
          "base_uri": "https://localhost:8080/"
        },
        "outputId": "c6ca7609-06ff-4318-c478-1a195e31f4fc"
      },
      "execution_count": null,
      "outputs": [
        {
          "output_type": "stream",
          "name": "stdout",
          "text": [
            "+--------------------+------------+------+\n",
            "|               title|date_release| count|\n",
            "+--------------------+------------+------+\n",
            "|                Rust|  2018-02-08|251447|\n",
            "|        No Man's Sky|  2016-08-12|150267|\n",
            "|    Wallpaper Engine|  2018-11-01|149644|\n",
            "|Red Dead Redempti...|  2019-12-05|117967|\n",
            "|      Cyberpunk 2077|  2020-12-09|109328|\n",
            "|      Sea of Thieves|  2020-06-03|108191|\n",
            "|   Hearts of Iron IV|  2016-06-06|104752|\n",
            "|          Brawlhalla|  2017-10-17| 99033|\n",
            "|              VRChat|  2017-02-01| 87365|\n",
            "|Sid Meier’s Civil...|  2016-10-20| 83191|\n",
            "+--------------------+------------+------+\n",
            "only showing top 10 rows\n",
            "\n"
          ]
        }
      ]
    },
    {
      "cell_type": "markdown",
      "source": [
        "### By >= 2020"
      ],
      "metadata": {
        "id": "lyat1U0E3G2h"
      }
    },
    {
      "cell_type": "code",
      "source": [
        "trend6 = all_data.filter((f.year('date_release') >= lit('2020'))).groupBy(\"title\",'date_release').count().orderBy(f.col('count').desc())"
      ],
      "metadata": {
        "id": "4ZrN3KPC3Pnv"
      },
      "execution_count": null,
      "outputs": []
    },
    {
      "cell_type": "code",
      "source": [
        "trend6.show(10)"
      ],
      "metadata": {
        "id": "pwj6KUdC3PsV",
        "colab": {
          "base_uri": "https://localhost:8080/"
        },
        "outputId": "037880f8-8d1e-4553-f4bf-d3543a595aa6"
      },
      "execution_count": null,
      "outputs": [
        {
          "output_type": "stream",
          "name": "stdout",
          "text": [
            "+--------------------+------------+------+\n",
            "|               title|date_release| count|\n",
            "+--------------------+------------+------+\n",
            "|Call of Duty®: Mo...|  2022-10-27|131361|\n",
            "|      Cyberpunk 2077|  2020-12-09|109328|\n",
            "|      Sea of Thieves|  2020-06-03|108191|\n",
            "|            Lost Ark|  2022-02-11| 94162|\n",
            "|        Satisfactory|  2020-06-08| 68495|\n",
            "|               Stray|  2022-07-19| 56284|\n",
            "|Dying Light 2 Sta...|  2022-02-03| 55244|\n",
            "|          ELDEN RING|  2022-02-24| 55120|\n",
            "|Mount & Blade II:...|  2022-10-25| 54219|\n",
            "|       Borderlands 3|  2020-03-13| 50566|\n",
            "+--------------------+------------+------+\n",
            "only showing top 10 rows\n",
            "\n"
          ]
        }
      ]
    }
  ],
  "metadata": {
    "colab": {
      "provenance": [],
      "toc_visible": true,
      "authorship_tag": "ABX9TyOWFD+4bnRy0SigMWZHZPpC",
      "include_colab_link": true
    },
    "kernelspec": {
      "display_name": "Python 3",
      "name": "python3"
    },
    "language_info": {
      "name": "python"
    }
  },
  "nbformat": 4,
  "nbformat_minor": 0
}