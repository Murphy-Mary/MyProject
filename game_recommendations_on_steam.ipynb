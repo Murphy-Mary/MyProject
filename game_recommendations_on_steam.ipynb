{
  "nbformat": 4,
  "nbformat_minor": 0,
  "metadata": {
    "colab": {
      "provenance": [],
      "authorship_tag": "ABX9TyMMV2lWUUuaNnH6n4xvCJpz",
      "include_colab_link": true
    },
    "kernelspec": {
      "name": "python3",
      "display_name": "Python 3"
    },
    "language_info": {
      "name": "python"
    }
  },
  "cells": [
    {
      "cell_type": "markdown",
      "metadata": {
        "id": "view-in-github",
        "colab_type": "text"
      },
      "source": [
        "<a href=\"https://colab.research.google.com/github/Murphy-Mary/MyProject/blob/main/game_recommendations_on_steam.ipynb\" target=\"_parent\"><img src=\"https://colab.research.google.com/assets/colab-badge.svg\" alt=\"Open In Colab\"/></a>"
      ]
    },
    {
      "cell_type": "markdown",
      "source": [
        "#nonono"
      ],
      "metadata": {
        "id": "WoSy2WGo6WtZ"
      }
    },
    {
      "cell_type": "code",
      "source": [
        "# all_data = game_tng.join(user_recc,[\"app_id\"],\"full\")"
      ],
      "metadata": {
        "id": "vg8sasMOfDhi"
      },
      "execution_count": null,
      "outputs": []
    },
    {
      "cell_type": "code",
      "source": [
        "# all_data.printSchema()"
      ],
      "metadata": {
        "id": "nwXzy6-ZfU3a"
      },
      "execution_count": null,
      "outputs": []
    },
    {
      "cell_type": "code",
      "source": [
        "# all_data.count()\n",
        "# all_data.show()\n",
        "# app_id,title,win"
      ],
      "metadata": {
        "id": "zE3GOshplWup"
      },
      "execution_count": null,
      "outputs": []
    },
    {
      "cell_type": "code",
      "source": [
        "#Drop Null\n",
        "# all_data = all_data.filter(all_data.app_id.isNotNull()|all_data.title.isNotNull()|all_data.win.isNotNull()).sort(\"app_id\") "
      ],
      "metadata": {
        "id": "xtCh1iEHopwa"
      },
      "execution_count": null,
      "outputs": []
    },
    {
      "cell_type": "code",
      "source": [
        "# all_data.count()"
      ],
      "metadata": {
        "id": "fqBqphf-tkr-"
      },
      "execution_count": null,
      "outputs": []
    },
    {
      "cell_type": "code",
      "source": [
        "# all_data.show()"
      ],
      "metadata": {
        "id": "-33fjiJ8kweI"
      },
      "execution_count": null,
      "outputs": []
    },
    {
      "cell_type": "code",
      "source": [
        "# all_data.filter(all_data.date_release.isNull()).show()"
      ],
      "metadata": {
        "id": "dyCrbVNIyU42"
      },
      "execution_count": null,
      "outputs": []
    },
    {
      "cell_type": "code",
      "source": [
        "# all_data.groupBy(\"app_id\").count().filter(\"count > 1\").sort(\"app_id\").show()"
      ],
      "metadata": {
        "id": "7GuCkh3T0A7i"
      },
      "execution_count": null,
      "outputs": []
    },
    {
      "cell_type": "code",
      "source": [
        "# all_data.write.parquet(\"/content/gdrive/MyDrive/sizeproject/allgamerecc.parquet\")"
      ],
      "metadata": {
        "id": "EoLoPRO0mYja"
      },
      "execution_count": null,
      "outputs": []
    },
    {
      "cell_type": "markdown",
      "source": [
        "# Import data\n"
      ],
      "metadata": {
        "id": "9uIPv4sZ5sn_"
      }
    },
    {
      "cell_type": "code",
      "execution_count": null,
      "metadata": {
        "id": "_5cB2k1T3LJE",
        "colab": {
          "base_uri": "https://localhost:8080/"
        },
        "outputId": "5a8a99a0-d1fe-4d62-d399-63f57c0a6a45"
      },
      "outputs": [
        {
          "output_type": "stream",
          "name": "stdout",
          "text": [
            "Mounted at /content/gdrive\n",
            "Downloading game-recommendations-on-steam.zip to /content\n",
            " 98% 110M/112M [00:00<00:00, 251MB/s] \n",
            "100% 112M/112M [00:00<00:00, 229MB/s]\n",
            "Archive:  /content/game-recommendations-on-steam.zip\n",
            "  inflating: games.csv               \n",
            "  inflating: games_metadata.json     \n",
            "  inflating: recommendations.csv     \n",
            "  inflating: users.csv               \n"
          ]
        }
      ],
      "source": [
        "from google.colab import drive\n",
        "drive.mount('/content/gdrive')\n",
        "\n",
        "import os\n",
        "os.environ['KAGGLE_CONFIG_DIR'] = \"/content/gdrive/My Drive/Kaggle\"\n",
        "\n",
        "!kaggle datasets download -d antonkozyriev/game-recommendations-on-steam\n",
        "!unzip /content/game-recommendations-on-steam.zip && rm /content/game-recommendations-on-steam.zip"
      ]
    },
    {
      "cell_type": "code",
      "source": [
        "!apt-get update"
      ],
      "metadata": {
        "id": "X_5ZxVQ99DB5",
        "colab": {
          "base_uri": "https://localhost:8080/"
        },
        "outputId": "fd72055b-4f3c-49dd-ec09-1ec858630167"
      },
      "execution_count": null,
      "outputs": [
        {
          "output_type": "stream",
          "name": "stdout",
          "text": [
            "\r0% [Working]\r            \rGet:1 https://cloud.r-project.org/bin/linux/ubuntu focal-cran40/ InRelease [3,622 B]\n",
            "\r0% [Connecting to archive.ubuntu.com (91.189.91.39)] [Connecting to security.ub\r0% [Connecting to archive.ubuntu.com (91.189.91.39)] [Connecting to security.ub\r                                                                               \rIgn:2 https://developer.download.nvidia.com/compute/machine-learning/repos/ubuntu2004/x86_64  InRelease\n",
            "\r0% [Waiting for headers] [Waiting for headers] [Waiting for headers] [Connectin\r                                                                               \rGet:3 http://security.ubuntu.com/ubuntu focal-security InRelease [114 kB]\n",
            "\r0% [Waiting for headers] [3 InRelease 14.2 kB/114 kB 12%] [Waiting for headers]\r                                                                               \rHit:4 https://developer.download.nvidia.com/compute/cuda/repos/ubuntu2004/x86_64  InRelease\n",
            "\r0% [Waiting for headers] [3 InRelease 14.2 kB/114 kB 12%] [Waiting for headers]\r                                                                               \rHit:5 http://archive.ubuntu.com/ubuntu focal InRelease\n",
            "\r0% [Waiting for headers] [3 InRelease 14.2 kB/114 kB 12%] [Waiting for headers]\r                                                                               \rHit:6 https://developer.download.nvidia.com/compute/machine-learning/repos/ubuntu2004/x86_64  Release\n",
            "Get:7 http://archive.ubuntu.com/ubuntu focal-updates InRelease [114 kB]\n",
            "Get:8 http://ppa.launchpad.net/c2d4u.team/c2d4u4.0+/ubuntu focal InRelease [18.1 kB]\n",
            "Get:9 https://cloud.r-project.org/bin/linux/ubuntu focal-cran40/ Packages [71.6 kB]\n",
            "Get:10 http://archive.ubuntu.com/ubuntu focal-backports InRelease [108 kB]\n",
            "Hit:11 http://ppa.launchpad.net/cran/libgit2/ubuntu focal InRelease\n",
            "Hit:13 http://ppa.launchpad.net/deadsnakes/ppa/ubuntu focal InRelease\n",
            "Get:14 http://archive.ubuntu.com/ubuntu focal-updates/universe amd64 Packages [1,297 kB]\n",
            "Hit:15 http://ppa.launchpad.net/graphics-drivers/ppa/ubuntu focal InRelease\n",
            "Get:16 http://security.ubuntu.com/ubuntu focal-security/universe amd64 Packages [998 kB]\n",
            "Get:17 http://archive.ubuntu.com/ubuntu focal-updates/main amd64 Packages [2,970 kB]\n",
            "Hit:18 http://ppa.launchpad.net/ubuntugis/ppa/ubuntu focal InRelease\n",
            "Get:19 http://security.ubuntu.com/ubuntu focal-security/main amd64 Packages [2,496 kB]\n",
            "Get:20 http://ppa.launchpad.net/c2d4u.team/c2d4u4.0+/ubuntu focal/main Sources [2,392 kB]\n",
            "Get:21 http://ppa.launchpad.net/c2d4u.team/c2d4u4.0+/ubuntu focal/main amd64 Packages [1,133 kB]\n",
            "Fetched 11.7 MB in 4s (2,898 kB/s)\n",
            "Reading package lists... Done\n"
          ]
        }
      ]
    },
    {
      "cell_type": "code",
      "source": [
        "#Get Install the Java Development Kit\n",
        "!apt-get install openjdk-8-jdk-headless -qq > /dev/null\n",
        "#Get Spark lib -- address need to be change according to the current version of Spark: https://downloads.apache.org/spark/\n",
        "!wget  http://apache.osuosl.org/spark/spark-3.3.2/spark-3.3.2-bin-hadoop3.tgz\n",
        "#Unzip th Spark\n",
        "!tar xf spark-3.3.2-bin-hadoop3.tgz\n",
        "!rm spark-3.3.2-bin-hadoop3.tgz\n",
        "#install findspark for Python\n",
        "!pip install -q findspark\n",
        "#Install extra lib(s)\n",
        "!pip install -q xlrd\n",
        "!pip install -q kaggle\n",
        "!pip install -q kora\n",
        "\n",
        "#import and set environment for spark\n",
        "os.environ[\"JAVA_HOME\"] = \"/usr/lib/jvm/java-8-openjdk-amd64\"\n",
        "os.environ[\"SPARK_HOME\"] = \"/content/spark-3.3.2-bin-hadoop3\"\n",
        "import kora\n",
        "\n",
        "import findspark\n",
        "findspark.init()\n",
        "from pyspark import SparkContext\n",
        "from pyspark.sql import SparkSession\n",
        "\n",
        "\n",
        "SPARK_URL = \"local[*]\"\n",
        "\n",
        "spark = SparkSession.builder.master(SPARK_URL).getOrCreate()\n",
        "\n",
        "# Check the pyspark version\n",
        "import pyspark\n",
        "print(pyspark.__version__)"
      ],
      "metadata": {
        "id": "yImMt6v56jww",
        "colab": {
          "base_uri": "https://localhost:8080/"
        },
        "outputId": "9cee85b6-41b7-4f72-9b84-c1610757d708"
      },
      "execution_count": null,
      "outputs": [
        {
          "output_type": "stream",
          "name": "stdout",
          "text": [
            "--2023-02-21 16:03:45--  http://apache.osuosl.org/spark/spark-3.3.2/spark-3.3.2-bin-hadoop3.tgz\n",
            "Resolving apache.osuosl.org (apache.osuosl.org)... 140.211.166.134, 64.50.233.100, 64.50.236.52, ...\n",
            "Connecting to apache.osuosl.org (apache.osuosl.org)|140.211.166.134|:80... connected.\n",
            "HTTP request sent, awaiting response... 200 OK\n",
            "Length: 299360284 (285M) [application/x-gzip]\n",
            "Saving to: ‘spark-3.3.2-bin-hadoop3.tgz’\n",
            "\n",
            "spark-3.3.2-bin-had 100%[===================>] 285.49M   115MB/s    in 2.5s    \n",
            "\n",
            "2023-02-21 16:03:47 (115 MB/s) - ‘spark-3.3.2-bin-hadoop3.tgz’ saved [299360284/299360284]\n",
            "\n",
            "\u001b[2K     \u001b[90m━━━━━━━━━━━━━━━━━━━━━━━━━━━━━━━━━━━━━━━━\u001b[0m \u001b[32m57.7/57.7 KB\u001b[0m \u001b[31m2.7 MB/s\u001b[0m eta \u001b[36m0:00:00\u001b[0m\n",
            "\u001b[2K     \u001b[90m━━━━━━━━━━━━━━━━━━━━━━━━━━━━━━━━━━━━━━━━\u001b[0m \u001b[32m1.6/1.6 MB\u001b[0m \u001b[31m31.5 MB/s\u001b[0m eta \u001b[36m0:00:00\u001b[0m\n",
            "\u001b[?25h3.3.2\n"
          ]
        }
      ]
    },
    {
      "cell_type": "code",
      "source": [
        "!pip install pyspark_dist_explore"
      ],
      "metadata": {
        "colab": {
          "base_uri": "https://localhost:8080/"
        },
        "id": "hPfNL1sABeDz",
        "outputId": "51ec6cc4-fbb6-424b-bde6-9ff902116db8"
      },
      "execution_count": null,
      "outputs": [
        {
          "output_type": "stream",
          "name": "stdout",
          "text": [
            "Looking in indexes: https://pypi.org/simple, https://us-python.pkg.dev/colab-wheels/public/simple/\n",
            "Collecting pyspark_dist_explore\n",
            "  Downloading pyspark_dist_explore-0.1.8-py3-none-any.whl (7.2 kB)\n",
            "Requirement already satisfied: scipy in /usr/local/lib/python3.8/dist-packages (from pyspark_dist_explore) (1.7.3)\n",
            "Requirement already satisfied: pandas in /usr/local/lib/python3.8/dist-packages (from pyspark_dist_explore) (1.3.5)\n",
            "Requirement already satisfied: numpy in /usr/local/lib/python3.8/dist-packages (from pyspark_dist_explore) (1.21.6)\n",
            "Requirement already satisfied: matplotlib in /usr/local/lib/python3.8/dist-packages (from pyspark_dist_explore) (3.2.2)\n",
            "Requirement already satisfied: cycler>=0.10 in /usr/local/lib/python3.8/dist-packages (from matplotlib->pyspark_dist_explore) (0.11.0)\n",
            "Requirement already satisfied: kiwisolver>=1.0.1 in /usr/local/lib/python3.8/dist-packages (from matplotlib->pyspark_dist_explore) (1.4.4)\n",
            "Requirement already satisfied: pyparsing!=2.0.4,!=2.1.2,!=2.1.6,>=2.0.1 in /usr/local/lib/python3.8/dist-packages (from matplotlib->pyspark_dist_explore) (3.0.9)\n",
            "Requirement already satisfied: python-dateutil>=2.1 in /usr/local/lib/python3.8/dist-packages (from matplotlib->pyspark_dist_explore) (2.8.2)\n",
            "Requirement already satisfied: pytz>=2017.3 in /usr/local/lib/python3.8/dist-packages (from pandas->pyspark_dist_explore) (2022.7.1)\n",
            "Requirement already satisfied: six>=1.5 in /usr/local/lib/python3.8/dist-packages (from python-dateutil>=2.1->matplotlib->pyspark_dist_explore) (1.15.0)\n",
            "Installing collected packages: pyspark_dist_explore\n",
            "Successfully installed pyspark_dist_explore-0.1.8\n"
          ]
        }
      ]
    },
    {
      "cell_type": "code",
      "source": [
        "import numpy as np \n",
        "import pandas as pd\n",
        "import pyspark.sql.functions as f\n",
        "import matplotlib.pyplot as plt\n",
        "import seaborn as sns\n",
        "\n",
        "from IPython.display import display, HTML, display_html #usefull to display wide tables\n",
        "from pyspark_dist_explore import Histogram, hist, distplot, pandas_histogram\n",
        "from pyspark.sql import Row\n",
        "\n",
        "from pyspark.sql.functions import lit\n",
        "from pyspark import SparkConf\n",
        "from pyspark import SparkContext\n",
        "sc = SparkContext.getOrCreate(SparkConf().setMaster(\"local[*]\"))\n",
        "\n",
        "#sc = pyspark.SparkContext()\n",
        "sqlContext = pyspark.SQLContext(sc)\n",
        "%matplotlib inline"
      ],
      "metadata": {
        "id": "c4u7xPYE44mB",
        "colab": {
          "base_uri": "https://localhost:8080/"
        },
        "outputId": "d0e5c00d-3550-4cd1-91bb-8dd60b37514e"
      },
      "execution_count": null,
      "outputs": [
        {
          "output_type": "stream",
          "name": "stderr",
          "text": [
            "/content/spark-3.3.2-bin-hadoop3/python/pyspark/sql/context.py:112: FutureWarning: Deprecated in 3.0.0. Use SparkSession.builder.getOrCreate() instead.\n",
            "  warnings.warn(\n"
          ]
        }
      ]
    },
    {
      "cell_type": "code",
      "source": [
        "game_tags = spark.read.json(\"/content/games_metadata.json\")\n",
        "game_tags.printSchema()\n",
        "game_tags.show()"
      ],
      "metadata": {
        "id": "r_y867ze4_ow",
        "colab": {
          "base_uri": "https://localhost:8080/"
        },
        "outputId": "8a56ca49-9c8d-4689-9b2f-21827f1ed451"
      },
      "execution_count": null,
      "outputs": [
        {
          "output_type": "stream",
          "name": "stdout",
          "text": [
            "root\n",
            " |-- app_id: long (nullable = true)\n",
            " |-- description: string (nullable = true)\n",
            " |-- tags: array (nullable = true)\n",
            " |    |-- element: string (containsNull = true)\n",
            "\n",
            "+------+--------------------+--------------------+\n",
            "|app_id|         description|                tags|\n",
            "+------+--------------------+--------------------+\n",
            "| 10090|Call of Duty is b...|[Zombies, World W...|\n",
            "| 13500|Enter the dark un...|[Action, Adventur...|\n",
            "| 22364|                    |            [Action]|\n",
            "|113020|Monaco: What's Yo...|[Co-op, Stealth, ...|\n",
            "|226560|Escape Dead Islan...|[Zombies, Adventu...|\n",
            "|249050|Dungeon of the En...|[Roguelike, Strat...|\n",
            "|250180|“METAL SLUG 3”, t...|[Arcade, Classic,...|\n",
            "|253980|Experience incred...|[RPG, Action, Fan...|\n",
            "|261550|A strategy/action...|[Medieval, Strate...|\n",
            "|271850|                    |[Strategy, Simula...|\n",
            "|282900|Packed with fast-...|[Anime, JRPG, Fem...|\n",
            "| 19810|Lead a team of do...|  [Action, Tactical]|\n",
            "| 15270|In a ferocious Ar...|[Horror, Action, ...|\n",
            "| 21130|Build the adventu...|[LEGO, Adventure,...|\n",
            "| 22130|Includes Hearts o...|[Strategy, Grand ...|\n",
            "| 29180|Enter the ambient...|[Indie, Casual, P...|\n",
            "| 32750|The best-selling ...|[Action, Simulati...|\n",
            "|241620|Action-oriented c...|[RPG, Indie, Isom...|\n",
            "|244910|Explore an abando...|[Atmospheric, Puz...|\n",
            "|245950|                    |[Action, RPG, FPS...|\n",
            "+------+--------------------+--------------------+\n",
            "only showing top 20 rows\n",
            "\n"
          ]
        }
      ]
    },
    {
      "cell_type": "code",
      "source": [
        "game_tags.count()"
      ],
      "metadata": {
        "colab": {
          "base_uri": "https://localhost:8080/"
        },
        "id": "BWt_TYOH5Eyz",
        "outputId": "bf3c214d-fea7-471d-a020-a14b3dab7069"
      },
      "execution_count": null,
      "outputs": [
        {
          "output_type": "execute_result",
          "data": {
            "text/plain": [
              "21236"
            ]
          },
          "metadata": {},
          "execution_count": 36
        }
      ]
    },
    {
      "cell_type": "code",
      "source": [
        "game = spark.read.csv('/content/games.csv',header=True)\n",
        "game.printSchema()\n",
        "game.show()"
      ],
      "metadata": {
        "colab": {
          "base_uri": "https://localhost:8080/"
        },
        "id": "F2JckxI2sc_0",
        "outputId": "bad1c04c-a5f8-4c68-f324-50e9174f495c"
      },
      "execution_count": null,
      "outputs": [
        {
          "output_type": "stream",
          "name": "stdout",
          "text": [
            "root\n",
            " |-- app_id: string (nullable = true)\n",
            " |-- title: string (nullable = true)\n",
            " |-- date_release: string (nullable = true)\n",
            " |-- win: string (nullable = true)\n",
            " |-- mac: string (nullable = true)\n",
            " |-- linux: string (nullable = true)\n",
            " |-- rating: string (nullable = true)\n",
            " |-- positive_ratio: string (nullable = true)\n",
            " |-- user_reviews: string (nullable = true)\n",
            " |-- price_final: string (nullable = true)\n",
            " |-- price_original: string (nullable = true)\n",
            " |-- discount: string (nullable = true)\n",
            " |-- steam_deck: string (nullable = true)\n",
            "\n",
            "+------+--------------------+------------+----+-----+-----+---------------+--------------+------------+-----------+--------------+--------+----------+\n",
            "|app_id|               title|date_release| win|  mac|linux|         rating|positive_ratio|user_reviews|price_final|price_original|discount|steam_deck|\n",
            "+------+--------------------+------------+----+-----+-----+---------------+--------------+------------+-----------+--------------+--------+----------+\n",
            "| 10090|Call of Duty: Wor...|  2008-11-18|true|false|false|  Very Positive|            92|       37039|      19.99|         19.99|     0.0|      true|\n",
            "| 13500|Prince of Persia:...|  2008-11-21|true|false|false|  Very Positive|            84|        2199|       9.99|          9.99|     0.0|      true|\n",
            "| 22364|BRINK: Agents of ...|  2011-08-03|true|false|false|       Positive|            85|          21|       2.99|          2.99|     0.0|      true|\n",
            "|113020|Monaco: What's Yo...|  2013-04-24|true| true| true|  Very Positive|            92|        3722|      14.99|         14.99|     0.0|      true|\n",
            "|226560|  Escape Dead Island|  2014-11-18|true|false|false|          Mixed|            61|         873|      14.99|         14.99|     0.0|      true|\n",
            "|249050|Dungeon of the EN...|  2014-10-27|true| true|false|  Very Positive|            88|        8784|      11.99|         11.99|     0.0|      true|\n",
            "|250180|        METAL SLUG 3|  2015-09-14|true|false|false|  Very Positive|            90|        5579|       7.99|          7.99|     0.0|      true|\n",
            "|253980|             Enclave|  2013-10-04|true| true| true|Mostly Positive|            75|        1608|       4.99|          4.99|     0.0|      true|\n",
            "|261550|Mount & Blade II:...|  2022-10-25|true|false|false|  Very Positive|            87|      169694|      49.99|         49.99|     0.0|      true|\n",
            "|271850|Men of War: Assau...|  2014-05-16|true|false|false|          Mixed|            61|         199|       6.99|          6.99|     0.0|      true|\n",
            "|282900|Hyperdimension Ne...|  2015-01-29|true|false|false|  Very Positive|            94|        9686|      14.99|         14.99|     0.0|      true|\n",
            "| 19810|The Sum of All Fears|  2008-10-10|true|false|false|Mostly Positive|            75|          33|       9.99|          9.99|     0.0|      true|\n",
            "| 15270|          Cold Fear™|  2008-05-13|true|false|false|  Very Positive|            85|         800|       9.99|          9.99|     0.0|      true|\n",
            "| 21130|LEGO® Harry Potte...|  2010-06-25|true|false|false|  Very Positive|            85|        5169|      19.99|         19.99|     0.0|      true|\n",
            "| 22130|Hearts of Iron 2 ...|  2009-01-23|true|false|false|  Very Positive|            85|         462|      14.99|         14.99|     0.0|      true|\n",
            "| 29180|               Osmos|  2009-08-18|true| true| true|  Very Positive|            88|         532|       9.99|          9.99|     0.0|      true|\n",
            "| 32750|          Comanche 4|  2009-06-18|true|false|false|  Very Positive|            90|         222|       9.99|          9.99|     0.0|      true|\n",
            "|241620|          Inquisitor|  2013-08-01|true|false|false|Mostly Positive|            70|         390|       9.99|          9.99|     0.0|      true|\n",
            "|244910|            Homesick|  2015-05-28|true|false|false|Mostly Positive|            77|        1139|      14.99|         14.99|     0.0|      true|\n",
            "|245950|Borderlands 2: He...|  2014-02-11|true| true| true|  Very Positive|            84|         294|       0.89|          2.99|    70.0|      true|\n",
            "+------+--------------------+------------+----+-----+-----+---------------+--------------+------------+-----------+--------------+--------+----------+\n",
            "only showing top 20 rows\n",
            "\n"
          ]
        }
      ]
    },
    {
      "cell_type": "code",
      "source": [
        "game.count()"
      ],
      "metadata": {
        "colab": {
          "base_uri": "https://localhost:8080/"
        },
        "id": "4ESV2mxR5IKI",
        "outputId": "7e2529e3-4fee-4bfb-920a-a53a6db3606e"
      },
      "execution_count": null,
      "outputs": [
        {
          "output_type": "execute_result",
          "data": {
            "text/plain": [
              "21236"
            ]
          },
          "metadata": {},
          "execution_count": 37
        }
      ]
    },
    {
      "cell_type": "code",
      "source": [
        "recomm = spark.read.csv('/content/recommendations.csv',header=True)\n",
        "recomm.printSchema()\n",
        "recomm.show()"
      ],
      "metadata": {
        "id": "c5NjzTtw5au4",
        "colab": {
          "base_uri": "https://localhost:8080/"
        },
        "outputId": "fbbbea54-aecc-44bc-edad-8a453ff4f1c6"
      },
      "execution_count": null,
      "outputs": [
        {
          "output_type": "stream",
          "name": "stdout",
          "text": [
            "root\n",
            " |-- app_id: string (nullable = true)\n",
            " |-- helpful: string (nullable = true)\n",
            " |-- funny: string (nullable = true)\n",
            " |-- date: string (nullable = true)\n",
            " |-- is_recommended: string (nullable = true)\n",
            " |-- hours: string (nullable = true)\n",
            " |-- user_id: string (nullable = true)\n",
            " |-- review_id: string (nullable = true)\n",
            "\n",
            "+-------+-------+-----+----------+--------------+-----+-------+---------+\n",
            "| app_id|helpful|funny|      date|is_recommended|hours|user_id|review_id|\n",
            "+-------+-------+-----+----------+--------------+-----+-------+---------+\n",
            "| 975370|      0|    0|2022-12-12|          true| 36.3|  14546|        0|\n",
            "| 304390|      4|    0|2017-02-17|         false| 11.5|    797|        1|\n",
            "|1085660|      2|    0|2019-11-17|          true|336.5|  66915|        2|\n",
            "| 703080|      0|    0|2022-09-23|          true| 27.4|  68251|        3|\n",
            "| 526870|      0|    0|2021-01-10|          true|  7.9|   6647|        4|\n",
            "| 306130|      0|    0|2021-10-10|          true|  8.6|  12866|        5|\n",
            "| 238960|      0|    0|2017-11-25|          true|538.8|  24829|        6|\n",
            "|    730|      0|    0|2021-11-30|         false|157.5|  17828|        7|\n",
            "| 255710|      0|    0|2021-05-21|          true| 18.7|  92535|        8|\n",
            "| 289070|      0|    0|2020-05-26|          true|397.5| 118575|        9|\n",
            "| 431960|      0|    0|2020-10-14|          true| 30.3|  53439|       10|\n",
            "|1086940|      0|    0|2020-10-07|          true| 50.0|  24147|       11|\n",
            "|1938090|      0|    0|2022-11-16|          true| 46.7|  43688|       12|\n",
            "|1286830|      2|    0|2020-07-26|          true| 19.3|  31750|       13|\n",
            "|1172620|      0|    0|2020-11-04|          true| 89.1|  34233|       14|\n",
            "| 306130|      0|    0|2021-05-12|          true| 61.1|  21306|       15|\n",
            "| 635260|      0|    0|2022-01-30|          true|177.0|  21626|       16|\n",
            "|1151340|      0|    0|2020-07-01|          true| 86.3|  34784|       17|\n",
            "| 289070|      0|    0|2020-05-29|          true|244.1|  68828|       18|\n",
            "| 392160|      3|    0|2018-12-26|         false|320.5| 106504|       19|\n",
            "+-------+-------+-----+----------+--------------+-----+-------+---------+\n",
            "only showing top 20 rows\n",
            "\n"
          ]
        }
      ]
    },
    {
      "cell_type": "code",
      "source": [
        "recomm.count()"
      ],
      "metadata": {
        "colab": {
          "base_uri": "https://localhost:8080/"
        },
        "id": "ouS-EIb15MmR",
        "outputId": "1482eaa1-f307-4ae6-ec54-16d5d3e92047"
      },
      "execution_count": null,
      "outputs": [
        {
          "output_type": "execute_result",
          "data": {
            "text/plain": [
              "6126803"
            ]
          },
          "metadata": {},
          "execution_count": 38
        }
      ]
    },
    {
      "cell_type": "code",
      "source": [
        "user = spark.read.csv('/content/users.csv',header=True)\n",
        "user.printSchema()\n",
        "user.show()"
      ],
      "metadata": {
        "colab": {
          "base_uri": "https://localhost:8080/"
        },
        "id": "Ir_n3_qPtbX1",
        "outputId": "95dbc4e2-f1fd-4184-b0f5-ab17aa3d80bd"
      },
      "execution_count": null,
      "outputs": [
        {
          "output_type": "stream",
          "name": "stdout",
          "text": [
            "root\n",
            " |-- user_id: string (nullable = true)\n",
            " |-- products: string (nullable = true)\n",
            " |-- reviews: string (nullable = true)\n",
            "\n",
            "+-------+--------+-------+\n",
            "|user_id|products|reviews|\n",
            "+-------+--------+-------+\n",
            "|4154727|     156|      1|\n",
            "|2637640|     329|      2|\n",
            "|1438551|     176|      1|\n",
            "|1549343|      98|      2|\n",
            "|1712796|     144|      2|\n",
            "|2832252|     229|      1|\n",
            "|3004113|     187|      1|\n",
            "|3128965|    1824|      1|\n",
            "|3274807|      12|      1|\n",
            "|3395007|    1319|      1|\n",
            "|3407667|    1903|      3|\n",
            "|3619475|     352|      1|\n",
            "|3788372|     107|      1|\n",
            "|4067577|     587|      3|\n",
            "| 274637|     321|      2|\n",
            "| 360193|     166|      1|\n",
            "| 546655|     752|      1|\n",
            "| 853991|     179|      1|\n",
            "|1119958|     325|      1|\n",
            "|1266621|     115|      1|\n",
            "+-------+--------+-------+\n",
            "only showing top 20 rows\n",
            "\n"
          ]
        }
      ]
    },
    {
      "cell_type": "code",
      "source": [
        "user.count()"
      ],
      "metadata": {
        "colab": {
          "base_uri": "https://localhost:8080/"
        },
        "id": "DemaH1ll5O2S",
        "outputId": "88fdf004-2df7-4626-c0ed-64c27c7ae04d"
      },
      "execution_count": null,
      "outputs": [
        {
          "output_type": "execute_result",
          "data": {
            "text/plain": [
              "4240753"
            ]
          },
          "metadata": {},
          "execution_count": 39
        }
      ]
    },
    {
      "cell_type": "markdown",
      "source": [
        "# Prepare Section"
      ],
      "metadata": {
        "id": "FwV-btcit2FE"
      }
    },
    {
      "cell_type": "code",
      "source": [
        "game_tng = game.join(game_tags,[\"app_id\"],\"full\")"
      ],
      "metadata": {
        "id": "0Xtc7csGNstL"
      },
      "execution_count": null,
      "outputs": []
    },
    {
      "cell_type": "code",
      "source": [
        "game_tng.show()\n",
        "# game_tng.select('tags').collect()[0][0][0]\n",
        "# game_tng.describe().show()"
      ],
      "metadata": {
        "colab": {
          "base_uri": "https://localhost:8080/"
        },
        "id": "yORzFdI2Ns6-",
        "outputId": "dfd282d1-9dfa-4da0-cf3b-140cdc5940b5"
      },
      "execution_count": null,
      "outputs": [
        {
          "output_type": "stream",
          "name": "stdout",
          "text": [
            "+------+--------------------+------------+----+-----+-----+--------------------+--------------+------------+-----------+--------------+--------+----------+--------------------+--------------------+\n",
            "|app_id|               title|date_release| win|  mac|linux|              rating|positive_ratio|user_reviews|price_final|price_original|discount|steam_deck|         description|                tags|\n",
            "+------+--------------------+------------+----+-----+-----+--------------------+--------------+------------+-----------+--------------+--------+----------+--------------------+--------------------+\n",
            "|    10|      Counter-Strike|  2000-11-01|true| true| true|Overwhelmingly Po...|            97|      132250|       9.99|          9.99|     0.0|      true|Play the world's ...|[Action, FPS, Mul...|\n",
            "|    50|Half-Life: Opposi...|  1999-11-01|true| true| true|Overwhelmingly Po...|            95|       14057|       4.99|          4.99|     0.0|      true|Return to the Bla...|[FPS, Action, Cla...|\n",
            "|   130|Half-Life: Blue S...|  2001-06-01|true| true| true|       Very Positive|            91|       10522|       4.99|          4.99|     0.0|      true|Made by Gearbox S...|[FPS, Action, Sci...|\n",
            "|   320|Half-Life 2: Deat...|  2004-11-01|true| true| true|       Very Positive|            89|        7539|       4.99|          4.99|     0.0|      true|Fast multiplayer ...|[Action, FPS, Mul...|\n",
            "|   420|Half-Life 2: Epis...|  2007-10-10|true| true| true|Overwhelmingly Po...|            97|       26037|       7.99|          7.99|     0.0|      true|Half-Life® 2: Epi...|[FPS, Action, Sci...|\n",
            "|   500|         Left 4 Dead|  2008-11-17|true| true|false|Overwhelmingly Po...|            96|       37937|       9.99|          9.99|     0.0|      true|From Valve (the c...|[Zombies, Co-op, ...|\n",
            "|   550|       Left 4 Dead 2|  2009-11-16|true| true| true|Overwhelmingly Po...|            97|      519066|       9.99|          9.99|     0.0|      true|Set in the zombie...|[Zombies, Co-op, ...|\n",
            "|   570|              Dota 2|  2013-07-09|true| true| true|       Very Positive|            82|     1930493|        0.0|           0.0|     0.0|      true|Every day, millio...|[Free to Play, MO...|\n",
            "|   730|Counter-Strike: G...|  2012-08-21|true| true| true|       Very Positive|            88|     6941137|      14.99|           0.0|     0.0|      true|Counter-Strike: G...|[FPS, Shooter, Mu...|\n",
            "|  1002|    Rag Doll Kung Fu|  2005-10-12|true|false|false|     Mostly Positive|            72|          44|       0.99|          0.99|     0.0|      true|A piece of Steam ...|[2D Fighter, Mart...|\n",
            "|  1200|Red Orchestra: Os...|  2006-03-14|true| true| true|       Very Positive|            84|        1282|       4.99|          4.99|     0.0|      true|Fight in the thea...|[World War II, Ac...|\n",
            "|  1250|       Killing Floor|  2009-05-14|true| true| true|Overwhelmingly Po...|            96|       35989|      19.99|         19.99|     0.0|      true|6-player co-op su...|[FPS, Zombies, Co...|\n",
            "|  1256|Killing Floor Out...|  2009-07-24|true| true| true|            Positive|            84|          46|       7.99|          7.99|     0.0|      true|                    |            [Action]|\n",
            "|  1257|Killing Floor: Ni...|  2010-05-19|true| true| true|       Very Positive|            89|          57|       7.99|          7.99|     0.0|      true|                    |            [Action]|\n",
            "|  1520|              DEFCON|  2012-04-24|true| true| true|       Very Positive|            86|        2864|       9.99|          9.99|     0.0|      true|Inspired by the 1...|[Strategy, Indie,...|\n",
            "|  1530|          Multiwinia|  2008-09-19|true| true|false|       Very Positive|            81|         368|       9.99|          9.99|     0.0|      true|\"Long ago a compu...|[Indie, RTS, Stra...|\n",
            "|  1640|Disciples II: Gal...|  2006-07-06|true|false|false|       Very Positive|            81|        1112|       6.99|          6.99|     0.0|      true|Disciples II: Gal...|[Turn-Based Strat...|\n",
            "|  1690|     Space Empires V|  2006-10-16|true|false|false|     Mostly Positive|            71|         360|       2.99|         14.99|    80.0|      true|Space Empires V i...|[Strategy, 4X, Sp...|\n",
            "|  1700|         Arx Fatalis|  2007-04-03|true|false|false|       Very Positive|            86|        1543|       4.99|          4.99|     0.0|      true|This critically a...|[RPG, First-Perso...|\n",
            "|  1930|Two Worlds Epic E...|  2009-04-30|true| true| true|     Mostly Positive|            76|        2220|       9.99|          9.99|     0.0|      true|... 300 years aft...|[RPG, Open World,...|\n",
            "+------+--------------------+------------+----+-----+-----+--------------------+--------------+------------+-----------+--------------+--------+----------+--------------------+--------------------+\n",
            "only showing top 20 rows\n",
            "\n"
          ]
        }
      ]
    },
    {
      "cell_type": "code",
      "source": [
        "game_tng = game_tng.filter(game_tng.app_id.isNotNull()\\\n",
        "                           |game_tng.title.isNotNull()\\\n",
        "                           |game_tng.win.isNotNull()\\\n",
        "                           |game_tng.rating.isNotNull()\\\n",
        "                           |game_tng.price_final.isNotNull()\\\n",
        "                           |game_tng.price_original.isNotNull()\\\n",
        "                           |game_tng.description.isNotNull()\\\n",
        "                           |game_tng.tags.isNotNull()\\\n",
        "                           ).sort(\"app_id\") \n"
      ],
      "metadata": {
        "id": "3vu2QFBj6M7i"
      },
      "execution_count": null,
      "outputs": []
    },
    {
      "cell_type": "code",
      "source": [
        "game_tng.count()"
      ],
      "metadata": {
        "colab": {
          "base_uri": "https://localhost:8080/"
        },
        "id": "nUfY2ny26lz0",
        "outputId": "6294cd1b-5b73-4dc4-936d-bea0372bcbde"
      },
      "execution_count": null,
      "outputs": [
        {
          "output_type": "execute_result",
          "data": {
            "text/plain": [
              "21236"
            ]
          },
          "metadata": {},
          "execution_count": 68
        }
      ]
    },
    {
      "cell_type": "code",
      "source": [
        "game_tng.show()"
      ],
      "metadata": {
        "colab": {
          "base_uri": "https://localhost:8080/"
        },
        "id": "hPG6M13B-u1S",
        "outputId": "b3e397f0-81cb-48f8-98c1-40e2a81f71ca"
      },
      "execution_count": null,
      "outputs": [
        {
          "output_type": "stream",
          "name": "stdout",
          "text": [
            "+-------+--------------------------+------------+----+-----+-----+--------------------+--------------+------------+-----------+--------------+--------+----------+------------------------------+--------------------+\n",
            "| app_id|                     title|date_release| win|  mac|linux|              rating|positive_ratio|user_reviews|price_final|price_original|discount|steam_deck|                   description|                tags|\n",
            "+-------+--------------------------+------------+----+-----+-----+--------------------+--------------+------------+-----------+--------------+--------+----------+------------------------------+--------------------+\n",
            "|     10|            Counter-Strike|  2000-11-01|true| true| true|Overwhelmingly Po...|            97|      132250|       9.99|          9.99|     0.0|      true|          Play the world's ...|[Action, FPS, Mul...|\n",
            "|1000000|                 ASCENXION|  2021-05-14|true|false|false|     Mostly Positive|            72|          22|       2.49|          9.99|    75.0|      true|          ASCENXION is a 2D...|[Shoot 'Em Up, Me...|\n",
            "|1000010|               Crown Trick|  2020-10-16|true|false|false|       Very Positive|            86|        4158|      19.99|         19.99|     0.0|      true|          Enter a labyrinth...|[Roguelike, Turn-...|\n",
            "|1000030|      Cook Serve Delici...|  2020-10-14|true| true|false|Overwhelmingly Po...|            95|        1396|      19.99|         19.99|     0.0|      true|          Cook, serve and m...|[Typing, Manageme...|\n",
            "|1000360|             Hellish Quart|  2021-02-16|true|false|false|       Very Positive|            92|        4756|      16.99|         16.99|     0.0|      true|          A physics-based, ...|[Early Access, 3D...|\n",
            "|1000410|       WRATH: Aeon of Ruin|  2019-11-22|true|false|false|       Very Positive|            81|        1178|      24.99|         24.99|     0.0|      true|          3D Realms, creato...|[Action, FPS, Ret...|\n",
            "|1000440|东方雪莲华 ～ Abyss Sou...|  2023-02-02|true|false|false|       Very Positive|            91|         267|      12.99|         12.99|     0.0|      true|东方雪莲华是东方project的二...|[Bullet Hell, Sho...|\n",
            "|1000640|                  Clam Man|  2019-05-23|true| true| true|       Very Positive|            92|          89|       9.99|          9.99|     0.0|      true|          An absurd, strang...|[Adventure, Indie...|\n",
            "|1000700|                  Insomnis|  2022-01-07|true|false|false|       Very Positive|            89|          93|      14.99|         14.99|     0.0|      true|          Insomnis is a fir...|[Adventure, Indie...|\n",
            "|1000710|      Fishing Planet: B...|  2018-12-27|true| true| true|            Positive|            92|          14|      34.99|         34.99|     0.0|      true|                              |[Free to Play, Ma...|\n",
            "|1000714|      Fishing Planet: R...|  2019-06-25|true| true| true|     Mostly Positive|            72|          11|       6.99|          6.99|     0.0|      true|                              |[Simulation, Free...|\n",
            "|1000715|      Fishing Planet: M...|  2019-09-06|true| true| true|               Mixed|            53|          13|      19.99|         19.99|     0.0|      true|                              |[Free to Play, Ma...|\n",
            "|1000717|      Fishing Planet - ...|  2019-11-27|true| true| true|            Positive|            90|          41|       4.99|          4.99|     0.0|      true|                              |[Simulation, Free...|\n",
            "|1000718|      Fishing Planet - ...|  2019-11-27|true| true| true|     Mostly Positive|            75|          36|       4.99|          4.99|     0.0|      true|                              |[Simulation, Free...|\n",
            "|1000760|                  Foregone|  2021-03-01|true|false|false|       Very Positive|            82|         927|      19.99|         19.99|     0.0|      true|          Foregone is a fas...|[Action, Indie, P...|\n",
            "|1000770|                Urban Tale|  2021-10-07|true| true|false|               Mixed|            65|          97|      11.99|         11.99|     0.0|      true|          Urban Tale is a r...|[Simulation, Casu...|\n",
            "|1001060|      Attack on Titan 2...|  2019-07-04|true|false|false|               Mixed|            69|         149|      39.99|         39.99|     0.0|      true|                              |[Action, Violent,...|\n",
            "|1001070|                       Koi|  2019-02-22|true|false|false|       Very Positive|            87|          83|       0.99|          0.99|     0.0|      true|          KOI is an award-w...|[Casual, Indie, A...|\n",
            "|1001140|      Angry Birds VR: I...|  2019-02-07|true|false|false|       Very Positive|            90|         267|      14.99|         14.99|     0.0|      true|          Join Red, Chuck, ...|[Family Friendly,...|\n",
            "|1001150|      Battlestar Galact...|  2019-03-19|true|false|false|            Positive|            86|          23|      14.99|         14.99|     0.0|      true|                              |          [Strategy]|\n",
            "+-------+--------------------------+------------+----+-----+-----+--------------------+--------------+------------+-----------+--------------+--------+----------+------------------------------+--------------------+\n",
            "only showing top 20 rows\n",
            "\n"
          ]
        }
      ]
    },
    {
      "cell_type": "markdown",
      "source": [
        "-----------------------------------------------------\n"
      ],
      "metadata": {
        "id": "ecRcLwm-6OWq"
      }
    },
    {
      "cell_type": "code",
      "source": [
        "user_recc = recomm.join(user,[\"user_id\"],\"full\")"
      ],
      "metadata": {
        "id": "jh_tk2dGRrXi"
      },
      "execution_count": null,
      "outputs": []
    },
    {
      "cell_type": "code",
      "source": [
        "user_recc.show()\n",
        "# user_recc.describe().show()"
      ],
      "metadata": {
        "colab": {
          "base_uri": "https://localhost:8080/"
        },
        "id": "vLxWI3z-yFEo",
        "outputId": "e2dbb24a-a03e-4b5a-901e-c8b243b4d80c"
      },
      "execution_count": null,
      "outputs": [
        {
          "output_type": "stream",
          "name": "stdout",
          "text": [
            "+-------+-------+-------+-----+----------+--------------+-----+---------+--------+-------+\n",
            "|user_id| app_id|helpful|funny|      date|is_recommended|hours|review_id|products|reviews|\n",
            "+-------+-------+-------+-----+----------+--------------+-----+---------+--------+-------+\n",
            "|1000015|1086940|      0|    0|2022-04-28|          true|148.5|  5934747|      44|      1|\n",
            "|1000030| 438100|      0|    0|2022-02-17|          true|  9.4|  5702748|       3|      1|\n",
            "|1000032|1817070|      0|    0|2022-09-11|          true| 61.9|  4292020|      11|      1|\n",
            "|1000054| 275850|      0|    0|2016-10-14|         false|136.0|  3811170|     263|      1|\n",
            "|1000061| 289070|      0|    0|2020-08-01|         false|281.3|  2075815|      42|      1|\n",
            "|1000064|  39210|      3|    0|2022-01-03|          true|899.4|  2740685|     133|      1|\n",
            "|1000067|1086940|      0|    0|2020-10-06|          true| 96.5|   765191|      78|      1|\n",
            "|1000070|1144200|      0|    0|2021-12-28|          true| 70.2|  6053316|     154|      1|\n",
            "|1000073|1222670|      0|    0|2021-06-29|          true|246.3|  5066759|       3|      1|\n",
            "|1000084| 284160|      0|    0|2022-05-21|          true| 92.6|  4481504|      15|      1|\n",
            "|1000087| 252490|      0|    0|2022-12-31|          true| 82.2|  4630598|       2|      1|\n",
            "|1000096| 289070|      0|    0|2021-12-10|          true|220.8|  3408524|      69|      2|\n",
            "|1000096|1794680|      0|    0|2022-12-06|          true| 27.2|  4448955|      69|      2|\n",
            "|1000097|1091500|      3|    0|2021-09-26|         false| 73.2|  3290927|      49|      1|\n",
            "| 100010| 271590|      0|    0|2015-10-29|          true|723.0|   307636|      96|      2|\n",
            "| 100010| 236390|      7|    0|2021-06-18|         false|928.9|  1670402|      96|      2|\n",
            "|1000110|    730|      0|    0|2021-07-10|          true|632.7|  5672846|       5|      1|\n",
            "|1000113|   null|   null| null|      null|          null| null|     null|      17|      0|\n",
            "|1000120|   null|   null| null|      null|          null| null|     null|      35|      0|\n",
            "|1000123|   null|   null| null|      null|          null| null|     null|       5|      0|\n",
            "+-------+-------+-------+-----+----------+--------------+-----+---------+--------+-------+\n",
            "only showing top 20 rows\n",
            "\n"
          ]
        }
      ]
    },
    {
      "cell_type": "code",
      "source": [
        "user_recc = user_recc.filter(user_recc.app_id.isNotNull()).sort(\"user_id\") "
      ],
      "metadata": {
        "id": "_nufYNoU8Bf-"
      },
      "execution_count": null,
      "outputs": []
    },
    {
      "cell_type": "code",
      "source": [
        "user_recc.count()"
      ],
      "metadata": {
        "colab": {
          "base_uri": "https://localhost:8080/"
        },
        "id": "_GGEl5sA8fpd",
        "outputId": "62af6961-e483-483f-e7d5-42e517386ec9"
      },
      "execution_count": null,
      "outputs": [
        {
          "output_type": "execute_result",
          "data": {
            "text/plain": [
              "6126803"
            ]
          },
          "metadata": {},
          "execution_count": 60
        }
      ]
    },
    {
      "cell_type": "code",
      "source": [
        "user_recc.show()"
      ],
      "metadata": {
        "colab": {
          "base_uri": "https://localhost:8080/"
        },
        "id": "JDuves7O8M7o",
        "outputId": "ac64339e-96eb-4c0f-8caf-c376108bf5e4"
      },
      "execution_count": null,
      "outputs": [
        {
          "output_type": "stream",
          "name": "stdout",
          "text": [
            "+-------+-------+-------+-----+----------+--------------+-----+---------+--------+-------+\n",
            "|user_id| app_id|helpful|funny|      date|is_recommended|hours|review_id|products|reviews|\n",
            "+-------+-------+-------+-----+----------+--------------+-----+---------+--------+-------+\n",
            "|      0| 291550|      0|    0|2020-11-01|          true| 12.7|   104565|      54|      2|\n",
            "|      0| 493520|      0|    0|2020-10-30|          true| 18.6|  4723376|      54|      2|\n",
            "|      1| 394360|      0|    0|2021-11-26|          true|107.0|   306001|     369|      1|\n",
            "|    100|1172470|      0|    0|2021-07-10|         false|404.0|   434065|       0|      1|\n",
            "|   1000| 431960|      0|    0|2020-04-05|          true| 80.9|   276676|     182|      8|\n",
            "|   1000| 304390|      0|    0|2022-02-04|          true|525.5|  3231531|     182|      8|\n",
            "|   1000| 438100|      0|    0|2018-07-16|          true| 29.5|  3307295|     182|      8|\n",
            "|   1000| 386360|      0|    0|2019-10-14|          true| 81.0|  4276553|     182|      8|\n",
            "|   1000| 440900|      0|    0|2018-07-21|          true|136.3|   124995|     182|      8|\n",
            "|   1000|1174180|      3|    3|2020-02-08|         false| 11.8|  2726058|     182|      8|\n",
            "|   1000|1172620|      0|    0|2021-04-17|          true| 86.4|  1167472|     182|      8|\n",
            "|   1000| 306130|      0|    0|2019-06-11|          true| 68.7|   402594|     182|      8|\n",
            "|  10000| 284160|      0|    0|2022-12-05|          true|163.4|    59114|      13|      2|\n",
            "|  10000|1938090|      0|    0|2022-11-22|          true| 42.3|  1577287|      13|      2|\n",
            "| 100000|  42700|      0|    0|2022-10-23|          true| 31.1|  5896825|      31|      1|\n",
            "|1000000| 489830|      0|    0|2022-11-01|          true|198.3|  3493765|      36|      1|\n",
            "|1000001|1599340|      0|    0|2022-03-17|          true|757.5|   919025|       0|      1|\n",
            "|1000002|    730|      0|    0|2021-06-25|          true| 75.4|  3144903|       8|      1|\n",
            "|1000003|   4000|      6|    3|2015-05-21|          true| 98.8|   815342|     227|      1|\n",
            "|1000004| 435150|      4|    0|2019-01-27|          true|451.7|  2584307|     129|      3|\n",
            "+-------+-------+-------+-----+----------+--------------+-----+---------+--------+-------+\n",
            "only showing top 20 rows\n",
            "\n"
          ]
        }
      ]
    },
    {
      "cell_type": "markdown",
      "source": [
        "# EDA Section"
      ],
      "metadata": {
        "id": "0W_Ybs9pzPfQ"
      }
    },
    {
      "cell_type": "code",
      "source": [
        "df = spark.read.parquet(\"/content/gdrive/MyDrive/sizeproject/allgamerecc.parquet\")"
      ],
      "metadata": {
        "id": "y0TfYkwLzSK3"
      },
      "execution_count": null,
      "outputs": []
    },
    {
      "cell_type": "code",
      "source": [
        "df.show()"
      ],
      "metadata": {
        "colab": {
          "base_uri": "https://localhost:8080/"
        },
        "id": "inly8b_SzSSO",
        "outputId": "c4f8002b-23cb-4d66-8577-89dc01467799"
      },
      "execution_count": null,
      "outputs": [
        {
          "output_type": "stream",
          "name": "stdout",
          "text": [
            "+------+--------------------+------------+----+----+-----+--------------------+--------------+------------+-----------+--------------+--------+----------+--------------------+--------------------+-------+-------+-----+----------+--------------+-----+---------+--------+-------+\n",
            "|app_id|               title|date_release| win| mac|linux|              rating|positive_ratio|user_reviews|price_final|price_original|discount|steam_deck|         description|                tags|user_id|helpful|funny|      date|is_recommended|hours|review_id|products|reviews|\n",
            "+------+--------------------+------------+----+----+-----+--------------------+--------------+------------+-----------+--------------+--------+----------+--------------------+--------------------+-------+-------+-----+----------+--------------+-----+---------+--------+-------+\n",
            "|238460|BattleBlock Theater®|  2014-05-15|true|true| true|Overwhelmingly Po...|            97|       50984|      14.99|         14.99|     0.0|      true|Welcome to Battle...|[Co-op, Funny, Pl...|   null|   null| null|      null|          null| null|     null|    null|   null|\n",
            "|238530|Super Puzzle Plat...|  2013-05-24|true|true|false|       Very Positive|            92|         346|       7.99|          7.99|     0.0|      true|The title says it...|[Indie, Action, C...|   null|   null| null|      null|          null| null|     null|    null|   null|\n",
            "|238750|Might & Magic X -...|  2014-01-23|true|true|false|               Mixed|            64|        2793|      29.99|         29.99|     0.0|      true|After a decade, a...|[RPG, Turn-Based,...|   null|   null| null|      null|          null| null|     null|    null|   null|\n",
            "|238910|         Bionic Dues|  2013-10-08|true|true| true|       Very Positive|            83|         284|       9.99|          9.99|     0.0|      true|Bionic Dues is a ...|[Strategy, RPG, R...|   null|   null| null|      null|          null| null|     null|    null|   null|\n",
            "|238960|       Path of Exile|  2013-10-23|true|true|false|       Very Positive|            87|      196492|        0.0|           0.0|     0.0|      true|You are an Exile,...|[Free to Play, Ac...| 100037|     17|    3|2017-02-02|          true|157.0|  5502537|     797|      2|\n",
            "|238960|       Path of Exile|  2013-10-23|true|true|false|       Very Positive|            87|      196492|        0.0|           0.0|     0.0|      true|You are an Exile,...|[Free to Play, Ac...|2084840|      0|    0|2020-07-04|          true| 29.2|  1751048|     222|      5|\n",
            "|238960|       Path of Exile|  2013-10-23|true|true|false|       Very Positive|            87|      196492|        0.0|           0.0|     0.0|      true|You are an Exile,...|[Free to Play, Ac...|1000230|      0|    0|2014-08-12|          true|318.5|  5555193|      15|      1|\n",
            "|238960|       Path of Exile|  2013-10-23|true|true|false|       Very Positive|            87|      196492|        0.0|           0.0|     0.0|      true|You are an Exile,...|[Free to Play, Ac...|2054633|      0|    0|2019-10-31|          true|600.0|   999744|      57|      5|\n",
            "|238960|       Path of Exile|  2013-10-23|true|true|false|       Very Positive|            87|      196492|        0.0|           0.0|     0.0|      true|You are an Exile,...|[Free to Play, Ac...| 100043|      0|    0|2014-03-29|         false|  0.6|  2893698|       0|      1|\n",
            "|238960|       Path of Exile|  2013-10-23|true|true|false|       Very Positive|            87|      196492|        0.0|           0.0|     0.0|      true|You are an Exile,...|[Free to Play, Ac...|2084883|      0|    0|2022-06-24|          true|402.9|  2181201|      39|      1|\n",
            "|238960|       Path of Exile|  2013-10-23|true|true|false|       Very Positive|            87|      196492|        0.0|           0.0|     0.0|      true|You are an Exile,...|[Free to Play, Ac...|1000240|      0|    0|2016-02-09|         false|409.7|  5437839|     219|      4|\n",
            "|238960|       Path of Exile|  2013-10-23|true|true|false|       Very Positive|            87|      196492|        0.0|           0.0|     0.0|      true|You are an Exile,...|[Free to Play, Ac...|2054889|      0|    0|2020-11-08|          true|523.9|  6085181|       9|      1|\n",
            "|238960|       Path of Exile|  2013-10-23|true|true|false|       Very Positive|            87|      196492|        0.0|           0.0|     0.0|      true|You are an Exile,...|[Free to Play, Ac...| 100045|      0|    0|2019-12-24|          true| 17.2|  4030661|       8|      1|\n",
            "|238960|       Path of Exile|  2013-10-23|true|true|false|       Very Positive|            87|      196492|        0.0|           0.0|     0.0|      true|You are an Exile,...|[Free to Play, Ac...|2084906|      0|    0|2019-12-13|          true|882.1|  3968132|     110|      1|\n",
            "|238960|       Path of Exile|  2013-10-23|true|true|false|       Very Positive|            87|      196492|        0.0|           0.0|     0.0|      true|You are an Exile,...|[Free to Play, Ac...|1001208|      0|    0|2022-01-31|          true|782.4|  1600589|      86|      1|\n",
            "|238960|       Path of Exile|  2013-10-23|true|true|false|       Very Positive|            87|      196492|        0.0|           0.0|     0.0|      true|You are an Exile,...|[Free to Play, Ac...|2055125|      0|    0|2020-04-29|         false|740.1|    88810|      75|      1|\n",
            "|238960|       Path of Exile|  2013-10-23|true|true|false|       Very Positive|            87|      196492|        0.0|           0.0|     0.0|      true|You are an Exile,...|[Free to Play, Ac...|1000559|      0|    0|2014-03-04|          true| 30.3|  3833048|     264|      1|\n",
            "|238960|       Path of Exile|  2013-10-23|true|true|false|       Very Positive|            87|      196492|        0.0|           0.0|     0.0|      true|You are an Exile,...|[Free to Play, Ac...|2085192|      0|    0|2019-12-18|          true|218.2|  1087760|     579|     10|\n",
            "|238960|       Path of Exile|  2013-10-23|true|true|false|       Very Positive|            87|      196492|        0.0|           0.0|     0.0|      true|You are an Exile,...|[Free to Play, Ac...|1001673|      0|    0|2020-01-01|          true|  6.9|  4499668|     125|      1|\n",
            "|238960|       Path of Exile|  2013-10-23|true|true|false|       Very Positive|            87|      196492|        0.0|           0.0|     0.0|      true|You are an Exile,...|[Free to Play, Ac...|2055305|      0|    0|2019-12-19|          true| 52.9|  2747552|      23|      2|\n",
            "+------+--------------------+------------+----+----+-----+--------------------+--------------+------------+-----------+--------------+--------+----------+--------------------+--------------------+-------+-------+-----+----------+--------------+-----+---------+--------+-------+\n",
            "only showing top 20 rows\n",
            "\n"
          ]
        }
      ]
    },
    {
      "cell_type": "code",
      "source": [],
      "metadata": {
        "id": "PCweQuo4zSVF"
      },
      "execution_count": null,
      "outputs": []
    }
  ]
}