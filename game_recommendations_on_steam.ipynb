{
  "cells": [
    {
      "cell_type": "markdown",
      "metadata": {
        "id": "view-in-github",
        "colab_type": "text"
      },
      "source": [
        "<a href=\"https://colab.research.google.com/github/Murphy-Mary/MyProject/blob/main/game_recommendations_on_steam.ipynb\" target=\"_parent\"><img src=\"https://colab.research.google.com/assets/colab-badge.svg\" alt=\"Open In Colab\"/></a>"
      ]
    },
    {
      "cell_type": "markdown",
      "metadata": {
        "id": "9uIPv4sZ5sn_"
      },
      "source": [
        "# Import data\n"
      ]
    },
    {
      "cell_type": "markdown",
      "metadata": {
        "id": "5gcjTvkVTz-S"
      },
      "source": [
        "souce : https://www.kaggle.com/datasets/antonkozyriev/game-recommendations-on-steam"
      ]
    },
    {
      "cell_type": "code",
      "execution_count": 1,
      "metadata": {
        "colab": {
          "base_uri": "https://localhost:8080/"
        },
        "id": "_5cB2k1T3LJE",
        "outputId": "14f8e7df-fb72-4686-cfa6-ffd515e1c423"
      },
      "outputs": [
        {
          "output_type": "stream",
          "name": "stdout",
          "text": [
            "Mounted at /content/gdrive\n",
            "Downloading game-recommendations-on-steam.zip to /content\n",
            " 89% 156M/176M [00:01<00:00, 127MB/s]\n",
            "100% 176M/176M [00:01<00:00, 127MB/s]\n",
            "Archive:  /content/game-recommendations-on-steam.zip\n",
            "  inflating: games.csv               \n",
            "  inflating: games_metadata.json     \n",
            "  inflating: recommendations.csv     \n",
            "  inflating: users.csv               \n"
          ]
        }
      ],
      "source": [
        "from google.colab import drive\n",
        "drive.mount('/content/gdrive')\n",
        "\n",
        "import os\n",
        "os.environ['KAGGLE_CONFIG_DIR'] = \"/content/gdrive/My Drive/Kaggle\"\n",
        "\n",
        "!kaggle datasets download -d antonkozyriev/game-recommendations-on-steam\n",
        "!unzip /content/game-recommendations-on-steam.zip && rm /content/game-recommendations-on-steam.zip"
      ]
    },
    {
      "cell_type": "code",
      "execution_count": 2,
      "metadata": {
        "colab": {
          "base_uri": "https://localhost:8080/"
        },
        "id": "X_5ZxVQ99DB5",
        "outputId": "aadcb722-1897-4db3-c867-cc754af7ea35"
      },
      "outputs": [
        {
          "output_type": "stream",
          "name": "stdout",
          "text": [
            "\r0% [Working]\r            \rHit:1 http://archive.ubuntu.com/ubuntu focal InRelease\n",
            "\r0% [Waiting for headers] [Connected to cloud.r-project.org (52.85.151.8)] [Conn\r                                                                               \rHit:2 http://ppa.launchpad.net/c2d4u.team/c2d4u4.0+/ubuntu focal InRelease\n",
            "\r0% [Waiting for headers] [Waiting for headers] [Waiting for headers] [Waiting f\r                                                                               \rGet:3 http://archive.ubuntu.com/ubuntu focal-updates InRelease [114 kB]\n",
            "\r                                                                               \rGet:4 http://security.ubuntu.com/ubuntu focal-security InRelease [114 kB]\n",
            "\r                                                                               \rGet:5 https://cloud.r-project.org/bin/linux/ubuntu focal-cran40/ InRelease [3,622 B]\n",
            "\r0% [3 InRelease 86.6 kB/114 kB 76%] [4 InRelease 100 kB/114 kB 88%] [Waiting fo\r                                                                               \rIgn:6 https://developer.download.nvidia.com/compute/machine-learning/repos/ubuntu2004/x86_64  InRelease\n",
            "\r0% [3 InRelease 86.6 kB/114 kB 76%] [4 InRelease 100 kB/114 kB 88%] [Connecting\r0% [3 InRelease 89.5 kB/114 kB 79%] [Waiting for headers] [Connecting to ppa.la\r                                                                               \rHit:7 https://developer.download.nvidia.com/compute/cuda/repos/ubuntu2004/x86_64  InRelease\n",
            "\r0% [3 InRelease 107 kB/114 kB 94%] [Connecting to ppa.launchpad.net (185.125.19\r0% [Waiting for headers] [Waiting for headers] [Connecting to ppa.launchpad.net\r                                                                               \rHit:8 https://developer.download.nvidia.com/compute/machine-learning/repos/ubuntu2004/x86_64  Release\n",
            "Get:9 http://archive.ubuntu.com/ubuntu focal-backports InRelease [108 kB]\n",
            "Hit:10 http://ppa.launchpad.net/cran/libgit2/ubuntu focal InRelease\n",
            "Hit:11 http://ppa.launchpad.net/deadsnakes/ppa/ubuntu focal InRelease\n",
            "Get:12 http://security.ubuntu.com/ubuntu focal-security/universe amd64 Packages [1,013 kB]\n",
            "Hit:13 http://ppa.launchpad.net/graphics-drivers/ppa/ubuntu focal InRelease\n",
            "Get:14 http://archive.ubuntu.com/ubuntu focal-updates/multiverse amd64 Packages [31.3 kB]\n",
            "Hit:15 http://ppa.launchpad.net/ubuntugis/ppa/ubuntu focal InRelease\n",
            "Get:16 http://archive.ubuntu.com/ubuntu focal-updates/restricted amd64 Packages [2,134 kB]\n",
            "Get:18 http://archive.ubuntu.com/ubuntu focal-updates/universe amd64 Packages [1,308 kB]\n",
            "Get:19 http://archive.ubuntu.com/ubuntu focal-updates/main amd64 Packages [3,012 kB]\n",
            "Fetched 7,838 kB in 1s (5,741 kB/s)\n",
            "Reading package lists... Done\n"
          ]
        }
      ],
      "source": [
        "!apt-get update"
      ]
    },
    {
      "cell_type": "code",
      "execution_count": 3,
      "metadata": {
        "colab": {
          "base_uri": "https://localhost:8080/"
        },
        "id": "yImMt6v56jww",
        "outputId": "35770b60-8dae-40ba-d776-b8f754f2068d"
      },
      "outputs": [
        {
          "output_type": "stream",
          "name": "stdout",
          "text": [
            "--2023-03-04 02:08:02--  http://apache.osuosl.org/spark/spark-3.3.2/spark-3.3.2-bin-hadoop3.tgz\n",
            "Resolving apache.osuosl.org (apache.osuosl.org)... 64.50.236.52, 64.50.233.100, 140.211.166.134, ...\n",
            "Connecting to apache.osuosl.org (apache.osuosl.org)|64.50.236.52|:80... connected.\n",
            "HTTP request sent, awaiting response... 200 OK\n",
            "Length: 299360284 (285M) [application/x-gzip]\n",
            "Saving to: ‘spark-3.3.2-bin-hadoop3.tgz’\n",
            "\n",
            "spark-3.3.2-bin-had 100%[===================>] 285.49M   119MB/s    in 2.4s    \n",
            "\n",
            "2023-03-04 02:08:05 (119 MB/s) - ‘spark-3.3.2-bin-hadoop3.tgz’ saved [299360284/299360284]\n",
            "\n",
            "Looking in indexes: https://pypi.org/simple, https://us-python.pkg.dev/colab-wheels/public/simple/\n",
            "Collecting findspark\n",
            "  Downloading findspark-2.0.1-py2.py3-none-any.whl (4.4 kB)\n",
            "Installing collected packages: findspark\n",
            "Successfully installed findspark-2.0.1\n",
            "Looking in indexes: https://pypi.org/simple, https://us-python.pkg.dev/colab-wheels/public/simple/\n",
            "Requirement already satisfied: xlrd in /usr/local/lib/python3.8/dist-packages (1.2.0)\n",
            "Looking in indexes: https://pypi.org/simple, https://us-python.pkg.dev/colab-wheels/public/simple/\n",
            "Requirement already satisfied: kaggle in /usr/local/lib/python3.8/dist-packages (1.5.12)\n",
            "Requirement already satisfied: certifi in /usr/local/lib/python3.8/dist-packages (from kaggle) (2022.12.7)\n",
            "Requirement already satisfied: urllib3 in /usr/local/lib/python3.8/dist-packages (from kaggle) (1.26.14)\n",
            "Requirement already satisfied: python-dateutil in /usr/local/lib/python3.8/dist-packages (from kaggle) (2.8.2)\n",
            "Requirement already satisfied: tqdm in /usr/local/lib/python3.8/dist-packages (from kaggle) (4.64.1)\n",
            "Requirement already satisfied: python-slugify in /usr/local/lib/python3.8/dist-packages (from kaggle) (8.0.1)\n",
            "Requirement already satisfied: six>=1.10 in /usr/local/lib/python3.8/dist-packages (from kaggle) (1.15.0)\n",
            "Requirement already satisfied: requests in /usr/local/lib/python3.8/dist-packages (from kaggle) (2.25.1)\n",
            "Requirement already satisfied: text-unidecode>=1.3 in /usr/local/lib/python3.8/dist-packages (from python-slugify->kaggle) (1.3)\n",
            "Requirement already satisfied: chardet<5,>=3.0.2 in /usr/local/lib/python3.8/dist-packages (from requests->kaggle) (4.0.0)\n",
            "Requirement already satisfied: idna<3,>=2.5 in /usr/local/lib/python3.8/dist-packages (from requests->kaggle) (2.10)\n",
            "Looking in indexes: https://pypi.org/simple, https://us-python.pkg.dev/colab-wheels/public/simple/\n",
            "Collecting kora\n",
            "  Downloading kora-0.9.20-py3-none-any.whl (57 kB)\n",
            "\u001b[2K     \u001b[90m━━━━━━━━━━━━━━━━━━━━━━━━━━━━━━━━━━━━━━━━\u001b[0m \u001b[32m57.7/57.7 KB\u001b[0m \u001b[31m5.6 MB/s\u001b[0m eta \u001b[36m0:00:00\u001b[0m\n",
            "\u001b[?25hRequirement already satisfied: fastcore in /usr/local/lib/python3.8/dist-packages (from kora) (1.5.28)\n",
            "Requirement already satisfied: ipython in /usr/local/lib/python3.8/dist-packages (from kora) (7.9.0)\n",
            "Requirement already satisfied: pip in /usr/local/lib/python3.8/dist-packages (from fastcore->kora) (22.0.4)\n",
            "Requirement already satisfied: packaging in /usr/local/lib/python3.8/dist-packages (from fastcore->kora) (23.0)\n",
            "Requirement already satisfied: setuptools>=18.5 in /usr/local/lib/python3.8/dist-packages (from ipython->kora) (57.4.0)\n",
            "Requirement already satisfied: backcall in /usr/local/lib/python3.8/dist-packages (from ipython->kora) (0.2.0)\n",
            "Requirement already satisfied: pexpect in /usr/local/lib/python3.8/dist-packages (from ipython->kora) (4.8.0)\n",
            "Collecting jedi>=0.10\n",
            "  Downloading jedi-0.18.2-py2.py3-none-any.whl (1.6 MB)\n",
            "\u001b[2K     \u001b[90m━━━━━━━━━━━━━━━━━━━━━━━━━━━━━━━━━━━━━━━━\u001b[0m \u001b[32m1.6/1.6 MB\u001b[0m \u001b[31m74.2 MB/s\u001b[0m eta \u001b[36m0:00:00\u001b[0m\n",
            "\u001b[?25hRequirement already satisfied: prompt-toolkit<2.1.0,>=2.0.0 in /usr/local/lib/python3.8/dist-packages (from ipython->kora) (2.0.10)\n",
            "Requirement already satisfied: traitlets>=4.2 in /usr/local/lib/python3.8/dist-packages (from ipython->kora) (5.7.1)\n",
            "Requirement already satisfied: pygments in /usr/local/lib/python3.8/dist-packages (from ipython->kora) (2.6.1)\n",
            "Requirement already satisfied: decorator in /usr/local/lib/python3.8/dist-packages (from ipython->kora) (4.4.2)\n",
            "Requirement already satisfied: pickleshare in /usr/local/lib/python3.8/dist-packages (from ipython->kora) (0.7.5)\n",
            "Requirement already satisfied: parso<0.9.0,>=0.8.0 in /usr/local/lib/python3.8/dist-packages (from jedi>=0.10->ipython->kora) (0.8.3)\n",
            "Requirement already satisfied: wcwidth in /usr/local/lib/python3.8/dist-packages (from prompt-toolkit<2.1.0,>=2.0.0->ipython->kora) (0.2.6)\n",
            "Requirement already satisfied: six>=1.9.0 in /usr/local/lib/python3.8/dist-packages (from prompt-toolkit<2.1.0,>=2.0.0->ipython->kora) (1.15.0)\n",
            "Requirement already satisfied: ptyprocess>=0.5 in /usr/local/lib/python3.8/dist-packages (from pexpect->ipython->kora) (0.7.0)\n",
            "Installing collected packages: jedi, kora\n",
            "Successfully installed jedi-0.18.2 kora-0.9.20\n",
            "3.3.2\n"
          ]
        }
      ],
      "source": [
        "#Get Install the Java Development Kit\n",
        "!apt-get install openjdk-8-jdk-headless -qq > /dev/null\n",
        "#Get Spark lib -- address need to be change according to the current version of Spark: https://downloads.apache.org/spark/\n",
        "!wget  http://apache.osuosl.org/spark/spark-3.3.2/spark-3.3.2-bin-hadoop3.tgz\n",
        "#Unzip th Spark\n",
        "!tar xf spark-3.3.2-bin-hadoop3.tgz\n",
        "!rm spark-3.3.2-bin-hadoop3.tgz\n",
        "#install findspark for Python\n",
        "!pip install findspark\n",
        "#Install extra lib(s)\n",
        "!pip install xlrd\n",
        "!pip install kaggle\n",
        "!pip install kora\n",
        "\n",
        "#import and set environment for spark\n",
        "os.environ[\"JAVA_HOME\"] = \"/usr/lib/jvm/java-8-openjdk-amd64\"\n",
        "os.environ[\"SPARK_HOME\"] = \"/content/spark-3.3.2-bin-hadoop3\"\n",
        "import kora\n",
        "\n",
        "import findspark\n",
        "findspark.init()\n",
        "from pyspark import SparkContext\n",
        "from pyspark.sql import SparkSession\n",
        "\n",
        "\n",
        "SPARK_URL = \"local[*]\"\n",
        "\n",
        "spark = SparkSession.builder.master(SPARK_URL).getOrCreate()\n",
        "\n",
        "# Check the pyspark version\n",
        "import pyspark\n",
        "print(pyspark.__version__)"
      ]
    },
    {
      "cell_type": "code",
      "execution_count": 4,
      "metadata": {
        "colab": {
          "base_uri": "https://localhost:8080/"
        },
        "id": "hPfNL1sABeDz",
        "outputId": "96d93d91-95c4-4576-ee4d-5d01a3849ddd"
      },
      "outputs": [
        {
          "output_type": "stream",
          "name": "stdout",
          "text": [
            "Looking in indexes: https://pypi.org/simple, https://us-python.pkg.dev/colab-wheels/public/simple/\n",
            "Collecting pyspark_dist_explore\n",
            "  Downloading pyspark_dist_explore-0.1.8-py3-none-any.whl (7.2 kB)\n",
            "Requirement already satisfied: matplotlib in /usr/local/lib/python3.8/dist-packages (from pyspark_dist_explore) (3.5.3)\n",
            "Requirement already satisfied: numpy in /usr/local/lib/python3.8/dist-packages (from pyspark_dist_explore) (1.22.4)\n",
            "Requirement already satisfied: pandas in /usr/local/lib/python3.8/dist-packages (from pyspark_dist_explore) (1.3.5)\n",
            "Requirement already satisfied: scipy in /usr/local/lib/python3.8/dist-packages (from pyspark_dist_explore) (1.10.1)\n",
            "Requirement already satisfied: python-dateutil>=2.7 in /usr/local/lib/python3.8/dist-packages (from matplotlib->pyspark_dist_explore) (2.8.2)\n",
            "Requirement already satisfied: pillow>=6.2.0 in /usr/local/lib/python3.8/dist-packages (from matplotlib->pyspark_dist_explore) (8.4.0)\n",
            "Requirement already satisfied: kiwisolver>=1.0.1 in /usr/local/lib/python3.8/dist-packages (from matplotlib->pyspark_dist_explore) (1.4.4)\n",
            "Requirement already satisfied: cycler>=0.10 in /usr/local/lib/python3.8/dist-packages (from matplotlib->pyspark_dist_explore) (0.11.0)\n",
            "Requirement already satisfied: fonttools>=4.22.0 in /usr/local/lib/python3.8/dist-packages (from matplotlib->pyspark_dist_explore) (4.38.0)\n",
            "Requirement already satisfied: pyparsing>=2.2.1 in /usr/local/lib/python3.8/dist-packages (from matplotlib->pyspark_dist_explore) (3.0.9)\n",
            "Requirement already satisfied: packaging>=20.0 in /usr/local/lib/python3.8/dist-packages (from matplotlib->pyspark_dist_explore) (23.0)\n",
            "Requirement already satisfied: pytz>=2017.3 in /usr/local/lib/python3.8/dist-packages (from pandas->pyspark_dist_explore) (2022.7.1)\n",
            "Requirement already satisfied: six>=1.5 in /usr/local/lib/python3.8/dist-packages (from python-dateutil>=2.7->matplotlib->pyspark_dist_explore) (1.15.0)\n",
            "Installing collected packages: pyspark_dist_explore\n",
            "Successfully installed pyspark_dist_explore-0.1.8\n"
          ]
        }
      ],
      "source": [
        "!pip install pyspark_dist_explore"
      ]
    },
    {
      "cell_type": "code",
      "execution_count": 5,
      "metadata": {
        "colab": {
          "base_uri": "https://localhost:8080/"
        },
        "id": "c4u7xPYE44mB",
        "outputId": "00f9d855-dea6-4b5b-cd43-0beccaf60650"
      },
      "outputs": [
        {
          "output_type": "stream",
          "name": "stderr",
          "text": [
            "/content/spark-3.3.2-bin-hadoop3/python/pyspark/sql/context.py:112: FutureWarning: Deprecated in 3.0.0. Use SparkSession.builder.getOrCreate() instead.\n",
            "  warnings.warn(\n"
          ]
        }
      ],
      "source": [
        "import numpy as np \n",
        "import pandas as pd\n",
        "import pyspark.sql.functions as f\n",
        "import matplotlib.pyplot as plt\n",
        "import seaborn as sns\n",
        "\n",
        "from IPython.display import display, HTML, display_html #usefull to display wide tables\n",
        "from pyspark_dist_explore import Histogram, hist, distplot, pandas_histogram\n",
        "from pyspark.sql import Row\n",
        "\n",
        "from pyspark.sql.functions import lit\n",
        "from pyspark import SparkConf\n",
        "from pyspark import SparkContext\n",
        "sc = SparkContext.getOrCreate(SparkConf().setMaster(\"local[*]\"))\n",
        "\n",
        "#sc = pyspark.SparkContext()\n",
        "sqlContext = pyspark.SQLContext(sc)\n",
        "%matplotlib inline"
      ]
    },
    {
      "cell_type": "markdown",
      "metadata": {
        "id": "O_po6boIaWOH"
      },
      "source": [
        "## data"
      ]
    },
    {
      "cell_type": "code",
      "execution_count": 6,
      "metadata": {
        "colab": {
          "base_uri": "https://localhost:8080/"
        },
        "id": "r_y867ze4_ow",
        "outputId": "44747d79-479d-40b3-a86f-65f09648d55f"
      },
      "outputs": [
        {
          "output_type": "stream",
          "name": "stdout",
          "text": [
            "root\n",
            " |-- app_id: long (nullable = true)\n",
            " |-- description: string (nullable = true)\n",
            " |-- tags: array (nullable = true)\n",
            " |    |-- element: string (containsNull = true)\n",
            "\n",
            "+------+--------------------+--------------------+\n",
            "|app_id|         description|                tags|\n",
            "+------+--------------------+--------------------+\n",
            "| 10090|Call of Duty is b...|[Zombies, World W...|\n",
            "| 13500|Enter the dark un...|[Action, Adventur...|\n",
            "| 22364|                    |            [Action]|\n",
            "|113020|Monaco: What's Yo...|[Co-op, Stealth, ...|\n",
            "|226560|Escape Dead Islan...|[Zombies, Adventu...|\n",
            "|249050|Dungeon of the En...|[Roguelike, Strat...|\n",
            "|250180|“METAL SLUG 3”, t...|[Arcade, Classic,...|\n",
            "|253980|Experience incred...|[RPG, Action, Fan...|\n",
            "|261550|A strategy/action...|[Medieval, Strate...|\n",
            "|271850|                    |[Strategy, Simula...|\n",
            "|282900|Packed with fast-...|[Anime, JRPG, Fem...|\n",
            "| 19810|Lead a team of do...|  [Action, Tactical]|\n",
            "| 15270|In a ferocious Ar...|[Horror, Action, ...|\n",
            "| 21130|Build the adventu...|[LEGO, Adventure,...|\n",
            "| 22130|Includes Hearts o...|[Strategy, Grand ...|\n",
            "| 29180|Enter the ambient...|[Indie, Casual, P...|\n",
            "| 32750|The best-selling ...|[Action, Simulati...|\n",
            "|241620|Action-oriented c...|[RPG, Indie, Isom...|\n",
            "|244910|Explore an abando...|[Atmospheric, Puz...|\n",
            "|245950|                    |[Action, RPG, FPS...|\n",
            "+------+--------------------+--------------------+\n",
            "only showing top 20 rows\n",
            "\n"
          ]
        }
      ],
      "source": [
        "game_tags = spark.read.json(\"/content/games_metadata.json\")\n",
        "game_tags.printSchema()\n",
        "game_tags.show()"
      ]
    },
    {
      "cell_type": "code",
      "execution_count": 7,
      "metadata": {
        "colab": {
          "base_uri": "https://localhost:8080/"
        },
        "id": "BWt_TYOH5Eyz",
        "outputId": "a0b1c762-1e1e-4563-f714-a6c7eb486d81"
      },
      "outputs": [
        {
          "output_type": "execute_result",
          "data": {
            "text/plain": [
              "46068"
            ]
          },
          "metadata": {},
          "execution_count": 7
        }
      ],
      "source": [
        "game_tags.count()"
      ]
    },
    {
      "cell_type": "code",
      "execution_count": 8,
      "metadata": {
        "colab": {
          "base_uri": "https://localhost:8080/"
        },
        "id": "F2JckxI2sc_0",
        "outputId": "21b5f5b4-452c-486f-eca5-12ae0978cc4c"
      },
      "outputs": [
        {
          "output_type": "stream",
          "name": "stdout",
          "text": [
            "root\n",
            " |-- app_id: string (nullable = true)\n",
            " |-- title: string (nullable = true)\n",
            " |-- date_release: string (nullable = true)\n",
            " |-- win: string (nullable = true)\n",
            " |-- mac: string (nullable = true)\n",
            " |-- linux: string (nullable = true)\n",
            " |-- rating: string (nullable = true)\n",
            " |-- positive_ratio: string (nullable = true)\n",
            " |-- user_reviews: double (nullable = true)\n",
            " |-- price_final: double (nullable = true)\n",
            " |-- price_original: double (nullable = true)\n",
            " |-- discount: double (nullable = true)\n",
            " |-- steam_deck: string (nullable = true)\n",
            "\n",
            "+------+--------------------+------------+----+-----+-----+---------------+--------------+------------+-----------+--------------+--------+----------+\n",
            "|app_id|               title|date_release| win|  mac|linux|         rating|positive_ratio|user_reviews|price_final|price_original|discount|steam_deck|\n",
            "+------+--------------------+------------+----+-----+-----+---------------+--------------+------------+-----------+--------------+--------+----------+\n",
            "| 10090|Call of Duty: Wor...|  2008-11-18|true|false|false|  Very Positive|            92|     37039.0|      19.99|         19.99|     0.0|      true|\n",
            "| 13500|Prince of Persia:...|  2008-11-21|true|false|false|  Very Positive|            84|      2199.0|       9.99|          9.99|     0.0|      true|\n",
            "| 22364|BRINK: Agents of ...|  2011-08-03|true|false|false|       Positive|            85|        21.0|       2.99|          2.99|     0.0|      true|\n",
            "|113020|Monaco: What's Yo...|  2013-04-24|true| true| true|  Very Positive|            92|      3722.0|      14.99|         14.99|     0.0|      true|\n",
            "|226560|  Escape Dead Island|  2014-11-18|true|false|false|          Mixed|            61|       873.0|      14.99|         14.99|     0.0|      true|\n",
            "|249050|Dungeon of the EN...|  2014-10-27|true| true|false|  Very Positive|            88|      8784.0|      11.99|         11.99|     0.0|      true|\n",
            "|250180|        METAL SLUG 3|  2015-09-14|true|false|false|  Very Positive|            90|      5579.0|       7.99|          7.99|     0.0|      true|\n",
            "|253980|             Enclave|  2013-10-04|true| true| true|Mostly Positive|            75|      1608.0|       4.99|          4.99|     0.0|      true|\n",
            "|261550|Mount & Blade II:...|  2022-10-25|true|false|false|  Very Positive|            87|    169694.0|      49.99|         49.99|     0.0|      true|\n",
            "|271850|Men of War: Assau...|  2014-05-16|true|false|false|          Mixed|            61|       199.0|       6.99|          6.99|     0.0|      true|\n",
            "|282900|Hyperdimension Ne...|  2015-01-29|true|false|false|  Very Positive|            94|      9686.0|      14.99|         14.99|     0.0|      true|\n",
            "| 19810|The Sum of All Fears|  2008-10-10|true|false|false|Mostly Positive|            75|        33.0|       9.99|          9.99|     0.0|      true|\n",
            "| 15270|          Cold Fear™|  2008-05-13|true|false|false|  Very Positive|            85|       800.0|       9.99|          9.99|     0.0|      true|\n",
            "| 21130|LEGO® Harry Potte...|  2010-06-25|true|false|false|  Very Positive|            85|      5169.0|      19.99|         19.99|     0.0|      true|\n",
            "| 22130|Hearts of Iron 2 ...|  2009-01-23|true|false|false|  Very Positive|            85|       462.0|      14.99|         14.99|     0.0|      true|\n",
            "| 29180|               Osmos|  2009-08-18|true| true| true|  Very Positive|            88|       532.0|       9.99|          9.99|     0.0|      true|\n",
            "| 32750|          Comanche 4|  2009-06-18|true|false|false|  Very Positive|            90|       222.0|       9.99|          9.99|     0.0|      true|\n",
            "|241620|          Inquisitor|  2013-08-01|true|false|false|Mostly Positive|            70|       390.0|       9.99|          9.99|     0.0|      true|\n",
            "|244910|            Homesick|  2015-05-28|true|false|false|Mostly Positive|            77|      1139.0|      14.99|         14.99|     0.0|      true|\n",
            "|245950|Borderlands 2: He...|  2014-02-11|true| true| true|  Very Positive|            84|       294.0|       0.89|          2.99|    70.0|      true|\n",
            "+------+--------------------+------------+----+-----+-----+---------------+--------------+------------+-----------+--------------+--------+----------+\n",
            "only showing top 20 rows\n",
            "\n"
          ]
        }
      ],
      "source": [
        "game = spark.read.csv('/content/games.csv',header=True)\n",
        "# c0ls = [\"user_reviews\",\"price_final\",\"price_original\",\"discount\"]\n",
        "game = game.withColumn(\"user_reviews\",game.user_reviews.cast('double'))\n",
        "game = game.withColumn(\"price_final\",game.price_final.cast('double'))\n",
        "game = game.withColumn(\"price_original\",game.price_original.cast('double'))\n",
        "game = game.withColumn(\"discount\",game.discount.cast('double'))\n",
        "# game = game.withColumn(\"mac\",game.date_release.cast('Boolean'))\n",
        "# game = game.withColumn(\"mac\",game.date_release.cast('Boolean'))\n",
        "# game = game.withColumn(\"win\",game.date_release.cast('Boolean'))\n",
        "# game = game.withColumn(\"steam_deck\",game.date_release.cast('Boolean'))\n",
        "game.printSchema()\n",
        "game.show()"
      ]
    },
    {
      "cell_type": "code",
      "execution_count": 9,
      "metadata": {
        "colab": {
          "base_uri": "https://localhost:8080/"
        },
        "id": "4ESV2mxR5IKI",
        "outputId": "cf911d2f-3dc1-47a1-ca3c-d29faeb3accd"
      },
      "outputs": [
        {
          "output_type": "execute_result",
          "data": {
            "text/plain": [
              "46068"
            ]
          },
          "metadata": {},
          "execution_count": 9
        }
      ],
      "source": [
        "game.count()"
      ]
    },
    {
      "cell_type": "code",
      "execution_count": 10,
      "metadata": {
        "colab": {
          "base_uri": "https://localhost:8080/"
        },
        "id": "c5NjzTtw5au4",
        "outputId": "61cd6e8b-ba2a-4ca6-8d10-d8ed728304fd"
      },
      "outputs": [
        {
          "output_type": "stream",
          "name": "stdout",
          "text": [
            "root\n",
            " |-- app_id: string (nullable = true)\n",
            " |-- helpful: string (nullable = true)\n",
            " |-- funny: string (nullable = true)\n",
            " |-- date: date (nullable = true)\n",
            " |-- is_recommended: boolean (nullable = true)\n",
            " |-- hours: double (nullable = true)\n",
            " |-- user_id: string (nullable = true)\n",
            " |-- review_id: string (nullable = true)\n",
            "\n",
            "+-------+-------+-----+----------+--------------+-----+-------+---------+\n",
            "| app_id|helpful|funny|      date|is_recommended|hours|user_id|review_id|\n",
            "+-------+-------+-----+----------+--------------+-----+-------+---------+\n",
            "| 975370|      0|    0|2022-12-12|          true| 36.3|  19954|        0|\n",
            "| 304390|      4|    0|2017-02-17|         false| 11.5|   1098|        1|\n",
            "|1085660|      2|    0|2019-11-17|          true|336.5|  91207|        2|\n",
            "| 703080|      0|    0|2022-09-23|          true| 27.4|  93054|        3|\n",
            "| 526870|      0|    0|2021-01-10|          true|  7.9|   9106|        4|\n",
            "| 306130|      0|    0|2021-10-10|          true|  8.6|  17622|        5|\n",
            "| 238960|      0|    0|2017-11-25|          true|538.8|  33969|        6|\n",
            "|    730|      0|    0|2021-11-30|         false|157.5|  24431|        7|\n",
            "| 255710|      0|    0|2021-05-21|          true| 18.7| 125959|        8|\n",
            "| 289070|      0|    0|2020-05-26|          true|397.5| 161164|        9|\n",
            "| 431960|      0|    0|2020-10-14|          true| 30.3|  72938|       10|\n",
            "|1086940|      0|    0|2020-10-07|          true| 50.0|  33027|       11|\n",
            "|1938090|      0|    0|2022-11-16|          true| 46.7|  59685|       12|\n",
            "|1286830|      2|    0|2020-07-26|          true| 19.3|  43442|       13|\n",
            "|1172620|      0|    0|2020-11-04|          true| 89.1|  46796|       14|\n",
            "| 306130|      0|    0|2021-05-12|          true| 61.1|  29155|       15|\n",
            "| 635260|      0|    0|2022-01-30|          true|177.0|  29571|       16|\n",
            "|1151340|      0|    0|2020-07-01|          true| 86.3|  47588|       17|\n",
            "| 289070|      0|    0|2020-05-29|          true|244.1|  93817|       18|\n",
            "| 392160|      3|    0|2018-12-26|         false|320.5| 144843|       19|\n",
            "+-------+-------+-----+----------+--------------+-----+-------+---------+\n",
            "only showing top 20 rows\n",
            "\n"
          ]
        }
      ],
      "source": [
        "recomm = spark.read.csv('/content/recommendations.csv',header=True)\n",
        "recomm = recomm.withColumn(\"date\",recomm.date.cast('date'))\n",
        "recomm = recomm.withColumn(\"is_recommended\",recomm.is_recommended.cast('Boolean'))\n",
        "recomm = recomm.withColumn(\"hours\",recomm.hours.cast('double'))\n",
        "recomm.printSchema()\n",
        "recomm.show()"
      ]
    },
    {
      "cell_type": "code",
      "execution_count": 11,
      "metadata": {
        "colab": {
          "base_uri": "https://localhost:8080/"
        },
        "id": "U8xCHSYukqZf",
        "outputId": "36c244ab-1f00-4016-81f6-b9ed4d101120"
      },
      "outputs": [
        {
          "output_type": "stream",
          "name": "stdout",
          "text": [
            "+------+-------+-----+----------+--------------+-----+-------+---------+\n",
            "|app_id|helpful|funny|      date|is_recommended|hours|user_id|review_id|\n",
            "+------+-------+-----+----------+--------------+-----+-------+---------+\n",
            "|   220|      7|    2|2010-10-15|          true| 57.5|4558944|  9007734|\n",
            "| 21690|      0|    0|2010-10-15|          true| 33.6|3676962|  8824678|\n",
            "|    70|      0|    0|2010-10-15|          true|  5.8|3915561|  9668828|\n",
            "| 12210|      0|    0|2010-10-15|          true| 97.4|2603260|  7867143|\n",
            "|  8930|      0|    0|2010-10-15|          true|403.6| 300125|  6288229|\n",
            "|   550|      8|    0|2010-10-15|          true|128.0|3016389|  5973921|\n",
            "|  4000|     12|    2|2010-10-16|          true|866.8|4427300|  1411574|\n",
            "|   220|      6|    0|2010-10-16|          true| 25.6|3119961|  8968553|\n",
            "|    70|      0|    0|2010-10-16|          true| 16.4|3180449|  9683515|\n",
            "| 22330|      2|    0|2010-10-16|          true| 19.9|2771215|  6936701|\n",
            "|  4000|      4|    0|2010-10-16|          true|263.0|4098583|  2082137|\n",
            "|  4500|      0|    2|2010-10-16|          true|  3.0|3470736|  6433547|\n",
            "|   440|      6|    0|2010-10-16|          true|921.1|1822932|  4349645|\n",
            "| 17470|      0|    0|2010-10-17|          true| 15.2|3180449|  9866731|\n",
            "|   550|      4|    0|2010-10-17|          true|664.3|4615105|  1062467|\n",
            "|   440|      5|    0|2010-10-18|          true|338.9|3731120|   988058|\n",
            "|    70|      3|    0|2010-10-18|          true|  5.9|4379656|  9656967|\n",
            "|    70|      0|    0|2010-10-19|          true|  3.8|2797963|  9699241|\n",
            "| 17470|      0|    0|2010-10-19|          true| 23.4|2797963|  9931967|\n",
            "|    70|      0|    0|2010-10-19|          true|  1.6|2772840|  9655430|\n",
            "+------+-------+-----+----------+--------------+-----+-------+---------+\n",
            "only showing top 20 rows\n",
            "\n"
          ]
        }
      ],
      "source": [
        "recomm.orderBy(f.col(\"date\")).show()"
      ]
    },
    {
      "cell_type": "code",
      "execution_count": 12,
      "metadata": {
        "colab": {
          "base_uri": "https://localhost:8080/"
        },
        "id": "ouS-EIb15MmR",
        "outputId": "65941823-d26d-476a-f07b-15a9a817a0fa"
      },
      "outputs": [
        {
          "output_type": "execute_result",
          "data": {
            "text/plain": [
              "10072270"
            ]
          },
          "metadata": {},
          "execution_count": 12
        }
      ],
      "source": [
        "recomm.count()"
      ]
    },
    {
      "cell_type": "code",
      "execution_count": 13,
      "metadata": {
        "colab": {
          "base_uri": "https://localhost:8080/"
        },
        "id": "Ir_n3_qPtbX1",
        "outputId": "3f629da7-8a57-4896-84a8-a9b63259fe35"
      },
      "outputs": [
        {
          "output_type": "stream",
          "name": "stdout",
          "text": [
            "root\n",
            " |-- user_id: string (nullable = true)\n",
            " |-- products: string (nullable = true)\n",
            " |-- reviews: string (nullable = true)\n",
            "\n",
            "+-------+--------+-------+\n",
            "|user_id|products|reviews|\n",
            "+-------+--------+-------+\n",
            "|5693478|     156|      1|\n",
            "|3595958|     329|      3|\n",
            "|1957593|     176|      2|\n",
            "|2108293|      98|      2|\n",
            "|2329878|     144|      2|\n",
            "|3264015|     108|      1|\n",
            "|3863136|     229|      1|\n",
            "|4098027|     187|      1|\n",
            "|4269643|    1824|      2|\n",
            "|4473335|      12|      1|\n",
            "|4494144|      91|      3|\n",
            "|4509007|     207|      2|\n",
            "|4598107|     315|      1|\n",
            "|4627209|     130|      1|\n",
            "|4642399|    1319|      2|\n",
            "|4660331|    1903|      6|\n",
            "|4959227|     352|      1|\n",
            "|5191613|     107|      1|\n",
            "|5573423|     587|      3|\n",
            "| 372596|     321|      2|\n",
            "+-------+--------+-------+\n",
            "only showing top 20 rows\n",
            "\n"
          ]
        }
      ],
      "source": [
        "user = spark.read.csv('/content/users.csv',header=True)\n",
        "user.printSchema()\n",
        "user.show()"
      ]
    },
    {
      "cell_type": "code",
      "execution_count": 14,
      "metadata": {
        "colab": {
          "base_uri": "https://localhost:8080/"
        },
        "id": "DemaH1ll5O2S",
        "outputId": "74c18cb7-788a-41c4-fdea-f7fb4b4b624c"
      },
      "outputs": [
        {
          "output_type": "execute_result",
          "data": {
            "text/plain": [
              "5810794"
            ]
          },
          "metadata": {},
          "execution_count": 14
        }
      ],
      "source": [
        "user.count()"
      ]
    },
    {
      "cell_type": "markdown",
      "metadata": {
        "id": "FwV-btcit2FE"
      },
      "source": [
        "# Prepare Section"
      ]
    },
    {
      "cell_type": "code",
      "execution_count": 15,
      "metadata": {
        "id": "0Xtc7csGNstL"
      },
      "outputs": [],
      "source": [
        "game_tng = game.join(game_tags,[\"app_id\"],\"full\")"
      ]
    },
    {
      "cell_type": "code",
      "execution_count": 16,
      "metadata": {
        "colab": {
          "base_uri": "https://localhost:8080/"
        },
        "id": "yORzFdI2Ns6-",
        "outputId": "65277965-91ab-4ed9-d645-d191e2794dac"
      },
      "outputs": [
        {
          "output_type": "stream",
          "name": "stdout",
          "text": [
            "+------+--------------------+------------+----+-----+-----+--------------------+--------------+------------+-----------+--------------+--------+----------+--------------------+--------------------+\n",
            "|app_id|               title|date_release| win|  mac|linux|              rating|positive_ratio|user_reviews|price_final|price_original|discount|steam_deck|         description|                tags|\n",
            "+------+--------------------+------------+----+-----+-----+--------------------+--------------+------------+-----------+--------------+--------+----------+--------------------+--------------------+\n",
            "|    10|      Counter-Strike|  2000-11-01|true| true| true|Overwhelmingly Po...|            97|    132250.0|       9.99|          9.99|     0.0|      true|Play the world's ...|[Action, FPS, Mul...|\n",
            "|    50|Half-Life: Opposi...|  1999-11-01|true| true| true|Overwhelmingly Po...|            95|     14057.0|       4.99|          4.99|     0.0|      true|Return to the Bla...|[FPS, Action, Cla...|\n",
            "|   130|Half-Life: Blue S...|  2001-06-01|true| true| true|       Very Positive|            91|     10522.0|       4.99|          4.99|     0.0|      true|Made by Gearbox S...|[FPS, Action, Sci...|\n",
            "|   220|         Half-Life 2|  2007-10-10|true| true| true|Overwhelmingly Po...|            97|    122230.0|       9.99|          9.99|     0.0|      true|1998. HALF-LIFE s...|[FPS, Action, Sci...|\n",
            "|   320|Half-Life 2: Deat...|  2004-11-01|true| true| true|       Very Positive|            89|      7539.0|       4.99|          4.99|     0.0|      true|Fast multiplayer ...|[Action, FPS, Mul...|\n",
            "|   420|Half-Life 2: Epis...|  2007-10-10|true| true| true|Overwhelmingly Po...|            97|     26037.0|       7.99|          7.99|     0.0|      true|Half-Life® 2: Epi...|[FPS, Action, Sci...|\n",
            "|   500|         Left 4 Dead|  2008-11-17|true| true|false|Overwhelmingly Po...|            96|     37937.0|       9.99|          9.99|     0.0|      true|From Valve (the c...|[Zombies, Co-op, ...|\n",
            "|   550|       Left 4 Dead 2|  2009-11-16|true| true| true|Overwhelmingly Po...|            97|    519066.0|       9.99|          9.99|     0.0|      true|Set in the zombie...|[Zombies, Co-op, ...|\n",
            "|   570|              Dota 2|  2013-07-09|true| true| true|       Very Positive|            82|   1930493.0|        0.0|           0.0|     0.0|      true|Every day, millio...|[Free to Play, MO...|\n",
            "|   730|Counter-Strike: G...|  2012-08-21|true| true| true|       Very Positive|            88|   6941137.0|      14.99|           0.0|     0.0|      true|Counter-Strike: G...|[FPS, Shooter, Mu...|\n",
            "|  1002|    Rag Doll Kung Fu|  2005-10-12|true|false|false|     Mostly Positive|            72|        44.0|       0.99|          0.99|     0.0|      true|A piece of Steam ...|[2D Fighter, Mart...|\n",
            "|  1200|Red Orchestra: Os...|  2006-03-14|true| true| true|       Very Positive|            84|      1282.0|       4.99|          4.99|     0.0|      true|Fight in the thea...|[World War II, Ac...|\n",
            "|  1230|        Mare Nostrum|  2008-10-17|true| true| true|       Very Positive|            87|       107.0|        0.0|           0.0|     0.0|      true|Experience some o...|[Action, World Wa...|\n",
            "|  1250|       Killing Floor|  2009-05-14|true| true| true|Overwhelmingly Po...|            96|     35989.0|      19.99|         19.99|     0.0|      true|6-player co-op su...|[FPS, Zombies, Co...|\n",
            "|  1256|Killing Floor Out...|  2009-07-24|true| true| true|            Positive|            84|        46.0|       7.99|          7.99|     0.0|      true|                    |            [Action]|\n",
            "|  1257|Killing Floor: Ni...|  2010-05-19|true| true| true|       Very Positive|            89|        57.0|       7.99|          7.99|     0.0|      true|                    |            [Action]|\n",
            "|  1280|Darkest Hour: Eur...|  2009-06-09|true| true| true|       Very Positive|            90|      1293.0|        0.0|           0.0|     0.0|      true|Darkest Hour: Eur...|[Action, World Wa...|\n",
            "|  1520|              DEFCON|  2012-04-24|true| true| true|       Very Positive|            86|      2864.0|       9.99|          9.99|     0.0|      true|Inspired by the 1...|[Strategy, Indie,...|\n",
            "|  1530|          Multiwinia|  2008-09-19|true| true|false|       Very Positive|            81|       368.0|       9.99|          9.99|     0.0|      true|\"Long ago a compu...|[Indie, RTS, Stra...|\n",
            "|  1640|Disciples II: Gal...|  2006-07-06|true|false|false|       Very Positive|            81|      1112.0|       6.99|          6.99|     0.0|      true|Disciples II: Gal...|[Turn-Based Strat...|\n",
            "+------+--------------------+------------+----+-----+-----+--------------------+--------------+------------+-----------+--------------+--------+----------+--------------------+--------------------+\n",
            "only showing top 20 rows\n",
            "\n"
          ]
        }
      ],
      "source": [
        "game_tng.show()\n",
        "# game_tng.select('tags').collect()[0][0][0]\n",
        "# game_tng.describe().show()"
      ]
    },
    {
      "cell_type": "code",
      "execution_count": 17,
      "metadata": {
        "id": "3vu2QFBj6M7i"
      },
      "outputs": [],
      "source": [
        "game_tng = game_tng.filter(game_tng.app_id.isNotNull()\\\n",
        "                           |game_tng.title.isNotNull()\\\n",
        "                           |game_tng.win.isNotNull()\\\n",
        "                           |game_tng.rating.isNotNull()\\\n",
        "                           |game_tng.price_final.isNotNull()\\\n",
        "                           |game_tng.price_original.isNotNull()\\\n",
        "                           |game_tng.description.isNotNull()\\\n",
        "                           |game_tng.tags.isNotNull()\\\n",
        "                           ).sort(\"app_id\") \n"
      ]
    },
    {
      "cell_type": "code",
      "execution_count": 18,
      "metadata": {
        "colab": {
          "base_uri": "https://localhost:8080/"
        },
        "id": "nUfY2ny26lz0",
        "outputId": "93c27c34-0246-4bac-b162-0df414a7659f"
      },
      "outputs": [
        {
          "output_type": "execute_result",
          "data": {
            "text/plain": [
              "46068"
            ]
          },
          "metadata": {},
          "execution_count": 18
        }
      ],
      "source": [
        "game_tng.count()"
      ]
    },
    {
      "cell_type": "code",
      "execution_count": 19,
      "metadata": {
        "colab": {
          "base_uri": "https://localhost:8080/"
        },
        "id": "hPG6M13B-u1S",
        "outputId": "3e4f0275-6c0e-4283-dc5c-0685e2d8544b"
      },
      "outputs": [
        {
          "output_type": "stream",
          "name": "stdout",
          "text": [
            "+-------+--------------------------+------------+----+-----+-----+--------------------+--------------+------------+-----------+--------------+--------+----------+------------------------------+--------------------+\n",
            "| app_id|                     title|date_release| win|  mac|linux|              rating|positive_ratio|user_reviews|price_final|price_original|discount|steam_deck|                   description|                tags|\n",
            "+-------+--------------------------+------------+----+-----+-----+--------------------+--------------+------------+-----------+--------------+--------+----------+------------------------------+--------------------+\n",
            "|     10|            Counter-Strike|  2000-11-01|true| true| true|Overwhelmingly Po...|            97|    132250.0|       9.99|          9.99|     0.0|      true|          Play the world's ...|[Action, FPS, Mul...|\n",
            "|1000000|                 ASCENXION|  2021-05-14|true|false|false|     Mostly Positive|            72|        22.0|       2.49|          9.99|    75.0|      true|          ASCENXION is a 2D...|[Shoot 'Em Up, Me...|\n",
            "|1000010|               Crown Trick|  2020-10-16|true|false|false|       Very Positive|            86|      4158.0|      19.99|         19.99|     0.0|      true|          Enter a labyrinth...|[Roguelike, Turn-...|\n",
            "|1000030|      Cook Serve Delici...|  2020-10-14|true| true|false|Overwhelmingly Po...|            95|      1396.0|      19.99|         19.99|     0.0|      true|          Cook, serve and m...|[Typing, Manageme...|\n",
            "|1000080|                   Zengeon|  2019-06-24|true| true|false|               Mixed|            68|      1189.0|      19.99|         19.99|     0.0|      true|          Zengeon is an ani...|[Action, Indie, R...|\n",
            "|1000110|  Jumping Master(跳跳大咖)|  2019-04-08|true|false|false|               Mixed|            60|        85.0|        0.0|           0.0|     0.0|      true|          Jumping Master is...|[Free to Play, Ma...|\n",
            "|1000280|      Tower of Origin2-...|  2021-09-09|true|false|false|               Mixed|            68|        41.0|      13.99|         13.99|     0.0|      true|          As the protagonis...|[Sexual Content, ...|\n",
            "|1000360|             Hellish Quart|  2021-02-16|true|false|false|       Very Positive|            92|      4756.0|      16.99|         16.99|     0.0|      true|          A physics-based, ...|[Early Access, 3D...|\n",
            "|1000380|              Rogue Reaper|  2019-02-01|true|false|false|     Mostly Positive|            77|       398.0|        0.0|           0.0|     0.0|      true|          Rogue Reaper is a...|[Free to Play, Ac...|\n",
            "|1000400|      Edge Of Eternity ...|  2019-04-11|true|false|false|            Positive|            93|        15.0|       0.74|          0.99|    25.0|      true|                              |[Strategy, Action...|\n",
            "|1000410|       WRATH: Aeon of Ruin|  2019-11-22|true|false|false|       Very Positive|            81|      1178.0|      24.99|         24.99|     0.0|      true|          3D Realms, creato...|[Action, FPS, Ret...|\n",
            "|1000440|东方雪莲华 ～ Abyss Sou...|  2023-02-02|true|false|false|       Very Positive|            91|       267.0|      12.99|         12.99|     0.0|      true|东方雪莲华是东方project的二...|[Bullet Hell, Sho...|\n",
            "|1000470|      Drawngeon: Dungeo...|  2019-05-24|true|false|false|     Mostly Positive|            77|        59.0|       4.99|          4.99|     0.0|      true|          Inkland - the han...|[RPG, Adventure, ...|\n",
            "|1000480|             Battle Motion|  2019-02-04|true| true| true|               Mixed|            57|        14.0|       9.99|          9.99|     0.0|      true|          Single-player act...|[Early Access, Ac...|\n",
            "|1000500|      The Undisputables...|  2021-12-05|true| true| true|     Mostly Positive|            75|        12.0|       6.99|          6.99|     0.0|      true|          The Undisputables...|[Multiplayer, Sho...|\n",
            "|1000510|      The Marvellous Ma...|  2019-02-11|true|false|false|       Very Positive|            83|       131.0|        0.0|           0.0|     0.0|      true|          The Marvellous Ma...|[Education, VR, N...|\n",
            "|1000540|          Tactical Control|  2019-03-21|true|false|false|       Very Positive|            81|        65.0|        0.0|           0.0|     0.0|      true|          Tactical Control:...|[Casual, Free to ...|\n",
            "|1000640|                  Clam Man|  2019-05-23|true| true| true|       Very Positive|            92|        89.0|       9.99|          9.99|     0.0|      true|          An absurd, strang...|[Adventure, Indie...|\n",
            "|1000700|                  Insomnis|  2022-01-07|true|false|false|       Very Positive|            89|        93.0|      14.99|         14.99|     0.0|      true|          Insomnis is a fir...|[Adventure, Indie...|\n",
            "|1000710|      Fishing Planet: B...|  2018-12-27|true| true| true|            Positive|            92|        14.0|      34.99|         34.99|     0.0|      true|                              |[Free to Play, Ma...|\n",
            "+-------+--------------------------+------------+----+-----+-----+--------------------+--------------+------------+-----------+--------------+--------+----------+------------------------------+--------------------+\n",
            "only showing top 20 rows\n",
            "\n"
          ]
        }
      ],
      "source": [
        "game_tng.show()"
      ]
    },
    {
      "cell_type": "markdown",
      "metadata": {
        "id": "ecRcLwm-6OWq"
      },
      "source": [
        "-----------------------------------------------------\n"
      ]
    },
    {
      "cell_type": "code",
      "execution_count": 20,
      "metadata": {
        "id": "jh_tk2dGRrXi"
      },
      "outputs": [],
      "source": [
        "user_recc = recomm.join(user,[\"user_id\"],\"full\")"
      ]
    },
    {
      "cell_type": "code",
      "execution_count": 21,
      "metadata": {
        "colab": {
          "base_uri": "https://localhost:8080/"
        },
        "id": "vLxWI3z-yFEo",
        "outputId": "4d1b7efb-a58b-4b84-8247-90f7ab248049"
      },
      "outputs": [
        {
          "output_type": "stream",
          "name": "stdout",
          "text": [
            "+-------+-------+-------+-----+----------+--------------+-----+---------+--------+-------+\n",
            "|user_id| app_id|helpful|funny|      date|is_recommended|hours|review_id|products|reviews|\n",
            "+-------+-------+-------+-----+----------+--------------+-----+---------+--------+-------+\n",
            "|1000015| 252490|      0|    0|2022-04-12|          true|153.9|  1425042|      39|      2|\n",
            "|1000015|1172620|      0|    0|2021-03-31|          true|178.2|  5204960|      39|      2|\n",
            "|1000061|1222670|      0|    0|2021-08-30|          true|  8.2|  5368448|      18|      2|\n",
            "|1000061| 641320|      0|    0|2021-11-09|          true|  2.2|  6373236|      18|      2|\n",
            "|1000064| 431960|      0|    0|2022-05-24|          true|  6.1|  4967499|      17|      1|\n",
            "|1000067|1237950|      0|    0|2022-04-16|          true|411.5|  7219262|      15|      1|\n",
            "|1000070| 262060|      0|    0|2022-01-10|          true| 83.8|  7298313|       5|      1|\n",
            "|1000073| 271590|      0|    0|2021-07-04|          true| 86.0|  1815935|      54|      2|\n",
            "|1000073| 674940|      0|    0|2021-11-07|          true|  3.2|  8359823|      54|      2|\n",
            "|1000087| 252490|      0|    0|2022-02-06|          true| 33.7|  3590296|     153|      2|\n",
            "|1000087|  12210|      0|    0|2021-03-09|         false| 28.0|  7036229|     153|      2|\n",
            "|1000096| 107410|      0|    0|2021-03-18|          true|674.4|  5310164|      27|      1|\n",
            "|1000097|  22370|      0|    0|2020-12-01|         false|  0.2|  8295202|      37|      1|\n",
            "| 100010|   null|   null| null|      null|          null| null|     null|      34|      0|\n",
            "|1000113|1332010|      0|    0|2022-07-20|          true|  5.4|  5046327|      43|      1|\n",
            "|1000123|1238810|      2|    3|2022-03-05|         false| 73.6|  6843961|      25|      1|\n",
            "|1000126| 380600|      6|    0|2016-06-26|         false|  0.3|  6558759|      72|      1|\n",
            "|1000127| 252490|      0|    0|2022-02-16|          true|  9.7|  1397496|      12|      1|\n",
            "|1000128|1222670|      0|    0|2022-02-12|          true| 13.2|  2173184|      65|      1|\n",
            "|1000131| 824270|      0|    0|2021-01-23|          true| 22.5|  6859164|       4|      1|\n",
            "+-------+-------+-------+-----+----------+--------------+-----+---------+--------+-------+\n",
            "only showing top 20 rows\n",
            "\n"
          ]
        }
      ],
      "source": [
        "user_recc.show()\n",
        "# user_recc.describe().show()"
      ]
    },
    {
      "cell_type": "code",
      "execution_count": 22,
      "metadata": {
        "id": "_nufYNoU8Bf-"
      },
      "outputs": [],
      "source": [
        "user_recc = user_recc.filter(user_recc.app_id.isNotNull()).sort(\"user_id\") "
      ]
    },
    {
      "cell_type": "code",
      "execution_count": 23,
      "metadata": {
        "id": "_GGEl5sA8fpd"
      },
      "outputs": [],
      "source": [
        "# user_recc.count()"
      ]
    },
    {
      "cell_type": "code",
      "execution_count": 24,
      "metadata": {
        "colab": {
          "base_uri": "https://localhost:8080/"
        },
        "id": "JDuves7O8M7o",
        "outputId": "c828f6e7-a227-426d-8a1f-75b2cb9ee7be"
      },
      "outputs": [
        {
          "output_type": "stream",
          "name": "stdout",
          "text": [
            "+-------+-------+-------+-----+----------+--------------+-----+---------+--------+-------+\n",
            "|user_id| app_id|helpful|funny|      date|is_recommended|hours|review_id|products|reviews|\n",
            "+-------+-------+-------+-----+----------+--------------+-----+---------+--------+-------+\n",
            "|      0| 291550|      0|    0|2020-11-01|          true| 12.7|   104563|      54|      2|\n",
            "|      0| 493520|      0|    0|2020-10-30|          true| 18.6|  4723256|      54|      2|\n",
            "|      1| 466560|      0|    0|2017-11-23|          true| 11.7|  7425237|     114|      1|\n",
            "|     10| 289070|      0|    0|2019-06-30|          true|195.9|  1504502|       9|      1|\n",
            "|    100|1151340|      6|    0|2021-10-18|         false|121.2|  5551994|      26|      1|\n",
            "|   1000| 457140|      0|    0|2021-12-17|          true|591.7|  9293917|     394|      1|\n",
            "|  10000| 252490|      0|    0|2020-09-14|          true|149.1|  1854929|      12|      1|\n",
            "| 100000| 252490|      0|    0|2021-08-05|          true|445.5|   482494|       6|      1|\n",
            "|1000000| 394360|      0|    0|2022-11-16|          true|348.9|  2554287|      31|      1|\n",
            "|1000001|1677740|      0|    0|2022-08-03|          true| 71.7|  8129955|       4|      1|\n",
            "|1000002|1794680|      0|    0|2022-07-12|          true| 42.6|  4122570|     129|      1|\n",
            "|1000003| 250900|      0|    0|2021-04-22|          true|226.0|  5654762|      25|      2|\n",
            "|1000003|1148760|      0|    0|2022-12-26|          true| 20.6|  9368227|      25|      2|\n",
            "|1000004| 823500|      0|    0|2021-12-01|          true| 12.1|  6971290|      24|      1|\n",
            "|1000005| 424030|      0|    0|2018-12-03|         false|202.4|  9166838|     137|      1|\n",
            "|1000006| 337320|      0|    0|2016-03-04|          true| 11.5|  8932409|     187|      2|\n",
            "|1000006| 427730|      0|    0|2016-02-27|          true| 22.8|  7797972|     187|      2|\n",
            "|1000007|1274570|      0|    0|2022-06-03|          true| 16.1|  6686631|      11|      1|\n",
            "|1000008|1293830|      0|    0|2021-12-23|          true| 24.9|  6381200|      17|      3|\n",
            "|1000008| 244210|      0|    0|2021-08-15|          true| 40.6|  1914627|      17|      3|\n",
            "+-------+-------+-------+-----+----------+--------------+-----+---------+--------+-------+\n",
            "only showing top 20 rows\n",
            "\n"
          ]
        }
      ],
      "source": [
        "user_recc.show()"
      ]
    },
    {
      "cell_type": "code",
      "execution_count": 25,
      "metadata": {
        "id": "vg8sasMOfDhi"
      },
      "outputs": [],
      "source": [
        "all_data = game_tng.join(user_recc,[\"app_id\"],\"full\")"
      ]
    },
    {
      "cell_type": "code",
      "execution_count": 26,
      "metadata": {
        "colab": {
          "base_uri": "https://localhost:8080/"
        },
        "id": "nwXzy6-ZfU3a",
        "outputId": "b5892f05-1e1b-49a2-ffdd-c574c9f27ddb"
      },
      "outputs": [
        {
          "output_type": "stream",
          "name": "stdout",
          "text": [
            "root\n",
            " |-- app_id: string (nullable = true)\n",
            " |-- title: string (nullable = true)\n",
            " |-- date_release: string (nullable = true)\n",
            " |-- win: string (nullable = true)\n",
            " |-- mac: string (nullable = true)\n",
            " |-- linux: string (nullable = true)\n",
            " |-- rating: string (nullable = true)\n",
            " |-- positive_ratio: string (nullable = true)\n",
            " |-- user_reviews: double (nullable = true)\n",
            " |-- price_final: double (nullable = true)\n",
            " |-- price_original: double (nullable = true)\n",
            " |-- discount: double (nullable = true)\n",
            " |-- steam_deck: string (nullable = true)\n",
            " |-- description: string (nullable = true)\n",
            " |-- tags: array (nullable = true)\n",
            " |    |-- element: string (containsNull = true)\n",
            " |-- user_id: string (nullable = true)\n",
            " |-- helpful: string (nullable = true)\n",
            " |-- funny: string (nullable = true)\n",
            " |-- date: date (nullable = true)\n",
            " |-- is_recommended: boolean (nullable = true)\n",
            " |-- hours: double (nullable = true)\n",
            " |-- review_id: string (nullable = true)\n",
            " |-- products: string (nullable = true)\n",
            " |-- reviews: string (nullable = true)\n",
            "\n"
          ]
        }
      ],
      "source": [
        "all_data.printSchema()"
      ]
    },
    {
      "cell_type": "code",
      "execution_count": 27,
      "metadata": {
        "colab": {
          "base_uri": "https://localhost:8080/"
        },
        "id": "zE3GOshplWup",
        "outputId": "960bfdae-3aad-4f5f-8c93-8cd96d617809"
      },
      "outputs": [
        {
          "output_type": "stream",
          "name": "stdout",
          "text": [
            "+-------+----------------------------+------------+----+-----+-----+---------------+--------------+------------+-----------+--------------+--------+----------+--------------------+--------------------+-------+-------+-----+----+--------------+-----+---------+--------+-------+\n",
            "| app_id|                       title|date_release| win|  mac|linux|         rating|positive_ratio|user_reviews|price_final|price_original|discount|steam_deck|         description|                tags|user_id|helpful|funny|date|is_recommended|hours|review_id|products|reviews|\n",
            "+-------+----------------------------+------------+----+-----+-----+---------------+--------------+------------+-----------+--------------+--------+----------+--------------------+--------------------+-------+-------+-----+----+--------------+-----+---------+--------+-------+\n",
            "|1000280|        Tower of Origin2-...|  2021-09-09|true|false|false|          Mixed|            68|        41.0|      13.99|         13.99|     0.0|      true|As the protagonis...|[Sexual Content, ...|   null|   null| null|null|          null| null|     null|    null|   null|\n",
            "|1000540|            Tactical Control|  2019-03-21|true|false|false|  Very Positive|            81|        65.0|        0.0|           0.0|     0.0|      true|Tactical Control:...|[Casual, Free to ...|   null|   null| null|null|          null| null|     null|    null|   null|\n",
            "|1000760|                    Foregone|  2021-03-01|true|false|false|  Very Positive|            82|       927.0|      19.99|         19.99|     0.0|      true|Foregone is a fas...|[Action, Indie, P...|   null|   null| null|null|          null| null|     null|    null|   null|\n",
            "|1001100|        Kooring VR Wonder...|  2020-10-09|true|false|false|       Positive|           100|        10.0|      15.99|         15.99|     0.0|      true|Kooring VR Wonder...|[Family Friendly,...|   null|   null| null|null|          null| null|     null|    null|   null|\n",
            "|1001370|        IL-2 Sturmovik: F...|  2018-12-19|true|false|false|       Positive|            90|        10.0|       9.99|          9.99|     0.0|      true|                    |        [Simulation]|   null|   null| null|null|          null| null|     null|    null|   null|\n",
            "|1001490|        Tower Behind the ...|  2018-12-20|true| true| true|          Mixed|            57|        14.0|       7.99|          7.99|     0.0|      true|You are the great...|[Adventure, RPG, ...|   null|   null| null|null|          null| null|     null|    null|   null|\n",
            "|1001690|              Mars Flight VR|  2021-06-08|true|false|false|Mostly Positive|            70|        10.0|        0.0|           0.0|     0.0|      true|Mars Flight VR is...|[Simulation, Raci...|   null|   null| null|null|          null| null|     null|    null|   null|\n",
            "|1002830|          Latte Stand Tycoon|  2019-01-26|true| true| true|          Mixed|            61|        21.0|       3.99|          3.99|     0.0|      true|Come, join Maya a...|[Casual, RPG, Ind...|   null|   null| null|null|          null| null|     null|    null|   null|\n",
            "|1002920|             The Last Dinner|  2019-01-10|true|false|false|          Mixed|            53|        32.0|        0.0|           0.0|     0.0|      true|\"The Last Dinner\"...|[Free to Play, Go...|   null|   null| null|null|          null| null|     null|    null|   null|\n",
            "|1003070|                     Groomer|  2019-03-11|true|false|false|          Mixed|            68|        22.0|       0.99|          0.99|     0.0|      true|Groomer is a rela...|[Simulation, Indi...|   null|   null| null|null|          null| null|     null|    null|   null|\n",
            "|1003370|        Graywalkers: Purg...|  2020-01-15|true|false| true|          Mixed|            63|        11.0|      24.99|         24.99|     0.0|      true|Graywalkers Purga...|[RPG, Strategy, A...|   null|   null| null|null|          null| null|     null|    null|   null|\n",
            "|1003480|        Fireboy & Watergi...|  2019-01-24|true| true|false|  Very Positive|            89|       533.0|       0.99|          0.99|     0.0|      true|Help Fireboy and ...|[Action, Local Mu...|   null|   null| null|null|          null| null|     null|    null|   null|\n",
            "|1003750|她2 : 我还想再见到你   He...|  2019-02-15|true|false|false|  Very Positive|            90|       110.0|       3.99|          3.99|     0.0|      true|This is a antique...|[Casual, Simulati...|   null|   null| null|null|          null| null|     null|    null|   null|\n",
            "|1004740|                     iDancer|  2019-01-21|true|false|false|  Very Positive|            85|        98.0|       7.99|          7.99|     0.0|      true|iDancer is a uniq...|[Utilities, Sexua...|   null|   null| null|null|          null| null|     null|    null|   null|\n",
            "|1004860|        The Secret Order ...|  2019-02-28|true| true| true|  Very Positive|            87|       106.0|      14.99|         14.99|     0.0|      true|There are dark se...|[Casual, Adventur...|   null|   null| null|null|          null| null|     null|    null|   null|\n",
            "|1004919|        Warhammer: Chaosb...|  2019-12-16|true|false|false|          Mixed|            61|        26.0|       9.99|          9.99|     0.0|      true|                    |[RPG, Action, Adv...|   null|   null| null|null|          null| null|     null|    null|   null|\n",
            "|1004950|        DiRT Rally 2.0 - ...|  2019-04-08|true|false|false|       Positive|            96|        25.0|       1.99|          1.99|     0.0|      true|                    |[Simulation, Raci...|   null|   null| null|null|          null| null|     null|    null|   null|\n",
            "|1005050|        Fabulous - Angela...|  2019-01-24|true| true|false|       Positive|            86|        36.0|      12.99|         12.99|     0.0|      true|Take on the New Y...|[Strategy, Casual...|   null|   null| null|null|          null| null|     null|    null|   null|\n",
            "|1005060|        Fabulous - New Yo...|  2019-10-01|true| true|false|Mostly Positive|            77|        27.0|      12.99|         12.99|     0.0|      true|Will Angela's exp...|[Casual, Strategy...|   null|   null| null|null|          null| null|     null|    null|   null|\n",
            "|1005340|        Myths and Legends...|  2019-08-09|true| true|false|          Mixed|            60|       510.0|        0.0|           0.0|     0.0|      true|Battle other Guar...|[Strategy, Free t...|   null|   null| null|null|          null| null|     null|    null|   null|\n",
            "+-------+----------------------------+------------+----+-----+-----+---------------+--------------+------------+-----------+--------------+--------+----------+--------------------+--------------------+-------+-------+-----+----+--------------+-----+---------+--------+-------+\n",
            "only showing top 20 rows\n",
            "\n"
          ]
        }
      ],
      "source": [
        "# all_data.count()\n",
        "all_data.show()\n",
        "# app_id,title,win"
      ]
    },
    {
      "cell_type": "code",
      "execution_count": 28,
      "metadata": {
        "id": "xtCh1iEHopwa"
      },
      "outputs": [],
      "source": [
        "#Drop Null\n",
        "all_data = all_data.filter(all_data.app_id.isNotNull()|all_data.title.isNotNull()|all_data.win.isNotNull()).sort(\"app_id\") "
      ]
    },
    {
      "cell_type": "code",
      "execution_count": 29,
      "metadata": {
        "id": "fqBqphf-tkr-"
      },
      "outputs": [],
      "source": [
        "# all_data.count()"
      ]
    },
    {
      "cell_type": "code",
      "execution_count": 30,
      "metadata": {
        "colab": {
          "base_uri": "https://localhost:8080/"
        },
        "id": "-33fjiJ8kweI",
        "outputId": "85e2e539-2092-4bf8-918a-376bc1f8c52f"
      },
      "outputs": [
        {
          "output_type": "stream",
          "name": "stdout",
          "text": [
            "+-------+------------------------+------------+----+-----+-----+--------------------+--------------+------------+-----------+--------------+--------+----------+--------------------+--------------------+-------+-------+-----+----------+--------------+-----+---------+--------+-------+\n",
            "| app_id|                   title|date_release| win|  mac|linux|              rating|positive_ratio|user_reviews|price_final|price_original|discount|steam_deck|         description|                tags|user_id|helpful|funny|      date|is_recommended|hours|review_id|products|reviews|\n",
            "+-------+------------------------+------------+----+-----+-----+--------------------+--------------+------------+-----------+--------------+--------+----------+--------------------+--------------------+-------+-------+-----+----------+--------------+-----+---------+--------+-------+\n",
            "|     10|          Counter-Strike|  2000-11-01|true| true| true|Overwhelmingly Po...|            97|    132250.0|       9.99|          9.99|     0.0|      true|Play the world's ...|[Action, FPS, Mul...|   null|   null| null|      null|          null| null|     null|    null|   null|\n",
            "|1000000|               ASCENXION|  2021-05-14|true|false|false|     Mostly Positive|            72|        22.0|       2.49|          9.99|    75.0|      true|ASCENXION is a 2D...|[Shoot 'Em Up, Me...|   null|   null| null|      null|          null| null|     null|    null|   null|\n",
            "|1000010|             Crown Trick|  2020-10-16|true|false|false|       Very Positive|            86|      4158.0|      19.99|         19.99|     0.0|      true|Enter a labyrinth...|[Roguelike, Turn-...|   null|   null| null|      null|          null| null|     null|    null|   null|\n",
            "|1000030|    Cook Serve Delici...|  2020-10-14|true| true|false|Overwhelmingly Po...|            95|      1396.0|      19.99|         19.99|     0.0|      true|Cook, serve and m...|[Typing, Manageme...|   null|   null| null|      null|          null| null|     null|    null|   null|\n",
            "|1000080|                 Zengeon|  2019-06-24|true| true|false|               Mixed|            68|      1189.0|      19.99|         19.99|     0.0|      true|Zengeon is an ani...|[Action, Indie, R...|   null|   null| null|      null|          null| null|     null|    null|   null|\n",
            "|1000110|Jumping Master(跳跳大咖)|  2019-04-08|true|false|false|               Mixed|            60|        85.0|        0.0|           0.0|     0.0|      true|Jumping Master is...|[Free to Play, Ma...|   null|   null| null|      null|          null| null|     null|    null|   null|\n",
            "|1000280|    Tower of Origin2-...|  2021-09-09|true|false|false|               Mixed|            68|        41.0|      13.99|         13.99|     0.0|      true|As the protagonis...|[Sexual Content, ...|   null|   null| null|      null|          null| null|     null|    null|   null|\n",
            "|1000360|           Hellish Quart|  2021-02-16|true|false|false|       Very Positive|            92|      4756.0|      16.99|         16.99|     0.0|      true|A physics-based, ...|[Early Access, 3D...|1123385|      0|    0|2021-04-24|          true|  4.5|  7378715|      65|      6|\n",
            "|1000360|           Hellish Quart|  2021-02-16|true|false|false|       Very Positive|            92|      4756.0|      16.99|         16.99|     0.0|      true|A physics-based, ...|[Early Access, 3D...|1087904|      0|    0|2021-05-03|         false|  1.9|  7352642|      34|      1|\n",
            "|1000360|           Hellish Quart|  2021-02-16|true|false|false|       Very Positive|            92|      4756.0|      16.99|         16.99|     0.0|      true|A physics-based, ...|[Early Access, 3D...|1075955|      0|    0|2021-07-26|          true| 17.8|  7301562|      44|      3|\n",
            "|1000360|           Hellish Quart|  2021-02-16|true|false|false|       Very Positive|            92|      4756.0|      16.99|         16.99|     0.0|      true|A physics-based, ...|[Early Access, 3D...|1051492|      0|    0|2022-05-31|         false|  0.2|  7334719|      76|      7|\n",
            "|1000360|           Hellish Quart|  2021-02-16|true|false|false|       Very Positive|            92|      4756.0|      16.99|         16.99|     0.0|      true|A physics-based, ...|[Early Access, 3D...|1161293|      0|    0|2021-02-18|          true|101.9|  7370241|     111|      2|\n",
            "|1000360|           Hellish Quart|  2021-02-16|true|false|false|       Very Positive|            92|      4756.0|      16.99|         16.99|     0.0|      true|A physics-based, ...|[Early Access, 3D...|1033042|      0|    0|2021-02-18|          true|  0.2|  7334643|      16|      1|\n",
            "|1000360|           Hellish Quart|  2021-02-16|true|false|false|       Very Positive|            92|      4756.0|      16.99|         16.99|     0.0|      true|A physics-based, ...|[Early Access, 3D...|1169073|     83|   67|2021-02-27|          true|  3.7|  7326883|       2|      1|\n",
            "|1000360|           Hellish Quart|  2021-02-16|true|false|false|       Very Positive|            92|      4756.0|      16.99|         16.99|     0.0|      true|A physics-based, ...|[Early Access, 3D...|1022953|      0|    0|2022-01-25|          true|136.7|  7401863|      50|      1|\n",
            "|1000360|           Hellish Quart|  2021-02-16|true|false|false|       Very Positive|            92|      4756.0|      16.99|         16.99|     0.0|      true|A physics-based, ...|[Early Access, 3D...|1180127|      0|    0|2021-03-23|          true|  9.1|  7419273|      36|      1|\n",
            "|1000360|           Hellish Quart|  2021-02-16|true|false|false|       Very Positive|            92|      4756.0|      16.99|         16.99|     0.0|      true|A physics-based, ...|[Early Access, 3D...|1039585|      0|    0|2021-02-17|          true|  5.1|  7419233|      39|      2|\n",
            "|1000360|           Hellish Quart|  2021-02-16|true|false|false|       Very Positive|            92|      4756.0|      16.99|         16.99|     0.0|      true|A physics-based, ...|[Early Access, 3D...|1014716|      0|    0|2022-01-11|          true|  7.4|  7326895|      17|      1|\n",
            "|1000360|           Hellish Quart|  2021-02-16|true|false|false|       Very Positive|            92|      4756.0|      16.99|         16.99|     0.0|      true|A physics-based, ...|[Early Access, 3D...| 100635|      0|    3|2021-11-02|         false|  5.6|  7352618|      24|      2|\n",
            "|1000360|           Hellish Quart|  2021-02-16|true|false|false|       Very Positive|            92|      4756.0|      16.99|         16.99|     0.0|      true|A physics-based, ...|[Early Access, 3D...| 101224|      2|    0|2021-02-18|          true| 59.5|  7406406|     116|      1|\n",
            "+-------+------------------------+------------+----+-----+-----+--------------------+--------------+------------+-----------+--------------+--------+----------+--------------------+--------------------+-------+-------+-----+----------+--------------+-----+---------+--------+-------+\n",
            "only showing top 20 rows\n",
            "\n"
          ]
        }
      ],
      "source": [
        "all_data.show()"
      ]
    },
    {
      "cell_type": "code",
      "execution_count": 31,
      "metadata": {
        "colab": {
          "base_uri": "https://localhost:8080/"
        },
        "id": "dyCrbVNIyU42",
        "outputId": "27dfd3ec-dc11-42a5-b531-2791bc912f1c"
      },
      "outputs": [
        {
          "output_type": "stream",
          "name": "stdout",
          "text": [
            "+------+-----+------------+---+---+-----+------+--------------+------------+-----------+--------------+--------+----------+-----------+----+-------+-------+-----+----+--------------+-----+---------+--------+-------+\n",
            "|app_id|title|date_release|win|mac|linux|rating|positive_ratio|user_reviews|price_final|price_original|discount|steam_deck|description|tags|user_id|helpful|funny|date|is_recommended|hours|review_id|products|reviews|\n",
            "+------+-----+------------+---+---+-----+------+--------------+------------+-----------+--------------+--------+----------+-----------+----+-------+-------+-----+----+--------------+-----+---------+--------+-------+\n",
            "+------+-----+------------+---+---+-----+------+--------------+------------+-----------+--------------+--------+----------+-----------+----+-------+-------+-----+----+--------------+-----+---------+--------+-------+\n",
            "\n"
          ]
        }
      ],
      "source": [
        "all_data.filter(all_data.date_release.isNull()).show()"
      ]
    },
    {
      "cell_type": "code",
      "execution_count": 32,
      "metadata": {
        "colab": {
          "base_uri": "https://localhost:8080/"
        },
        "id": "7GuCkh3T0A7i",
        "outputId": "4137f4a9-83a6-4a41-dab2-0f57ac9a7e1a"
      },
      "outputs": [
        {
          "output_type": "stream",
          "name": "stdout",
          "text": [
            "+-------+--------------------+-----+\n",
            "| app_id|               title|count|\n",
            "+-------+--------------------+-----+\n",
            "|1000360|       Hellish Quart| 2514|\n",
            "|1005300|The Jackbox Party...| 2237|\n",
            "|1007040|EARTH DEFENSE FOR...| 4759|\n",
            "|  10090|Call of Duty: Wor...| 4994|\n",
            "|1017180|      The Long Drive| 8770|\n",
            "|1029690|      Sniper Elite 5| 4350|\n",
            "|1029780|      Going Medieval| 6390|\n",
            "|1032430|         Blood Trail| 2856|\n",
            "|1036890|Shadow Warrior 3:...| 1413|\n",
            "|1039880|    Hellsplit: Arena| 2225|\n",
            "|1041320|        Lords Mobile|  554|\n",
            "|1044720|   Farthest Frontier| 4265|\n",
            "|1048370|       Idle Skilling|  986|\n",
            "|1049410|        Superliminal| 9251|\n",
            "|1049590|      Eternal Return| 8630|\n",
            "| 105600|            Terraria|48595|\n",
            "|1056640|Phantasy Star Onl...|  264|\n",
            "|1057090|Ori and the Will ...|23952|\n",
            "|1059990|      Trombone Champ| 1074|\n",
            "|1061090|           Jump King| 3813|\n",
            "+-------+--------------------+-----+\n",
            "only showing top 20 rows\n",
            "\n"
          ]
        }
      ],
      "source": [
        "all_data.groupBy(\"app_id\",'title').count().filter(\"count > 1\").sort(\"app_id\").show()"
      ]
    },
    {
      "cell_type": "code",
      "execution_count": 33,
      "metadata": {
        "id": "EoLoPRO0mYja"
      },
      "outputs": [],
      "source": [
        "# all_data.write.parquet(\"/content/gdrive/MyDrive/sizeproject/allgamerecc.parquet\")"
      ]
    },
    {
      "cell_type": "markdown",
      "metadata": {
        "id": "0W_Ybs9pzPfQ"
      },
      "source": [
        "# EDA Section"
      ]
    },
    {
      "cell_type": "code",
      "execution_count": 34,
      "metadata": {
        "colab": {
          "base_uri": "https://localhost:8080/"
        },
        "id": "inly8b_SzSSO",
        "outputId": "f39e880d-f8dd-40ef-96db-eac2550468ac"
      },
      "outputs": [
        {
          "output_type": "stream",
          "name": "stdout",
          "text": [
            "+-------+---------------------------+------------+----+-----+-----+---------------+--------------+------------+-----------+--------------+--------+----------+--------------------+--------------------+-------+-------+-----+----+--------------+-----+---------+--------+-------+\n",
            "| app_id|                      title|date_release| win|  mac|linux|         rating|positive_ratio|user_reviews|price_final|price_original|discount|steam_deck|         description|                tags|user_id|helpful|funny|date|is_recommended|hours|review_id|products|reviews|\n",
            "+-------+---------------------------+------------+----+-----+-----+---------------+--------------+------------+-----------+--------------+--------+----------+--------------------+--------------------+-------+-------+-----+----+--------------+-----+---------+--------+-------+\n",
            "|1026760|              DepthQVR_AQUA|  2020-10-08|true|false|false|Mostly Positive|            77|        31.0|        0.0|           0.0|     0.0|      true|DepthQVR_AQUA is ...|[Casual, VR, Imme...|   null|   null| null|null|          null| null|     null|    null|   null|\n",
            "|1051130|        Trial of the Towers|  2019-04-05|true|false|false|Mostly Positive|            73|        34.0|        0.0|           0.0|     0.0|      true|Confront the Tria...|[Free to Play, Ac...|   null|   null| null|null|          null| null|     null|    null|   null|\n",
            "|1026820|              Coloring Game|  2019-04-12|true|false|false|  Very Positive|            92|      3630.0|        0.0|           0.0|     0.0|      true|Coloring Game is ...|[Free to Play, Re...|   null|   null| null|null|          null| null|     null|    null|   null|\n",
            "|1001690|             Mars Flight VR|  2021-06-08|true|false|false|Mostly Positive|            70|        10.0|        0.0|           0.0|     0.0|      true|Mars Flight VR is...|[Simulation, Raci...|   null|   null| null|null|          null| null|     null|    null|   null|\n",
            "|1000540|           Tactical Control|  2019-03-21|true|false|false|  Very Positive|            81|        65.0|        0.0|           0.0|     0.0|      true|Tactical Control:...|[Casual, Free to ...|   null|   null| null|null|          null| null|     null|    null|   null|\n",
            "|1009910|                     Ninja?|  2019-01-23|true|false|false|          Mixed|            50|        16.0|        0.0|           0.0|     0.0|      true|Ninja? features a...|[Free to Play, In...|   null|   null| null|null|          null| null|     null|    null|   null|\n",
            "|1012730|九劫曲:诅咒之地 NineTria...|  2019-03-01|true|false|false|          Mixed|            52|       274.0|        0.0|           0.0|     0.0|      true|There are immorta...|[Free to Play, Ac...|   null|   null| null|null|          null| null|     null|    null|   null|\n",
            "|1013320|       Firestone: Online...|  2019-09-26|true| true| true|Mostly Positive|            79|      4612.0|        0.0|           0.0|     0.0|      true|Firestone: Online...|[Idler, Free to P...|   null|   null| null|null|          null| null|     null|    null|   null|\n",
            "|1014550|                  One Synth|  2019-02-16|true| true|false|  Very Positive|            86|        50.0|        0.0|           0.0|     0.0|      true|A text based adve...|[Adventure, Casua...|   null|   null| null|null|          null| null|     null|    null|   null|\n",
            "|1020520|                    Hellink|  2019-03-07|true| true| true|       Positive|            95|        46.0|        0.0|           0.0|     0.0|      true|The first visual ...|[Indie, Free to P...|   null|   null| null|null|          null| null|     null|    null|   null|\n",
            "|1020780|           DarkStory Online|  2020-05-22|true|false|false|          Mixed|            66|       409.0|        0.0|           0.0|     0.0|      true|Bring the past ba...|[Free to Play, MM...|   null|   null| null|null|          null| null|     null|    null|   null|\n",
            "|1009540|   七人杀阵 - Seven Sacr...|  2019-03-27|true|false|false|       Positive|            94|        18.0|        0.0|           0.0|     0.0|      true|                    |[Adventure, Indie...|   null|   null| null|null|          null| null|     null|    null|   null|\n",
            "|1002920|            The Last Dinner|  2019-01-10|true|false|false|          Mixed|            53|        32.0|        0.0|           0.0|     0.0|      true|\"The Last Dinner\"...|[Free to Play, Go...|   null|   null| null|null|          null| null|     null|    null|   null|\n",
            "|1005340|       Myths and Legends...|  2019-08-09|true| true|false|          Mixed|            60|       510.0|        0.0|           0.0|     0.0|      true|Battle other Guar...|[Strategy, Free t...|   null|   null| null|null|          null| null|     null|    null|   null|\n",
            "|1028470|               Dis The Game|  2021-02-18|true| true| true|          Mixed|            59|      1574.0|        0.0|           0.0|     0.0|      true|Satyryczna gra pl...|[Free to Play, 2D...|   null|   null| null|null|          null| null|     null|    null|   null|\n",
            "|1028930|                   It Moves|  2019-02-21|true|false|false|  Very Positive|            88|       272.0|        0.0|           0.0|     0.0|      true|It Moves is a hor...|[Free to Play, In...|   null|   null| null|null|          null| null|     null|    null|   null|\n",
            "|1029550|               Torque Drift|  2021-04-20|true|false|false|Mostly Positive|            75|      8247.0|        0.0|           0.0|     0.0|      true|Build your car, e...|[Free to Play, Ra...|   null|   null| null|null|          null| null|     null|    null|   null|\n",
            "|1032660|       Romans from Mars ...|  2019-03-19|true|false|false|       Positive|            85|        21.0|        0.0|           0.0|     0.0|      true|You are a Roman S...|[Action, Free to ...|   null|   null| null|null|          null| null|     null|    null|   null|\n",
            "|1035800|       Mistress of Maids...|  2019-04-05|true|false|false|  Very Positive|            87|        87.0|        0.0|           0.0|     0.0|      true|You wanted to con...|[Roguelike, Free ...|   null|   null| null|null|          null| null|     null|    null|   null|\n",
            "|1044770|   Goddess of Math 数学女神|  2019-03-25|true| true|false|       Positive|            93|        44.0|        0.0|           0.0|     0.0|      true|This is an action...|[Indie, Casual, A...|   null|   null| null|null|          null| null|     null|    null|   null|\n",
            "+-------+---------------------------+------------+----+-----+-----+---------------+--------------+------------+-----------+--------------+--------+----------+--------------------+--------------------+-------+-------+-----+----+--------------+-----+---------+--------+-------+\n",
            "only showing top 20 rows\n",
            "\n"
          ]
        }
      ],
      "source": [
        "all_data.sort(\"price_original\").show()"
      ]
    },
    {
      "cell_type": "markdown",
      "metadata": {
        "id": "mbwuNQEieYpU"
      },
      "source": [
        "## ---- top had user -----"
      ]
    },
    {
      "cell_type": "code",
      "execution_count": 35,
      "metadata": {
        "id": "PCweQuo4zSVF"
      },
      "outputs": [],
      "source": [
        "count_data = all_data.select(\"app_id\",\"title\").groupBy(\"title\").count()\\\n",
        "            .orderBy(f.col(\"count\").desc())"
      ]
    },
    {
      "cell_type": "code",
      "execution_count": 36,
      "metadata": {
        "colab": {
          "base_uri": "https://localhost:8080/"
        },
        "id": "akrf9vOLfPe7",
        "outputId": "bf01e16d-ce22-4a30-eae4-bfe3745c0eae"
      },
      "outputs": [
        {
          "output_type": "stream",
          "name": "stdout",
          "text": [
            "+--------------------+------+\n",
            "|               title| count|\n",
            "+--------------------+------+\n",
            "|                Rust|251433|\n",
            "|Counter-Strike: G...|172407|\n",
            "|        No Man's Sky|150261|\n",
            "|    Wallpaper Engine|149654|\n",
            "|  Grand Theft Auto V|148801|\n",
            "|           Fallout 4|148530|\n",
            "|Call of Duty®: Mo...|131361|\n",
            "|Red Dead Redempti...|117967|\n",
            "|              Arma 3|115925|\n",
            "|       Path of Exile|111576|\n",
            "|      Cyberpunk 2077|109328|\n",
            "|      Sea of Thieves|108191|\n",
            "|   Hearts of Iron IV|104751|\n",
            "|          Brawlhalla| 99032|\n",
            "|The Binding of Is...| 98643|\n",
            "|            Lost Ark| 94162|\n",
            "|        BeamNG.drive| 90970|\n",
            "|              VRChat| 87365|\n",
            "|Sid Meier’s Civil...| 83188|\n",
            "|Divinity: Origina...| 76651|\n",
            "+--------------------+------+\n",
            "only showing top 20 rows\n",
            "\n"
          ]
        }
      ],
      "source": [
        "count_data.show()"
      ]
    },
    {
      "cell_type": "code",
      "execution_count": 37,
      "metadata": {
        "colab": {
          "base_uri": "https://localhost:8080/",
          "height": 363
        },
        "id": "sBTy0VW6qDif",
        "outputId": "b3c3c434-474a-4eb7-f80b-e23bc0daf916"
      },
      "outputs": [
        {
          "output_type": "execute_result",
          "data": {
            "text/plain": [
              "                               title   count\n",
              "0                               Rust  251433\n",
              "1   Counter-Strike: Global Offensive  172407\n",
              "2                       No Man's Sky  150261\n",
              "3                   Wallpaper Engine  149654\n",
              "4                 Grand Theft Auto V  148801\n",
              "5                          Fallout 4  148530\n",
              "6  Call of Duty®: Modern Warfare® II  131361\n",
              "7              Red Dead Redemption 2  117967\n",
              "8                             Arma 3  115925\n",
              "9                      Path of Exile  111576"
            ],
            "text/html": [
              "\n",
              "  <div id=\"df-f7e8c228-34e7-41a3-81e7-a0c452c74189\">\n",
              "    <div class=\"colab-df-container\">\n",
              "      <div>\n",
              "<style scoped>\n",
              "    .dataframe tbody tr th:only-of-type {\n",
              "        vertical-align: middle;\n",
              "    }\n",
              "\n",
              "    .dataframe tbody tr th {\n",
              "        vertical-align: top;\n",
              "    }\n",
              "\n",
              "    .dataframe thead th {\n",
              "        text-align: right;\n",
              "    }\n",
              "</style>\n",
              "<table border=\"1\" class=\"dataframe\">\n",
              "  <thead>\n",
              "    <tr style=\"text-align: right;\">\n",
              "      <th></th>\n",
              "      <th>title</th>\n",
              "      <th>count</th>\n",
              "    </tr>\n",
              "  </thead>\n",
              "  <tbody>\n",
              "    <tr>\n",
              "      <th>0</th>\n",
              "      <td>Rust</td>\n",
              "      <td>251433</td>\n",
              "    </tr>\n",
              "    <tr>\n",
              "      <th>1</th>\n",
              "      <td>Counter-Strike: Global Offensive</td>\n",
              "      <td>172407</td>\n",
              "    </tr>\n",
              "    <tr>\n",
              "      <th>2</th>\n",
              "      <td>No Man's Sky</td>\n",
              "      <td>150261</td>\n",
              "    </tr>\n",
              "    <tr>\n",
              "      <th>3</th>\n",
              "      <td>Wallpaper Engine</td>\n",
              "      <td>149654</td>\n",
              "    </tr>\n",
              "    <tr>\n",
              "      <th>4</th>\n",
              "      <td>Grand Theft Auto V</td>\n",
              "      <td>148801</td>\n",
              "    </tr>\n",
              "    <tr>\n",
              "      <th>5</th>\n",
              "      <td>Fallout 4</td>\n",
              "      <td>148530</td>\n",
              "    </tr>\n",
              "    <tr>\n",
              "      <th>6</th>\n",
              "      <td>Call of Duty®: Modern Warfare® II</td>\n",
              "      <td>131361</td>\n",
              "    </tr>\n",
              "    <tr>\n",
              "      <th>7</th>\n",
              "      <td>Red Dead Redemption 2</td>\n",
              "      <td>117967</td>\n",
              "    </tr>\n",
              "    <tr>\n",
              "      <th>8</th>\n",
              "      <td>Arma 3</td>\n",
              "      <td>115925</td>\n",
              "    </tr>\n",
              "    <tr>\n",
              "      <th>9</th>\n",
              "      <td>Path of Exile</td>\n",
              "      <td>111576</td>\n",
              "    </tr>\n",
              "  </tbody>\n",
              "</table>\n",
              "</div>\n",
              "      <button class=\"colab-df-convert\" onclick=\"convertToInteractive('df-f7e8c228-34e7-41a3-81e7-a0c452c74189')\"\n",
              "              title=\"Convert this dataframe to an interactive table.\"\n",
              "              style=\"display:none;\">\n",
              "        \n",
              "  <svg xmlns=\"http://www.w3.org/2000/svg\" height=\"24px\"viewBox=\"0 0 24 24\"\n",
              "       width=\"24px\">\n",
              "    <path d=\"M0 0h24v24H0V0z\" fill=\"none\"/>\n",
              "    <path d=\"M18.56 5.44l.94 2.06.94-2.06 2.06-.94-2.06-.94-.94-2.06-.94 2.06-2.06.94zm-11 1L8.5 8.5l.94-2.06 2.06-.94-2.06-.94L8.5 2.5l-.94 2.06-2.06.94zm10 10l.94 2.06.94-2.06 2.06-.94-2.06-.94-.94-2.06-.94 2.06-2.06.94z\"/><path d=\"M17.41 7.96l-1.37-1.37c-.4-.4-.92-.59-1.43-.59-.52 0-1.04.2-1.43.59L10.3 9.45l-7.72 7.72c-.78.78-.78 2.05 0 2.83L4 21.41c.39.39.9.59 1.41.59.51 0 1.02-.2 1.41-.59l7.78-7.78 2.81-2.81c.8-.78.8-2.07 0-2.86zM5.41 20L4 18.59l7.72-7.72 1.47 1.35L5.41 20z\"/>\n",
              "  </svg>\n",
              "      </button>\n",
              "      \n",
              "  <style>\n",
              "    .colab-df-container {\n",
              "      display:flex;\n",
              "      flex-wrap:wrap;\n",
              "      gap: 12px;\n",
              "    }\n",
              "\n",
              "    .colab-df-convert {\n",
              "      background-color: #E8F0FE;\n",
              "      border: none;\n",
              "      border-radius: 50%;\n",
              "      cursor: pointer;\n",
              "      display: none;\n",
              "      fill: #1967D2;\n",
              "      height: 32px;\n",
              "      padding: 0 0 0 0;\n",
              "      width: 32px;\n",
              "    }\n",
              "\n",
              "    .colab-df-convert:hover {\n",
              "      background-color: #E2EBFA;\n",
              "      box-shadow: 0px 1px 2px rgba(60, 64, 67, 0.3), 0px 1px 3px 1px rgba(60, 64, 67, 0.15);\n",
              "      fill: #174EA6;\n",
              "    }\n",
              "\n",
              "    [theme=dark] .colab-df-convert {\n",
              "      background-color: #3B4455;\n",
              "      fill: #D2E3FC;\n",
              "    }\n",
              "\n",
              "    [theme=dark] .colab-df-convert:hover {\n",
              "      background-color: #434B5C;\n",
              "      box-shadow: 0px 1px 3px 1px rgba(0, 0, 0, 0.15);\n",
              "      filter: drop-shadow(0px 1px 2px rgba(0, 0, 0, 0.3));\n",
              "      fill: #FFFFFF;\n",
              "    }\n",
              "  </style>\n",
              "\n",
              "      <script>\n",
              "        const buttonEl =\n",
              "          document.querySelector('#df-f7e8c228-34e7-41a3-81e7-a0c452c74189 button.colab-df-convert');\n",
              "        buttonEl.style.display =\n",
              "          google.colab.kernel.accessAllowed ? 'block' : 'none';\n",
              "\n",
              "        async function convertToInteractive(key) {\n",
              "          const element = document.querySelector('#df-f7e8c228-34e7-41a3-81e7-a0c452c74189');\n",
              "          const dataTable =\n",
              "            await google.colab.kernel.invokeFunction('convertToInteractive',\n",
              "                                                     [key], {});\n",
              "          if (!dataTable) return;\n",
              "\n",
              "          const docLinkHtml = 'Like what you see? Visit the ' +\n",
              "            '<a target=\"_blank\" href=https://colab.research.google.com/notebooks/data_table.ipynb>data table notebook</a>'\n",
              "            + ' to learn more about interactive tables.';\n",
              "          element.innerHTML = '';\n",
              "          dataTable['output_type'] = 'display_data';\n",
              "          await google.colab.output.renderOutput(dataTable, element);\n",
              "          const docLink = document.createElement('div');\n",
              "          docLink.innerHTML = docLinkHtml;\n",
              "          element.appendChild(docLink);\n",
              "        }\n",
              "      </script>\n",
              "    </div>\n",
              "  </div>\n",
              "  "
            ]
          },
          "metadata": {},
          "execution_count": 37
        }
      ],
      "source": [
        "count_data = count_data.toPandas()\n",
        "count_data.head(10)"
      ]
    },
    {
      "cell_type": "code",
      "execution_count": 38,
      "metadata": {
        "colab": {
          "base_uri": "https://localhost:8080/",
          "height": 213
        },
        "id": "-YMoRl76nCL5",
        "outputId": "012602e6-65eb-4b57-c600-098f2e1e35e5"
      },
      "outputs": [
        {
          "output_type": "display_data",
          "data": {
            "text/plain": [
              "<Figure size 1728x504 with 1 Axes>"
            ],
            "image/png": "[encoded data removed]"
          },
          "metadata": {
            "needs_background": "light"
          }
        }
      ],
      "source": [
        "fig, ax = plt.subplots(figsize =(24,7))\n",
        "ax.bar(count_data['title'][:10],count_data[\"count\"][:10],width=0.7, edgecolor=\"white\", linewidth=1)\n",
        "# ax.set(xlim=(0, 8),ylim=(0, 8))\n",
        "plt.title('Top user')\n",
        "plt.xlabel('title')\n",
        "plt.ylabel('count')\n",
        "plt.show()"
      ]
    },
    {
      "cell_type": "code",
      "execution_count": 39,
      "metadata": {
        "id": "v8q8_ifsrxnP"
      },
      "outputs": [],
      "source": [
        "# count_data.plt.plot.bar(x='count')  "
      ]
    },
    {
      "cell_type": "code",
      "execution_count": 40,
      "metadata": {
        "id": "GBruc1GZ_vPh"
      },
      "outputs": [],
      "source": [
        "# count_datas = count_data.orderBy(f.col('count').desc())\n",
        "# count_datas.show(20)"
      ]
    },
    {
      "cell_type": "markdown",
      "metadata": {
        "id": "FZuSR2MY2r2g"
      },
      "source": [
        "## ---- top buy games ----\n",
        "\n",
        "\n"
      ]
    },
    {
      "cell_type": "code",
      "execution_count": 41,
      "metadata": {
        "id": "OwrGi_8n2vbJ"
      },
      "outputs": [],
      "source": [
        "price = all_data.groupBy(\"app_id\",\"title\").sum()"
      ]
    },
    {
      "cell_type": "code",
      "execution_count": 42,
      "metadata": {
        "id": "dCeg16t2O2OC"
      },
      "outputs": [],
      "source": [
        "# all_data.select(f.col(\"app_id\"),f.col(\"title\"),f.col(\"price_original\")).filter(\"app_id == 252490\").count()\n",
        "# all_data.select(f.col(\"app_id\"),f.col(\"title\"),f.col(\"price_original\")).filter(\"app_id == 252490\").show()"
      ]
    },
    {
      "cell_type": "code",
      "execution_count": 43,
      "metadata": {
        "colab": {
          "base_uri": "https://localhost:8080/"
        },
        "id": "7pQ7JHO_JXxb",
        "outputId": "0465e4cd-2982-459b-8817-00e21e8700a8"
      },
      "outputs": [
        {
          "output_type": "stream",
          "name": "stdout",
          "text": [
            "+-------+--------------------+-----------------+--------------------+--------------------+-------------+--------------------+\n",
            "| app_id|               title|sum(user_reviews)|    sum(price_final)| sum(price_original)|sum(discount)|          sum(hours)|\n",
            "+-------+--------------------+-----------------+--------------------+--------------------+-------------+--------------------+\n",
            "| 252490|                Rust| 1.81779270309E11|1.0054805670044027E7|1.0054805670044027E7|          0.0|  8.59341143000001E7|\n",
            "| 275850|        No Man's Sky|  2.9884358463E10|    9014157.39002547|    9014157.39002547|          0.0| 1.971251109999999E7|\n",
            "|1174180|Red Dead Redempti...|  3.9877918581E10|   7076840.330018253|   7076840.330018253|          0.0|1.8209469800000068E7|\n",
            "|1091500|      Cyberpunk 2077|  5.6995528928E10|   6558586.720016322|   6558586.720016322|          0.0|1.1497222400000038E7|\n",
            "|1938090|Call of Duty®: Mo...|  4.1615690244E10|   5975611.890018661|   9193956.390022406|    4597635.0|1.4871679200000025E7|\n",
            "|1172620|      Sea of Thieves|  2.4897345684E10|    4326558.09001201|    4326558.09001201|          0.0| 1.456621099999995E7|\n",
            "| 394360|   Hearts of Iron IV|  1.6539344892E10|  4188992.4900112418|  4188992.4900112418|          0.0| 3.973969260000007E7|\n",
            "| 107410|              Arma 3|  1.8096703975E10|  3476590.7500096806|  3476590.7500096806|          0.0| 3.583506040000013E7|\n",
            "| 435150|Divinity: Origina...|  1.0522572629E10|  3448528.4900063137|  3448528.4900063137|          0.0|1.4152250799999997E7|\n",
            "| 534380|Dying Light 2 Sta...|     5.49456824E9|   3314087.560004234|   3314087.560004234|          0.0|  3486578.1999999923|\n",
            "|1245620|          ELDEN RING|   2.655428048E10|   3306648.800004206|   3306648.800004206|          0.0|   9543085.899999974|\n",
            "| 377160|           Fallout 4|   2.872703877E10|  2969114.7000088487|  2969114.7000088487|          0.0|3.2567711399999883E7|\n",
            "| 374320|     DARK SOULS™ III|   1.056589534E10|  2850484.8400025065|  2850484.8400025065|          0.0|   9017372.800000073|\n",
            "|1172380|STAR WARS Jedi: F...|    5.458861236E9|  2772045.4800026575|  2772045.4800026575|          0.0|  1819141.8000000108|\n",
            "| 261550|Mount & Blade II:...|    9.200638986E9|   2710407.810002382|   2710407.810002382|          0.0|1.1712098500000011E7|\n",
            "|    730|Counter-Strike: G...|1.196700606759E12|  2584380.9300060635|                 0.0|          0.0| 7.211773149999954E7|\n",
            "| 220200|Kerbal Space Program|    5.552953376E9|     2446108.3200015|     2446108.3200015|          0.0|1.4421618799999924E7|\n",
            "| 292030|The Witcher® 3: W...|   3.699828912E10|  2308222.8000007295|  2308222.8000007295|          0.0|   9670918.899999872|\n",
            "| 546560|     Half-Life: Alyx|    2.564219214E9|   2277340.380000371|   2277340.380000371|          0.0|    1106514.09999999|\n",
            "| 284160|        BeamNG.drive|   1.347556804E10|  2273340.3000008552|  2273340.3000008552|          0.0|1.7396132600000184E7|\n",
            "+-------+--------------------+-----------------+--------------------+--------------------+-------------+--------------------+\n",
            "only showing top 20 rows\n",
            "\n"
          ]
        }
      ],
      "source": [
        "# from pyspark.sql.functions import *\n",
        "price_ord = price.orderBy(f.col('sum(price_final)').desc())\n",
        "price_ord.show(20)"
      ]
    },
    {
      "cell_type": "code",
      "execution_count": 44,
      "metadata": {
        "colab": {
          "base_uri": "https://localhost:8080/",
          "height": 687
        },
        "id": "yta4hNsS3qto",
        "outputId": "9059a432-0794-408a-c552-4f083fbe2196"
      },
      "outputs": [
        {
          "output_type": "execute_result",
          "data": {
            "text/plain": [
              "    app_id                                          title  sum(user_reviews)  \\\n",
              "0   252490                                           Rust       1.817793e+11   \n",
              "1   275850                                   No Man's Sky       2.988436e+10   \n",
              "2  1174180                          Red Dead Redemption 2       3.987792e+10   \n",
              "3  1091500                                 Cyberpunk 2077       5.699553e+10   \n",
              "4  1938090              Call of Duty®: Modern Warfare® II       4.161569e+10   \n",
              "5  1172620                                 Sea of Thieves       2.489735e+10   \n",
              "6   394360                              Hearts of Iron IV       1.653934e+10   \n",
              "7   107410                                         Arma 3       1.809670e+10   \n",
              "8   435150  Divinity: Original Sin 2 - Definitive Edition       1.052257e+10   \n",
              "9   534380                       Dying Light 2 Stay Human       5.494568e+09   \n",
              "\n",
              "   sum(price_final)  sum(price_original)  sum(discount)  sum(hours)  \n",
              "0      1.005481e+07         1.005481e+07            0.0  85934114.3  \n",
              "1      9.014157e+06         9.014157e+06            0.0  19712511.1  \n",
              "2      7.076840e+06         7.076840e+06            0.0  18209469.8  \n",
              "3      6.558587e+06         6.558587e+06            0.0  11497222.4  \n",
              "4      5.975612e+06         9.193956e+06      4597635.0  14871679.2  \n",
              "5      4.326558e+06         4.326558e+06            0.0  14566211.0  \n",
              "6      4.188992e+06         4.188992e+06            0.0  39739692.6  \n",
              "7      3.476591e+06         3.476591e+06            0.0  35835060.4  \n",
              "8      3.448528e+06         3.448528e+06            0.0  14152250.8  \n",
              "9      3.314088e+06         3.314088e+06            0.0   3486578.2  "
            ],
            "text/html": [
              "\n",
              "  <div id=\"df-625c895e-cab8-474d-b53e-f7c0e1b5e868\">\n",
              "    <div class=\"colab-df-container\">\n",
              "      <div>\n",
              "<style scoped>\n",
              "    .dataframe tbody tr th:only-of-type {\n",
              "        vertical-align: middle;\n",
              "    }\n",
              "\n",
              "    .dataframe tbody tr th {\n",
              "        vertical-align: top;\n",
              "    }\n",
              "\n",
              "    .dataframe thead th {\n",
              "        text-align: right;\n",
              "    }\n",
              "</style>\n",
              "<table border=\"1\" class=\"dataframe\">\n",
              "  <thead>\n",
              "    <tr style=\"text-align: right;\">\n",
              "      <th></th>\n",
              "      <th>app_id</th>\n",
              "      <th>title</th>\n",
              "      <th>sum(user_reviews)</th>\n",
              "      <th>sum(price_final)</th>\n",
              "      <th>sum(price_original)</th>\n",
              "      <th>sum(discount)</th>\n",
              "      <th>sum(hours)</th>\n",
              "    </tr>\n",
              "  </thead>\n",
              "  <tbody>\n",
              "    <tr>\n",
              "      <th>0</th>\n",
              "      <td>252490</td>\n",
              "      <td>Rust</td>\n",
              "      <td>1.817793e+11</td>\n",
              "      <td>1.005481e+07</td>\n",
              "      <td>1.005481e+07</td>\n",
              "      <td>0.0</td>\n",
              "      <td>85934114.3</td>\n",
              "    </tr>\n",
              "    <tr>\n",
              "      <th>1</th>\n",
              "      <td>275850</td>\n",
              "      <td>No Man's Sky</td>\n",
              "      <td>2.988436e+10</td>\n",
              "      <td>9.014157e+06</td>\n",
              "      <td>9.014157e+06</td>\n",
              "      <td>0.0</td>\n",
              "      <td>19712511.1</td>\n",
              "    </tr>\n",
              "    <tr>\n",
              "      <th>2</th>\n",
              "      <td>1174180</td>\n",
              "      <td>Red Dead Redemption 2</td>\n",
              "      <td>3.987792e+10</td>\n",
              "      <td>7.076840e+06</td>\n",
              "      <td>7.076840e+06</td>\n",
              "      <td>0.0</td>\n",
              "      <td>18209469.8</td>\n",
              "    </tr>\n",
              "    <tr>\n",
              "      <th>3</th>\n",
              "      <td>1091500</td>\n",
              "      <td>Cyberpunk 2077</td>\n",
              "      <td>5.699553e+10</td>\n",
              "      <td>6.558587e+06</td>\n",
              "      <td>6.558587e+06</td>\n",
              "      <td>0.0</td>\n",
              "      <td>11497222.4</td>\n",
              "    </tr>\n",
              "    <tr>\n",
              "      <th>4</th>\n",
              "      <td>1938090</td>\n",
              "      <td>Call of Duty®: Modern Warfare® II</td>\n",
              "      <td>4.161569e+10</td>\n",
              "      <td>5.975612e+06</td>\n",
              "      <td>9.193956e+06</td>\n",
              "      <td>4597635.0</td>\n",
              "      <td>14871679.2</td>\n",
              "    </tr>\n",
              "    <tr>\n",
              "      <th>5</th>\n",
              "      <td>1172620</td>\n",
              "      <td>Sea of Thieves</td>\n",
              "      <td>2.489735e+10</td>\n",
              "      <td>4.326558e+06</td>\n",
              "      <td>4.326558e+06</td>\n",
              "      <td>0.0</td>\n",
              "      <td>14566211.0</td>\n",
              "    </tr>\n",
              "    <tr>\n",
              "      <th>6</th>\n",
              "      <td>394360</td>\n",
              "      <td>Hearts of Iron IV</td>\n",
              "      <td>1.653934e+10</td>\n",
              "      <td>4.188992e+06</td>\n",
              "      <td>4.188992e+06</td>\n",
              "      <td>0.0</td>\n",
              "      <td>39739692.6</td>\n",
              "    </tr>\n",
              "    <tr>\n",
              "      <th>7</th>\n",
              "      <td>107410</td>\n",
              "      <td>Arma 3</td>\n",
              "      <td>1.809670e+10</td>\n",
              "      <td>3.476591e+06</td>\n",
              "      <td>3.476591e+06</td>\n",
              "      <td>0.0</td>\n",
              "      <td>35835060.4</td>\n",
              "    </tr>\n",
              "    <tr>\n",
              "      <th>8</th>\n",
              "      <td>435150</td>\n",
              "      <td>Divinity: Original Sin 2 - Definitive Edition</td>\n",
              "      <td>1.052257e+10</td>\n",
              "      <td>3.448528e+06</td>\n",
              "      <td>3.448528e+06</td>\n",
              "      <td>0.0</td>\n",
              "      <td>14152250.8</td>\n",
              "    </tr>\n",
              "    <tr>\n",
              "      <th>9</th>\n",
              "      <td>534380</td>\n",
              "      <td>Dying Light 2 Stay Human</td>\n",
              "      <td>5.494568e+09</td>\n",
              "      <td>3.314088e+06</td>\n",
              "      <td>3.314088e+06</td>\n",
              "      <td>0.0</td>\n",
              "      <td>3486578.2</td>\n",
              "    </tr>\n",
              "  </tbody>\n",
              "</table>\n",
              "</div>\n",
              "      <button class=\"colab-df-convert\" onclick=\"convertToInteractive('df-625c895e-cab8-474d-b53e-f7c0e1b5e868')\"\n",
              "              title=\"Convert this dataframe to an interactive table.\"\n",
              "              style=\"display:none;\">\n",
              "        \n",
              "  <svg xmlns=\"http://www.w3.org/2000/svg\" height=\"24px\"viewBox=\"0 0 24 24\"\n",
              "       width=\"24px\">\n",
              "    <path d=\"M0 0h24v24H0V0z\" fill=\"none\"/>\n",
              "    <path d=\"M18.56 5.44l.94 2.06.94-2.06 2.06-.94-2.06-.94-.94-2.06-.94 2.06-2.06.94zm-11 1L8.5 8.5l.94-2.06 2.06-.94-2.06-.94L8.5 2.5l-.94 2.06-2.06.94zm10 10l.94 2.06.94-2.06 2.06-.94-2.06-.94-.94-2.06-.94 2.06-2.06.94z\"/><path d=\"M17.41 7.96l-1.37-1.37c-.4-.4-.92-.59-1.43-.59-.52 0-1.04.2-1.43.59L10.3 9.45l-7.72 7.72c-.78.78-.78 2.05 0 2.83L4 21.41c.39.39.9.59 1.41.59.51 0 1.02-.2 1.41-.59l7.78-7.78 2.81-2.81c.8-.78.8-2.07 0-2.86zM5.41 20L4 18.59l7.72-7.72 1.47 1.35L5.41 20z\"/>\n",
              "  </svg>\n",
              "      </button>\n",
              "      \n",
              "  <style>\n",
              "    .colab-df-container {\n",
              "      display:flex;\n",
              "      flex-wrap:wrap;\n",
              "      gap: 12px;\n",
              "    }\n",
              "\n",
              "    .colab-df-convert {\n",
              "      background-color: #E8F0FE;\n",
              "      border: none;\n",
              "      border-radius: 50%;\n",
              "      cursor: pointer;\n",
              "      display: none;\n",
              "      fill: #1967D2;\n",
              "      height: 32px;\n",
              "      padding: 0 0 0 0;\n",
              "      width: 32px;\n",
              "    }\n",
              "\n",
              "    .colab-df-convert:hover {\n",
              "      background-color: #E2EBFA;\n",
              "      box-shadow: 0px 1px 2px rgba(60, 64, 67, 0.3), 0px 1px 3px 1px rgba(60, 64, 67, 0.15);\n",
              "      fill: #174EA6;\n",
              "    }\n",
              "\n",
              "    [theme=dark] .colab-df-convert {\n",
              "      background-color: #3B4455;\n",
              "      fill: #D2E3FC;\n",
              "    }\n",
              "\n",
              "    [theme=dark] .colab-df-convert:hover {\n",
              "      background-color: #434B5C;\n",
              "      box-shadow: 0px 1px 3px 1px rgba(0, 0, 0, 0.15);\n",
              "      filter: drop-shadow(0px 1px 2px rgba(0, 0, 0, 0.3));\n",
              "      fill: #FFFFFF;\n",
              "    }\n",
              "  </style>\n",
              "\n",
              "      <script>\n",
              "        const buttonEl =\n",
              "          document.querySelector('#df-625c895e-cab8-474d-b53e-f7c0e1b5e868 button.colab-df-convert');\n",
              "        buttonEl.style.display =\n",
              "          google.colab.kernel.accessAllowed ? 'block' : 'none';\n",
              "\n",
              "        async function convertToInteractive(key) {\n",
              "          const element = document.querySelector('#df-625c895e-cab8-474d-b53e-f7c0e1b5e868');\n",
              "          const dataTable =\n",
              "            await google.colab.kernel.invokeFunction('convertToInteractive',\n",
              "                                                     [key], {});\n",
              "          if (!dataTable) return;\n",
              "\n",
              "          const docLinkHtml = 'Like what you see? Visit the ' +\n",
              "            '<a target=\"_blank\" href=https://colab.research.google.com/notebooks/data_table.ipynb>data table notebook</a>'\n",
              "            + ' to learn more about interactive tables.';\n",
              "          element.innerHTML = '';\n",
              "          dataTable['output_type'] = 'display_data';\n",
              "          await google.colab.output.renderOutput(dataTable, element);\n",
              "          const docLink = document.createElement('div');\n",
              "          docLink.innerHTML = docLinkHtml;\n",
              "          element.appendChild(docLink);\n",
              "        }\n",
              "      </script>\n",
              "    </div>\n",
              "  </div>\n",
              "  "
            ]
          },
          "metadata": {},
          "execution_count": 44
        }
      ],
      "source": [
        "price_ord = price_ord.toPandas()\n",
        "price_ord.head(10)"
      ]
    },
    {
      "cell_type": "code",
      "execution_count": 45,
      "metadata": {
        "colab": {
          "base_uri": "https://localhost:8080/",
          "height": 216
        },
        "id": "a7Z7Isdf3-5b",
        "outputId": "96e3997c-5325-48e8-c8b2-d1b1dcae849e"
      },
      "outputs": [
        {
          "output_type": "display_data",
          "data": {
            "text/plain": [
              "<Figure size 1728x504 with 1 Axes>"
            ],
            "image/png": "[encoded data removed]"
          },
          "metadata": {
            "needs_background": "light"
          }
        }
      ],
      "source": [
        "fig, ax = plt.subplots(figsize =(24,7))\n",
        "ax.bar(price_ord['title'][:10],price_ord[\"sum(price_final)\"][:10],width=0.7, edgecolor=\"white\", linewidth=1)\n",
        "# ax.set(xlim=(0, 8),ylim=(0, 8))\n",
        "plt.title(\"Sum income\")\n",
        "plt.xlabel('title')\n",
        "plt.ylabel('price_final')\n",
        "plt.show()"
      ]
    },
    {
      "cell_type": "markdown",
      "metadata": {
        "id": "K04YkIUWmMHp"
      },
      "source": [
        "## -----Top 10 popular games of 2022 with positive reviews-----"
      ]
    },
    {
      "cell_type": "code",
      "execution_count": 46,
      "metadata": {
        "colab": {
          "base_uri": "https://localhost:8080/"
        },
        "id": "Jlq_9iyFmSdw",
        "outputId": "66de2c8f-51b4-4e95-a280-6331795b8657"
      },
      "outputs": [
        {
          "output_type": "stream",
          "name": "stdout",
          "text": [
            "+------+--------------------+------------+----+-----+-----+---------------+--------------+------------+-----------+--------------+--------+----------+\n",
            "|app_id|               title|date_release| win|  mac|linux|         rating|positive_ratio|user_reviews|price_final|price_original|discount|steam_deck|\n",
            "+------+--------------------+------------+----+-----+-----+---------------+--------------+------------+-----------+--------------+--------+----------+\n",
            "| 10090|Call of Duty: Wor...|  2008-11-18|true|false|false|  Very Positive|            92|     37039.0|      19.99|         19.99|     0.0|      true|\n",
            "| 13500|Prince of Persia:...|  2008-11-21|true|false|false|  Very Positive|            84|      2199.0|       9.99|          9.99|     0.0|      true|\n",
            "| 22364|BRINK: Agents of ...|  2011-08-03|true|false|false|       Positive|            85|        21.0|       2.99|          2.99|     0.0|      true|\n",
            "|113020|Monaco: What's Yo...|  2013-04-24|true| true| true|  Very Positive|            92|      3722.0|      14.99|         14.99|     0.0|      true|\n",
            "|226560|  Escape Dead Island|  2014-11-18|true|false|false|          Mixed|            61|       873.0|      14.99|         14.99|     0.0|      true|\n",
            "|249050|Dungeon of the EN...|  2014-10-27|true| true|false|  Very Positive|            88|      8784.0|      11.99|         11.99|     0.0|      true|\n",
            "|250180|        METAL SLUG 3|  2015-09-14|true|false|false|  Very Positive|            90|      5579.0|       7.99|          7.99|     0.0|      true|\n",
            "|253980|             Enclave|  2013-10-04|true| true| true|Mostly Positive|            75|      1608.0|       4.99|          4.99|     0.0|      true|\n",
            "|261550|Mount & Blade II:...|  2022-10-25|true|false|false|  Very Positive|            87|    169694.0|      49.99|         49.99|     0.0|      true|\n",
            "|271850|Men of War: Assau...|  2014-05-16|true|false|false|          Mixed|            61|       199.0|       6.99|          6.99|     0.0|      true|\n",
            "|282900|Hyperdimension Ne...|  2015-01-29|true|false|false|  Very Positive|            94|      9686.0|      14.99|         14.99|     0.0|      true|\n",
            "| 19810|The Sum of All Fears|  2008-10-10|true|false|false|Mostly Positive|            75|        33.0|       9.99|          9.99|     0.0|      true|\n",
            "| 15270|          Cold Fear™|  2008-05-13|true|false|false|  Very Positive|            85|       800.0|       9.99|          9.99|     0.0|      true|\n",
            "| 21130|LEGO® Harry Potte...|  2010-06-25|true|false|false|  Very Positive|            85|      5169.0|      19.99|         19.99|     0.0|      true|\n",
            "| 22130|Hearts of Iron 2 ...|  2009-01-23|true|false|false|  Very Positive|            85|       462.0|      14.99|         14.99|     0.0|      true|\n",
            "| 29180|               Osmos|  2009-08-18|true| true| true|  Very Positive|            88|       532.0|       9.99|          9.99|     0.0|      true|\n",
            "| 32750|          Comanche 4|  2009-06-18|true|false|false|  Very Positive|            90|       222.0|       9.99|          9.99|     0.0|      true|\n",
            "|241620|          Inquisitor|  2013-08-01|true|false|false|Mostly Positive|            70|       390.0|       9.99|          9.99|     0.0|      true|\n",
            "|244910|            Homesick|  2015-05-28|true|false|false|Mostly Positive|            77|      1139.0|      14.99|         14.99|     0.0|      true|\n",
            "|245950|Borderlands 2: He...|  2014-02-11|true| true| true|  Very Positive|            84|       294.0|       0.89|          2.99|    70.0|      true|\n",
            "+------+--------------------+------------+----+-----+-----+---------------+--------------+------------+-----------+--------------+--------+----------+\n",
            "only showing top 20 rows\n",
            "\n"
          ]
        }
      ],
      "source": [
        "game.show()"
      ]
    },
    {
      "cell_type": "code",
      "execution_count": 47,
      "metadata": {
        "id": "tHmaYZLKqZFA"
      },
      "outputs": [],
      "source": [
        "game_pos = game.select('app_id','title','date_release','user_reviews','positive_ratio').\\\n",
        "            filter((game[\"date_release\"]>= lit('2022-01-01')) &(game[\"positive_ratio\"]>=90))\\\n",
        "            .sort(f.col('user_reviews').desc(),f.col('positive_ratio').desc())"
      ]
    },
    {
      "cell_type": "code",
      "execution_count": 48,
      "metadata": {
        "colab": {
          "base_uri": "https://localhost:8080/"
        },
        "id": "tgQWaeLV8zm6",
        "outputId": "f56f6086-3e3c-4e08-ab98-0b405b52f282"
      },
      "outputs": [
        {
          "output_type": "stream",
          "name": "stdout",
          "text": [
            "+-------+--------------------+------------+------------+--------------+\n",
            "| app_id|               title|date_release|user_reviews|positive_ratio|\n",
            "+-------+--------------------+------------+------------+--------------+\n",
            "|1245620|          ELDEN RING|  2022-02-24|    481754.0|            91|\n",
            "| 648800|                Raft|  2022-06-20|    218598.0|            93|\n",
            "|1794680|   Vampire Survivors|  2022-10-20|    175903.0|            98|\n",
            "|1332010|               Stray|  2022-07-19|    101109.0|            97|\n",
            "| 990080|     Hogwarts Legacy|  2023-02-10|     84327.0|            93|\n",
            "|1593500|          God of War|  2022-01-14|     65968.0|            97|\n",
            "|1167630|            Teardown|  2022-04-21|     60815.0|            96|\n",
            "|1817070|Marvel’s Spider-M...|  2022-08-12|     41232.0|            96|\n",
            "|1313140|    Cult of the Lamb|  2022-08-11|     40135.0|            93|\n",
            "|1290000| PowerWash Simulator|  2022-07-14|     29465.0|            97|\n",
            "+-------+--------------------+------------+------------+--------------+\n",
            "only showing top 10 rows\n",
            "\n"
          ]
        }
      ],
      "source": [
        "game_pos.show(10)"
      ]
    },
    {
      "cell_type": "code",
      "execution_count": 49,
      "metadata": {
        "id": "Eyb5UlRwM4Qj"
      },
      "outputs": [],
      "source": [
        "# game_pos = game_pos.toPandas()\n",
        "# game_pos.head(10)"
      ]
    },
    {
      "cell_type": "code",
      "execution_count": 50,
      "metadata": {
        "id": "C56OAjG4M_jz"
      },
      "outputs": [],
      "source": [
        "# fig, ax = plt.subplots(figsize =(24,10))\n",
        "# ax.bar(game_pos['title'][:10],game_pos[\"positive_ratio\"][:10],width=0.7, edgecolor=\"white\", linewidth=1)\n",
        "# # ax.set(xlim=(0, 8),ylim=(0, 8))\n",
        "# plt.title(\"Top 10 popular games of 2022 with positive reviews\")\n",
        "# plt.xlabel('title')\n",
        "# plt.ylabel('positive_ratio')\n",
        "# plt.show()"
      ]
    },
    {
      "cell_type": "markdown",
      "metadata": {
        "id": "-5HcjyiCTupg"
      },
      "source": [
        "## ----Top 10 popular games of 2022 with mixed or lower reviews----\n"
      ]
    },
    {
      "cell_type": "code",
      "execution_count": 51,
      "metadata": {
        "id": "2Bam8cgtVHVE"
      },
      "outputs": [],
      "source": [
        "game_pos2 = game.select('app_id','title','date_release','user_reviews','positive_ratio').\\\n",
        "            filter((game[\"date_release\"]>= lit('2022-01-01')) &(game[\"positive_ratio\"] <= 70))\\\n",
        "            .sort(f.col('user_reviews').desc(),f.col('positive_ratio').desc())"
      ]
    },
    {
      "cell_type": "code",
      "execution_count": 52,
      "metadata": {
        "colab": {
          "base_uri": "https://localhost:8080/"
        },
        "id": "UCKR9bo3Xf6L",
        "outputId": "d1ed87b3-9571-4fc3-a1cd-5db0aefc4ed3"
      },
      "outputs": [
        {
          "output_type": "stream",
          "name": "stdout",
          "text": [
            "+-------+--------------------+------------+------------+--------------+\n",
            "| app_id|               title|date_release|user_reviews|positive_ratio|\n",
            "+-------+--------------------+------------+------------+--------------+\n",
            "|1938090|Call of Duty®: Mo...|  2022-10-27|    316804.0|            62|\n",
            "|1832640| Mirror 2: Project X|  2022-01-20|    110981.0|            26|\n",
            "|1811260|  EA SPORTS™ FIFA 23|  2022-09-29|     67263.0|            50|\n",
            "|1361210|Warhammer 40000: ...|  2022-11-30|     54741.0|            54|\n",
            "| 674020|         World War 3|  2022-12-10|     49594.0|            54|\n",
            "| 868270| The Cycle: Frontier|  2022-06-08|     39025.0|            61|\n",
            "|1418630|        Dread Hunger|  2022-01-26|     38500.0|            61|\n",
            "|1544020|The Callisto Prot...|  2022-12-01|     21737.0|            62|\n",
            "|1962663|Call of Duty®: Wa...|  2022-11-16|     19770.0|            34|\n",
            "| 529340|          Victoria 3|  2022-10-25|     19223.0|            67|\n",
            "+-------+--------------------+------------+------------+--------------+\n",
            "only showing top 10 rows\n",
            "\n"
          ]
        }
      ],
      "source": [
        "game_pos2.show(10)"
      ]
    },
    {
      "cell_type": "code",
      "execution_count": 53,
      "metadata": {
        "id": "Ipu9zXNZTo5y"
      },
      "outputs": [],
      "source": [
        "# game_pos2 = game_pos2.toPandas()\n",
        "# game_pos2.head(10)"
      ]
    },
    {
      "cell_type": "code",
      "execution_count": 54,
      "metadata": {
        "id": "ixufUSjaTsAf"
      },
      "outputs": [],
      "source": [
        "# fig, ax = plt.subplots(figsize =(24,10))\n",
        "# ax.bar(game_pos2['title'][:10],game_pos2[\"user_reviews\"][:10],width=0.7, edgecolor=\"white\", linewidth=1)\n",
        "# # ax.set(xlim=(0, 8),ylim=(0, 8))\n",
        "# plt.title(\"Top 10 popular games of 2022 with mixed or lower reviews\")\n",
        "# plt.xlabel('title')\n",
        "# plt.ylabel('user_reviews')\n",
        "# plt.show()"
      ]
    },
    {
      "cell_type": "markdown",
      "metadata": {
        "id": "8Lm0qu8vm3AF"
      },
      "source": [
        "## ---- Top Genre popular ----"
      ]
    },
    {
      "cell_type": "code",
      "execution_count": 55,
      "metadata": {
        "colab": {
          "base_uri": "https://localhost:8080/"
        },
        "id": "hFOzyeu4nNH4",
        "outputId": "11df2c36-5fc1-4dc8-b57c-a2473d6c4290"
      },
      "outputs": [
        {
          "output_type": "stream",
          "name": "stdout",
          "text": [
            "root\n",
            " |-- app_id: long (nullable = true)\n",
            " |-- description: string (nullable = true)\n",
            " |-- tags: array (nullable = true)\n",
            " |    |-- element: string (containsNull = true)\n",
            "\n",
            "+------+--------------------+--------------------+\n",
            "|app_id|         description|                tags|\n",
            "+------+--------------------+--------------------+\n",
            "| 10090|Call of Duty is b...|[Zombies, World W...|\n",
            "| 13500|Enter the dark un...|[Action, Adventur...|\n",
            "| 22364|                    |            [Action]|\n",
            "|113020|Monaco: What's Yo...|[Co-op, Stealth, ...|\n",
            "|226560|Escape Dead Islan...|[Zombies, Adventu...|\n",
            "|249050|Dungeon of the En...|[Roguelike, Strat...|\n",
            "|250180|“METAL SLUG 3”, t...|[Arcade, Classic,...|\n",
            "|253980|Experience incred...|[RPG, Action, Fan...|\n",
            "|261550|A strategy/action...|[Medieval, Strate...|\n",
            "|271850|                    |[Strategy, Simula...|\n",
            "|282900|Packed with fast-...|[Anime, JRPG, Fem...|\n",
            "| 19810|Lead a team of do...|  [Action, Tactical]|\n",
            "| 15270|In a ferocious Ar...|[Horror, Action, ...|\n",
            "| 21130|Build the adventu...|[LEGO, Adventure,...|\n",
            "| 22130|Includes Hearts o...|[Strategy, Grand ...|\n",
            "| 29180|Enter the ambient...|[Indie, Casual, P...|\n",
            "| 32750|The best-selling ...|[Action, Simulati...|\n",
            "|241620|Action-oriented c...|[RPG, Indie, Isom...|\n",
            "|244910|Explore an abando...|[Atmospheric, Puz...|\n",
            "|245950|                    |[Action, RPG, FPS...|\n",
            "+------+--------------------+--------------------+\n",
            "only showing top 20 rows\n",
            "\n"
          ]
        }
      ],
      "source": [
        "game_tags.printSchema()\n",
        "game_tags.show()"
      ]
    },
    {
      "cell_type": "code",
      "execution_count": 56,
      "metadata": {
        "id": "RPUgjHr0gnkF"
      },
      "outputs": [],
      "source": [
        "genre = all_data.select(f.col(\"app_id\"),f.col(\"title\"),f.col(\"price_final\"),f.explode(f.col(\"tags\")))"
      ]
    },
    {
      "cell_type": "code",
      "execution_count": 57,
      "metadata": {
        "colab": {
          "base_uri": "https://localhost:8080/"
        },
        "id": "wDSFFghdNAQE",
        "outputId": "d791cc6a-86ea-486e-b77f-1f408995696b"
      },
      "outputs": [
        {
          "output_type": "stream",
          "name": "stdout",
          "text": [
            "+-------+--------------------+-----------+-------+\n",
            "| app_id|               title|price_final|    col|\n",
            "+-------+--------------------+-----------+-------+\n",
            "|1012530|           Soccering|       0.29|eSports|\n",
            "|1100990|            Aimbeast|       4.99|eSports|\n",
            "|1021770|      Wanba Warriors|       4.99|eSports|\n",
            "|1000870|  On Target VR Darts|       7.99|eSports|\n",
            "|1029550|        Torque Drift|        0.0|eSports|\n",
            "|1004330|         My Exercise|       2.99|eSports|\n",
            "|1033640|      SYNAPTIC DRIVE|      29.99|eSports|\n",
            "|1058830|      Spin Rhythm XD|      19.99|eSports|\n",
            "|1097130|  Circuit Superstars|      19.99|eSports|\n",
            "|1061100|Hunter's Arena: L...|      19.99|eSports|\n",
            "+-------+--------------------+-----------+-------+\n",
            "only showing top 10 rows\n",
            "\n"
          ]
        }
      ],
      "source": [
        "ganre_2 = genre.orderBy(f.col('col').desc())\n",
        "ganre_2.show(10)"
      ]
    },
    {
      "cell_type": "code",
      "execution_count": 58,
      "metadata": {
        "colab": {
          "base_uri": "https://localhost:8080/"
        },
        "id": "LcJn_Y-NNSWi",
        "outputId": "6724854b-298e-4506-d13e-0b5a281c0409"
      },
      "outputs": [
        {
          "output_type": "stream",
          "name": "stdout",
          "text": [
            "+------------+-------+\n",
            "|         col|  count|\n",
            "+------------+-------+\n",
            "|Singleplayer|8073844|\n",
            "|      Action|7864989|\n",
            "| Multiplayer|7066100|\n",
            "|   Adventure|5869254|\n",
            "|       Co-op|5015556|\n",
            "|  Open World|4878963|\n",
            "|First-Person|4628802|\n",
            "| Atmospheric|4541618|\n",
            "|  Simulation|3816806|\n",
            "|     Sandbox|3625098|\n",
            "+------------+-------+\n",
            "only showing top 10 rows\n",
            "\n"
          ]
        }
      ],
      "source": [
        "# genre.show() all_data.groupBy(\"title\").count().filter(\"count > 100\")\n",
        "ganre_3 = genre.select('title','col').groupBy(\"col\").count().orderBy(f.col('count').desc())\n",
        "# .filter(ganre_2[\"col\"] != lit(\"eSports\")).orderBy(f.col('col').desc())\n",
        "ganre_3.show(10)"
      ]
    },
    {
      "cell_type": "code",
      "execution_count": 59,
      "metadata": {
        "colab": {
          "base_uri": "https://localhost:8080/",
          "height": 363
        },
        "id": "XzBlaJ8i8CZl",
        "outputId": "1676ee28-cb32-4b24-c304-a395e1524563"
      },
      "outputs": [
        {
          "output_type": "execute_result",
          "data": {
            "text/plain": [
              "            col    count\n",
              "0  Singleplayer  8073844\n",
              "1        Action  7864989\n",
              "2   Multiplayer  7066100\n",
              "3     Adventure  5869254\n",
              "4         Co-op  5015556\n",
              "5    Open World  4878963\n",
              "6  First-Person  4628802\n",
              "7   Atmospheric  4541618\n",
              "8    Simulation  3816806\n",
              "9       Sandbox  3625098"
            ],
            "text/html": [
              "\n",
              "  <div id=\"df-97bb0347-e9fd-479c-8ce4-07b28c66e1b6\">\n",
              "    <div class=\"colab-df-container\">\n",
              "      <div>\n",
              "<style scoped>\n",
              "    .dataframe tbody tr th:only-of-type {\n",
              "        vertical-align: middle;\n",
              "    }\n",
              "\n",
              "    .dataframe tbody tr th {\n",
              "        vertical-align: top;\n",
              "    }\n",
              "\n",
              "    .dataframe thead th {\n",
              "        text-align: right;\n",
              "    }\n",
              "</style>\n",
              "<table border=\"1\" class=\"dataframe\">\n",
              "  <thead>\n",
              "    <tr style=\"text-align: right;\">\n",
              "      <th></th>\n",
              "      <th>col</th>\n",
              "      <th>count</th>\n",
              "    </tr>\n",
              "  </thead>\n",
              "  <tbody>\n",
              "    <tr>\n",
              "      <th>0</th>\n",
              "      <td>Singleplayer</td>\n",
              "      <td>8073844</td>\n",
              "    </tr>\n",
              "    <tr>\n",
              "      <th>1</th>\n",
              "      <td>Action</td>\n",
              "      <td>7864989</td>\n",
              "    </tr>\n",
              "    <tr>\n",
              "      <th>2</th>\n",
              "      <td>Multiplayer</td>\n",
              "      <td>7066100</td>\n",
              "    </tr>\n",
              "    <tr>\n",
              "      <th>3</th>\n",
              "      <td>Adventure</td>\n",
              "      <td>5869254</td>\n",
              "    </tr>\n",
              "    <tr>\n",
              "      <th>4</th>\n",
              "      <td>Co-op</td>\n",
              "      <td>5015556</td>\n",
              "    </tr>\n",
              "    <tr>\n",
              "      <th>5</th>\n",
              "      <td>Open World</td>\n",
              "      <td>4878963</td>\n",
              "    </tr>\n",
              "    <tr>\n",
              "      <th>6</th>\n",
              "      <td>First-Person</td>\n",
              "      <td>4628802</td>\n",
              "    </tr>\n",
              "    <tr>\n",
              "      <th>7</th>\n",
              "      <td>Atmospheric</td>\n",
              "      <td>4541618</td>\n",
              "    </tr>\n",
              "    <tr>\n",
              "      <th>8</th>\n",
              "      <td>Simulation</td>\n",
              "      <td>3816806</td>\n",
              "    </tr>\n",
              "    <tr>\n",
              "      <th>9</th>\n",
              "      <td>Sandbox</td>\n",
              "      <td>3625098</td>\n",
              "    </tr>\n",
              "  </tbody>\n",
              "</table>\n",
              "</div>\n",
              "      <button class=\"colab-df-convert\" onclick=\"convertToInteractive('df-97bb0347-e9fd-479c-8ce4-07b28c66e1b6')\"\n",
              "              title=\"Convert this dataframe to an interactive table.\"\n",
              "              style=\"display:none;\">\n",
              "        \n",
              "  <svg xmlns=\"http://www.w3.org/2000/svg\" height=\"24px\"viewBox=\"0 0 24 24\"\n",
              "       width=\"24px\">\n",
              "    <path d=\"M0 0h24v24H0V0z\" fill=\"none\"/>\n",
              "    <path d=\"M18.56 5.44l.94 2.06.94-2.06 2.06-.94-2.06-.94-.94-2.06-.94 2.06-2.06.94zm-11 1L8.5 8.5l.94-2.06 2.06-.94-2.06-.94L8.5 2.5l-.94 2.06-2.06.94zm10 10l.94 2.06.94-2.06 2.06-.94-2.06-.94-.94-2.06-.94 2.06-2.06.94z\"/><path d=\"M17.41 7.96l-1.37-1.37c-.4-.4-.92-.59-1.43-.59-.52 0-1.04.2-1.43.59L10.3 9.45l-7.72 7.72c-.78.78-.78 2.05 0 2.83L4 21.41c.39.39.9.59 1.41.59.51 0 1.02-.2 1.41-.59l7.78-7.78 2.81-2.81c.8-.78.8-2.07 0-2.86zM5.41 20L4 18.59l7.72-7.72 1.47 1.35L5.41 20z\"/>\n",
              "  </svg>\n",
              "      </button>\n",
              "      \n",
              "  <style>\n",
              "    .colab-df-container {\n",
              "      display:flex;\n",
              "      flex-wrap:wrap;\n",
              "      gap: 12px;\n",
              "    }\n",
              "\n",
              "    .colab-df-convert {\n",
              "      background-color: #E8F0FE;\n",
              "      border: none;\n",
              "      border-radius: 50%;\n",
              "      cursor: pointer;\n",
              "      display: none;\n",
              "      fill: #1967D2;\n",
              "      height: 32px;\n",
              "      padding: 0 0 0 0;\n",
              "      width: 32px;\n",
              "    }\n",
              "\n",
              "    .colab-df-convert:hover {\n",
              "      background-color: #E2EBFA;\n",
              "      box-shadow: 0px 1px 2px rgba(60, 64, 67, 0.3), 0px 1px 3px 1px rgba(60, 64, 67, 0.15);\n",
              "      fill: #174EA6;\n",
              "    }\n",
              "\n",
              "    [theme=dark] .colab-df-convert {\n",
              "      background-color: #3B4455;\n",
              "      fill: #D2E3FC;\n",
              "    }\n",
              "\n",
              "    [theme=dark] .colab-df-convert:hover {\n",
              "      background-color: #434B5C;\n",
              "      box-shadow: 0px 1px 3px 1px rgba(0, 0, 0, 0.15);\n",
              "      filter: drop-shadow(0px 1px 2px rgba(0, 0, 0, 0.3));\n",
              "      fill: #FFFFFF;\n",
              "    }\n",
              "  </style>\n",
              "\n",
              "      <script>\n",
              "        const buttonEl =\n",
              "          document.querySelector('#df-97bb0347-e9fd-479c-8ce4-07b28c66e1b6 button.colab-df-convert');\n",
              "        buttonEl.style.display =\n",
              "          google.colab.kernel.accessAllowed ? 'block' : 'none';\n",
              "\n",
              "        async function convertToInteractive(key) {\n",
              "          const element = document.querySelector('#df-97bb0347-e9fd-479c-8ce4-07b28c66e1b6');\n",
              "          const dataTable =\n",
              "            await google.colab.kernel.invokeFunction('convertToInteractive',\n",
              "                                                     [key], {});\n",
              "          if (!dataTable) return;\n",
              "\n",
              "          const docLinkHtml = 'Like what you see? Visit the ' +\n",
              "            '<a target=\"_blank\" href=https://colab.research.google.com/notebooks/data_table.ipynb>data table notebook</a>'\n",
              "            + ' to learn more about interactive tables.';\n",
              "          element.innerHTML = '';\n",
              "          dataTable['output_type'] = 'display_data';\n",
              "          await google.colab.output.renderOutput(dataTable, element);\n",
              "          const docLink = document.createElement('div');\n",
              "          docLink.innerHTML = docLinkHtml;\n",
              "          element.appendChild(docLink);\n",
              "        }\n",
              "      </script>\n",
              "    </div>\n",
              "  </div>\n",
              "  "
            ]
          },
          "metadata": {},
          "execution_count": 59
        }
      ],
      "source": [
        "ganre_3 = ganre_3.toPandas()\n",
        "ganre_3.head(10)"
      ]
    },
    {
      "cell_type": "code",
      "execution_count": 60,
      "metadata": {
        "colab": {
          "base_uri": "https://localhost:8080/",
          "height": 257
        },
        "id": "_-qXBoTF8Cs7",
        "outputId": "215a5e16-46f2-4422-c4d4-47bbcb5d283f"
      },
      "outputs": [
        {
          "output_type": "display_data",
          "data": {
            "text/plain": [
              "<Figure size 1440x504 with 1 Axes>"
            ],
            "image/png": "[encoded data removed]"
          },
          "metadata": {
            "needs_background": "light"
          }
        }
      ],
      "source": [
        "fig, ax = plt.subplots(figsize =(20,7))\n",
        "ax.bar(ganre_3['col'][:10],ganre_3[\"count\"][:10],width=0.7, edgecolor=\"white\", linewidth=1)\n",
        "# ax.set(xlim=(0, 8),ylim=(0, 8))\n",
        "plt.title('Top Gerne Popular')\n",
        "plt.xlabel('Genre')\n",
        "plt.ylabel('Count')\n",
        "plt.show()"
      ]
    },
    {
      "cell_type": "markdown",
      "metadata": {
        "id": "D-jRYqNJcLZz"
      },
      "source": [
        "### Top Gerne Free game"
      ]
    },
    {
      "cell_type": "code",
      "execution_count": 61,
      "metadata": {
        "id": "8qTzuvs5cQlQ"
      },
      "outputs": [],
      "source": [
        "ganre_4 = ganre_2.select('title','col').filter(\"price_final == 0\").groupBy(\"col\").count().orderBy(f.col('count').desc())"
      ]
    },
    {
      "cell_type": "code",
      "execution_count": 62,
      "metadata": {
        "colab": {
          "base_uri": "https://localhost:8080/"
        },
        "id": "FP4rq9ekcQrm",
        "outputId": "5d4202fb-4e47-4bd2-d565-ce10af7279ba"
      },
      "outputs": [
        {
          "output_type": "stream",
          "name": "stdout",
          "text": [
            "+--------------------+-------+\n",
            "|                 col|  count|\n",
            "+--------------------+-------+\n",
            "|         Multiplayer|1317916|\n",
            "|              Action|1231137|\n",
            "|        Free to Play|1211716|\n",
            "|               Co-op| 921527|\n",
            "|        Singleplayer| 822122|\n",
            "|           Adventure| 821258|\n",
            "|                 PvP| 745879|\n",
            "|Massively Multipl...| 744707|\n",
            "|        Online Co-Op| 651796|\n",
            "|                 RPG| 626124|\n",
            "+--------------------+-------+\n",
            "only showing top 10 rows\n",
            "\n"
          ]
        }
      ],
      "source": [
        "ganre_4.show(10)"
      ]
    },
    {
      "cell_type": "code",
      "execution_count": 63,
      "metadata": {
        "colab": {
          "base_uri": "https://localhost:8080/",
          "height": 363
        },
        "id": "fpTwoVtU8qxp",
        "outputId": "19c50595-9bac-40da-a982-949a0fb9bf37"
      },
      "outputs": [
        {
          "output_type": "execute_result",
          "data": {
            "text/plain": [
              "                     col    count\n",
              "0            Multiplayer  1317916\n",
              "1                 Action  1231137\n",
              "2           Free to Play  1211716\n",
              "3                  Co-op   921527\n",
              "4           Singleplayer   822122\n",
              "5              Adventure   821258\n",
              "6                    PvP   745879\n",
              "7  Massively Multiplayer   744707\n",
              "8           Online Co-Op   651796\n",
              "9                    RPG   626124"
            ],
            "text/html": [
              "\n",
              "  <div id=\"df-7089a33c-8488-47ce-b8cd-9dd0dbb215fb\">\n",
              "    <div class=\"colab-df-container\">\n",
              "      <div>\n",
              "<style scoped>\n",
              "    .dataframe tbody tr th:only-of-type {\n",
              "        vertical-align: middle;\n",
              "    }\n",
              "\n",
              "    .dataframe tbody tr th {\n",
              "        vertical-align: top;\n",
              "    }\n",
              "\n",
              "    .dataframe thead th {\n",
              "        text-align: right;\n",
              "    }\n",
              "</style>\n",
              "<table border=\"1\" class=\"dataframe\">\n",
              "  <thead>\n",
              "    <tr style=\"text-align: right;\">\n",
              "      <th></th>\n",
              "      <th>col</th>\n",
              "      <th>count</th>\n",
              "    </tr>\n",
              "  </thead>\n",
              "  <tbody>\n",
              "    <tr>\n",
              "      <th>0</th>\n",
              "      <td>Multiplayer</td>\n",
              "      <td>1317916</td>\n",
              "    </tr>\n",
              "    <tr>\n",
              "      <th>1</th>\n",
              "      <td>Action</td>\n",
              "      <td>1231137</td>\n",
              "    </tr>\n",
              "    <tr>\n",
              "      <th>2</th>\n",
              "      <td>Free to Play</td>\n",
              "      <td>1211716</td>\n",
              "    </tr>\n",
              "    <tr>\n",
              "      <th>3</th>\n",
              "      <td>Co-op</td>\n",
              "      <td>921527</td>\n",
              "    </tr>\n",
              "    <tr>\n",
              "      <th>4</th>\n",
              "      <td>Singleplayer</td>\n",
              "      <td>822122</td>\n",
              "    </tr>\n",
              "    <tr>\n",
              "      <th>5</th>\n",
              "      <td>Adventure</td>\n",
              "      <td>821258</td>\n",
              "    </tr>\n",
              "    <tr>\n",
              "      <th>6</th>\n",
              "      <td>PvP</td>\n",
              "      <td>745879</td>\n",
              "    </tr>\n",
              "    <tr>\n",
              "      <th>7</th>\n",
              "      <td>Massively Multiplayer</td>\n",
              "      <td>744707</td>\n",
              "    </tr>\n",
              "    <tr>\n",
              "      <th>8</th>\n",
              "      <td>Online Co-Op</td>\n",
              "      <td>651796</td>\n",
              "    </tr>\n",
              "    <tr>\n",
              "      <th>9</th>\n",
              "      <td>RPG</td>\n",
              "      <td>626124</td>\n",
              "    </tr>\n",
              "  </tbody>\n",
              "</table>\n",
              "</div>\n",
              "      <button class=\"colab-df-convert\" onclick=\"convertToInteractive('df-7089a33c-8488-47ce-b8cd-9dd0dbb215fb')\"\n",
              "              title=\"Convert this dataframe to an interactive table.\"\n",
              "              style=\"display:none;\">\n",
              "        \n",
              "  <svg xmlns=\"http://www.w3.org/2000/svg\" height=\"24px\"viewBox=\"0 0 24 24\"\n",
              "       width=\"24px\">\n",
              "    <path d=\"M0 0h24v24H0V0z\" fill=\"none\"/>\n",
              "    <path d=\"M18.56 5.44l.94 2.06.94-2.06 2.06-.94-2.06-.94-.94-2.06-.94 2.06-2.06.94zm-11 1L8.5 8.5l.94-2.06 2.06-.94-2.06-.94L8.5 2.5l-.94 2.06-2.06.94zm10 10l.94 2.06.94-2.06 2.06-.94-2.06-.94-.94-2.06-.94 2.06-2.06.94z\"/><path d=\"M17.41 7.96l-1.37-1.37c-.4-.4-.92-.59-1.43-.59-.52 0-1.04.2-1.43.59L10.3 9.45l-7.72 7.72c-.78.78-.78 2.05 0 2.83L4 21.41c.39.39.9.59 1.41.59.51 0 1.02-.2 1.41-.59l7.78-7.78 2.81-2.81c.8-.78.8-2.07 0-2.86zM5.41 20L4 18.59l7.72-7.72 1.47 1.35L5.41 20z\"/>\n",
              "  </svg>\n",
              "      </button>\n",
              "      \n",
              "  <style>\n",
              "    .colab-df-container {\n",
              "      display:flex;\n",
              "      flex-wrap:wrap;\n",
              "      gap: 12px;\n",
              "    }\n",
              "\n",
              "    .colab-df-convert {\n",
              "      background-color: #E8F0FE;\n",
              "      border: none;\n",
              "      border-radius: 50%;\n",
              "      cursor: pointer;\n",
              "      display: none;\n",
              "      fill: #1967D2;\n",
              "      height: 32px;\n",
              "      padding: 0 0 0 0;\n",
              "      width: 32px;\n",
              "    }\n",
              "\n",
              "    .colab-df-convert:hover {\n",
              "      background-color: #E2EBFA;\n",
              "      box-shadow: 0px 1px 2px rgba(60, 64, 67, 0.3), 0px 1px 3px 1px rgba(60, 64, 67, 0.15);\n",
              "      fill: #174EA6;\n",
              "    }\n",
              "\n",
              "    [theme=dark] .colab-df-convert {\n",
              "      background-color: #3B4455;\n",
              "      fill: #D2E3FC;\n",
              "    }\n",
              "\n",
              "    [theme=dark] .colab-df-convert:hover {\n",
              "      background-color: #434B5C;\n",
              "      box-shadow: 0px 1px 3px 1px rgba(0, 0, 0, 0.15);\n",
              "      filter: drop-shadow(0px 1px 2px rgba(0, 0, 0, 0.3));\n",
              "      fill: #FFFFFF;\n",
              "    }\n",
              "  </style>\n",
              "\n",
              "      <script>\n",
              "        const buttonEl =\n",
              "          document.querySelector('#df-7089a33c-8488-47ce-b8cd-9dd0dbb215fb button.colab-df-convert');\n",
              "        buttonEl.style.display =\n",
              "          google.colab.kernel.accessAllowed ? 'block' : 'none';\n",
              "\n",
              "        async function convertToInteractive(key) {\n",
              "          const element = document.querySelector('#df-7089a33c-8488-47ce-b8cd-9dd0dbb215fb');\n",
              "          const dataTable =\n",
              "            await google.colab.kernel.invokeFunction('convertToInteractive',\n",
              "                                                     [key], {});\n",
              "          if (!dataTable) return;\n",
              "\n",
              "          const docLinkHtml = 'Like what you see? Visit the ' +\n",
              "            '<a target=\"_blank\" href=https://colab.research.google.com/notebooks/data_table.ipynb>data table notebook</a>'\n",
              "            + ' to learn more about interactive tables.';\n",
              "          element.innerHTML = '';\n",
              "          dataTable['output_type'] = 'display_data';\n",
              "          await google.colab.output.renderOutput(dataTable, element);\n",
              "          const docLink = document.createElement('div');\n",
              "          docLink.innerHTML = docLinkHtml;\n",
              "          element.appendChild(docLink);\n",
              "        }\n",
              "      </script>\n",
              "    </div>\n",
              "  </div>\n",
              "  "
            ]
          },
          "metadata": {},
          "execution_count": 63
        }
      ],
      "source": [
        "ganre_4 = ganre_4.toPandas()\n",
        "ganre_4.head(10)"
      ]
    },
    {
      "cell_type": "code",
      "execution_count": 64,
      "metadata": {
        "colab": {
          "base_uri": "https://localhost:8080/",
          "height": 255
        },
        "id": "-MHshar59n0q",
        "outputId": "f9562566-28b0-437c-887b-7de469775233"
      },
      "outputs": [
        {
          "output_type": "display_data",
          "data": {
            "text/plain": [
              "<Figure size 1440x504 with 1 Axes>"
            ],
            "image/png": "[encoded data removed]"
          },
          "metadata": {
            "needs_background": "light"
          }
        }
      ],
      "source": [
        "fig, ax = plt.subplots(figsize =(20,7))\n",
        "ax.bar(ganre_4['col'][:10],ganre_4[\"count\"][:10],width=0.7, edgecolor=\"white\", linewidth=1)\n",
        "# ax.set(xlim=(0, 8),ylim=(0, 8))\n",
        "plt.title('Top Gerne Free game')\n",
        "plt.xlabel('Genre')\n",
        "plt.ylabel('Count')\n",
        "plt.show()"
      ]
    },
    {
      "cell_type": "markdown",
      "metadata": {
        "id": "TJWhzMHAcROH"
      },
      "source": [
        "### Top Gerne Paid game"
      ]
    },
    {
      "cell_type": "code",
      "execution_count": 65,
      "metadata": {
        "id": "aOTjzz_acWPp"
      },
      "outputs": [],
      "source": [
        "ganre_5 = ganre_2.select('title','col').filter(\"price_final != 0\").groupBy(\"col\").count().orderBy(f.col('count').desc())"
      ]
    },
    {
      "cell_type": "code",
      "execution_count": 66,
      "metadata": {
        "colab": {
          "base_uri": "https://localhost:8080/"
        },
        "id": "iibC6Ky4WNoT",
        "outputId": "248bc8cc-b95a-4aef-ac61-d00ca49e9a55"
      },
      "outputs": [
        {
          "output_type": "stream",
          "name": "stdout",
          "text": [
            "+------------+-------+\n",
            "|         col|  count|\n",
            "+------------+-------+\n",
            "|Singleplayer|7251722|\n",
            "|      Action|6633852|\n",
            "| Multiplayer|5748184|\n",
            "|   Adventure|5047996|\n",
            "|  Open World|4364787|\n",
            "| Atmospheric|4242736|\n",
            "|First-Person|4138470|\n",
            "|       Co-op|4094029|\n",
            "|  Simulation|3360413|\n",
            "|       Indie|3267687|\n",
            "+------------+-------+\n",
            "only showing top 10 rows\n",
            "\n"
          ]
        }
      ],
      "source": [
        "ganre_5.show(10)"
      ]
    },
    {
      "cell_type": "code",
      "execution_count": 67,
      "metadata": {
        "colab": {
          "base_uri": "https://localhost:8080/",
          "height": 363
        },
        "id": "2PFq2AAi9-UD",
        "outputId": "71dc1eb0-0e83-493b-bcf7-348b49eb2ccb"
      },
      "outputs": [
        {
          "output_type": "execute_result",
          "data": {
            "text/plain": [
              "            col    count\n",
              "0  Singleplayer  7251722\n",
              "1        Action  6633852\n",
              "2   Multiplayer  5748184\n",
              "3     Adventure  5047996\n",
              "4    Open World  4364787\n",
              "5   Atmospheric  4242736\n",
              "6  First-Person  4138470\n",
              "7         Co-op  4094029\n",
              "8    Simulation  3360413\n",
              "9         Indie  3267687"
            ],
            "text/html": [
              "\n",
              "  <div id=\"df-60722403-46e1-4126-a4c7-044b4afdf5c8\">\n",
              "    <div class=\"colab-df-container\">\n",
              "      <div>\n",
              "<style scoped>\n",
              "    .dataframe tbody tr th:only-of-type {\n",
              "        vertical-align: middle;\n",
              "    }\n",
              "\n",
              "    .dataframe tbody tr th {\n",
              "        vertical-align: top;\n",
              "    }\n",
              "\n",
              "    .dataframe thead th {\n",
              "        text-align: right;\n",
              "    }\n",
              "</style>\n",
              "<table border=\"1\" class=\"dataframe\">\n",
              "  <thead>\n",
              "    <tr style=\"text-align: right;\">\n",
              "      <th></th>\n",
              "      <th>col</th>\n",
              "      <th>count</th>\n",
              "    </tr>\n",
              "  </thead>\n",
              "  <tbody>\n",
              "    <tr>\n",
              "      <th>0</th>\n",
              "      <td>Singleplayer</td>\n",
              "      <td>7251722</td>\n",
              "    </tr>\n",
              "    <tr>\n",
              "      <th>1</th>\n",
              "      <td>Action</td>\n",
              "      <td>6633852</td>\n",
              "    </tr>\n",
              "    <tr>\n",
              "      <th>2</th>\n",
              "      <td>Multiplayer</td>\n",
              "      <td>5748184</td>\n",
              "    </tr>\n",
              "    <tr>\n",
              "      <th>3</th>\n",
              "      <td>Adventure</td>\n",
              "      <td>5047996</td>\n",
              "    </tr>\n",
              "    <tr>\n",
              "      <th>4</th>\n",
              "      <td>Open World</td>\n",
              "      <td>4364787</td>\n",
              "    </tr>\n",
              "    <tr>\n",
              "      <th>5</th>\n",
              "      <td>Atmospheric</td>\n",
              "      <td>4242736</td>\n",
              "    </tr>\n",
              "    <tr>\n",
              "      <th>6</th>\n",
              "      <td>First-Person</td>\n",
              "      <td>4138470</td>\n",
              "    </tr>\n",
              "    <tr>\n",
              "      <th>7</th>\n",
              "      <td>Co-op</td>\n",
              "      <td>4094029</td>\n",
              "    </tr>\n",
              "    <tr>\n",
              "      <th>8</th>\n",
              "      <td>Simulation</td>\n",
              "      <td>3360413</td>\n",
              "    </tr>\n",
              "    <tr>\n",
              "      <th>9</th>\n",
              "      <td>Indie</td>\n",
              "      <td>3267687</td>\n",
              "    </tr>\n",
              "  </tbody>\n",
              "</table>\n",
              "</div>\n",
              "      <button class=\"colab-df-convert\" onclick=\"convertToInteractive('df-60722403-46e1-4126-a4c7-044b4afdf5c8')\"\n",
              "              title=\"Convert this dataframe to an interactive table.\"\n",
              "              style=\"display:none;\">\n",
              "        \n",
              "  <svg xmlns=\"http://www.w3.org/2000/svg\" height=\"24px\"viewBox=\"0 0 24 24\"\n",
              "       width=\"24px\">\n",
              "    <path d=\"M0 0h24v24H0V0z\" fill=\"none\"/>\n",
              "    <path d=\"M18.56 5.44l.94 2.06.94-2.06 2.06-.94-2.06-.94-.94-2.06-.94 2.06-2.06.94zm-11 1L8.5 8.5l.94-2.06 2.06-.94-2.06-.94L8.5 2.5l-.94 2.06-2.06.94zm10 10l.94 2.06.94-2.06 2.06-.94-2.06-.94-.94-2.06-.94 2.06-2.06.94z\"/><path d=\"M17.41 7.96l-1.37-1.37c-.4-.4-.92-.59-1.43-.59-.52 0-1.04.2-1.43.59L10.3 9.45l-7.72 7.72c-.78.78-.78 2.05 0 2.83L4 21.41c.39.39.9.59 1.41.59.51 0 1.02-.2 1.41-.59l7.78-7.78 2.81-2.81c.8-.78.8-2.07 0-2.86zM5.41 20L4 18.59l7.72-7.72 1.47 1.35L5.41 20z\"/>\n",
              "  </svg>\n",
              "      </button>\n",
              "      \n",
              "  <style>\n",
              "    .colab-df-container {\n",
              "      display:flex;\n",
              "      flex-wrap:wrap;\n",
              "      gap: 12px;\n",
              "    }\n",
              "\n",
              "    .colab-df-convert {\n",
              "      background-color: #E8F0FE;\n",
              "      border: none;\n",
              "      border-radius: 50%;\n",
              "      cursor: pointer;\n",
              "      display: none;\n",
              "      fill: #1967D2;\n",
              "      height: 32px;\n",
              "      padding: 0 0 0 0;\n",
              "      width: 32px;\n",
              "    }\n",
              "\n",
              "    .colab-df-convert:hover {\n",
              "      background-color: #E2EBFA;\n",
              "      box-shadow: 0px 1px 2px rgba(60, 64, 67, 0.3), 0px 1px 3px 1px rgba(60, 64, 67, 0.15);\n",
              "      fill: #174EA6;\n",
              "    }\n",
              "\n",
              "    [theme=dark] .colab-df-convert {\n",
              "      background-color: #3B4455;\n",
              "      fill: #D2E3FC;\n",
              "    }\n",
              "\n",
              "    [theme=dark] .colab-df-convert:hover {\n",
              "      background-color: #434B5C;\n",
              "      box-shadow: 0px 1px 3px 1px rgba(0, 0, 0, 0.15);\n",
              "      filter: drop-shadow(0px 1px 2px rgba(0, 0, 0, 0.3));\n",
              "      fill: #FFFFFF;\n",
              "    }\n",
              "  </style>\n",
              "\n",
              "      <script>\n",
              "        const buttonEl =\n",
              "          document.querySelector('#df-60722403-46e1-4126-a4c7-044b4afdf5c8 button.colab-df-convert');\n",
              "        buttonEl.style.display =\n",
              "          google.colab.kernel.accessAllowed ? 'block' : 'none';\n",
              "\n",
              "        async function convertToInteractive(key) {\n",
              "          const element = document.querySelector('#df-60722403-46e1-4126-a4c7-044b4afdf5c8');\n",
              "          const dataTable =\n",
              "            await google.colab.kernel.invokeFunction('convertToInteractive',\n",
              "                                                     [key], {});\n",
              "          if (!dataTable) return;\n",
              "\n",
              "          const docLinkHtml = 'Like what you see? Visit the ' +\n",
              "            '<a target=\"_blank\" href=https://colab.research.google.com/notebooks/data_table.ipynb>data table notebook</a>'\n",
              "            + ' to learn more about interactive tables.';\n",
              "          element.innerHTML = '';\n",
              "          dataTable['output_type'] = 'display_data';\n",
              "          await google.colab.output.renderOutput(dataTable, element);\n",
              "          const docLink = document.createElement('div');\n",
              "          docLink.innerHTML = docLinkHtml;\n",
              "          element.appendChild(docLink);\n",
              "        }\n",
              "      </script>\n",
              "    </div>\n",
              "  </div>\n",
              "  "
            ]
          },
          "metadata": {},
          "execution_count": 67
        }
      ],
      "source": [
        "ganre_5 = ganre_5.toPandas()\n",
        "ganre_5.head(10)"
      ]
    },
    {
      "cell_type": "code",
      "execution_count": 68,
      "metadata": {
        "colab": {
          "base_uri": "https://localhost:8080/",
          "height": 257
        },
        "id": "JxRngInQ-D02",
        "outputId": "908c2ea9-0163-4256-d4b4-d6569bbe955e"
      },
      "outputs": [
        {
          "output_type": "display_data",
          "data": {
            "text/plain": [
              "<Figure size 1440x504 with 1 Axes>"
            ],
            "image/png": "[encoded data removed]"
          },
          "metadata": {
            "needs_background": "light"
          }
        }
      ],
      "source": [
        "fig, ax = plt.subplots(figsize =(20,7))\n",
        "ax.bar(ganre_5['col'][:10],ganre_5[\"count\"][:10],width=0.7, edgecolor=\"white\", linewidth=1)\n",
        "# ax.set(xlim=(0, 8),ylim=(0, 8))\n",
        "plt.title('Top Gerne Paid game')\n",
        "plt.xlabel('Genre')\n",
        "plt.ylabel('Count')\n",
        "plt.show()"
      ]
    },
    {
      "cell_type": "markdown",
      "metadata": {
        "id": "jPOVIh1rgjXb"
      },
      "source": [
        "### Top Gerne eSpots game"
      ]
    },
    {
      "cell_type": "code",
      "execution_count": 69,
      "metadata": {
        "id": "MKQ0l2fEgoSE"
      },
      "outputs": [],
      "source": [
        "ganre_6 =  ganre_2.select('title').filter(\"col == 'eSports'\").groupBy(\"title\").count().orderBy(f.col('count').desc())"
      ]
    },
    {
      "cell_type": "code",
      "execution_count": 70,
      "metadata": {
        "colab": {
          "base_uri": "https://localhost:8080/"
        },
        "id": "IQGl1sRKgoU6",
        "outputId": "ee9c13af-51ff-419e-e6b8-5ac12edeb73e"
      },
      "outputs": [
        {
          "output_type": "stream",
          "name": "stdout",
          "text": [
            "+--------------------+------+\n",
            "|               title| count|\n",
            "+--------------------+------+\n",
            "|Counter-Strike: G...|172407|\n",
            "|          Brawlhalla| 99032|\n",
            "|              Dota 2| 61358|\n",
            "|              SMITE®| 50595|\n",
            "|Yu-Gi-Oh! Master ...| 18817|\n",
            "|  EA SPORTS™ FIFA 23| 16772|\n",
            "|            MX Bikes|  6447|\n",
            "|Freestyle 2: Stre...|  6368|\n",
            "|            NBA 2K23|  5685|\n",
            "|     eFootball™ 2023|  5036|\n",
            "+--------------------+------+\n",
            "only showing top 10 rows\n",
            "\n"
          ]
        }
      ],
      "source": [
        "ganre_6.show(10)"
      ]
    },
    {
      "cell_type": "code",
      "execution_count": 71,
      "metadata": {
        "colab": {
          "base_uri": "https://localhost:8080/",
          "height": 363
        },
        "id": "qCKxfRya_RqI",
        "outputId": "59e490b5-0a13-4f42-dfa0-a933c52e999e"
      },
      "outputs": [
        {
          "output_type": "execute_result",
          "data": {
            "text/plain": [
              "                              title   count\n",
              "0  Counter-Strike: Global Offensive  172407\n",
              "1                        Brawlhalla   99032\n",
              "2                            Dota 2   61358\n",
              "3                            SMITE®   50595\n",
              "4             Yu-Gi-Oh! Master Duel   18817\n",
              "5                EA SPORTS™ FIFA 23   16772\n",
              "6                          MX Bikes    6447\n",
              "7    Freestyle 2: Street Basketball    6368\n",
              "8                          NBA 2K23    5685\n",
              "9                   eFootball™ 2023    5036"
            ],
            "text/html": [
              "\n",
              "  <div id=\"df-711d1af4-a828-4a74-b615-d4c699d1b27c\">\n",
              "    <div class=\"colab-df-container\">\n",
              "      <div>\n",
              "<style scoped>\n",
              "    .dataframe tbody tr th:only-of-type {\n",
              "        vertical-align: middle;\n",
              "    }\n",
              "\n",
              "    .dataframe tbody tr th {\n",
              "        vertical-align: top;\n",
              "    }\n",
              "\n",
              "    .dataframe thead th {\n",
              "        text-align: right;\n",
              "    }\n",
              "</style>\n",
              "<table border=\"1\" class=\"dataframe\">\n",
              "  <thead>\n",
              "    <tr style=\"text-align: right;\">\n",
              "      <th></th>\n",
              "      <th>title</th>\n",
              "      <th>count</th>\n",
              "    </tr>\n",
              "  </thead>\n",
              "  <tbody>\n",
              "    <tr>\n",
              "      <th>0</th>\n",
              "      <td>Counter-Strike: Global Offensive</td>\n",
              "      <td>172407</td>\n",
              "    </tr>\n",
              "    <tr>\n",
              "      <th>1</th>\n",
              "      <td>Brawlhalla</td>\n",
              "      <td>99032</td>\n",
              "    </tr>\n",
              "    <tr>\n",
              "      <th>2</th>\n",
              "      <td>Dota 2</td>\n",
              "      <td>61358</td>\n",
              "    </tr>\n",
              "    <tr>\n",
              "      <th>3</th>\n",
              "      <td>SMITE®</td>\n",
              "      <td>50595</td>\n",
              "    </tr>\n",
              "    <tr>\n",
              "      <th>4</th>\n",
              "      <td>Yu-Gi-Oh! Master Duel</td>\n",
              "      <td>18817</td>\n",
              "    </tr>\n",
              "    <tr>\n",
              "      <th>5</th>\n",
              "      <td>EA SPORTS™ FIFA 23</td>\n",
              "      <td>16772</td>\n",
              "    </tr>\n",
              "    <tr>\n",
              "      <th>6</th>\n",
              "      <td>MX Bikes</td>\n",
              "      <td>6447</td>\n",
              "    </tr>\n",
              "    <tr>\n",
              "      <th>7</th>\n",
              "      <td>Freestyle 2: Street Basketball</td>\n",
              "      <td>6368</td>\n",
              "    </tr>\n",
              "    <tr>\n",
              "      <th>8</th>\n",
              "      <td>NBA 2K23</td>\n",
              "      <td>5685</td>\n",
              "    </tr>\n",
              "    <tr>\n",
              "      <th>9</th>\n",
              "      <td>eFootball™ 2023</td>\n",
              "      <td>5036</td>\n",
              "    </tr>\n",
              "  </tbody>\n",
              "</table>\n",
              "</div>\n",
              "      <button class=\"colab-df-convert\" onclick=\"convertToInteractive('df-711d1af4-a828-4a74-b615-d4c699d1b27c')\"\n",
              "              title=\"Convert this dataframe to an interactive table.\"\n",
              "              style=\"display:none;\">\n",
              "        \n",
              "  <svg xmlns=\"http://www.w3.org/2000/svg\" height=\"24px\"viewBox=\"0 0 24 24\"\n",
              "       width=\"24px\">\n",
              "    <path d=\"M0 0h24v24H0V0z\" fill=\"none\"/>\n",
              "    <path d=\"M18.56 5.44l.94 2.06.94-2.06 2.06-.94-2.06-.94-.94-2.06-.94 2.06-2.06.94zm-11 1L8.5 8.5l.94-2.06 2.06-.94-2.06-.94L8.5 2.5l-.94 2.06-2.06.94zm10 10l.94 2.06.94-2.06 2.06-.94-2.06-.94-.94-2.06-.94 2.06-2.06.94z\"/><path d=\"M17.41 7.96l-1.37-1.37c-.4-.4-.92-.59-1.43-.59-.52 0-1.04.2-1.43.59L10.3 9.45l-7.72 7.72c-.78.78-.78 2.05 0 2.83L4 21.41c.39.39.9.59 1.41.59.51 0 1.02-.2 1.41-.59l7.78-7.78 2.81-2.81c.8-.78.8-2.07 0-2.86zM5.41 20L4 18.59l7.72-7.72 1.47 1.35L5.41 20z\"/>\n",
              "  </svg>\n",
              "      </button>\n",
              "      \n",
              "  <style>\n",
              "    .colab-df-container {\n",
              "      display:flex;\n",
              "      flex-wrap:wrap;\n",
              "      gap: 12px;\n",
              "    }\n",
              "\n",
              "    .colab-df-convert {\n",
              "      background-color: #E8F0FE;\n",
              "      border: none;\n",
              "      border-radius: 50%;\n",
              "      cursor: pointer;\n",
              "      display: none;\n",
              "      fill: #1967D2;\n",
              "      height: 32px;\n",
              "      padding: 0 0 0 0;\n",
              "      width: 32px;\n",
              "    }\n",
              "\n",
              "    .colab-df-convert:hover {\n",
              "      background-color: #E2EBFA;\n",
              "      box-shadow: 0px 1px 2px rgba(60, 64, 67, 0.3), 0px 1px 3px 1px rgba(60, 64, 67, 0.15);\n",
              "      fill: #174EA6;\n",
              "    }\n",
              "\n",
              "    [theme=dark] .colab-df-convert {\n",
              "      background-color: #3B4455;\n",
              "      fill: #D2E3FC;\n",
              "    }\n",
              "\n",
              "    [theme=dark] .colab-df-convert:hover {\n",
              "      background-color: #434B5C;\n",
              "      box-shadow: 0px 1px 3px 1px rgba(0, 0, 0, 0.15);\n",
              "      filter: drop-shadow(0px 1px 2px rgba(0, 0, 0, 0.3));\n",
              "      fill: #FFFFFF;\n",
              "    }\n",
              "  </style>\n",
              "\n",
              "      <script>\n",
              "        const buttonEl =\n",
              "          document.querySelector('#df-711d1af4-a828-4a74-b615-d4c699d1b27c button.colab-df-convert');\n",
              "        buttonEl.style.display =\n",
              "          google.colab.kernel.accessAllowed ? 'block' : 'none';\n",
              "\n",
              "        async function convertToInteractive(key) {\n",
              "          const element = document.querySelector('#df-711d1af4-a828-4a74-b615-d4c699d1b27c');\n",
              "          const dataTable =\n",
              "            await google.colab.kernel.invokeFunction('convertToInteractive',\n",
              "                                                     [key], {});\n",
              "          if (!dataTable) return;\n",
              "\n",
              "          const docLinkHtml = 'Like what you see? Visit the ' +\n",
              "            '<a target=\"_blank\" href=https://colab.research.google.com/notebooks/data_table.ipynb>data table notebook</a>'\n",
              "            + ' to learn more about interactive tables.';\n",
              "          element.innerHTML = '';\n",
              "          dataTable['output_type'] = 'display_data';\n",
              "          await google.colab.output.renderOutput(dataTable, element);\n",
              "          const docLink = document.createElement('div');\n",
              "          docLink.innerHTML = docLinkHtml;\n",
              "          element.appendChild(docLink);\n",
              "        }\n",
              "      </script>\n",
              "    </div>\n",
              "  </div>\n",
              "  "
            ]
          },
          "metadata": {},
          "execution_count": 71
        }
      ],
      "source": [
        "ganre_6 = ganre_6.toPandas()\n",
        "ganre_6.head(10)"
      ]
    },
    {
      "cell_type": "code",
      "execution_count": 72,
      "metadata": {
        "colab": {
          "base_uri": "https://localhost:8080/",
          "height": 250
        },
        "id": "493RzgZA_V9u",
        "outputId": "52a0532f-d1be-4dac-a2c7-d087fddcf47d"
      },
      "outputs": [
        {
          "output_type": "display_data",
          "data": {
            "text/plain": [
              "<Figure size 1440x504 with 1 Axes>"
            ],
            "image/png": "[encoded data removed]"
          },
          "metadata": {
            "needs_background": "light"
          }
        }
      ],
      "source": [
        "fig, ax = plt.subplots(figsize =(20,7))\n",
        "ax.bar(ganre_6['title'][:10],ganre_6[\"count\"][:10],width=0.7, edgecolor=\"white\", linewidth=1)\n",
        "# ax.set(xlim=(0, 8),ylim=(0, 8))\n",
        "plt.title('Top Gerne eSpots games')\n",
        "plt.xlabel('Name of game')\n",
        "plt.ylabel('Count')\n",
        "plt.show()"
      ]
    },
    {
      "cell_type": "markdown",
      "metadata": {
        "id": "0ahIyVC6rsbL"
      },
      "source": [
        "## ----Top Gerane Games ----"
      ]
    },
    {
      "cell_type": "code",
      "execution_count": 73,
      "metadata": {
        "colab": {
          "base_uri": "https://localhost:8080/",
          "height": 363
        },
        "id": "AQm9lQPPr12E",
        "outputId": "ae9cbfd6-8970-4454-fae8-70dba079788e"
      },
      "outputs": [
        {
          "output_type": "execute_result",
          "data": {
            "text/plain": [
              "            col    count\n",
              "0  Singleplayer  8073844\n",
              "1        Action  7864989\n",
              "2   Multiplayer  7066100\n",
              "3     Adventure  5869254\n",
              "4         Co-op  5015556\n",
              "5    Open World  4878963\n",
              "6  First-Person  4628802\n",
              "7   Atmospheric  4541618\n",
              "8    Simulation  3816806\n",
              "9       Sandbox  3625098"
            ],
            "text/html": [
              "\n",
              "  <div id=\"df-58a4b8c9-2ba6-4647-93f4-0002e8581d3a\">\n",
              "    <div class=\"colab-df-container\">\n",
              "      <div>\n",
              "<style scoped>\n",
              "    .dataframe tbody tr th:only-of-type {\n",
              "        vertical-align: middle;\n",
              "    }\n",
              "\n",
              "    .dataframe tbody tr th {\n",
              "        vertical-align: top;\n",
              "    }\n",
              "\n",
              "    .dataframe thead th {\n",
              "        text-align: right;\n",
              "    }\n",
              "</style>\n",
              "<table border=\"1\" class=\"dataframe\">\n",
              "  <thead>\n",
              "    <tr style=\"text-align: right;\">\n",
              "      <th></th>\n",
              "      <th>col</th>\n",
              "      <th>count</th>\n",
              "    </tr>\n",
              "  </thead>\n",
              "  <tbody>\n",
              "    <tr>\n",
              "      <th>0</th>\n",
              "      <td>Singleplayer</td>\n",
              "      <td>8073844</td>\n",
              "    </tr>\n",
              "    <tr>\n",
              "      <th>1</th>\n",
              "      <td>Action</td>\n",
              "      <td>7864989</td>\n",
              "    </tr>\n",
              "    <tr>\n",
              "      <th>2</th>\n",
              "      <td>Multiplayer</td>\n",
              "      <td>7066100</td>\n",
              "    </tr>\n",
              "    <tr>\n",
              "      <th>3</th>\n",
              "      <td>Adventure</td>\n",
              "      <td>5869254</td>\n",
              "    </tr>\n",
              "    <tr>\n",
              "      <th>4</th>\n",
              "      <td>Co-op</td>\n",
              "      <td>5015556</td>\n",
              "    </tr>\n",
              "    <tr>\n",
              "      <th>5</th>\n",
              "      <td>Open World</td>\n",
              "      <td>4878963</td>\n",
              "    </tr>\n",
              "    <tr>\n",
              "      <th>6</th>\n",
              "      <td>First-Person</td>\n",
              "      <td>4628802</td>\n",
              "    </tr>\n",
              "    <tr>\n",
              "      <th>7</th>\n",
              "      <td>Atmospheric</td>\n",
              "      <td>4541618</td>\n",
              "    </tr>\n",
              "    <tr>\n",
              "      <th>8</th>\n",
              "      <td>Simulation</td>\n",
              "      <td>3816806</td>\n",
              "    </tr>\n",
              "    <tr>\n",
              "      <th>9</th>\n",
              "      <td>Sandbox</td>\n",
              "      <td>3625098</td>\n",
              "    </tr>\n",
              "  </tbody>\n",
              "</table>\n",
              "</div>\n",
              "      <button class=\"colab-df-convert\" onclick=\"convertToInteractive('df-58a4b8c9-2ba6-4647-93f4-0002e8581d3a')\"\n",
              "              title=\"Convert this dataframe to an interactive table.\"\n",
              "              style=\"display:none;\">\n",
              "        \n",
              "  <svg xmlns=\"http://www.w3.org/2000/svg\" height=\"24px\"viewBox=\"0 0 24 24\"\n",
              "       width=\"24px\">\n",
              "    <path d=\"M0 0h24v24H0V0z\" fill=\"none\"/>\n",
              "    <path d=\"M18.56 5.44l.94 2.06.94-2.06 2.06-.94-2.06-.94-.94-2.06-.94 2.06-2.06.94zm-11 1L8.5 8.5l.94-2.06 2.06-.94-2.06-.94L8.5 2.5l-.94 2.06-2.06.94zm10 10l.94 2.06.94-2.06 2.06-.94-2.06-.94-.94-2.06-.94 2.06-2.06.94z\"/><path d=\"M17.41 7.96l-1.37-1.37c-.4-.4-.92-.59-1.43-.59-.52 0-1.04.2-1.43.59L10.3 9.45l-7.72 7.72c-.78.78-.78 2.05 0 2.83L4 21.41c.39.39.9.59 1.41.59.51 0 1.02-.2 1.41-.59l7.78-7.78 2.81-2.81c.8-.78.8-2.07 0-2.86zM5.41 20L4 18.59l7.72-7.72 1.47 1.35L5.41 20z\"/>\n",
              "  </svg>\n",
              "      </button>\n",
              "      \n",
              "  <style>\n",
              "    .colab-df-container {\n",
              "      display:flex;\n",
              "      flex-wrap:wrap;\n",
              "      gap: 12px;\n",
              "    }\n",
              "\n",
              "    .colab-df-convert {\n",
              "      background-color: #E8F0FE;\n",
              "      border: none;\n",
              "      border-radius: 50%;\n",
              "      cursor: pointer;\n",
              "      display: none;\n",
              "      fill: #1967D2;\n",
              "      height: 32px;\n",
              "      padding: 0 0 0 0;\n",
              "      width: 32px;\n",
              "    }\n",
              "\n",
              "    .colab-df-convert:hover {\n",
              "      background-color: #E2EBFA;\n",
              "      box-shadow: 0px 1px 2px rgba(60, 64, 67, 0.3), 0px 1px 3px 1px rgba(60, 64, 67, 0.15);\n",
              "      fill: #174EA6;\n",
              "    }\n",
              "\n",
              "    [theme=dark] .colab-df-convert {\n",
              "      background-color: #3B4455;\n",
              "      fill: #D2E3FC;\n",
              "    }\n",
              "\n",
              "    [theme=dark] .colab-df-convert:hover {\n",
              "      background-color: #434B5C;\n",
              "      box-shadow: 0px 1px 3px 1px rgba(0, 0, 0, 0.15);\n",
              "      filter: drop-shadow(0px 1px 2px rgba(0, 0, 0, 0.3));\n",
              "      fill: #FFFFFF;\n",
              "    }\n",
              "  </style>\n",
              "\n",
              "      <script>\n",
              "        const buttonEl =\n",
              "          document.querySelector('#df-58a4b8c9-2ba6-4647-93f4-0002e8581d3a button.colab-df-convert');\n",
              "        buttonEl.style.display =\n",
              "          google.colab.kernel.accessAllowed ? 'block' : 'none';\n",
              "\n",
              "        async function convertToInteractive(key) {\n",
              "          const element = document.querySelector('#df-58a4b8c9-2ba6-4647-93f4-0002e8581d3a');\n",
              "          const dataTable =\n",
              "            await google.colab.kernel.invokeFunction('convertToInteractive',\n",
              "                                                     [key], {});\n",
              "          if (!dataTable) return;\n",
              "\n",
              "          const docLinkHtml = 'Like what you see? Visit the ' +\n",
              "            '<a target=\"_blank\" href=https://colab.research.google.com/notebooks/data_table.ipynb>data table notebook</a>'\n",
              "            + ' to learn more about interactive tables.';\n",
              "          element.innerHTML = '';\n",
              "          dataTable['output_type'] = 'display_data';\n",
              "          await google.colab.output.renderOutput(dataTable, element);\n",
              "          const docLink = document.createElement('div');\n",
              "          docLink.innerHTML = docLinkHtml;\n",
              "          element.appendChild(docLink);\n",
              "        }\n",
              "      </script>\n",
              "    </div>\n",
              "  </div>\n",
              "  "
            ]
          },
          "metadata": {},
          "execution_count": 73
        }
      ],
      "source": [
        "ganre_3.head(10)"
      ]
    },
    {
      "cell_type": "markdown",
      "metadata": {
        "id": "pDKxILCu92xZ"
      },
      "source": [
        "### By Action"
      ]
    },
    {
      "cell_type": "code",
      "execution_count": 74,
      "metadata": {
        "id": "uXRtJ1LVr15N"
      },
      "outputs": [],
      "source": [
        "top_game1 = ganre_2.select('title').filter(\"col == 'Action'\").groupBy(\"title\").count().orderBy(f.col('count').desc())"
      ]
    },
    {
      "cell_type": "code",
      "execution_count": 75,
      "metadata": {
        "colab": {
          "base_uri": "https://localhost:8080/"
        },
        "id": "9OkTPaF3-Jc_",
        "outputId": "e96055d0-5468-4071-bfe8-76d67c53d6bd"
      },
      "outputs": [
        {
          "output_type": "stream",
          "name": "stdout",
          "text": [
            "+--------------------+------+\n",
            "|               title| count|\n",
            "+--------------------+------+\n",
            "|                Rust|251433|\n",
            "|Counter-Strike: G...|172407|\n",
            "|        No Man's Sky|150261|\n",
            "|    Wallpaper Engine|149654|\n",
            "|  Grand Theft Auto V|148801|\n",
            "|           Fallout 4|148530|\n",
            "|Call of Duty®: Mo...|131361|\n",
            "|Red Dead Redempti...|117967|\n",
            "|              Arma 3|115925|\n",
            "|       Path of Exile|111576|\n",
            "+--------------------+------+\n",
            "only showing top 10 rows\n",
            "\n"
          ]
        }
      ],
      "source": [
        "top_game1.show(10)"
      ]
    },
    {
      "cell_type": "code",
      "execution_count": 76,
      "metadata": {
        "colab": {
          "base_uri": "https://localhost:8080/",
          "height": 363
        },
        "id": "q4RZsrUQAEht",
        "outputId": "db1f9553-6086-4c95-8973-206c06756e7d"
      },
      "outputs": [
        {
          "output_type": "execute_result",
          "data": {
            "text/plain": [
              "                               title   count\n",
              "0                               Rust  251433\n",
              "1   Counter-Strike: Global Offensive  172407\n",
              "2                       No Man's Sky  150261\n",
              "3                   Wallpaper Engine  149654\n",
              "4                 Grand Theft Auto V  148801\n",
              "5                          Fallout 4  148530\n",
              "6  Call of Duty®: Modern Warfare® II  131361\n",
              "7              Red Dead Redemption 2  117967\n",
              "8                             Arma 3  115925\n",
              "9                      Path of Exile  111576"
            ],
            "text/html": [
              "\n",
              "  <div id=\"df-79eee75c-275a-415f-91cf-da9e7c432bd1\">\n",
              "    <div class=\"colab-df-container\">\n",
              "      <div>\n",
              "<style scoped>\n",
              "    .dataframe tbody tr th:only-of-type {\n",
              "        vertical-align: middle;\n",
              "    }\n",
              "\n",
              "    .dataframe tbody tr th {\n",
              "        vertical-align: top;\n",
              "    }\n",
              "\n",
              "    .dataframe thead th {\n",
              "        text-align: right;\n",
              "    }\n",
              "</style>\n",
              "<table border=\"1\" class=\"dataframe\">\n",
              "  <thead>\n",
              "    <tr style=\"text-align: right;\">\n",
              "      <th></th>\n",
              "      <th>title</th>\n",
              "      <th>count</th>\n",
              "    </tr>\n",
              "  </thead>\n",
              "  <tbody>\n",
              "    <tr>\n",
              "      <th>0</th>\n",
              "      <td>Rust</td>\n",
              "      <td>251433</td>\n",
              "    </tr>\n",
              "    <tr>\n",
              "      <th>1</th>\n",
              "      <td>Counter-Strike: Global Offensive</td>\n",
              "      <td>172407</td>\n",
              "    </tr>\n",
              "    <tr>\n",
              "      <th>2</th>\n",
              "      <td>No Man's Sky</td>\n",
              "      <td>150261</td>\n",
              "    </tr>\n",
              "    <tr>\n",
              "      <th>3</th>\n",
              "      <td>Wallpaper Engine</td>\n",
              "      <td>149654</td>\n",
              "    </tr>\n",
              "    <tr>\n",
              "      <th>4</th>\n",
              "      <td>Grand Theft Auto V</td>\n",
              "      <td>148801</td>\n",
              "    </tr>\n",
              "    <tr>\n",
              "      <th>5</th>\n",
              "      <td>Fallout 4</td>\n",
              "      <td>148530</td>\n",
              "    </tr>\n",
              "    <tr>\n",
              "      <th>6</th>\n",
              "      <td>Call of Duty®: Modern Warfare® II</td>\n",
              "      <td>131361</td>\n",
              "    </tr>\n",
              "    <tr>\n",
              "      <th>7</th>\n",
              "      <td>Red Dead Redemption 2</td>\n",
              "      <td>117967</td>\n",
              "    </tr>\n",
              "    <tr>\n",
              "      <th>8</th>\n",
              "      <td>Arma 3</td>\n",
              "      <td>115925</td>\n",
              "    </tr>\n",
              "    <tr>\n",
              "      <th>9</th>\n",
              "      <td>Path of Exile</td>\n",
              "      <td>111576</td>\n",
              "    </tr>\n",
              "  </tbody>\n",
              "</table>\n",
              "</div>\n",
              "      <button class=\"colab-df-convert\" onclick=\"convertToInteractive('df-79eee75c-275a-415f-91cf-da9e7c432bd1')\"\n",
              "              title=\"Convert this dataframe to an interactive table.\"\n",
              "              style=\"display:none;\">\n",
              "        \n",
              "  <svg xmlns=\"http://www.w3.org/2000/svg\" height=\"24px\"viewBox=\"0 0 24 24\"\n",
              "       width=\"24px\">\n",
              "    <path d=\"M0 0h24v24H0V0z\" fill=\"none\"/>\n",
              "    <path d=\"M18.56 5.44l.94 2.06.94-2.06 2.06-.94-2.06-.94-.94-2.06-.94 2.06-2.06.94zm-11 1L8.5 8.5l.94-2.06 2.06-.94-2.06-.94L8.5 2.5l-.94 2.06-2.06.94zm10 10l.94 2.06.94-2.06 2.06-.94-2.06-.94-.94-2.06-.94 2.06-2.06.94z\"/><path d=\"M17.41 7.96l-1.37-1.37c-.4-.4-.92-.59-1.43-.59-.52 0-1.04.2-1.43.59L10.3 9.45l-7.72 7.72c-.78.78-.78 2.05 0 2.83L4 21.41c.39.39.9.59 1.41.59.51 0 1.02-.2 1.41-.59l7.78-7.78 2.81-2.81c.8-.78.8-2.07 0-2.86zM5.41 20L4 18.59l7.72-7.72 1.47 1.35L5.41 20z\"/>\n",
              "  </svg>\n",
              "      </button>\n",
              "      \n",
              "  <style>\n",
              "    .colab-df-container {\n",
              "      display:flex;\n",
              "      flex-wrap:wrap;\n",
              "      gap: 12px;\n",
              "    }\n",
              "\n",
              "    .colab-df-convert {\n",
              "      background-color: #E8F0FE;\n",
              "      border: none;\n",
              "      border-radius: 50%;\n",
              "      cursor: pointer;\n",
              "      display: none;\n",
              "      fill: #1967D2;\n",
              "      height: 32px;\n",
              "      padding: 0 0 0 0;\n",
              "      width: 32px;\n",
              "    }\n",
              "\n",
              "    .colab-df-convert:hover {\n",
              "      background-color: #E2EBFA;\n",
              "      box-shadow: 0px 1px 2px rgba(60, 64, 67, 0.3), 0px 1px 3px 1px rgba(60, 64, 67, 0.15);\n",
              "      fill: #174EA6;\n",
              "    }\n",
              "\n",
              "    [theme=dark] .colab-df-convert {\n",
              "      background-color: #3B4455;\n",
              "      fill: #D2E3FC;\n",
              "    }\n",
              "\n",
              "    [theme=dark] .colab-df-convert:hover {\n",
              "      background-color: #434B5C;\n",
              "      box-shadow: 0px 1px 3px 1px rgba(0, 0, 0, 0.15);\n",
              "      filter: drop-shadow(0px 1px 2px rgba(0, 0, 0, 0.3));\n",
              "      fill: #FFFFFF;\n",
              "    }\n",
              "  </style>\n",
              "\n",
              "      <script>\n",
              "        const buttonEl =\n",
              "          document.querySelector('#df-79eee75c-275a-415f-91cf-da9e7c432bd1 button.colab-df-convert');\n",
              "        buttonEl.style.display =\n",
              "          google.colab.kernel.accessAllowed ? 'block' : 'none';\n",
              "\n",
              "        async function convertToInteractive(key) {\n",
              "          const element = document.querySelector('#df-79eee75c-275a-415f-91cf-da9e7c432bd1');\n",
              "          const dataTable =\n",
              "            await google.colab.kernel.invokeFunction('convertToInteractive',\n",
              "                                                     [key], {});\n",
              "          if (!dataTable) return;\n",
              "\n",
              "          const docLinkHtml = 'Like what you see? Visit the ' +\n",
              "            '<a target=\"_blank\" href=https://colab.research.google.com/notebooks/data_table.ipynb>data table notebook</a>'\n",
              "            + ' to learn more about interactive tables.';\n",
              "          element.innerHTML = '';\n",
              "          dataTable['output_type'] = 'display_data';\n",
              "          await google.colab.output.renderOutput(dataTable, element);\n",
              "          const docLink = document.createElement('div');\n",
              "          docLink.innerHTML = docLinkHtml;\n",
              "          element.appendChild(docLink);\n",
              "        }\n",
              "      </script>\n",
              "    </div>\n",
              "  </div>\n",
              "  "
            ]
          },
          "metadata": {},
          "execution_count": 76
        }
      ],
      "source": [
        "top_game1 = top_game1.toPandas()\n",
        "top_game1.head(10)"
      ]
    },
    {
      "cell_type": "code",
      "execution_count": 77,
      "metadata": {
        "colab": {
          "base_uri": "https://localhost:8080/",
          "height": 250
        },
        "id": "PtUGUy6TAKgB",
        "outputId": "16d97ae6-a614-4a6b-a63d-0eb724e09a3b"
      },
      "outputs": [
        {
          "output_type": "display_data",
          "data": {
            "text/plain": [
              "<Figure size 1440x504 with 1 Axes>"
            ],
            "image/png": "[encoded data removed]"
          },
          "metadata": {
            "needs_background": "light"
          }
        }
      ],
      "source": [
        "fig, ax = plt.subplots(figsize =(20,7))\n",
        "ax.bar(top_game1['title'][:10],top_game1[\"count\"][:10],width=0.7, edgecolor=\"white\", linewidth=1)\n",
        "# ax.set(xlim=(0, 8),ylim=(0, 8))\n",
        "plt.title('Top Action Games')\n",
        "plt.xlabel('Name of games')\n",
        "plt.ylabel('Count')\n",
        "plt.show()"
      ]
    },
    {
      "cell_type": "markdown",
      "metadata": {
        "id": "8FMk5IFX-MlP"
      },
      "source": [
        "### By Singleplayer"
      ]
    },
    {
      "cell_type": "code",
      "execution_count": 78,
      "metadata": {
        "id": "viE_iPJD-Sfq"
      },
      "outputs": [],
      "source": [
        "top_game2 = ganre_2.select('title').filter(\"col == 'Singleplayer'\").groupBy(\"title\").count().orderBy(f.col('count').desc())"
      ]
    },
    {
      "cell_type": "code",
      "execution_count": 79,
      "metadata": {
        "colab": {
          "base_uri": "https://localhost:8080/"
        },
        "id": "OseHBe7h-Siv",
        "outputId": "70943a80-ece8-456c-b773-4a94bb47a9c1"
      },
      "outputs": [
        {
          "output_type": "stream",
          "name": "stdout",
          "text": [
            "+--------------------+------+\n",
            "|               title| count|\n",
            "+--------------------+------+\n",
            "|        No Man's Sky|150261|\n",
            "|    Wallpaper Engine|149654|\n",
            "|  Grand Theft Auto V|148801|\n",
            "|           Fallout 4|148530|\n",
            "|Call of Duty®: Mo...|131361|\n",
            "|Red Dead Redempti...|117967|\n",
            "|              Arma 3|115925|\n",
            "|       Path of Exile|111576|\n",
            "|      Cyberpunk 2077|109328|\n",
            "|      Sea of Thieves|108191|\n",
            "+--------------------+------+\n",
            "only showing top 10 rows\n",
            "\n"
          ]
        }
      ],
      "source": [
        "top_game2.show(10)"
      ]
    },
    {
      "cell_type": "code",
      "execution_count": 80,
      "metadata": {
        "colab": {
          "base_uri": "https://localhost:8080/",
          "height": 363
        },
        "id": "GwjPPZgBAyUs",
        "outputId": "49cefe85-b571-40ff-f806-da6a03116e8a"
      },
      "outputs": [
        {
          "output_type": "execute_result",
          "data": {
            "text/plain": [
              "                               title   count\n",
              "0                       No Man's Sky  150261\n",
              "1                   Wallpaper Engine  149654\n",
              "2                 Grand Theft Auto V  148801\n",
              "3                          Fallout 4  148530\n",
              "4  Call of Duty®: Modern Warfare® II  131361\n",
              "5              Red Dead Redemption 2  117967\n",
              "6                             Arma 3  115925\n",
              "7                      Path of Exile  111576\n",
              "8                     Cyberpunk 2077  109328\n",
              "9                     Sea of Thieves  108191"
            ],
            "text/html": [
              "\n",
              "  <div id=\"df-19ece954-d612-488d-a88f-d09c5d331ab2\">\n",
              "    <div class=\"colab-df-container\">\n",
              "      <div>\n",
              "<style scoped>\n",
              "    .dataframe tbody tr th:only-of-type {\n",
              "        vertical-align: middle;\n",
              "    }\n",
              "\n",
              "    .dataframe tbody tr th {\n",
              "        vertical-align: top;\n",
              "    }\n",
              "\n",
              "    .dataframe thead th {\n",
              "        text-align: right;\n",
              "    }\n",
              "</style>\n",
              "<table border=\"1\" class=\"dataframe\">\n",
              "  <thead>\n",
              "    <tr style=\"text-align: right;\">\n",
              "      <th></th>\n",
              "      <th>title</th>\n",
              "      <th>count</th>\n",
              "    </tr>\n",
              "  </thead>\n",
              "  <tbody>\n",
              "    <tr>\n",
              "      <th>0</th>\n",
              "      <td>No Man's Sky</td>\n",
              "      <td>150261</td>\n",
              "    </tr>\n",
              "    <tr>\n",
              "      <th>1</th>\n",
              "      <td>Wallpaper Engine</td>\n",
              "      <td>149654</td>\n",
              "    </tr>\n",
              "    <tr>\n",
              "      <th>2</th>\n",
              "      <td>Grand Theft Auto V</td>\n",
              "      <td>148801</td>\n",
              "    </tr>\n",
              "    <tr>\n",
              "      <th>3</th>\n",
              "      <td>Fallout 4</td>\n",
              "      <td>148530</td>\n",
              "    </tr>\n",
              "    <tr>\n",
              "      <th>4</th>\n",
              "      <td>Call of Duty®: Modern Warfare® II</td>\n",
              "      <td>131361</td>\n",
              "    </tr>\n",
              "    <tr>\n",
              "      <th>5</th>\n",
              "      <td>Red Dead Redemption 2</td>\n",
              "      <td>117967</td>\n",
              "    </tr>\n",
              "    <tr>\n",
              "      <th>6</th>\n",
              "      <td>Arma 3</td>\n",
              "      <td>115925</td>\n",
              "    </tr>\n",
              "    <tr>\n",
              "      <th>7</th>\n",
              "      <td>Path of Exile</td>\n",
              "      <td>111576</td>\n",
              "    </tr>\n",
              "    <tr>\n",
              "      <th>8</th>\n",
              "      <td>Cyberpunk 2077</td>\n",
              "      <td>109328</td>\n",
              "    </tr>\n",
              "    <tr>\n",
              "      <th>9</th>\n",
              "      <td>Sea of Thieves</td>\n",
              "      <td>108191</td>\n",
              "    </tr>\n",
              "  </tbody>\n",
              "</table>\n",
              "</div>\n",
              "      <button class=\"colab-df-convert\" onclick=\"convertToInteractive('df-19ece954-d612-488d-a88f-d09c5d331ab2')\"\n",
              "              title=\"Convert this dataframe to an interactive table.\"\n",
              "              style=\"display:none;\">\n",
              "        \n",
              "  <svg xmlns=\"http://www.w3.org/2000/svg\" height=\"24px\"viewBox=\"0 0 24 24\"\n",
              "       width=\"24px\">\n",
              "    <path d=\"M0 0h24v24H0V0z\" fill=\"none\"/>\n",
              "    <path d=\"M18.56 5.44l.94 2.06.94-2.06 2.06-.94-2.06-.94-.94-2.06-.94 2.06-2.06.94zm-11 1L8.5 8.5l.94-2.06 2.06-.94-2.06-.94L8.5 2.5l-.94 2.06-2.06.94zm10 10l.94 2.06.94-2.06 2.06-.94-2.06-.94-.94-2.06-.94 2.06-2.06.94z\"/><path d=\"M17.41 7.96l-1.37-1.37c-.4-.4-.92-.59-1.43-.59-.52 0-1.04.2-1.43.59L10.3 9.45l-7.72 7.72c-.78.78-.78 2.05 0 2.83L4 21.41c.39.39.9.59 1.41.59.51 0 1.02-.2 1.41-.59l7.78-7.78 2.81-2.81c.8-.78.8-2.07 0-2.86zM5.41 20L4 18.59l7.72-7.72 1.47 1.35L5.41 20z\"/>\n",
              "  </svg>\n",
              "      </button>\n",
              "      \n",
              "  <style>\n",
              "    .colab-df-container {\n",
              "      display:flex;\n",
              "      flex-wrap:wrap;\n",
              "      gap: 12px;\n",
              "    }\n",
              "\n",
              "    .colab-df-convert {\n",
              "      background-color: #E8F0FE;\n",
              "      border: none;\n",
              "      border-radius: 50%;\n",
              "      cursor: pointer;\n",
              "      display: none;\n",
              "      fill: #1967D2;\n",
              "      height: 32px;\n",
              "      padding: 0 0 0 0;\n",
              "      width: 32px;\n",
              "    }\n",
              "\n",
              "    .colab-df-convert:hover {\n",
              "      background-color: #E2EBFA;\n",
              "      box-shadow: 0px 1px 2px rgba(60, 64, 67, 0.3), 0px 1px 3px 1px rgba(60, 64, 67, 0.15);\n",
              "      fill: #174EA6;\n",
              "    }\n",
              "\n",
              "    [theme=dark] .colab-df-convert {\n",
              "      background-color: #3B4455;\n",
              "      fill: #D2E3FC;\n",
              "    }\n",
              "\n",
              "    [theme=dark] .colab-df-convert:hover {\n",
              "      background-color: #434B5C;\n",
              "      box-shadow: 0px 1px 3px 1px rgba(0, 0, 0, 0.15);\n",
              "      filter: drop-shadow(0px 1px 2px rgba(0, 0, 0, 0.3));\n",
              "      fill: #FFFFFF;\n",
              "    }\n",
              "  </style>\n",
              "\n",
              "      <script>\n",
              "        const buttonEl =\n",
              "          document.querySelector('#df-19ece954-d612-488d-a88f-d09c5d331ab2 button.colab-df-convert');\n",
              "        buttonEl.style.display =\n",
              "          google.colab.kernel.accessAllowed ? 'block' : 'none';\n",
              "\n",
              "        async function convertToInteractive(key) {\n",
              "          const element = document.querySelector('#df-19ece954-d612-488d-a88f-d09c5d331ab2');\n",
              "          const dataTable =\n",
              "            await google.colab.kernel.invokeFunction('convertToInteractive',\n",
              "                                                     [key], {});\n",
              "          if (!dataTable) return;\n",
              "\n",
              "          const docLinkHtml = 'Like what you see? Visit the ' +\n",
              "            '<a target=\"_blank\" href=https://colab.research.google.com/notebooks/data_table.ipynb>data table notebook</a>'\n",
              "            + ' to learn more about interactive tables.';\n",
              "          element.innerHTML = '';\n",
              "          dataTable['output_type'] = 'display_data';\n",
              "          await google.colab.output.renderOutput(dataTable, element);\n",
              "          const docLink = document.createElement('div');\n",
              "          docLink.innerHTML = docLinkHtml;\n",
              "          element.appendChild(docLink);\n",
              "        }\n",
              "      </script>\n",
              "    </div>\n",
              "  </div>\n",
              "  "
            ]
          },
          "metadata": {},
          "execution_count": 80
        }
      ],
      "source": [
        "top_game2 = top_game2.toPandas()\n",
        "top_game2.head(10)"
      ]
    },
    {
      "cell_type": "code",
      "execution_count": 81,
      "metadata": {
        "colab": {
          "base_uri": "https://localhost:8080/",
          "height": 250
        },
        "id": "HMlj33auA3TZ",
        "outputId": "3db1172c-de6a-4a3f-c2db-5fb7b63c4fe4"
      },
      "outputs": [
        {
          "output_type": "display_data",
          "data": {
            "text/plain": [
              "<Figure size 1440x504 with 1 Axes>"
            ],
            "image/png": "[encoded data removed]"
          },
          "metadata": {
            "needs_background": "light"
          }
        }
      ],
      "source": [
        "fig, ax = plt.subplots(figsize =(20,7))\n",
        "ax.bar(top_game2['title'][:10],top_game2[\"count\"][:10],width=0.7, edgecolor=\"white\", linewidth=1)\n",
        "# ax.set(xlim=(0, 8),ylim=(0, 8))\n",
        "plt.title('Top Singleplayer Games')\n",
        "plt.xlabel('Name of games')\n",
        "plt.ylabel('Count')\n",
        "plt.show()"
      ]
    },
    {
      "cell_type": "markdown",
      "metadata": {
        "id": "p1F-IvfU-iFL"
      },
      "source": [
        "### By Multiplayer"
      ]
    },
    {
      "cell_type": "code",
      "execution_count": 82,
      "metadata": {
        "id": "klhBpgdh-lHO"
      },
      "outputs": [],
      "source": [
        "top_game3 = ganre_2.select('title').filter(\"col == 'Multiplayer'\").groupBy(\"title\").count().orderBy(f.col('count').desc())"
      ]
    },
    {
      "cell_type": "code",
      "execution_count": 83,
      "metadata": {
        "colab": {
          "base_uri": "https://localhost:8080/"
        },
        "id": "PETh4Not-lJ-",
        "outputId": "c7bde940-2a04-43c5-c7fb-a27ec04880ee"
      },
      "outputs": [
        {
          "output_type": "stream",
          "name": "stdout",
          "text": [
            "+--------------------+------+\n",
            "|               title| count|\n",
            "+--------------------+------+\n",
            "|                Rust|251433|\n",
            "|Counter-Strike: G...|172407|\n",
            "|        No Man's Sky|150261|\n",
            "|  Grand Theft Auto V|148801|\n",
            "|Call of Duty®: Mo...|131361|\n",
            "|Red Dead Redempti...|117967|\n",
            "|              Arma 3|115925|\n",
            "|       Path of Exile|111576|\n",
            "|      Sea of Thieves|108191|\n",
            "|   Hearts of Iron IV|104751|\n",
            "+--------------------+------+\n",
            "only showing top 10 rows\n",
            "\n"
          ]
        }
      ],
      "source": [
        "top_game3.show(10)"
      ]
    },
    {
      "cell_type": "code",
      "execution_count": 84,
      "metadata": {
        "colab": {
          "base_uri": "https://localhost:8080/",
          "height": 363
        },
        "id": "8XQDzpwJCZ-n",
        "outputId": "b279bc88-4f16-4804-8889-48ed25194697"
      },
      "outputs": [
        {
          "output_type": "execute_result",
          "data": {
            "text/plain": [
              "                               title   count\n",
              "0                               Rust  251433\n",
              "1   Counter-Strike: Global Offensive  172407\n",
              "2                       No Man's Sky  150261\n",
              "3                 Grand Theft Auto V  148801\n",
              "4  Call of Duty®: Modern Warfare® II  131361\n",
              "5              Red Dead Redemption 2  117967\n",
              "6                             Arma 3  115925\n",
              "7                      Path of Exile  111576\n",
              "8                     Sea of Thieves  108191\n",
              "9                  Hearts of Iron IV  104751"
            ],
            "text/html": [
              "\n",
              "  <div id=\"df-992ddbb1-8a00-4379-9b33-785301de9f3f\">\n",
              "    <div class=\"colab-df-container\">\n",
              "      <div>\n",
              "<style scoped>\n",
              "    .dataframe tbody tr th:only-of-type {\n",
              "        vertical-align: middle;\n",
              "    }\n",
              "\n",
              "    .dataframe tbody tr th {\n",
              "        vertical-align: top;\n",
              "    }\n",
              "\n",
              "    .dataframe thead th {\n",
              "        text-align: right;\n",
              "    }\n",
              "</style>\n",
              "<table border=\"1\" class=\"dataframe\">\n",
              "  <thead>\n",
              "    <tr style=\"text-align: right;\">\n",
              "      <th></th>\n",
              "      <th>title</th>\n",
              "      <th>count</th>\n",
              "    </tr>\n",
              "  </thead>\n",
              "  <tbody>\n",
              "    <tr>\n",
              "      <th>0</th>\n",
              "      <td>Rust</td>\n",
              "      <td>251433</td>\n",
              "    </tr>\n",
              "    <tr>\n",
              "      <th>1</th>\n",
              "      <td>Counter-Strike: Global Offensive</td>\n",
              "      <td>172407</td>\n",
              "    </tr>\n",
              "    <tr>\n",
              "      <th>2</th>\n",
              "      <td>No Man's Sky</td>\n",
              "      <td>150261</td>\n",
              "    </tr>\n",
              "    <tr>\n",
              "      <th>3</th>\n",
              "      <td>Grand Theft Auto V</td>\n",
              "      <td>148801</td>\n",
              "    </tr>\n",
              "    <tr>\n",
              "      <th>4</th>\n",
              "      <td>Call of Duty®: Modern Warfare® II</td>\n",
              "      <td>131361</td>\n",
              "    </tr>\n",
              "    <tr>\n",
              "      <th>5</th>\n",
              "      <td>Red Dead Redemption 2</td>\n",
              "      <td>117967</td>\n",
              "    </tr>\n",
              "    <tr>\n",
              "      <th>6</th>\n",
              "      <td>Arma 3</td>\n",
              "      <td>115925</td>\n",
              "    </tr>\n",
              "    <tr>\n",
              "      <th>7</th>\n",
              "      <td>Path of Exile</td>\n",
              "      <td>111576</td>\n",
              "    </tr>\n",
              "    <tr>\n",
              "      <th>8</th>\n",
              "      <td>Sea of Thieves</td>\n",
              "      <td>108191</td>\n",
              "    </tr>\n",
              "    <tr>\n",
              "      <th>9</th>\n",
              "      <td>Hearts of Iron IV</td>\n",
              "      <td>104751</td>\n",
              "    </tr>\n",
              "  </tbody>\n",
              "</table>\n",
              "</div>\n",
              "      <button class=\"colab-df-convert\" onclick=\"convertToInteractive('df-992ddbb1-8a00-4379-9b33-785301de9f3f')\"\n",
              "              title=\"Convert this dataframe to an interactive table.\"\n",
              "              style=\"display:none;\">\n",
              "        \n",
              "  <svg xmlns=\"http://www.w3.org/2000/svg\" height=\"24px\"viewBox=\"0 0 24 24\"\n",
              "       width=\"24px\">\n",
              "    <path d=\"M0 0h24v24H0V0z\" fill=\"none\"/>\n",
              "    <path d=\"M18.56 5.44l.94 2.06.94-2.06 2.06-.94-2.06-.94-.94-2.06-.94 2.06-2.06.94zm-11 1L8.5 8.5l.94-2.06 2.06-.94-2.06-.94L8.5 2.5l-.94 2.06-2.06.94zm10 10l.94 2.06.94-2.06 2.06-.94-2.06-.94-.94-2.06-.94 2.06-2.06.94z\"/><path d=\"M17.41 7.96l-1.37-1.37c-.4-.4-.92-.59-1.43-.59-.52 0-1.04.2-1.43.59L10.3 9.45l-7.72 7.72c-.78.78-.78 2.05 0 2.83L4 21.41c.39.39.9.59 1.41.59.51 0 1.02-.2 1.41-.59l7.78-7.78 2.81-2.81c.8-.78.8-2.07 0-2.86zM5.41 20L4 18.59l7.72-7.72 1.47 1.35L5.41 20z\"/>\n",
              "  </svg>\n",
              "      </button>\n",
              "      \n",
              "  <style>\n",
              "    .colab-df-container {\n",
              "      display:flex;\n",
              "      flex-wrap:wrap;\n",
              "      gap: 12px;\n",
              "    }\n",
              "\n",
              "    .colab-df-convert {\n",
              "      background-color: #E8F0FE;\n",
              "      border: none;\n",
              "      border-radius: 50%;\n",
              "      cursor: pointer;\n",
              "      display: none;\n",
              "      fill: #1967D2;\n",
              "      height: 32px;\n",
              "      padding: 0 0 0 0;\n",
              "      width: 32px;\n",
              "    }\n",
              "\n",
              "    .colab-df-convert:hover {\n",
              "      background-color: #E2EBFA;\n",
              "      box-shadow: 0px 1px 2px rgba(60, 64, 67, 0.3), 0px 1px 3px 1px rgba(60, 64, 67, 0.15);\n",
              "      fill: #174EA6;\n",
              "    }\n",
              "\n",
              "    [theme=dark] .colab-df-convert {\n",
              "      background-color: #3B4455;\n",
              "      fill: #D2E3FC;\n",
              "    }\n",
              "\n",
              "    [theme=dark] .colab-df-convert:hover {\n",
              "      background-color: #434B5C;\n",
              "      box-shadow: 0px 1px 3px 1px rgba(0, 0, 0, 0.15);\n",
              "      filter: drop-shadow(0px 1px 2px rgba(0, 0, 0, 0.3));\n",
              "      fill: #FFFFFF;\n",
              "    }\n",
              "  </style>\n",
              "\n",
              "      <script>\n",
              "        const buttonEl =\n",
              "          document.querySelector('#df-992ddbb1-8a00-4379-9b33-785301de9f3f button.colab-df-convert');\n",
              "        buttonEl.style.display =\n",
              "          google.colab.kernel.accessAllowed ? 'block' : 'none';\n",
              "\n",
              "        async function convertToInteractive(key) {\n",
              "          const element = document.querySelector('#df-992ddbb1-8a00-4379-9b33-785301de9f3f');\n",
              "          const dataTable =\n",
              "            await google.colab.kernel.invokeFunction('convertToInteractive',\n",
              "                                                     [key], {});\n",
              "          if (!dataTable) return;\n",
              "\n",
              "          const docLinkHtml = 'Like what you see? Visit the ' +\n",
              "            '<a target=\"_blank\" href=https://colab.research.google.com/notebooks/data_table.ipynb>data table notebook</a>'\n",
              "            + ' to learn more about interactive tables.';\n",
              "          element.innerHTML = '';\n",
              "          dataTable['output_type'] = 'display_data';\n",
              "          await google.colab.output.renderOutput(dataTable, element);\n",
              "          const docLink = document.createElement('div');\n",
              "          docLink.innerHTML = docLinkHtml;\n",
              "          element.appendChild(docLink);\n",
              "        }\n",
              "      </script>\n",
              "    </div>\n",
              "  </div>\n",
              "  "
            ]
          },
          "metadata": {},
          "execution_count": 84
        }
      ],
      "source": [
        "top_game3 = top_game3.toPandas()\n",
        "top_game3.head(10)"
      ]
    },
    {
      "cell_type": "code",
      "execution_count": 85,
      "metadata": {
        "colab": {
          "base_uri": "https://localhost:8080/",
          "height": 250
        },
        "id": "KurOaf3CCaBp",
        "outputId": "62700a14-b0c2-4dc7-c11c-cc3f890ceccc"
      },
      "outputs": [
        {
          "output_type": "display_data",
          "data": {
            "text/plain": [
              "<Figure size 1440x504 with 1 Axes>"
            ],
            "image/png": "[encoded data removed]"
          },
          "metadata": {
            "needs_background": "light"
          }
        }
      ],
      "source": [
        "fig, ax = plt.subplots(figsize =(20,7))\n",
        "ax.bar(top_game3['title'][:10],top_game3[\"count\"][:10],width=0.7, edgecolor=\"white\", linewidth=1)\n",
        "# ax.set(xlim=(0, 8),ylim=(0, 8))\n",
        "plt.title('Top Mutiplayer Games')\n",
        "plt.xlabel('Name of games')\n",
        "plt.ylabel('Count')\n",
        "plt.show()"
      ]
    },
    {
      "cell_type": "markdown",
      "metadata": {
        "id": "0MaVcRU0-uJ0"
      },
      "source": [
        "### By Co-op"
      ]
    },
    {
      "cell_type": "code",
      "execution_count": 86,
      "metadata": {
        "id": "_BbnweV7-2SI"
      },
      "outputs": [],
      "source": [
        "top_game4 = ganre_2.select('title').filter(\"col == 'Co-op'\").groupBy(\"title\").count().orderBy(f.col('count').desc())"
      ]
    },
    {
      "cell_type": "code",
      "execution_count": 87,
      "metadata": {
        "colab": {
          "base_uri": "https://localhost:8080/"
        },
        "id": "NzlB5mtF-2Ub",
        "outputId": "14fc9943-50d0-4b32-9209-454603d22984"
      },
      "outputs": [
        {
          "output_type": "stream",
          "name": "stdout",
          "text": [
            "+--------------------+------+\n",
            "|               title| count|\n",
            "+--------------------+------+\n",
            "|                Rust|251433|\n",
            "|Counter-Strike: G...|172407|\n",
            "|  Grand Theft Auto V|148801|\n",
            "|Call of Duty®: Mo...|131361|\n",
            "|              Arma 3|115925|\n",
            "|       Path of Exile|111576|\n",
            "|      Sea of Thieves|108191|\n",
            "|   Hearts of Iron IV|104751|\n",
            "|          Brawlhalla| 99032|\n",
            "|The Binding of Is...| 98643|\n",
            "+--------------------+------+\n",
            "only showing top 10 rows\n",
            "\n"
          ]
        }
      ],
      "source": [
        "top_game4.show(10)"
      ]
    },
    {
      "cell_type": "code",
      "execution_count": 88,
      "metadata": {
        "colab": {
          "base_uri": "https://localhost:8080/",
          "height": 363
        },
        "id": "PJqzeimDC7Ws",
        "outputId": "6f744980-a6d1-4695-f238-09518c341f52"
      },
      "outputs": [
        {
          "output_type": "execute_result",
          "data": {
            "text/plain": [
              "                               title   count\n",
              "0                               Rust  251433\n",
              "1   Counter-Strike: Global Offensive  172407\n",
              "2                 Grand Theft Auto V  148801\n",
              "3  Call of Duty®: Modern Warfare® II  131361\n",
              "4                             Arma 3  115925\n",
              "5                      Path of Exile  111576\n",
              "6                     Sea of Thieves  108191\n",
              "7                  Hearts of Iron IV  104751\n",
              "8                         Brawlhalla   99032\n",
              "9      The Binding of Isaac: Rebirth   98643"
            ],
            "text/html": [
              "\n",
              "  <div id=\"df-82de575c-ca06-48b3-ad05-bdc3e3146f01\">\n",
              "    <div class=\"colab-df-container\">\n",
              "      <div>\n",
              "<style scoped>\n",
              "    .dataframe tbody tr th:only-of-type {\n",
              "        vertical-align: middle;\n",
              "    }\n",
              "\n",
              "    .dataframe tbody tr th {\n",
              "        vertical-align: top;\n",
              "    }\n",
              "\n",
              "    .dataframe thead th {\n",
              "        text-align: right;\n",
              "    }\n",
              "</style>\n",
              "<table border=\"1\" class=\"dataframe\">\n",
              "  <thead>\n",
              "    <tr style=\"text-align: right;\">\n",
              "      <th></th>\n",
              "      <th>title</th>\n",
              "      <th>count</th>\n",
              "    </tr>\n",
              "  </thead>\n",
              "  <tbody>\n",
              "    <tr>\n",
              "      <th>0</th>\n",
              "      <td>Rust</td>\n",
              "      <td>251433</td>\n",
              "    </tr>\n",
              "    <tr>\n",
              "      <th>1</th>\n",
              "      <td>Counter-Strike: Global Offensive</td>\n",
              "      <td>172407</td>\n",
              "    </tr>\n",
              "    <tr>\n",
              "      <th>2</th>\n",
              "      <td>Grand Theft Auto V</td>\n",
              "      <td>148801</td>\n",
              "    </tr>\n",
              "    <tr>\n",
              "      <th>3</th>\n",
              "      <td>Call of Duty®: Modern Warfare® II</td>\n",
              "      <td>131361</td>\n",
              "    </tr>\n",
              "    <tr>\n",
              "      <th>4</th>\n",
              "      <td>Arma 3</td>\n",
              "      <td>115925</td>\n",
              "    </tr>\n",
              "    <tr>\n",
              "      <th>5</th>\n",
              "      <td>Path of Exile</td>\n",
              "      <td>111576</td>\n",
              "    </tr>\n",
              "    <tr>\n",
              "      <th>6</th>\n",
              "      <td>Sea of Thieves</td>\n",
              "      <td>108191</td>\n",
              "    </tr>\n",
              "    <tr>\n",
              "      <th>7</th>\n",
              "      <td>Hearts of Iron IV</td>\n",
              "      <td>104751</td>\n",
              "    </tr>\n",
              "    <tr>\n",
              "      <th>8</th>\n",
              "      <td>Brawlhalla</td>\n",
              "      <td>99032</td>\n",
              "    </tr>\n",
              "    <tr>\n",
              "      <th>9</th>\n",
              "      <td>The Binding of Isaac: Rebirth</td>\n",
              "      <td>98643</td>\n",
              "    </tr>\n",
              "  </tbody>\n",
              "</table>\n",
              "</div>\n",
              "      <button class=\"colab-df-convert\" onclick=\"convertToInteractive('df-82de575c-ca06-48b3-ad05-bdc3e3146f01')\"\n",
              "              title=\"Convert this dataframe to an interactive table.\"\n",
              "              style=\"display:none;\">\n",
              "        \n",
              "  <svg xmlns=\"http://www.w3.org/2000/svg\" height=\"24px\"viewBox=\"0 0 24 24\"\n",
              "       width=\"24px\">\n",
              "    <path d=\"M0 0h24v24H0V0z\" fill=\"none\"/>\n",
              "    <path d=\"M18.56 5.44l.94 2.06.94-2.06 2.06-.94-2.06-.94-.94-2.06-.94 2.06-2.06.94zm-11 1L8.5 8.5l.94-2.06 2.06-.94-2.06-.94L8.5 2.5l-.94 2.06-2.06.94zm10 10l.94 2.06.94-2.06 2.06-.94-2.06-.94-.94-2.06-.94 2.06-2.06.94z\"/><path d=\"M17.41 7.96l-1.37-1.37c-.4-.4-.92-.59-1.43-.59-.52 0-1.04.2-1.43.59L10.3 9.45l-7.72 7.72c-.78.78-.78 2.05 0 2.83L4 21.41c.39.39.9.59 1.41.59.51 0 1.02-.2 1.41-.59l7.78-7.78 2.81-2.81c.8-.78.8-2.07 0-2.86zM5.41 20L4 18.59l7.72-7.72 1.47 1.35L5.41 20z\"/>\n",
              "  </svg>\n",
              "      </button>\n",
              "      \n",
              "  <style>\n",
              "    .colab-df-container {\n",
              "      display:flex;\n",
              "      flex-wrap:wrap;\n",
              "      gap: 12px;\n",
              "    }\n",
              "\n",
              "    .colab-df-convert {\n",
              "      background-color: #E8F0FE;\n",
              "      border: none;\n",
              "      border-radius: 50%;\n",
              "      cursor: pointer;\n",
              "      display: none;\n",
              "      fill: #1967D2;\n",
              "      height: 32px;\n",
              "      padding: 0 0 0 0;\n",
              "      width: 32px;\n",
              "    }\n",
              "\n",
              "    .colab-df-convert:hover {\n",
              "      background-color: #E2EBFA;\n",
              "      box-shadow: 0px 1px 2px rgba(60, 64, 67, 0.3), 0px 1px 3px 1px rgba(60, 64, 67, 0.15);\n",
              "      fill: #174EA6;\n",
              "    }\n",
              "\n",
              "    [theme=dark] .colab-df-convert {\n",
              "      background-color: #3B4455;\n",
              "      fill: #D2E3FC;\n",
              "    }\n",
              "\n",
              "    [theme=dark] .colab-df-convert:hover {\n",
              "      background-color: #434B5C;\n",
              "      box-shadow: 0px 1px 3px 1px rgba(0, 0, 0, 0.15);\n",
              "      filter: drop-shadow(0px 1px 2px rgba(0, 0, 0, 0.3));\n",
              "      fill: #FFFFFF;\n",
              "    }\n",
              "  </style>\n",
              "\n",
              "      <script>\n",
              "        const buttonEl =\n",
              "          document.querySelector('#df-82de575c-ca06-48b3-ad05-bdc3e3146f01 button.colab-df-convert');\n",
              "        buttonEl.style.display =\n",
              "          google.colab.kernel.accessAllowed ? 'block' : 'none';\n",
              "\n",
              "        async function convertToInteractive(key) {\n",
              "          const element = document.querySelector('#df-82de575c-ca06-48b3-ad05-bdc3e3146f01');\n",
              "          const dataTable =\n",
              "            await google.colab.kernel.invokeFunction('convertToInteractive',\n",
              "                                                     [key], {});\n",
              "          if (!dataTable) return;\n",
              "\n",
              "          const docLinkHtml = 'Like what you see? Visit the ' +\n",
              "            '<a target=\"_blank\" href=https://colab.research.google.com/notebooks/data_table.ipynb>data table notebook</a>'\n",
              "            + ' to learn more about interactive tables.';\n",
              "          element.innerHTML = '';\n",
              "          dataTable['output_type'] = 'display_data';\n",
              "          await google.colab.output.renderOutput(dataTable, element);\n",
              "          const docLink = document.createElement('div');\n",
              "          docLink.innerHTML = docLinkHtml;\n",
              "          element.appendChild(docLink);\n",
              "        }\n",
              "      </script>\n",
              "    </div>\n",
              "  </div>\n",
              "  "
            ]
          },
          "metadata": {},
          "execution_count": 88
        }
      ],
      "source": [
        "top_game4 = top_game4.toPandas()\n",
        "top_game4.head(10)"
      ]
    },
    {
      "cell_type": "code",
      "execution_count": 89,
      "metadata": {
        "colab": {
          "base_uri": "https://localhost:8080/",
          "height": 250
        },
        "id": "YRacdt2HC7bn",
        "outputId": "023aba82-a090-401a-81aa-ccea81c38f9b"
      },
      "outputs": [
        {
          "output_type": "display_data",
          "data": {
            "text/plain": [
              "<Figure size 1440x504 with 1 Axes>"
            ],
            "image/png": "[encoded data removed]"
          },
          "metadata": {
            "needs_background": "light"
          }
        }
      ],
      "source": [
        "fig, ax = plt.subplots(figsize =(20,7))\n",
        "ax.bar(top_game4['title'][:10],top_game4[\"count\"][:10],width=0.7, edgecolor=\"white\", linewidth=1)\n",
        "# ax.set(xlim=(0, 8),ylim=(0, 8))\n",
        "plt.title('Top Co-op Games')\n",
        "plt.xlabel('Name of games')\n",
        "plt.ylabel('Count')\n",
        "plt.show()"
      ]
    },
    {
      "cell_type": "markdown",
      "metadata": {
        "id": "Y2gsfD0g-74R"
      },
      "source": [
        "### By Adventure"
      ]
    },
    {
      "cell_type": "code",
      "execution_count": 90,
      "metadata": {
        "id": "Nh8mrXGj-7-e"
      },
      "outputs": [],
      "source": [
        "top_game5 = ganre_2.select('title').filter(\"col == 'Adventure'\").groupBy(\"title\").count().orderBy(f.col('count').desc())"
      ]
    },
    {
      "cell_type": "code",
      "execution_count": 91,
      "metadata": {
        "colab": {
          "base_uri": "https://localhost:8080/"
        },
        "id": "vb2amtck-8BF",
        "outputId": "968adc27-af73-4604-ce50-f7d729795416"
      },
      "outputs": [
        {
          "output_type": "stream",
          "name": "stdout",
          "text": [
            "+--------------------+------+\n",
            "|               title| count|\n",
            "+--------------------+------+\n",
            "|                Rust|251433|\n",
            "|        No Man's Sky|150261|\n",
            "|  Grand Theft Auto V|148801|\n",
            "|           Fallout 4|148530|\n",
            "|Red Dead Redempti...|117967|\n",
            "|       Path of Exile|111576|\n",
            "|      Cyberpunk 2077|109328|\n",
            "|      Sea of Thieves|108191|\n",
            "|            Lost Ark| 94162|\n",
            "|        BeamNG.drive| 90970|\n",
            "+--------------------+------+\n",
            "only showing top 10 rows\n",
            "\n"
          ]
        }
      ],
      "source": [
        "top_game5.show(10)"
      ]
    },
    {
      "cell_type": "code",
      "execution_count": 92,
      "metadata": {
        "colab": {
          "base_uri": "https://localhost:8080/",
          "height": 363
        },
        "id": "VUG3HjSzDZde",
        "outputId": "74fd1b23-6903-40e3-e8a3-d1f365acf6f3"
      },
      "outputs": [
        {
          "output_type": "execute_result",
          "data": {
            "text/plain": [
              "                   title   count\n",
              "0                   Rust  251433\n",
              "1           No Man's Sky  150261\n",
              "2     Grand Theft Auto V  148801\n",
              "3              Fallout 4  148530\n",
              "4  Red Dead Redemption 2  117967\n",
              "5          Path of Exile  111576\n",
              "6         Cyberpunk 2077  109328\n",
              "7         Sea of Thieves  108191\n",
              "8               Lost Ark   94162\n",
              "9           BeamNG.drive   90970"
            ],
            "text/html": [
              "\n",
              "  <div id=\"df-33617af1-442c-4b34-a568-16d1ca5f5ef2\">\n",
              "    <div class=\"colab-df-container\">\n",
              "      <div>\n",
              "<style scoped>\n",
              "    .dataframe tbody tr th:only-of-type {\n",
              "        vertical-align: middle;\n",
              "    }\n",
              "\n",
              "    .dataframe tbody tr th {\n",
              "        vertical-align: top;\n",
              "    }\n",
              "\n",
              "    .dataframe thead th {\n",
              "        text-align: right;\n",
              "    }\n",
              "</style>\n",
              "<table border=\"1\" class=\"dataframe\">\n",
              "  <thead>\n",
              "    <tr style=\"text-align: right;\">\n",
              "      <th></th>\n",
              "      <th>title</th>\n",
              "      <th>count</th>\n",
              "    </tr>\n",
              "  </thead>\n",
              "  <tbody>\n",
              "    <tr>\n",
              "      <th>0</th>\n",
              "      <td>Rust</td>\n",
              "      <td>251433</td>\n",
              "    </tr>\n",
              "    <tr>\n",
              "      <th>1</th>\n",
              "      <td>No Man's Sky</td>\n",
              "      <td>150261</td>\n",
              "    </tr>\n",
              "    <tr>\n",
              "      <th>2</th>\n",
              "      <td>Grand Theft Auto V</td>\n",
              "      <td>148801</td>\n",
              "    </tr>\n",
              "    <tr>\n",
              "      <th>3</th>\n",
              "      <td>Fallout 4</td>\n",
              "      <td>148530</td>\n",
              "    </tr>\n",
              "    <tr>\n",
              "      <th>4</th>\n",
              "      <td>Red Dead Redemption 2</td>\n",
              "      <td>117967</td>\n",
              "    </tr>\n",
              "    <tr>\n",
              "      <th>5</th>\n",
              "      <td>Path of Exile</td>\n",
              "      <td>111576</td>\n",
              "    </tr>\n",
              "    <tr>\n",
              "      <th>6</th>\n",
              "      <td>Cyberpunk 2077</td>\n",
              "      <td>109328</td>\n",
              "    </tr>\n",
              "    <tr>\n",
              "      <th>7</th>\n",
              "      <td>Sea of Thieves</td>\n",
              "      <td>108191</td>\n",
              "    </tr>\n",
              "    <tr>\n",
              "      <th>8</th>\n",
              "      <td>Lost Ark</td>\n",
              "      <td>94162</td>\n",
              "    </tr>\n",
              "    <tr>\n",
              "      <th>9</th>\n",
              "      <td>BeamNG.drive</td>\n",
              "      <td>90970</td>\n",
              "    </tr>\n",
              "  </tbody>\n",
              "</table>\n",
              "</div>\n",
              "      <button class=\"colab-df-convert\" onclick=\"convertToInteractive('df-33617af1-442c-4b34-a568-16d1ca5f5ef2')\"\n",
              "              title=\"Convert this dataframe to an interactive table.\"\n",
              "              style=\"display:none;\">\n",
              "        \n",
              "  <svg xmlns=\"http://www.w3.org/2000/svg\" height=\"24px\"viewBox=\"0 0 24 24\"\n",
              "       width=\"24px\">\n",
              "    <path d=\"M0 0h24v24H0V0z\" fill=\"none\"/>\n",
              "    <path d=\"M18.56 5.44l.94 2.06.94-2.06 2.06-.94-2.06-.94-.94-2.06-.94 2.06-2.06.94zm-11 1L8.5 8.5l.94-2.06 2.06-.94-2.06-.94L8.5 2.5l-.94 2.06-2.06.94zm10 10l.94 2.06.94-2.06 2.06-.94-2.06-.94-.94-2.06-.94 2.06-2.06.94z\"/><path d=\"M17.41 7.96l-1.37-1.37c-.4-.4-.92-.59-1.43-.59-.52 0-1.04.2-1.43.59L10.3 9.45l-7.72 7.72c-.78.78-.78 2.05 0 2.83L4 21.41c.39.39.9.59 1.41.59.51 0 1.02-.2 1.41-.59l7.78-7.78 2.81-2.81c.8-.78.8-2.07 0-2.86zM5.41 20L4 18.59l7.72-7.72 1.47 1.35L5.41 20z\"/>\n",
              "  </svg>\n",
              "      </button>\n",
              "      \n",
              "  <style>\n",
              "    .colab-df-container {\n",
              "      display:flex;\n",
              "      flex-wrap:wrap;\n",
              "      gap: 12px;\n",
              "    }\n",
              "\n",
              "    .colab-df-convert {\n",
              "      background-color: #E8F0FE;\n",
              "      border: none;\n",
              "      border-radius: 50%;\n",
              "      cursor: pointer;\n",
              "      display: none;\n",
              "      fill: #1967D2;\n",
              "      height: 32px;\n",
              "      padding: 0 0 0 0;\n",
              "      width: 32px;\n",
              "    }\n",
              "\n",
              "    .colab-df-convert:hover {\n",
              "      background-color: #E2EBFA;\n",
              "      box-shadow: 0px 1px 2px rgba(60, 64, 67, 0.3), 0px 1px 3px 1px rgba(60, 64, 67, 0.15);\n",
              "      fill: #174EA6;\n",
              "    }\n",
              "\n",
              "    [theme=dark] .colab-df-convert {\n",
              "      background-color: #3B4455;\n",
              "      fill: #D2E3FC;\n",
              "    }\n",
              "\n",
              "    [theme=dark] .colab-df-convert:hover {\n",
              "      background-color: #434B5C;\n",
              "      box-shadow: 0px 1px 3px 1px rgba(0, 0, 0, 0.15);\n",
              "      filter: drop-shadow(0px 1px 2px rgba(0, 0, 0, 0.3));\n",
              "      fill: #FFFFFF;\n",
              "    }\n",
              "  </style>\n",
              "\n",
              "      <script>\n",
              "        const buttonEl =\n",
              "          document.querySelector('#df-33617af1-442c-4b34-a568-16d1ca5f5ef2 button.colab-df-convert');\n",
              "        buttonEl.style.display =\n",
              "          google.colab.kernel.accessAllowed ? 'block' : 'none';\n",
              "\n",
              "        async function convertToInteractive(key) {\n",
              "          const element = document.querySelector('#df-33617af1-442c-4b34-a568-16d1ca5f5ef2');\n",
              "          const dataTable =\n",
              "            await google.colab.kernel.invokeFunction('convertToInteractive',\n",
              "                                                     [key], {});\n",
              "          if (!dataTable) return;\n",
              "\n",
              "          const docLinkHtml = 'Like what you see? Visit the ' +\n",
              "            '<a target=\"_blank\" href=https://colab.research.google.com/notebooks/data_table.ipynb>data table notebook</a>'\n",
              "            + ' to learn more about interactive tables.';\n",
              "          element.innerHTML = '';\n",
              "          dataTable['output_type'] = 'display_data';\n",
              "          await google.colab.output.renderOutput(dataTable, element);\n",
              "          const docLink = document.createElement('div');\n",
              "          docLink.innerHTML = docLinkHtml;\n",
              "          element.appendChild(docLink);\n",
              "        }\n",
              "      </script>\n",
              "    </div>\n",
              "  </div>\n",
              "  "
            ]
          },
          "metadata": {},
          "execution_count": 92
        }
      ],
      "source": [
        "top_game5 = top_game5.toPandas()\n",
        "top_game5.head(10)"
      ]
    },
    {
      "cell_type": "code",
      "execution_count": 93,
      "metadata": {
        "colab": {
          "base_uri": "https://localhost:8080/",
          "height": 250
        },
        "id": "TZpBNOHBDZgd",
        "outputId": "70da02ca-c9b3-4b6d-f423-f04df0834775"
      },
      "outputs": [
        {
          "output_type": "display_data",
          "data": {
            "text/plain": [
              "<Figure size 1440x504 with 1 Axes>"
            ],
            "image/png": "[encoded data removed]"
          },
          "metadata": {
            "needs_background": "light"
          }
        }
      ],
      "source": [
        "fig, ax = plt.subplots(figsize =(20,7))\n",
        "ax.bar(top_game5['title'][:10],top_game5[\"count\"][:10],width=0.7, edgecolor=\"white\", linewidth=1)\n",
        "# ax.set(xlim=(0, 8),ylim=(0, 8))\n",
        "plt.title('Top Adventure Games')\n",
        "plt.xlabel('Name of games')\n",
        "plt.ylabel('Count')\n",
        "plt.show()"
      ]
    },
    {
      "cell_type": "markdown",
      "metadata": {
        "id": "Lvi2dB4E_FlJ"
      },
      "source": [
        "### By First-Person"
      ]
    },
    {
      "cell_type": "code",
      "execution_count": 94,
      "metadata": {
        "id": "Sofe4b6l_HFw"
      },
      "outputs": [],
      "source": [
        "top_game6 = ganre_2.select('title').filter(\"col == 'First-Person'\").groupBy(\"title\").count().orderBy(f.col('count').desc())"
      ]
    },
    {
      "cell_type": "code",
      "execution_count": 95,
      "metadata": {
        "colab": {
          "base_uri": "https://localhost:8080/"
        },
        "id": "ERznIAYd_HIc",
        "outputId": "81f2a37b-d885-41b6-afa0-c70df43f5636"
      },
      "outputs": [
        {
          "output_type": "stream",
          "name": "stdout",
          "text": [
            "+--------------------+------+\n",
            "|               title| count|\n",
            "+--------------------+------+\n",
            "|                Rust|251433|\n",
            "|Counter-Strike: G...|172407|\n",
            "|        No Man's Sky|150261|\n",
            "|    Wallpaper Engine|149654|\n",
            "|  Grand Theft Auto V|148801|\n",
            "|           Fallout 4|148530|\n",
            "|Call of Duty®: Mo...|131361|\n",
            "|Red Dead Redempti...|117967|\n",
            "|              Arma 3|115925|\n",
            "|      Cyberpunk 2077|109328|\n",
            "+--------------------+------+\n",
            "only showing top 10 rows\n",
            "\n"
          ]
        }
      ],
      "source": [
        "top_game6.show(10)"
      ]
    },
    {
      "cell_type": "code",
      "execution_count": 96,
      "metadata": {
        "colab": {
          "base_uri": "https://localhost:8080/",
          "height": 363
        },
        "id": "zuL5ILLNESSn",
        "outputId": "17d217f7-01ad-42db-de83-7b1f15e6b544"
      },
      "outputs": [
        {
          "output_type": "execute_result",
          "data": {
            "text/plain": [
              "                               title   count\n",
              "0                               Rust  251433\n",
              "1   Counter-Strike: Global Offensive  172407\n",
              "2                       No Man's Sky  150261\n",
              "3                   Wallpaper Engine  149654\n",
              "4                 Grand Theft Auto V  148801\n",
              "5                          Fallout 4  148530\n",
              "6  Call of Duty®: Modern Warfare® II  131361\n",
              "7              Red Dead Redemption 2  117967\n",
              "8                             Arma 3  115925\n",
              "9                     Cyberpunk 2077  109328"
            ],
            "text/html": [
              "\n",
              "  <div id=\"df-d07b5514-bb0c-4b8d-95da-fd8a10621059\">\n",
              "    <div class=\"colab-df-container\">\n",
              "      <div>\n",
              "<style scoped>\n",
              "    .dataframe tbody tr th:only-of-type {\n",
              "        vertical-align: middle;\n",
              "    }\n",
              "\n",
              "    .dataframe tbody tr th {\n",
              "        vertical-align: top;\n",
              "    }\n",
              "\n",
              "    .dataframe thead th {\n",
              "        text-align: right;\n",
              "    }\n",
              "</style>\n",
              "<table border=\"1\" class=\"dataframe\">\n",
              "  <thead>\n",
              "    <tr style=\"text-align: right;\">\n",
              "      <th></th>\n",
              "      <th>title</th>\n",
              "      <th>count</th>\n",
              "    </tr>\n",
              "  </thead>\n",
              "  <tbody>\n",
              "    <tr>\n",
              "      <th>0</th>\n",
              "      <td>Rust</td>\n",
              "      <td>251433</td>\n",
              "    </tr>\n",
              "    <tr>\n",
              "      <th>1</th>\n",
              "      <td>Counter-Strike: Global Offensive</td>\n",
              "      <td>172407</td>\n",
              "    </tr>\n",
              "    <tr>\n",
              "      <th>2</th>\n",
              "      <td>No Man's Sky</td>\n",
              "      <td>150261</td>\n",
              "    </tr>\n",
              "    <tr>\n",
              "      <th>3</th>\n",
              "      <td>Wallpaper Engine</td>\n",
              "      <td>149654</td>\n",
              "    </tr>\n",
              "    <tr>\n",
              "      <th>4</th>\n",
              "      <td>Grand Theft Auto V</td>\n",
              "      <td>148801</td>\n",
              "    </tr>\n",
              "    <tr>\n",
              "      <th>5</th>\n",
              "      <td>Fallout 4</td>\n",
              "      <td>148530</td>\n",
              "    </tr>\n",
              "    <tr>\n",
              "      <th>6</th>\n",
              "      <td>Call of Duty®: Modern Warfare® II</td>\n",
              "      <td>131361</td>\n",
              "    </tr>\n",
              "    <tr>\n",
              "      <th>7</th>\n",
              "      <td>Red Dead Redemption 2</td>\n",
              "      <td>117967</td>\n",
              "    </tr>\n",
              "    <tr>\n",
              "      <th>8</th>\n",
              "      <td>Arma 3</td>\n",
              "      <td>115925</td>\n",
              "    </tr>\n",
              "    <tr>\n",
              "      <th>9</th>\n",
              "      <td>Cyberpunk 2077</td>\n",
              "      <td>109328</td>\n",
              "    </tr>\n",
              "  </tbody>\n",
              "</table>\n",
              "</div>\n",
              "      <button class=\"colab-df-convert\" onclick=\"convertToInteractive('df-d07b5514-bb0c-4b8d-95da-fd8a10621059')\"\n",
              "              title=\"Convert this dataframe to an interactive table.\"\n",
              "              style=\"display:none;\">\n",
              "        \n",
              "  <svg xmlns=\"http://www.w3.org/2000/svg\" height=\"24px\"viewBox=\"0 0 24 24\"\n",
              "       width=\"24px\">\n",
              "    <path d=\"M0 0h24v24H0V0z\" fill=\"none\"/>\n",
              "    <path d=\"M18.56 5.44l.94 2.06.94-2.06 2.06-.94-2.06-.94-.94-2.06-.94 2.06-2.06.94zm-11 1L8.5 8.5l.94-2.06 2.06-.94-2.06-.94L8.5 2.5l-.94 2.06-2.06.94zm10 10l.94 2.06.94-2.06 2.06-.94-2.06-.94-.94-2.06-.94 2.06-2.06.94z\"/><path d=\"M17.41 7.96l-1.37-1.37c-.4-.4-.92-.59-1.43-.59-.52 0-1.04.2-1.43.59L10.3 9.45l-7.72 7.72c-.78.78-.78 2.05 0 2.83L4 21.41c.39.39.9.59 1.41.59.51 0 1.02-.2 1.41-.59l7.78-7.78 2.81-2.81c.8-.78.8-2.07 0-2.86zM5.41 20L4 18.59l7.72-7.72 1.47 1.35L5.41 20z\"/>\n",
              "  </svg>\n",
              "      </button>\n",
              "      \n",
              "  <style>\n",
              "    .colab-df-container {\n",
              "      display:flex;\n",
              "      flex-wrap:wrap;\n",
              "      gap: 12px;\n",
              "    }\n",
              "\n",
              "    .colab-df-convert {\n",
              "      background-color: #E8F0FE;\n",
              "      border: none;\n",
              "      border-radius: 50%;\n",
              "      cursor: pointer;\n",
              "      display: none;\n",
              "      fill: #1967D2;\n",
              "      height: 32px;\n",
              "      padding: 0 0 0 0;\n",
              "      width: 32px;\n",
              "    }\n",
              "\n",
              "    .colab-df-convert:hover {\n",
              "      background-color: #E2EBFA;\n",
              "      box-shadow: 0px 1px 2px rgba(60, 64, 67, 0.3), 0px 1px 3px 1px rgba(60, 64, 67, 0.15);\n",
              "      fill: #174EA6;\n",
              "    }\n",
              "\n",
              "    [theme=dark] .colab-df-convert {\n",
              "      background-color: #3B4455;\n",
              "      fill: #D2E3FC;\n",
              "    }\n",
              "\n",
              "    [theme=dark] .colab-df-convert:hover {\n",
              "      background-color: #434B5C;\n",
              "      box-shadow: 0px 1px 3px 1px rgba(0, 0, 0, 0.15);\n",
              "      filter: drop-shadow(0px 1px 2px rgba(0, 0, 0, 0.3));\n",
              "      fill: #FFFFFF;\n",
              "    }\n",
              "  </style>\n",
              "\n",
              "      <script>\n",
              "        const buttonEl =\n",
              "          document.querySelector('#df-d07b5514-bb0c-4b8d-95da-fd8a10621059 button.colab-df-convert');\n",
              "        buttonEl.style.display =\n",
              "          google.colab.kernel.accessAllowed ? 'block' : 'none';\n",
              "\n",
              "        async function convertToInteractive(key) {\n",
              "          const element = document.querySelector('#df-d07b5514-bb0c-4b8d-95da-fd8a10621059');\n",
              "          const dataTable =\n",
              "            await google.colab.kernel.invokeFunction('convertToInteractive',\n",
              "                                                     [key], {});\n",
              "          if (!dataTable) return;\n",
              "\n",
              "          const docLinkHtml = 'Like what you see? Visit the ' +\n",
              "            '<a target=\"_blank\" href=https://colab.research.google.com/notebooks/data_table.ipynb>data table notebook</a>'\n",
              "            + ' to learn more about interactive tables.';\n",
              "          element.innerHTML = '';\n",
              "          dataTable['output_type'] = 'display_data';\n",
              "          await google.colab.output.renderOutput(dataTable, element);\n",
              "          const docLink = document.createElement('div');\n",
              "          docLink.innerHTML = docLinkHtml;\n",
              "          element.appendChild(docLink);\n",
              "        }\n",
              "      </script>\n",
              "    </div>\n",
              "  </div>\n",
              "  "
            ]
          },
          "metadata": {},
          "execution_count": 96
        }
      ],
      "source": [
        "top_game6 = top_game6.toPandas()\n",
        "top_game6.head(10)"
      ]
    },
    {
      "cell_type": "code",
      "execution_count": 97,
      "metadata": {
        "colab": {
          "base_uri": "https://localhost:8080/",
          "height": 250
        },
        "id": "Fa6BrQlIESVJ",
        "outputId": "21cbfcc0-1d69-48a2-9078-4f64fd16ecea"
      },
      "outputs": [
        {
          "output_type": "display_data",
          "data": {
            "text/plain": [
              "<Figure size 1440x504 with 1 Axes>"
            ],
            "image/png": "[encoded data removed]"
          },
          "metadata": {
            "needs_background": "light"
          }
        }
      ],
      "source": [
        "fig, ax = plt.subplots(figsize =(20,7))\n",
        "ax.bar(top_game6['title'][:10],top_game6[\"count\"][:10],width=0.7, edgecolor=\"white\", linewidth=1)\n",
        "# ax.set(xlim=(0, 8),ylim=(0, 8))\n",
        "plt.title('Top First-Person Games')\n",
        "plt.xlabel('Name of games')\n",
        "plt.ylabel('Count')\n",
        "plt.show()"
      ]
    },
    {
      "cell_type": "markdown",
      "metadata": {
        "id": "_zHHZW9t_Ozg"
      },
      "source": [
        "### By Open World"
      ]
    },
    {
      "cell_type": "code",
      "execution_count": 98,
      "metadata": {
        "id": "OrjVQaUT_O8Y"
      },
      "outputs": [],
      "source": [
        "top_game7 = ganre_2.select('title').filter(\"col == 'Open World'\").groupBy(\"title\").count().orderBy(f.col('count').desc())"
      ]
    },
    {
      "cell_type": "code",
      "execution_count": 99,
      "metadata": {
        "colab": {
          "base_uri": "https://localhost:8080/"
        },
        "id": "D4GgFnns_O-1",
        "outputId": "ac4c9000-4867-4eb4-beda-c80682605135"
      },
      "outputs": [
        {
          "output_type": "stream",
          "name": "stdout",
          "text": [
            "+--------------------+------+\n",
            "|               title| count|\n",
            "+--------------------+------+\n",
            "|                Rust|251433|\n",
            "|        No Man's Sky|150261|\n",
            "|  Grand Theft Auto V|148801|\n",
            "|           Fallout 4|148530|\n",
            "|Red Dead Redempti...|117967|\n",
            "|              Arma 3|115925|\n",
            "|      Cyberpunk 2077|109328|\n",
            "|      Sea of Thieves|108191|\n",
            "|   Hearts of Iron IV|104751|\n",
            "|        BeamNG.drive| 90970|\n",
            "+--------------------+------+\n",
            "only showing top 10 rows\n",
            "\n"
          ]
        }
      ],
      "source": [
        "top_game7.show(10)"
      ]
    },
    {
      "cell_type": "code",
      "execution_count": 100,
      "metadata": {
        "colab": {
          "base_uri": "https://localhost:8080/",
          "height": 363
        },
        "id": "Z4Q2vva3EpGu",
        "outputId": "0f863078-0423-4f96-bae3-cc172e7dc7d8"
      },
      "outputs": [
        {
          "output_type": "execute_result",
          "data": {
            "text/plain": [
              "                   title   count\n",
              "0                   Rust  251433\n",
              "1           No Man's Sky  150261\n",
              "2     Grand Theft Auto V  148801\n",
              "3              Fallout 4  148530\n",
              "4  Red Dead Redemption 2  117967\n",
              "5                 Arma 3  115925\n",
              "6         Cyberpunk 2077  109328\n",
              "7         Sea of Thieves  108191\n",
              "8      Hearts of Iron IV  104751\n",
              "9           BeamNG.drive   90970"
            ],
            "text/html": [
              "\n",
              "  <div id=\"df-febde076-e315-4a0e-a5ce-4a19deaa7b1d\">\n",
              "    <div class=\"colab-df-container\">\n",
              "      <div>\n",
              "<style scoped>\n",
              "    .dataframe tbody tr th:only-of-type {\n",
              "        vertical-align: middle;\n",
              "    }\n",
              "\n",
              "    .dataframe tbody tr th {\n",
              "        vertical-align: top;\n",
              "    }\n",
              "\n",
              "    .dataframe thead th {\n",
              "        text-align: right;\n",
              "    }\n",
              "</style>\n",
              "<table border=\"1\" class=\"dataframe\">\n",
              "  <thead>\n",
              "    <tr style=\"text-align: right;\">\n",
              "      <th></th>\n",
              "      <th>title</th>\n",
              "      <th>count</th>\n",
              "    </tr>\n",
              "  </thead>\n",
              "  <tbody>\n",
              "    <tr>\n",
              "      <th>0</th>\n",
              "      <td>Rust</td>\n",
              "      <td>251433</td>\n",
              "    </tr>\n",
              "    <tr>\n",
              "      <th>1</th>\n",
              "      <td>No Man's Sky</td>\n",
              "      <td>150261</td>\n",
              "    </tr>\n",
              "    <tr>\n",
              "      <th>2</th>\n",
              "      <td>Grand Theft Auto V</td>\n",
              "      <td>148801</td>\n",
              "    </tr>\n",
              "    <tr>\n",
              "      <th>3</th>\n",
              "      <td>Fallout 4</td>\n",
              "      <td>148530</td>\n",
              "    </tr>\n",
              "    <tr>\n",
              "      <th>4</th>\n",
              "      <td>Red Dead Redemption 2</td>\n",
              "      <td>117967</td>\n",
              "    </tr>\n",
              "    <tr>\n",
              "      <th>5</th>\n",
              "      <td>Arma 3</td>\n",
              "      <td>115925</td>\n",
              "    </tr>\n",
              "    <tr>\n",
              "      <th>6</th>\n",
              "      <td>Cyberpunk 2077</td>\n",
              "      <td>109328</td>\n",
              "    </tr>\n",
              "    <tr>\n",
              "      <th>7</th>\n",
              "      <td>Sea of Thieves</td>\n",
              "      <td>108191</td>\n",
              "    </tr>\n",
              "    <tr>\n",
              "      <th>8</th>\n",
              "      <td>Hearts of Iron IV</td>\n",
              "      <td>104751</td>\n",
              "    </tr>\n",
              "    <tr>\n",
              "      <th>9</th>\n",
              "      <td>BeamNG.drive</td>\n",
              "      <td>90970</td>\n",
              "    </tr>\n",
              "  </tbody>\n",
              "</table>\n",
              "</div>\n",
              "      <button class=\"colab-df-convert\" onclick=\"convertToInteractive('df-febde076-e315-4a0e-a5ce-4a19deaa7b1d')\"\n",
              "              title=\"Convert this dataframe to an interactive table.\"\n",
              "              style=\"display:none;\">\n",
              "        \n",
              "  <svg xmlns=\"http://www.w3.org/2000/svg\" height=\"24px\"viewBox=\"0 0 24 24\"\n",
              "       width=\"24px\">\n",
              "    <path d=\"M0 0h24v24H0V0z\" fill=\"none\"/>\n",
              "    <path d=\"M18.56 5.44l.94 2.06.94-2.06 2.06-.94-2.06-.94-.94-2.06-.94 2.06-2.06.94zm-11 1L8.5 8.5l.94-2.06 2.06-.94-2.06-.94L8.5 2.5l-.94 2.06-2.06.94zm10 10l.94 2.06.94-2.06 2.06-.94-2.06-.94-.94-2.06-.94 2.06-2.06.94z\"/><path d=\"M17.41 7.96l-1.37-1.37c-.4-.4-.92-.59-1.43-.59-.52 0-1.04.2-1.43.59L10.3 9.45l-7.72 7.72c-.78.78-.78 2.05 0 2.83L4 21.41c.39.39.9.59 1.41.59.51 0 1.02-.2 1.41-.59l7.78-7.78 2.81-2.81c.8-.78.8-2.07 0-2.86zM5.41 20L4 18.59l7.72-7.72 1.47 1.35L5.41 20z\"/>\n",
              "  </svg>\n",
              "      </button>\n",
              "      \n",
              "  <style>\n",
              "    .colab-df-container {\n",
              "      display:flex;\n",
              "      flex-wrap:wrap;\n",
              "      gap: 12px;\n",
              "    }\n",
              "\n",
              "    .colab-df-convert {\n",
              "      background-color: #E8F0FE;\n",
              "      border: none;\n",
              "      border-radius: 50%;\n",
              "      cursor: pointer;\n",
              "      display: none;\n",
              "      fill: #1967D2;\n",
              "      height: 32px;\n",
              "      padding: 0 0 0 0;\n",
              "      width: 32px;\n",
              "    }\n",
              "\n",
              "    .colab-df-convert:hover {\n",
              "      background-color: #E2EBFA;\n",
              "      box-shadow: 0px 1px 2px rgba(60, 64, 67, 0.3), 0px 1px 3px 1px rgba(60, 64, 67, 0.15);\n",
              "      fill: #174EA6;\n",
              "    }\n",
              "\n",
              "    [theme=dark] .colab-df-convert {\n",
              "      background-color: #3B4455;\n",
              "      fill: #D2E3FC;\n",
              "    }\n",
              "\n",
              "    [theme=dark] .colab-df-convert:hover {\n",
              "      background-color: #434B5C;\n",
              "      box-shadow: 0px 1px 3px 1px rgba(0, 0, 0, 0.15);\n",
              "      filter: drop-shadow(0px 1px 2px rgba(0, 0, 0, 0.3));\n",
              "      fill: #FFFFFF;\n",
              "    }\n",
              "  </style>\n",
              "\n",
              "      <script>\n",
              "        const buttonEl =\n",
              "          document.querySelector('#df-febde076-e315-4a0e-a5ce-4a19deaa7b1d button.colab-df-convert');\n",
              "        buttonEl.style.display =\n",
              "          google.colab.kernel.accessAllowed ? 'block' : 'none';\n",
              "\n",
              "        async function convertToInteractive(key) {\n",
              "          const element = document.querySelector('#df-febde076-e315-4a0e-a5ce-4a19deaa7b1d');\n",
              "          const dataTable =\n",
              "            await google.colab.kernel.invokeFunction('convertToInteractive',\n",
              "                                                     [key], {});\n",
              "          if (!dataTable) return;\n",
              "\n",
              "          const docLinkHtml = 'Like what you see? Visit the ' +\n",
              "            '<a target=\"_blank\" href=https://colab.research.google.com/notebooks/data_table.ipynb>data table notebook</a>'\n",
              "            + ' to learn more about interactive tables.';\n",
              "          element.innerHTML = '';\n",
              "          dataTable['output_type'] = 'display_data';\n",
              "          await google.colab.output.renderOutput(dataTable, element);\n",
              "          const docLink = document.createElement('div');\n",
              "          docLink.innerHTML = docLinkHtml;\n",
              "          element.appendChild(docLink);\n",
              "        }\n",
              "      </script>\n",
              "    </div>\n",
              "  </div>\n",
              "  "
            ]
          },
          "metadata": {},
          "execution_count": 100
        }
      ],
      "source": [
        "top_game7 =top_game7.toPandas()\n",
        "top_game7.head(10)"
      ]
    },
    {
      "cell_type": "code",
      "execution_count": 101,
      "metadata": {
        "colab": {
          "base_uri": "https://localhost:8080/",
          "height": 250
        },
        "id": "fuJVjy-8E0DI",
        "outputId": "9b41d721-4a39-468c-8dc4-a668b7ec6487"
      },
      "outputs": [
        {
          "output_type": "display_data",
          "data": {
            "text/plain": [
              "<Figure size 1440x504 with 1 Axes>"
            ],
            "image/png": "[encoded data removed]"
          },
          "metadata": {
            "needs_background": "light"
          }
        }
      ],
      "source": [
        "fig, ax = plt.subplots(figsize =(20,7))\n",
        "ax.bar(top_game7['title'][:10],top_game7[\"count\"][:10],width=0.7, edgecolor=\"white\", linewidth=1)\n",
        "# ax.set(xlim=(0, 8),ylim=(0, 8))\n",
        "plt.title('Top Open World Games')\n",
        "plt.xlabel('Name of games')\n",
        "plt.ylabel('Count')\n",
        "plt.show()"
      ]
    },
    {
      "cell_type": "markdown",
      "metadata": {
        "id": "cTNWti_P_b2x"
      },
      "source": [
        "### By Atmospheric"
      ]
    },
    {
      "cell_type": "code",
      "execution_count": 102,
      "metadata": {
        "id": "VK5M_1Cj_dWm"
      },
      "outputs": [],
      "source": [
        "top_game8 = ganre_2.select('title').filter(\"col == 'Atmospheric'\").groupBy(\"title\").count().orderBy(f.col('count').desc())"
      ]
    },
    {
      "cell_type": "code",
      "execution_count": 103,
      "metadata": {
        "colab": {
          "base_uri": "https://localhost:8080/"
        },
        "id": "F_EpH-hs_dZb",
        "outputId": "fc81e257-9263-430f-f41a-904ea0b6d1e3"
      },
      "outputs": [
        {
          "output_type": "stream",
          "name": "stdout",
          "text": [
            "+--------------------+------+\n",
            "|               title| count|\n",
            "+--------------------+------+\n",
            "|        No Man's Sky|150261|\n",
            "|  Grand Theft Auto V|148801|\n",
            "|           Fallout 4|148530|\n",
            "|Call of Duty®: Mo...|131361|\n",
            "|Red Dead Redempti...|117967|\n",
            "|      Cyberpunk 2077|109328|\n",
            "|      Sea of Thieves|108191|\n",
            "|The Binding of Is...| 98643|\n",
            "|Sid Meier’s Civil...| 83188|\n",
            "|The Elder Scrolls...| 68834|\n",
            "+--------------------+------+\n",
            "only showing top 10 rows\n",
            "\n"
          ]
        }
      ],
      "source": [
        "top_game8.show(10)"
      ]
    },
    {
      "cell_type": "code",
      "execution_count": 104,
      "metadata": {
        "colab": {
          "base_uri": "https://localhost:8080/",
          "height": 363
        },
        "id": "U3YbzemMF1l2",
        "outputId": "a640c65d-67b4-44a0-c339-a8ddca9cef80"
      },
      "outputs": [
        {
          "output_type": "execute_result",
          "data": {
            "text/plain": [
              "                               title   count\n",
              "0                       No Man's Sky  150261\n",
              "1                 Grand Theft Auto V  148801\n",
              "2                          Fallout 4  148530\n",
              "3  Call of Duty®: Modern Warfare® II  131361\n",
              "4              Red Dead Redemption 2  117967\n",
              "5                     Cyberpunk 2077  109328\n",
              "6                     Sea of Thieves  108191\n",
              "7      The Binding of Isaac: Rebirth   98643\n",
              "8       Sid Meier’s Civilization® VI   83188\n",
              "9          The Elder Scrolls® Online   68834"
            ],
            "text/html": [
              "\n",
              "  <div id=\"df-431d22cf-e911-4ae2-b95c-836abe26e9de\">\n",
              "    <div class=\"colab-df-container\">\n",
              "      <div>\n",
              "<style scoped>\n",
              "    .dataframe tbody tr th:only-of-type {\n",
              "        vertical-align: middle;\n",
              "    }\n",
              "\n",
              "    .dataframe tbody tr th {\n",
              "        vertical-align: top;\n",
              "    }\n",
              "\n",
              "    .dataframe thead th {\n",
              "        text-align: right;\n",
              "    }\n",
              "</style>\n",
              "<table border=\"1\" class=\"dataframe\">\n",
              "  <thead>\n",
              "    <tr style=\"text-align: right;\">\n",
              "      <th></th>\n",
              "      <th>title</th>\n",
              "      <th>count</th>\n",
              "    </tr>\n",
              "  </thead>\n",
              "  <tbody>\n",
              "    <tr>\n",
              "      <th>0</th>\n",
              "      <td>No Man's Sky</td>\n",
              "      <td>150261</td>\n",
              "    </tr>\n",
              "    <tr>\n",
              "      <th>1</th>\n",
              "      <td>Grand Theft Auto V</td>\n",
              "      <td>148801</td>\n",
              "    </tr>\n",
              "    <tr>\n",
              "      <th>2</th>\n",
              "      <td>Fallout 4</td>\n",
              "      <td>148530</td>\n",
              "    </tr>\n",
              "    <tr>\n",
              "      <th>3</th>\n",
              "      <td>Call of Duty®: Modern Warfare® II</td>\n",
              "      <td>131361</td>\n",
              "    </tr>\n",
              "    <tr>\n",
              "      <th>4</th>\n",
              "      <td>Red Dead Redemption 2</td>\n",
              "      <td>117967</td>\n",
              "    </tr>\n",
              "    <tr>\n",
              "      <th>5</th>\n",
              "      <td>Cyberpunk 2077</td>\n",
              "      <td>109328</td>\n",
              "    </tr>\n",
              "    <tr>\n",
              "      <th>6</th>\n",
              "      <td>Sea of Thieves</td>\n",
              "      <td>108191</td>\n",
              "    </tr>\n",
              "    <tr>\n",
              "      <th>7</th>\n",
              "      <td>The Binding of Isaac: Rebirth</td>\n",
              "      <td>98643</td>\n",
              "    </tr>\n",
              "    <tr>\n",
              "      <th>8</th>\n",
              "      <td>Sid Meier’s Civilization® VI</td>\n",
              "      <td>83188</td>\n",
              "    </tr>\n",
              "    <tr>\n",
              "      <th>9</th>\n",
              "      <td>The Elder Scrolls® Online</td>\n",
              "      <td>68834</td>\n",
              "    </tr>\n",
              "  </tbody>\n",
              "</table>\n",
              "</div>\n",
              "      <button class=\"colab-df-convert\" onclick=\"convertToInteractive('df-431d22cf-e911-4ae2-b95c-836abe26e9de')\"\n",
              "              title=\"Convert this dataframe to an interactive table.\"\n",
              "              style=\"display:none;\">\n",
              "        \n",
              "  <svg xmlns=\"http://www.w3.org/2000/svg\" height=\"24px\"viewBox=\"0 0 24 24\"\n",
              "       width=\"24px\">\n",
              "    <path d=\"M0 0h24v24H0V0z\" fill=\"none\"/>\n",
              "    <path d=\"M18.56 5.44l.94 2.06.94-2.06 2.06-.94-2.06-.94-.94-2.06-.94 2.06-2.06.94zm-11 1L8.5 8.5l.94-2.06 2.06-.94-2.06-.94L8.5 2.5l-.94 2.06-2.06.94zm10 10l.94 2.06.94-2.06 2.06-.94-2.06-.94-.94-2.06-.94 2.06-2.06.94z\"/><path d=\"M17.41 7.96l-1.37-1.37c-.4-.4-.92-.59-1.43-.59-.52 0-1.04.2-1.43.59L10.3 9.45l-7.72 7.72c-.78.78-.78 2.05 0 2.83L4 21.41c.39.39.9.59 1.41.59.51 0 1.02-.2 1.41-.59l7.78-7.78 2.81-2.81c.8-.78.8-2.07 0-2.86zM5.41 20L4 18.59l7.72-7.72 1.47 1.35L5.41 20z\"/>\n",
              "  </svg>\n",
              "      </button>\n",
              "      \n",
              "  <style>\n",
              "    .colab-df-container {\n",
              "      display:flex;\n",
              "      flex-wrap:wrap;\n",
              "      gap: 12px;\n",
              "    }\n",
              "\n",
              "    .colab-df-convert {\n",
              "      background-color: #E8F0FE;\n",
              "      border: none;\n",
              "      border-radius: 50%;\n",
              "      cursor: pointer;\n",
              "      display: none;\n",
              "      fill: #1967D2;\n",
              "      height: 32px;\n",
              "      padding: 0 0 0 0;\n",
              "      width: 32px;\n",
              "    }\n",
              "\n",
              "    .colab-df-convert:hover {\n",
              "      background-color: #E2EBFA;\n",
              "      box-shadow: 0px 1px 2px rgba(60, 64, 67, 0.3), 0px 1px 3px 1px rgba(60, 64, 67, 0.15);\n",
              "      fill: #174EA6;\n",
              "    }\n",
              "\n",
              "    [theme=dark] .colab-df-convert {\n",
              "      background-color: #3B4455;\n",
              "      fill: #D2E3FC;\n",
              "    }\n",
              "\n",
              "    [theme=dark] .colab-df-convert:hover {\n",
              "      background-color: #434B5C;\n",
              "      box-shadow: 0px 1px 3px 1px rgba(0, 0, 0, 0.15);\n",
              "      filter: drop-shadow(0px 1px 2px rgba(0, 0, 0, 0.3));\n",
              "      fill: #FFFFFF;\n",
              "    }\n",
              "  </style>\n",
              "\n",
              "      <script>\n",
              "        const buttonEl =\n",
              "          document.querySelector('#df-431d22cf-e911-4ae2-b95c-836abe26e9de button.colab-df-convert');\n",
              "        buttonEl.style.display =\n",
              "          google.colab.kernel.accessAllowed ? 'block' : 'none';\n",
              "\n",
              "        async function convertToInteractive(key) {\n",
              "          const element = document.querySelector('#df-431d22cf-e911-4ae2-b95c-836abe26e9de');\n",
              "          const dataTable =\n",
              "            await google.colab.kernel.invokeFunction('convertToInteractive',\n",
              "                                                     [key], {});\n",
              "          if (!dataTable) return;\n",
              "\n",
              "          const docLinkHtml = 'Like what you see? Visit the ' +\n",
              "            '<a target=\"_blank\" href=https://colab.research.google.com/notebooks/data_table.ipynb>data table notebook</a>'\n",
              "            + ' to learn more about interactive tables.';\n",
              "          element.innerHTML = '';\n",
              "          dataTable['output_type'] = 'display_data';\n",
              "          await google.colab.output.renderOutput(dataTable, element);\n",
              "          const docLink = document.createElement('div');\n",
              "          docLink.innerHTML = docLinkHtml;\n",
              "          element.appendChild(docLink);\n",
              "        }\n",
              "      </script>\n",
              "    </div>\n",
              "  </div>\n",
              "  "
            ]
          },
          "metadata": {},
          "execution_count": 104
        }
      ],
      "source": [
        "top_game8 = top_game8.toPandas()\n",
        "top_game8.head(10)"
      ]
    },
    {
      "cell_type": "code",
      "execution_count": 105,
      "metadata": {
        "colab": {
          "base_uri": "https://localhost:8080/",
          "height": 250
        },
        "id": "rbnLUk30GD5I",
        "outputId": "425ab70b-c916-44a1-a397-39c6a9c965bc"
      },
      "outputs": [
        {
          "output_type": "display_data",
          "data": {
            "text/plain": [
              "<Figure size 1440x504 with 1 Axes>"
            ],
            "image/png": "[encoded data removed]"
          },
          "metadata": {
            "needs_background": "light"
          }
        }
      ],
      "source": [
        "fig, ax = plt.subplots(figsize =(20,7))\n",
        "ax.bar(top_game8['title'][:10],top_game8[\"count\"][:10],width=0.7, edgecolor=\"white\", linewidth=1)\n",
        "# ax.set(xlim=(0, 8),ylim=(0, 8))\n",
        "plt.title('Top Atmospheric Games')\n",
        "plt.xlabel('Name of games')\n",
        "plt.ylabel('Count')\n",
        "plt.show()"
      ]
    },
    {
      "cell_type": "markdown",
      "metadata": {
        "id": "bLF_vHk6_toE"
      },
      "source": [
        "### By Simulation"
      ]
    },
    {
      "cell_type": "code",
      "execution_count": 106,
      "metadata": {
        "id": "i_td0bdK_2o7"
      },
      "outputs": [],
      "source": [
        "top_game9 = ganre_2.select('title').filter(\"col == 'Simulation'\").groupBy(\"title\").count().orderBy(f.col('count').desc())"
      ]
    },
    {
      "cell_type": "code",
      "execution_count": 107,
      "metadata": {
        "colab": {
          "base_uri": "https://localhost:8080/"
        },
        "id": "aw0oXUTY_2rg",
        "outputId": "0d1142ff-f6d8-48e1-d71e-23463f2c48fa"
      },
      "outputs": [
        {
          "output_type": "stream",
          "name": "stdout",
          "text": [
            "+--------------------+------+\n",
            "|               title| count|\n",
            "+--------------------+------+\n",
            "|                Rust|251433|\n",
            "|        No Man's Sky|150261|\n",
            "|              Arma 3|115925|\n",
            "|   Hearts of Iron IV|104751|\n",
            "|        BeamNG.drive| 90970|\n",
            "|              VRChat| 87365|\n",
            "|Sid Meier’s Civil...| 83188|\n",
            "|     Space Engineers| 76197|\n",
            "|        Satisfactory| 68495|\n",
            "|Tom Clancy's Rain...| 67570|\n",
            "+--------------------+------+\n",
            "only showing top 10 rows\n",
            "\n"
          ]
        }
      ],
      "source": [
        "top_game9.show(10)"
      ]
    },
    {
      "cell_type": "code",
      "execution_count": 108,
      "metadata": {
        "colab": {
          "base_uri": "https://localhost:8080/",
          "height": 363
        },
        "id": "AcZGPKuLGc_m",
        "outputId": "3227f4d0-2705-4871-8f60-e4f5dd517f2d"
      },
      "outputs": [
        {
          "output_type": "execute_result",
          "data": {
            "text/plain": [
              "                             title   count\n",
              "0                             Rust  251433\n",
              "1                     No Man's Sky  150261\n",
              "2                           Arma 3  115925\n",
              "3                Hearts of Iron IV  104751\n",
              "4                     BeamNG.drive   90970\n",
              "5                           VRChat   87365\n",
              "6     Sid Meier’s Civilization® VI   83188\n",
              "7                  Space Engineers   76197\n",
              "8                     Satisfactory   68495\n",
              "9  Tom Clancy's Rainbow Six® Siege   67570"
            ],
            "text/html": [
              "\n",
              "  <div id=\"df-0eb1f6b0-2908-40f6-be4f-dda9e62508fb\">\n",
              "    <div class=\"colab-df-container\">\n",
              "      <div>\n",
              "<style scoped>\n",
              "    .dataframe tbody tr th:only-of-type {\n",
              "        vertical-align: middle;\n",
              "    }\n",
              "\n",
              "    .dataframe tbody tr th {\n",
              "        vertical-align: top;\n",
              "    }\n",
              "\n",
              "    .dataframe thead th {\n",
              "        text-align: right;\n",
              "    }\n",
              "</style>\n",
              "<table border=\"1\" class=\"dataframe\">\n",
              "  <thead>\n",
              "    <tr style=\"text-align: right;\">\n",
              "      <th></th>\n",
              "      <th>title</th>\n",
              "      <th>count</th>\n",
              "    </tr>\n",
              "  </thead>\n",
              "  <tbody>\n",
              "    <tr>\n",
              "      <th>0</th>\n",
              "      <td>Rust</td>\n",
              "      <td>251433</td>\n",
              "    </tr>\n",
              "    <tr>\n",
              "      <th>1</th>\n",
              "      <td>No Man's Sky</td>\n",
              "      <td>150261</td>\n",
              "    </tr>\n",
              "    <tr>\n",
              "      <th>2</th>\n",
              "      <td>Arma 3</td>\n",
              "      <td>115925</td>\n",
              "    </tr>\n",
              "    <tr>\n",
              "      <th>3</th>\n",
              "      <td>Hearts of Iron IV</td>\n",
              "      <td>104751</td>\n",
              "    </tr>\n",
              "    <tr>\n",
              "      <th>4</th>\n",
              "      <td>BeamNG.drive</td>\n",
              "      <td>90970</td>\n",
              "    </tr>\n",
              "    <tr>\n",
              "      <th>5</th>\n",
              "      <td>VRChat</td>\n",
              "      <td>87365</td>\n",
              "    </tr>\n",
              "    <tr>\n",
              "      <th>6</th>\n",
              "      <td>Sid Meier’s Civilization® VI</td>\n",
              "      <td>83188</td>\n",
              "    </tr>\n",
              "    <tr>\n",
              "      <th>7</th>\n",
              "      <td>Space Engineers</td>\n",
              "      <td>76197</td>\n",
              "    </tr>\n",
              "    <tr>\n",
              "      <th>8</th>\n",
              "      <td>Satisfactory</td>\n",
              "      <td>68495</td>\n",
              "    </tr>\n",
              "    <tr>\n",
              "      <th>9</th>\n",
              "      <td>Tom Clancy's Rainbow Six® Siege</td>\n",
              "      <td>67570</td>\n",
              "    </tr>\n",
              "  </tbody>\n",
              "</table>\n",
              "</div>\n",
              "      <button class=\"colab-df-convert\" onclick=\"convertToInteractive('df-0eb1f6b0-2908-40f6-be4f-dda9e62508fb')\"\n",
              "              title=\"Convert this dataframe to an interactive table.\"\n",
              "              style=\"display:none;\">\n",
              "        \n",
              "  <svg xmlns=\"http://www.w3.org/2000/svg\" height=\"24px\"viewBox=\"0 0 24 24\"\n",
              "       width=\"24px\">\n",
              "    <path d=\"M0 0h24v24H0V0z\" fill=\"none\"/>\n",
              "    <path d=\"M18.56 5.44l.94 2.06.94-2.06 2.06-.94-2.06-.94-.94-2.06-.94 2.06-2.06.94zm-11 1L8.5 8.5l.94-2.06 2.06-.94-2.06-.94L8.5 2.5l-.94 2.06-2.06.94zm10 10l.94 2.06.94-2.06 2.06-.94-2.06-.94-.94-2.06-.94 2.06-2.06.94z\"/><path d=\"M17.41 7.96l-1.37-1.37c-.4-.4-.92-.59-1.43-.59-.52 0-1.04.2-1.43.59L10.3 9.45l-7.72 7.72c-.78.78-.78 2.05 0 2.83L4 21.41c.39.39.9.59 1.41.59.51 0 1.02-.2 1.41-.59l7.78-7.78 2.81-2.81c.8-.78.8-2.07 0-2.86zM5.41 20L4 18.59l7.72-7.72 1.47 1.35L5.41 20z\"/>\n",
              "  </svg>\n",
              "      </button>\n",
              "      \n",
              "  <style>\n",
              "    .colab-df-container {\n",
              "      display:flex;\n",
              "      flex-wrap:wrap;\n",
              "      gap: 12px;\n",
              "    }\n",
              "\n",
              "    .colab-df-convert {\n",
              "      background-color: #E8F0FE;\n",
              "      border: none;\n",
              "      border-radius: 50%;\n",
              "      cursor: pointer;\n",
              "      display: none;\n",
              "      fill: #1967D2;\n",
              "      height: 32px;\n",
              "      padding: 0 0 0 0;\n",
              "      width: 32px;\n",
              "    }\n",
              "\n",
              "    .colab-df-convert:hover {\n",
              "      background-color: #E2EBFA;\n",
              "      box-shadow: 0px 1px 2px rgba(60, 64, 67, 0.3), 0px 1px 3px 1px rgba(60, 64, 67, 0.15);\n",
              "      fill: #174EA6;\n",
              "    }\n",
              "\n",
              "    [theme=dark] .colab-df-convert {\n",
              "      background-color: #3B4455;\n",
              "      fill: #D2E3FC;\n",
              "    }\n",
              "\n",
              "    [theme=dark] .colab-df-convert:hover {\n",
              "      background-color: #434B5C;\n",
              "      box-shadow: 0px 1px 3px 1px rgba(0, 0, 0, 0.15);\n",
              "      filter: drop-shadow(0px 1px 2px rgba(0, 0, 0, 0.3));\n",
              "      fill: #FFFFFF;\n",
              "    }\n",
              "  </style>\n",
              "\n",
              "      <script>\n",
              "        const buttonEl =\n",
              "          document.querySelector('#df-0eb1f6b0-2908-40f6-be4f-dda9e62508fb button.colab-df-convert');\n",
              "        buttonEl.style.display =\n",
              "          google.colab.kernel.accessAllowed ? 'block' : 'none';\n",
              "\n",
              "        async function convertToInteractive(key) {\n",
              "          const element = document.querySelector('#df-0eb1f6b0-2908-40f6-be4f-dda9e62508fb');\n",
              "          const dataTable =\n",
              "            await google.colab.kernel.invokeFunction('convertToInteractive',\n",
              "                                                     [key], {});\n",
              "          if (!dataTable) return;\n",
              "\n",
              "          const docLinkHtml = 'Like what you see? Visit the ' +\n",
              "            '<a target=\"_blank\" href=https://colab.research.google.com/notebooks/data_table.ipynb>data table notebook</a>'\n",
              "            + ' to learn more about interactive tables.';\n",
              "          element.innerHTML = '';\n",
              "          dataTable['output_type'] = 'display_data';\n",
              "          await google.colab.output.renderOutput(dataTable, element);\n",
              "          const docLink = document.createElement('div');\n",
              "          docLink.innerHTML = docLinkHtml;\n",
              "          element.appendChild(docLink);\n",
              "        }\n",
              "      </script>\n",
              "    </div>\n",
              "  </div>\n",
              "  "
            ]
          },
          "metadata": {},
          "execution_count": 108
        }
      ],
      "source": [
        "top_game9 = top_game9.toPandas()\n",
        "top_game9.head(10)"
      ]
    },
    {
      "cell_type": "code",
      "execution_count": 109,
      "metadata": {
        "colab": {
          "base_uri": "https://localhost:8080/",
          "height": 250
        },
        "id": "PLHOwuzxGdCF",
        "outputId": "141ba002-c3f0-4ef8-e507-e2c3e98cb6c7"
      },
      "outputs": [
        {
          "output_type": "display_data",
          "data": {
            "text/plain": [
              "<Figure size 1440x504 with 1 Axes>"
            ],
            "image/png": "[encoded data removed]"
          },
          "metadata": {
            "needs_background": "light"
          }
        }
      ],
      "source": [
        "fig, ax = plt.subplots(figsize =(20,7))\n",
        "ax.bar(top_game9['title'][:10],top_game9[\"count\"][:10],width=0.7, edgecolor=\"white\", linewidth=1)\n",
        "# ax.set(xlim=(0, 8),ylim=(0, 8))\n",
        "plt.title('Top Simulation Games')\n",
        "plt.xlabel('Name of games')\n",
        "plt.ylabel('Count')\n",
        "plt.show()"
      ]
    },
    {
      "cell_type": "markdown",
      "metadata": {
        "id": "teEDAtQz_85N"
      },
      "source": [
        "### By Sandbox"
      ]
    },
    {
      "cell_type": "code",
      "execution_count": 110,
      "metadata": {
        "id": "hEfmUIPSABhk"
      },
      "outputs": [],
      "source": [
        "top_game10 = ganre_2.select('title').filter(\"col == 'Sandbox'\").groupBy(\"title\").count().orderBy(f.col('count').desc())"
      ]
    },
    {
      "cell_type": "code",
      "execution_count": 111,
      "metadata": {
        "colab": {
          "base_uri": "https://localhost:8080/"
        },
        "id": "y3g-ssfxABmR",
        "outputId": "883d0723-574e-4709-95ac-229b635d379d"
      },
      "outputs": [
        {
          "output_type": "stream",
          "name": "stdout",
          "text": [
            "+--------------------+------+\n",
            "|               title| count|\n",
            "+--------------------+------+\n",
            "|                Rust|251433|\n",
            "|        No Man's Sky|150261|\n",
            "|    Wallpaper Engine|149654|\n",
            "|  Grand Theft Auto V|148801|\n",
            "|           Fallout 4|148530|\n",
            "|Red Dead Redempti...|117967|\n",
            "|              Arma 3|115925|\n",
            "|   Hearts of Iron IV|104751|\n",
            "|        BeamNG.drive| 90970|\n",
            "|              VRChat| 87365|\n",
            "+--------------------+------+\n",
            "only showing top 10 rows\n",
            "\n"
          ]
        }
      ],
      "source": [
        "top_game10.show(10)"
      ]
    },
    {
      "cell_type": "code",
      "execution_count": 112,
      "metadata": {
        "id": "5mchWJqrHf5T",
        "colab": {
          "base_uri": "https://localhost:8080/",
          "height": 363
        },
        "outputId": "c0732bd9-d010-4b76-e57f-b246a28f904b"
      },
      "outputs": [
        {
          "output_type": "execute_result",
          "data": {
            "text/plain": [
              "                   title   count\n",
              "0                   Rust  251433\n",
              "1           No Man's Sky  150261\n",
              "2       Wallpaper Engine  149654\n",
              "3     Grand Theft Auto V  148801\n",
              "4              Fallout 4  148530\n",
              "5  Red Dead Redemption 2  117967\n",
              "6                 Arma 3  115925\n",
              "7      Hearts of Iron IV  104751\n",
              "8           BeamNG.drive   90970\n",
              "9                 VRChat   87365"
            ],
            "text/html": [
              "\n",
              "  <div id=\"df-09825853-9ace-46d1-a7a5-ddb200b4efcd\">\n",
              "    <div class=\"colab-df-container\">\n",
              "      <div>\n",
              "<style scoped>\n",
              "    .dataframe tbody tr th:only-of-type {\n",
              "        vertical-align: middle;\n",
              "    }\n",
              "\n",
              "    .dataframe tbody tr th {\n",
              "        vertical-align: top;\n",
              "    }\n",
              "\n",
              "    .dataframe thead th {\n",
              "        text-align: right;\n",
              "    }\n",
              "</style>\n",
              "<table border=\"1\" class=\"dataframe\">\n",
              "  <thead>\n",
              "    <tr style=\"text-align: right;\">\n",
              "      <th></th>\n",
              "      <th>title</th>\n",
              "      <th>count</th>\n",
              "    </tr>\n",
              "  </thead>\n",
              "  <tbody>\n",
              "    <tr>\n",
              "      <th>0</th>\n",
              "      <td>Rust</td>\n",
              "      <td>251433</td>\n",
              "    </tr>\n",
              "    <tr>\n",
              "      <th>1</th>\n",
              "      <td>No Man's Sky</td>\n",
              "      <td>150261</td>\n",
              "    </tr>\n",
              "    <tr>\n",
              "      <th>2</th>\n",
              "      <td>Wallpaper Engine</td>\n",
              "      <td>149654</td>\n",
              "    </tr>\n",
              "    <tr>\n",
              "      <th>3</th>\n",
              "      <td>Grand Theft Auto V</td>\n",
              "      <td>148801</td>\n",
              "    </tr>\n",
              "    <tr>\n",
              "      <th>4</th>\n",
              "      <td>Fallout 4</td>\n",
              "      <td>148530</td>\n",
              "    </tr>\n",
              "    <tr>\n",
              "      <th>5</th>\n",
              "      <td>Red Dead Redemption 2</td>\n",
              "      <td>117967</td>\n",
              "    </tr>\n",
              "    <tr>\n",
              "      <th>6</th>\n",
              "      <td>Arma 3</td>\n",
              "      <td>115925</td>\n",
              "    </tr>\n",
              "    <tr>\n",
              "      <th>7</th>\n",
              "      <td>Hearts of Iron IV</td>\n",
              "      <td>104751</td>\n",
              "    </tr>\n",
              "    <tr>\n",
              "      <th>8</th>\n",
              "      <td>BeamNG.drive</td>\n",
              "      <td>90970</td>\n",
              "    </tr>\n",
              "    <tr>\n",
              "      <th>9</th>\n",
              "      <td>VRChat</td>\n",
              "      <td>87365</td>\n",
              "    </tr>\n",
              "  </tbody>\n",
              "</table>\n",
              "</div>\n",
              "      <button class=\"colab-df-convert\" onclick=\"convertToInteractive('df-09825853-9ace-46d1-a7a5-ddb200b4efcd')\"\n",
              "              title=\"Convert this dataframe to an interactive table.\"\n",
              "              style=\"display:none;\">\n",
              "        \n",
              "  <svg xmlns=\"http://www.w3.org/2000/svg\" height=\"24px\"viewBox=\"0 0 24 24\"\n",
              "       width=\"24px\">\n",
              "    <path d=\"M0 0h24v24H0V0z\" fill=\"none\"/>\n",
              "    <path d=\"M18.56 5.44l.94 2.06.94-2.06 2.06-.94-2.06-.94-.94-2.06-.94 2.06-2.06.94zm-11 1L8.5 8.5l.94-2.06 2.06-.94-2.06-.94L8.5 2.5l-.94 2.06-2.06.94zm10 10l.94 2.06.94-2.06 2.06-.94-2.06-.94-.94-2.06-.94 2.06-2.06.94z\"/><path d=\"M17.41 7.96l-1.37-1.37c-.4-.4-.92-.59-1.43-.59-.52 0-1.04.2-1.43.59L10.3 9.45l-7.72 7.72c-.78.78-.78 2.05 0 2.83L4 21.41c.39.39.9.59 1.41.59.51 0 1.02-.2 1.41-.59l7.78-7.78 2.81-2.81c.8-.78.8-2.07 0-2.86zM5.41 20L4 18.59l7.72-7.72 1.47 1.35L5.41 20z\"/>\n",
              "  </svg>\n",
              "      </button>\n",
              "      \n",
              "  <style>\n",
              "    .colab-df-container {\n",
              "      display:flex;\n",
              "      flex-wrap:wrap;\n",
              "      gap: 12px;\n",
              "    }\n",
              "\n",
              "    .colab-df-convert {\n",
              "      background-color: #E8F0FE;\n",
              "      border: none;\n",
              "      border-radius: 50%;\n",
              "      cursor: pointer;\n",
              "      display: none;\n",
              "      fill: #1967D2;\n",
              "      height: 32px;\n",
              "      padding: 0 0 0 0;\n",
              "      width: 32px;\n",
              "    }\n",
              "\n",
              "    .colab-df-convert:hover {\n",
              "      background-color: #E2EBFA;\n",
              "      box-shadow: 0px 1px 2px rgba(60, 64, 67, 0.3), 0px 1px 3px 1px rgba(60, 64, 67, 0.15);\n",
              "      fill: #174EA6;\n",
              "    }\n",
              "\n",
              "    [theme=dark] .colab-df-convert {\n",
              "      background-color: #3B4455;\n",
              "      fill: #D2E3FC;\n",
              "    }\n",
              "\n",
              "    [theme=dark] .colab-df-convert:hover {\n",
              "      background-color: #434B5C;\n",
              "      box-shadow: 0px 1px 3px 1px rgba(0, 0, 0, 0.15);\n",
              "      filter: drop-shadow(0px 1px 2px rgba(0, 0, 0, 0.3));\n",
              "      fill: #FFFFFF;\n",
              "    }\n",
              "  </style>\n",
              "\n",
              "      <script>\n",
              "        const buttonEl =\n",
              "          document.querySelector('#df-09825853-9ace-46d1-a7a5-ddb200b4efcd button.colab-df-convert');\n",
              "        buttonEl.style.display =\n",
              "          google.colab.kernel.accessAllowed ? 'block' : 'none';\n",
              "\n",
              "        async function convertToInteractive(key) {\n",
              "          const element = document.querySelector('#df-09825853-9ace-46d1-a7a5-ddb200b4efcd');\n",
              "          const dataTable =\n",
              "            await google.colab.kernel.invokeFunction('convertToInteractive',\n",
              "                                                     [key], {});\n",
              "          if (!dataTable) return;\n",
              "\n",
              "          const docLinkHtml = 'Like what you see? Visit the ' +\n",
              "            '<a target=\"_blank\" href=https://colab.research.google.com/notebooks/data_table.ipynb>data table notebook</a>'\n",
              "            + ' to learn more about interactive tables.';\n",
              "          element.innerHTML = '';\n",
              "          dataTable['output_type'] = 'display_data';\n",
              "          await google.colab.output.renderOutput(dataTable, element);\n",
              "          const docLink = document.createElement('div');\n",
              "          docLink.innerHTML = docLinkHtml;\n",
              "          element.appendChild(docLink);\n",
              "        }\n",
              "      </script>\n",
              "    </div>\n",
              "  </div>\n",
              "  "
            ]
          },
          "metadata": {},
          "execution_count": 112
        }
      ],
      "source": [
        "top_game10 = top_game10.toPandas()\n",
        "top_game10.head(10)"
      ]
    },
    {
      "cell_type": "code",
      "execution_count": 113,
      "metadata": {
        "id": "w0-gdPADHmw3",
        "colab": {
          "base_uri": "https://localhost:8080/",
          "height": 250
        },
        "outputId": "6a4b6c34-f5a8-4ad7-fa0c-7a6636205c6f"
      },
      "outputs": [
        {
          "output_type": "display_data",
          "data": {
            "text/plain": [
              "<Figure size 1440x504 with 1 Axes>"
            ],
            "image/png": "[encoded data removed]"
          },
          "metadata": {
            "needs_background": "light"
          }
        }
      ],
      "source": [
        "fig, ax = plt.subplots(figsize =(20,7))\n",
        "ax.bar(top_game10['title'][:10],top_game10[\"count\"][:10],width=0.7, edgecolor=\"white\", linewidth=1)\n",
        "# ax.set(xlim=(0, 8),ylim=(0, 8))\n",
        "plt.title('Top Sandbox Games')\n",
        "plt.xlabel('Name of games')\n",
        "plt.ylabel('Count')\n",
        "plt.show()"
      ]
    },
    {
      "cell_type": "markdown",
      "metadata": {
        "id": "7T5APY61jF_w"
      },
      "source": [
        "## ----Top user by time----"
      ]
    },
    {
      "cell_type": "code",
      "execution_count": 114,
      "metadata": {
        "id": "U1I_-0Wj6V8X"
      },
      "outputs": [],
      "source": [
        "trend = all_data.groupBy(\"title\",'date_release').count().orderBy(f.col('count').desc())"
      ]
    },
    {
      "cell_type": "code",
      "execution_count": 115,
      "metadata": {
        "id": "g3Efj0_Y6aT8",
        "colab": {
          "base_uri": "https://localhost:8080/"
        },
        "outputId": "b6755b45-4844-403a-9dee-f8a7787c4842"
      },
      "outputs": [
        {
          "output_type": "stream",
          "name": "stdout",
          "text": [
            "+--------------------+------------+------+\n",
            "|               title|date_release| count|\n",
            "+--------------------+------------+------+\n",
            "|                Rust|  2018-02-08|251433|\n",
            "|Counter-Strike: G...|  2012-08-21|172407|\n",
            "|        No Man's Sky|  2016-08-12|150261|\n",
            "|    Wallpaper Engine|  2018-11-01|149654|\n",
            "|  Grand Theft Auto V|  2015-04-13|148801|\n",
            "|           Fallout 4|  2015-11-09|148530|\n",
            "|Call of Duty®: Mo...|  2022-10-27|131361|\n",
            "|Red Dead Redempti...|  2019-12-05|117967|\n",
            "|              Arma 3|  2013-09-12|115925|\n",
            "|       Path of Exile|  2013-10-23|111576|\n",
            "+--------------------+------------+------+\n",
            "only showing top 10 rows\n",
            "\n"
          ]
        }
      ],
      "source": [
        "trend.show(10)"
      ]
    },
    {
      "cell_type": "code",
      "execution_count": 116,
      "metadata": {
        "id": "F8RepvqYIx1F",
        "colab": {
          "base_uri": "https://localhost:8080/",
          "height": 363
        },
        "outputId": "7558210b-8be8-4ec1-ed21-d9c8aa36ab8c"
      },
      "outputs": [
        {
          "output_type": "execute_result",
          "data": {
            "text/plain": [
              "                               title date_release   count\n",
              "0                               Rust   2018-02-08  251433\n",
              "1   Counter-Strike: Global Offensive   2012-08-21  172407\n",
              "2                       No Man's Sky   2016-08-12  150261\n",
              "3                   Wallpaper Engine   2018-11-01  149654\n",
              "4                 Grand Theft Auto V   2015-04-13  148801\n",
              "5                          Fallout 4   2015-11-09  148530\n",
              "6  Call of Duty®: Modern Warfare® II   2022-10-27  131361\n",
              "7              Red Dead Redemption 2   2019-12-05  117967\n",
              "8                             Arma 3   2013-09-12  115925\n",
              "9                      Path of Exile   2013-10-23  111576"
            ],
            "text/html": [
              "\n",
              "  <div id=\"df-05ded1d1-ac32-4183-a6c8-7e064b14f74a\">\n",
              "    <div class=\"colab-df-container\">\n",
              "      <div>\n",
              "<style scoped>\n",
              "    .dataframe tbody tr th:only-of-type {\n",
              "        vertical-align: middle;\n",
              "    }\n",
              "\n",
              "    .dataframe tbody tr th {\n",
              "        vertical-align: top;\n",
              "    }\n",
              "\n",
              "    .dataframe thead th {\n",
              "        text-align: right;\n",
              "    }\n",
              "</style>\n",
              "<table border=\"1\" class=\"dataframe\">\n",
              "  <thead>\n",
              "    <tr style=\"text-align: right;\">\n",
              "      <th></th>\n",
              "      <th>title</th>\n",
              "      <th>date_release</th>\n",
              "      <th>count</th>\n",
              "    </tr>\n",
              "  </thead>\n",
              "  <tbody>\n",
              "    <tr>\n",
              "      <th>0</th>\n",
              "      <td>Rust</td>\n",
              "      <td>2018-02-08</td>\n",
              "      <td>251433</td>\n",
              "    </tr>\n",
              "    <tr>\n",
              "      <th>1</th>\n",
              "      <td>Counter-Strike: Global Offensive</td>\n",
              "      <td>2012-08-21</td>\n",
              "      <td>172407</td>\n",
              "    </tr>\n",
              "    <tr>\n",
              "      <th>2</th>\n",
              "      <td>No Man's Sky</td>\n",
              "      <td>2016-08-12</td>\n",
              "      <td>150261</td>\n",
              "    </tr>\n",
              "    <tr>\n",
              "      <th>3</th>\n",
              "      <td>Wallpaper Engine</td>\n",
              "      <td>2018-11-01</td>\n",
              "      <td>149654</td>\n",
              "    </tr>\n",
              "    <tr>\n",
              "      <th>4</th>\n",
              "      <td>Grand Theft Auto V</td>\n",
              "      <td>2015-04-13</td>\n",
              "      <td>148801</td>\n",
              "    </tr>\n",
              "    <tr>\n",
              "      <th>5</th>\n",
              "      <td>Fallout 4</td>\n",
              "      <td>2015-11-09</td>\n",
              "      <td>148530</td>\n",
              "    </tr>\n",
              "    <tr>\n",
              "      <th>6</th>\n",
              "      <td>Call of Duty®: Modern Warfare® II</td>\n",
              "      <td>2022-10-27</td>\n",
              "      <td>131361</td>\n",
              "    </tr>\n",
              "    <tr>\n",
              "      <th>7</th>\n",
              "      <td>Red Dead Redemption 2</td>\n",
              "      <td>2019-12-05</td>\n",
              "      <td>117967</td>\n",
              "    </tr>\n",
              "    <tr>\n",
              "      <th>8</th>\n",
              "      <td>Arma 3</td>\n",
              "      <td>2013-09-12</td>\n",
              "      <td>115925</td>\n",
              "    </tr>\n",
              "    <tr>\n",
              "      <th>9</th>\n",
              "      <td>Path of Exile</td>\n",
              "      <td>2013-10-23</td>\n",
              "      <td>111576</td>\n",
              "    </tr>\n",
              "  </tbody>\n",
              "</table>\n",
              "</div>\n",
              "      <button class=\"colab-df-convert\" onclick=\"convertToInteractive('df-05ded1d1-ac32-4183-a6c8-7e064b14f74a')\"\n",
              "              title=\"Convert this dataframe to an interactive table.\"\n",
              "              style=\"display:none;\">\n",
              "        \n",
              "  <svg xmlns=\"http://www.w3.org/2000/svg\" height=\"24px\"viewBox=\"0 0 24 24\"\n",
              "       width=\"24px\">\n",
              "    <path d=\"M0 0h24v24H0V0z\" fill=\"none\"/>\n",
              "    <path d=\"M18.56 5.44l.94 2.06.94-2.06 2.06-.94-2.06-.94-.94-2.06-.94 2.06-2.06.94zm-11 1L8.5 8.5l.94-2.06 2.06-.94-2.06-.94L8.5 2.5l-.94 2.06-2.06.94zm10 10l.94 2.06.94-2.06 2.06-.94-2.06-.94-.94-2.06-.94 2.06-2.06.94z\"/><path d=\"M17.41 7.96l-1.37-1.37c-.4-.4-.92-.59-1.43-.59-.52 0-1.04.2-1.43.59L10.3 9.45l-7.72 7.72c-.78.78-.78 2.05 0 2.83L4 21.41c.39.39.9.59 1.41.59.51 0 1.02-.2 1.41-.59l7.78-7.78 2.81-2.81c.8-.78.8-2.07 0-2.86zM5.41 20L4 18.59l7.72-7.72 1.47 1.35L5.41 20z\"/>\n",
              "  </svg>\n",
              "      </button>\n",
              "      \n",
              "  <style>\n",
              "    .colab-df-container {\n",
              "      display:flex;\n",
              "      flex-wrap:wrap;\n",
              "      gap: 12px;\n",
              "    }\n",
              "\n",
              "    .colab-df-convert {\n",
              "      background-color: #E8F0FE;\n",
              "      border: none;\n",
              "      border-radius: 50%;\n",
              "      cursor: pointer;\n",
              "      display: none;\n",
              "      fill: #1967D2;\n",
              "      height: 32px;\n",
              "      padding: 0 0 0 0;\n",
              "      width: 32px;\n",
              "    }\n",
              "\n",
              "    .colab-df-convert:hover {\n",
              "      background-color: #E2EBFA;\n",
              "      box-shadow: 0px 1px 2px rgba(60, 64, 67, 0.3), 0px 1px 3px 1px rgba(60, 64, 67, 0.15);\n",
              "      fill: #174EA6;\n",
              "    }\n",
              "\n",
              "    [theme=dark] .colab-df-convert {\n",
              "      background-color: #3B4455;\n",
              "      fill: #D2E3FC;\n",
              "    }\n",
              "\n",
              "    [theme=dark] .colab-df-convert:hover {\n",
              "      background-color: #434B5C;\n",
              "      box-shadow: 0px 1px 3px 1px rgba(0, 0, 0, 0.15);\n",
              "      filter: drop-shadow(0px 1px 2px rgba(0, 0, 0, 0.3));\n",
              "      fill: #FFFFFF;\n",
              "    }\n",
              "  </style>\n",
              "\n",
              "      <script>\n",
              "        const buttonEl =\n",
              "          document.querySelector('#df-05ded1d1-ac32-4183-a6c8-7e064b14f74a button.colab-df-convert');\n",
              "        buttonEl.style.display =\n",
              "          google.colab.kernel.accessAllowed ? 'block' : 'none';\n",
              "\n",
              "        async function convertToInteractive(key) {\n",
              "          const element = document.querySelector('#df-05ded1d1-ac32-4183-a6c8-7e064b14f74a');\n",
              "          const dataTable =\n",
              "            await google.colab.kernel.invokeFunction('convertToInteractive',\n",
              "                                                     [key], {});\n",
              "          if (!dataTable) return;\n",
              "\n",
              "          const docLinkHtml = 'Like what you see? Visit the ' +\n",
              "            '<a target=\"_blank\" href=https://colab.research.google.com/notebooks/data_table.ipynb>data table notebook</a>'\n",
              "            + ' to learn more about interactive tables.';\n",
              "          element.innerHTML = '';\n",
              "          dataTable['output_type'] = 'display_data';\n",
              "          await google.colab.output.renderOutput(dataTable, element);\n",
              "          const docLink = document.createElement('div');\n",
              "          docLink.innerHTML = docLinkHtml;\n",
              "          element.appendChild(docLink);\n",
              "        }\n",
              "      </script>\n",
              "    </div>\n",
              "  </div>\n",
              "  "
            ]
          },
          "metadata": {},
          "execution_count": 116
        }
      ],
      "source": [
        "trend = trend.toPandas()\n",
        "trend.head(10)"
      ]
    },
    {
      "cell_type": "code",
      "execution_count": 117,
      "metadata": {
        "id": "LelDzYhVKW8x",
        "colab": {
          "base_uri": "https://localhost:8080/",
          "height": 250
        },
        "outputId": "948b1d3e-c3a3-4b5b-ae14-4e4c1f042ade"
      },
      "outputs": [
        {
          "output_type": "display_data",
          "data": {
            "text/plain": [
              "<Figure size 1440x504 with 1 Axes>"
            ],
            "image/png": "[encoded data removed]"
          },
          "metadata": {
            "needs_background": "light"
          }
        }
      ],
      "source": [
        "fig, ax = plt.subplots(figsize =(20,7))\n",
        "ax.bar(trend['title'][:10],trend[\"count\"][:10],width=0.7, edgecolor=\"white\", linewidth=1)\n",
        "# ax.set(xlim=(0, 8),ylim=(0, 8))\n",
        "plt.title('All time')\n",
        "plt.xlabel('Name of games')\n",
        "plt.ylabel('Count')\n",
        "plt.show()"
      ]
    },
    {
      "cell_type": "markdown",
      "metadata": {
        "id": "rhunDAP9pR5D"
      },
      "source": [
        "### Before 2000's\n"
      ]
    },
    {
      "cell_type": "code",
      "execution_count": 118,
      "metadata": {
        "id": "4jJCJU5Ojnvq"
      },
      "outputs": [],
      "source": [
        "trend1 = all_data.filter((f.year('date_release') < lit('2000'))).groupBy(\"title\",'date_release').count().orderBy(f.col('count').desc())"
      ]
    },
    {
      "cell_type": "code",
      "execution_count": 119,
      "metadata": {
        "id": "TLfS1R2iog-N",
        "colab": {
          "base_uri": "https://localhost:8080/"
        },
        "outputId": "996b48d1-2c85-4165-f77c-2c4dfd61fa07"
      },
      "outputs": [
        {
          "output_type": "stream",
          "name": "stdout",
          "text": [
            "+--------------------+------------+-----+\n",
            "|               title|date_release|count|\n",
            "+--------------------+------------+-----+\n",
            "|           Half-Life|  1998-11-08|41466|\n",
            "|Carmageddon Max Pack|  1997-06-30|    1|\n",
            "|Team Fortress Cla...|  1999-04-01|    1|\n",
            "|Legacy of Kain: S...|  1999-09-08|    1|\n",
            "|              POSTAL|  1997-11-14|    1|\n",
            "|Half-Life: Opposi...|  1999-11-01|    1|\n",
            "+--------------------+------------+-----+\n",
            "\n"
          ]
        }
      ],
      "source": [
        "trend1.show()"
      ]
    },
    {
      "cell_type": "code",
      "execution_count": 120,
      "metadata": {
        "id": "6GJN6t7HLsfm",
        "colab": {
          "base_uri": "https://localhost:8080/",
          "height": 238
        },
        "outputId": "55329238-be3f-4db3-a122-a208bf06fa49"
      },
      "outputs": [
        {
          "output_type": "execute_result",
          "data": {
            "text/plain": [
              "                         title date_release  count\n",
              "0                    Half-Life   1998-11-08  41466\n",
              "1         Carmageddon Max Pack   1997-06-30      1\n",
              "2  Legacy of Kain: Soul Reaver   1999-09-08      1\n",
              "3        Team Fortress Classic   1999-04-01      1\n",
              "4                       POSTAL   1997-11-14      1\n",
              "5    Half-Life: Opposing Force   1999-11-01      1"
            ],
            "text/html": [
              "\n",
              "  <div id=\"df-5c5fa20a-e9ff-41c5-bf17-fe81453fcf15\">\n",
              "    <div class=\"colab-df-container\">\n",
              "      <div>\n",
              "<style scoped>\n",
              "    .dataframe tbody tr th:only-of-type {\n",
              "        vertical-align: middle;\n",
              "    }\n",
              "\n",
              "    .dataframe tbody tr th {\n",
              "        vertical-align: top;\n",
              "    }\n",
              "\n",
              "    .dataframe thead th {\n",
              "        text-align: right;\n",
              "    }\n",
              "</style>\n",
              "<table border=\"1\" class=\"dataframe\">\n",
              "  <thead>\n",
              "    <tr style=\"text-align: right;\">\n",
              "      <th></th>\n",
              "      <th>title</th>\n",
              "      <th>date_release</th>\n",
              "      <th>count</th>\n",
              "    </tr>\n",
              "  </thead>\n",
              "  <tbody>\n",
              "    <tr>\n",
              "      <th>0</th>\n",
              "      <td>Half-Life</td>\n",
              "      <td>1998-11-08</td>\n",
              "      <td>41466</td>\n",
              "    </tr>\n",
              "    <tr>\n",
              "      <th>1</th>\n",
              "      <td>Carmageddon Max Pack</td>\n",
              "      <td>1997-06-30</td>\n",
              "      <td>1</td>\n",
              "    </tr>\n",
              "    <tr>\n",
              "      <th>2</th>\n",
              "      <td>Legacy of Kain: Soul Reaver</td>\n",
              "      <td>1999-09-08</td>\n",
              "      <td>1</td>\n",
              "    </tr>\n",
              "    <tr>\n",
              "      <th>3</th>\n",
              "      <td>Team Fortress Classic</td>\n",
              "      <td>1999-04-01</td>\n",
              "      <td>1</td>\n",
              "    </tr>\n",
              "    <tr>\n",
              "      <th>4</th>\n",
              "      <td>POSTAL</td>\n",
              "      <td>1997-11-14</td>\n",
              "      <td>1</td>\n",
              "    </tr>\n",
              "    <tr>\n",
              "      <th>5</th>\n",
              "      <td>Half-Life: Opposing Force</td>\n",
              "      <td>1999-11-01</td>\n",
              "      <td>1</td>\n",
              "    </tr>\n",
              "  </tbody>\n",
              "</table>\n",
              "</div>\n",
              "      <button class=\"colab-df-convert\" onclick=\"convertToInteractive('df-5c5fa20a-e9ff-41c5-bf17-fe81453fcf15')\"\n",
              "              title=\"Convert this dataframe to an interactive table.\"\n",
              "              style=\"display:none;\">\n",
              "        \n",
              "  <svg xmlns=\"http://www.w3.org/2000/svg\" height=\"24px\"viewBox=\"0 0 24 24\"\n",
              "       width=\"24px\">\n",
              "    <path d=\"M0 0h24v24H0V0z\" fill=\"none\"/>\n",
              "    <path d=\"M18.56 5.44l.94 2.06.94-2.06 2.06-.94-2.06-.94-.94-2.06-.94 2.06-2.06.94zm-11 1L8.5 8.5l.94-2.06 2.06-.94-2.06-.94L8.5 2.5l-.94 2.06-2.06.94zm10 10l.94 2.06.94-2.06 2.06-.94-2.06-.94-.94-2.06-.94 2.06-2.06.94z\"/><path d=\"M17.41 7.96l-1.37-1.37c-.4-.4-.92-.59-1.43-.59-.52 0-1.04.2-1.43.59L10.3 9.45l-7.72 7.72c-.78.78-.78 2.05 0 2.83L4 21.41c.39.39.9.59 1.41.59.51 0 1.02-.2 1.41-.59l7.78-7.78 2.81-2.81c.8-.78.8-2.07 0-2.86zM5.41 20L4 18.59l7.72-7.72 1.47 1.35L5.41 20z\"/>\n",
              "  </svg>\n",
              "      </button>\n",
              "      \n",
              "  <style>\n",
              "    .colab-df-container {\n",
              "      display:flex;\n",
              "      flex-wrap:wrap;\n",
              "      gap: 12px;\n",
              "    }\n",
              "\n",
              "    .colab-df-convert {\n",
              "      background-color: #E8F0FE;\n",
              "      border: none;\n",
              "      border-radius: 50%;\n",
              "      cursor: pointer;\n",
              "      display: none;\n",
              "      fill: #1967D2;\n",
              "      height: 32px;\n",
              "      padding: 0 0 0 0;\n",
              "      width: 32px;\n",
              "    }\n",
              "\n",
              "    .colab-df-convert:hover {\n",
              "      background-color: #E2EBFA;\n",
              "      box-shadow: 0px 1px 2px rgba(60, 64, 67, 0.3), 0px 1px 3px 1px rgba(60, 64, 67, 0.15);\n",
              "      fill: #174EA6;\n",
              "    }\n",
              "\n",
              "    [theme=dark] .colab-df-convert {\n",
              "      background-color: #3B4455;\n",
              "      fill: #D2E3FC;\n",
              "    }\n",
              "\n",
              "    [theme=dark] .colab-df-convert:hover {\n",
              "      background-color: #434B5C;\n",
              "      box-shadow: 0px 1px 3px 1px rgba(0, 0, 0, 0.15);\n",
              "      filter: drop-shadow(0px 1px 2px rgba(0, 0, 0, 0.3));\n",
              "      fill: #FFFFFF;\n",
              "    }\n",
              "  </style>\n",
              "\n",
              "      <script>\n",
              "        const buttonEl =\n",
              "          document.querySelector('#df-5c5fa20a-e9ff-41c5-bf17-fe81453fcf15 button.colab-df-convert');\n",
              "        buttonEl.style.display =\n",
              "          google.colab.kernel.accessAllowed ? 'block' : 'none';\n",
              "\n",
              "        async function convertToInteractive(key) {\n",
              "          const element = document.querySelector('#df-5c5fa20a-e9ff-41c5-bf17-fe81453fcf15');\n",
              "          const dataTable =\n",
              "            await google.colab.kernel.invokeFunction('convertToInteractive',\n",
              "                                                     [key], {});\n",
              "          if (!dataTable) return;\n",
              "\n",
              "          const docLinkHtml = 'Like what you see? Visit the ' +\n",
              "            '<a target=\"_blank\" href=https://colab.research.google.com/notebooks/data_table.ipynb>data table notebook</a>'\n",
              "            + ' to learn more about interactive tables.';\n",
              "          element.innerHTML = '';\n",
              "          dataTable['output_type'] = 'display_data';\n",
              "          await google.colab.output.renderOutput(dataTable, element);\n",
              "          const docLink = document.createElement('div');\n",
              "          docLink.innerHTML = docLinkHtml;\n",
              "          element.appendChild(docLink);\n",
              "        }\n",
              "      </script>\n",
              "    </div>\n",
              "  </div>\n",
              "  "
            ]
          },
          "metadata": {},
          "execution_count": 120
        }
      ],
      "source": [
        "trend1= trend1.toPandas()\n",
        "trend1.head(10)"
      ]
    },
    {
      "cell_type": "code",
      "execution_count": 121,
      "metadata": {
        "id": "NYnolBY3LwZL",
        "colab": {
          "base_uri": "https://localhost:8080/",
          "height": 324
        },
        "outputId": "67d5ac64-3e98-4590-c1a3-0f281474e464"
      },
      "outputs": [
        {
          "output_type": "display_data",
          "data": {
            "text/plain": [
              "<Figure size 1080x504 with 1 Axes>"
            ],
            "image/png": "[encoded data removed]"
          },
          "metadata": {
            "needs_background": "light"
          }
        }
      ],
      "source": [
        "fig, ax = plt.subplots(figsize =(15,7))\n",
        "ax.bar(trend1['title'][:10],trend1[\"count\"][:10],width=0.7, edgecolor=\"white\", linewidth=1)\n",
        "# ax.set(xlim=(0, 8),ylim=(0, 8))\n",
        "plt.title(\"Before 2000's\")\n",
        "plt.xlabel('Name of games')\n",
        "plt.ylabel('Count')\n",
        "plt.show()"
      ]
    },
    {
      "cell_type": "markdown",
      "metadata": {
        "id": "-JXQpntrpbC0"
      },
      "source": [
        "### 2000's - 2010's\n"
      ]
    },
    {
      "cell_type": "code",
      "execution_count": 122,
      "metadata": {
        "id": "ecfceUAKpgw0"
      },
      "outputs": [],
      "source": [
        "trend2 = all_data.filter((f.year('date_release') > lit('2000')) &(f.year('date_release') <= lit('2010'))).groupBy(\"title\",'date_release').count().orderBy(f.col('count').desc())"
      ]
    },
    {
      "cell_type": "code",
      "execution_count": 123,
      "metadata": {
        "id": "Az_t3Nxz1G6n",
        "colab": {
          "base_uri": "https://localhost:8080/"
        },
        "outputId": "21512fc0-c429-49ed-bd1b-015f9bbfd4ce"
      },
      "outputs": [
        {
          "output_type": "stream",
          "name": "stdout",
          "text": [
            "+--------------------+------------+-----+\n",
            "|               title|date_release|count|\n",
            "+--------------------+------------+-----+\n",
            "|         Garry's Mod|  2006-11-29|35198|\n",
            "|  Fallout: New Vegas|  2010-10-19|18487|\n",
            "|Call of Duty®: Bl...|  2010-11-09|18359|\n",
            "|The Elder Scrolls...|  2009-06-16|18021|\n",
            "|Sid Meier's Civil...|  2010-09-21|17827|\n",
            "|Fallout 3: Game o...|  2009-12-17|17673|\n",
            "|The Elder Scrolls...|  2009-06-16|16139|\n",
            "|S.T.A.L.K.E.R.: S...|  2007-03-20|12904|\n",
            "|   Dead Space (2008)|  2009-01-09|12548|\n",
            "|     Resident Evil 5|  2009-09-15|11558|\n",
            "+--------------------+------------+-----+\n",
            "only showing top 10 rows\n",
            "\n"
          ]
        }
      ],
      "source": [
        "trend2.show(10)"
      ]
    },
    {
      "cell_type": "code",
      "execution_count": 124,
      "metadata": {
        "id": "kgjrUVPbL-3U",
        "colab": {
          "base_uri": "https://localhost:8080/",
          "height": 363
        },
        "outputId": "60c5dd07-386b-4554-fb88-4e7953533553"
      },
      "outputs": [
        {
          "output_type": "execute_result",
          "data": {
            "text/plain": [
              "                                               title date_release  count\n",
              "0                                        Garry's Mod   2006-11-29  35198\n",
              "1                                 Fallout: New Vegas   2010-10-19  18487\n",
              "2                           Call of Duty®: Black Ops   2010-11-09  18359\n",
              "3  The Elder Scrolls IV: Oblivion® Game of the Ye...   2009-06-16  18021\n",
              "4                        Sid Meier's Civilization® V   2010-09-21  17827\n",
              "5                Fallout 3: Game of the Year Edition   2009-12-17  17673\n",
              "6  The Elder Scrolls III: Morrowind® Game of the ...   2009-06-16  16139\n",
              "7                S.T.A.L.K.E.R.: Shadow of Chernobyl   2007-03-20  12904\n",
              "8                                  Dead Space (2008)   2009-01-09  12548\n",
              "9                                    Resident Evil 5   2009-09-15  11558"
            ],
            "text/html": [
              "\n",
              "  <div id=\"df-8fc2bcc4-4ef1-4723-b864-9b6e7807d4cf\">\n",
              "    <div class=\"colab-df-container\">\n",
              "      <div>\n",
              "<style scoped>\n",
              "    .dataframe tbody tr th:only-of-type {\n",
              "        vertical-align: middle;\n",
              "    }\n",
              "\n",
              "    .dataframe tbody tr th {\n",
              "        vertical-align: top;\n",
              "    }\n",
              "\n",
              "    .dataframe thead th {\n",
              "        text-align: right;\n",
              "    }\n",
              "</style>\n",
              "<table border=\"1\" class=\"dataframe\">\n",
              "  <thead>\n",
              "    <tr style=\"text-align: right;\">\n",
              "      <th></th>\n",
              "      <th>title</th>\n",
              "      <th>date_release</th>\n",
              "      <th>count</th>\n",
              "    </tr>\n",
              "  </thead>\n",
              "  <tbody>\n",
              "    <tr>\n",
              "      <th>0</th>\n",
              "      <td>Garry's Mod</td>\n",
              "      <td>2006-11-29</td>\n",
              "      <td>35198</td>\n",
              "    </tr>\n",
              "    <tr>\n",
              "      <th>1</th>\n",
              "      <td>Fallout: New Vegas</td>\n",
              "      <td>2010-10-19</td>\n",
              "      <td>18487</td>\n",
              "    </tr>\n",
              "    <tr>\n",
              "      <th>2</th>\n",
              "      <td>Call of Duty®: Black Ops</td>\n",
              "      <td>2010-11-09</td>\n",
              "      <td>18359</td>\n",
              "    </tr>\n",
              "    <tr>\n",
              "      <th>3</th>\n",
              "      <td>The Elder Scrolls IV: Oblivion® Game of the Ye...</td>\n",
              "      <td>2009-06-16</td>\n",
              "      <td>18021</td>\n",
              "    </tr>\n",
              "    <tr>\n",
              "      <th>4</th>\n",
              "      <td>Sid Meier's Civilization® V</td>\n",
              "      <td>2010-09-21</td>\n",
              "      <td>17827</td>\n",
              "    </tr>\n",
              "    <tr>\n",
              "      <th>5</th>\n",
              "      <td>Fallout 3: Game of the Year Edition</td>\n",
              "      <td>2009-12-17</td>\n",
              "      <td>17673</td>\n",
              "    </tr>\n",
              "    <tr>\n",
              "      <th>6</th>\n",
              "      <td>The Elder Scrolls III: Morrowind® Game of the ...</td>\n",
              "      <td>2009-06-16</td>\n",
              "      <td>16139</td>\n",
              "    </tr>\n",
              "    <tr>\n",
              "      <th>7</th>\n",
              "      <td>S.T.A.L.K.E.R.: Shadow of Chernobyl</td>\n",
              "      <td>2007-03-20</td>\n",
              "      <td>12904</td>\n",
              "    </tr>\n",
              "    <tr>\n",
              "      <th>8</th>\n",
              "      <td>Dead Space (2008)</td>\n",
              "      <td>2009-01-09</td>\n",
              "      <td>12548</td>\n",
              "    </tr>\n",
              "    <tr>\n",
              "      <th>9</th>\n",
              "      <td>Resident Evil 5</td>\n",
              "      <td>2009-09-15</td>\n",
              "      <td>11558</td>\n",
              "    </tr>\n",
              "  </tbody>\n",
              "</table>\n",
              "</div>\n",
              "      <button class=\"colab-df-convert\" onclick=\"convertToInteractive('df-8fc2bcc4-4ef1-4723-b864-9b6e7807d4cf')\"\n",
              "              title=\"Convert this dataframe to an interactive table.\"\n",
              "              style=\"display:none;\">\n",
              "        \n",
              "  <svg xmlns=\"http://www.w3.org/2000/svg\" height=\"24px\"viewBox=\"0 0 24 24\"\n",
              "       width=\"24px\">\n",
              "    <path d=\"M0 0h24v24H0V0z\" fill=\"none\"/>\n",
              "    <path d=\"M18.56 5.44l.94 2.06.94-2.06 2.06-.94-2.06-.94-.94-2.06-.94 2.06-2.06.94zm-11 1L8.5 8.5l.94-2.06 2.06-.94-2.06-.94L8.5 2.5l-.94 2.06-2.06.94zm10 10l.94 2.06.94-2.06 2.06-.94-2.06-.94-.94-2.06-.94 2.06-2.06.94z\"/><path d=\"M17.41 7.96l-1.37-1.37c-.4-.4-.92-.59-1.43-.59-.52 0-1.04.2-1.43.59L10.3 9.45l-7.72 7.72c-.78.78-.78 2.05 0 2.83L4 21.41c.39.39.9.59 1.41.59.51 0 1.02-.2 1.41-.59l7.78-7.78 2.81-2.81c.8-.78.8-2.07 0-2.86zM5.41 20L4 18.59l7.72-7.72 1.47 1.35L5.41 20z\"/>\n",
              "  </svg>\n",
              "      </button>\n",
              "      \n",
              "  <style>\n",
              "    .colab-df-container {\n",
              "      display:flex;\n",
              "      flex-wrap:wrap;\n",
              "      gap: 12px;\n",
              "    }\n",
              "\n",
              "    .colab-df-convert {\n",
              "      background-color: #E8F0FE;\n",
              "      border: none;\n",
              "      border-radius: 50%;\n",
              "      cursor: pointer;\n",
              "      display: none;\n",
              "      fill: #1967D2;\n",
              "      height: 32px;\n",
              "      padding: 0 0 0 0;\n",
              "      width: 32px;\n",
              "    }\n",
              "\n",
              "    .colab-df-convert:hover {\n",
              "      background-color: #E2EBFA;\n",
              "      box-shadow: 0px 1px 2px rgba(60, 64, 67, 0.3), 0px 1px 3px 1px rgba(60, 64, 67, 0.15);\n",
              "      fill: #174EA6;\n",
              "    }\n",
              "\n",
              "    [theme=dark] .colab-df-convert {\n",
              "      background-color: #3B4455;\n",
              "      fill: #D2E3FC;\n",
              "    }\n",
              "\n",
              "    [theme=dark] .colab-df-convert:hover {\n",
              "      background-color: #434B5C;\n",
              "      box-shadow: 0px 1px 3px 1px rgba(0, 0, 0, 0.15);\n",
              "      filter: drop-shadow(0px 1px 2px rgba(0, 0, 0, 0.3));\n",
              "      fill: #FFFFFF;\n",
              "    }\n",
              "  </style>\n",
              "\n",
              "      <script>\n",
              "        const buttonEl =\n",
              "          document.querySelector('#df-8fc2bcc4-4ef1-4723-b864-9b6e7807d4cf button.colab-df-convert');\n",
              "        buttonEl.style.display =\n",
              "          google.colab.kernel.accessAllowed ? 'block' : 'none';\n",
              "\n",
              "        async function convertToInteractive(key) {\n",
              "          const element = document.querySelector('#df-8fc2bcc4-4ef1-4723-b864-9b6e7807d4cf');\n",
              "          const dataTable =\n",
              "            await google.colab.kernel.invokeFunction('convertToInteractive',\n",
              "                                                     [key], {});\n",
              "          if (!dataTable) return;\n",
              "\n",
              "          const docLinkHtml = 'Like what you see? Visit the ' +\n",
              "            '<a target=\"_blank\" href=https://colab.research.google.com/notebooks/data_table.ipynb>data table notebook</a>'\n",
              "            + ' to learn more about interactive tables.';\n",
              "          element.innerHTML = '';\n",
              "          dataTable['output_type'] = 'display_data';\n",
              "          await google.colab.output.renderOutput(dataTable, element);\n",
              "          const docLink = document.createElement('div');\n",
              "          docLink.innerHTML = docLinkHtml;\n",
              "          element.appendChild(docLink);\n",
              "        }\n",
              "      </script>\n",
              "    </div>\n",
              "  </div>\n",
              "  "
            ]
          },
          "metadata": {},
          "execution_count": 124
        }
      ],
      "source": [
        "trend2 = trend2.toPandas()\n",
        "trend2.head(10)"
      ]
    },
    {
      "cell_type": "code",
      "execution_count": 125,
      "metadata": {
        "id": "vL7LPZXoMDz2",
        "colab": {
          "base_uri": "https://localhost:8080/",
          "height": 252
        },
        "outputId": "9e44b6d8-a69e-4eb6-d789-4bc729240350"
      },
      "outputs": [
        {
          "output_type": "display_data",
          "data": {
            "text/plain": [
              "<Figure size 1440x504 with 1 Axes>"
            ],
            "image/png": "[encoded data removed]"
          },
          "metadata": {
            "needs_background": "light"
          }
        }
      ],
      "source": [
        "fig, ax = plt.subplots(figsize =(20,7))\n",
        "ax.bar(trend2['title'][:10],trend2[\"count\"][:10],width=0.7, edgecolor=\"white\", linewidth=1)\n",
        "# ax.set(xlim=(0, 8),ylim=(0, 8))\n",
        "plt.title(\"2000 - 2005\")\n",
        "plt.xlabel('Name of games')\n",
        "plt.ylabel('Count')\n",
        "plt.show()"
      ]
    },
    {
      "cell_type": "markdown",
      "metadata": {
        "id": "Fah6RhCx2UuH"
      },
      "source": [
        "###2010's - 2015's "
      ]
    },
    {
      "cell_type": "code",
      "execution_count": 126,
      "metadata": {
        "id": "szlHBrn42Zu-"
      },
      "outputs": [],
      "source": [
        "trend4 = all_data.filter((f.year('date_release') > lit('2010')) &(f.year('date_release') <= lit('2015'))).groupBy(\"title\",'date_release').count().orderBy(f.col('count').desc())"
      ]
    },
    {
      "cell_type": "code",
      "execution_count": 127,
      "metadata": {
        "id": "Qus_DlU72eOm",
        "colab": {
          "base_uri": "https://localhost:8080/"
        },
        "outputId": "767d1b47-cc8e-47dd-d36c-45a43d524695"
      },
      "outputs": [
        {
          "output_type": "stream",
          "name": "stdout",
          "text": [
            "+--------------------+------------+------+\n",
            "|               title|date_release| count|\n",
            "+--------------------+------------+------+\n",
            "|Counter-Strike: G...|  2012-08-21|172407|\n",
            "|  Grand Theft Auto V|  2015-04-13|148801|\n",
            "|           Fallout 4|  2015-11-09|148530|\n",
            "|              Arma 3|  2013-09-12|115925|\n",
            "|       Path of Exile|  2013-10-23|111576|\n",
            "|The Binding of Is...|  2014-11-04| 98643|\n",
            "|        BeamNG.drive|  2015-05-29| 90970|\n",
            "|Tom Clancy's Rain...|  2015-12-01| 67570|\n",
            "|            PAYDAY 2|  2013-08-13| 63807|\n",
            "|              Dota 2|  2013-07-09| 61358|\n",
            "+--------------------+------------+------+\n",
            "only showing top 10 rows\n",
            "\n"
          ]
        }
      ],
      "source": [
        "trend4.show(10)"
      ]
    },
    {
      "cell_type": "code",
      "execution_count": 128,
      "metadata": {
        "id": "EfCQw_m1QLGt",
        "colab": {
          "base_uri": "https://localhost:8080/",
          "height": 363
        },
        "outputId": "c9357a07-b850-48f1-c210-16e8078cb7da"
      },
      "outputs": [
        {
          "output_type": "execute_result",
          "data": {
            "text/plain": [
              "                              title date_release   count\n",
              "0  Counter-Strike: Global Offensive   2012-08-21  172407\n",
              "1                Grand Theft Auto V   2015-04-13  148801\n",
              "2                         Fallout 4   2015-11-09  148530\n",
              "3                            Arma 3   2013-09-12  115925\n",
              "4                     Path of Exile   2013-10-23  111576\n",
              "5     The Binding of Isaac: Rebirth   2014-11-04   98643\n",
              "6                      BeamNG.drive   2015-05-29   90970\n",
              "7   Tom Clancy's Rainbow Six® Siege   2015-12-01   67570\n",
              "8                          PAYDAY 2   2013-08-13   63807\n",
              "9                            Dota 2   2013-07-09   61358"
            ],
            "text/html": [
              "\n",
              "  <div id=\"df-1b4426ef-0a00-440e-8e9f-6789aea297e4\">\n",
              "    <div class=\"colab-df-container\">\n",
              "      <div>\n",
              "<style scoped>\n",
              "    .dataframe tbody tr th:only-of-type {\n",
              "        vertical-align: middle;\n",
              "    }\n",
              "\n",
              "    .dataframe tbody tr th {\n",
              "        vertical-align: top;\n",
              "    }\n",
              "\n",
              "    .dataframe thead th {\n",
              "        text-align: right;\n",
              "    }\n",
              "</style>\n",
              "<table border=\"1\" class=\"dataframe\">\n",
              "  <thead>\n",
              "    <tr style=\"text-align: right;\">\n",
              "      <th></th>\n",
              "      <th>title</th>\n",
              "      <th>date_release</th>\n",
              "      <th>count</th>\n",
              "    </tr>\n",
              "  </thead>\n",
              "  <tbody>\n",
              "    <tr>\n",
              "      <th>0</th>\n",
              "      <td>Counter-Strike: Global Offensive</td>\n",
              "      <td>2012-08-21</td>\n",
              "      <td>172407</td>\n",
              "    </tr>\n",
              "    <tr>\n",
              "      <th>1</th>\n",
              "      <td>Grand Theft Auto V</td>\n",
              "      <td>2015-04-13</td>\n",
              "      <td>148801</td>\n",
              "    </tr>\n",
              "    <tr>\n",
              "      <th>2</th>\n",
              "      <td>Fallout 4</td>\n",
              "      <td>2015-11-09</td>\n",
              "      <td>148530</td>\n",
              "    </tr>\n",
              "    <tr>\n",
              "      <th>3</th>\n",
              "      <td>Arma 3</td>\n",
              "      <td>2013-09-12</td>\n",
              "      <td>115925</td>\n",
              "    </tr>\n",
              "    <tr>\n",
              "      <th>4</th>\n",
              "      <td>Path of Exile</td>\n",
              "      <td>2013-10-23</td>\n",
              "      <td>111576</td>\n",
              "    </tr>\n",
              "    <tr>\n",
              "      <th>5</th>\n",
              "      <td>The Binding of Isaac: Rebirth</td>\n",
              "      <td>2014-11-04</td>\n",
              "      <td>98643</td>\n",
              "    </tr>\n",
              "    <tr>\n",
              "      <th>6</th>\n",
              "      <td>BeamNG.drive</td>\n",
              "      <td>2015-05-29</td>\n",
              "      <td>90970</td>\n",
              "    </tr>\n",
              "    <tr>\n",
              "      <th>7</th>\n",
              "      <td>Tom Clancy's Rainbow Six® Siege</td>\n",
              "      <td>2015-12-01</td>\n",
              "      <td>67570</td>\n",
              "    </tr>\n",
              "    <tr>\n",
              "      <th>8</th>\n",
              "      <td>PAYDAY 2</td>\n",
              "      <td>2013-08-13</td>\n",
              "      <td>63807</td>\n",
              "    </tr>\n",
              "    <tr>\n",
              "      <th>9</th>\n",
              "      <td>Dota 2</td>\n",
              "      <td>2013-07-09</td>\n",
              "      <td>61358</td>\n",
              "    </tr>\n",
              "  </tbody>\n",
              "</table>\n",
              "</div>\n",
              "      <button class=\"colab-df-convert\" onclick=\"convertToInteractive('df-1b4426ef-0a00-440e-8e9f-6789aea297e4')\"\n",
              "              title=\"Convert this dataframe to an interactive table.\"\n",
              "              style=\"display:none;\">\n",
              "        \n",
              "  <svg xmlns=\"http://www.w3.org/2000/svg\" height=\"24px\"viewBox=\"0 0 24 24\"\n",
              "       width=\"24px\">\n",
              "    <path d=\"M0 0h24v24H0V0z\" fill=\"none\"/>\n",
              "    <path d=\"M18.56 5.44l.94 2.06.94-2.06 2.06-.94-2.06-.94-.94-2.06-.94 2.06-2.06.94zm-11 1L8.5 8.5l.94-2.06 2.06-.94-2.06-.94L8.5 2.5l-.94 2.06-2.06.94zm10 10l.94 2.06.94-2.06 2.06-.94-2.06-.94-.94-2.06-.94 2.06-2.06.94z\"/><path d=\"M17.41 7.96l-1.37-1.37c-.4-.4-.92-.59-1.43-.59-.52 0-1.04.2-1.43.59L10.3 9.45l-7.72 7.72c-.78.78-.78 2.05 0 2.83L4 21.41c.39.39.9.59 1.41.59.51 0 1.02-.2 1.41-.59l7.78-7.78 2.81-2.81c.8-.78.8-2.07 0-2.86zM5.41 20L4 18.59l7.72-7.72 1.47 1.35L5.41 20z\"/>\n",
              "  </svg>\n",
              "      </button>\n",
              "      \n",
              "  <style>\n",
              "    .colab-df-container {\n",
              "      display:flex;\n",
              "      flex-wrap:wrap;\n",
              "      gap: 12px;\n",
              "    }\n",
              "\n",
              "    .colab-df-convert {\n",
              "      background-color: #E8F0FE;\n",
              "      border: none;\n",
              "      border-radius: 50%;\n",
              "      cursor: pointer;\n",
              "      display: none;\n",
              "      fill: #1967D2;\n",
              "      height: 32px;\n",
              "      padding: 0 0 0 0;\n",
              "      width: 32px;\n",
              "    }\n",
              "\n",
              "    .colab-df-convert:hover {\n",
              "      background-color: #E2EBFA;\n",
              "      box-shadow: 0px 1px 2px rgba(60, 64, 67, 0.3), 0px 1px 3px 1px rgba(60, 64, 67, 0.15);\n",
              "      fill: #174EA6;\n",
              "    }\n",
              "\n",
              "    [theme=dark] .colab-df-convert {\n",
              "      background-color: #3B4455;\n",
              "      fill: #D2E3FC;\n",
              "    }\n",
              "\n",
              "    [theme=dark] .colab-df-convert:hover {\n",
              "      background-color: #434B5C;\n",
              "      box-shadow: 0px 1px 3px 1px rgba(0, 0, 0, 0.15);\n",
              "      filter: drop-shadow(0px 1px 2px rgba(0, 0, 0, 0.3));\n",
              "      fill: #FFFFFF;\n",
              "    }\n",
              "  </style>\n",
              "\n",
              "      <script>\n",
              "        const buttonEl =\n",
              "          document.querySelector('#df-1b4426ef-0a00-440e-8e9f-6789aea297e4 button.colab-df-convert');\n",
              "        buttonEl.style.display =\n",
              "          google.colab.kernel.accessAllowed ? 'block' : 'none';\n",
              "\n",
              "        async function convertToInteractive(key) {\n",
              "          const element = document.querySelector('#df-1b4426ef-0a00-440e-8e9f-6789aea297e4');\n",
              "          const dataTable =\n",
              "            await google.colab.kernel.invokeFunction('convertToInteractive',\n",
              "                                                     [key], {});\n",
              "          if (!dataTable) return;\n",
              "\n",
              "          const docLinkHtml = 'Like what you see? Visit the ' +\n",
              "            '<a target=\"_blank\" href=https://colab.research.google.com/notebooks/data_table.ipynb>data table notebook</a>'\n",
              "            + ' to learn more about interactive tables.';\n",
              "          element.innerHTML = '';\n",
              "          dataTable['output_type'] = 'display_data';\n",
              "          await google.colab.output.renderOutput(dataTable, element);\n",
              "          const docLink = document.createElement('div');\n",
              "          docLink.innerHTML = docLinkHtml;\n",
              "          element.appendChild(docLink);\n",
              "        }\n",
              "      </script>\n",
              "    </div>\n",
              "  </div>\n",
              "  "
            ]
          },
          "metadata": {},
          "execution_count": 128
        }
      ],
      "source": [
        "trend4 = trend4.toPandas()\n",
        "trend4.head(10)"
      ]
    },
    {
      "cell_type": "code",
      "execution_count": 129,
      "metadata": {
        "id": "Dahb-YltQ05u",
        "colab": {
          "base_uri": "https://localhost:8080/",
          "height": 250
        },
        "outputId": "3571bb8c-4666-41a0-93fb-76a9f7fa4f8d"
      },
      "outputs": [
        {
          "output_type": "display_data",
          "data": {
            "text/plain": [
              "<Figure size 1440x504 with 1 Axes>"
            ],
            "image/png": "[encoded data removed]"
          },
          "metadata": {
            "needs_background": "light"
          }
        }
      ],
      "source": [
        "fig, ax = plt.subplots(figsize =(20,7))\n",
        "ax.bar(trend4['title'][:10],trend4[\"count\"][:10],width=0.7, edgecolor=\"white\", linewidth=1)\n",
        "# ax.set(xlim=(0, 8),ylim=(0, 8))\n",
        "plt.title(\"2010 - 2015\")\n",
        "plt.xlabel('Name of games')\n",
        "plt.ylabel('Count')\n",
        "plt.show()"
      ]
    },
    {
      "cell_type": "markdown",
      "metadata": {
        "id": "N_cHTvra2o_a"
      },
      "source": [
        "### 2015's - 2020's"
      ]
    },
    {
      "cell_type": "code",
      "execution_count": 130,
      "metadata": {
        "id": "Llq1fY8125IR"
      },
      "outputs": [],
      "source": [
        "trend5 = all_data.filter((f.year('date_release') > lit('2015')) &(f.year('date_release') <= lit('2020'))).groupBy(\"title\",'date_release').count().orderBy(f.col('count').desc())"
      ]
    },
    {
      "cell_type": "code",
      "execution_count": 131,
      "metadata": {
        "id": "XOPYSQTS3BKG",
        "colab": {
          "base_uri": "https://localhost:8080/"
        },
        "outputId": "246316b3-eef6-40a3-f982-10194a54d168"
      },
      "outputs": [
        {
          "output_type": "stream",
          "name": "stdout",
          "text": [
            "+--------------------+------------+------+\n",
            "|               title|date_release| count|\n",
            "+--------------------+------------+------+\n",
            "|                Rust|  2018-02-08|251433|\n",
            "|        No Man's Sky|  2016-08-12|150261|\n",
            "|    Wallpaper Engine|  2018-11-01|149654|\n",
            "|Red Dead Redempti...|  2019-12-05|117967|\n",
            "|      Cyberpunk 2077|  2020-12-09|109328|\n",
            "|      Sea of Thieves|  2020-06-03|108191|\n",
            "|   Hearts of Iron IV|  2016-06-06|104751|\n",
            "|          Brawlhalla|  2017-10-17| 99032|\n",
            "|              VRChat|  2017-02-01| 87365|\n",
            "|Sid Meier’s Civil...|  2016-10-20| 83188|\n",
            "+--------------------+------------+------+\n",
            "only showing top 10 rows\n",
            "\n"
          ]
        }
      ],
      "source": [
        "trend5.show(10)"
      ]
    },
    {
      "cell_type": "code",
      "execution_count": 132,
      "metadata": {
        "id": "BegWTBIUQ9JU",
        "colab": {
          "base_uri": "https://localhost:8080/",
          "height": 363
        },
        "outputId": "0022265a-36ee-42e7-9843-0a5f4fadb4d7"
      },
      "outputs": [
        {
          "output_type": "execute_result",
          "data": {
            "text/plain": [
              "                          title date_release   count\n",
              "0                          Rust   2018-02-08  251433\n",
              "1                  No Man's Sky   2016-08-12  150261\n",
              "2              Wallpaper Engine   2018-11-01  149654\n",
              "3         Red Dead Redemption 2   2019-12-05  117967\n",
              "4                Cyberpunk 2077   2020-12-09  109328\n",
              "5                Sea of Thieves   2020-06-03  108191\n",
              "6             Hearts of Iron IV   2016-06-06  104751\n",
              "7                    Brawlhalla   2017-10-17   99032\n",
              "8                        VRChat   2017-02-01   87365\n",
              "9  Sid Meier’s Civilization® VI   2016-10-20   83188"
            ],
            "text/html": [
              "\n",
              "  <div id=\"df-2d78972d-6b27-4d9c-96ae-2c2a3945296e\">\n",
              "    <div class=\"colab-df-container\">\n",
              "      <div>\n",
              "<style scoped>\n",
              "    .dataframe tbody tr th:only-of-type {\n",
              "        vertical-align: middle;\n",
              "    }\n",
              "\n",
              "    .dataframe tbody tr th {\n",
              "        vertical-align: top;\n",
              "    }\n",
              "\n",
              "    .dataframe thead th {\n",
              "        text-align: right;\n",
              "    }\n",
              "</style>\n",
              "<table border=\"1\" class=\"dataframe\">\n",
              "  <thead>\n",
              "    <tr style=\"text-align: right;\">\n",
              "      <th></th>\n",
              "      <th>title</th>\n",
              "      <th>date_release</th>\n",
              "      <th>count</th>\n",
              "    </tr>\n",
              "  </thead>\n",
              "  <tbody>\n",
              "    <tr>\n",
              "      <th>0</th>\n",
              "      <td>Rust</td>\n",
              "      <td>2018-02-08</td>\n",
              "      <td>251433</td>\n",
              "    </tr>\n",
              "    <tr>\n",
              "      <th>1</th>\n",
              "      <td>No Man's Sky</td>\n",
              "      <td>2016-08-12</td>\n",
              "      <td>150261</td>\n",
              "    </tr>\n",
              "    <tr>\n",
              "      <th>2</th>\n",
              "      <td>Wallpaper Engine</td>\n",
              "      <td>2018-11-01</td>\n",
              "      <td>149654</td>\n",
              "    </tr>\n",
              "    <tr>\n",
              "      <th>3</th>\n",
              "      <td>Red Dead Redemption 2</td>\n",
              "      <td>2019-12-05</td>\n",
              "      <td>117967</td>\n",
              "    </tr>\n",
              "    <tr>\n",
              "      <th>4</th>\n",
              "      <td>Cyberpunk 2077</td>\n",
              "      <td>2020-12-09</td>\n",
              "      <td>109328</td>\n",
              "    </tr>\n",
              "    <tr>\n",
              "      <th>5</th>\n",
              "      <td>Sea of Thieves</td>\n",
              "      <td>2020-06-03</td>\n",
              "      <td>108191</td>\n",
              "    </tr>\n",
              "    <tr>\n",
              "      <th>6</th>\n",
              "      <td>Hearts of Iron IV</td>\n",
              "      <td>2016-06-06</td>\n",
              "      <td>104751</td>\n",
              "    </tr>\n",
              "    <tr>\n",
              "      <th>7</th>\n",
              "      <td>Brawlhalla</td>\n",
              "      <td>2017-10-17</td>\n",
              "      <td>99032</td>\n",
              "    </tr>\n",
              "    <tr>\n",
              "      <th>8</th>\n",
              "      <td>VRChat</td>\n",
              "      <td>2017-02-01</td>\n",
              "      <td>87365</td>\n",
              "    </tr>\n",
              "    <tr>\n",
              "      <th>9</th>\n",
              "      <td>Sid Meier’s Civilization® VI</td>\n",
              "      <td>2016-10-20</td>\n",
              "      <td>83188</td>\n",
              "    </tr>\n",
              "  </tbody>\n",
              "</table>\n",
              "</div>\n",
              "      <button class=\"colab-df-convert\" onclick=\"convertToInteractive('df-2d78972d-6b27-4d9c-96ae-2c2a3945296e')\"\n",
              "              title=\"Convert this dataframe to an interactive table.\"\n",
              "              style=\"display:none;\">\n",
              "        \n",
              "  <svg xmlns=\"http://www.w3.org/2000/svg\" height=\"24px\"viewBox=\"0 0 24 24\"\n",
              "       width=\"24px\">\n",
              "    <path d=\"M0 0h24v24H0V0z\" fill=\"none\"/>\n",
              "    <path d=\"M18.56 5.44l.94 2.06.94-2.06 2.06-.94-2.06-.94-.94-2.06-.94 2.06-2.06.94zm-11 1L8.5 8.5l.94-2.06 2.06-.94-2.06-.94L8.5 2.5l-.94 2.06-2.06.94zm10 10l.94 2.06.94-2.06 2.06-.94-2.06-.94-.94-2.06-.94 2.06-2.06.94z\"/><path d=\"M17.41 7.96l-1.37-1.37c-.4-.4-.92-.59-1.43-.59-.52 0-1.04.2-1.43.59L10.3 9.45l-7.72 7.72c-.78.78-.78 2.05 0 2.83L4 21.41c.39.39.9.59 1.41.59.51 0 1.02-.2 1.41-.59l7.78-7.78 2.81-2.81c.8-.78.8-2.07 0-2.86zM5.41 20L4 18.59l7.72-7.72 1.47 1.35L5.41 20z\"/>\n",
              "  </svg>\n",
              "      </button>\n",
              "      \n",
              "  <style>\n",
              "    .colab-df-container {\n",
              "      display:flex;\n",
              "      flex-wrap:wrap;\n",
              "      gap: 12px;\n",
              "    }\n",
              "\n",
              "    .colab-df-convert {\n",
              "      background-color: #E8F0FE;\n",
              "      border: none;\n",
              "      border-radius: 50%;\n",
              "      cursor: pointer;\n",
              "      display: none;\n",
              "      fill: #1967D2;\n",
              "      height: 32px;\n",
              "      padding: 0 0 0 0;\n",
              "      width: 32px;\n",
              "    }\n",
              "\n",
              "    .colab-df-convert:hover {\n",
              "      background-color: #E2EBFA;\n",
              "      box-shadow: 0px 1px 2px rgba(60, 64, 67, 0.3), 0px 1px 3px 1px rgba(60, 64, 67, 0.15);\n",
              "      fill: #174EA6;\n",
              "    }\n",
              "\n",
              "    [theme=dark] .colab-df-convert {\n",
              "      background-color: #3B4455;\n",
              "      fill: #D2E3FC;\n",
              "    }\n",
              "\n",
              "    [theme=dark] .colab-df-convert:hover {\n",
              "      background-color: #434B5C;\n",
              "      box-shadow: 0px 1px 3px 1px rgba(0, 0, 0, 0.15);\n",
              "      filter: drop-shadow(0px 1px 2px rgba(0, 0, 0, 0.3));\n",
              "      fill: #FFFFFF;\n",
              "    }\n",
              "  </style>\n",
              "\n",
              "      <script>\n",
              "        const buttonEl =\n",
              "          document.querySelector('#df-2d78972d-6b27-4d9c-96ae-2c2a3945296e button.colab-df-convert');\n",
              "        buttonEl.style.display =\n",
              "          google.colab.kernel.accessAllowed ? 'block' : 'none';\n",
              "\n",
              "        async function convertToInteractive(key) {\n",
              "          const element = document.querySelector('#df-2d78972d-6b27-4d9c-96ae-2c2a3945296e');\n",
              "          const dataTable =\n",
              "            await google.colab.kernel.invokeFunction('convertToInteractive',\n",
              "                                                     [key], {});\n",
              "          if (!dataTable) return;\n",
              "\n",
              "          const docLinkHtml = 'Like what you see? Visit the ' +\n",
              "            '<a target=\"_blank\" href=https://colab.research.google.com/notebooks/data_table.ipynb>data table notebook</a>'\n",
              "            + ' to learn more about interactive tables.';\n",
              "          element.innerHTML = '';\n",
              "          dataTable['output_type'] = 'display_data';\n",
              "          await google.colab.output.renderOutput(dataTable, element);\n",
              "          const docLink = document.createElement('div');\n",
              "          docLink.innerHTML = docLinkHtml;\n",
              "          element.appendChild(docLink);\n",
              "        }\n",
              "      </script>\n",
              "    </div>\n",
              "  </div>\n",
              "  "
            ]
          },
          "metadata": {},
          "execution_count": 132
        }
      ],
      "source": [
        "trend5 = trend5.toPandas()\n",
        "trend5.head(10)"
      ]
    },
    {
      "cell_type": "code",
      "execution_count": 133,
      "metadata": {
        "id": "utfBtzBqRB1I",
        "colab": {
          "base_uri": "https://localhost:8080/",
          "height": 250
        },
        "outputId": "55e07e58-436d-4adb-eda8-ca66cba44314"
      },
      "outputs": [
        {
          "output_type": "display_data",
          "data": {
            "text/plain": [
              "<Figure size 1440x504 with 1 Axes>"
            ],
            "image/png": "[encoded data removed]"
          },
          "metadata": {
            "needs_background": "light"
          }
        }
      ],
      "source": [
        "fig, ax = plt.subplots(figsize =(20,7))\n",
        "ax.bar(trend5['title'][:10],trend5[\"count\"][:10],width=0.7, edgecolor=\"white\", linewidth=1)\n",
        "# ax.set(xlim=(0, 8),ylim=(0, 8))\n",
        "plt.title(\"2015 - 2020\")\n",
        "plt.xlabel('Name of games')\n",
        "plt.ylabel('Count')\n",
        "plt.show()"
      ]
    },
    {
      "cell_type": "markdown",
      "metadata": {
        "id": "lyat1U0E3G2h"
      },
      "source": [
        "### 2020"
      ]
    },
    {
      "cell_type": "code",
      "execution_count": 134,
      "metadata": {
        "id": "4ZrN3KPC3Pnv"
      },
      "outputs": [],
      "source": [
        "trend6 = all_data.filter((f.year('date_release') == lit('2020'))).groupBy(\"title\",'date_release').count().orderBy(f.col('count').desc())"
      ]
    },
    {
      "cell_type": "code",
      "execution_count": 135,
      "metadata": {
        "id": "pwj6KUdC3PsV",
        "colab": {
          "base_uri": "https://localhost:8080/"
        },
        "outputId": "880d3090-a3c3-4d6e-849a-c6a014305c2c"
      },
      "outputs": [
        {
          "output_type": "stream",
          "name": "stdout",
          "text": [
            "+--------------------+------------+------+\n",
            "|               title|date_release| count|\n",
            "+--------------------+------------+------+\n",
            "|      Cyberpunk 2077|  2020-12-09|109328|\n",
            "|      Sea of Thieves|  2020-06-03|108191|\n",
            "|        Satisfactory|  2020-06-08| 68495|\n",
            "|       Borderlands 3|  2020-03-13| 50566|\n",
            "|Grand Theft Auto ...|  2020-03-24| 47292|\n",
            "|      Risk of Rain 2|  2020-08-11| 47229|\n",
            "|       Apex Legends™|  2020-11-04| 45325|\n",
            "|          Fallout 76|  2020-04-14| 42217|\n",
            "|         The Sims™ 4|  2020-06-18| 40964|\n",
            "|     Half-Life: Alyx|  2020-03-23| 37962|\n",
            "+--------------------+------------+------+\n",
            "only showing top 10 rows\n",
            "\n"
          ]
        }
      ],
      "source": [
        "trend6.show(10)"
      ]
    },
    {
      "cell_type": "code",
      "execution_count": 136,
      "metadata": {
        "id": "WCKT2FfaRP50",
        "colab": {
          "base_uri": "https://localhost:8080/",
          "height": 363
        },
        "outputId": "2509e358-b328-4156-c549-42797d9af52c"
      },
      "outputs": [
        {
          "output_type": "execute_result",
          "data": {
            "text/plain": [
              "                                       title date_release   count\n",
              "0                             Cyberpunk 2077   2020-12-09  109328\n",
              "1                             Sea of Thieves   2020-06-03  108191\n",
              "2                               Satisfactory   2020-06-08   68495\n",
              "3                              Borderlands 3   2020-03-13   50566\n",
              "4  Grand Theft Auto IV: The Complete Edition   2020-03-24   47292\n",
              "5                             Risk of Rain 2   2020-08-11   47229\n",
              "6                              Apex Legends™   2020-11-04   45325\n",
              "7                                 Fallout 76   2020-04-14   42217\n",
              "8                                The Sims™ 4   2020-06-18   40964\n",
              "9                            Half-Life: Alyx   2020-03-23   37962"
            ],
            "text/html": [
              "\n",
              "  <div id=\"df-01fd7767-f12e-4f72-8760-eadad0ded6f2\">\n",
              "    <div class=\"colab-df-container\">\n",
              "      <div>\n",
              "<style scoped>\n",
              "    .dataframe tbody tr th:only-of-type {\n",
              "        vertical-align: middle;\n",
              "    }\n",
              "\n",
              "    .dataframe tbody tr th {\n",
              "        vertical-align: top;\n",
              "    }\n",
              "\n",
              "    .dataframe thead th {\n",
              "        text-align: right;\n",
              "    }\n",
              "</style>\n",
              "<table border=\"1\" class=\"dataframe\">\n",
              "  <thead>\n",
              "    <tr style=\"text-align: right;\">\n",
              "      <th></th>\n",
              "      <th>title</th>\n",
              "      <th>date_release</th>\n",
              "      <th>count</th>\n",
              "    </tr>\n",
              "  </thead>\n",
              "  <tbody>\n",
              "    <tr>\n",
              "      <th>0</th>\n",
              "      <td>Cyberpunk 2077</td>\n",
              "      <td>2020-12-09</td>\n",
              "      <td>109328</td>\n",
              "    </tr>\n",
              "    <tr>\n",
              "      <th>1</th>\n",
              "      <td>Sea of Thieves</td>\n",
              "      <td>2020-06-03</td>\n",
              "      <td>108191</td>\n",
              "    </tr>\n",
              "    <tr>\n",
              "      <th>2</th>\n",
              "      <td>Satisfactory</td>\n",
              "      <td>2020-06-08</td>\n",
              "      <td>68495</td>\n",
              "    </tr>\n",
              "    <tr>\n",
              "      <th>3</th>\n",
              "      <td>Borderlands 3</td>\n",
              "      <td>2020-03-13</td>\n",
              "      <td>50566</td>\n",
              "    </tr>\n",
              "    <tr>\n",
              "      <th>4</th>\n",
              "      <td>Grand Theft Auto IV: The Complete Edition</td>\n",
              "      <td>2020-03-24</td>\n",
              "      <td>47292</td>\n",
              "    </tr>\n",
              "    <tr>\n",
              "      <th>5</th>\n",
              "      <td>Risk of Rain 2</td>\n",
              "      <td>2020-08-11</td>\n",
              "      <td>47229</td>\n",
              "    </tr>\n",
              "    <tr>\n",
              "      <th>6</th>\n",
              "      <td>Apex Legends™</td>\n",
              "      <td>2020-11-04</td>\n",
              "      <td>45325</td>\n",
              "    </tr>\n",
              "    <tr>\n",
              "      <th>7</th>\n",
              "      <td>Fallout 76</td>\n",
              "      <td>2020-04-14</td>\n",
              "      <td>42217</td>\n",
              "    </tr>\n",
              "    <tr>\n",
              "      <th>8</th>\n",
              "      <td>The Sims™ 4</td>\n",
              "      <td>2020-06-18</td>\n",
              "      <td>40964</td>\n",
              "    </tr>\n",
              "    <tr>\n",
              "      <th>9</th>\n",
              "      <td>Half-Life: Alyx</td>\n",
              "      <td>2020-03-23</td>\n",
              "      <td>37962</td>\n",
              "    </tr>\n",
              "  </tbody>\n",
              "</table>\n",
              "</div>\n",
              "      <button class=\"colab-df-convert\" onclick=\"convertToInteractive('df-01fd7767-f12e-4f72-8760-eadad0ded6f2')\"\n",
              "              title=\"Convert this dataframe to an interactive table.\"\n",
              "              style=\"display:none;\">\n",
              "        \n",
              "  <svg xmlns=\"http://www.w3.org/2000/svg\" height=\"24px\"viewBox=\"0 0 24 24\"\n",
              "       width=\"24px\">\n",
              "    <path d=\"M0 0h24v24H0V0z\" fill=\"none\"/>\n",
              "    <path d=\"M18.56 5.44l.94 2.06.94-2.06 2.06-.94-2.06-.94-.94-2.06-.94 2.06-2.06.94zm-11 1L8.5 8.5l.94-2.06 2.06-.94-2.06-.94L8.5 2.5l-.94 2.06-2.06.94zm10 10l.94 2.06.94-2.06 2.06-.94-2.06-.94-.94-2.06-.94 2.06-2.06.94z\"/><path d=\"M17.41 7.96l-1.37-1.37c-.4-.4-.92-.59-1.43-.59-.52 0-1.04.2-1.43.59L10.3 9.45l-7.72 7.72c-.78.78-.78 2.05 0 2.83L4 21.41c.39.39.9.59 1.41.59.51 0 1.02-.2 1.41-.59l7.78-7.78 2.81-2.81c.8-.78.8-2.07 0-2.86zM5.41 20L4 18.59l7.72-7.72 1.47 1.35L5.41 20z\"/>\n",
              "  </svg>\n",
              "      </button>\n",
              "      \n",
              "  <style>\n",
              "    .colab-df-container {\n",
              "      display:flex;\n",
              "      flex-wrap:wrap;\n",
              "      gap: 12px;\n",
              "    }\n",
              "\n",
              "    .colab-df-convert {\n",
              "      background-color: #E8F0FE;\n",
              "      border: none;\n",
              "      border-radius: 50%;\n",
              "      cursor: pointer;\n",
              "      display: none;\n",
              "      fill: #1967D2;\n",
              "      height: 32px;\n",
              "      padding: 0 0 0 0;\n",
              "      width: 32px;\n",
              "    }\n",
              "\n",
              "    .colab-df-convert:hover {\n",
              "      background-color: #E2EBFA;\n",
              "      box-shadow: 0px 1px 2px rgba(60, 64, 67, 0.3), 0px 1px 3px 1px rgba(60, 64, 67, 0.15);\n",
              "      fill: #174EA6;\n",
              "    }\n",
              "\n",
              "    [theme=dark] .colab-df-convert {\n",
              "      background-color: #3B4455;\n",
              "      fill: #D2E3FC;\n",
              "    }\n",
              "\n",
              "    [theme=dark] .colab-df-convert:hover {\n",
              "      background-color: #434B5C;\n",
              "      box-shadow: 0px 1px 3px 1px rgba(0, 0, 0, 0.15);\n",
              "      filter: drop-shadow(0px 1px 2px rgba(0, 0, 0, 0.3));\n",
              "      fill: #FFFFFF;\n",
              "    }\n",
              "  </style>\n",
              "\n",
              "      <script>\n",
              "        const buttonEl =\n",
              "          document.querySelector('#df-01fd7767-f12e-4f72-8760-eadad0ded6f2 button.colab-df-convert');\n",
              "        buttonEl.style.display =\n",
              "          google.colab.kernel.accessAllowed ? 'block' : 'none';\n",
              "\n",
              "        async function convertToInteractive(key) {\n",
              "          const element = document.querySelector('#df-01fd7767-f12e-4f72-8760-eadad0ded6f2');\n",
              "          const dataTable =\n",
              "            await google.colab.kernel.invokeFunction('convertToInteractive',\n",
              "                                                     [key], {});\n",
              "          if (!dataTable) return;\n",
              "\n",
              "          const docLinkHtml = 'Like what you see? Visit the ' +\n",
              "            '<a target=\"_blank\" href=https://colab.research.google.com/notebooks/data_table.ipynb>data table notebook</a>'\n",
              "            + ' to learn more about interactive tables.';\n",
              "          element.innerHTML = '';\n",
              "          dataTable['output_type'] = 'display_data';\n",
              "          await google.colab.output.renderOutput(dataTable, element);\n",
              "          const docLink = document.createElement('div');\n",
              "          docLink.innerHTML = docLinkHtml;\n",
              "          element.appendChild(docLink);\n",
              "        }\n",
              "      </script>\n",
              "    </div>\n",
              "  </div>\n",
              "  "
            ]
          },
          "metadata": {},
          "execution_count": 136
        }
      ],
      "source": [
        "trend6 = trend6.toPandas()\n",
        "trend6.head(10)"
      ]
    },
    {
      "cell_type": "code",
      "execution_count": 137,
      "metadata": {
        "id": "SVXGazhGRU3M",
        "colab": {
          "base_uri": "https://localhost:8080/",
          "height": 250
        },
        "outputId": "f72b9b80-442b-4c4f-acd1-670e775acd01"
      },
      "outputs": [
        {
          "output_type": "display_data",
          "data": {
            "text/plain": [
              "<Figure size 1440x504 with 1 Axes>"
            ],
            "image/png": "[encoded data removed]"
          },
          "metadata": {
            "needs_background": "light"
          }
        }
      ],
      "source": [
        "fig, ax = plt.subplots(figsize =(20,7))\n",
        "ax.bar(trend6['title'][:10],trend6[\"count\"][:10],width=0.7, edgecolor=\"white\", linewidth=1)\n",
        "# ax.set(xlim=(0, 8),ylim=(0, 8))\n",
        "plt.title(\"Year 2020\")\n",
        "plt.xlabel('Name of games')\n",
        "plt.ylabel('Count')\n",
        "plt.show()"
      ]
    },
    {
      "cell_type": "markdown",
      "metadata": {
        "id": "1CRGo8qVRg1p"
      },
      "source": [
        "### 2021"
      ]
    },
    {
      "cell_type": "code",
      "execution_count": 138,
      "metadata": {
        "id": "V_bOYoEpRg1q"
      },
      "outputs": [],
      "source": [
        "trend7 = all_data.filter((f.year('date_release') == lit('2021'))).groupBy(\"title\",'date_release').count().orderBy(f.col('count').desc())"
      ]
    },
    {
      "cell_type": "code",
      "execution_count": 139,
      "metadata": {
        "id": "jT5cC1ZBRg1q",
        "colab": {
          "base_uri": "https://localhost:8080/"
        },
        "outputId": "bf1d0f56-4616-4008-b340-988d792b214f"
      },
      "outputs": [
        {
          "output_type": "stream",
          "name": "stdout",
          "text": [
            "+--------------------+------------+-----+\n",
            "|               title|date_release|count|\n",
            "+--------------------+------------+-----+\n",
            "|         Inscryption|  2021-10-19|52982|\n",
            "|        Ready or Not|  2021-12-17|50146|\n",
            "|      Hell Let Loose|  2021-07-27|39860|\n",
            "|           OUTRIDERS|  2021-04-01|36717|\n",
            "|     Forza Horizon 4|  2021-03-09|31337|\n",
            "|        It Takes Two|  2021-03-25|27817|\n",
            "|                GTFO|  2021-12-09|25641|\n",
            "|GUILTY GEAR -STRIVE-|  2021-06-11|25488|\n",
            "|       Halo Infinite|  2021-11-15|21899|\n",
            "|              DEVOUR|  2021-01-28|18597|\n",
            "+--------------------+------------+-----+\n",
            "only showing top 10 rows\n",
            "\n"
          ]
        }
      ],
      "source": [
        "trend7.show(10)"
      ]
    },
    {
      "cell_type": "code",
      "execution_count": 140,
      "metadata": {
        "id": "0GQj1PXaRg1q",
        "colab": {
          "base_uri": "https://localhost:8080/",
          "height": 363
        },
        "outputId": "7cd7906a-4d33-46b4-f79e-8ee4bb1ca07e"
      },
      "outputs": [
        {
          "output_type": "execute_result",
          "data": {
            "text/plain": [
              "                  title date_release  count\n",
              "0           Inscryption   2021-10-19  52982\n",
              "1          Ready or Not   2021-12-17  50146\n",
              "2        Hell Let Loose   2021-07-27  39860\n",
              "3             OUTRIDERS   2021-04-01  36717\n",
              "4       Forza Horizon 4   2021-03-09  31337\n",
              "5          It Takes Two   2021-03-25  27817\n",
              "6                  GTFO   2021-12-09  25641\n",
              "7  GUILTY GEAR -STRIVE-   2021-06-11  25488\n",
              "8         Halo Infinite   2021-11-15  21899\n",
              "9                DEVOUR   2021-01-28  18597"
            ],
            "text/html": [
              "\n",
              "  <div id=\"df-657a9247-6fdf-48dd-b702-6ac5e0eb48fc\">\n",
              "    <div class=\"colab-df-container\">\n",
              "      <div>\n",
              "<style scoped>\n",
              "    .dataframe tbody tr th:only-of-type {\n",
              "        vertical-align: middle;\n",
              "    }\n",
              "\n",
              "    .dataframe tbody tr th {\n",
              "        vertical-align: top;\n",
              "    }\n",
              "\n",
              "    .dataframe thead th {\n",
              "        text-align: right;\n",
              "    }\n",
              "</style>\n",
              "<table border=\"1\" class=\"dataframe\">\n",
              "  <thead>\n",
              "    <tr style=\"text-align: right;\">\n",
              "      <th></th>\n",
              "      <th>title</th>\n",
              "      <th>date_release</th>\n",
              "      <th>count</th>\n",
              "    </tr>\n",
              "  </thead>\n",
              "  <tbody>\n",
              "    <tr>\n",
              "      <th>0</th>\n",
              "      <td>Inscryption</td>\n",
              "      <td>2021-10-19</td>\n",
              "      <td>52982</td>\n",
              "    </tr>\n",
              "    <tr>\n",
              "      <th>1</th>\n",
              "      <td>Ready or Not</td>\n",
              "      <td>2021-12-17</td>\n",
              "      <td>50146</td>\n",
              "    </tr>\n",
              "    <tr>\n",
              "      <th>2</th>\n",
              "      <td>Hell Let Loose</td>\n",
              "      <td>2021-07-27</td>\n",
              "      <td>39860</td>\n",
              "    </tr>\n",
              "    <tr>\n",
              "      <th>3</th>\n",
              "      <td>OUTRIDERS</td>\n",
              "      <td>2021-04-01</td>\n",
              "      <td>36717</td>\n",
              "    </tr>\n",
              "    <tr>\n",
              "      <th>4</th>\n",
              "      <td>Forza Horizon 4</td>\n",
              "      <td>2021-03-09</td>\n",
              "      <td>31337</td>\n",
              "    </tr>\n",
              "    <tr>\n",
              "      <th>5</th>\n",
              "      <td>It Takes Two</td>\n",
              "      <td>2021-03-25</td>\n",
              "      <td>27817</td>\n",
              "    </tr>\n",
              "    <tr>\n",
              "      <th>6</th>\n",
              "      <td>GTFO</td>\n",
              "      <td>2021-12-09</td>\n",
              "      <td>25641</td>\n",
              "    </tr>\n",
              "    <tr>\n",
              "      <th>7</th>\n",
              "      <td>GUILTY GEAR -STRIVE-</td>\n",
              "      <td>2021-06-11</td>\n",
              "      <td>25488</td>\n",
              "    </tr>\n",
              "    <tr>\n",
              "      <th>8</th>\n",
              "      <td>Halo Infinite</td>\n",
              "      <td>2021-11-15</td>\n",
              "      <td>21899</td>\n",
              "    </tr>\n",
              "    <tr>\n",
              "      <th>9</th>\n",
              "      <td>DEVOUR</td>\n",
              "      <td>2021-01-28</td>\n",
              "      <td>18597</td>\n",
              "    </tr>\n",
              "  </tbody>\n",
              "</table>\n",
              "</div>\n",
              "      <button class=\"colab-df-convert\" onclick=\"convertToInteractive('df-657a9247-6fdf-48dd-b702-6ac5e0eb48fc')\"\n",
              "              title=\"Convert this dataframe to an interactive table.\"\n",
              "              style=\"display:none;\">\n",
              "        \n",
              "  <svg xmlns=\"http://www.w3.org/2000/svg\" height=\"24px\"viewBox=\"0 0 24 24\"\n",
              "       width=\"24px\">\n",
              "    <path d=\"M0 0h24v24H0V0z\" fill=\"none\"/>\n",
              "    <path d=\"M18.56 5.44l.94 2.06.94-2.06 2.06-.94-2.06-.94-.94-2.06-.94 2.06-2.06.94zm-11 1L8.5 8.5l.94-2.06 2.06-.94-2.06-.94L8.5 2.5l-.94 2.06-2.06.94zm10 10l.94 2.06.94-2.06 2.06-.94-2.06-.94-.94-2.06-.94 2.06-2.06.94z\"/><path d=\"M17.41 7.96l-1.37-1.37c-.4-.4-.92-.59-1.43-.59-.52 0-1.04.2-1.43.59L10.3 9.45l-7.72 7.72c-.78.78-.78 2.05 0 2.83L4 21.41c.39.39.9.59 1.41.59.51 0 1.02-.2 1.41-.59l7.78-7.78 2.81-2.81c.8-.78.8-2.07 0-2.86zM5.41 20L4 18.59l7.72-7.72 1.47 1.35L5.41 20z\"/>\n",
              "  </svg>\n",
              "      </button>\n",
              "      \n",
              "  <style>\n",
              "    .colab-df-container {\n",
              "      display:flex;\n",
              "      flex-wrap:wrap;\n",
              "      gap: 12px;\n",
              "    }\n",
              "\n",
              "    .colab-df-convert {\n",
              "      background-color: #E8F0FE;\n",
              "      border: none;\n",
              "      border-radius: 50%;\n",
              "      cursor: pointer;\n",
              "      display: none;\n",
              "      fill: #1967D2;\n",
              "      height: 32px;\n",
              "      padding: 0 0 0 0;\n",
              "      width: 32px;\n",
              "    }\n",
              "\n",
              "    .colab-df-convert:hover {\n",
              "      background-color: #E2EBFA;\n",
              "      box-shadow: 0px 1px 2px rgba(60, 64, 67, 0.3), 0px 1px 3px 1px rgba(60, 64, 67, 0.15);\n",
              "      fill: #174EA6;\n",
              "    }\n",
              "\n",
              "    [theme=dark] .colab-df-convert {\n",
              "      background-color: #3B4455;\n",
              "      fill: #D2E3FC;\n",
              "    }\n",
              "\n",
              "    [theme=dark] .colab-df-convert:hover {\n",
              "      background-color: #434B5C;\n",
              "      box-shadow: 0px 1px 3px 1px rgba(0, 0, 0, 0.15);\n",
              "      filter: drop-shadow(0px 1px 2px rgba(0, 0, 0, 0.3));\n",
              "      fill: #FFFFFF;\n",
              "    }\n",
              "  </style>\n",
              "\n",
              "      <script>\n",
              "        const buttonEl =\n",
              "          document.querySelector('#df-657a9247-6fdf-48dd-b702-6ac5e0eb48fc button.colab-df-convert');\n",
              "        buttonEl.style.display =\n",
              "          google.colab.kernel.accessAllowed ? 'block' : 'none';\n",
              "\n",
              "        async function convertToInteractive(key) {\n",
              "          const element = document.querySelector('#df-657a9247-6fdf-48dd-b702-6ac5e0eb48fc');\n",
              "          const dataTable =\n",
              "            await google.colab.kernel.invokeFunction('convertToInteractive',\n",
              "                                                     [key], {});\n",
              "          if (!dataTable) return;\n",
              "\n",
              "          const docLinkHtml = 'Like what you see? Visit the ' +\n",
              "            '<a target=\"_blank\" href=https://colab.research.google.com/notebooks/data_table.ipynb>data table notebook</a>'\n",
              "            + ' to learn more about interactive tables.';\n",
              "          element.innerHTML = '';\n",
              "          dataTable['output_type'] = 'display_data';\n",
              "          await google.colab.output.renderOutput(dataTable, element);\n",
              "          const docLink = document.createElement('div');\n",
              "          docLink.innerHTML = docLinkHtml;\n",
              "          element.appendChild(docLink);\n",
              "        }\n",
              "      </script>\n",
              "    </div>\n",
              "  </div>\n",
              "  "
            ]
          },
          "metadata": {},
          "execution_count": 140
        }
      ],
      "source": [
        "trend7 = trend7.toPandas()\n",
        "trend7.head(10)"
      ]
    },
    {
      "cell_type": "code",
      "execution_count": 141,
      "metadata": {
        "id": "J1koSmziRg1r",
        "colab": {
          "base_uri": "https://localhost:8080/",
          "height": 207
        },
        "outputId": "c482b7b4-4776-4f22-fa24-73db6f25e7f1"
      },
      "outputs": [
        {
          "output_type": "display_data",
          "data": {
            "text/plain": [
              "<Figure size 1800x504 with 1 Axes>"
            ],
            "image/png": "[encoded data removed]"
          },
          "metadata": {
            "needs_background": "light"
          }
        }
      ],
      "source": [
        "fig, ax = plt.subplots(figsize =(25,7))\n",
        "ax.bar(trend7['title'][:10],trend7[\"count\"][:10],width=0.7, edgecolor=\"white\", linewidth=1)\n",
        "# ax.set(xlim=(0, 8),ylim=(0, 8))\n",
        "plt.title(\"Year 2021\")\n",
        "plt.xlabel('Name of games')\n",
        "plt.ylabel('Count')\n",
        "plt.show()"
      ]
    },
    {
      "cell_type": "markdown",
      "metadata": {
        "id": "4ysbGriHR0eG"
      },
      "source": [
        "### 2022"
      ]
    },
    {
      "cell_type": "code",
      "execution_count": 142,
      "metadata": {
        "id": "jlfEgz7yR0eH"
      },
      "outputs": [],
      "source": [
        "trend8 = all_data.filter((f.year('date_release') == lit('2022'))).groupBy(\"title\",'date_release').count().orderBy(f.col('count').desc())"
      ]
    },
    {
      "cell_type": "code",
      "execution_count": 143,
      "metadata": {
        "id": "okbycpIPR0eH",
        "colab": {
          "base_uri": "https://localhost:8080/"
        },
        "outputId": "5e43d212-300c-4dce-e669-387251965de3"
      },
      "outputs": [
        {
          "output_type": "stream",
          "name": "stdout",
          "text": [
            "+--------------------+------------+------+\n",
            "|               title|date_release| count|\n",
            "+--------------------+------------+------+\n",
            "|Call of Duty®: Mo...|  2022-10-27|131361|\n",
            "|            Lost Ark|  2022-02-11| 94162|\n",
            "|               Stray|  2022-07-19| 56284|\n",
            "|Dying Light 2 Sta...|  2022-02-03| 55244|\n",
            "|          ELDEN RING|  2022-02-24| 55120|\n",
            "|Mount & Blade II:...|  2022-10-25| 54219|\n",
            "|   Vampire Survivors|  2022-10-20| 43523|\n",
            "|Warhammer 40000: ...|  2022-11-30| 38637|\n",
            "|Total War: WARHAM...|  2022-02-16| 32226|\n",
            "|Marvel’s Spider-M...|  2022-08-12| 31048|\n",
            "+--------------------+------------+------+\n",
            "only showing top 10 rows\n",
            "\n"
          ]
        }
      ],
      "source": [
        "trend8.show(10)"
      ]
    },
    {
      "cell_type": "code",
      "execution_count": 144,
      "metadata": {
        "id": "A7dpYwOsR0eH",
        "colab": {
          "base_uri": "https://localhost:8080/",
          "height": 363
        },
        "outputId": "a28406a2-ee0e-46bd-a617-5828c58802ed"
      },
      "outputs": [
        {
          "output_type": "execute_result",
          "data": {
            "text/plain": [
              "                               title date_release   count\n",
              "0  Call of Duty®: Modern Warfare® II   2022-10-27  131361\n",
              "1                           Lost Ark   2022-02-11   94162\n",
              "2                              Stray   2022-07-19   56284\n",
              "3           Dying Light 2 Stay Human   2022-02-03   55244\n",
              "4                         ELDEN RING   2022-02-24   55120\n",
              "5       Mount & Blade II: Bannerlord   2022-10-25   54219\n",
              "6                  Vampire Survivors   2022-10-20   43523\n",
              "7          Warhammer 40000: Darktide   2022-11-30   38637\n",
              "8           Total War: WARHAMMER III   2022-02-16   32226\n",
              "9     Marvel’s Spider-Man Remastered   2022-08-12   31048"
            ],
            "text/html": [
              "\n",
              "  <div id=\"df-79417959-8b86-4ce1-8e7b-d82ef0a7fd6a\">\n",
              "    <div class=\"colab-df-container\">\n",
              "      <div>\n",
              "<style scoped>\n",
              "    .dataframe tbody tr th:only-of-type {\n",
              "        vertical-align: middle;\n",
              "    }\n",
              "\n",
              "    .dataframe tbody tr th {\n",
              "        vertical-align: top;\n",
              "    }\n",
              "\n",
              "    .dataframe thead th {\n",
              "        text-align: right;\n",
              "    }\n",
              "</style>\n",
              "<table border=\"1\" class=\"dataframe\">\n",
              "  <thead>\n",
              "    <tr style=\"text-align: right;\">\n",
              "      <th></th>\n",
              "      <th>title</th>\n",
              "      <th>date_release</th>\n",
              "      <th>count</th>\n",
              "    </tr>\n",
              "  </thead>\n",
              "  <tbody>\n",
              "    <tr>\n",
              "      <th>0</th>\n",
              "      <td>Call of Duty®: Modern Warfare® II</td>\n",
              "      <td>2022-10-27</td>\n",
              "      <td>131361</td>\n",
              "    </tr>\n",
              "    <tr>\n",
              "      <th>1</th>\n",
              "      <td>Lost Ark</td>\n",
              "      <td>2022-02-11</td>\n",
              "      <td>94162</td>\n",
              "    </tr>\n",
              "    <tr>\n",
              "      <th>2</th>\n",
              "      <td>Stray</td>\n",
              "      <td>2022-07-19</td>\n",
              "      <td>56284</td>\n",
              "    </tr>\n",
              "    <tr>\n",
              "      <th>3</th>\n",
              "      <td>Dying Light 2 Stay Human</td>\n",
              "      <td>2022-02-03</td>\n",
              "      <td>55244</td>\n",
              "    </tr>\n",
              "    <tr>\n",
              "      <th>4</th>\n",
              "      <td>ELDEN RING</td>\n",
              "      <td>2022-02-24</td>\n",
              "      <td>55120</td>\n",
              "    </tr>\n",
              "    <tr>\n",
              "      <th>5</th>\n",
              "      <td>Mount &amp; Blade II: Bannerlord</td>\n",
              "      <td>2022-10-25</td>\n",
              "      <td>54219</td>\n",
              "    </tr>\n",
              "    <tr>\n",
              "      <th>6</th>\n",
              "      <td>Vampire Survivors</td>\n",
              "      <td>2022-10-20</td>\n",
              "      <td>43523</td>\n",
              "    </tr>\n",
              "    <tr>\n",
              "      <th>7</th>\n",
              "      <td>Warhammer 40000: Darktide</td>\n",
              "      <td>2022-11-30</td>\n",
              "      <td>38637</td>\n",
              "    </tr>\n",
              "    <tr>\n",
              "      <th>8</th>\n",
              "      <td>Total War: WARHAMMER III</td>\n",
              "      <td>2022-02-16</td>\n",
              "      <td>32226</td>\n",
              "    </tr>\n",
              "    <tr>\n",
              "      <th>9</th>\n",
              "      <td>Marvel’s Spider-Man Remastered</td>\n",
              "      <td>2022-08-12</td>\n",
              "      <td>31048</td>\n",
              "    </tr>\n",
              "  </tbody>\n",
              "</table>\n",
              "</div>\n",
              "      <button class=\"colab-df-convert\" onclick=\"convertToInteractive('df-79417959-8b86-4ce1-8e7b-d82ef0a7fd6a')\"\n",
              "              title=\"Convert this dataframe to an interactive table.\"\n",
              "              style=\"display:none;\">\n",
              "        \n",
              "  <svg xmlns=\"http://www.w3.org/2000/svg\" height=\"24px\"viewBox=\"0 0 24 24\"\n",
              "       width=\"24px\">\n",
              "    <path d=\"M0 0h24v24H0V0z\" fill=\"none\"/>\n",
              "    <path d=\"M18.56 5.44l.94 2.06.94-2.06 2.06-.94-2.06-.94-.94-2.06-.94 2.06-2.06.94zm-11 1L8.5 8.5l.94-2.06 2.06-.94-2.06-.94L8.5 2.5l-.94 2.06-2.06.94zm10 10l.94 2.06.94-2.06 2.06-.94-2.06-.94-.94-2.06-.94 2.06-2.06.94z\"/><path d=\"M17.41 7.96l-1.37-1.37c-.4-.4-.92-.59-1.43-.59-.52 0-1.04.2-1.43.59L10.3 9.45l-7.72 7.72c-.78.78-.78 2.05 0 2.83L4 21.41c.39.39.9.59 1.41.59.51 0 1.02-.2 1.41-.59l7.78-7.78 2.81-2.81c.8-.78.8-2.07 0-2.86zM5.41 20L4 18.59l7.72-7.72 1.47 1.35L5.41 20z\"/>\n",
              "  </svg>\n",
              "      </button>\n",
              "      \n",
              "  <style>\n",
              "    .colab-df-container {\n",
              "      display:flex;\n",
              "      flex-wrap:wrap;\n",
              "      gap: 12px;\n",
              "    }\n",
              "\n",
              "    .colab-df-convert {\n",
              "      background-color: #E8F0FE;\n",
              "      border: none;\n",
              "      border-radius: 50%;\n",
              "      cursor: pointer;\n",
              "      display: none;\n",
              "      fill: #1967D2;\n",
              "      height: 32px;\n",
              "      padding: 0 0 0 0;\n",
              "      width: 32px;\n",
              "    }\n",
              "\n",
              "    .colab-df-convert:hover {\n",
              "      background-color: #E2EBFA;\n",
              "      box-shadow: 0px 1px 2px rgba(60, 64, 67, 0.3), 0px 1px 3px 1px rgba(60, 64, 67, 0.15);\n",
              "      fill: #174EA6;\n",
              "    }\n",
              "\n",
              "    [theme=dark] .colab-df-convert {\n",
              "      background-color: #3B4455;\n",
              "      fill: #D2E3FC;\n",
              "    }\n",
              "\n",
              "    [theme=dark] .colab-df-convert:hover {\n",
              "      background-color: #434B5C;\n",
              "      box-shadow: 0px 1px 3px 1px rgba(0, 0, 0, 0.15);\n",
              "      filter: drop-shadow(0px 1px 2px rgba(0, 0, 0, 0.3));\n",
              "      fill: #FFFFFF;\n",
              "    }\n",
              "  </style>\n",
              "\n",
              "      <script>\n",
              "        const buttonEl =\n",
              "          document.querySelector('#df-79417959-8b86-4ce1-8e7b-d82ef0a7fd6a button.colab-df-convert');\n",
              "        buttonEl.style.display =\n",
              "          google.colab.kernel.accessAllowed ? 'block' : 'none';\n",
              "\n",
              "        async function convertToInteractive(key) {\n",
              "          const element = document.querySelector('#df-79417959-8b86-4ce1-8e7b-d82ef0a7fd6a');\n",
              "          const dataTable =\n",
              "            await google.colab.kernel.invokeFunction('convertToInteractive',\n",
              "                                                     [key], {});\n",
              "          if (!dataTable) return;\n",
              "\n",
              "          const docLinkHtml = 'Like what you see? Visit the ' +\n",
              "            '<a target=\"_blank\" href=https://colab.research.google.com/notebooks/data_table.ipynb>data table notebook</a>'\n",
              "            + ' to learn more about interactive tables.';\n",
              "          element.innerHTML = '';\n",
              "          dataTable['output_type'] = 'display_data';\n",
              "          await google.colab.output.renderOutput(dataTable, element);\n",
              "          const docLink = document.createElement('div');\n",
              "          docLink.innerHTML = docLinkHtml;\n",
              "          element.appendChild(docLink);\n",
              "        }\n",
              "      </script>\n",
              "    </div>\n",
              "  </div>\n",
              "  "
            ]
          },
          "metadata": {},
          "execution_count": 144
        }
      ],
      "source": [
        "trend8 = trend8.toPandas()\n",
        "trend8.head(10)"
      ]
    },
    {
      "cell_type": "code",
      "execution_count": 145,
      "metadata": {
        "id": "UQK-MpC6R0eH",
        "colab": {
          "base_uri": "https://localhost:8080/",
          "height": 206
        },
        "outputId": "ed6ed894-7717-490f-c9fc-71d49d79f129"
      },
      "outputs": [
        {
          "output_type": "display_data",
          "data": {
            "text/plain": [
              "<Figure size 1800x504 with 1 Axes>"
            ],
            "image/png": "[encoded data removed]"
          },
          "metadata": {
            "needs_background": "light"
          }
        }
      ],
      "source": [
        "fig, ax = plt.subplots(figsize =(25,7))\n",
        "ax.bar(trend8['title'][:10],trend8[\"count\"][:10],width=0.7, edgecolor=\"white\", linewidth=1)\n",
        "# ax.set(xlim=(0, 8),ylim=(0, 8))\n",
        "plt.title(\"Year 2022\")\n",
        "plt.xlabel('Name of games')\n",
        "plt.ylabel('Count')\n",
        "plt.show()"
      ]
    }
  ],
  "metadata": {
    "colab": {
      "provenance": [],
      "authorship_tag": "ABX9TyMnvM/N3thaHl0hiJY8wg2z",
      "include_colab_link": true
    },
    "kernelspec": {
      "display_name": "Python 3",
      "name": "python3"
    },
    "language_info": {
      "name": "python"
    }
  },
  "nbformat": 4,
  "nbformat_minor": 0
}