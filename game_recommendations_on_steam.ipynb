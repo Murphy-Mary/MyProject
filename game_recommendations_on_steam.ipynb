{
  "cells": [
    {
      "cell_type": "markdown",
      "metadata": {
        "id": "view-in-github",
        "colab_type": "text"
      },
      "source": [
        "<a href=\"https://colab.research.google.com/github/Murphy-Mary/MyProject/blob/main/game_recommendations_on_steam.ipynb\" target=\"_parent\"><img src=\"https://colab.research.google.com/assets/colab-badge.svg\" alt=\"Open In Colab\"/></a>"
      ]
    },
    {
      "cell_type": "markdown",
      "metadata": {
        "id": "9uIPv4sZ5sn_"
      },
      "source": [
        "# Import data\n"
      ]
    },
    {
      "cell_type": "markdown",
      "metadata": {
        "id": "5gcjTvkVTz-S"
      },
      "source": [
        "souce : https://www.kaggle.com/datasets/antonkozyriev/game-recommendations-on-steam"
      ]
    },
    {
      "cell_type": "code",
      "execution_count": null,
      "metadata": {
        "id": "_5cB2k1T3LJE",
        "colab": {
          "base_uri": "https://localhost:8080/"
        },
        "outputId": "95aa85db-24f4-45bb-e0d5-f28c66f5e49a"
      },
      "outputs": [
        {
          "output_type": "stream",
          "name": "stdout",
          "text": [
            "Mounted at /content/gdrive\n",
            "Downloading game-recommendations-on-steam.zip to /content\n",
            " 87% 98.0M/112M [00:00<00:00, 212MB/s]\n",
            "100% 112M/112M [00:00<00:00, 203MB/s] \n",
            "Archive:  /content/game-recommendations-on-steam.zip\n",
            "  inflating: games.csv               \n",
            "  inflating: games_metadata.json     \n",
            "  inflating: recommendations.csv     \n",
            "  inflating: users.csv               \n"
          ]
        }
      ],
      "source": [
        "from google.colab import drive\n",
        "drive.mount('/content/gdrive')\n",
        "\n",
        "import os\n",
        "os.environ['KAGGLE_CONFIG_DIR'] = \"/content/gdrive/My Drive/Kaggle\"\n",
        "\n",
        "!kaggle datasets download -d antonkozyriev/game-recommendations-on-steam\n",
        "!unzip /content/game-recommendations-on-steam.zip && rm /content/game-recommendations-on-steam.zip"
      ]
    },
    {
      "cell_type": "code",
      "execution_count": null,
      "metadata": {
        "colab": {
          "base_uri": "https://localhost:8080/"
        },
        "id": "X_5ZxVQ99DB5",
        "outputId": "8f4ea3c3-7030-4479-ecda-9009bc467bd6"
      },
      "outputs": [
        {
          "output_type": "stream",
          "name": "stdout",
          "text": [
            "\r0% [Working]\r            \rGet:1 https://cloud.r-project.org/bin/linux/ubuntu focal-cran40/ InRelease [3,622 B]\n",
            "\r0% [Waiting for headers] [Waiting for headers] [1 InRelease 0 B/3,622 B 0%] [Wa\r0% [Waiting for headers] [Waiting for headers] [Waiting for headers] [Waiting f\r                                                                               \rHit:2 http://archive.ubuntu.com/ubuntu focal InRelease\n",
            "\r0% [Waiting for headers] [Waiting for headers] [Waiting for headers] [Waiting f\r                                                                               \rGet:3 http://archive.ubuntu.com/ubuntu focal-updates InRelease [114 kB]\n",
            "\r0% [3 InRelease 14.2 kB/114 kB 12%] [Waiting for headers] [Waiting for headers]\r                                                                               \rGet:4 http://security.ubuntu.com/ubuntu focal-security InRelease [114 kB]\n",
            "\r                                                                               \rHit:5 http://ppa.launchpad.net/c2d4u.team/c2d4u4.0+/ubuntu focal InRelease\n",
            "\r0% [3 InRelease 15.6 kB/114 kB 14%] [4 InRelease 14.2 kB/114 kB 12%] [Waiting f\r                                                                               \rIgn:6 https://developer.download.nvidia.com/compute/machine-learning/repos/ubuntu2004/x86_64  InRelease\n",
            "\r0% [3 InRelease 15.6 kB/114 kB 14%] [4 InRelease 14.2 kB/114 kB 12%] [Waiting f\r                                                                               \rHit:7 https://developer.download.nvidia.com/compute/cuda/repos/ubuntu2004/x86_64  InRelease\n",
            "Hit:8 https://developer.download.nvidia.com/compute/machine-learning/repos/ubuntu2004/x86_64  Release\n",
            "Get:9 http://archive.ubuntu.com/ubuntu focal-backports InRelease [108 kB]\n",
            "Hit:10 http://ppa.launchpad.net/cran/libgit2/ubuntu focal InRelease\n",
            "Hit:11 http://ppa.launchpad.net/deadsnakes/ppa/ubuntu focal InRelease\n",
            "Hit:12 http://ppa.launchpad.net/graphics-drivers/ppa/ubuntu focal InRelease\n",
            "Hit:14 http://ppa.launchpad.net/ubuntugis/ppa/ubuntu focal InRelease\n",
            "Get:15 http://archive.ubuntu.com/ubuntu focal-updates/main amd64 Packages [2,972 kB]\n",
            "Get:16 http://archive.ubuntu.com/ubuntu focal-updates/universe amd64 Packages [1,299 kB]\n",
            "Get:17 http://archive.ubuntu.com/ubuntu focal-updates/restricted amd64 Packages [2,069 kB]\n",
            "Get:18 http://archive.ubuntu.com/ubuntu focal-backports/universe amd64 Packages [28.6 kB]\n",
            "Get:19 http://security.ubuntu.com/ubuntu focal-security/universe amd64 Packages [1,000 kB]\n",
            "Get:20 http://security.ubuntu.com/ubuntu focal-security/main amd64 Packages [2,496 kB]\n",
            "Fetched 10.2 MB in 2s (4,293 kB/s)\n",
            "Reading package lists... Done\n"
          ]
        }
      ],
      "source": [
        "!apt-get update"
      ]
    },
    {
      "cell_type": "code",
      "execution_count": null,
      "metadata": {
        "colab": {
          "base_uri": "https://localhost:8080/"
        },
        "id": "yImMt6v56jww",
        "outputId": "e21fc53f-58ef-4aab-e4df-5da7075ec386"
      },
      "outputs": [
        {
          "output_type": "stream",
          "name": "stdout",
          "text": [
            "--2023-02-27 10:01:27--  http://apache.osuosl.org/spark/spark-3.3.2/spark-3.3.2-bin-hadoop3.tgz\n",
            "Resolving apache.osuosl.org (apache.osuosl.org)... 140.211.166.134, 64.50.236.52, 64.50.233.100, ...\n",
            "Connecting to apache.osuosl.org (apache.osuosl.org)|140.211.166.134|:80... connected.\n",
            "HTTP request sent, awaiting response... 200 OK\n",
            "Length: 299360284 (285M) [application/x-gzip]\n",
            "Saving to: ‘spark-3.3.2-bin-hadoop3.tgz’\n",
            "\n",
            "spark-3.3.2-bin-had 100%[===================>] 285.49M  35.0MB/s    in 48s     \n",
            "\n",
            "2023-02-27 10:02:16 (5.96 MB/s) - ‘spark-3.3.2-bin-hadoop3.tgz’ saved [299360284/299360284]\n",
            "\n",
            "\u001b[2K     \u001b[90m━━━━━━━━━━━━━━━━━━━━━━━━━━━━━━━━━━━━━━━━\u001b[0m \u001b[32m57.7/57.7 KB\u001b[0m \u001b[31m2.5 MB/s\u001b[0m eta \u001b[36m0:00:00\u001b[0m\n",
            "\u001b[2K     \u001b[90m━━━━━━━━━━━━━━━━━━━━━━━━━━━━━━━━━━━━━━━━\u001b[0m \u001b[32m1.6/1.6 MB\u001b[0m \u001b[31m24.7 MB/s\u001b[0m eta \u001b[36m0:00:00\u001b[0m\n",
            "\u001b[?25h3.3.2\n"
          ]
        }
      ],
      "source": [
        "#Get Install the Java Development Kit\n",
        "!apt-get install openjdk-8-jdk-headless -qq > /dev/null\n",
        "#Get Spark lib -- address need to be change according to the current version of Spark: https://downloads.apache.org/spark/\n",
        "!wget  http://apache.osuosl.org/spark/spark-3.3.2/spark-3.3.2-bin-hadoop3.tgz\n",
        "#Unzip th Spark\n",
        "!tar xf spark-3.3.2-bin-hadoop3.tgz\n",
        "!rm spark-3.3.2-bin-hadoop3.tgz\n",
        "#install findspark for Python\n",
        "!pip install -q findspark\n",
        "#Install extra lib(s)\n",
        "!pip install -q xlrd\n",
        "!pip install -q kaggle\n",
        "!pip install -q kora\n",
        "\n",
        "#import and set environment for spark\n",
        "os.environ[\"JAVA_HOME\"] = \"/usr/lib/jvm/java-8-openjdk-amd64\"\n",
        "os.environ[\"SPARK_HOME\"] = \"/content/spark-3.3.2-bin-hadoop3\"\n",
        "import kora\n",
        "\n",
        "import findspark\n",
        "findspark.init()\n",
        "from pyspark import SparkContext\n",
        "from pyspark.sql import SparkSession\n",
        "\n",
        "\n",
        "SPARK_URL = \"local[*]\"\n",
        "\n",
        "spark = SparkSession.builder.master(SPARK_URL).getOrCreate()\n",
        "\n",
        "# Check the pyspark version\n",
        "import pyspark\n",
        "print(pyspark.__version__)"
      ]
    },
    {
      "cell_type": "code",
      "execution_count": null,
      "metadata": {
        "colab": {
          "base_uri": "https://localhost:8080/"
        },
        "id": "hPfNL1sABeDz",
        "outputId": "eab1343b-3816-4899-cf95-4d2ba6659f90"
      },
      "outputs": [
        {
          "output_type": "stream",
          "name": "stdout",
          "text": [
            "Looking in indexes: https://pypi.org/simple, https://us-python.pkg.dev/colab-wheels/public/simple/\n",
            "Collecting pyspark_dist_explore\n",
            "  Downloading pyspark_dist_explore-0.1.8-py3-none-any.whl (7.2 kB)\n",
            "Requirement already satisfied: scipy in /usr/local/lib/python3.8/dist-packages (from pyspark_dist_explore) (1.7.3)\n",
            "Requirement already satisfied: pandas in /usr/local/lib/python3.8/dist-packages (from pyspark_dist_explore) (1.3.5)\n",
            "Requirement already satisfied: matplotlib in /usr/local/lib/python3.8/dist-packages (from pyspark_dist_explore) (3.5.3)\n",
            "Requirement already satisfied: numpy in /usr/local/lib/python3.8/dist-packages (from pyspark_dist_explore) (1.22.4)\n",
            "Requirement already satisfied: cycler>=0.10 in /usr/local/lib/python3.8/dist-packages (from matplotlib->pyspark_dist_explore) (0.11.0)\n",
            "Requirement already satisfied: pyparsing>=2.2.1 in /usr/local/lib/python3.8/dist-packages (from matplotlib->pyspark_dist_explore) (3.0.9)\n",
            "Requirement already satisfied: kiwisolver>=1.0.1 in /usr/local/lib/python3.8/dist-packages (from matplotlib->pyspark_dist_explore) (1.4.4)\n",
            "Requirement already satisfied: packaging>=20.0 in /usr/local/lib/python3.8/dist-packages (from matplotlib->pyspark_dist_explore) (23.0)\n",
            "Requirement already satisfied: fonttools>=4.22.0 in /usr/local/lib/python3.8/dist-packages (from matplotlib->pyspark_dist_explore) (4.38.0)\n",
            "Requirement already satisfied: python-dateutil>=2.7 in /usr/local/lib/python3.8/dist-packages (from matplotlib->pyspark_dist_explore) (2.8.2)\n",
            "Requirement already satisfied: pillow>=6.2.0 in /usr/local/lib/python3.8/dist-packages (from matplotlib->pyspark_dist_explore) (7.1.2)\n",
            "Requirement already satisfied: pytz>=2017.3 in /usr/local/lib/python3.8/dist-packages (from pandas->pyspark_dist_explore) (2022.7.1)\n",
            "Requirement already satisfied: six>=1.5 in /usr/local/lib/python3.8/dist-packages (from python-dateutil>=2.7->matplotlib->pyspark_dist_explore) (1.15.0)\n",
            "Installing collected packages: pyspark_dist_explore\n",
            "Successfully installed pyspark_dist_explore-0.1.8\n"
          ]
        }
      ],
      "source": [
        "!pip install pyspark_dist_explore"
      ]
    },
    {
      "cell_type": "code",
      "execution_count": null,
      "metadata": {
        "colab": {
          "base_uri": "https://localhost:8080/"
        },
        "id": "c4u7xPYE44mB",
        "outputId": "6593439b-933c-40ab-b3df-713fb26b35e6"
      },
      "outputs": [
        {
          "output_type": "stream",
          "name": "stderr",
          "text": [
            "/content/spark-3.3.2-bin-hadoop3/python/pyspark/sql/context.py:112: FutureWarning: Deprecated in 3.0.0. Use SparkSession.builder.getOrCreate() instead.\n",
            "  warnings.warn(\n"
          ]
        }
      ],
      "source": [
        "import numpy as np \n",
        "import pandas as pd\n",
        "import pyspark.sql.functions as f\n",
        "import matplotlib.pyplot as plt\n",
        "import seaborn as sns\n",
        "\n",
        "from IPython.display import display, HTML, display_html #usefull to display wide tables\n",
        "from pyspark_dist_explore import Histogram, hist, distplot, pandas_histogram\n",
        "from pyspark.sql import Row\n",
        "\n",
        "from pyspark.sql.functions import lit\n",
        "from pyspark import SparkConf\n",
        "from pyspark import SparkContext\n",
        "sc = SparkContext.getOrCreate(SparkConf().setMaster(\"local[*]\"))\n",
        "\n",
        "#sc = pyspark.SparkContext()\n",
        "sqlContext = pyspark.SQLContext(sc)\n",
        "%matplotlib inline"
      ]
    },
    {
      "cell_type": "markdown",
      "metadata": {
        "id": "O_po6boIaWOH"
      },
      "source": [
        "## data"
      ]
    },
    {
      "cell_type": "code",
      "execution_count": null,
      "metadata": {
        "colab": {
          "base_uri": "https://localhost:8080/"
        },
        "id": "r_y867ze4_ow",
        "outputId": "a3b33388-ed87-4055-c4a0-a1c673d71429"
      },
      "outputs": [
        {
          "output_type": "stream",
          "name": "stdout",
          "text": [
            "root\n",
            " |-- app_id: long (nullable = true)\n",
            " |-- description: string (nullable = true)\n",
            " |-- tags: array (nullable = true)\n",
            " |    |-- element: string (containsNull = true)\n",
            "\n",
            "+------+--------------------+--------------------+\n",
            "|app_id|         description|                tags|\n",
            "+------+--------------------+--------------------+\n",
            "| 10090|Call of Duty is b...|[Zombies, World W...|\n",
            "| 13500|Enter the dark un...|[Action, Adventur...|\n",
            "| 22364|                    |            [Action]|\n",
            "|113020|Monaco: What's Yo...|[Co-op, Stealth, ...|\n",
            "|226560|Escape Dead Islan...|[Zombies, Adventu...|\n",
            "|249050|Dungeon of the En...|[Roguelike, Strat...|\n",
            "|250180|“METAL SLUG 3”, t...|[Arcade, Classic,...|\n",
            "|253980|Experience incred...|[RPG, Action, Fan...|\n",
            "|261550|A strategy/action...|[Medieval, Strate...|\n",
            "|271850|                    |[Strategy, Simula...|\n",
            "|282900|Packed with fast-...|[Anime, JRPG, Fem...|\n",
            "| 19810|Lead a team of do...|  [Action, Tactical]|\n",
            "| 15270|In a ferocious Ar...|[Horror, Action, ...|\n",
            "| 21130|Build the adventu...|[LEGO, Adventure,...|\n",
            "| 22130|Includes Hearts o...|[Strategy, Grand ...|\n",
            "| 29180|Enter the ambient...|[Indie, Casual, P...|\n",
            "| 32750|The best-selling ...|[Action, Simulati...|\n",
            "|241620|Action-oriented c...|[RPG, Indie, Isom...|\n",
            "|244910|Explore an abando...|[Atmospheric, Puz...|\n",
            "|245950|                    |[Action, RPG, FPS...|\n",
            "+------+--------------------+--------------------+\n",
            "only showing top 20 rows\n",
            "\n"
          ]
        }
      ],
      "source": [
        "game_tags = spark.read.json(\"/content/games_metadata.json\")\n",
        "game_tags.printSchema()\n",
        "game_tags.show()"
      ]
    },
    {
      "cell_type": "code",
      "execution_count": null,
      "metadata": {
        "colab": {
          "base_uri": "https://localhost:8080/"
        },
        "id": "BWt_TYOH5Eyz",
        "outputId": "f4de0d92-c39e-4ffb-bcca-127e43bb5a3b"
      },
      "outputs": [
        {
          "output_type": "execute_result",
          "data": {
            "text/plain": [
              "21236"
            ]
          },
          "metadata": {},
          "execution_count": 7
        }
      ],
      "source": [
        "game_tags.count()"
      ]
    },
    {
      "cell_type": "code",
      "execution_count": null,
      "metadata": {
        "colab": {
          "base_uri": "https://localhost:8080/"
        },
        "id": "F2JckxI2sc_0",
        "outputId": "21e2a386-80c2-4128-a7a7-5ed558f2714d"
      },
      "outputs": [
        {
          "output_type": "stream",
          "name": "stdout",
          "text": [
            "root\n",
            " |-- app_id: string (nullable = true)\n",
            " |-- title: string (nullable = true)\n",
            " |-- date_release: string (nullable = true)\n",
            " |-- win: string (nullable = true)\n",
            " |-- mac: string (nullable = true)\n",
            " |-- linux: string (nullable = true)\n",
            " |-- rating: string (nullable = true)\n",
            " |-- positive_ratio: string (nullable = true)\n",
            " |-- user_reviews: double (nullable = true)\n",
            " |-- price_final: double (nullable = true)\n",
            " |-- price_original: double (nullable = true)\n",
            " |-- discount: double (nullable = true)\n",
            " |-- steam_deck: string (nullable = true)\n",
            "\n",
            "+------+--------------------+------------+----+-----+-----+---------------+--------------+------------+-----------+--------------+--------+----------+\n",
            "|app_id|               title|date_release| win|  mac|linux|         rating|positive_ratio|user_reviews|price_final|price_original|discount|steam_deck|\n",
            "+------+--------------------+------------+----+-----+-----+---------------+--------------+------------+-----------+--------------+--------+----------+\n",
            "| 10090|Call of Duty: Wor...|  2008-11-18|true|false|false|  Very Positive|            92|     37039.0|      19.99|         19.99|     0.0|      true|\n",
            "| 13500|Prince of Persia:...|  2008-11-21|true|false|false|  Very Positive|            84|      2199.0|       9.99|          9.99|     0.0|      true|\n",
            "| 22364|BRINK: Agents of ...|  2011-08-03|true|false|false|       Positive|            85|        21.0|       2.99|          2.99|     0.0|      true|\n",
            "|113020|Monaco: What's Yo...|  2013-04-24|true| true| true|  Very Positive|            92|      3722.0|      14.99|         14.99|     0.0|      true|\n",
            "|226560|  Escape Dead Island|  2014-11-18|true|false|false|          Mixed|            61|       873.0|      14.99|         14.99|     0.0|      true|\n",
            "|249050|Dungeon of the EN...|  2014-10-27|true| true|false|  Very Positive|            88|      8784.0|      11.99|         11.99|     0.0|      true|\n",
            "|250180|        METAL SLUG 3|  2015-09-14|true|false|false|  Very Positive|            90|      5579.0|       7.99|          7.99|     0.0|      true|\n",
            "|253980|             Enclave|  2013-10-04|true| true| true|Mostly Positive|            75|      1608.0|       4.99|          4.99|     0.0|      true|\n",
            "|261550|Mount & Blade II:...|  2022-10-25|true|false|false|  Very Positive|            87|    169694.0|      49.99|         49.99|     0.0|      true|\n",
            "|271850|Men of War: Assau...|  2014-05-16|true|false|false|          Mixed|            61|       199.0|       6.99|          6.99|     0.0|      true|\n",
            "|282900|Hyperdimension Ne...|  2015-01-29|true|false|false|  Very Positive|            94|      9686.0|      14.99|         14.99|     0.0|      true|\n",
            "| 19810|The Sum of All Fears|  2008-10-10|true|false|false|Mostly Positive|            75|        33.0|       9.99|          9.99|     0.0|      true|\n",
            "| 15270|          Cold Fear™|  2008-05-13|true|false|false|  Very Positive|            85|       800.0|       9.99|          9.99|     0.0|      true|\n",
            "| 21130|LEGO® Harry Potte...|  2010-06-25|true|false|false|  Very Positive|            85|      5169.0|      19.99|         19.99|     0.0|      true|\n",
            "| 22130|Hearts of Iron 2 ...|  2009-01-23|true|false|false|  Very Positive|            85|       462.0|      14.99|         14.99|     0.0|      true|\n",
            "| 29180|               Osmos|  2009-08-18|true| true| true|  Very Positive|            88|       532.0|       9.99|          9.99|     0.0|      true|\n",
            "| 32750|          Comanche 4|  2009-06-18|true|false|false|  Very Positive|            90|       222.0|       9.99|          9.99|     0.0|      true|\n",
            "|241620|          Inquisitor|  2013-08-01|true|false|false|Mostly Positive|            70|       390.0|       9.99|          9.99|     0.0|      true|\n",
            "|244910|            Homesick|  2015-05-28|true|false|false|Mostly Positive|            77|      1139.0|      14.99|         14.99|     0.0|      true|\n",
            "|245950|Borderlands 2: He...|  2014-02-11|true| true| true|  Very Positive|            84|       294.0|       0.89|          2.99|    70.0|      true|\n",
            "+------+--------------------+------------+----+-----+-----+---------------+--------------+------------+-----------+--------------+--------+----------+\n",
            "only showing top 20 rows\n",
            "\n"
          ]
        }
      ],
      "source": [
        "game = spark.read.csv('/content/games.csv',header=True)\n",
        "# c0ls = [\"user_reviews\",\"price_final\",\"price_original\",\"discount\"]\n",
        "game = game.withColumn(\"user_reviews\",game.user_reviews.cast('double'))\n",
        "game = game.withColumn(\"price_final\",game.price_final.cast('double'))\n",
        "game = game.withColumn(\"price_original\",game.price_original.cast('double'))\n",
        "game = game.withColumn(\"discount\",game.discount.cast('double'))\n",
        "# game = game.withColumn(\"mac\",game.date_release.cast('Boolean'))\n",
        "# game = game.withColumn(\"mac\",game.date_release.cast('Boolean'))\n",
        "# game = game.withColumn(\"win\",game.date_release.cast('Boolean'))\n",
        "# game = game.withColumn(\"steam_deck\",game.date_release.cast('Boolean'))\n",
        "game.printSchema()\n",
        "game.show()"
      ]
    },
    {
      "cell_type": "code",
      "execution_count": null,
      "metadata": {
        "colab": {
          "base_uri": "https://localhost:8080/"
        },
        "id": "4ESV2mxR5IKI",
        "outputId": "5e4efa5e-2ff8-4122-b3d2-b7bf7283ee93"
      },
      "outputs": [
        {
          "output_type": "execute_result",
          "data": {
            "text/plain": [
              "21236"
            ]
          },
          "metadata": {},
          "execution_count": 9
        }
      ],
      "source": [
        "game.count()"
      ]
    },
    {
      "cell_type": "code",
      "execution_count": null,
      "metadata": {
        "colab": {
          "base_uri": "https://localhost:8080/"
        },
        "id": "c5NjzTtw5au4",
        "outputId": "82f1d6e2-e3a0-49d0-e8fa-7ce3d0dcd732"
      },
      "outputs": [
        {
          "output_type": "stream",
          "name": "stdout",
          "text": [
            "root\n",
            " |-- app_id: string (nullable = true)\n",
            " |-- helpful: string (nullable = true)\n",
            " |-- funny: string (nullable = true)\n",
            " |-- date: date (nullable = true)\n",
            " |-- is_recommended: boolean (nullable = true)\n",
            " |-- hours: double (nullable = true)\n",
            " |-- user_id: string (nullable = true)\n",
            " |-- review_id: string (nullable = true)\n",
            "\n",
            "+-------+-------+-----+----------+--------------+-----+-------+---------+\n",
            "| app_id|helpful|funny|      date|is_recommended|hours|user_id|review_id|\n",
            "+-------+-------+-----+----------+--------------+-----+-------+---------+\n",
            "| 975370|      0|    0|2022-12-12|          true| 36.3|  14546|        0|\n",
            "| 304390|      4|    0|2017-02-17|         false| 11.5|    797|        1|\n",
            "|1085660|      2|    0|2019-11-17|          true|336.5|  66915|        2|\n",
            "| 703080|      0|    0|2022-09-23|          true| 27.4|  68251|        3|\n",
            "| 526870|      0|    0|2021-01-10|          true|  7.9|   6647|        4|\n",
            "| 306130|      0|    0|2021-10-10|          true|  8.6|  12866|        5|\n",
            "| 238960|      0|    0|2017-11-25|          true|538.8|  24829|        6|\n",
            "|    730|      0|    0|2021-11-30|         false|157.5|  17828|        7|\n",
            "| 255710|      0|    0|2021-05-21|          true| 18.7|  92535|        8|\n",
            "| 289070|      0|    0|2020-05-26|          true|397.5| 118575|        9|\n",
            "| 431960|      0|    0|2020-10-14|          true| 30.3|  53439|       10|\n",
            "|1086940|      0|    0|2020-10-07|          true| 50.0|  24147|       11|\n",
            "|1938090|      0|    0|2022-11-16|          true| 46.7|  43688|       12|\n",
            "|1286830|      2|    0|2020-07-26|          true| 19.3|  31750|       13|\n",
            "|1172620|      0|    0|2020-11-04|          true| 89.1|  34233|       14|\n",
            "| 306130|      0|    0|2021-05-12|          true| 61.1|  21306|       15|\n",
            "| 635260|      0|    0|2022-01-30|          true|177.0|  21626|       16|\n",
            "|1151340|      0|    0|2020-07-01|          true| 86.3|  34784|       17|\n",
            "| 289070|      0|    0|2020-05-29|          true|244.1|  68828|       18|\n",
            "| 392160|      3|    0|2018-12-26|         false|320.5| 106504|       19|\n",
            "+-------+-------+-----+----------+--------------+-----+-------+---------+\n",
            "only showing top 20 rows\n",
            "\n"
          ]
        }
      ],
      "source": [
        "recomm = spark.read.csv('/content/recommendations.csv',header=True)\n",
        "recomm = recomm.withColumn(\"date\",recomm.date.cast('date'))\n",
        "recomm = recomm.withColumn(\"is_recommended\",recomm.is_recommended.cast('Boolean'))\n",
        "recomm = recomm.withColumn(\"hours\",recomm.hours.cast('double'))\n",
        "recomm.printSchema()\n",
        "recomm.show()"
      ]
    },
    {
      "cell_type": "code",
      "source": [
        "recomm.orderBy(f.col(\"date\")).show()"
      ],
      "metadata": {
        "colab": {
          "base_uri": "https://localhost:8080/"
        },
        "id": "U8xCHSYukqZf",
        "outputId": "1a2818a7-9419-4d7a-e1fb-aa6e03884434"
      },
      "execution_count": null,
      "outputs": [
        {
          "output_type": "stream",
          "name": "stdout",
          "text": [
            "+------+-------+-----+----------+--------------+-----+-------+---------+\n",
            "|app_id|helpful|funny|      date|is_recommended|hours|user_id|review_id|\n",
            "+------+-------+-----+----------+--------------+-----+-------+---------+\n",
            "|   550|      8|    0|2010-10-15|          true|128.0|2216180|  5974080|\n",
            "|  4000|      4|    0|2010-10-16|          true|263.0|3004524|  2082190|\n",
            "|   440|      6|    0|2010-10-16|          true|921.1|1339155|  4349757|\n",
            "|  4000|     12|    2|2010-10-16|          true|866.8|3242169|  1411607|\n",
            "|   550|      4|    0|2010-10-17|          true|664.3|3375569|  1062495|\n",
            "|   440|      5|    0|2010-10-18|          true|338.9|2736019|   988084|\n",
            "| 22380|      8|    0|2010-10-20|          true|448.8|2237500|  3261867|\n",
            "| 22380|      2|    0|2010-10-20|          true|158.5|2336036|   919066|\n",
            "| 22380|      0|    0|2010-10-29|          true| 34.3|2298236|  1305073|\n",
            "| 42700|      0|    0|2010-11-03|          true| 24.2|2472269|    60894|\n",
            "| 42700|      0|    0|2010-11-03|          true|  8.3|3081059|  4173736|\n",
            "|   550|      2|    0|2010-11-03|          true|717.1|3355148|  4343753|\n",
            "| 42700|      0|    0|2010-11-17|          true| 21.8|1238939|  2233801|\n",
            "| 42700|      0|    0|2010-11-17|          true| 16.2|3294657|  5476399|\n",
            "| 42700|      0|    0|2010-11-18|          true|  8.7|2545766|  4583617|\n",
            "| 22380|      3|    0|2010-11-19|          true|305.8|3464795|  3619459|\n",
            "| 42700|      0|    0|2010-11-19|          true| 13.8|2937577|  4231262|\n",
            "| 42700|      0|    0|2010-11-19|         false| 20.9|3478394|  3612551|\n",
            "| 22380|      2|    0|2010-11-19|          true| 28.8|2685703|  4248932|\n",
            "| 42700|      0|    0|2010-11-19|          true| 12.2|3587677|  3638322|\n",
            "+------+-------+-----+----------+--------------+-----+-------+---------+\n",
            "only showing top 20 rows\n",
            "\n"
          ]
        }
      ]
    },
    {
      "cell_type": "code",
      "execution_count": null,
      "metadata": {
        "colab": {
          "base_uri": "https://localhost:8080/"
        },
        "id": "ouS-EIb15MmR",
        "outputId": "f5a3751a-063d-43c5-e6ba-a483658117ed"
      },
      "outputs": [
        {
          "output_type": "execute_result",
          "data": {
            "text/plain": [
              "6126803"
            ]
          },
          "metadata": {},
          "execution_count": 12
        }
      ],
      "source": [
        "recomm.count()"
      ]
    },
    {
      "cell_type": "code",
      "execution_count": null,
      "metadata": {
        "colab": {
          "base_uri": "https://localhost:8080/"
        },
        "id": "Ir_n3_qPtbX1",
        "outputId": "93d0a21e-2d0c-46d2-8d16-5d19e6911715"
      },
      "outputs": [
        {
          "output_type": "stream",
          "name": "stdout",
          "text": [
            "root\n",
            " |-- user_id: string (nullable = true)\n",
            " |-- products: string (nullable = true)\n",
            " |-- reviews: string (nullable = true)\n",
            "\n",
            "+-------+--------+-------+\n",
            "|user_id|products|reviews|\n",
            "+-------+--------+-------+\n",
            "|4154727|     156|      1|\n",
            "|2637640|     329|      2|\n",
            "|1438551|     176|      1|\n",
            "|1549343|      98|      2|\n",
            "|1712796|     144|      2|\n",
            "|2832252|     229|      1|\n",
            "|3004113|     187|      1|\n",
            "|3128965|    1824|      1|\n",
            "|3274807|      12|      1|\n",
            "|3395007|    1319|      1|\n",
            "|3407667|    1903|      3|\n",
            "|3619475|     352|      1|\n",
            "|3788372|     107|      1|\n",
            "|4067577|     587|      3|\n",
            "| 274637|     321|      2|\n",
            "| 360193|     166|      1|\n",
            "| 546655|     752|      1|\n",
            "| 853991|     179|      1|\n",
            "|1119958|     325|      1|\n",
            "|1266621|     115|      1|\n",
            "+-------+--------+-------+\n",
            "only showing top 20 rows\n",
            "\n"
          ]
        }
      ],
      "source": [
        "user = spark.read.csv('/content/users.csv',header=True)\n",
        "user.printSchema()\n",
        "user.show()"
      ]
    },
    {
      "cell_type": "code",
      "execution_count": null,
      "metadata": {
        "colab": {
          "base_uri": "https://localhost:8080/"
        },
        "id": "DemaH1ll5O2S",
        "outputId": "ee87c529-b913-41b0-bdc0-0293416c2a33"
      },
      "outputs": [
        {
          "output_type": "execute_result",
          "data": {
            "text/plain": [
              "4240753"
            ]
          },
          "metadata": {},
          "execution_count": 14
        }
      ],
      "source": [
        "user.count()"
      ]
    },
    {
      "cell_type": "markdown",
      "metadata": {
        "id": "FwV-btcit2FE"
      },
      "source": [
        "# Prepare Section"
      ]
    },
    {
      "cell_type": "code",
      "execution_count": null,
      "metadata": {
        "id": "0Xtc7csGNstL"
      },
      "outputs": [],
      "source": [
        "game_tng = game.join(game_tags,[\"app_id\"],\"full\")"
      ]
    },
    {
      "cell_type": "code",
      "execution_count": null,
      "metadata": {
        "colab": {
          "base_uri": "https://localhost:8080/"
        },
        "id": "yORzFdI2Ns6-",
        "outputId": "07876520-3f7d-4253-8a1d-ec32add2fcf6"
      },
      "outputs": [
        {
          "output_type": "stream",
          "name": "stdout",
          "text": [
            "+------+--------------------+------------+----+-----+-----+--------------------+--------------+------------+-----------+--------------+--------+----------+--------------------+--------------------+\n",
            "|app_id|               title|date_release| win|  mac|linux|              rating|positive_ratio|user_reviews|price_final|price_original|discount|steam_deck|         description|                tags|\n",
            "+------+--------------------+------------+----+-----+-----+--------------------+--------------+------------+-----------+--------------+--------+----------+--------------------+--------------------+\n",
            "|    10|      Counter-Strike|  2000-11-01|true| true| true|Overwhelmingly Po...|            97|    132250.0|       9.99|          9.99|     0.0|      true|Play the world's ...|[Action, FPS, Mul...|\n",
            "|    50|Half-Life: Opposi...|  1999-11-01|true| true| true|Overwhelmingly Po...|            95|     14057.0|       4.99|          4.99|     0.0|      true|Return to the Bla...|[FPS, Action, Cla...|\n",
            "|   130|Half-Life: Blue S...|  2001-06-01|true| true| true|       Very Positive|            91|     10522.0|       4.99|          4.99|     0.0|      true|Made by Gearbox S...|[FPS, Action, Sci...|\n",
            "|   320|Half-Life 2: Deat...|  2004-11-01|true| true| true|       Very Positive|            89|      7539.0|       4.99|          4.99|     0.0|      true|Fast multiplayer ...|[Action, FPS, Mul...|\n",
            "|   420|Half-Life 2: Epis...|  2007-10-10|true| true| true|Overwhelmingly Po...|            97|     26037.0|       7.99|          7.99|     0.0|      true|Half-Life® 2: Epi...|[FPS, Action, Sci...|\n",
            "|   500|         Left 4 Dead|  2008-11-17|true| true|false|Overwhelmingly Po...|            96|     37937.0|       9.99|          9.99|     0.0|      true|From Valve (the c...|[Zombies, Co-op, ...|\n",
            "|   550|       Left 4 Dead 2|  2009-11-16|true| true| true|Overwhelmingly Po...|            97|    519066.0|       9.99|          9.99|     0.0|      true|Set in the zombie...|[Zombies, Co-op, ...|\n",
            "|   570|              Dota 2|  2013-07-09|true| true| true|       Very Positive|            82|   1930493.0|        0.0|           0.0|     0.0|      true|Every day, millio...|[Free to Play, MO...|\n",
            "|   730|Counter-Strike: G...|  2012-08-21|true| true| true|       Very Positive|            88|   6941137.0|      14.99|           0.0|     0.0|      true|Counter-Strike: G...|[FPS, Shooter, Mu...|\n",
            "|  1002|    Rag Doll Kung Fu|  2005-10-12|true|false|false|     Mostly Positive|            72|        44.0|       0.99|          0.99|     0.0|      true|A piece of Steam ...|[2D Fighter, Mart...|\n",
            "|  1200|Red Orchestra: Os...|  2006-03-14|true| true| true|       Very Positive|            84|      1282.0|       4.99|          4.99|     0.0|      true|Fight in the thea...|[World War II, Ac...|\n",
            "|  1250|       Killing Floor|  2009-05-14|true| true| true|Overwhelmingly Po...|            96|     35989.0|      19.99|         19.99|     0.0|      true|6-player co-op su...|[FPS, Zombies, Co...|\n",
            "|  1256|Killing Floor Out...|  2009-07-24|true| true| true|            Positive|            84|        46.0|       7.99|          7.99|     0.0|      true|                    |            [Action]|\n",
            "|  1257|Killing Floor: Ni...|  2010-05-19|true| true| true|       Very Positive|            89|        57.0|       7.99|          7.99|     0.0|      true|                    |            [Action]|\n",
            "|  1520|              DEFCON|  2012-04-24|true| true| true|       Very Positive|            86|      2864.0|       9.99|          9.99|     0.0|      true|Inspired by the 1...|[Strategy, Indie,...|\n",
            "|  1530|          Multiwinia|  2008-09-19|true| true|false|       Very Positive|            81|       368.0|       9.99|          9.99|     0.0|      true|\"Long ago a compu...|[Indie, RTS, Stra...|\n",
            "|  1640|Disciples II: Gal...|  2006-07-06|true|false|false|       Very Positive|            81|      1112.0|       6.99|          6.99|     0.0|      true|Disciples II: Gal...|[Turn-Based Strat...|\n",
            "|  1690|     Space Empires V|  2006-10-16|true|false|false|     Mostly Positive|            71|       360.0|       2.99|         14.99|    80.0|      true|Space Empires V i...|[Strategy, 4X, Sp...|\n",
            "|  1700|         Arx Fatalis|  2007-04-03|true|false|false|       Very Positive|            86|      1543.0|       4.99|          4.99|     0.0|      true|This critically a...|[RPG, First-Perso...|\n",
            "|  1930|Two Worlds Epic E...|  2009-04-30|true| true| true|     Mostly Positive|            76|      2220.0|       9.99|          9.99|     0.0|      true|... 300 years aft...|[RPG, Open World,...|\n",
            "+------+--------------------+------------+----+-----+-----+--------------------+--------------+------------+-----------+--------------+--------+----------+--------------------+--------------------+\n",
            "only showing top 20 rows\n",
            "\n"
          ]
        }
      ],
      "source": [
        "game_tng.show()\n",
        "# game_tng.select('tags').collect()[0][0][0]\n",
        "# game_tng.describe().show()"
      ]
    },
    {
      "cell_type": "code",
      "execution_count": null,
      "metadata": {
        "id": "3vu2QFBj6M7i"
      },
      "outputs": [],
      "source": [
        "game_tng = game_tng.filter(game_tng.app_id.isNotNull()\\\n",
        "                           |game_tng.title.isNotNull()\\\n",
        "                           |game_tng.win.isNotNull()\\\n",
        "                           |game_tng.rating.isNotNull()\\\n",
        "                           |game_tng.price_final.isNotNull()\\\n",
        "                           |game_tng.price_original.isNotNull()\\\n",
        "                           |game_tng.description.isNotNull()\\\n",
        "                           |game_tng.tags.isNotNull()\\\n",
        "                           ).sort(\"app_id\") \n"
      ]
    },
    {
      "cell_type": "code",
      "execution_count": null,
      "metadata": {
        "colab": {
          "base_uri": "https://localhost:8080/"
        },
        "id": "nUfY2ny26lz0",
        "outputId": "273dcd7a-6768-49f6-fc71-fee092768a70"
      },
      "outputs": [
        {
          "output_type": "execute_result",
          "data": {
            "text/plain": [
              "21236"
            ]
          },
          "metadata": {},
          "execution_count": 18
        }
      ],
      "source": [
        "game_tng.count()"
      ]
    },
    {
      "cell_type": "code",
      "execution_count": null,
      "metadata": {
        "colab": {
          "base_uri": "https://localhost:8080/"
        },
        "id": "hPG6M13B-u1S",
        "outputId": "56ff5474-855b-45d2-e99e-a95ccdbe5f0d"
      },
      "outputs": [
        {
          "output_type": "stream",
          "name": "stdout",
          "text": [
            "+-------+--------------------------+------------+----+-----+-----+--------------------+--------------+------------+-----------+--------------+--------+----------+------------------------------+--------------------+\n",
            "| app_id|                     title|date_release| win|  mac|linux|              rating|positive_ratio|user_reviews|price_final|price_original|discount|steam_deck|                   description|                tags|\n",
            "+-------+--------------------------+------------+----+-----+-----+--------------------+--------------+------------+-----------+--------------+--------+----------+------------------------------+--------------------+\n",
            "|     10|            Counter-Strike|  2000-11-01|true| true| true|Overwhelmingly Po...|            97|    132250.0|       9.99|          9.99|     0.0|      true|          Play the world's ...|[Action, FPS, Mul...|\n",
            "|1000000|                 ASCENXION|  2021-05-14|true|false|false|     Mostly Positive|            72|        22.0|       2.49|          9.99|    75.0|      true|          ASCENXION is a 2D...|[Shoot 'Em Up, Me...|\n",
            "|1000010|               Crown Trick|  2020-10-16|true|false|false|       Very Positive|            86|      4158.0|      19.99|         19.99|     0.0|      true|          Enter a labyrinth...|[Roguelike, Turn-...|\n",
            "|1000030|      Cook Serve Delici...|  2020-10-14|true| true|false|Overwhelmingly Po...|            95|      1396.0|      19.99|         19.99|     0.0|      true|          Cook, serve and m...|[Typing, Manageme...|\n",
            "|1000360|             Hellish Quart|  2021-02-16|true|false|false|       Very Positive|            92|      4756.0|      16.99|         16.99|     0.0|      true|          A physics-based, ...|[Early Access, 3D...|\n",
            "|1000410|       WRATH: Aeon of Ruin|  2019-11-22|true|false|false|       Very Positive|            81|      1178.0|      24.99|         24.99|     0.0|      true|          3D Realms, creato...|[Action, FPS, Ret...|\n",
            "|1000440|东方雪莲华 ～ Abyss Sou...|  2023-02-02|true|false|false|       Very Positive|            91|       267.0|      12.99|         12.99|     0.0|      true|东方雪莲华是东方project的二...|[Bullet Hell, Sho...|\n",
            "|1000640|                  Clam Man|  2019-05-23|true| true| true|       Very Positive|            92|        89.0|       9.99|          9.99|     0.0|      true|          An absurd, strang...|[Adventure, Indie...|\n",
            "|1000700|                  Insomnis|  2022-01-07|true|false|false|       Very Positive|            89|        93.0|      14.99|         14.99|     0.0|      true|          Insomnis is a fir...|[Adventure, Indie...|\n",
            "|1000710|      Fishing Planet: B...|  2018-12-27|true| true| true|            Positive|            92|        14.0|      34.99|         34.99|     0.0|      true|                              |[Free to Play, Ma...|\n",
            "|1000714|      Fishing Planet: R...|  2019-06-25|true| true| true|     Mostly Positive|            72|        11.0|       6.99|          6.99|     0.0|      true|                              |[Simulation, Free...|\n",
            "|1000715|      Fishing Planet: M...|  2019-09-06|true| true| true|               Mixed|            53|        13.0|      19.99|         19.99|     0.0|      true|                              |[Free to Play, Ma...|\n",
            "|1000717|      Fishing Planet - ...|  2019-11-27|true| true| true|            Positive|            90|        41.0|       4.99|          4.99|     0.0|      true|                              |[Simulation, Free...|\n",
            "|1000718|      Fishing Planet - ...|  2019-11-27|true| true| true|     Mostly Positive|            75|        36.0|       4.99|          4.99|     0.0|      true|                              |[Simulation, Free...|\n",
            "|1000760|                  Foregone|  2021-03-01|true|false|false|       Very Positive|            82|       927.0|      19.99|         19.99|     0.0|      true|          Foregone is a fas...|[Action, Indie, P...|\n",
            "|1000770|                Urban Tale|  2021-10-07|true| true|false|               Mixed|            65|        97.0|      11.99|         11.99|     0.0|      true|          Urban Tale is a r...|[Simulation, Casu...|\n",
            "|1001060|      Attack on Titan 2...|  2019-07-04|true|false|false|               Mixed|            69|       149.0|      39.99|         39.99|     0.0|      true|                              |[Action, Violent,...|\n",
            "|1001070|                       Koi|  2019-02-22|true|false|false|       Very Positive|            87|        83.0|       0.99|          0.99|     0.0|      true|          KOI is an award-w...|[Casual, Indie, A...|\n",
            "|1001140|      Angry Birds VR: I...|  2019-02-07|true|false|false|       Very Positive|            90|       267.0|      14.99|         14.99|     0.0|      true|          Join Red, Chuck, ...|[Family Friendly,...|\n",
            "|1001150|      Battlestar Galact...|  2019-03-19|true|false|false|            Positive|            86|        23.0|      14.99|         14.99|     0.0|      true|                              |          [Strategy]|\n",
            "+-------+--------------------------+------------+----+-----+-----+--------------------+--------------+------------+-----------+--------------+--------+----------+------------------------------+--------------------+\n",
            "only showing top 20 rows\n",
            "\n"
          ]
        }
      ],
      "source": [
        "game_tng.show()"
      ]
    },
    {
      "cell_type": "markdown",
      "metadata": {
        "id": "ecRcLwm-6OWq"
      },
      "source": [
        "-----------------------------------------------------\n"
      ]
    },
    {
      "cell_type": "code",
      "execution_count": null,
      "metadata": {
        "id": "jh_tk2dGRrXi"
      },
      "outputs": [],
      "source": [
        "user_recc = recomm.join(user,[\"user_id\"],\"full\")"
      ]
    },
    {
      "cell_type": "code",
      "execution_count": null,
      "metadata": {
        "colab": {
          "base_uri": "https://localhost:8080/"
        },
        "id": "vLxWI3z-yFEo",
        "outputId": "cd572fb2-f2dc-4d6b-f297-48ddc54c0389"
      },
      "outputs": [
        {
          "output_type": "stream",
          "name": "stdout",
          "text": [
            "+-------+-------+-------+-----+----------+--------------+-----+---------+--------+-------+\n",
            "|user_id| app_id|helpful|funny|      date|is_recommended|hours|review_id|products|reviews|\n",
            "+-------+-------+-------+-----+----------+--------------+-----+---------+--------+-------+\n",
            "|      0| 291550|      0|    0|2020-11-01|          true| 12.7|   104565|      54|      2|\n",
            "|      0| 493520|      0|    0|2020-10-30|          true| 18.6|  4723376|      54|      2|\n",
            "|  10000| 284160|      0|    0|2022-12-05|          true|163.4|    59114|      13|      2|\n",
            "|  10000|1938090|      0|    0|2022-11-22|          true| 42.3|  1577287|      13|      2|\n",
            "|1000011| 271590|      2|    0|2015-10-29|          true|437.6|  1712956|     209|      3|\n",
            "|1000011|   4000|      2|    0|2014-08-11|          true|721.1|  1743273|     209|      3|\n",
            "|1000011| 306130|      0|    0|2019-06-28|          true|867.3|  1893542|     209|      3|\n",
            "|1000012| 377160|      0|    0|2021-09-06|          true|117.3|  5368336|      11|      3|\n",
            "|1000012| 239030|      0|    0|2022-07-17|          true| 17.5|  5415857|      11|      3|\n",
            "|1000012|1286830|      0|    0|2022-02-15|          true|373.3|  5607907|      11|      3|\n",
            "|1000015|1086940|      0|    0|2022-04-28|          true|148.5|  5934747|      44|      1|\n",
            "|1000020| 632360|      0|    0|2022-03-03|          true| 88.7|   698871|     120|      1|\n",
            "|1000024|1361210|      0|    0|2022-11-22|          true| 10.3|  5098872|     452|      1|\n",
            "|1000030| 438100|      0|    0|2022-02-17|          true|  9.4|  5702748|       3|      1|\n",
            "|1000032|1817070|      0|    0|2022-09-11|          true| 61.9|  4292020|      11|      1|\n",
            "|1000054| 275850|      0|    0|2016-10-14|         false|136.0|  3811170|     263|      1|\n",
            "|1000061| 289070|      0|    0|2020-08-01|         false|281.3|  2075815|      42|      1|\n",
            "|1000064|  39210|      3|    0|2022-01-03|          true|899.4|  2740685|     133|      1|\n",
            "|1000067|1086940|      0|    0|2020-10-06|          true| 96.5|   765191|      78|      1|\n",
            "|1000070|1144200|      0|    0|2021-12-28|          true| 70.2|  6053316|     154|      1|\n",
            "+-------+-------+-------+-----+----------+--------------+-----+---------+--------+-------+\n",
            "only showing top 20 rows\n",
            "\n"
          ]
        }
      ],
      "source": [
        "user_recc.show()\n",
        "# user_recc.describe().show()"
      ]
    },
    {
      "cell_type": "code",
      "execution_count": null,
      "metadata": {
        "id": "_nufYNoU8Bf-"
      },
      "outputs": [],
      "source": [
        "user_recc = user_recc.filter(user_recc.app_id.isNotNull()).sort(\"user_id\") "
      ]
    },
    {
      "cell_type": "code",
      "execution_count": null,
      "metadata": {
        "colab": {
          "base_uri": "https://localhost:8080/"
        },
        "id": "_GGEl5sA8fpd",
        "outputId": "27928525-e83b-4794-9eee-fe8046ad25d5"
      },
      "outputs": [
        {
          "output_type": "execute_result",
          "data": {
            "text/plain": [
              "6126803"
            ]
          },
          "metadata": {},
          "execution_count": 23
        }
      ],
      "source": [
        "user_recc.count()"
      ]
    },
    {
      "cell_type": "code",
      "execution_count": null,
      "metadata": {
        "colab": {
          "base_uri": "https://localhost:8080/"
        },
        "id": "JDuves7O8M7o",
        "outputId": "3afbbfd6-5b2b-4c2f-bf25-033cdf09d141"
      },
      "outputs": [
        {
          "output_type": "stream",
          "name": "stdout",
          "text": [
            "+-------+-------+-------+-----+----------+--------------+-----+---------+--------+-------+\n",
            "|user_id| app_id|helpful|funny|      date|is_recommended|hours|review_id|products|reviews|\n",
            "+-------+-------+-------+-----+----------+--------------+-----+---------+--------+-------+\n",
            "|      0| 493520|      0|    0|2020-10-30|          true| 18.6|  4723376|      54|      2|\n",
            "|      0| 291550|      0|    0|2020-11-01|          true| 12.7|   104565|      54|      2|\n",
            "|      1| 394360|      0|    0|2021-11-26|          true|107.0|   306001|     369|      1|\n",
            "|    100|1172470|      0|    0|2021-07-10|         false|404.0|   434065|       0|      1|\n",
            "|   1000| 386360|      0|    0|2019-10-14|          true| 81.0|  4276553|     182|      8|\n",
            "|   1000| 306130|      0|    0|2019-06-11|          true| 68.7|   402594|     182|      8|\n",
            "|   1000|1174180|      3|    3|2020-02-08|         false| 11.8|  2726058|     182|      8|\n",
            "|   1000| 431960|      0|    0|2020-04-05|          true| 80.9|   276676|     182|      8|\n",
            "|   1000| 304390|      0|    0|2022-02-04|          true|525.5|  3231531|     182|      8|\n",
            "|   1000| 438100|      0|    0|2018-07-16|          true| 29.5|  3307295|     182|      8|\n",
            "|   1000| 440900|      0|    0|2018-07-21|          true|136.3|   124995|     182|      8|\n",
            "|   1000|1172620|      0|    0|2021-04-17|          true| 86.4|  1167472|     182|      8|\n",
            "|  10000|1938090|      0|    0|2022-11-22|          true| 42.3|  1577287|      13|      2|\n",
            "|  10000| 284160|      0|    0|2022-12-05|          true|163.4|    59114|      13|      2|\n",
            "| 100000|  42700|      0|    0|2022-10-23|          true| 31.1|  5896825|      31|      1|\n",
            "|1000000| 489830|      0|    0|2022-11-01|          true|198.3|  3493765|      36|      1|\n",
            "|1000001|1599340|      0|    0|2022-03-17|          true|757.5|   919025|       0|      1|\n",
            "|1000002|    730|      0|    0|2021-06-25|          true| 75.4|  3144903|       8|      1|\n",
            "|1000003|   4000|      6|    3|2015-05-21|          true| 98.8|   815342|     227|      1|\n",
            "|1000004| 238960|      3|    0|2019-01-23|         false|  2.4|   257631|     129|      3|\n",
            "+-------+-------+-------+-----+----------+--------------+-----+---------+--------+-------+\n",
            "only showing top 20 rows\n",
            "\n"
          ]
        }
      ],
      "source": [
        "user_recc.show()"
      ]
    },
    {
      "cell_type": "code",
      "execution_count": null,
      "metadata": {
        "id": "vg8sasMOfDhi"
      },
      "outputs": [],
      "source": [
        "all_data = game_tng.join(user_recc,[\"app_id\"],\"full\")"
      ]
    },
    {
      "cell_type": "code",
      "execution_count": null,
      "metadata": {
        "colab": {
          "base_uri": "https://localhost:8080/"
        },
        "id": "nwXzy6-ZfU3a",
        "outputId": "61db0505-ae2c-4fa6-cced-65096ef5cf87"
      },
      "outputs": [
        {
          "output_type": "stream",
          "name": "stdout",
          "text": [
            "root\n",
            " |-- app_id: string (nullable = true)\n",
            " |-- title: string (nullable = true)\n",
            " |-- date_release: string (nullable = true)\n",
            " |-- win: string (nullable = true)\n",
            " |-- mac: string (nullable = true)\n",
            " |-- linux: string (nullable = true)\n",
            " |-- rating: string (nullable = true)\n",
            " |-- positive_ratio: string (nullable = true)\n",
            " |-- user_reviews: double (nullable = true)\n",
            " |-- price_final: double (nullable = true)\n",
            " |-- price_original: double (nullable = true)\n",
            " |-- discount: double (nullable = true)\n",
            " |-- steam_deck: string (nullable = true)\n",
            " |-- description: string (nullable = true)\n",
            " |-- tags: array (nullable = true)\n",
            " |    |-- element: string (containsNull = true)\n",
            " |-- user_id: string (nullable = true)\n",
            " |-- helpful: string (nullable = true)\n",
            " |-- funny: string (nullable = true)\n",
            " |-- date: date (nullable = true)\n",
            " |-- is_recommended: boolean (nullable = true)\n",
            " |-- hours: double (nullable = true)\n",
            " |-- review_id: string (nullable = true)\n",
            " |-- products: string (nullable = true)\n",
            " |-- reviews: string (nullable = true)\n",
            "\n"
          ]
        }
      ],
      "source": [
        "all_data.printSchema()"
      ]
    },
    {
      "cell_type": "code",
      "execution_count": null,
      "metadata": {
        "colab": {
          "base_uri": "https://localhost:8080/"
        },
        "id": "zE3GOshplWup",
        "outputId": "670d27c7-019d-46e9-b81d-0a87e8a06558"
      },
      "outputs": [
        {
          "output_type": "stream",
          "name": "stdout",
          "text": [
            "+-------+--------------------+------------+----+-----+-----+--------------------+--------------+------------+-----------+--------------+--------+----------+--------------------+--------------------+-------+-------+-----+----+--------------+-----+---------+--------+-------+\n",
            "| app_id|               title|date_release| win|  mac|linux|              rating|positive_ratio|user_reviews|price_final|price_original|discount|steam_deck|         description|                tags|user_id|helpful|funny|date|is_recommended|hours|review_id|products|reviews|\n",
            "+-------+--------------------+------------+----+-----+-----+--------------------+--------------+------------+-----------+--------------+--------+----------+--------------------+--------------------+-------+-------+-----+----+--------------+-----+---------+--------+-------+\n",
            "|1000030|Cook Serve Delici...|  2020-10-14|true| true|false|Overwhelmingly Po...|            95|      1396.0|      19.99|         19.99|     0.0|      true|Cook, serve and m...|[Typing, Manageme...|   null|   null| null|null|          null| null|     null|    null|   null|\n",
            "|1000714|Fishing Planet: R...|  2019-06-25|true| true| true|     Mostly Positive|            72|        11.0|       6.99|          6.99|     0.0|      true|                    |[Simulation, Free...|   null|   null| null|null|          null| null|     null|    null|   null|\n",
            "|1000760|            Foregone|  2021-03-01|true|false|false|       Very Positive|            82|       927.0|      19.99|         19.99|     0.0|      true|Foregone is a fas...|[Action, Indie, P...|   null|   null| null|null|          null| null|     null|    null|   null|\n",
            "|1001140|Angry Birds VR: I...|  2019-02-07|true|false|false|       Very Positive|            90|       267.0|      14.99|         14.99|     0.0|      true|Join Red, Chuck, ...|[Family Friendly,...|   null|   null| null|null|          null| null|     null|    null|   null|\n",
            "|1001370|IL-2 Sturmovik: F...|  2018-12-19|true|false|false|            Positive|            90|        10.0|       9.99|          9.99|     0.0|      true|                    |        [Simulation]|   null|   null| null|null|          null| null|     null|    null|   null|\n",
            "|1003480|Fireboy & Watergi...|  2019-01-24|true| true|false|       Very Positive|            89|       533.0|       0.99|          0.99|     0.0|      true|Help Fireboy and ...|[Action, Local Mu...|   null|   null| null|null|          null| null|     null|    null|   null|\n",
            "|1004490|           Tools Up!|  2019-12-03|true|false|false|     Mostly Positive|            79|       592.0|      19.99|         19.99|     0.0|      true|Tools Up! is an e...|[Casual, Indie, S...|   null|   null| null|null|          null| null|     null|    null|   null|\n",
            "|1004620|     KungFu Kickball|  2022-02-09|true| true|false|            Positive|            97|        35.0|      19.99|         19.99|     0.0|      true|KungFu Kickball i...|[Indie, Sports, A...|   null|   null| null|null|          null| null|     null|    null|   null|\n",
            "|1004740|             iDancer|  2019-01-21|true|false|false|       Very Positive|            85|        98.0|       7.99|          7.99|     0.0|      true|iDancer is a uniq...|[Utilities, Sexua...|   null|   null| null|null|          null| null|     null|    null|   null|\n",
            "|1004860|The Secret Order ...|  2019-02-28|true| true| true|       Very Positive|            87|       106.0|      14.99|         14.99|     0.0|      true|There are dark se...|[Casual, Adventur...|   null|   null| null|null|          null| null|     null|    null|   null|\n",
            "|1004919|Warhammer: Chaosb...|  2019-12-16|true|false|false|               Mixed|            61|        26.0|       9.99|          9.99|     0.0|      true|                    |[RPG, Action, Adv...|   null|   null| null|null|          null| null|     null|    null|   null|\n",
            "|1004950|DiRT Rally 2.0 - ...|  2019-04-08|true|false|false|            Positive|            96|        25.0|       1.99|          1.99|     0.0|      true|                    |[Simulation, Raci...|   null|   null| null|null|          null| null|     null|    null|   null|\n",
            "|1005010|DiRT Rally 2.0 - ...|  2019-07-01|true|false|false|            Positive|            84|        13.0|       1.99|          1.99|     0.0|      true|                    |[Simulation, Raci...|   null|   null| null|null|          null| null|     null|    null|   null|\n",
            "|1005050|Fabulous - Angela...|  2019-01-24|true| true|false|            Positive|            86|        36.0|      12.99|         12.99|     0.0|      true|Take on the New Y...|[Strategy, Casual...|   null|   null| null|null|          null| null|     null|    null|   null|\n",
            "|1005930| Timeflow – Life Sim|  2019-01-01|true| true| true|       Very Positive|            92|      1167.0|       9.99|          9.99|     0.0|      true|Learn how to turn...|[Time Management,...|   null|   null| null|null|          null| null|     null|    null|   null|\n",
            "|1005971|iVRy Driver for S...|  2019-01-23|true|false|false|     Mostly Positive|            74|        50.0|      19.99|         19.99|     0.0|      true|                    |         [Utilities]|   null|   null| null|null|          null| null|     null|    null|   null|\n",
            "|1005972|iVRy Driver for S...|  2019-01-23|true|false|false|               Mixed|            64|        25.0|       9.99|          9.99|     0.0|      true|                    |         [Utilities]|   null|   null| null|null|          null| null|     null|    null|   null|\n",
            "|1006440| The Dame Was Loaded|  2019-01-28|true|false|false|            Positive|            86|        15.0|       6.99|          6.99|     0.0|      true|An adventure set ...|[Adventure, Strat...|   null|   null| null|null|          null| null|     null|    null|   null|\n",
            "|1007350|        Mirror Maker|  2019-01-17|true|false|false|     Mostly Positive|            73|       802.0|       1.99|          1.99|     0.0|      true|The reason we mad...|[Sexual Content, ...|   null|   null| null|null|          null| null|     null|    null|   null|\n",
            "|1007630|        Wraithslayer|  2019-05-07|true| true| true|       Very Positive|            93|        72.0|       4.99|          4.99|     0.0|      true|An intense and ch...|[Action, Indie, A...|   null|   null| null|null|          null| null|     null|    null|   null|\n",
            "+-------+--------------------+------------+----+-----+-----+--------------------+--------------+------------+-----------+--------------+--------+----------+--------------------+--------------------+-------+-------+-----+----+--------------+-----+---------+--------+-------+\n",
            "only showing top 20 rows\n",
            "\n"
          ]
        }
      ],
      "source": [
        "# all_data.count()\n",
        "all_data.show()\n",
        "# app_id,title,win"
      ]
    },
    {
      "cell_type": "code",
      "execution_count": null,
      "metadata": {
        "id": "xtCh1iEHopwa"
      },
      "outputs": [],
      "source": [
        "#Drop Null\n",
        "all_data = all_data.filter(all_data.app_id.isNotNull()|all_data.title.isNotNull()|all_data.win.isNotNull()).sort(\"app_id\") "
      ]
    },
    {
      "cell_type": "code",
      "execution_count": null,
      "metadata": {
        "colab": {
          "base_uri": "https://localhost:8080/"
        },
        "id": "fqBqphf-tkr-",
        "outputId": "12aa2673-12d0-4722-b866-0f6854afcc74"
      },
      "outputs": [
        {
          "output_type": "execute_result",
          "data": {
            "text/plain": [
              "6147826"
            ]
          },
          "metadata": {},
          "execution_count": 29
        }
      ],
      "source": [
        "all_data.count()"
      ]
    },
    {
      "cell_type": "code",
      "execution_count": null,
      "metadata": {
        "colab": {
          "base_uri": "https://localhost:8080/"
        },
        "id": "-33fjiJ8kweI",
        "outputId": "0b4e1162-af6c-448d-dbfc-2b1f975a608a"
      },
      "outputs": [
        {
          "output_type": "stream",
          "name": "stdout",
          "text": [
            "+-------+--------------------------+------------+----+-----+-----+--------------------+--------------+------------+-----------+--------------+--------+----------+------------------------------+--------------------+-------+-------+-----+----+--------------+-----+---------+--------+-------+\n",
            "| app_id|                     title|date_release| win|  mac|linux|              rating|positive_ratio|user_reviews|price_final|price_original|discount|steam_deck|                   description|                tags|user_id|helpful|funny|date|is_recommended|hours|review_id|products|reviews|\n",
            "+-------+--------------------------+------------+----+-----+-----+--------------------+--------------+------------+-----------+--------------+--------+----------+------------------------------+--------------------+-------+-------+-----+----+--------------+-----+---------+--------+-------+\n",
            "|     10|            Counter-Strike|  2000-11-01|true| true| true|Overwhelmingly Po...|            97|    132250.0|       9.99|          9.99|     0.0|      true|          Play the world's ...|[Action, FPS, Mul...|   null|   null| null|null|          null| null|     null|    null|   null|\n",
            "|1000000|                 ASCENXION|  2021-05-14|true|false|false|     Mostly Positive|            72|        22.0|       2.49|          9.99|    75.0|      true|          ASCENXION is a 2D...|[Shoot 'Em Up, Me...|   null|   null| null|null|          null| null|     null|    null|   null|\n",
            "|1000010|               Crown Trick|  2020-10-16|true|false|false|       Very Positive|            86|      4158.0|      19.99|         19.99|     0.0|      true|          Enter a labyrinth...|[Roguelike, Turn-...|   null|   null| null|null|          null| null|     null|    null|   null|\n",
            "|1000030|      Cook Serve Delici...|  2020-10-14|true| true|false|Overwhelmingly Po...|            95|      1396.0|      19.99|         19.99|     0.0|      true|          Cook, serve and m...|[Typing, Manageme...|   null|   null| null|null|          null| null|     null|    null|   null|\n",
            "|1000360|             Hellish Quart|  2021-02-16|true|false|false|       Very Positive|            92|      4756.0|      16.99|         16.99|     0.0|      true|          A physics-based, ...|[Early Access, 3D...|   null|   null| null|null|          null| null|     null|    null|   null|\n",
            "|1000410|       WRATH: Aeon of Ruin|  2019-11-22|true|false|false|       Very Positive|            81|      1178.0|      24.99|         24.99|     0.0|      true|          3D Realms, creato...|[Action, FPS, Ret...|   null|   null| null|null|          null| null|     null|    null|   null|\n",
            "|1000440|东方雪莲华 ～ Abyss Sou...|  2023-02-02|true|false|false|       Very Positive|            91|       267.0|      12.99|         12.99|     0.0|      true|东方雪莲华是东方project的二...|[Bullet Hell, Sho...|   null|   null| null|null|          null| null|     null|    null|   null|\n",
            "|1000640|                  Clam Man|  2019-05-23|true| true| true|       Very Positive|            92|        89.0|       9.99|          9.99|     0.0|      true|          An absurd, strang...|[Adventure, Indie...|   null|   null| null|null|          null| null|     null|    null|   null|\n",
            "|1000700|                  Insomnis|  2022-01-07|true|false|false|       Very Positive|            89|        93.0|      14.99|         14.99|     0.0|      true|          Insomnis is a fir...|[Adventure, Indie...|   null|   null| null|null|          null| null|     null|    null|   null|\n",
            "|1000710|      Fishing Planet: B...|  2018-12-27|true| true| true|            Positive|            92|        14.0|      34.99|         34.99|     0.0|      true|                              |[Free to Play, Ma...|   null|   null| null|null|          null| null|     null|    null|   null|\n",
            "|1000714|      Fishing Planet: R...|  2019-06-25|true| true| true|     Mostly Positive|            72|        11.0|       6.99|          6.99|     0.0|      true|                              |[Simulation, Free...|   null|   null| null|null|          null| null|     null|    null|   null|\n",
            "|1000715|      Fishing Planet: M...|  2019-09-06|true| true| true|               Mixed|            53|        13.0|      19.99|         19.99|     0.0|      true|                              |[Free to Play, Ma...|   null|   null| null|null|          null| null|     null|    null|   null|\n",
            "|1000717|      Fishing Planet - ...|  2019-11-27|true| true| true|            Positive|            90|        41.0|       4.99|          4.99|     0.0|      true|                              |[Simulation, Free...|   null|   null| null|null|          null| null|     null|    null|   null|\n",
            "|1000718|      Fishing Planet - ...|  2019-11-27|true| true| true|     Mostly Positive|            75|        36.0|       4.99|          4.99|     0.0|      true|                              |[Simulation, Free...|   null|   null| null|null|          null| null|     null|    null|   null|\n",
            "|1000760|                  Foregone|  2021-03-01|true|false|false|       Very Positive|            82|       927.0|      19.99|         19.99|     0.0|      true|          Foregone is a fas...|[Action, Indie, P...|   null|   null| null|null|          null| null|     null|    null|   null|\n",
            "|1000770|                Urban Tale|  2021-10-07|true| true|false|               Mixed|            65|        97.0|      11.99|         11.99|     0.0|      true|          Urban Tale is a r...|[Simulation, Casu...|   null|   null| null|null|          null| null|     null|    null|   null|\n",
            "|1001060|      Attack on Titan 2...|  2019-07-04|true|false|false|               Mixed|            69|       149.0|      39.99|         39.99|     0.0|      true|                              |[Action, Violent,...|   null|   null| null|null|          null| null|     null|    null|   null|\n",
            "|1001070|                       Koi|  2019-02-22|true|false|false|       Very Positive|            87|        83.0|       0.99|          0.99|     0.0|      true|          KOI is an award-w...|[Casual, Indie, A...|   null|   null| null|null|          null| null|     null|    null|   null|\n",
            "|1001140|      Angry Birds VR: I...|  2019-02-07|true|false|false|       Very Positive|            90|       267.0|      14.99|         14.99|     0.0|      true|          Join Red, Chuck, ...|[Family Friendly,...|   null|   null| null|null|          null| null|     null|    null|   null|\n",
            "|1001150|      Battlestar Galact...|  2019-03-19|true|false|false|            Positive|            86|        23.0|      14.99|         14.99|     0.0|      true|                              |          [Strategy]|   null|   null| null|null|          null| null|     null|    null|   null|\n",
            "+-------+--------------------------+------------+----+-----+-----+--------------------+--------------+------------+-----------+--------------+--------+----------+------------------------------+--------------------+-------+-------+-----+----+--------------+-----+---------+--------+-------+\n",
            "only showing top 20 rows\n",
            "\n"
          ]
        }
      ],
      "source": [
        "all_data.show()"
      ]
    },
    {
      "cell_type": "code",
      "execution_count": null,
      "metadata": {
        "colab": {
          "base_uri": "https://localhost:8080/"
        },
        "id": "dyCrbVNIyU42",
        "outputId": "008ba9ac-83fa-4add-f309-d61f7e8816d2"
      },
      "outputs": [
        {
          "output_type": "stream",
          "name": "stdout",
          "text": [
            "+------+-----+------------+---+---+-----+------+--------------+------------+-----------+--------------+--------+----------+-----------+----+-------+-------+-----+----+--------------+-----+---------+--------+-------+\n",
            "|app_id|title|date_release|win|mac|linux|rating|positive_ratio|user_reviews|price_final|price_original|discount|steam_deck|description|tags|user_id|helpful|funny|date|is_recommended|hours|review_id|products|reviews|\n",
            "+------+-----+------------+---+---+-----+------+--------------+------------+-----------+--------------+--------+----------+-----------+----+-------+-------+-----+----+--------------+-----+---------+--------+-------+\n",
            "+------+-----+------------+---+---+-----+------+--------------+------------+-----------+--------------+--------+----------+-----------+----+-------+-------+-----+----+--------------+-----+---------+--------+-------+\n",
            "\n"
          ]
        }
      ],
      "source": [
        "all_data.filter(all_data.date_release.isNull()).show()"
      ]
    },
    {
      "cell_type": "code",
      "execution_count": null,
      "metadata": {
        "colab": {
          "base_uri": "https://localhost:8080/"
        },
        "id": "7GuCkh3T0A7i",
        "outputId": "9c3d13c7-dbe0-44a7-8bf5-b0bec51a7c85"
      },
      "outputs": [
        {
          "output_type": "stream",
          "name": "stdout",
          "text": [
            "+-------+--------------------+------+\n",
            "| app_id|               title| count|\n",
            "+-------+--------------------+------+\n",
            "|1044720|   Farthest Frontier|  4265|\n",
            "| 105600|            Terraria| 48595|\n",
            "|1056640|Phantasy Star Onl...|   264|\n",
            "|1063660|Bendy and the Dar...|  3858|\n",
            "|1063730|           New World|  4482|\n",
            "|1065310|           Evil West|  1763|\n",
            "| 107410|              Arma 3|115929|\n",
            "|1085660|           Destiny 2| 33136|\n",
            "| 108600|     Project Zomboid| 45965|\n",
            "|1086940|     Baldur's Gate 3| 37878|\n",
            "|1091500|      Cyberpunk 2077|109328|\n",
            "|1092790|         Inscryption|  9545|\n",
            "|1096530|Solasta: Crown of...| 10200|\n",
            "|1113120|               IXION|  3461|\n",
            "|1142710|Total War: WARHAM...| 32226|\n",
            "|1144200|        Ready or Not| 50146|\n",
            "|1145360|               Hades| 11859|\n",
            "|1151340|          Fallout 76| 42217|\n",
            "|1151640|Horizon Zero Dawn...| 12444|\n",
            "|1158310|  Crusader Kings III| 10610|\n",
            "+-------+--------------------+------+\n",
            "only showing top 20 rows\n",
            "\n"
          ]
        }
      ],
      "source": [
        "all_data.groupBy(\"app_id\",'title').count().filter(\"count > 1\").sort(\"app_id\").show()"
      ]
    },
    {
      "cell_type": "code",
      "execution_count": null,
      "metadata": {
        "id": "EoLoPRO0mYja"
      },
      "outputs": [],
      "source": [
        "# all_data.write.parquet(\"/content/gdrive/MyDrive/sizeproject/allgamerecc.parquet\")"
      ]
    },
    {
      "cell_type": "markdown",
      "metadata": {
        "id": "0W_Ybs9pzPfQ"
      },
      "source": [
        "# EDA Section"
      ]
    },
    {
      "cell_type": "code",
      "execution_count": null,
      "metadata": {
        "colab": {
          "base_uri": "https://localhost:8080/"
        },
        "id": "inly8b_SzSSO",
        "outputId": "e48bf6ec-5db5-4842-a2d8-2b08da8ec1e2"
      },
      "outputs": [
        {
          "output_type": "stream",
          "name": "stdout",
          "text": [
            "+-------+--------------------+------------+----+-----+-----+--------------------+--------------+------------+-----------+--------------+--------+----------+--------------------+--------------------+-------+-------+-----+----------+--------------+-----+---------+--------+-------+\n",
            "| app_id|               title|date_release| win|  mac|linux|              rating|positive_ratio|user_reviews|price_final|price_original|discount|steam_deck|         description|                tags|user_id|helpful|funny|      date|is_recommended|hours|review_id|products|reviews|\n",
            "+-------+--------------------+------------+----+-----+-----+--------------------+--------------+------------+-----------+--------------+--------+----------+--------------------+--------------------+-------+-------+-----+----------+--------------+-----+---------+--------+-------+\n",
            "|1066860|     RPG Paper Maker|  2019-07-05|true| true| true|       Very Positive|            83|       129.0|        0.0|           0.0|     0.0|      true|RPG Paper Maker i...|[Game Development...|   null|   null| null|      null|          null| null|     null|    null|   null|\n",
            "|1085660|           Destiny 2|  2019-10-01|true|false|false|       Very Positive|            83|    519754.0|        0.0|           0.0|     0.0|      true|Destiny 2 is an a...|[Free to Play, Op...| 100707|      0|    0|2020-03-01|          true|567.5|  4122185|      19|      1|\n",
            "|1085660|           Destiny 2|  2019-10-01|true|false|false|       Very Positive|            83|    519754.0|        0.0|           0.0|     0.0|      true|Destiny 2 is an a...|[Free to Play, Op...|1001450|     17|    0|2020-07-09|          true|955.8|  4879607|     731|      2|\n",
            "|1085660|           Destiny 2|  2019-10-01|true|false|false|       Very Positive|            83|    519754.0|        0.0|           0.0|     0.0|      true|Destiny 2 is an a...|[Free to Play, Op...|1002781|      0|    0|2022-04-01|          true|825.2|  5785659|      74|      5|\n",
            "|1017100|      Territory Idle|  2019-09-10|true|false|false|       Very Positive|            81|      1433.0|        0.0|           0.0|     0.0|      true|Strategic idle ga...|[Idler, Free to P...|   null|   null| null|      null|          null| null|     null|    null|   null|\n",
            "|1085660|           Destiny 2|  2019-10-01|true|false|false|       Very Positive|            83|    519754.0|        0.0|           0.0|     0.0|      true|Destiny 2 is an a...|[Free to Play, Op...|1001733|      0|    0|2021-07-10|         false| 92.3|  5642505|      14|      1|\n",
            "|1028860|Star Chef: Cookin...|  2019-04-03|true|false|false|               Mixed|            55|       306.0|        0.0|           0.0|     0.0|      true|Over 20 Million D...|[Simulation, Free...|   null|   null| null|      null|          null| null|     null|    null|   null|\n",
            "|1085660|           Destiny 2|  2019-10-01|true|false|false|       Very Positive|            83|    519754.0|        0.0|           0.0|     0.0|      true|Destiny 2 is an a...|[Free to Play, Op...|1003143|      4|    0|2019-10-25|         false|171.4|  4111937|     199|      6|\n",
            "|1031140|Horus Heresy: Leg...|  2019-03-28|true| true|false|     Mostly Positive|            71|      2042.0|        0.0|           0.0|     0.0|      true|A card battler ba...|[Deckbuilding, Ca...|   null|   null| null|      null|          null| null|     null|    null|   null|\n",
            "|1085660|           Destiny 2|  2019-10-01|true|false|false|       Very Positive|            83|    519754.0|        0.0|           0.0|     0.0|      true|Destiny 2 is an a...|[Free to Play, Op...|1003496|      0|    0|2021-07-01|          true| 23.0|  3837134|       2|      1|\n",
            "|1064340|Chess Evolved Online|  2021-02-22|true|false|false|       Very Positive|            92|       552.0|        0.0|           0.0|     0.0|      true|secretly the most...|[PvP, Tactical, D...|   null|   null| null|      null|          null| null|     null|    null|   null|\n",
            "|1085660|           Destiny 2|  2019-10-01|true|false|false|       Very Positive|            83|    519754.0|        0.0|           0.0|     0.0|      true|Destiny 2 is an a...|[Free to Play, Op...|1004037|      0|    0|2022-01-04|          true|195.5|   351699|      35|      6|\n",
            "|1072710|    Soviet Jump Game|  2020-07-16|true| true|false|       Very Positive|            82|      1436.0|        0.0|           0.0|     0.0|      true|Snag powerups, co...|[Free to Play, In...|   null|   null| null|      null|          null| null|     null|    null|   null|\n",
            "|1085660|           Destiny 2|  2019-10-01|true|false|false|       Very Positive|            83|    519754.0|        0.0|           0.0|     0.0|      true|Destiny 2 is an a...|[Free to Play, Op...|1004383|      3|    0|2021-04-16|         false| 18.8|  2591971|     357|     12|\n",
            "|1085660|           Destiny 2|  2019-10-01|true|false|false|       Very Positive|            83|    519754.0|        0.0|           0.0|     0.0|      true|Destiny 2 is an a...|[Free to Play, Op...|1000388|      2|    0|2020-06-10|          true|677.8|  1502535|      74|      1|\n",
            "|1085660|           Destiny 2|  2019-10-01|true|false|false|       Very Positive|            83|    519754.0|        0.0|           0.0|     0.0|      true|Destiny 2 is an a...|[Free to Play, Op...|1005757|      0|    0|2021-09-05|          true|214.9|   207762|      31|      2|\n",
            "|1085660|           Destiny 2|  2019-10-01|true|false|false|       Very Positive|            83|    519754.0|        0.0|           0.0|     0.0|      true|Destiny 2 is an a...|[Free to Play, Op...|1008898|      0|    0|2020-06-30|          true|236.9|  3514866|      42|      1|\n",
            "|1085660|           Destiny 2|  2019-10-01|true|false|false|       Very Positive|            83|    519754.0|        0.0|           0.0|     0.0|      true|Destiny 2 is an a...|[Free to Play, Op...|1008754|      2|    0|2021-07-05|          true|190.7|  5326891|       2|      1|\n",
            "|1064610|          Neon Beats|  2019-05-03|true| true|false|Overwhelmingly Po...|            96|      6070.0|        0.0|           0.0|     0.0|      true|Beat your best sc...|[Free to Play, Rh...|   null|   null| null|      null|          null| null|     null|    null|   null|\n",
            "|1085660|           Destiny 2|  2019-10-01|true|false|false|       Very Positive|            83|    519754.0|        0.0|           0.0|     0.0|      true|Destiny 2 is an a...|[Free to Play, Op...|1006568|      0|    0|2022-05-17|          true| 11.3|  1131595|       3|      2|\n",
            "+-------+--------------------+------------+----+-----+-----+--------------------+--------------+------------+-----------+--------------+--------+----------+--------------------+--------------------+-------+-------+-----+----------+--------------+-----+---------+--------+-------+\n",
            "only showing top 20 rows\n",
            "\n"
          ]
        }
      ],
      "source": [
        "all_data.sort(\"price_original\").show()"
      ]
    },
    {
      "cell_type": "markdown",
      "metadata": {
        "id": "mbwuNQEieYpU"
      },
      "source": [
        "## ---- top had user -----"
      ]
    },
    {
      "cell_type": "code",
      "execution_count": null,
      "metadata": {
        "id": "PCweQuo4zSVF"
      },
      "outputs": [],
      "source": [
        "count_data = all_data.select(\"app_id\",\"title\").groupBy(\"title\").count()\\\n",
        "            .orderBy(f.col(\"count\").desc())"
      ]
    },
    {
      "cell_type": "code",
      "execution_count": null,
      "metadata": {
        "id": "akrf9vOLfPe7",
        "colab": {
          "base_uri": "https://localhost:8080/"
        },
        "outputId": "bd589903-c1a3-4f7e-e3b5-1c772e2a695e"
      },
      "outputs": [
        {
          "output_type": "stream",
          "name": "stdout",
          "text": [
            "+--------------------+------+\n",
            "|               title| count|\n",
            "+--------------------+------+\n",
            "|                Rust|251447|\n",
            "|Counter-Strike: G...|172422|\n",
            "|        No Man's Sky|150267|\n",
            "|    Wallpaper Engine|149644|\n",
            "|  Grand Theft Auto V|148839|\n",
            "|           Fallout 4|148538|\n",
            "|Call of Duty®: Mo...|131361|\n",
            "|Red Dead Redempti...|117967|\n",
            "|              Arma 3|115929|\n",
            "|       Path of Exile|111579|\n",
            "|      Cyberpunk 2077|109328|\n",
            "|      Sea of Thieves|108191|\n",
            "|   Hearts of Iron IV|104752|\n",
            "|          Brawlhalla| 99033|\n",
            "|The Binding of Is...| 98643|\n",
            "|            Lost Ark| 94162|\n",
            "|        BeamNG.drive| 90970|\n",
            "|              VRChat| 87365|\n",
            "|Sid Meier’s Civil...| 83191|\n",
            "|Divinity: Origina...| 76652|\n",
            "+--------------------+------+\n",
            "only showing top 20 rows\n",
            "\n"
          ]
        }
      ],
      "source": [
        "count_data.show()"
      ]
    },
    {
      "cell_type": "code",
      "source": [
        "count_data = count_data.toPandas()\n",
        "count_data.head(10)"
      ],
      "metadata": {
        "colab": {
          "base_uri": "https://localhost:8080/",
          "height": 363
        },
        "id": "sBTy0VW6qDif",
        "outputId": "a612a606-faca-41f9-ca19-78183ecd7871"
      },
      "execution_count": null,
      "outputs": [
        {
          "output_type": "execute_result",
          "data": {
            "text/plain": [
              "                               title   count\n",
              "0                               Rust  251447\n",
              "1   Counter-Strike: Global Offensive  172422\n",
              "2                       No Man's Sky  150267\n",
              "3                   Wallpaper Engine  149644\n",
              "4                 Grand Theft Auto V  148839\n",
              "5                          Fallout 4  148538\n",
              "6  Call of Duty®: Modern Warfare® II  131361\n",
              "7              Red Dead Redemption 2  117967\n",
              "8                             Arma 3  115929\n",
              "9                      Path of Exile  111579"
            ],
            "text/html": [
              "\n",
              "  <div id=\"df-04a7f3ff-1499-46e6-bbb2-15e9f81f169a\">\n",
              "    <div class=\"colab-df-container\">\n",
              "      <div>\n",
              "<style scoped>\n",
              "    .dataframe tbody tr th:only-of-type {\n",
              "        vertical-align: middle;\n",
              "    }\n",
              "\n",
              "    .dataframe tbody tr th {\n",
              "        vertical-align: top;\n",
              "    }\n",
              "\n",
              "    .dataframe thead th {\n",
              "        text-align: right;\n",
              "    }\n",
              "</style>\n",
              "<table border=\"1\" class=\"dataframe\">\n",
              "  <thead>\n",
              "    <tr style=\"text-align: right;\">\n",
              "      <th></th>\n",
              "      <th>title</th>\n",
              "      <th>count</th>\n",
              "    </tr>\n",
              "  </thead>\n",
              "  <tbody>\n",
              "    <tr>\n",
              "      <th>0</th>\n",
              "      <td>Rust</td>\n",
              "      <td>251447</td>\n",
              "    </tr>\n",
              "    <tr>\n",
              "      <th>1</th>\n",
              "      <td>Counter-Strike: Global Offensive</td>\n",
              "      <td>172422</td>\n",
              "    </tr>\n",
              "    <tr>\n",
              "      <th>2</th>\n",
              "      <td>No Man's Sky</td>\n",
              "      <td>150267</td>\n",
              "    </tr>\n",
              "    <tr>\n",
              "      <th>3</th>\n",
              "      <td>Wallpaper Engine</td>\n",
              "      <td>149644</td>\n",
              "    </tr>\n",
              "    <tr>\n",
              "      <th>4</th>\n",
              "      <td>Grand Theft Auto V</td>\n",
              "      <td>148839</td>\n",
              "    </tr>\n",
              "    <tr>\n",
              "      <th>5</th>\n",
              "      <td>Fallout 4</td>\n",
              "      <td>148538</td>\n",
              "    </tr>\n",
              "    <tr>\n",
              "      <th>6</th>\n",
              "      <td>Call of Duty®: Modern Warfare® II</td>\n",
              "      <td>131361</td>\n",
              "    </tr>\n",
              "    <tr>\n",
              "      <th>7</th>\n",
              "      <td>Red Dead Redemption 2</td>\n",
              "      <td>117967</td>\n",
              "    </tr>\n",
              "    <tr>\n",
              "      <th>8</th>\n",
              "      <td>Arma 3</td>\n",
              "      <td>115929</td>\n",
              "    </tr>\n",
              "    <tr>\n",
              "      <th>9</th>\n",
              "      <td>Path of Exile</td>\n",
              "      <td>111579</td>\n",
              "    </tr>\n",
              "  </tbody>\n",
              "</table>\n",
              "</div>\n",
              "      <button class=\"colab-df-convert\" onclick=\"convertToInteractive('df-04a7f3ff-1499-46e6-bbb2-15e9f81f169a')\"\n",
              "              title=\"Convert this dataframe to an interactive table.\"\n",
              "              style=\"display:none;\">\n",
              "        \n",
              "  <svg xmlns=\"http://www.w3.org/2000/svg\" height=\"24px\"viewBox=\"0 0 24 24\"\n",
              "       width=\"24px\">\n",
              "    <path d=\"M0 0h24v24H0V0z\" fill=\"none\"/>\n",
              "    <path d=\"M18.56 5.44l.94 2.06.94-2.06 2.06-.94-2.06-.94-.94-2.06-.94 2.06-2.06.94zm-11 1L8.5 8.5l.94-2.06 2.06-.94-2.06-.94L8.5 2.5l-.94 2.06-2.06.94zm10 10l.94 2.06.94-2.06 2.06-.94-2.06-.94-.94-2.06-.94 2.06-2.06.94z\"/><path d=\"M17.41 7.96l-1.37-1.37c-.4-.4-.92-.59-1.43-.59-.52 0-1.04.2-1.43.59L10.3 9.45l-7.72 7.72c-.78.78-.78 2.05 0 2.83L4 21.41c.39.39.9.59 1.41.59.51 0 1.02-.2 1.41-.59l7.78-7.78 2.81-2.81c.8-.78.8-2.07 0-2.86zM5.41 20L4 18.59l7.72-7.72 1.47 1.35L5.41 20z\"/>\n",
              "  </svg>\n",
              "      </button>\n",
              "      \n",
              "  <style>\n",
              "    .colab-df-container {\n",
              "      display:flex;\n",
              "      flex-wrap:wrap;\n",
              "      gap: 12px;\n",
              "    }\n",
              "\n",
              "    .colab-df-convert {\n",
              "      background-color: #E8F0FE;\n",
              "      border: none;\n",
              "      border-radius: 50%;\n",
              "      cursor: pointer;\n",
              "      display: none;\n",
              "      fill: #1967D2;\n",
              "      height: 32px;\n",
              "      padding: 0 0 0 0;\n",
              "      width: 32px;\n",
              "    }\n",
              "\n",
              "    .colab-df-convert:hover {\n",
              "      background-color: #E2EBFA;\n",
              "      box-shadow: 0px 1px 2px rgba(60, 64, 67, 0.3), 0px 1px 3px 1px rgba(60, 64, 67, 0.15);\n",
              "      fill: #174EA6;\n",
              "    }\n",
              "\n",
              "    [theme=dark] .colab-df-convert {\n",
              "      background-color: #3B4455;\n",
              "      fill: #D2E3FC;\n",
              "    }\n",
              "\n",
              "    [theme=dark] .colab-df-convert:hover {\n",
              "      background-color: #434B5C;\n",
              "      box-shadow: 0px 1px 3px 1px rgba(0, 0, 0, 0.15);\n",
              "      filter: drop-shadow(0px 1px 2px rgba(0, 0, 0, 0.3));\n",
              "      fill: #FFFFFF;\n",
              "    }\n",
              "  </style>\n",
              "\n",
              "      <script>\n",
              "        const buttonEl =\n",
              "          document.querySelector('#df-04a7f3ff-1499-46e6-bbb2-15e9f81f169a button.colab-df-convert');\n",
              "        buttonEl.style.display =\n",
              "          google.colab.kernel.accessAllowed ? 'block' : 'none';\n",
              "\n",
              "        async function convertToInteractive(key) {\n",
              "          const element = document.querySelector('#df-04a7f3ff-1499-46e6-bbb2-15e9f81f169a');\n",
              "          const dataTable =\n",
              "            await google.colab.kernel.invokeFunction('convertToInteractive',\n",
              "                                                     [key], {});\n",
              "          if (!dataTable) return;\n",
              "\n",
              "          const docLinkHtml = 'Like what you see? Visit the ' +\n",
              "            '<a target=\"_blank\" href=https://colab.research.google.com/notebooks/data_table.ipynb>data table notebook</a>'\n",
              "            + ' to learn more about interactive tables.';\n",
              "          element.innerHTML = '';\n",
              "          dataTable['output_type'] = 'display_data';\n",
              "          await google.colab.output.renderOutput(dataTable, element);\n",
              "          const docLink = document.createElement('div');\n",
              "          docLink.innerHTML = docLinkHtml;\n",
              "          element.appendChild(docLink);\n",
              "        }\n",
              "      </script>\n",
              "    </div>\n",
              "  </div>\n",
              "  "
            ]
          },
          "metadata": {},
          "execution_count": 37
        }
      ]
    },
    {
      "cell_type": "code",
      "source": [
        "fig, ax = plt.subplots(figsize =(24,7))\n",
        "ax.bar(count_data['title'][:10],count_data[\"count\"][:10],width=0.7, edgecolor=\"white\", linewidth=1)\n",
        "# ax.set(xlim=(0, 8),ylim=(0, 8))\n",
        "plt.title('Top user')\n",
        "plt.xlabel('title')\n",
        "plt.ylabel('count')\n",
        "plt.show()"
      ],
      "metadata": {
        "colab": {
          "base_uri": "https://localhost:8080/",
          "height": 458
        },
        "id": "-YMoRl76nCL5",
        "outputId": "335b880a-571f-4f05-eaad-b60e105b5da4"
      },
      "execution_count": null,
      "outputs": [
        {
          "output_type": "display_data",
          "data": {
            "text/plain": [
              "<Figure size 1728x504 with 1 Axes>"
            ],
            "image/png": "[encoded data removed]"
          },
          "metadata": {
            "needs_background": "light"
          }
        }
      ]
    },
    {
      "cell_type": "code",
      "source": [
        "# count_data.plt.plot.bar(x='count')  "
      ],
      "metadata": {
        "id": "v8q8_ifsrxnP"
      },
      "execution_count": null,
      "outputs": []
    },
    {
      "cell_type": "code",
      "execution_count": null,
      "metadata": {
        "id": "GBruc1GZ_vPh"
      },
      "outputs": [],
      "source": [
        "# count_datas = count_data.orderBy(f.col('count').desc())\n",
        "# count_datas.show(20)"
      ]
    },
    {
      "cell_type": "markdown",
      "metadata": {
        "id": "FZuSR2MY2r2g"
      },
      "source": [
        "## ---- top buy games ----\n",
        "\n",
        "\n"
      ]
    },
    {
      "cell_type": "code",
      "execution_count": null,
      "metadata": {
        "id": "OwrGi_8n2vbJ"
      },
      "outputs": [],
      "source": [
        "price = all_data.groupBy(\"app_id\",\"title\").sum()"
      ]
    },
    {
      "cell_type": "code",
      "execution_count": null,
      "metadata": {
        "id": "dCeg16t2O2OC"
      },
      "outputs": [],
      "source": [
        "# all_data.select(f.col(\"app_id\"),f.col(\"title\"),f.col(\"price_original\")).filter(\"app_id == 252490\").count()\n",
        "# all_data.select(f.col(\"app_id\"),f.col(\"title\"),f.col(\"price_original\")).filter(\"app_id == 252490\").show()"
      ]
    },
    {
      "cell_type": "code",
      "execution_count": null,
      "metadata": {
        "id": "7pQ7JHO_JXxb",
        "colab": {
          "base_uri": "https://localhost:8080/"
        },
        "outputId": "99de5ca1-d865-408a-d2a8-f3ab1cd63dab"
      },
      "outputs": [
        {
          "output_type": "stream",
          "name": "stdout",
          "text": [
            "+-------+--------------------+-----------------+-------------------+-------------------+-------------+--------------------+\n",
            "| app_id|               title|sum(user_reviews)|   sum(price_final)|sum(price_original)|sum(discount)|          sum(hours)|\n",
            "+-------+--------------------+-----------------+-------------------+-------------------+-------------+--------------------+\n",
            "| 252490|                Rust| 1.81789391931E11|1.005536553004403E7|1.005536553004403E7|          0.0| 8.593886570000276E7|\n",
            "| 275850|        No Man's Sky|  2.9885551761E10|  9014517.330025472|  9014517.330025472|          0.0|1.9713485499999903E7|\n",
            "|1174180|Red Dead Redempti...|  3.9877918581E10|  7076840.330018253|  7076840.330018253|          0.0|1.8209469800000146E7|\n",
            "|1091500|      Cyberpunk 2077|  5.6995528928E10|  6558586.720016322|  6558586.720016322|          0.0|1.1497222400000196E7|\n",
            "|1938090|Call of Duty®: Mo...|  4.1615690244E10|  5975611.890018661|  9193956.390022406|    4597635.0|1.4871679199999869E7|\n",
            "|1172620|      Sea of Thieves|  2.4897345684E10|   4326558.09001201|   4326558.09001201|          0.0|1.4566210999999817E7|\n",
            "| 394360|   Hearts of Iron IV|  1.6539502784E10|  4189032.480011242|  4189032.480011242|          0.0|  3.97398179000001E7|\n",
            "| 107410|              Arma 3|  1.8097328403E10| 3476710.7100096815| 3476710.7100096815|          0.0| 3.583680980000005E7|\n",
            "| 435150|Divinity: Origina...|  1.0522709908E10|  3448573.480006314|  3448573.480006314|          0.0| 1.415229899999994E7|\n",
            "| 534380|Dying Light 2 Sta...|     5.49456824E9|  3314087.560004234|  3314087.560004234|          0.0|   3486578.200000007|\n",
            "|1245620|          ELDEN RING|   2.655428048E10|  3306648.800004206|  3306648.800004206|          0.0|   9543085.900000036|\n",
            "| 377160|           Fallout 4|  2.8728586042E10| 2969274.6200088505| 2969274.6200088505|          0.0|3.2569311800000254E7|\n",
            "| 374320|     DARK SOULS™ III|    1.05667848E10| 2850724.8000025074| 2850724.8000025074|          0.0|   9017722.999999983|\n",
            "| 261550|Mount & Blade II:...|    9.200638986E9|  2710407.810002382|  2710407.810002382|          0.0|1.1712098500000075E7|\n",
            "|    730|Counter-Strike: G...|1.196804723814E12|  2584605.780006067|                0.0|          0.0| 7.212386229999931E7|\n",
            "| 292030|The Witcher® 3: W...|  3.7002776092E10|  2308502.730000731|  2308502.730000731|          0.0|    9672395.19999991|\n",
            "| 546560|     Half-Life: Alyx|    2.564219214E9|  2277340.380000371|  2277340.380000371|          0.0|  1106514.0999999957|\n",
            "| 284160|        BeamNG.drive|   1.347556804E10| 2273340.3000008552| 2273340.3000008552|          0.0| 1.739613260000013E7|\n",
            "|1086940|     Baldur's Gate 3|    1.973671068E9| 2272301.2200003522| 2272301.2200003522|          0.0|  3447859.1000000057|\n",
            "| 294100|            RimWorld|     7.99153685E9|  2141562.949999769|  2141562.949999769|          0.0|2.0754571699999835E7|\n",
            "+-------+--------------------+-----------------+-------------------+-------------------+-------------+--------------------+\n",
            "only showing top 20 rows\n",
            "\n"
          ]
        }
      ],
      "source": [
        "# from pyspark.sql.functions import *\n",
        "price_ord = price.orderBy(f.col('sum(price_final)').desc())\n",
        "price_ord.show(20)"
      ]
    },
    {
      "cell_type": "code",
      "source": [
        "price_ord = price_ord.toPandas()\n",
        "price_ord.head(10)"
      ],
      "metadata": {
        "colab": {
          "base_uri": "https://localhost:8080/",
          "height": 363
        },
        "id": "yta4hNsS3qto",
        "outputId": "5743e41f-3ae8-4efb-c527-a1a4ee3f1b67"
      },
      "execution_count": null,
      "outputs": [
        {
          "output_type": "execute_result",
          "data": {
            "text/plain": [
              "    app_id                                          title  sum(user_reviews)  \\\n",
              "0   252490                                           Rust       1.817894e+11   \n",
              "1   275850                                   No Man's Sky       2.988555e+10   \n",
              "2  1174180                          Red Dead Redemption 2       3.987792e+10   \n",
              "3  1091500                                 Cyberpunk 2077       5.699553e+10   \n",
              "4  1938090              Call of Duty®: Modern Warfare® II       4.161569e+10   \n",
              "5  1172620                                 Sea of Thieves       2.489735e+10   \n",
              "6   394360                              Hearts of Iron IV       1.653950e+10   \n",
              "7   107410                                         Arma 3       1.809733e+10   \n",
              "8   435150  Divinity: Original Sin 2 - Definitive Edition       1.052271e+10   \n",
              "9   534380                       Dying Light 2 Stay Human       5.494568e+09   \n",
              "\n",
              "   sum(price_final)  sum(price_original)  sum(discount)    sum(hours)  \n",
              "0      1.005537e+07         1.005537e+07            0.0  8.593887e+07  \n",
              "1      9.014517e+06         9.014517e+06            0.0  1.971349e+07  \n",
              "2      7.076840e+06         7.076840e+06            0.0  1.820947e+07  \n",
              "3      6.558587e+06         6.558587e+06            0.0  1.149722e+07  \n",
              "4      5.975612e+06         9.193956e+06      4597635.0  1.487168e+07  \n",
              "5      4.326558e+06         4.326558e+06            0.0  1.456621e+07  \n",
              "6      4.189032e+06         4.189032e+06            0.0  3.973982e+07  \n",
              "7      3.476711e+06         3.476711e+06            0.0  3.583681e+07  \n",
              "8      3.448573e+06         3.448573e+06            0.0  1.415230e+07  \n",
              "9      3.314088e+06         3.314088e+06            0.0  3.486578e+06  "
            ],
            "text/html": [
              "\n",
              "  <div id=\"df-4708339e-39ca-412c-af77-02dc44e8bfc5\">\n",
              "    <div class=\"colab-df-container\">\n",
              "      <div>\n",
              "<style scoped>\n",
              "    .dataframe tbody tr th:only-of-type {\n",
              "        vertical-align: middle;\n",
              "    }\n",
              "\n",
              "    .dataframe tbody tr th {\n",
              "        vertical-align: top;\n",
              "    }\n",
              "\n",
              "    .dataframe thead th {\n",
              "        text-align: right;\n",
              "    }\n",
              "</style>\n",
              "<table border=\"1\" class=\"dataframe\">\n",
              "  <thead>\n",
              "    <tr style=\"text-align: right;\">\n",
              "      <th></th>\n",
              "      <th>app_id</th>\n",
              "      <th>title</th>\n",
              "      <th>sum(user_reviews)</th>\n",
              "      <th>sum(price_final)</th>\n",
              "      <th>sum(price_original)</th>\n",
              "      <th>sum(discount)</th>\n",
              "      <th>sum(hours)</th>\n",
              "    </tr>\n",
              "  </thead>\n",
              "  <tbody>\n",
              "    <tr>\n",
              "      <th>0</th>\n",
              "      <td>252490</td>\n",
              "      <td>Rust</td>\n",
              "      <td>1.817894e+11</td>\n",
              "      <td>1.005537e+07</td>\n",
              "      <td>1.005537e+07</td>\n",
              "      <td>0.0</td>\n",
              "      <td>8.593887e+07</td>\n",
              "    </tr>\n",
              "    <tr>\n",
              "      <th>1</th>\n",
              "      <td>275850</td>\n",
              "      <td>No Man's Sky</td>\n",
              "      <td>2.988555e+10</td>\n",
              "      <td>9.014517e+06</td>\n",
              "      <td>9.014517e+06</td>\n",
              "      <td>0.0</td>\n",
              "      <td>1.971349e+07</td>\n",
              "    </tr>\n",
              "    <tr>\n",
              "      <th>2</th>\n",
              "      <td>1174180</td>\n",
              "      <td>Red Dead Redemption 2</td>\n",
              "      <td>3.987792e+10</td>\n",
              "      <td>7.076840e+06</td>\n",
              "      <td>7.076840e+06</td>\n",
              "      <td>0.0</td>\n",
              "      <td>1.820947e+07</td>\n",
              "    </tr>\n",
              "    <tr>\n",
              "      <th>3</th>\n",
              "      <td>1091500</td>\n",
              "      <td>Cyberpunk 2077</td>\n",
              "      <td>5.699553e+10</td>\n",
              "      <td>6.558587e+06</td>\n",
              "      <td>6.558587e+06</td>\n",
              "      <td>0.0</td>\n",
              "      <td>1.149722e+07</td>\n",
              "    </tr>\n",
              "    <tr>\n",
              "      <th>4</th>\n",
              "      <td>1938090</td>\n",
              "      <td>Call of Duty®: Modern Warfare® II</td>\n",
              "      <td>4.161569e+10</td>\n",
              "      <td>5.975612e+06</td>\n",
              "      <td>9.193956e+06</td>\n",
              "      <td>4597635.0</td>\n",
              "      <td>1.487168e+07</td>\n",
              "    </tr>\n",
              "    <tr>\n",
              "      <th>5</th>\n",
              "      <td>1172620</td>\n",
              "      <td>Sea of Thieves</td>\n",
              "      <td>2.489735e+10</td>\n",
              "      <td>4.326558e+06</td>\n",
              "      <td>4.326558e+06</td>\n",
              "      <td>0.0</td>\n",
              "      <td>1.456621e+07</td>\n",
              "    </tr>\n",
              "    <tr>\n",
              "      <th>6</th>\n",
              "      <td>394360</td>\n",
              "      <td>Hearts of Iron IV</td>\n",
              "      <td>1.653950e+10</td>\n",
              "      <td>4.189032e+06</td>\n",
              "      <td>4.189032e+06</td>\n",
              "      <td>0.0</td>\n",
              "      <td>3.973982e+07</td>\n",
              "    </tr>\n",
              "    <tr>\n",
              "      <th>7</th>\n",
              "      <td>107410</td>\n",
              "      <td>Arma 3</td>\n",
              "      <td>1.809733e+10</td>\n",
              "      <td>3.476711e+06</td>\n",
              "      <td>3.476711e+06</td>\n",
              "      <td>0.0</td>\n",
              "      <td>3.583681e+07</td>\n",
              "    </tr>\n",
              "    <tr>\n",
              "      <th>8</th>\n",
              "      <td>435150</td>\n",
              "      <td>Divinity: Original Sin 2 - Definitive Edition</td>\n",
              "      <td>1.052271e+10</td>\n",
              "      <td>3.448573e+06</td>\n",
              "      <td>3.448573e+06</td>\n",
              "      <td>0.0</td>\n",
              "      <td>1.415230e+07</td>\n",
              "    </tr>\n",
              "    <tr>\n",
              "      <th>9</th>\n",
              "      <td>534380</td>\n",
              "      <td>Dying Light 2 Stay Human</td>\n",
              "      <td>5.494568e+09</td>\n",
              "      <td>3.314088e+06</td>\n",
              "      <td>3.314088e+06</td>\n",
              "      <td>0.0</td>\n",
              "      <td>3.486578e+06</td>\n",
              "    </tr>\n",
              "  </tbody>\n",
              "</table>\n",
              "</div>\n",
              "      <button class=\"colab-df-convert\" onclick=\"convertToInteractive('df-4708339e-39ca-412c-af77-02dc44e8bfc5')\"\n",
              "              title=\"Convert this dataframe to an interactive table.\"\n",
              "              style=\"display:none;\">\n",
              "        \n",
              "  <svg xmlns=\"http://www.w3.org/2000/svg\" height=\"24px\"viewBox=\"0 0 24 24\"\n",
              "       width=\"24px\">\n",
              "    <path d=\"M0 0h24v24H0V0z\" fill=\"none\"/>\n",
              "    <path d=\"M18.56 5.44l.94 2.06.94-2.06 2.06-.94-2.06-.94-.94-2.06-.94 2.06-2.06.94zm-11 1L8.5 8.5l.94-2.06 2.06-.94-2.06-.94L8.5 2.5l-.94 2.06-2.06.94zm10 10l.94 2.06.94-2.06 2.06-.94-2.06-.94-.94-2.06-.94 2.06-2.06.94z\"/><path d=\"M17.41 7.96l-1.37-1.37c-.4-.4-.92-.59-1.43-.59-.52 0-1.04.2-1.43.59L10.3 9.45l-7.72 7.72c-.78.78-.78 2.05 0 2.83L4 21.41c.39.39.9.59 1.41.59.51 0 1.02-.2 1.41-.59l7.78-7.78 2.81-2.81c.8-.78.8-2.07 0-2.86zM5.41 20L4 18.59l7.72-7.72 1.47 1.35L5.41 20z\"/>\n",
              "  </svg>\n",
              "      </button>\n",
              "      \n",
              "  <style>\n",
              "    .colab-df-container {\n",
              "      display:flex;\n",
              "      flex-wrap:wrap;\n",
              "      gap: 12px;\n",
              "    }\n",
              "\n",
              "    .colab-df-convert {\n",
              "      background-color: #E8F0FE;\n",
              "      border: none;\n",
              "      border-radius: 50%;\n",
              "      cursor: pointer;\n",
              "      display: none;\n",
              "      fill: #1967D2;\n",
              "      height: 32px;\n",
              "      padding: 0 0 0 0;\n",
              "      width: 32px;\n",
              "    }\n",
              "\n",
              "    .colab-df-convert:hover {\n",
              "      background-color: #E2EBFA;\n",
              "      box-shadow: 0px 1px 2px rgba(60, 64, 67, 0.3), 0px 1px 3px 1px rgba(60, 64, 67, 0.15);\n",
              "      fill: #174EA6;\n",
              "    }\n",
              "\n",
              "    [theme=dark] .colab-df-convert {\n",
              "      background-color: #3B4455;\n",
              "      fill: #D2E3FC;\n",
              "    }\n",
              "\n",
              "    [theme=dark] .colab-df-convert:hover {\n",
              "      background-color: #434B5C;\n",
              "      box-shadow: 0px 1px 3px 1px rgba(0, 0, 0, 0.15);\n",
              "      filter: drop-shadow(0px 1px 2px rgba(0, 0, 0, 0.3));\n",
              "      fill: #FFFFFF;\n",
              "    }\n",
              "  </style>\n",
              "\n",
              "      <script>\n",
              "        const buttonEl =\n",
              "          document.querySelector('#df-4708339e-39ca-412c-af77-02dc44e8bfc5 button.colab-df-convert');\n",
              "        buttonEl.style.display =\n",
              "          google.colab.kernel.accessAllowed ? 'block' : 'none';\n",
              "\n",
              "        async function convertToInteractive(key) {\n",
              "          const element = document.querySelector('#df-4708339e-39ca-412c-af77-02dc44e8bfc5');\n",
              "          const dataTable =\n",
              "            await google.colab.kernel.invokeFunction('convertToInteractive',\n",
              "                                                     [key], {});\n",
              "          if (!dataTable) return;\n",
              "\n",
              "          const docLinkHtml = 'Like what you see? Visit the ' +\n",
              "            '<a target=\"_blank\" href=https://colab.research.google.com/notebooks/data_table.ipynb>data table notebook</a>'\n",
              "            + ' to learn more about interactive tables.';\n",
              "          element.innerHTML = '';\n",
              "          dataTable['output_type'] = 'display_data';\n",
              "          await google.colab.output.renderOutput(dataTable, element);\n",
              "          const docLink = document.createElement('div');\n",
              "          docLink.innerHTML = docLinkHtml;\n",
              "          element.appendChild(docLink);\n",
              "        }\n",
              "      </script>\n",
              "    </div>\n",
              "  </div>\n",
              "  "
            ]
          },
          "metadata": {},
          "execution_count": 44
        }
      ]
    },
    {
      "cell_type": "code",
      "source": [
        "fig, ax = plt.subplots(figsize =(24,7))\n",
        "ax.bar(price_ord['title'][:10],price_ord[\"sum(price_final)\"][:10],width=0.7, edgecolor=\"white\", linewidth=1)\n",
        "# ax.set(xlim=(0, 8),ylim=(0, 8))\n",
        "plt.title(\"Sum income\")\n",
        "plt.xlabel('title')\n",
        "plt.ylabel('price_final')\n",
        "plt.show()"
      ],
      "metadata": {
        "colab": {
          "base_uri": "https://localhost:8080/",
          "height": 458
        },
        "id": "a7Z7Isdf3-5b",
        "outputId": "6ce8c9a3-25b8-43a1-f50b-5c670ef73fd7"
      },
      "execution_count": null,
      "outputs": [
        {
          "output_type": "display_data",
          "data": {
            "text/plain": [
              "<Figure size 1728x504 with 1 Axes>"
            ],
            "image/png": "[encoded data removed]"
          },
          "metadata": {
            "needs_background": "light"
          }
        }
      ]
    },
    {
      "cell_type": "markdown",
      "metadata": {
        "id": "K04YkIUWmMHp"
      },
      "source": [
        "## -----Top 10 popular games of 2022 with positive reviews-----"
      ]
    },
    {
      "cell_type": "code",
      "execution_count": null,
      "metadata": {
        "id": "Jlq_9iyFmSdw",
        "colab": {
          "base_uri": "https://localhost:8080/"
        },
        "outputId": "c8302769-eb33-40c7-f49d-7602cfb15d8a"
      },
      "outputs": [
        {
          "output_type": "stream",
          "name": "stdout",
          "text": [
            "+------+--------------------+------------+----+-----+-----+---------------+--------------+------------+-----------+--------------+--------+----------+\n",
            "|app_id|               title|date_release| win|  mac|linux|         rating|positive_ratio|user_reviews|price_final|price_original|discount|steam_deck|\n",
            "+------+--------------------+------------+----+-----+-----+---------------+--------------+------------+-----------+--------------+--------+----------+\n",
            "| 10090|Call of Duty: Wor...|  2008-11-18|true|false|false|  Very Positive|            92|     37039.0|      19.99|         19.99|     0.0|      true|\n",
            "| 13500|Prince of Persia:...|  2008-11-21|true|false|false|  Very Positive|            84|      2199.0|       9.99|          9.99|     0.0|      true|\n",
            "| 22364|BRINK: Agents of ...|  2011-08-03|true|false|false|       Positive|            85|        21.0|       2.99|          2.99|     0.0|      true|\n",
            "|113020|Monaco: What's Yo...|  2013-04-24|true| true| true|  Very Positive|            92|      3722.0|      14.99|         14.99|     0.0|      true|\n",
            "|226560|  Escape Dead Island|  2014-11-18|true|false|false|          Mixed|            61|       873.0|      14.99|         14.99|     0.0|      true|\n",
            "|249050|Dungeon of the EN...|  2014-10-27|true| true|false|  Very Positive|            88|      8784.0|      11.99|         11.99|     0.0|      true|\n",
            "|250180|        METAL SLUG 3|  2015-09-14|true|false|false|  Very Positive|            90|      5579.0|       7.99|          7.99|     0.0|      true|\n",
            "|253980|             Enclave|  2013-10-04|true| true| true|Mostly Positive|            75|      1608.0|       4.99|          4.99|     0.0|      true|\n",
            "|261550|Mount & Blade II:...|  2022-10-25|true|false|false|  Very Positive|            87|    169694.0|      49.99|         49.99|     0.0|      true|\n",
            "|271850|Men of War: Assau...|  2014-05-16|true|false|false|          Mixed|            61|       199.0|       6.99|          6.99|     0.0|      true|\n",
            "|282900|Hyperdimension Ne...|  2015-01-29|true|false|false|  Very Positive|            94|      9686.0|      14.99|         14.99|     0.0|      true|\n",
            "| 19810|The Sum of All Fears|  2008-10-10|true|false|false|Mostly Positive|            75|        33.0|       9.99|          9.99|     0.0|      true|\n",
            "| 15270|          Cold Fear™|  2008-05-13|true|false|false|  Very Positive|            85|       800.0|       9.99|          9.99|     0.0|      true|\n",
            "| 21130|LEGO® Harry Potte...|  2010-06-25|true|false|false|  Very Positive|            85|      5169.0|      19.99|         19.99|     0.0|      true|\n",
            "| 22130|Hearts of Iron 2 ...|  2009-01-23|true|false|false|  Very Positive|            85|       462.0|      14.99|         14.99|     0.0|      true|\n",
            "| 29180|               Osmos|  2009-08-18|true| true| true|  Very Positive|            88|       532.0|       9.99|          9.99|     0.0|      true|\n",
            "| 32750|          Comanche 4|  2009-06-18|true|false|false|  Very Positive|            90|       222.0|       9.99|          9.99|     0.0|      true|\n",
            "|241620|          Inquisitor|  2013-08-01|true|false|false|Mostly Positive|            70|       390.0|       9.99|          9.99|     0.0|      true|\n",
            "|244910|            Homesick|  2015-05-28|true|false|false|Mostly Positive|            77|      1139.0|      14.99|         14.99|     0.0|      true|\n",
            "|245950|Borderlands 2: He...|  2014-02-11|true| true| true|  Very Positive|            84|       294.0|       0.89|          2.99|    70.0|      true|\n",
            "+------+--------------------+------------+----+-----+-----+---------------+--------------+------------+-----------+--------------+--------+----------+\n",
            "only showing top 20 rows\n",
            "\n"
          ]
        }
      ],
      "source": [
        "game.show()"
      ]
    },
    {
      "cell_type": "code",
      "execution_count": null,
      "metadata": {
        "id": "tHmaYZLKqZFA"
      },
      "outputs": [],
      "source": [
        "game_pos = game.select('app_id','title','date_release','user_reviews','positive_ratio').\\\n",
        "            filter((game[\"date_release\"]>= lit('2022-01-01')) &(game[\"positive_ratio\"]>=90))\\\n",
        "            .sort(f.col('user_reviews').desc(),f.col('positive_ratio').desc())"
      ]
    },
    {
      "cell_type": "code",
      "execution_count": null,
      "metadata": {
        "id": "tgQWaeLV8zm6",
        "colab": {
          "base_uri": "https://localhost:8080/"
        },
        "outputId": "babf9433-0329-4b9d-e3dc-40865a35fbe4"
      },
      "outputs": [
        {
          "output_type": "stream",
          "name": "stdout",
          "text": [
            "+-------+--------------------+------------+------------+--------------+\n",
            "| app_id|               title|date_release|user_reviews|positive_ratio|\n",
            "+-------+--------------------+------------+------------+--------------+\n",
            "|1245620|          ELDEN RING|  2022-02-24|    481754.0|            91|\n",
            "| 648800|                Raft|  2022-06-20|    218598.0|            93|\n",
            "|1794680|   Vampire Survivors|  2022-10-20|    175903.0|            98|\n",
            "|1332010|               Stray|  2022-07-19|    101109.0|            97|\n",
            "| 990080|     Hogwarts Legacy|  2023-02-10|     84327.0|            93|\n",
            "|1593500|          God of War|  2022-01-14|     65968.0|            97|\n",
            "|1167630|            Teardown|  2022-04-21|     60815.0|            96|\n",
            "|1817070|Marvel’s Spider-M...|  2022-08-12|     41232.0|            96|\n",
            "|1313140|    Cult of the Lamb|  2022-08-11|     40135.0|            93|\n",
            "|1290000| PowerWash Simulator|  2022-07-14|     29465.0|            97|\n",
            "+-------+--------------------+------------+------------+--------------+\n",
            "only showing top 10 rows\n",
            "\n"
          ]
        }
      ],
      "source": [
        "game_pos.show(10)"
      ]
    },
    {
      "cell_type": "code",
      "source": [
        "# game_pos = game_pos.toPandas()\n",
        "# game_pos.head(10)"
      ],
      "metadata": {
        "id": "Eyb5UlRwM4Qj"
      },
      "execution_count": null,
      "outputs": []
    },
    {
      "cell_type": "code",
      "source": [
        "# fig, ax = plt.subplots(figsize =(24,10))\n",
        "# ax.bar(game_pos['title'][:10],game_pos[\"positive_ratio\"][:10],width=0.7, edgecolor=\"white\", linewidth=1)\n",
        "# # ax.set(xlim=(0, 8),ylim=(0, 8))\n",
        "# plt.title(\"Top 10 popular games of 2022 with positive reviews\")\n",
        "# plt.xlabel('title')\n",
        "# plt.ylabel('positive_ratio')\n",
        "# plt.show()"
      ],
      "metadata": {
        "id": "C56OAjG4M_jz"
      },
      "execution_count": null,
      "outputs": []
    },
    {
      "cell_type": "markdown",
      "metadata": {
        "id": "-5HcjyiCTupg"
      },
      "source": [
        "## ----Top 10 popular games of 2022 with mixed or lower reviews----\n"
      ]
    },
    {
      "cell_type": "code",
      "execution_count": null,
      "metadata": {
        "id": "2Bam8cgtVHVE"
      },
      "outputs": [],
      "source": [
        "game_pos2 = game.select('app_id','title','date_release','user_reviews','positive_ratio').\\\n",
        "            filter((game[\"date_release\"]>= lit('2022-01-01')) &(game[\"positive_ratio\"] <= 70))\\\n",
        "            .sort(f.col('user_reviews').desc(),f.col('positive_ratio').desc())"
      ]
    },
    {
      "cell_type": "code",
      "execution_count": null,
      "metadata": {
        "id": "UCKR9bo3Xf6L",
        "colab": {
          "base_uri": "https://localhost:8080/"
        },
        "outputId": "4de59ef6-8f10-4dd6-98cc-afb48968e806"
      },
      "outputs": [
        {
          "output_type": "stream",
          "name": "stdout",
          "text": [
            "+-------+--------------------+------------+------------+--------------+\n",
            "| app_id|               title|date_release|user_reviews|positive_ratio|\n",
            "+-------+--------------------+------------+------------+--------------+\n",
            "|1938090|Call of Duty®: Mo...|  2022-10-27|    316804.0|            62|\n",
            "|1811260|  EA SPORTS™ FIFA 23|  2022-09-29|     67263.0|            50|\n",
            "|1361210|Warhammer 40000: ...|  2022-11-30|     54741.0|            54|\n",
            "| 674020|         World War 3|  2022-12-10|     49594.0|            54|\n",
            "| 868270| The Cycle: Frontier|  2022-06-08|     39025.0|            61|\n",
            "|1418630|        Dread Hunger|  2022-01-26|     38500.0|            61|\n",
            "|1544020|The Callisto Prot...|  2022-12-01|     21737.0|            62|\n",
            "| 529340|          Victoria 3|  2022-10-25|     19223.0|            67|\n",
            "|1816670|    GUNDAM EVOLUTION|  2022-09-19|     18407.0|            52|\n",
            "|1969870|    生死狙击2 - 国服|  2022-07-20|     17380.0|            62|\n",
            "+-------+--------------------+------------+------------+--------------+\n",
            "only showing top 10 rows\n",
            "\n"
          ]
        }
      ],
      "source": [
        "game_pos2.show(10)"
      ]
    },
    {
      "cell_type": "code",
      "source": [
        "# game_pos2 = game_pos2.toPandas()\n",
        "# game_pos2.head(10)"
      ],
      "metadata": {
        "id": "Ipu9zXNZTo5y"
      },
      "execution_count": null,
      "outputs": []
    },
    {
      "cell_type": "code",
      "source": [
        "# fig, ax = plt.subplots(figsize =(24,10))\n",
        "# ax.bar(game_pos2['title'][:10],game_pos2[\"user_reviews\"][:10],width=0.7, edgecolor=\"white\", linewidth=1)\n",
        "# # ax.set(xlim=(0, 8),ylim=(0, 8))\n",
        "# plt.title(\"Top 10 popular games of 2022 with mixed or lower reviews\")\n",
        "# plt.xlabel('title')\n",
        "# plt.ylabel('user_reviews')\n",
        "# plt.show()"
      ],
      "metadata": {
        "id": "ixufUSjaTsAf"
      },
      "execution_count": null,
      "outputs": []
    },
    {
      "cell_type": "markdown",
      "metadata": {
        "id": "8Lm0qu8vm3AF"
      },
      "source": [
        "## ---- Top Genre popular ----"
      ]
    },
    {
      "cell_type": "code",
      "execution_count": null,
      "metadata": {
        "id": "hFOzyeu4nNH4",
        "colab": {
          "base_uri": "https://localhost:8080/"
        },
        "outputId": "0811ea37-98a4-4bc9-eb90-bed2c0017da6"
      },
      "outputs": [
        {
          "output_type": "stream",
          "name": "stdout",
          "text": [
            "root\n",
            " |-- app_id: long (nullable = true)\n",
            " |-- description: string (nullable = true)\n",
            " |-- tags: array (nullable = true)\n",
            " |    |-- element: string (containsNull = true)\n",
            "\n",
            "+------+--------------------+--------------------+\n",
            "|app_id|         description|                tags|\n",
            "+------+--------------------+--------------------+\n",
            "| 10090|Call of Duty is b...|[Zombies, World W...|\n",
            "| 13500|Enter the dark un...|[Action, Adventur...|\n",
            "| 22364|                    |            [Action]|\n",
            "|113020|Monaco: What's Yo...|[Co-op, Stealth, ...|\n",
            "|226560|Escape Dead Islan...|[Zombies, Adventu...|\n",
            "|249050|Dungeon of the En...|[Roguelike, Strat...|\n",
            "|250180|“METAL SLUG 3”, t...|[Arcade, Classic,...|\n",
            "|253980|Experience incred...|[RPG, Action, Fan...|\n",
            "|261550|A strategy/action...|[Medieval, Strate...|\n",
            "|271850|                    |[Strategy, Simula...|\n",
            "|282900|Packed with fast-...|[Anime, JRPG, Fem...|\n",
            "| 19810|Lead a team of do...|  [Action, Tactical]|\n",
            "| 15270|In a ferocious Ar...|[Horror, Action, ...|\n",
            "| 21130|Build the adventu...|[LEGO, Adventure,...|\n",
            "| 22130|Includes Hearts o...|[Strategy, Grand ...|\n",
            "| 29180|Enter the ambient...|[Indie, Casual, P...|\n",
            "| 32750|The best-selling ...|[Action, Simulati...|\n",
            "|241620|Action-oriented c...|[RPG, Indie, Isom...|\n",
            "|244910|Explore an abando...|[Atmospheric, Puz...|\n",
            "|245950|                    |[Action, RPG, FPS...|\n",
            "+------+--------------------+--------------------+\n",
            "only showing top 20 rows\n",
            "\n"
          ]
        }
      ],
      "source": [
        "game_tags.printSchema()\n",
        "game_tags.show()"
      ]
    },
    {
      "cell_type": "code",
      "execution_count": null,
      "metadata": {
        "id": "RPUgjHr0gnkF"
      },
      "outputs": [],
      "source": [
        "genre = all_data.select(f.col(\"app_id\"),f.col(\"title\"),f.col(\"price_final\"),f.explode(f.col(\"tags\")))"
      ]
    },
    {
      "cell_type": "code",
      "source": [
        "ganre_2 = genre.orderBy(f.col('col').desc())\n",
        "ganre_2.show(10)"
      ],
      "metadata": {
        "colab": {
          "base_uri": "https://localhost:8080/"
        },
        "id": "wDSFFghdNAQE",
        "outputId": "b000062e-f9bf-4be8-bc2b-38445aa658fd"
      },
      "execution_count": null,
      "outputs": [
        {
          "output_type": "stream",
          "name": "stdout",
          "text": [
            "+-------+--------------------+-----------+-------+\n",
            "| app_id|               title|price_final|    col|\n",
            "+-------+--------------------+-----------+-------+\n",
            "|1058830|      Spin Rhythm XD|      19.99|eSports|\n",
            "|1156120|         DOOMBRINGER|      14.99|eSports|\n",
            "|1072190|   Crossfire: Legion|      29.99|eSports|\n",
            "|1004750|WRC 8 FIA World R...|      29.99|eSports|\n",
            "|1097130|  Circuit Superstars|      19.99|eSports|\n",
            "|1021770|      Wanba Warriors|       4.99|eSports|\n",
            "|1100990|            Aimbeast|       4.99|eSports|\n",
            "|1114290|       Windjammers 2|      19.99|eSports|\n",
            "|1126990|     PBA Pro Bowling|      14.99|eSports|\n",
            "|1029550|        Torque Drift|        0.0|eSports|\n",
            "+-------+--------------------+-----------+-------+\n",
            "only showing top 10 rows\n",
            "\n"
          ]
        }
      ]
    },
    {
      "cell_type": "code",
      "source": [
        "# genre.show() all_data.groupBy(\"title\").count().filter(\"count > 100\")\n",
        "ganre_3 = genre.select('title','col').groupBy(\"col\").count().orderBy(f.col('count').desc())\n",
        "# .filter(ganre_2[\"col\"] != lit(\"eSports\")).orderBy(f.col('col').desc())\n",
        "ganre_3.show(10)"
      ],
      "metadata": {
        "colab": {
          "base_uri": "https://localhost:8080/"
        },
        "id": "LcJn_Y-NNSWi",
        "outputId": "97642133-5321-43e2-8cc8-ecd40bc74833"
      },
      "execution_count": null,
      "outputs": [
        {
          "output_type": "stream",
          "name": "stdout",
          "text": [
            "+------------+-------+\n",
            "|         col|  count|\n",
            "+------------+-------+\n",
            "|      Action|5080011|\n",
            "|Singleplayer|4755822|\n",
            "| Multiplayer|4620768|\n",
            "|       Co-op|3418037|\n",
            "|   Adventure|3415202|\n",
            "|First-Person|3312454|\n",
            "|  Open World|3308630|\n",
            "| Atmospheric|2800194|\n",
            "|  Simulation|2519390|\n",
            "|     Sandbox|2503436|\n",
            "+------------+-------+\n",
            "only showing top 10 rows\n",
            "\n"
          ]
        }
      ]
    },
    {
      "cell_type": "code",
      "source": [
        "ganre_3 = ganre_3.toPandas()\n",
        "ganre_3.head(10)"
      ],
      "metadata": {
        "colab": {
          "base_uri": "https://localhost:8080/",
          "height": 363
        },
        "id": "XzBlaJ8i8CZl",
        "outputId": "defe0a58-40eb-463c-d54b-54df6d3ef3e1"
      },
      "execution_count": null,
      "outputs": [
        {
          "output_type": "execute_result",
          "data": {
            "text/plain": [
              "            col    count\n",
              "0        Action  5080011\n",
              "1  Singleplayer  4755822\n",
              "2   Multiplayer  4620768\n",
              "3         Co-op  3418037\n",
              "4     Adventure  3415202\n",
              "5  First-Person  3312454\n",
              "6    Open World  3308630\n",
              "7   Atmospheric  2800194\n",
              "8    Simulation  2519390\n",
              "9       Sandbox  2503436"
            ],
            "text/html": [
              "\n",
              "  <div id=\"df-f96e3310-c12b-4690-aa64-6d71ff996e18\">\n",
              "    <div class=\"colab-df-container\">\n",
              "      <div>\n",
              "<style scoped>\n",
              "    .dataframe tbody tr th:only-of-type {\n",
              "        vertical-align: middle;\n",
              "    }\n",
              "\n",
              "    .dataframe tbody tr th {\n",
              "        vertical-align: top;\n",
              "    }\n",
              "\n",
              "    .dataframe thead th {\n",
              "        text-align: right;\n",
              "    }\n",
              "</style>\n",
              "<table border=\"1\" class=\"dataframe\">\n",
              "  <thead>\n",
              "    <tr style=\"text-align: right;\">\n",
              "      <th></th>\n",
              "      <th>col</th>\n",
              "      <th>count</th>\n",
              "    </tr>\n",
              "  </thead>\n",
              "  <tbody>\n",
              "    <tr>\n",
              "      <th>0</th>\n",
              "      <td>Action</td>\n",
              "      <td>5080011</td>\n",
              "    </tr>\n",
              "    <tr>\n",
              "      <th>1</th>\n",
              "      <td>Singleplayer</td>\n",
              "      <td>4755822</td>\n",
              "    </tr>\n",
              "    <tr>\n",
              "      <th>2</th>\n",
              "      <td>Multiplayer</td>\n",
              "      <td>4620768</td>\n",
              "    </tr>\n",
              "    <tr>\n",
              "      <th>3</th>\n",
              "      <td>Co-op</td>\n",
              "      <td>3418037</td>\n",
              "    </tr>\n",
              "    <tr>\n",
              "      <th>4</th>\n",
              "      <td>Adventure</td>\n",
              "      <td>3415202</td>\n",
              "    </tr>\n",
              "    <tr>\n",
              "      <th>5</th>\n",
              "      <td>First-Person</td>\n",
              "      <td>3312454</td>\n",
              "    </tr>\n",
              "    <tr>\n",
              "      <th>6</th>\n",
              "      <td>Open World</td>\n",
              "      <td>3308630</td>\n",
              "    </tr>\n",
              "    <tr>\n",
              "      <th>7</th>\n",
              "      <td>Atmospheric</td>\n",
              "      <td>2800194</td>\n",
              "    </tr>\n",
              "    <tr>\n",
              "      <th>8</th>\n",
              "      <td>Simulation</td>\n",
              "      <td>2519390</td>\n",
              "    </tr>\n",
              "    <tr>\n",
              "      <th>9</th>\n",
              "      <td>Sandbox</td>\n",
              "      <td>2503436</td>\n",
              "    </tr>\n",
              "  </tbody>\n",
              "</table>\n",
              "</div>\n",
              "      <button class=\"colab-df-convert\" onclick=\"convertToInteractive('df-f96e3310-c12b-4690-aa64-6d71ff996e18')\"\n",
              "              title=\"Convert this dataframe to an interactive table.\"\n",
              "              style=\"display:none;\">\n",
              "        \n",
              "  <svg xmlns=\"http://www.w3.org/2000/svg\" height=\"24px\"viewBox=\"0 0 24 24\"\n",
              "       width=\"24px\">\n",
              "    <path d=\"M0 0h24v24H0V0z\" fill=\"none\"/>\n",
              "    <path d=\"M18.56 5.44l.94 2.06.94-2.06 2.06-.94-2.06-.94-.94-2.06-.94 2.06-2.06.94zm-11 1L8.5 8.5l.94-2.06 2.06-.94-2.06-.94L8.5 2.5l-.94 2.06-2.06.94zm10 10l.94 2.06.94-2.06 2.06-.94-2.06-.94-.94-2.06-.94 2.06-2.06.94z\"/><path d=\"M17.41 7.96l-1.37-1.37c-.4-.4-.92-.59-1.43-.59-.52 0-1.04.2-1.43.59L10.3 9.45l-7.72 7.72c-.78.78-.78 2.05 0 2.83L4 21.41c.39.39.9.59 1.41.59.51 0 1.02-.2 1.41-.59l7.78-7.78 2.81-2.81c.8-.78.8-2.07 0-2.86zM5.41 20L4 18.59l7.72-7.72 1.47 1.35L5.41 20z\"/>\n",
              "  </svg>\n",
              "      </button>\n",
              "      \n",
              "  <style>\n",
              "    .colab-df-container {\n",
              "      display:flex;\n",
              "      flex-wrap:wrap;\n",
              "      gap: 12px;\n",
              "    }\n",
              "\n",
              "    .colab-df-convert {\n",
              "      background-color: #E8F0FE;\n",
              "      border: none;\n",
              "      border-radius: 50%;\n",
              "      cursor: pointer;\n",
              "      display: none;\n",
              "      fill: #1967D2;\n",
              "      height: 32px;\n",
              "      padding: 0 0 0 0;\n",
              "      width: 32px;\n",
              "    }\n",
              "\n",
              "    .colab-df-convert:hover {\n",
              "      background-color: #E2EBFA;\n",
              "      box-shadow: 0px 1px 2px rgba(60, 64, 67, 0.3), 0px 1px 3px 1px rgba(60, 64, 67, 0.15);\n",
              "      fill: #174EA6;\n",
              "    }\n",
              "\n",
              "    [theme=dark] .colab-df-convert {\n",
              "      background-color: #3B4455;\n",
              "      fill: #D2E3FC;\n",
              "    }\n",
              "\n",
              "    [theme=dark] .colab-df-convert:hover {\n",
              "      background-color: #434B5C;\n",
              "      box-shadow: 0px 1px 3px 1px rgba(0, 0, 0, 0.15);\n",
              "      filter: drop-shadow(0px 1px 2px rgba(0, 0, 0, 0.3));\n",
              "      fill: #FFFFFF;\n",
              "    }\n",
              "  </style>\n",
              "\n",
              "      <script>\n",
              "        const buttonEl =\n",
              "          document.querySelector('#df-f96e3310-c12b-4690-aa64-6d71ff996e18 button.colab-df-convert');\n",
              "        buttonEl.style.display =\n",
              "          google.colab.kernel.accessAllowed ? 'block' : 'none';\n",
              "\n",
              "        async function convertToInteractive(key) {\n",
              "          const element = document.querySelector('#df-f96e3310-c12b-4690-aa64-6d71ff996e18');\n",
              "          const dataTable =\n",
              "            await google.colab.kernel.invokeFunction('convertToInteractive',\n",
              "                                                     [key], {});\n",
              "          if (!dataTable) return;\n",
              "\n",
              "          const docLinkHtml = 'Like what you see? Visit the ' +\n",
              "            '<a target=\"_blank\" href=https://colab.research.google.com/notebooks/data_table.ipynb>data table notebook</a>'\n",
              "            + ' to learn more about interactive tables.';\n",
              "          element.innerHTML = '';\n",
              "          dataTable['output_type'] = 'display_data';\n",
              "          await google.colab.output.renderOutput(dataTable, element);\n",
              "          const docLink = document.createElement('div');\n",
              "          docLink.innerHTML = docLinkHtml;\n",
              "          element.appendChild(docLink);\n",
              "        }\n",
              "      </script>\n",
              "    </div>\n",
              "  </div>\n",
              "  "
            ]
          },
          "metadata": {},
          "execution_count": 59
        }
      ]
    },
    {
      "cell_type": "code",
      "source": [
        "fig, ax = plt.subplots(figsize =(20,7))\n",
        "ax.bar(ganre_3['col'][:10],ganre_3[\"count\"][:10],width=0.7, edgecolor=\"white\", linewidth=1)\n",
        "# ax.set(xlim=(0, 8),ylim=(0, 8))\n",
        "plt.title('Top Gerne Popular')\n",
        "plt.xlabel('Genre')\n",
        "plt.ylabel('Count')\n",
        "plt.show()"
      ],
      "metadata": {
        "colab": {
          "base_uri": "https://localhost:8080/",
          "height": 458
        },
        "id": "_-qXBoTF8Cs7",
        "outputId": "98e95d90-5ace-4a92-f2b1-24a5e04ca8f0"
      },
      "execution_count": null,
      "outputs": [
        {
          "output_type": "display_data",
          "data": {
            "text/plain": [
              "<Figure size 1440x504 with 1 Axes>"
            ],
            "image/png": "[encoded data removed]"
          },
          "metadata": {
            "needs_background": "light"
          }
        }
      ]
    },
    {
      "cell_type": "markdown",
      "metadata": {
        "id": "D-jRYqNJcLZz"
      },
      "source": [
        "### Top Gerne Free game"
      ]
    },
    {
      "cell_type": "code",
      "execution_count": null,
      "metadata": {
        "id": "8qTzuvs5cQlQ"
      },
      "outputs": [],
      "source": [
        "ganre_4 = ganre_2.select('title','col').filter(\"price_final == 0\").groupBy(\"col\").count().orderBy(f.col('count').desc())"
      ]
    },
    {
      "cell_type": "code",
      "execution_count": null,
      "metadata": {
        "id": "FP4rq9ekcQrm",
        "colab": {
          "base_uri": "https://localhost:8080/"
        },
        "outputId": "510ab27a-01c3-4cc7-bba5-d986bd233bcd"
      },
      "outputs": [
        {
          "output_type": "stream",
          "name": "stdout",
          "text": [
            "+--------------------+------+\n",
            "|                 col| count|\n",
            "+--------------------+------+\n",
            "|              Action|963121|\n",
            "|         Multiplayer|956514|\n",
            "|        Free to Play|852017|\n",
            "|               Co-op|723990|\n",
            "|           Adventure|631394|\n",
            "|        Singleplayer|599761|\n",
            "|                 PvP|573305|\n",
            "|Massively Multipl...|536875|\n",
            "|        Online Co-Op|509124|\n",
            "|Character Customi...|454680|\n",
            "+--------------------+------+\n",
            "only showing top 10 rows\n",
            "\n"
          ]
        }
      ],
      "source": [
        "ganre_4.show(10)"
      ]
    },
    {
      "cell_type": "code",
      "source": [
        "ganre_4 = ganre_4.toPandas()\n",
        "ganre_4.head(10)"
      ],
      "metadata": {
        "colab": {
          "base_uri": "https://localhost:8080/",
          "height": 363
        },
        "id": "fpTwoVtU8qxp",
        "outputId": "b0592e03-8a4a-45f4-fcaf-450f5a252652"
      },
      "execution_count": null,
      "outputs": [
        {
          "output_type": "execute_result",
          "data": {
            "text/plain": [
              "                       col   count\n",
              "0                   Action  963121\n",
              "1              Multiplayer  956514\n",
              "2             Free to Play  852017\n",
              "3                    Co-op  723990\n",
              "4                Adventure  631394\n",
              "5             Singleplayer  599761\n",
              "6                      PvP  573305\n",
              "7    Massively Multiplayer  536875\n",
              "8             Online Co-Op  509124\n",
              "9  Character Customization  454680"
            ],
            "text/html": [
              "\n",
              "  <div id=\"df-f9c82bb4-9f47-4da1-b896-2a0455267527\">\n",
              "    <div class=\"colab-df-container\">\n",
              "      <div>\n",
              "<style scoped>\n",
              "    .dataframe tbody tr th:only-of-type {\n",
              "        vertical-align: middle;\n",
              "    }\n",
              "\n",
              "    .dataframe tbody tr th {\n",
              "        vertical-align: top;\n",
              "    }\n",
              "\n",
              "    .dataframe thead th {\n",
              "        text-align: right;\n",
              "    }\n",
              "</style>\n",
              "<table border=\"1\" class=\"dataframe\">\n",
              "  <thead>\n",
              "    <tr style=\"text-align: right;\">\n",
              "      <th></th>\n",
              "      <th>col</th>\n",
              "      <th>count</th>\n",
              "    </tr>\n",
              "  </thead>\n",
              "  <tbody>\n",
              "    <tr>\n",
              "      <th>0</th>\n",
              "      <td>Action</td>\n",
              "      <td>963121</td>\n",
              "    </tr>\n",
              "    <tr>\n",
              "      <th>1</th>\n",
              "      <td>Multiplayer</td>\n",
              "      <td>956514</td>\n",
              "    </tr>\n",
              "    <tr>\n",
              "      <th>2</th>\n",
              "      <td>Free to Play</td>\n",
              "      <td>852017</td>\n",
              "    </tr>\n",
              "    <tr>\n",
              "      <th>3</th>\n",
              "      <td>Co-op</td>\n",
              "      <td>723990</td>\n",
              "    </tr>\n",
              "    <tr>\n",
              "      <th>4</th>\n",
              "      <td>Adventure</td>\n",
              "      <td>631394</td>\n",
              "    </tr>\n",
              "    <tr>\n",
              "      <th>5</th>\n",
              "      <td>Singleplayer</td>\n",
              "      <td>599761</td>\n",
              "    </tr>\n",
              "    <tr>\n",
              "      <th>6</th>\n",
              "      <td>PvP</td>\n",
              "      <td>573305</td>\n",
              "    </tr>\n",
              "    <tr>\n",
              "      <th>7</th>\n",
              "      <td>Massively Multiplayer</td>\n",
              "      <td>536875</td>\n",
              "    </tr>\n",
              "    <tr>\n",
              "      <th>8</th>\n",
              "      <td>Online Co-Op</td>\n",
              "      <td>509124</td>\n",
              "    </tr>\n",
              "    <tr>\n",
              "      <th>9</th>\n",
              "      <td>Character Customization</td>\n",
              "      <td>454680</td>\n",
              "    </tr>\n",
              "  </tbody>\n",
              "</table>\n",
              "</div>\n",
              "      <button class=\"colab-df-convert\" onclick=\"convertToInteractive('df-f9c82bb4-9f47-4da1-b896-2a0455267527')\"\n",
              "              title=\"Convert this dataframe to an interactive table.\"\n",
              "              style=\"display:none;\">\n",
              "        \n",
              "  <svg xmlns=\"http://www.w3.org/2000/svg\" height=\"24px\"viewBox=\"0 0 24 24\"\n",
              "       width=\"24px\">\n",
              "    <path d=\"M0 0h24v24H0V0z\" fill=\"none\"/>\n",
              "    <path d=\"M18.56 5.44l.94 2.06.94-2.06 2.06-.94-2.06-.94-.94-2.06-.94 2.06-2.06.94zm-11 1L8.5 8.5l.94-2.06 2.06-.94-2.06-.94L8.5 2.5l-.94 2.06-2.06.94zm10 10l.94 2.06.94-2.06 2.06-.94-2.06-.94-.94-2.06-.94 2.06-2.06.94z\"/><path d=\"M17.41 7.96l-1.37-1.37c-.4-.4-.92-.59-1.43-.59-.52 0-1.04.2-1.43.59L10.3 9.45l-7.72 7.72c-.78.78-.78 2.05 0 2.83L4 21.41c.39.39.9.59 1.41.59.51 0 1.02-.2 1.41-.59l7.78-7.78 2.81-2.81c.8-.78.8-2.07 0-2.86zM5.41 20L4 18.59l7.72-7.72 1.47 1.35L5.41 20z\"/>\n",
              "  </svg>\n",
              "      </button>\n",
              "      \n",
              "  <style>\n",
              "    .colab-df-container {\n",
              "      display:flex;\n",
              "      flex-wrap:wrap;\n",
              "      gap: 12px;\n",
              "    }\n",
              "\n",
              "    .colab-df-convert {\n",
              "      background-color: #E8F0FE;\n",
              "      border: none;\n",
              "      border-radius: 50%;\n",
              "      cursor: pointer;\n",
              "      display: none;\n",
              "      fill: #1967D2;\n",
              "      height: 32px;\n",
              "      padding: 0 0 0 0;\n",
              "      width: 32px;\n",
              "    }\n",
              "\n",
              "    .colab-df-convert:hover {\n",
              "      background-color: #E2EBFA;\n",
              "      box-shadow: 0px 1px 2px rgba(60, 64, 67, 0.3), 0px 1px 3px 1px rgba(60, 64, 67, 0.15);\n",
              "      fill: #174EA6;\n",
              "    }\n",
              "\n",
              "    [theme=dark] .colab-df-convert {\n",
              "      background-color: #3B4455;\n",
              "      fill: #D2E3FC;\n",
              "    }\n",
              "\n",
              "    [theme=dark] .colab-df-convert:hover {\n",
              "      background-color: #434B5C;\n",
              "      box-shadow: 0px 1px 3px 1px rgba(0, 0, 0, 0.15);\n",
              "      filter: drop-shadow(0px 1px 2px rgba(0, 0, 0, 0.3));\n",
              "      fill: #FFFFFF;\n",
              "    }\n",
              "  </style>\n",
              "\n",
              "      <script>\n",
              "        const buttonEl =\n",
              "          document.querySelector('#df-f9c82bb4-9f47-4da1-b896-2a0455267527 button.colab-df-convert');\n",
              "        buttonEl.style.display =\n",
              "          google.colab.kernel.accessAllowed ? 'block' : 'none';\n",
              "\n",
              "        async function convertToInteractive(key) {\n",
              "          const element = document.querySelector('#df-f9c82bb4-9f47-4da1-b896-2a0455267527');\n",
              "          const dataTable =\n",
              "            await google.colab.kernel.invokeFunction('convertToInteractive',\n",
              "                                                     [key], {});\n",
              "          if (!dataTable) return;\n",
              "\n",
              "          const docLinkHtml = 'Like what you see? Visit the ' +\n",
              "            '<a target=\"_blank\" href=https://colab.research.google.com/notebooks/data_table.ipynb>data table notebook</a>'\n",
              "            + ' to learn more about interactive tables.';\n",
              "          element.innerHTML = '';\n",
              "          dataTable['output_type'] = 'display_data';\n",
              "          await google.colab.output.renderOutput(dataTable, element);\n",
              "          const docLink = document.createElement('div');\n",
              "          docLink.innerHTML = docLinkHtml;\n",
              "          element.appendChild(docLink);\n",
              "        }\n",
              "      </script>\n",
              "    </div>\n",
              "  </div>\n",
              "  "
            ]
          },
          "metadata": {},
          "execution_count": 63
        }
      ]
    },
    {
      "cell_type": "code",
      "source": [
        "fig, ax = plt.subplots(figsize =(20,7))\n",
        "ax.bar(ganre_4['col'][:10],ganre_4[\"count\"][:10],width=0.7, edgecolor=\"white\", linewidth=1)\n",
        "# ax.set(xlim=(0, 8),ylim=(0, 8))\n",
        "plt.title('Top Gerne Free game')\n",
        "plt.xlabel('Genre')\n",
        "plt.ylabel('Count')\n",
        "plt.show()"
      ],
      "metadata": {
        "colab": {
          "base_uri": "https://localhost:8080/",
          "height": 458
        },
        "id": "-MHshar59n0q",
        "outputId": "152d5d8b-051c-4bab-8374-a77991af18e0"
      },
      "execution_count": null,
      "outputs": [
        {
          "output_type": "display_data",
          "data": {
            "text/plain": [
              "<Figure size 1440x504 with 1 Axes>"
            ],
            "image/png": "[encoded data removed]"
          },
          "metadata": {
            "needs_background": "light"
          }
        }
      ]
    },
    {
      "cell_type": "markdown",
      "metadata": {
        "id": "TJWhzMHAcROH"
      },
      "source": [
        "### Top Gerne Paid game"
      ]
    },
    {
      "cell_type": "code",
      "execution_count": null,
      "metadata": {
        "id": "aOTjzz_acWPp"
      },
      "outputs": [],
      "source": [
        "ganre_5 = ganre_2.select('title','col').filter(\"price_final != 0\").groupBy(\"col\").count().orderBy(f.col('count').desc())"
      ]
    },
    {
      "cell_type": "code",
      "source": [
        "ganre_5.show(10)"
      ],
      "metadata": {
        "id": "iibC6Ky4WNoT",
        "colab": {
          "base_uri": "https://localhost:8080/"
        },
        "outputId": "c46da6df-e609-44b5-9333-2b7c3ca962d2"
      },
      "execution_count": null,
      "outputs": [
        {
          "output_type": "stream",
          "name": "stdout",
          "text": [
            "+------------+-------+\n",
            "|         col|  count|\n",
            "+------------+-------+\n",
            "|Singleplayer|4156061|\n",
            "|      Action|4116890|\n",
            "| Multiplayer|3664254|\n",
            "|  Open World|2931171|\n",
            "|First-Person|2906236|\n",
            "|   Adventure|2783808|\n",
            "|       Co-op|2694047|\n",
            "| Atmospheric|2558543|\n",
            "|     Sandbox|2226187|\n",
            "|  Simulation|2184336|\n",
            "+------------+-------+\n",
            "only showing top 10 rows\n",
            "\n"
          ]
        }
      ]
    },
    {
      "cell_type": "code",
      "source": [
        "ganre_5 = ganre_5.toPandas()\n",
        "ganre_5.head(10)"
      ],
      "metadata": {
        "colab": {
          "base_uri": "https://localhost:8080/",
          "height": 363
        },
        "id": "2PFq2AAi9-UD",
        "outputId": "3c929245-87be-4d14-fcbc-e0657f58b21a"
      },
      "execution_count": null,
      "outputs": [
        {
          "output_type": "execute_result",
          "data": {
            "text/plain": [
              "            col    count\n",
              "0  Singleplayer  4156061\n",
              "1        Action  4116890\n",
              "2   Multiplayer  3664254\n",
              "3    Open World  2931171\n",
              "4  First-Person  2906236\n",
              "5     Adventure  2783808\n",
              "6         Co-op  2694047\n",
              "7   Atmospheric  2558543\n",
              "8       Sandbox  2226187\n",
              "9    Simulation  2184336"
            ],
            "text/html": [
              "\n",
              "  <div id=\"df-640ef8bd-145d-4e67-9c0b-b425dbc8ba81\">\n",
              "    <div class=\"colab-df-container\">\n",
              "      <div>\n",
              "<style scoped>\n",
              "    .dataframe tbody tr th:only-of-type {\n",
              "        vertical-align: middle;\n",
              "    }\n",
              "\n",
              "    .dataframe tbody tr th {\n",
              "        vertical-align: top;\n",
              "    }\n",
              "\n",
              "    .dataframe thead th {\n",
              "        text-align: right;\n",
              "    }\n",
              "</style>\n",
              "<table border=\"1\" class=\"dataframe\">\n",
              "  <thead>\n",
              "    <tr style=\"text-align: right;\">\n",
              "      <th></th>\n",
              "      <th>col</th>\n",
              "      <th>count</th>\n",
              "    </tr>\n",
              "  </thead>\n",
              "  <tbody>\n",
              "    <tr>\n",
              "      <th>0</th>\n",
              "      <td>Singleplayer</td>\n",
              "      <td>4156061</td>\n",
              "    </tr>\n",
              "    <tr>\n",
              "      <th>1</th>\n",
              "      <td>Action</td>\n",
              "      <td>4116890</td>\n",
              "    </tr>\n",
              "    <tr>\n",
              "      <th>2</th>\n",
              "      <td>Multiplayer</td>\n",
              "      <td>3664254</td>\n",
              "    </tr>\n",
              "    <tr>\n",
              "      <th>3</th>\n",
              "      <td>Open World</td>\n",
              "      <td>2931171</td>\n",
              "    </tr>\n",
              "    <tr>\n",
              "      <th>4</th>\n",
              "      <td>First-Person</td>\n",
              "      <td>2906236</td>\n",
              "    </tr>\n",
              "    <tr>\n",
              "      <th>5</th>\n",
              "      <td>Adventure</td>\n",
              "      <td>2783808</td>\n",
              "    </tr>\n",
              "    <tr>\n",
              "      <th>6</th>\n",
              "      <td>Co-op</td>\n",
              "      <td>2694047</td>\n",
              "    </tr>\n",
              "    <tr>\n",
              "      <th>7</th>\n",
              "      <td>Atmospheric</td>\n",
              "      <td>2558543</td>\n",
              "    </tr>\n",
              "    <tr>\n",
              "      <th>8</th>\n",
              "      <td>Sandbox</td>\n",
              "      <td>2226187</td>\n",
              "    </tr>\n",
              "    <tr>\n",
              "      <th>9</th>\n",
              "      <td>Simulation</td>\n",
              "      <td>2184336</td>\n",
              "    </tr>\n",
              "  </tbody>\n",
              "</table>\n",
              "</div>\n",
              "      <button class=\"colab-df-convert\" onclick=\"convertToInteractive('df-640ef8bd-145d-4e67-9c0b-b425dbc8ba81')\"\n",
              "              title=\"Convert this dataframe to an interactive table.\"\n",
              "              style=\"display:none;\">\n",
              "        \n",
              "  <svg xmlns=\"http://www.w3.org/2000/svg\" height=\"24px\"viewBox=\"0 0 24 24\"\n",
              "       width=\"24px\">\n",
              "    <path d=\"M0 0h24v24H0V0z\" fill=\"none\"/>\n",
              "    <path d=\"M18.56 5.44l.94 2.06.94-2.06 2.06-.94-2.06-.94-.94-2.06-.94 2.06-2.06.94zm-11 1L8.5 8.5l.94-2.06 2.06-.94-2.06-.94L8.5 2.5l-.94 2.06-2.06.94zm10 10l.94 2.06.94-2.06 2.06-.94-2.06-.94-.94-2.06-.94 2.06-2.06.94z\"/><path d=\"M17.41 7.96l-1.37-1.37c-.4-.4-.92-.59-1.43-.59-.52 0-1.04.2-1.43.59L10.3 9.45l-7.72 7.72c-.78.78-.78 2.05 0 2.83L4 21.41c.39.39.9.59 1.41.59.51 0 1.02-.2 1.41-.59l7.78-7.78 2.81-2.81c.8-.78.8-2.07 0-2.86zM5.41 20L4 18.59l7.72-7.72 1.47 1.35L5.41 20z\"/>\n",
              "  </svg>\n",
              "      </button>\n",
              "      \n",
              "  <style>\n",
              "    .colab-df-container {\n",
              "      display:flex;\n",
              "      flex-wrap:wrap;\n",
              "      gap: 12px;\n",
              "    }\n",
              "\n",
              "    .colab-df-convert {\n",
              "      background-color: #E8F0FE;\n",
              "      border: none;\n",
              "      border-radius: 50%;\n",
              "      cursor: pointer;\n",
              "      display: none;\n",
              "      fill: #1967D2;\n",
              "      height: 32px;\n",
              "      padding: 0 0 0 0;\n",
              "      width: 32px;\n",
              "    }\n",
              "\n",
              "    .colab-df-convert:hover {\n",
              "      background-color: #E2EBFA;\n",
              "      box-shadow: 0px 1px 2px rgba(60, 64, 67, 0.3), 0px 1px 3px 1px rgba(60, 64, 67, 0.15);\n",
              "      fill: #174EA6;\n",
              "    }\n",
              "\n",
              "    [theme=dark] .colab-df-convert {\n",
              "      background-color: #3B4455;\n",
              "      fill: #D2E3FC;\n",
              "    }\n",
              "\n",
              "    [theme=dark] .colab-df-convert:hover {\n",
              "      background-color: #434B5C;\n",
              "      box-shadow: 0px 1px 3px 1px rgba(0, 0, 0, 0.15);\n",
              "      filter: drop-shadow(0px 1px 2px rgba(0, 0, 0, 0.3));\n",
              "      fill: #FFFFFF;\n",
              "    }\n",
              "  </style>\n",
              "\n",
              "      <script>\n",
              "        const buttonEl =\n",
              "          document.querySelector('#df-640ef8bd-145d-4e67-9c0b-b425dbc8ba81 button.colab-df-convert');\n",
              "        buttonEl.style.display =\n",
              "          google.colab.kernel.accessAllowed ? 'block' : 'none';\n",
              "\n",
              "        async function convertToInteractive(key) {\n",
              "          const element = document.querySelector('#df-640ef8bd-145d-4e67-9c0b-b425dbc8ba81');\n",
              "          const dataTable =\n",
              "            await google.colab.kernel.invokeFunction('convertToInteractive',\n",
              "                                                     [key], {});\n",
              "          if (!dataTable) return;\n",
              "\n",
              "          const docLinkHtml = 'Like what you see? Visit the ' +\n",
              "            '<a target=\"_blank\" href=https://colab.research.google.com/notebooks/data_table.ipynb>data table notebook</a>'\n",
              "            + ' to learn more about interactive tables.';\n",
              "          element.innerHTML = '';\n",
              "          dataTable['output_type'] = 'display_data';\n",
              "          await google.colab.output.renderOutput(dataTable, element);\n",
              "          const docLink = document.createElement('div');\n",
              "          docLink.innerHTML = docLinkHtml;\n",
              "          element.appendChild(docLink);\n",
              "        }\n",
              "      </script>\n",
              "    </div>\n",
              "  </div>\n",
              "  "
            ]
          },
          "metadata": {},
          "execution_count": 67
        }
      ]
    },
    {
      "cell_type": "code",
      "source": [
        "fig, ax = plt.subplots(figsize =(20,7))\n",
        "ax.bar(ganre_5['col'][:10],ganre_5[\"count\"][:10],width=0.7, edgecolor=\"white\", linewidth=1)\n",
        "# ax.set(xlim=(0, 8),ylim=(0, 8))\n",
        "plt.title('Top Gerne Paid game')\n",
        "plt.xlabel('Genre')\n",
        "plt.ylabel('Count')\n",
        "plt.show()"
      ],
      "metadata": {
        "colab": {
          "base_uri": "https://localhost:8080/",
          "height": 458
        },
        "id": "JxRngInQ-D02",
        "outputId": "07213d8d-62fa-405a-c531-440ac7a426f2"
      },
      "execution_count": null,
      "outputs": [
        {
          "output_type": "display_data",
          "data": {
            "text/plain": [
              "<Figure size 1440x504 with 1 Axes>"
            ],
            "image/png": "[encoded data removed]"
          },
          "metadata": {
            "needs_background": "light"
          }
        }
      ]
    },
    {
      "cell_type": "markdown",
      "source": [
        "### Top Gerne eSpots game"
      ],
      "metadata": {
        "id": "jPOVIh1rgjXb"
      }
    },
    {
      "cell_type": "code",
      "source": [
        "ganre_6 =  ganre_2.select('title').filter(\"col == 'eSports'\").groupBy(\"title\").count().orderBy(f.col('count').desc())"
      ],
      "metadata": {
        "id": "MKQ0l2fEgoSE"
      },
      "execution_count": null,
      "outputs": []
    },
    {
      "cell_type": "code",
      "source": [
        "ganre_6.show(10)"
      ],
      "metadata": {
        "id": "IQGl1sRKgoU6",
        "colab": {
          "base_uri": "https://localhost:8080/"
        },
        "outputId": "2d99b881-a0ac-4527-b79e-8d934bf13039"
      },
      "execution_count": null,
      "outputs": [
        {
          "output_type": "stream",
          "name": "stdout",
          "text": [
            "+--------------------+------+\n",
            "|               title| count|\n",
            "+--------------------+------+\n",
            "|Counter-Strike: G...|172422|\n",
            "|          Brawlhalla| 99033|\n",
            "|              Dota 2| 61361|\n",
            "|              SMITE®| 50588|\n",
            "|Yu-Gi-Oh! Master ...| 18817|\n",
            "|  EA SPORTS™ FIFA 23| 16772|\n",
            "|            NBA 2K23|  5685|\n",
            "|DRAGON BALL FighterZ|  4885|\n",
            "|Football Manager ...|  3005|\n",
            "|       Madden NFL 23|  2508|\n",
            "+--------------------+------+\n",
            "only showing top 10 rows\n",
            "\n"
          ]
        }
      ]
    },
    {
      "cell_type": "code",
      "source": [
        "ganre_6 = ganre_6.toPandas()\n",
        "ganre_6.head(10)"
      ],
      "metadata": {
        "colab": {
          "base_uri": "https://localhost:8080/",
          "height": 363
        },
        "id": "qCKxfRya_RqI",
        "outputId": "af82a7af-5d94-4831-c120-4cbf39a74f7b"
      },
      "execution_count": null,
      "outputs": [
        {
          "output_type": "execute_result",
          "data": {
            "text/plain": [
              "                              title   count\n",
              "0  Counter-Strike: Global Offensive  172422\n",
              "1                        Brawlhalla   99033\n",
              "2                            Dota 2   61361\n",
              "3                            SMITE®   50588\n",
              "4             Yu-Gi-Oh! Master Duel   18817\n",
              "5                EA SPORTS™ FIFA 23   16772\n",
              "6                          NBA 2K23    5685\n",
              "7              DRAGON BALL FighterZ    4885\n",
              "8             Football Manager 2023    3005\n",
              "9                     Madden NFL 23    2508"
            ],
            "text/html": [
              "\n",
              "  <div id=\"df-64b40671-6cbf-422b-b21b-50c253c582e5\">\n",
              "    <div class=\"colab-df-container\">\n",
              "      <div>\n",
              "<style scoped>\n",
              "    .dataframe tbody tr th:only-of-type {\n",
              "        vertical-align: middle;\n",
              "    }\n",
              "\n",
              "    .dataframe tbody tr th {\n",
              "        vertical-align: top;\n",
              "    }\n",
              "\n",
              "    .dataframe thead th {\n",
              "        text-align: right;\n",
              "    }\n",
              "</style>\n",
              "<table border=\"1\" class=\"dataframe\">\n",
              "  <thead>\n",
              "    <tr style=\"text-align: right;\">\n",
              "      <th></th>\n",
              "      <th>title</th>\n",
              "      <th>count</th>\n",
              "    </tr>\n",
              "  </thead>\n",
              "  <tbody>\n",
              "    <tr>\n",
              "      <th>0</th>\n",
              "      <td>Counter-Strike: Global Offensive</td>\n",
              "      <td>172422</td>\n",
              "    </tr>\n",
              "    <tr>\n",
              "      <th>1</th>\n",
              "      <td>Brawlhalla</td>\n",
              "      <td>99033</td>\n",
              "    </tr>\n",
              "    <tr>\n",
              "      <th>2</th>\n",
              "      <td>Dota 2</td>\n",
              "      <td>61361</td>\n",
              "    </tr>\n",
              "    <tr>\n",
              "      <th>3</th>\n",
              "      <td>SMITE®</td>\n",
              "      <td>50588</td>\n",
              "    </tr>\n",
              "    <tr>\n",
              "      <th>4</th>\n",
              "      <td>Yu-Gi-Oh! Master Duel</td>\n",
              "      <td>18817</td>\n",
              "    </tr>\n",
              "    <tr>\n",
              "      <th>5</th>\n",
              "      <td>EA SPORTS™ FIFA 23</td>\n",
              "      <td>16772</td>\n",
              "    </tr>\n",
              "    <tr>\n",
              "      <th>6</th>\n",
              "      <td>NBA 2K23</td>\n",
              "      <td>5685</td>\n",
              "    </tr>\n",
              "    <tr>\n",
              "      <th>7</th>\n",
              "      <td>DRAGON BALL FighterZ</td>\n",
              "      <td>4885</td>\n",
              "    </tr>\n",
              "    <tr>\n",
              "      <th>8</th>\n",
              "      <td>Football Manager 2023</td>\n",
              "      <td>3005</td>\n",
              "    </tr>\n",
              "    <tr>\n",
              "      <th>9</th>\n",
              "      <td>Madden NFL 23</td>\n",
              "      <td>2508</td>\n",
              "    </tr>\n",
              "  </tbody>\n",
              "</table>\n",
              "</div>\n",
              "      <button class=\"colab-df-convert\" onclick=\"convertToInteractive('df-64b40671-6cbf-422b-b21b-50c253c582e5')\"\n",
              "              title=\"Convert this dataframe to an interactive table.\"\n",
              "              style=\"display:none;\">\n",
              "        \n",
              "  <svg xmlns=\"http://www.w3.org/2000/svg\" height=\"24px\"viewBox=\"0 0 24 24\"\n",
              "       width=\"24px\">\n",
              "    <path d=\"M0 0h24v24H0V0z\" fill=\"none\"/>\n",
              "    <path d=\"M18.56 5.44l.94 2.06.94-2.06 2.06-.94-2.06-.94-.94-2.06-.94 2.06-2.06.94zm-11 1L8.5 8.5l.94-2.06 2.06-.94-2.06-.94L8.5 2.5l-.94 2.06-2.06.94zm10 10l.94 2.06.94-2.06 2.06-.94-2.06-.94-.94-2.06-.94 2.06-2.06.94z\"/><path d=\"M17.41 7.96l-1.37-1.37c-.4-.4-.92-.59-1.43-.59-.52 0-1.04.2-1.43.59L10.3 9.45l-7.72 7.72c-.78.78-.78 2.05 0 2.83L4 21.41c.39.39.9.59 1.41.59.51 0 1.02-.2 1.41-.59l7.78-7.78 2.81-2.81c.8-.78.8-2.07 0-2.86zM5.41 20L4 18.59l7.72-7.72 1.47 1.35L5.41 20z\"/>\n",
              "  </svg>\n",
              "      </button>\n",
              "      \n",
              "  <style>\n",
              "    .colab-df-container {\n",
              "      display:flex;\n",
              "      flex-wrap:wrap;\n",
              "      gap: 12px;\n",
              "    }\n",
              "\n",
              "    .colab-df-convert {\n",
              "      background-color: #E8F0FE;\n",
              "      border: none;\n",
              "      border-radius: 50%;\n",
              "      cursor: pointer;\n",
              "      display: none;\n",
              "      fill: #1967D2;\n",
              "      height: 32px;\n",
              "      padding: 0 0 0 0;\n",
              "      width: 32px;\n",
              "    }\n",
              "\n",
              "    .colab-df-convert:hover {\n",
              "      background-color: #E2EBFA;\n",
              "      box-shadow: 0px 1px 2px rgba(60, 64, 67, 0.3), 0px 1px 3px 1px rgba(60, 64, 67, 0.15);\n",
              "      fill: #174EA6;\n",
              "    }\n",
              "\n",
              "    [theme=dark] .colab-df-convert {\n",
              "      background-color: #3B4455;\n",
              "      fill: #D2E3FC;\n",
              "    }\n",
              "\n",
              "    [theme=dark] .colab-df-convert:hover {\n",
              "      background-color: #434B5C;\n",
              "      box-shadow: 0px 1px 3px 1px rgba(0, 0, 0, 0.15);\n",
              "      filter: drop-shadow(0px 1px 2px rgba(0, 0, 0, 0.3));\n",
              "      fill: #FFFFFF;\n",
              "    }\n",
              "  </style>\n",
              "\n",
              "      <script>\n",
              "        const buttonEl =\n",
              "          document.querySelector('#df-64b40671-6cbf-422b-b21b-50c253c582e5 button.colab-df-convert');\n",
              "        buttonEl.style.display =\n",
              "          google.colab.kernel.accessAllowed ? 'block' : 'none';\n",
              "\n",
              "        async function convertToInteractive(key) {\n",
              "          const element = document.querySelector('#df-64b40671-6cbf-422b-b21b-50c253c582e5');\n",
              "          const dataTable =\n",
              "            await google.colab.kernel.invokeFunction('convertToInteractive',\n",
              "                                                     [key], {});\n",
              "          if (!dataTable) return;\n",
              "\n",
              "          const docLinkHtml = 'Like what you see? Visit the ' +\n",
              "            '<a target=\"_blank\" href=https://colab.research.google.com/notebooks/data_table.ipynb>data table notebook</a>'\n",
              "            + ' to learn more about interactive tables.';\n",
              "          element.innerHTML = '';\n",
              "          dataTable['output_type'] = 'display_data';\n",
              "          await google.colab.output.renderOutput(dataTable, element);\n",
              "          const docLink = document.createElement('div');\n",
              "          docLink.innerHTML = docLinkHtml;\n",
              "          element.appendChild(docLink);\n",
              "        }\n",
              "      </script>\n",
              "    </div>\n",
              "  </div>\n",
              "  "
            ]
          },
          "metadata": {},
          "execution_count": 71
        }
      ]
    },
    {
      "cell_type": "code",
      "source": [
        "fig, ax = plt.subplots(figsize =(20,7))\n",
        "ax.bar(ganre_6['title'][:10],ganre_6[\"count\"][:10],width=0.7, edgecolor=\"white\", linewidth=1)\n",
        "# ax.set(xlim=(0, 8),ylim=(0, 8))\n",
        "plt.title('Top Gerne eSpots games')\n",
        "plt.xlabel('Name of game')\n",
        "plt.ylabel('Count')\n",
        "plt.show()"
      ],
      "metadata": {
        "colab": {
          "base_uri": "https://localhost:8080/",
          "height": 458
        },
        "id": "493RzgZA_V9u",
        "outputId": "1e215e97-80db-4183-d796-2d9e67e3e132"
      },
      "execution_count": null,
      "outputs": [
        {
          "output_type": "display_data",
          "data": {
            "text/plain": [
              "<Figure size 1440x504 with 1 Axes>"
            ],
            "image/png": "[encoded data removed]"
          },
          "metadata": {
            "needs_background": "light"
          }
        }
      ]
    },
    {
      "cell_type": "markdown",
      "source": [
        "## ----Top Gerane Games ----"
      ],
      "metadata": {
        "id": "0ahIyVC6rsbL"
      }
    },
    {
      "cell_type": "code",
      "source": [
        "ganre_3.head(10)"
      ],
      "metadata": {
        "id": "AQm9lQPPr12E",
        "colab": {
          "base_uri": "https://localhost:8080/",
          "height": 363
        },
        "outputId": "9c67dd10-0636-482a-bd94-252ad4182348"
      },
      "execution_count": null,
      "outputs": [
        {
          "output_type": "execute_result",
          "data": {
            "text/plain": [
              "            col    count\n",
              "0        Action  5080011\n",
              "1  Singleplayer  4755822\n",
              "2   Multiplayer  4620768\n",
              "3         Co-op  3418037\n",
              "4     Adventure  3415202\n",
              "5  First-Person  3312454\n",
              "6    Open World  3308630\n",
              "7   Atmospheric  2800194\n",
              "8    Simulation  2519390\n",
              "9       Sandbox  2503436"
            ],
            "text/html": [
              "\n",
              "  <div id=\"df-a085dc7a-c993-48b7-b690-746f1f371a89\">\n",
              "    <div class=\"colab-df-container\">\n",
              "      <div>\n",
              "<style scoped>\n",
              "    .dataframe tbody tr th:only-of-type {\n",
              "        vertical-align: middle;\n",
              "    }\n",
              "\n",
              "    .dataframe tbody tr th {\n",
              "        vertical-align: top;\n",
              "    }\n",
              "\n",
              "    .dataframe thead th {\n",
              "        text-align: right;\n",
              "    }\n",
              "</style>\n",
              "<table border=\"1\" class=\"dataframe\">\n",
              "  <thead>\n",
              "    <tr style=\"text-align: right;\">\n",
              "      <th></th>\n",
              "      <th>col</th>\n",
              "      <th>count</th>\n",
              "    </tr>\n",
              "  </thead>\n",
              "  <tbody>\n",
              "    <tr>\n",
              "      <th>0</th>\n",
              "      <td>Action</td>\n",
              "      <td>5080011</td>\n",
              "    </tr>\n",
              "    <tr>\n",
              "      <th>1</th>\n",
              "      <td>Singleplayer</td>\n",
              "      <td>4755822</td>\n",
              "    </tr>\n",
              "    <tr>\n",
              "      <th>2</th>\n",
              "      <td>Multiplayer</td>\n",
              "      <td>4620768</td>\n",
              "    </tr>\n",
              "    <tr>\n",
              "      <th>3</th>\n",
              "      <td>Co-op</td>\n",
              "      <td>3418037</td>\n",
              "    </tr>\n",
              "    <tr>\n",
              "      <th>4</th>\n",
              "      <td>Adventure</td>\n",
              "      <td>3415202</td>\n",
              "    </tr>\n",
              "    <tr>\n",
              "      <th>5</th>\n",
              "      <td>First-Person</td>\n",
              "      <td>3312454</td>\n",
              "    </tr>\n",
              "    <tr>\n",
              "      <th>6</th>\n",
              "      <td>Open World</td>\n",
              "      <td>3308630</td>\n",
              "    </tr>\n",
              "    <tr>\n",
              "      <th>7</th>\n",
              "      <td>Atmospheric</td>\n",
              "      <td>2800194</td>\n",
              "    </tr>\n",
              "    <tr>\n",
              "      <th>8</th>\n",
              "      <td>Simulation</td>\n",
              "      <td>2519390</td>\n",
              "    </tr>\n",
              "    <tr>\n",
              "      <th>9</th>\n",
              "      <td>Sandbox</td>\n",
              "      <td>2503436</td>\n",
              "    </tr>\n",
              "  </tbody>\n",
              "</table>\n",
              "</div>\n",
              "      <button class=\"colab-df-convert\" onclick=\"convertToInteractive('df-a085dc7a-c993-48b7-b690-746f1f371a89')\"\n",
              "              title=\"Convert this dataframe to an interactive table.\"\n",
              "              style=\"display:none;\">\n",
              "        \n",
              "  <svg xmlns=\"http://www.w3.org/2000/svg\" height=\"24px\"viewBox=\"0 0 24 24\"\n",
              "       width=\"24px\">\n",
              "    <path d=\"M0 0h24v24H0V0z\" fill=\"none\"/>\n",
              "    <path d=\"M18.56 5.44l.94 2.06.94-2.06 2.06-.94-2.06-.94-.94-2.06-.94 2.06-2.06.94zm-11 1L8.5 8.5l.94-2.06 2.06-.94-2.06-.94L8.5 2.5l-.94 2.06-2.06.94zm10 10l.94 2.06.94-2.06 2.06-.94-2.06-.94-.94-2.06-.94 2.06-2.06.94z\"/><path d=\"M17.41 7.96l-1.37-1.37c-.4-.4-.92-.59-1.43-.59-.52 0-1.04.2-1.43.59L10.3 9.45l-7.72 7.72c-.78.78-.78 2.05 0 2.83L4 21.41c.39.39.9.59 1.41.59.51 0 1.02-.2 1.41-.59l7.78-7.78 2.81-2.81c.8-.78.8-2.07 0-2.86zM5.41 20L4 18.59l7.72-7.72 1.47 1.35L5.41 20z\"/>\n",
              "  </svg>\n",
              "      </button>\n",
              "      \n",
              "  <style>\n",
              "    .colab-df-container {\n",
              "      display:flex;\n",
              "      flex-wrap:wrap;\n",
              "      gap: 12px;\n",
              "    }\n",
              "\n",
              "    .colab-df-convert {\n",
              "      background-color: #E8F0FE;\n",
              "      border: none;\n",
              "      border-radius: 50%;\n",
              "      cursor: pointer;\n",
              "      display: none;\n",
              "      fill: #1967D2;\n",
              "      height: 32px;\n",
              "      padding: 0 0 0 0;\n",
              "      width: 32px;\n",
              "    }\n",
              "\n",
              "    .colab-df-convert:hover {\n",
              "      background-color: #E2EBFA;\n",
              "      box-shadow: 0px 1px 2px rgba(60, 64, 67, 0.3), 0px 1px 3px 1px rgba(60, 64, 67, 0.15);\n",
              "      fill: #174EA6;\n",
              "    }\n",
              "\n",
              "    [theme=dark] .colab-df-convert {\n",
              "      background-color: #3B4455;\n",
              "      fill: #D2E3FC;\n",
              "    }\n",
              "\n",
              "    [theme=dark] .colab-df-convert:hover {\n",
              "      background-color: #434B5C;\n",
              "      box-shadow: 0px 1px 3px 1px rgba(0, 0, 0, 0.15);\n",
              "      filter: drop-shadow(0px 1px 2px rgba(0, 0, 0, 0.3));\n",
              "      fill: #FFFFFF;\n",
              "    }\n",
              "  </style>\n",
              "\n",
              "      <script>\n",
              "        const buttonEl =\n",
              "          document.querySelector('#df-a085dc7a-c993-48b7-b690-746f1f371a89 button.colab-df-convert');\n",
              "        buttonEl.style.display =\n",
              "          google.colab.kernel.accessAllowed ? 'block' : 'none';\n",
              "\n",
              "        async function convertToInteractive(key) {\n",
              "          const element = document.querySelector('#df-a085dc7a-c993-48b7-b690-746f1f371a89');\n",
              "          const dataTable =\n",
              "            await google.colab.kernel.invokeFunction('convertToInteractive',\n",
              "                                                     [key], {});\n",
              "          if (!dataTable) return;\n",
              "\n",
              "          const docLinkHtml = 'Like what you see? Visit the ' +\n",
              "            '<a target=\"_blank\" href=https://colab.research.google.com/notebooks/data_table.ipynb>data table notebook</a>'\n",
              "            + ' to learn more about interactive tables.';\n",
              "          element.innerHTML = '';\n",
              "          dataTable['output_type'] = 'display_data';\n",
              "          await google.colab.output.renderOutput(dataTable, element);\n",
              "          const docLink = document.createElement('div');\n",
              "          docLink.innerHTML = docLinkHtml;\n",
              "          element.appendChild(docLink);\n",
              "        }\n",
              "      </script>\n",
              "    </div>\n",
              "  </div>\n",
              "  "
            ]
          },
          "metadata": {},
          "execution_count": 75
        }
      ]
    },
    {
      "cell_type": "markdown",
      "source": [
        "### By Action"
      ],
      "metadata": {
        "id": "pDKxILCu92xZ"
      }
    },
    {
      "cell_type": "code",
      "source": [
        "top_game1 = ganre_2.select('title').filter(\"col == 'Action'\").groupBy(\"title\").count().orderBy(f.col('count').desc())"
      ],
      "metadata": {
        "id": "uXRtJ1LVr15N"
      },
      "execution_count": null,
      "outputs": []
    },
    {
      "cell_type": "code",
      "source": [
        "top_game1.show(10)"
      ],
      "metadata": {
        "id": "9OkTPaF3-Jc_",
        "colab": {
          "base_uri": "https://localhost:8080/"
        },
        "outputId": "699d2192-215d-4963-8fc1-1790d5c0f9ed"
      },
      "execution_count": null,
      "outputs": [
        {
          "output_type": "stream",
          "name": "stdout",
          "text": [
            "+--------------------+------+\n",
            "|               title| count|\n",
            "+--------------------+------+\n",
            "|                Rust|251447|\n",
            "|Counter-Strike: G...|172422|\n",
            "|        No Man's Sky|150267|\n",
            "|    Wallpaper Engine|149644|\n",
            "|  Grand Theft Auto V|148839|\n",
            "|           Fallout 4|148538|\n",
            "|Call of Duty®: Mo...|131361|\n",
            "|Red Dead Redempti...|117967|\n",
            "|              Arma 3|115929|\n",
            "|       Path of Exile|111579|\n",
            "+--------------------+------+\n",
            "only showing top 10 rows\n",
            "\n"
          ]
        }
      ]
    },
    {
      "cell_type": "code",
      "source": [
        "top_game1 = top_game1.toPandas()\n",
        "top_game1.head(10)"
      ],
      "metadata": {
        "colab": {
          "base_uri": "https://localhost:8080/",
          "height": 363
        },
        "id": "q4RZsrUQAEht",
        "outputId": "7a7e1ad6-9d0e-4c5c-be76-73009d2653ca"
      },
      "execution_count": null,
      "outputs": [
        {
          "output_type": "execute_result",
          "data": {
            "text/plain": [
              "                               title   count\n",
              "0                               Rust  251447\n",
              "1   Counter-Strike: Global Offensive  172422\n",
              "2                       No Man's Sky  150267\n",
              "3                   Wallpaper Engine  149644\n",
              "4                 Grand Theft Auto V  148839\n",
              "5                          Fallout 4  148538\n",
              "6  Call of Duty®: Modern Warfare® II  131361\n",
              "7              Red Dead Redemption 2  117967\n",
              "8                             Arma 3  115929\n",
              "9                      Path of Exile  111579"
            ],
            "text/html": [
              "\n",
              "  <div id=\"df-0a4f6740-b7df-4853-a602-7c0f788e8807\">\n",
              "    <div class=\"colab-df-container\">\n",
              "      <div>\n",
              "<style scoped>\n",
              "    .dataframe tbody tr th:only-of-type {\n",
              "        vertical-align: middle;\n",
              "    }\n",
              "\n",
              "    .dataframe tbody tr th {\n",
              "        vertical-align: top;\n",
              "    }\n",
              "\n",
              "    .dataframe thead th {\n",
              "        text-align: right;\n",
              "    }\n",
              "</style>\n",
              "<table border=\"1\" class=\"dataframe\">\n",
              "  <thead>\n",
              "    <tr style=\"text-align: right;\">\n",
              "      <th></th>\n",
              "      <th>title</th>\n",
              "      <th>count</th>\n",
              "    </tr>\n",
              "  </thead>\n",
              "  <tbody>\n",
              "    <tr>\n",
              "      <th>0</th>\n",
              "      <td>Rust</td>\n",
              "      <td>251447</td>\n",
              "    </tr>\n",
              "    <tr>\n",
              "      <th>1</th>\n",
              "      <td>Counter-Strike: Global Offensive</td>\n",
              "      <td>172422</td>\n",
              "    </tr>\n",
              "    <tr>\n",
              "      <th>2</th>\n",
              "      <td>No Man's Sky</td>\n",
              "      <td>150267</td>\n",
              "    </tr>\n",
              "    <tr>\n",
              "      <th>3</th>\n",
              "      <td>Wallpaper Engine</td>\n",
              "      <td>149644</td>\n",
              "    </tr>\n",
              "    <tr>\n",
              "      <th>4</th>\n",
              "      <td>Grand Theft Auto V</td>\n",
              "      <td>148839</td>\n",
              "    </tr>\n",
              "    <tr>\n",
              "      <th>5</th>\n",
              "      <td>Fallout 4</td>\n",
              "      <td>148538</td>\n",
              "    </tr>\n",
              "    <tr>\n",
              "      <th>6</th>\n",
              "      <td>Call of Duty®: Modern Warfare® II</td>\n",
              "      <td>131361</td>\n",
              "    </tr>\n",
              "    <tr>\n",
              "      <th>7</th>\n",
              "      <td>Red Dead Redemption 2</td>\n",
              "      <td>117967</td>\n",
              "    </tr>\n",
              "    <tr>\n",
              "      <th>8</th>\n",
              "      <td>Arma 3</td>\n",
              "      <td>115929</td>\n",
              "    </tr>\n",
              "    <tr>\n",
              "      <th>9</th>\n",
              "      <td>Path of Exile</td>\n",
              "      <td>111579</td>\n",
              "    </tr>\n",
              "  </tbody>\n",
              "</table>\n",
              "</div>\n",
              "      <button class=\"colab-df-convert\" onclick=\"convertToInteractive('df-0a4f6740-b7df-4853-a602-7c0f788e8807')\"\n",
              "              title=\"Convert this dataframe to an interactive table.\"\n",
              "              style=\"display:none;\">\n",
              "        \n",
              "  <svg xmlns=\"http://www.w3.org/2000/svg\" height=\"24px\"viewBox=\"0 0 24 24\"\n",
              "       width=\"24px\">\n",
              "    <path d=\"M0 0h24v24H0V0z\" fill=\"none\"/>\n",
              "    <path d=\"M18.56 5.44l.94 2.06.94-2.06 2.06-.94-2.06-.94-.94-2.06-.94 2.06-2.06.94zm-11 1L8.5 8.5l.94-2.06 2.06-.94-2.06-.94L8.5 2.5l-.94 2.06-2.06.94zm10 10l.94 2.06.94-2.06 2.06-.94-2.06-.94-.94-2.06-.94 2.06-2.06.94z\"/><path d=\"M17.41 7.96l-1.37-1.37c-.4-.4-.92-.59-1.43-.59-.52 0-1.04.2-1.43.59L10.3 9.45l-7.72 7.72c-.78.78-.78 2.05 0 2.83L4 21.41c.39.39.9.59 1.41.59.51 0 1.02-.2 1.41-.59l7.78-7.78 2.81-2.81c.8-.78.8-2.07 0-2.86zM5.41 20L4 18.59l7.72-7.72 1.47 1.35L5.41 20z\"/>\n",
              "  </svg>\n",
              "      </button>\n",
              "      \n",
              "  <style>\n",
              "    .colab-df-container {\n",
              "      display:flex;\n",
              "      flex-wrap:wrap;\n",
              "      gap: 12px;\n",
              "    }\n",
              "\n",
              "    .colab-df-convert {\n",
              "      background-color: #E8F0FE;\n",
              "      border: none;\n",
              "      border-radius: 50%;\n",
              "      cursor: pointer;\n",
              "      display: none;\n",
              "      fill: #1967D2;\n",
              "      height: 32px;\n",
              "      padding: 0 0 0 0;\n",
              "      width: 32px;\n",
              "    }\n",
              "\n",
              "    .colab-df-convert:hover {\n",
              "      background-color: #E2EBFA;\n",
              "      box-shadow: 0px 1px 2px rgba(60, 64, 67, 0.3), 0px 1px 3px 1px rgba(60, 64, 67, 0.15);\n",
              "      fill: #174EA6;\n",
              "    }\n",
              "\n",
              "    [theme=dark] .colab-df-convert {\n",
              "      background-color: #3B4455;\n",
              "      fill: #D2E3FC;\n",
              "    }\n",
              "\n",
              "    [theme=dark] .colab-df-convert:hover {\n",
              "      background-color: #434B5C;\n",
              "      box-shadow: 0px 1px 3px 1px rgba(0, 0, 0, 0.15);\n",
              "      filter: drop-shadow(0px 1px 2px rgba(0, 0, 0, 0.3));\n",
              "      fill: #FFFFFF;\n",
              "    }\n",
              "  </style>\n",
              "\n",
              "      <script>\n",
              "        const buttonEl =\n",
              "          document.querySelector('#df-0a4f6740-b7df-4853-a602-7c0f788e8807 button.colab-df-convert');\n",
              "        buttonEl.style.display =\n",
              "          google.colab.kernel.accessAllowed ? 'block' : 'none';\n",
              "\n",
              "        async function convertToInteractive(key) {\n",
              "          const element = document.querySelector('#df-0a4f6740-b7df-4853-a602-7c0f788e8807');\n",
              "          const dataTable =\n",
              "            await google.colab.kernel.invokeFunction('convertToInteractive',\n",
              "                                                     [key], {});\n",
              "          if (!dataTable) return;\n",
              "\n",
              "          const docLinkHtml = 'Like what you see? Visit the ' +\n",
              "            '<a target=\"_blank\" href=https://colab.research.google.com/notebooks/data_table.ipynb>data table notebook</a>'\n",
              "            + ' to learn more about interactive tables.';\n",
              "          element.innerHTML = '';\n",
              "          dataTable['output_type'] = 'display_data';\n",
              "          await google.colab.output.renderOutput(dataTable, element);\n",
              "          const docLink = document.createElement('div');\n",
              "          docLink.innerHTML = docLinkHtml;\n",
              "          element.appendChild(docLink);\n",
              "        }\n",
              "      </script>\n",
              "    </div>\n",
              "  </div>\n",
              "  "
            ]
          },
          "metadata": {},
          "execution_count": 78
        }
      ]
    },
    {
      "cell_type": "code",
      "source": [
        "fig, ax = plt.subplots(figsize =(20,7))\n",
        "ax.bar(top_game1['title'][:10],top_game1[\"count\"][:10],width=0.7, edgecolor=\"white\", linewidth=1)\n",
        "# ax.set(xlim=(0, 8),ylim=(0, 8))\n",
        "plt.title('Top Action Games')\n",
        "plt.xlabel('Name of games')\n",
        "plt.ylabel('Count')\n",
        "plt.show()"
      ],
      "metadata": {
        "colab": {
          "base_uri": "https://localhost:8080/",
          "height": 458
        },
        "id": "PtUGUy6TAKgB",
        "outputId": "301c4db3-7e57-4ab7-fd8c-251eb71d6634"
      },
      "execution_count": null,
      "outputs": [
        {
          "output_type": "display_data",
          "data": {
            "text/plain": [
              "<Figure size 1440x504 with 1 Axes>"
            ],
            "image/png": "[encoded data removed]"
          },
          "metadata": {
            "needs_background": "light"
          }
        }
      ]
    },
    {
      "cell_type": "markdown",
      "source": [
        "### By Singleplayer"
      ],
      "metadata": {
        "id": "8FMk5IFX-MlP"
      }
    },
    {
      "cell_type": "code",
      "source": [
        "top_game2 = ganre_2.select('title').filter(\"col == 'Singleplayer'\").groupBy(\"title\").count().orderBy(f.col('count').desc())"
      ],
      "metadata": {
        "id": "viE_iPJD-Sfq"
      },
      "execution_count": null,
      "outputs": []
    },
    {
      "cell_type": "code",
      "source": [
        "top_game2.show(10)"
      ],
      "metadata": {
        "id": "OseHBe7h-Siv",
        "colab": {
          "base_uri": "https://localhost:8080/"
        },
        "outputId": "564ad0b3-cee0-4224-c043-cb2c89943f63"
      },
      "execution_count": null,
      "outputs": [
        {
          "output_type": "stream",
          "name": "stdout",
          "text": [
            "+--------------------+------+\n",
            "|               title| count|\n",
            "+--------------------+------+\n",
            "|        No Man's Sky|150267|\n",
            "|    Wallpaper Engine|149644|\n",
            "|  Grand Theft Auto V|148839|\n",
            "|           Fallout 4|148538|\n",
            "|Call of Duty®: Mo...|131361|\n",
            "|Red Dead Redempti...|117967|\n",
            "|              Arma 3|115929|\n",
            "|       Path of Exile|111579|\n",
            "|      Cyberpunk 2077|109328|\n",
            "|      Sea of Thieves|108191|\n",
            "+--------------------+------+\n",
            "only showing top 10 rows\n",
            "\n"
          ]
        }
      ]
    },
    {
      "cell_type": "code",
      "source": [
        "top_game2 = top_game2.toPandas()\n",
        "top_game2.head(10)"
      ],
      "metadata": {
        "colab": {
          "base_uri": "https://localhost:8080/",
          "height": 363
        },
        "id": "GwjPPZgBAyUs",
        "outputId": "f36afeca-4443-4b64-fc22-fb97a66fdcf9"
      },
      "execution_count": null,
      "outputs": [
        {
          "output_type": "execute_result",
          "data": {
            "text/plain": [
              "                               title   count\n",
              "0                       No Man's Sky  150267\n",
              "1                   Wallpaper Engine  149644\n",
              "2                 Grand Theft Auto V  148839\n",
              "3                          Fallout 4  148538\n",
              "4  Call of Duty®: Modern Warfare® II  131361\n",
              "5              Red Dead Redemption 2  117967\n",
              "6                             Arma 3  115929\n",
              "7                      Path of Exile  111579\n",
              "8                     Cyberpunk 2077  109328\n",
              "9                     Sea of Thieves  108191"
            ],
            "text/html": [
              "\n",
              "  <div id=\"df-82979987-1b6c-4f68-906b-cd1a29933e52\">\n",
              "    <div class=\"colab-df-container\">\n",
              "      <div>\n",
              "<style scoped>\n",
              "    .dataframe tbody tr th:only-of-type {\n",
              "        vertical-align: middle;\n",
              "    }\n",
              "\n",
              "    .dataframe tbody tr th {\n",
              "        vertical-align: top;\n",
              "    }\n",
              "\n",
              "    .dataframe thead th {\n",
              "        text-align: right;\n",
              "    }\n",
              "</style>\n",
              "<table border=\"1\" class=\"dataframe\">\n",
              "  <thead>\n",
              "    <tr style=\"text-align: right;\">\n",
              "      <th></th>\n",
              "      <th>title</th>\n",
              "      <th>count</th>\n",
              "    </tr>\n",
              "  </thead>\n",
              "  <tbody>\n",
              "    <tr>\n",
              "      <th>0</th>\n",
              "      <td>No Man's Sky</td>\n",
              "      <td>150267</td>\n",
              "    </tr>\n",
              "    <tr>\n",
              "      <th>1</th>\n",
              "      <td>Wallpaper Engine</td>\n",
              "      <td>149644</td>\n",
              "    </tr>\n",
              "    <tr>\n",
              "      <th>2</th>\n",
              "      <td>Grand Theft Auto V</td>\n",
              "      <td>148839</td>\n",
              "    </tr>\n",
              "    <tr>\n",
              "      <th>3</th>\n",
              "      <td>Fallout 4</td>\n",
              "      <td>148538</td>\n",
              "    </tr>\n",
              "    <tr>\n",
              "      <th>4</th>\n",
              "      <td>Call of Duty®: Modern Warfare® II</td>\n",
              "      <td>131361</td>\n",
              "    </tr>\n",
              "    <tr>\n",
              "      <th>5</th>\n",
              "      <td>Red Dead Redemption 2</td>\n",
              "      <td>117967</td>\n",
              "    </tr>\n",
              "    <tr>\n",
              "      <th>6</th>\n",
              "      <td>Arma 3</td>\n",
              "      <td>115929</td>\n",
              "    </tr>\n",
              "    <tr>\n",
              "      <th>7</th>\n",
              "      <td>Path of Exile</td>\n",
              "      <td>111579</td>\n",
              "    </tr>\n",
              "    <tr>\n",
              "      <th>8</th>\n",
              "      <td>Cyberpunk 2077</td>\n",
              "      <td>109328</td>\n",
              "    </tr>\n",
              "    <tr>\n",
              "      <th>9</th>\n",
              "      <td>Sea of Thieves</td>\n",
              "      <td>108191</td>\n",
              "    </tr>\n",
              "  </tbody>\n",
              "</table>\n",
              "</div>\n",
              "      <button class=\"colab-df-convert\" onclick=\"convertToInteractive('df-82979987-1b6c-4f68-906b-cd1a29933e52')\"\n",
              "              title=\"Convert this dataframe to an interactive table.\"\n",
              "              style=\"display:none;\">\n",
              "        \n",
              "  <svg xmlns=\"http://www.w3.org/2000/svg\" height=\"24px\"viewBox=\"0 0 24 24\"\n",
              "       width=\"24px\">\n",
              "    <path d=\"M0 0h24v24H0V0z\" fill=\"none\"/>\n",
              "    <path d=\"M18.56 5.44l.94 2.06.94-2.06 2.06-.94-2.06-.94-.94-2.06-.94 2.06-2.06.94zm-11 1L8.5 8.5l.94-2.06 2.06-.94-2.06-.94L8.5 2.5l-.94 2.06-2.06.94zm10 10l.94 2.06.94-2.06 2.06-.94-2.06-.94-.94-2.06-.94 2.06-2.06.94z\"/><path d=\"M17.41 7.96l-1.37-1.37c-.4-.4-.92-.59-1.43-.59-.52 0-1.04.2-1.43.59L10.3 9.45l-7.72 7.72c-.78.78-.78 2.05 0 2.83L4 21.41c.39.39.9.59 1.41.59.51 0 1.02-.2 1.41-.59l7.78-7.78 2.81-2.81c.8-.78.8-2.07 0-2.86zM5.41 20L4 18.59l7.72-7.72 1.47 1.35L5.41 20z\"/>\n",
              "  </svg>\n",
              "      </button>\n",
              "      \n",
              "  <style>\n",
              "    .colab-df-container {\n",
              "      display:flex;\n",
              "      flex-wrap:wrap;\n",
              "      gap: 12px;\n",
              "    }\n",
              "\n",
              "    .colab-df-convert {\n",
              "      background-color: #E8F0FE;\n",
              "      border: none;\n",
              "      border-radius: 50%;\n",
              "      cursor: pointer;\n",
              "      display: none;\n",
              "      fill: #1967D2;\n",
              "      height: 32px;\n",
              "      padding: 0 0 0 0;\n",
              "      width: 32px;\n",
              "    }\n",
              "\n",
              "    .colab-df-convert:hover {\n",
              "      background-color: #E2EBFA;\n",
              "      box-shadow: 0px 1px 2px rgba(60, 64, 67, 0.3), 0px 1px 3px 1px rgba(60, 64, 67, 0.15);\n",
              "      fill: #174EA6;\n",
              "    }\n",
              "\n",
              "    [theme=dark] .colab-df-convert {\n",
              "      background-color: #3B4455;\n",
              "      fill: #D2E3FC;\n",
              "    }\n",
              "\n",
              "    [theme=dark] .colab-df-convert:hover {\n",
              "      background-color: #434B5C;\n",
              "      box-shadow: 0px 1px 3px 1px rgba(0, 0, 0, 0.15);\n",
              "      filter: drop-shadow(0px 1px 2px rgba(0, 0, 0, 0.3));\n",
              "      fill: #FFFFFF;\n",
              "    }\n",
              "  </style>\n",
              "\n",
              "      <script>\n",
              "        const buttonEl =\n",
              "          document.querySelector('#df-82979987-1b6c-4f68-906b-cd1a29933e52 button.colab-df-convert');\n",
              "        buttonEl.style.display =\n",
              "          google.colab.kernel.accessAllowed ? 'block' : 'none';\n",
              "\n",
              "        async function convertToInteractive(key) {\n",
              "          const element = document.querySelector('#df-82979987-1b6c-4f68-906b-cd1a29933e52');\n",
              "          const dataTable =\n",
              "            await google.colab.kernel.invokeFunction('convertToInteractive',\n",
              "                                                     [key], {});\n",
              "          if (!dataTable) return;\n",
              "\n",
              "          const docLinkHtml = 'Like what you see? Visit the ' +\n",
              "            '<a target=\"_blank\" href=https://colab.research.google.com/notebooks/data_table.ipynb>data table notebook</a>'\n",
              "            + ' to learn more about interactive tables.';\n",
              "          element.innerHTML = '';\n",
              "          dataTable['output_type'] = 'display_data';\n",
              "          await google.colab.output.renderOutput(dataTable, element);\n",
              "          const docLink = document.createElement('div');\n",
              "          docLink.innerHTML = docLinkHtml;\n",
              "          element.appendChild(docLink);\n",
              "        }\n",
              "      </script>\n",
              "    </div>\n",
              "  </div>\n",
              "  "
            ]
          },
          "metadata": {},
          "execution_count": 82
        }
      ]
    },
    {
      "cell_type": "code",
      "source": [
        "fig, ax = plt.subplots(figsize =(20,7))\n",
        "ax.bar(top_game2['title'][:10],top_game2[\"count\"][:10],width=0.7, edgecolor=\"white\", linewidth=1)\n",
        "# ax.set(xlim=(0, 8),ylim=(0, 8))\n",
        "plt.title('Top Singleplayer Games')\n",
        "plt.xlabel('Name of games')\n",
        "plt.ylabel('Count')\n",
        "plt.show()"
      ],
      "metadata": {
        "colab": {
          "base_uri": "https://localhost:8080/",
          "height": 458
        },
        "id": "HMlj33auA3TZ",
        "outputId": "de1fa827-a5ec-431a-dc54-30068639df04"
      },
      "execution_count": null,
      "outputs": [
        {
          "output_type": "display_data",
          "data": {
            "text/plain": [
              "<Figure size 1440x504 with 1 Axes>"
            ],
            "image/png": "[encoded data removed]"
          },
          "metadata": {
            "needs_background": "light"
          }
        }
      ]
    },
    {
      "cell_type": "markdown",
      "source": [
        "### By Multiplayer"
      ],
      "metadata": {
        "id": "p1F-IvfU-iFL"
      }
    },
    {
      "cell_type": "code",
      "source": [
        "top_game3 = ganre_2.select('title').filter(\"col == 'Multiplayer'\").groupBy(\"title\").count().orderBy(f.col('count').desc())"
      ],
      "metadata": {
        "id": "klhBpgdh-lHO"
      },
      "execution_count": null,
      "outputs": []
    },
    {
      "cell_type": "code",
      "source": [
        "top_game3.show(10)"
      ],
      "metadata": {
        "id": "PETh4Not-lJ-",
        "colab": {
          "base_uri": "https://localhost:8080/"
        },
        "outputId": "127b2330-18be-434f-d918-a9e27beb9739"
      },
      "execution_count": null,
      "outputs": [
        {
          "output_type": "stream",
          "name": "stdout",
          "text": [
            "+--------------------+------+\n",
            "|               title| count|\n",
            "+--------------------+------+\n",
            "|                Rust|251447|\n",
            "|Counter-Strike: G...|172422|\n",
            "|        No Man's Sky|150267|\n",
            "|  Grand Theft Auto V|148839|\n",
            "|Call of Duty®: Mo...|131361|\n",
            "|Red Dead Redempti...|117967|\n",
            "|              Arma 3|115929|\n",
            "|       Path of Exile|111579|\n",
            "|      Sea of Thieves|108191|\n",
            "|   Hearts of Iron IV|104752|\n",
            "+--------------------+------+\n",
            "only showing top 10 rows\n",
            "\n"
          ]
        }
      ]
    },
    {
      "cell_type": "code",
      "source": [
        "top_game3 = top_game3.toPandas()\n",
        "top_game3.head(10)"
      ],
      "metadata": {
        "colab": {
          "base_uri": "https://localhost:8080/",
          "height": 363
        },
        "id": "8XQDzpwJCZ-n",
        "outputId": "5d5c8819-6949-4432-c9b4-cdd386a64008"
      },
      "execution_count": null,
      "outputs": [
        {
          "output_type": "execute_result",
          "data": {
            "text/plain": [
              "                               title   count\n",
              "0                               Rust  251447\n",
              "1   Counter-Strike: Global Offensive  172422\n",
              "2                       No Man's Sky  150267\n",
              "3                 Grand Theft Auto V  148839\n",
              "4  Call of Duty®: Modern Warfare® II  131361\n",
              "5              Red Dead Redemption 2  117967\n",
              "6                             Arma 3  115929\n",
              "7                      Path of Exile  111579\n",
              "8                     Sea of Thieves  108191\n",
              "9                  Hearts of Iron IV  104752"
            ],
            "text/html": [
              "\n",
              "  <div id=\"df-4987557d-9fef-45b7-8881-faf88fb80b50\">\n",
              "    <div class=\"colab-df-container\">\n",
              "      <div>\n",
              "<style scoped>\n",
              "    .dataframe tbody tr th:only-of-type {\n",
              "        vertical-align: middle;\n",
              "    }\n",
              "\n",
              "    .dataframe tbody tr th {\n",
              "        vertical-align: top;\n",
              "    }\n",
              "\n",
              "    .dataframe thead th {\n",
              "        text-align: right;\n",
              "    }\n",
              "</style>\n",
              "<table border=\"1\" class=\"dataframe\">\n",
              "  <thead>\n",
              "    <tr style=\"text-align: right;\">\n",
              "      <th></th>\n",
              "      <th>title</th>\n",
              "      <th>count</th>\n",
              "    </tr>\n",
              "  </thead>\n",
              "  <tbody>\n",
              "    <tr>\n",
              "      <th>0</th>\n",
              "      <td>Rust</td>\n",
              "      <td>251447</td>\n",
              "    </tr>\n",
              "    <tr>\n",
              "      <th>1</th>\n",
              "      <td>Counter-Strike: Global Offensive</td>\n",
              "      <td>172422</td>\n",
              "    </tr>\n",
              "    <tr>\n",
              "      <th>2</th>\n",
              "      <td>No Man's Sky</td>\n",
              "      <td>150267</td>\n",
              "    </tr>\n",
              "    <tr>\n",
              "      <th>3</th>\n",
              "      <td>Grand Theft Auto V</td>\n",
              "      <td>148839</td>\n",
              "    </tr>\n",
              "    <tr>\n",
              "      <th>4</th>\n",
              "      <td>Call of Duty®: Modern Warfare® II</td>\n",
              "      <td>131361</td>\n",
              "    </tr>\n",
              "    <tr>\n",
              "      <th>5</th>\n",
              "      <td>Red Dead Redemption 2</td>\n",
              "      <td>117967</td>\n",
              "    </tr>\n",
              "    <tr>\n",
              "      <th>6</th>\n",
              "      <td>Arma 3</td>\n",
              "      <td>115929</td>\n",
              "    </tr>\n",
              "    <tr>\n",
              "      <th>7</th>\n",
              "      <td>Path of Exile</td>\n",
              "      <td>111579</td>\n",
              "    </tr>\n",
              "    <tr>\n",
              "      <th>8</th>\n",
              "      <td>Sea of Thieves</td>\n",
              "      <td>108191</td>\n",
              "    </tr>\n",
              "    <tr>\n",
              "      <th>9</th>\n",
              "      <td>Hearts of Iron IV</td>\n",
              "      <td>104752</td>\n",
              "    </tr>\n",
              "  </tbody>\n",
              "</table>\n",
              "</div>\n",
              "      <button class=\"colab-df-convert\" onclick=\"convertToInteractive('df-4987557d-9fef-45b7-8881-faf88fb80b50')\"\n",
              "              title=\"Convert this dataframe to an interactive table.\"\n",
              "              style=\"display:none;\">\n",
              "        \n",
              "  <svg xmlns=\"http://www.w3.org/2000/svg\" height=\"24px\"viewBox=\"0 0 24 24\"\n",
              "       width=\"24px\">\n",
              "    <path d=\"M0 0h24v24H0V0z\" fill=\"none\"/>\n",
              "    <path d=\"M18.56 5.44l.94 2.06.94-2.06 2.06-.94-2.06-.94-.94-2.06-.94 2.06-2.06.94zm-11 1L8.5 8.5l.94-2.06 2.06-.94-2.06-.94L8.5 2.5l-.94 2.06-2.06.94zm10 10l.94 2.06.94-2.06 2.06-.94-2.06-.94-.94-2.06-.94 2.06-2.06.94z\"/><path d=\"M17.41 7.96l-1.37-1.37c-.4-.4-.92-.59-1.43-.59-.52 0-1.04.2-1.43.59L10.3 9.45l-7.72 7.72c-.78.78-.78 2.05 0 2.83L4 21.41c.39.39.9.59 1.41.59.51 0 1.02-.2 1.41-.59l7.78-7.78 2.81-2.81c.8-.78.8-2.07 0-2.86zM5.41 20L4 18.59l7.72-7.72 1.47 1.35L5.41 20z\"/>\n",
              "  </svg>\n",
              "      </button>\n",
              "      \n",
              "  <style>\n",
              "    .colab-df-container {\n",
              "      display:flex;\n",
              "      flex-wrap:wrap;\n",
              "      gap: 12px;\n",
              "    }\n",
              "\n",
              "    .colab-df-convert {\n",
              "      background-color: #E8F0FE;\n",
              "      border: none;\n",
              "      border-radius: 50%;\n",
              "      cursor: pointer;\n",
              "      display: none;\n",
              "      fill: #1967D2;\n",
              "      height: 32px;\n",
              "      padding: 0 0 0 0;\n",
              "      width: 32px;\n",
              "    }\n",
              "\n",
              "    .colab-df-convert:hover {\n",
              "      background-color: #E2EBFA;\n",
              "      box-shadow: 0px 1px 2px rgba(60, 64, 67, 0.3), 0px 1px 3px 1px rgba(60, 64, 67, 0.15);\n",
              "      fill: #174EA6;\n",
              "    }\n",
              "\n",
              "    [theme=dark] .colab-df-convert {\n",
              "      background-color: #3B4455;\n",
              "      fill: #D2E3FC;\n",
              "    }\n",
              "\n",
              "    [theme=dark] .colab-df-convert:hover {\n",
              "      background-color: #434B5C;\n",
              "      box-shadow: 0px 1px 3px 1px rgba(0, 0, 0, 0.15);\n",
              "      filter: drop-shadow(0px 1px 2px rgba(0, 0, 0, 0.3));\n",
              "      fill: #FFFFFF;\n",
              "    }\n",
              "  </style>\n",
              "\n",
              "      <script>\n",
              "        const buttonEl =\n",
              "          document.querySelector('#df-4987557d-9fef-45b7-8881-faf88fb80b50 button.colab-df-convert');\n",
              "        buttonEl.style.display =\n",
              "          google.colab.kernel.accessAllowed ? 'block' : 'none';\n",
              "\n",
              "        async function convertToInteractive(key) {\n",
              "          const element = document.querySelector('#df-4987557d-9fef-45b7-8881-faf88fb80b50');\n",
              "          const dataTable =\n",
              "            await google.colab.kernel.invokeFunction('convertToInteractive',\n",
              "                                                     [key], {});\n",
              "          if (!dataTable) return;\n",
              "\n",
              "          const docLinkHtml = 'Like what you see? Visit the ' +\n",
              "            '<a target=\"_blank\" href=https://colab.research.google.com/notebooks/data_table.ipynb>data table notebook</a>'\n",
              "            + ' to learn more about interactive tables.';\n",
              "          element.innerHTML = '';\n",
              "          dataTable['output_type'] = 'display_data';\n",
              "          await google.colab.output.renderOutput(dataTable, element);\n",
              "          const docLink = document.createElement('div');\n",
              "          docLink.innerHTML = docLinkHtml;\n",
              "          element.appendChild(docLink);\n",
              "        }\n",
              "      </script>\n",
              "    </div>\n",
              "  </div>\n",
              "  "
            ]
          },
          "metadata": {},
          "execution_count": 86
        }
      ]
    },
    {
      "cell_type": "code",
      "source": [
        "fig, ax = plt.subplots(figsize =(20,7))\n",
        "ax.bar(top_game3['title'][:10],top_game3[\"count\"][:10],width=0.7, edgecolor=\"white\", linewidth=1)\n",
        "# ax.set(xlim=(0, 8),ylim=(0, 8))\n",
        "plt.title('Top Mutiplayer Games')\n",
        "plt.xlabel('Name of games')\n",
        "plt.ylabel('Count')\n",
        "plt.show()"
      ],
      "metadata": {
        "colab": {
          "base_uri": "https://localhost:8080/",
          "height": 458
        },
        "id": "KurOaf3CCaBp",
        "outputId": "d3d76b1a-50a7-46f8-ae24-e3b351c47316"
      },
      "execution_count": null,
      "outputs": [
        {
          "output_type": "display_data",
          "data": {
            "text/plain": [
              "<Figure size 1440x504 with 1 Axes>"
            ],
            "image/png": "[encoded data removed]"
          },
          "metadata": {
            "needs_background": "light"
          }
        }
      ]
    },
    {
      "cell_type": "markdown",
      "source": [
        "### By Co-op"
      ],
      "metadata": {
        "id": "0MaVcRU0-uJ0"
      }
    },
    {
      "cell_type": "code",
      "source": [
        "top_game4 = ganre_2.select('title').filter(\"col == 'Co-op'\").groupBy(\"title\").count().orderBy(f.col('count').desc())"
      ],
      "metadata": {
        "id": "_BbnweV7-2SI"
      },
      "execution_count": null,
      "outputs": []
    },
    {
      "cell_type": "code",
      "source": [
        "top_game4.show(10)"
      ],
      "metadata": {
        "id": "NzlB5mtF-2Ub",
        "colab": {
          "base_uri": "https://localhost:8080/"
        },
        "outputId": "c611685b-b725-4075-e232-b97861db4a1d"
      },
      "execution_count": null,
      "outputs": [
        {
          "output_type": "stream",
          "name": "stdout",
          "text": [
            "+--------------------+------+\n",
            "|               title| count|\n",
            "+--------------------+------+\n",
            "|                Rust|251447|\n",
            "|Counter-Strike: G...|172422|\n",
            "|  Grand Theft Auto V|148839|\n",
            "|Call of Duty®: Mo...|131361|\n",
            "|              Arma 3|115929|\n",
            "|       Path of Exile|111579|\n",
            "|      Sea of Thieves|108191|\n",
            "|   Hearts of Iron IV|104752|\n",
            "|          Brawlhalla| 99033|\n",
            "|The Binding of Is...| 98643|\n",
            "+--------------------+------+\n",
            "only showing top 10 rows\n",
            "\n"
          ]
        }
      ]
    },
    {
      "cell_type": "code",
      "source": [
        "top_game4 = top_game4.toPandas()\n",
        "top_game4.head(10)"
      ],
      "metadata": {
        "colab": {
          "base_uri": "https://localhost:8080/",
          "height": 363
        },
        "id": "PJqzeimDC7Ws",
        "outputId": "7139ee56-c8bd-4096-9a6d-2dd15ab2af7c"
      },
      "execution_count": null,
      "outputs": [
        {
          "output_type": "execute_result",
          "data": {
            "text/plain": [
              "                               title   count\n",
              "0                               Rust  251447\n",
              "1   Counter-Strike: Global Offensive  172422\n",
              "2                 Grand Theft Auto V  148839\n",
              "3  Call of Duty®: Modern Warfare® II  131361\n",
              "4                             Arma 3  115929\n",
              "5                      Path of Exile  111579\n",
              "6                     Sea of Thieves  108191\n",
              "7                  Hearts of Iron IV  104752\n",
              "8                         Brawlhalla   99033\n",
              "9      The Binding of Isaac: Rebirth   98643"
            ],
            "text/html": [
              "\n",
              "  <div id=\"df-b19221b7-c2cf-4205-ba72-eaa085bee6ca\">\n",
              "    <div class=\"colab-df-container\">\n",
              "      <div>\n",
              "<style scoped>\n",
              "    .dataframe tbody tr th:only-of-type {\n",
              "        vertical-align: middle;\n",
              "    }\n",
              "\n",
              "    .dataframe tbody tr th {\n",
              "        vertical-align: top;\n",
              "    }\n",
              "\n",
              "    .dataframe thead th {\n",
              "        text-align: right;\n",
              "    }\n",
              "</style>\n",
              "<table border=\"1\" class=\"dataframe\">\n",
              "  <thead>\n",
              "    <tr style=\"text-align: right;\">\n",
              "      <th></th>\n",
              "      <th>title</th>\n",
              "      <th>count</th>\n",
              "    </tr>\n",
              "  </thead>\n",
              "  <tbody>\n",
              "    <tr>\n",
              "      <th>0</th>\n",
              "      <td>Rust</td>\n",
              "      <td>251447</td>\n",
              "    </tr>\n",
              "    <tr>\n",
              "      <th>1</th>\n",
              "      <td>Counter-Strike: Global Offensive</td>\n",
              "      <td>172422</td>\n",
              "    </tr>\n",
              "    <tr>\n",
              "      <th>2</th>\n",
              "      <td>Grand Theft Auto V</td>\n",
              "      <td>148839</td>\n",
              "    </tr>\n",
              "    <tr>\n",
              "      <th>3</th>\n",
              "      <td>Call of Duty®: Modern Warfare® II</td>\n",
              "      <td>131361</td>\n",
              "    </tr>\n",
              "    <tr>\n",
              "      <th>4</th>\n",
              "      <td>Arma 3</td>\n",
              "      <td>115929</td>\n",
              "    </tr>\n",
              "    <tr>\n",
              "      <th>5</th>\n",
              "      <td>Path of Exile</td>\n",
              "      <td>111579</td>\n",
              "    </tr>\n",
              "    <tr>\n",
              "      <th>6</th>\n",
              "      <td>Sea of Thieves</td>\n",
              "      <td>108191</td>\n",
              "    </tr>\n",
              "    <tr>\n",
              "      <th>7</th>\n",
              "      <td>Hearts of Iron IV</td>\n",
              "      <td>104752</td>\n",
              "    </tr>\n",
              "    <tr>\n",
              "      <th>8</th>\n",
              "      <td>Brawlhalla</td>\n",
              "      <td>99033</td>\n",
              "    </tr>\n",
              "    <tr>\n",
              "      <th>9</th>\n",
              "      <td>The Binding of Isaac: Rebirth</td>\n",
              "      <td>98643</td>\n",
              "    </tr>\n",
              "  </tbody>\n",
              "</table>\n",
              "</div>\n",
              "      <button class=\"colab-df-convert\" onclick=\"convertToInteractive('df-b19221b7-c2cf-4205-ba72-eaa085bee6ca')\"\n",
              "              title=\"Convert this dataframe to an interactive table.\"\n",
              "              style=\"display:none;\">\n",
              "        \n",
              "  <svg xmlns=\"http://www.w3.org/2000/svg\" height=\"24px\"viewBox=\"0 0 24 24\"\n",
              "       width=\"24px\">\n",
              "    <path d=\"M0 0h24v24H0V0z\" fill=\"none\"/>\n",
              "    <path d=\"M18.56 5.44l.94 2.06.94-2.06 2.06-.94-2.06-.94-.94-2.06-.94 2.06-2.06.94zm-11 1L8.5 8.5l.94-2.06 2.06-.94-2.06-.94L8.5 2.5l-.94 2.06-2.06.94zm10 10l.94 2.06.94-2.06 2.06-.94-2.06-.94-.94-2.06-.94 2.06-2.06.94z\"/><path d=\"M17.41 7.96l-1.37-1.37c-.4-.4-.92-.59-1.43-.59-.52 0-1.04.2-1.43.59L10.3 9.45l-7.72 7.72c-.78.78-.78 2.05 0 2.83L4 21.41c.39.39.9.59 1.41.59.51 0 1.02-.2 1.41-.59l7.78-7.78 2.81-2.81c.8-.78.8-2.07 0-2.86zM5.41 20L4 18.59l7.72-7.72 1.47 1.35L5.41 20z\"/>\n",
              "  </svg>\n",
              "      </button>\n",
              "      \n",
              "  <style>\n",
              "    .colab-df-container {\n",
              "      display:flex;\n",
              "      flex-wrap:wrap;\n",
              "      gap: 12px;\n",
              "    }\n",
              "\n",
              "    .colab-df-convert {\n",
              "      background-color: #E8F0FE;\n",
              "      border: none;\n",
              "      border-radius: 50%;\n",
              "      cursor: pointer;\n",
              "      display: none;\n",
              "      fill: #1967D2;\n",
              "      height: 32px;\n",
              "      padding: 0 0 0 0;\n",
              "      width: 32px;\n",
              "    }\n",
              "\n",
              "    .colab-df-convert:hover {\n",
              "      background-color: #E2EBFA;\n",
              "      box-shadow: 0px 1px 2px rgba(60, 64, 67, 0.3), 0px 1px 3px 1px rgba(60, 64, 67, 0.15);\n",
              "      fill: #174EA6;\n",
              "    }\n",
              "\n",
              "    [theme=dark] .colab-df-convert {\n",
              "      background-color: #3B4455;\n",
              "      fill: #D2E3FC;\n",
              "    }\n",
              "\n",
              "    [theme=dark] .colab-df-convert:hover {\n",
              "      background-color: #434B5C;\n",
              "      box-shadow: 0px 1px 3px 1px rgba(0, 0, 0, 0.15);\n",
              "      filter: drop-shadow(0px 1px 2px rgba(0, 0, 0, 0.3));\n",
              "      fill: #FFFFFF;\n",
              "    }\n",
              "  </style>\n",
              "\n",
              "      <script>\n",
              "        const buttonEl =\n",
              "          document.querySelector('#df-b19221b7-c2cf-4205-ba72-eaa085bee6ca button.colab-df-convert');\n",
              "        buttonEl.style.display =\n",
              "          google.colab.kernel.accessAllowed ? 'block' : 'none';\n",
              "\n",
              "        async function convertToInteractive(key) {\n",
              "          const element = document.querySelector('#df-b19221b7-c2cf-4205-ba72-eaa085bee6ca');\n",
              "          const dataTable =\n",
              "            await google.colab.kernel.invokeFunction('convertToInteractive',\n",
              "                                                     [key], {});\n",
              "          if (!dataTable) return;\n",
              "\n",
              "          const docLinkHtml = 'Like what you see? Visit the ' +\n",
              "            '<a target=\"_blank\" href=https://colab.research.google.com/notebooks/data_table.ipynb>data table notebook</a>'\n",
              "            + ' to learn more about interactive tables.';\n",
              "          element.innerHTML = '';\n",
              "          dataTable['output_type'] = 'display_data';\n",
              "          await google.colab.output.renderOutput(dataTable, element);\n",
              "          const docLink = document.createElement('div');\n",
              "          docLink.innerHTML = docLinkHtml;\n",
              "          element.appendChild(docLink);\n",
              "        }\n",
              "      </script>\n",
              "    </div>\n",
              "  </div>\n",
              "  "
            ]
          },
          "metadata": {},
          "execution_count": 90
        }
      ]
    },
    {
      "cell_type": "code",
      "source": [
        "fig, ax = plt.subplots(figsize =(20,7))\n",
        "ax.bar(top_game4['title'][:10],top_game4[\"count\"][:10],width=0.7, edgecolor=\"white\", linewidth=1)\n",
        "# ax.set(xlim=(0, 8),ylim=(0, 8))\n",
        "plt.title('Top Co-op Games')\n",
        "plt.xlabel('Name of games')\n",
        "plt.ylabel('Count')\n",
        "plt.show()"
      ],
      "metadata": {
        "colab": {
          "base_uri": "https://localhost:8080/",
          "height": 458
        },
        "id": "YRacdt2HC7bn",
        "outputId": "e246efa5-8ad7-4897-a57c-f8e57e2d8940"
      },
      "execution_count": null,
      "outputs": [
        {
          "output_type": "display_data",
          "data": {
            "text/plain": [
              "<Figure size 1440x504 with 1 Axes>"
            ],
            "image/png": "[encoded data removed]"
          },
          "metadata": {
            "needs_background": "light"
          }
        }
      ]
    },
    {
      "cell_type": "markdown",
      "source": [
        "### By Adventure"
      ],
      "metadata": {
        "id": "Y2gsfD0g-74R"
      }
    },
    {
      "cell_type": "code",
      "source": [
        "top_game5 = ganre_2.select('title').filter(\"col == 'Adventure'\").groupBy(\"title\").count().orderBy(f.col('count').desc())"
      ],
      "metadata": {
        "id": "Nh8mrXGj-7-e"
      },
      "execution_count": null,
      "outputs": []
    },
    {
      "cell_type": "code",
      "source": [
        "top_game5.show(10)"
      ],
      "metadata": {
        "id": "vb2amtck-8BF",
        "colab": {
          "base_uri": "https://localhost:8080/"
        },
        "outputId": "6b6c7329-cdab-4657-949c-f2bab5ae4258"
      },
      "execution_count": null,
      "outputs": [
        {
          "output_type": "stream",
          "name": "stdout",
          "text": [
            "+--------------------+------+\n",
            "|               title| count|\n",
            "+--------------------+------+\n",
            "|                Rust|251447|\n",
            "|        No Man's Sky|150267|\n",
            "|  Grand Theft Auto V|148839|\n",
            "|           Fallout 4|148538|\n",
            "|Red Dead Redempti...|117967|\n",
            "|       Path of Exile|111579|\n",
            "|      Cyberpunk 2077|109328|\n",
            "|      Sea of Thieves|108191|\n",
            "|            Lost Ark| 94162|\n",
            "|        BeamNG.drive| 90970|\n",
            "+--------------------+------+\n",
            "only showing top 10 rows\n",
            "\n"
          ]
        }
      ]
    },
    {
      "cell_type": "code",
      "source": [
        "top_game5 = top_game5.toPandas()\n",
        "top_game5.head(10)"
      ],
      "metadata": {
        "colab": {
          "base_uri": "https://localhost:8080/",
          "height": 363
        },
        "id": "VUG3HjSzDZde",
        "outputId": "c3edc546-60ca-4c8d-b703-e3f7e572af2c"
      },
      "execution_count": null,
      "outputs": [
        {
          "output_type": "execute_result",
          "data": {
            "text/plain": [
              "                   title   count\n",
              "0                   Rust  251447\n",
              "1           No Man's Sky  150267\n",
              "2     Grand Theft Auto V  148839\n",
              "3              Fallout 4  148538\n",
              "4  Red Dead Redemption 2  117967\n",
              "5          Path of Exile  111579\n",
              "6         Cyberpunk 2077  109328\n",
              "7         Sea of Thieves  108191\n",
              "8               Lost Ark   94162\n",
              "9           BeamNG.drive   90970"
            ],
            "text/html": [
              "\n",
              "  <div id=\"df-f942c760-724c-4963-bc50-15174dc710d4\">\n",
              "    <div class=\"colab-df-container\">\n",
              "      <div>\n",
              "<style scoped>\n",
              "    .dataframe tbody tr th:only-of-type {\n",
              "        vertical-align: middle;\n",
              "    }\n",
              "\n",
              "    .dataframe tbody tr th {\n",
              "        vertical-align: top;\n",
              "    }\n",
              "\n",
              "    .dataframe thead th {\n",
              "        text-align: right;\n",
              "    }\n",
              "</style>\n",
              "<table border=\"1\" class=\"dataframe\">\n",
              "  <thead>\n",
              "    <tr style=\"text-align: right;\">\n",
              "      <th></th>\n",
              "      <th>title</th>\n",
              "      <th>count</th>\n",
              "    </tr>\n",
              "  </thead>\n",
              "  <tbody>\n",
              "    <tr>\n",
              "      <th>0</th>\n",
              "      <td>Rust</td>\n",
              "      <td>251447</td>\n",
              "    </tr>\n",
              "    <tr>\n",
              "      <th>1</th>\n",
              "      <td>No Man's Sky</td>\n",
              "      <td>150267</td>\n",
              "    </tr>\n",
              "    <tr>\n",
              "      <th>2</th>\n",
              "      <td>Grand Theft Auto V</td>\n",
              "      <td>148839</td>\n",
              "    </tr>\n",
              "    <tr>\n",
              "      <th>3</th>\n",
              "      <td>Fallout 4</td>\n",
              "      <td>148538</td>\n",
              "    </tr>\n",
              "    <tr>\n",
              "      <th>4</th>\n",
              "      <td>Red Dead Redemption 2</td>\n",
              "      <td>117967</td>\n",
              "    </tr>\n",
              "    <tr>\n",
              "      <th>5</th>\n",
              "      <td>Path of Exile</td>\n",
              "      <td>111579</td>\n",
              "    </tr>\n",
              "    <tr>\n",
              "      <th>6</th>\n",
              "      <td>Cyberpunk 2077</td>\n",
              "      <td>109328</td>\n",
              "    </tr>\n",
              "    <tr>\n",
              "      <th>7</th>\n",
              "      <td>Sea of Thieves</td>\n",
              "      <td>108191</td>\n",
              "    </tr>\n",
              "    <tr>\n",
              "      <th>8</th>\n",
              "      <td>Lost Ark</td>\n",
              "      <td>94162</td>\n",
              "    </tr>\n",
              "    <tr>\n",
              "      <th>9</th>\n",
              "      <td>BeamNG.drive</td>\n",
              "      <td>90970</td>\n",
              "    </tr>\n",
              "  </tbody>\n",
              "</table>\n",
              "</div>\n",
              "      <button class=\"colab-df-convert\" onclick=\"convertToInteractive('df-f942c760-724c-4963-bc50-15174dc710d4')\"\n",
              "              title=\"Convert this dataframe to an interactive table.\"\n",
              "              style=\"display:none;\">\n",
              "        \n",
              "  <svg xmlns=\"http://www.w3.org/2000/svg\" height=\"24px\"viewBox=\"0 0 24 24\"\n",
              "       width=\"24px\">\n",
              "    <path d=\"M0 0h24v24H0V0z\" fill=\"none\"/>\n",
              "    <path d=\"M18.56 5.44l.94 2.06.94-2.06 2.06-.94-2.06-.94-.94-2.06-.94 2.06-2.06.94zm-11 1L8.5 8.5l.94-2.06 2.06-.94-2.06-.94L8.5 2.5l-.94 2.06-2.06.94zm10 10l.94 2.06.94-2.06 2.06-.94-2.06-.94-.94-2.06-.94 2.06-2.06.94z\"/><path d=\"M17.41 7.96l-1.37-1.37c-.4-.4-.92-.59-1.43-.59-.52 0-1.04.2-1.43.59L10.3 9.45l-7.72 7.72c-.78.78-.78 2.05 0 2.83L4 21.41c.39.39.9.59 1.41.59.51 0 1.02-.2 1.41-.59l7.78-7.78 2.81-2.81c.8-.78.8-2.07 0-2.86zM5.41 20L4 18.59l7.72-7.72 1.47 1.35L5.41 20z\"/>\n",
              "  </svg>\n",
              "      </button>\n",
              "      \n",
              "  <style>\n",
              "    .colab-df-container {\n",
              "      display:flex;\n",
              "      flex-wrap:wrap;\n",
              "      gap: 12px;\n",
              "    }\n",
              "\n",
              "    .colab-df-convert {\n",
              "      background-color: #E8F0FE;\n",
              "      border: none;\n",
              "      border-radius: 50%;\n",
              "      cursor: pointer;\n",
              "      display: none;\n",
              "      fill: #1967D2;\n",
              "      height: 32px;\n",
              "      padding: 0 0 0 0;\n",
              "      width: 32px;\n",
              "    }\n",
              "\n",
              "    .colab-df-convert:hover {\n",
              "      background-color: #E2EBFA;\n",
              "      box-shadow: 0px 1px 2px rgba(60, 64, 67, 0.3), 0px 1px 3px 1px rgba(60, 64, 67, 0.15);\n",
              "      fill: #174EA6;\n",
              "    }\n",
              "\n",
              "    [theme=dark] .colab-df-convert {\n",
              "      background-color: #3B4455;\n",
              "      fill: #D2E3FC;\n",
              "    }\n",
              "\n",
              "    [theme=dark] .colab-df-convert:hover {\n",
              "      background-color: #434B5C;\n",
              "      box-shadow: 0px 1px 3px 1px rgba(0, 0, 0, 0.15);\n",
              "      filter: drop-shadow(0px 1px 2px rgba(0, 0, 0, 0.3));\n",
              "      fill: #FFFFFF;\n",
              "    }\n",
              "  </style>\n",
              "\n",
              "      <script>\n",
              "        const buttonEl =\n",
              "          document.querySelector('#df-f942c760-724c-4963-bc50-15174dc710d4 button.colab-df-convert');\n",
              "        buttonEl.style.display =\n",
              "          google.colab.kernel.accessAllowed ? 'block' : 'none';\n",
              "\n",
              "        async function convertToInteractive(key) {\n",
              "          const element = document.querySelector('#df-f942c760-724c-4963-bc50-15174dc710d4');\n",
              "          const dataTable =\n",
              "            await google.colab.kernel.invokeFunction('convertToInteractive',\n",
              "                                                     [key], {});\n",
              "          if (!dataTable) return;\n",
              "\n",
              "          const docLinkHtml = 'Like what you see? Visit the ' +\n",
              "            '<a target=\"_blank\" href=https://colab.research.google.com/notebooks/data_table.ipynb>data table notebook</a>'\n",
              "            + ' to learn more about interactive tables.';\n",
              "          element.innerHTML = '';\n",
              "          dataTable['output_type'] = 'display_data';\n",
              "          await google.colab.output.renderOutput(dataTable, element);\n",
              "          const docLink = document.createElement('div');\n",
              "          docLink.innerHTML = docLinkHtml;\n",
              "          element.appendChild(docLink);\n",
              "        }\n",
              "      </script>\n",
              "    </div>\n",
              "  </div>\n",
              "  "
            ]
          },
          "metadata": {},
          "execution_count": 94
        }
      ]
    },
    {
      "cell_type": "code",
      "source": [
        "fig, ax = plt.subplots(figsize =(20,7))\n",
        "ax.bar(top_game5['title'][:10],top_game5[\"count\"][:10],width=0.7, edgecolor=\"white\", linewidth=1)\n",
        "# ax.set(xlim=(0, 8),ylim=(0, 8))\n",
        "plt.title('Top Adventure Games')\n",
        "plt.xlabel('Name of games')\n",
        "plt.ylabel('Count')\n",
        "plt.show()"
      ],
      "metadata": {
        "colab": {
          "base_uri": "https://localhost:8080/",
          "height": 458
        },
        "id": "TZpBNOHBDZgd",
        "outputId": "af593e33-7345-40d4-c044-3d2c20f2f8b4"
      },
      "execution_count": null,
      "outputs": [
        {
          "output_type": "display_data",
          "data": {
            "text/plain": [
              "<Figure size 1440x504 with 1 Axes>"
            ],
            "image/png": "[encoded data removed]"
          },
          "metadata": {
            "needs_background": "light"
          }
        }
      ]
    },
    {
      "cell_type": "markdown",
      "source": [
        "### By First-Person"
      ],
      "metadata": {
        "id": "Lvi2dB4E_FlJ"
      }
    },
    {
      "cell_type": "code",
      "source": [
        "top_game6 = ganre_2.select('title').filter(\"col == 'First-Person'\").groupBy(\"title\").count().orderBy(f.col('count').desc())"
      ],
      "metadata": {
        "id": "Sofe4b6l_HFw"
      },
      "execution_count": null,
      "outputs": []
    },
    {
      "cell_type": "code",
      "source": [
        "top_game6.show(10)"
      ],
      "metadata": {
        "id": "ERznIAYd_HIc",
        "colab": {
          "base_uri": "https://localhost:8080/"
        },
        "outputId": "8f61c70d-f608-4b28-c557-2afbdf895981"
      },
      "execution_count": null,
      "outputs": [
        {
          "output_type": "stream",
          "name": "stdout",
          "text": [
            "+--------------------+------+\n",
            "|               title| count|\n",
            "+--------------------+------+\n",
            "|                Rust|251447|\n",
            "|Counter-Strike: G...|172422|\n",
            "|        No Man's Sky|150267|\n",
            "|    Wallpaper Engine|149644|\n",
            "|  Grand Theft Auto V|148839|\n",
            "|           Fallout 4|148538|\n",
            "|Call of Duty®: Mo...|131361|\n",
            "|Red Dead Redempti...|117967|\n",
            "|              Arma 3|115929|\n",
            "|      Cyberpunk 2077|109328|\n",
            "+--------------------+------+\n",
            "only showing top 10 rows\n",
            "\n"
          ]
        }
      ]
    },
    {
      "cell_type": "code",
      "source": [
        "top_game6 = top_game6.toPandas()\n",
        "top_game6.head(10)"
      ],
      "metadata": {
        "colab": {
          "base_uri": "https://localhost:8080/",
          "height": 363
        },
        "id": "zuL5ILLNESSn",
        "outputId": "948c2ea1-9970-4432-9a5f-269076a9ee4a"
      },
      "execution_count": null,
      "outputs": [
        {
          "output_type": "execute_result",
          "data": {
            "text/plain": [
              "                               title   count\n",
              "0                               Rust  251447\n",
              "1   Counter-Strike: Global Offensive  172422\n",
              "2                       No Man's Sky  150267\n",
              "3                   Wallpaper Engine  149644\n",
              "4                 Grand Theft Auto V  148839\n",
              "5                          Fallout 4  148538\n",
              "6  Call of Duty®: Modern Warfare® II  131361\n",
              "7              Red Dead Redemption 2  117967\n",
              "8                             Arma 3  115929\n",
              "9                     Cyberpunk 2077  109328"
            ],
            "text/html": [
              "\n",
              "  <div id=\"df-7aa1cbf6-3f82-4457-828d-ea8ed154156d\">\n",
              "    <div class=\"colab-df-container\">\n",
              "      <div>\n",
              "<style scoped>\n",
              "    .dataframe tbody tr th:only-of-type {\n",
              "        vertical-align: middle;\n",
              "    }\n",
              "\n",
              "    .dataframe tbody tr th {\n",
              "        vertical-align: top;\n",
              "    }\n",
              "\n",
              "    .dataframe thead th {\n",
              "        text-align: right;\n",
              "    }\n",
              "</style>\n",
              "<table border=\"1\" class=\"dataframe\">\n",
              "  <thead>\n",
              "    <tr style=\"text-align: right;\">\n",
              "      <th></th>\n",
              "      <th>title</th>\n",
              "      <th>count</th>\n",
              "    </tr>\n",
              "  </thead>\n",
              "  <tbody>\n",
              "    <tr>\n",
              "      <th>0</th>\n",
              "      <td>Rust</td>\n",
              "      <td>251447</td>\n",
              "    </tr>\n",
              "    <tr>\n",
              "      <th>1</th>\n",
              "      <td>Counter-Strike: Global Offensive</td>\n",
              "      <td>172422</td>\n",
              "    </tr>\n",
              "    <tr>\n",
              "      <th>2</th>\n",
              "      <td>No Man's Sky</td>\n",
              "      <td>150267</td>\n",
              "    </tr>\n",
              "    <tr>\n",
              "      <th>3</th>\n",
              "      <td>Wallpaper Engine</td>\n",
              "      <td>149644</td>\n",
              "    </tr>\n",
              "    <tr>\n",
              "      <th>4</th>\n",
              "      <td>Grand Theft Auto V</td>\n",
              "      <td>148839</td>\n",
              "    </tr>\n",
              "    <tr>\n",
              "      <th>5</th>\n",
              "      <td>Fallout 4</td>\n",
              "      <td>148538</td>\n",
              "    </tr>\n",
              "    <tr>\n",
              "      <th>6</th>\n",
              "      <td>Call of Duty®: Modern Warfare® II</td>\n",
              "      <td>131361</td>\n",
              "    </tr>\n",
              "    <tr>\n",
              "      <th>7</th>\n",
              "      <td>Red Dead Redemption 2</td>\n",
              "      <td>117967</td>\n",
              "    </tr>\n",
              "    <tr>\n",
              "      <th>8</th>\n",
              "      <td>Arma 3</td>\n",
              "      <td>115929</td>\n",
              "    </tr>\n",
              "    <tr>\n",
              "      <th>9</th>\n",
              "      <td>Cyberpunk 2077</td>\n",
              "      <td>109328</td>\n",
              "    </tr>\n",
              "  </tbody>\n",
              "</table>\n",
              "</div>\n",
              "      <button class=\"colab-df-convert\" onclick=\"convertToInteractive('df-7aa1cbf6-3f82-4457-828d-ea8ed154156d')\"\n",
              "              title=\"Convert this dataframe to an interactive table.\"\n",
              "              style=\"display:none;\">\n",
              "        \n",
              "  <svg xmlns=\"http://www.w3.org/2000/svg\" height=\"24px\"viewBox=\"0 0 24 24\"\n",
              "       width=\"24px\">\n",
              "    <path d=\"M0 0h24v24H0V0z\" fill=\"none\"/>\n",
              "    <path d=\"M18.56 5.44l.94 2.06.94-2.06 2.06-.94-2.06-.94-.94-2.06-.94 2.06-2.06.94zm-11 1L8.5 8.5l.94-2.06 2.06-.94-2.06-.94L8.5 2.5l-.94 2.06-2.06.94zm10 10l.94 2.06.94-2.06 2.06-.94-2.06-.94-.94-2.06-.94 2.06-2.06.94z\"/><path d=\"M17.41 7.96l-1.37-1.37c-.4-.4-.92-.59-1.43-.59-.52 0-1.04.2-1.43.59L10.3 9.45l-7.72 7.72c-.78.78-.78 2.05 0 2.83L4 21.41c.39.39.9.59 1.41.59.51 0 1.02-.2 1.41-.59l7.78-7.78 2.81-2.81c.8-.78.8-2.07 0-2.86zM5.41 20L4 18.59l7.72-7.72 1.47 1.35L5.41 20z\"/>\n",
              "  </svg>\n",
              "      </button>\n",
              "      \n",
              "  <style>\n",
              "    .colab-df-container {\n",
              "      display:flex;\n",
              "      flex-wrap:wrap;\n",
              "      gap: 12px;\n",
              "    }\n",
              "\n",
              "    .colab-df-convert {\n",
              "      background-color: #E8F0FE;\n",
              "      border: none;\n",
              "      border-radius: 50%;\n",
              "      cursor: pointer;\n",
              "      display: none;\n",
              "      fill: #1967D2;\n",
              "      height: 32px;\n",
              "      padding: 0 0 0 0;\n",
              "      width: 32px;\n",
              "    }\n",
              "\n",
              "    .colab-df-convert:hover {\n",
              "      background-color: #E2EBFA;\n",
              "      box-shadow: 0px 1px 2px rgba(60, 64, 67, 0.3), 0px 1px 3px 1px rgba(60, 64, 67, 0.15);\n",
              "      fill: #174EA6;\n",
              "    }\n",
              "\n",
              "    [theme=dark] .colab-df-convert {\n",
              "      background-color: #3B4455;\n",
              "      fill: #D2E3FC;\n",
              "    }\n",
              "\n",
              "    [theme=dark] .colab-df-convert:hover {\n",
              "      background-color: #434B5C;\n",
              "      box-shadow: 0px 1px 3px 1px rgba(0, 0, 0, 0.15);\n",
              "      filter: drop-shadow(0px 1px 2px rgba(0, 0, 0, 0.3));\n",
              "      fill: #FFFFFF;\n",
              "    }\n",
              "  </style>\n",
              "\n",
              "      <script>\n",
              "        const buttonEl =\n",
              "          document.querySelector('#df-7aa1cbf6-3f82-4457-828d-ea8ed154156d button.colab-df-convert');\n",
              "        buttonEl.style.display =\n",
              "          google.colab.kernel.accessAllowed ? 'block' : 'none';\n",
              "\n",
              "        async function convertToInteractive(key) {\n",
              "          const element = document.querySelector('#df-7aa1cbf6-3f82-4457-828d-ea8ed154156d');\n",
              "          const dataTable =\n",
              "            await google.colab.kernel.invokeFunction('convertToInteractive',\n",
              "                                                     [key], {});\n",
              "          if (!dataTable) return;\n",
              "\n",
              "          const docLinkHtml = 'Like what you see? Visit the ' +\n",
              "            '<a target=\"_blank\" href=https://colab.research.google.com/notebooks/data_table.ipynb>data table notebook</a>'\n",
              "            + ' to learn more about interactive tables.';\n",
              "          element.innerHTML = '';\n",
              "          dataTable['output_type'] = 'display_data';\n",
              "          await google.colab.output.renderOutput(dataTable, element);\n",
              "          const docLink = document.createElement('div');\n",
              "          docLink.innerHTML = docLinkHtml;\n",
              "          element.appendChild(docLink);\n",
              "        }\n",
              "      </script>\n",
              "    </div>\n",
              "  </div>\n",
              "  "
            ]
          },
          "metadata": {},
          "execution_count": 98
        }
      ]
    },
    {
      "cell_type": "code",
      "source": [
        "fig, ax = plt.subplots(figsize =(20,7))\n",
        "ax.bar(top_game6['title'][:10],top_game6[\"count\"][:10],width=0.7, edgecolor=\"white\", linewidth=1)\n",
        "# ax.set(xlim=(0, 8),ylim=(0, 8))\n",
        "plt.title('Top First-Person Games')\n",
        "plt.xlabel('Name of games')\n",
        "plt.ylabel('Count')\n",
        "plt.show()"
      ],
      "metadata": {
        "colab": {
          "base_uri": "https://localhost:8080/",
          "height": 458
        },
        "id": "Fa6BrQlIESVJ",
        "outputId": "aaa58543-a893-487e-aba0-da970cc18f75"
      },
      "execution_count": null,
      "outputs": [
        {
          "output_type": "display_data",
          "data": {
            "text/plain": [
              "<Figure size 1440x504 with 1 Axes>"
            ],
            "image/png": "[encoded data removed]"
          },
          "metadata": {
            "needs_background": "light"
          }
        }
      ]
    },
    {
      "cell_type": "markdown",
      "source": [
        "### By Open World"
      ],
      "metadata": {
        "id": "_zHHZW9t_Ozg"
      }
    },
    {
      "cell_type": "code",
      "source": [
        "top_game7 = ganre_2.select('title').filter(\"col == 'Open World'\").groupBy(\"title\").count().orderBy(f.col('count').desc())"
      ],
      "metadata": {
        "id": "OrjVQaUT_O8Y"
      },
      "execution_count": null,
      "outputs": []
    },
    {
      "cell_type": "code",
      "source": [
        "top_game7.show(10)"
      ],
      "metadata": {
        "id": "D4GgFnns_O-1",
        "colab": {
          "base_uri": "https://localhost:8080/"
        },
        "outputId": "b6e3804b-4736-48b2-a8eb-98b37914ddaf"
      },
      "execution_count": null,
      "outputs": [
        {
          "output_type": "stream",
          "name": "stdout",
          "text": [
            "+--------------------+------+\n",
            "|               title| count|\n",
            "+--------------------+------+\n",
            "|                Rust|251447|\n",
            "|        No Man's Sky|150267|\n",
            "|  Grand Theft Auto V|148839|\n",
            "|           Fallout 4|148538|\n",
            "|Red Dead Redempti...|117967|\n",
            "|              Arma 3|115929|\n",
            "|      Cyberpunk 2077|109328|\n",
            "|      Sea of Thieves|108191|\n",
            "|   Hearts of Iron IV|104752|\n",
            "|        BeamNG.drive| 90970|\n",
            "+--------------------+------+\n",
            "only showing top 10 rows\n",
            "\n"
          ]
        }
      ]
    },
    {
      "cell_type": "code",
      "source": [
        "top_game7 =top_game7.toPandas()\n",
        "top_game7.head(10)"
      ],
      "metadata": {
        "colab": {
          "base_uri": "https://localhost:8080/",
          "height": 363
        },
        "id": "Z4Q2vva3EpGu",
        "outputId": "1cccbad8-a2c0-4ab8-d560-e24a41076dc4"
      },
      "execution_count": null,
      "outputs": [
        {
          "output_type": "execute_result",
          "data": {
            "text/plain": [
              "                   title   count\n",
              "0                   Rust  251447\n",
              "1           No Man's Sky  150267\n",
              "2     Grand Theft Auto V  148839\n",
              "3              Fallout 4  148538\n",
              "4  Red Dead Redemption 2  117967\n",
              "5                 Arma 3  115929\n",
              "6         Cyberpunk 2077  109328\n",
              "7         Sea of Thieves  108191\n",
              "8      Hearts of Iron IV  104752\n",
              "9           BeamNG.drive   90970"
            ],
            "text/html": [
              "\n",
              "  <div id=\"df-01c3592c-c361-478d-b08f-2e7a23703aa5\">\n",
              "    <div class=\"colab-df-container\">\n",
              "      <div>\n",
              "<style scoped>\n",
              "    .dataframe tbody tr th:only-of-type {\n",
              "        vertical-align: middle;\n",
              "    }\n",
              "\n",
              "    .dataframe tbody tr th {\n",
              "        vertical-align: top;\n",
              "    }\n",
              "\n",
              "    .dataframe thead th {\n",
              "        text-align: right;\n",
              "    }\n",
              "</style>\n",
              "<table border=\"1\" class=\"dataframe\">\n",
              "  <thead>\n",
              "    <tr style=\"text-align: right;\">\n",
              "      <th></th>\n",
              "      <th>title</th>\n",
              "      <th>count</th>\n",
              "    </tr>\n",
              "  </thead>\n",
              "  <tbody>\n",
              "    <tr>\n",
              "      <th>0</th>\n",
              "      <td>Rust</td>\n",
              "      <td>251447</td>\n",
              "    </tr>\n",
              "    <tr>\n",
              "      <th>1</th>\n",
              "      <td>No Man's Sky</td>\n",
              "      <td>150267</td>\n",
              "    </tr>\n",
              "    <tr>\n",
              "      <th>2</th>\n",
              "      <td>Grand Theft Auto V</td>\n",
              "      <td>148839</td>\n",
              "    </tr>\n",
              "    <tr>\n",
              "      <th>3</th>\n",
              "      <td>Fallout 4</td>\n",
              "      <td>148538</td>\n",
              "    </tr>\n",
              "    <tr>\n",
              "      <th>4</th>\n",
              "      <td>Red Dead Redemption 2</td>\n",
              "      <td>117967</td>\n",
              "    </tr>\n",
              "    <tr>\n",
              "      <th>5</th>\n",
              "      <td>Arma 3</td>\n",
              "      <td>115929</td>\n",
              "    </tr>\n",
              "    <tr>\n",
              "      <th>6</th>\n",
              "      <td>Cyberpunk 2077</td>\n",
              "      <td>109328</td>\n",
              "    </tr>\n",
              "    <tr>\n",
              "      <th>7</th>\n",
              "      <td>Sea of Thieves</td>\n",
              "      <td>108191</td>\n",
              "    </tr>\n",
              "    <tr>\n",
              "      <th>8</th>\n",
              "      <td>Hearts of Iron IV</td>\n",
              "      <td>104752</td>\n",
              "    </tr>\n",
              "    <tr>\n",
              "      <th>9</th>\n",
              "      <td>BeamNG.drive</td>\n",
              "      <td>90970</td>\n",
              "    </tr>\n",
              "  </tbody>\n",
              "</table>\n",
              "</div>\n",
              "      <button class=\"colab-df-convert\" onclick=\"convertToInteractive('df-01c3592c-c361-478d-b08f-2e7a23703aa5')\"\n",
              "              title=\"Convert this dataframe to an interactive table.\"\n",
              "              style=\"display:none;\">\n",
              "        \n",
              "  <svg xmlns=\"http://www.w3.org/2000/svg\" height=\"24px\"viewBox=\"0 0 24 24\"\n",
              "       width=\"24px\">\n",
              "    <path d=\"M0 0h24v24H0V0z\" fill=\"none\"/>\n",
              "    <path d=\"M18.56 5.44l.94 2.06.94-2.06 2.06-.94-2.06-.94-.94-2.06-.94 2.06-2.06.94zm-11 1L8.5 8.5l.94-2.06 2.06-.94-2.06-.94L8.5 2.5l-.94 2.06-2.06.94zm10 10l.94 2.06.94-2.06 2.06-.94-2.06-.94-.94-2.06-.94 2.06-2.06.94z\"/><path d=\"M17.41 7.96l-1.37-1.37c-.4-.4-.92-.59-1.43-.59-.52 0-1.04.2-1.43.59L10.3 9.45l-7.72 7.72c-.78.78-.78 2.05 0 2.83L4 21.41c.39.39.9.59 1.41.59.51 0 1.02-.2 1.41-.59l7.78-7.78 2.81-2.81c.8-.78.8-2.07 0-2.86zM5.41 20L4 18.59l7.72-7.72 1.47 1.35L5.41 20z\"/>\n",
              "  </svg>\n",
              "      </button>\n",
              "      \n",
              "  <style>\n",
              "    .colab-df-container {\n",
              "      display:flex;\n",
              "      flex-wrap:wrap;\n",
              "      gap: 12px;\n",
              "    }\n",
              "\n",
              "    .colab-df-convert {\n",
              "      background-color: #E8F0FE;\n",
              "      border: none;\n",
              "      border-radius: 50%;\n",
              "      cursor: pointer;\n",
              "      display: none;\n",
              "      fill: #1967D2;\n",
              "      height: 32px;\n",
              "      padding: 0 0 0 0;\n",
              "      width: 32px;\n",
              "    }\n",
              "\n",
              "    .colab-df-convert:hover {\n",
              "      background-color: #E2EBFA;\n",
              "      box-shadow: 0px 1px 2px rgba(60, 64, 67, 0.3), 0px 1px 3px 1px rgba(60, 64, 67, 0.15);\n",
              "      fill: #174EA6;\n",
              "    }\n",
              "\n",
              "    [theme=dark] .colab-df-convert {\n",
              "      background-color: #3B4455;\n",
              "      fill: #D2E3FC;\n",
              "    }\n",
              "\n",
              "    [theme=dark] .colab-df-convert:hover {\n",
              "      background-color: #434B5C;\n",
              "      box-shadow: 0px 1px 3px 1px rgba(0, 0, 0, 0.15);\n",
              "      filter: drop-shadow(0px 1px 2px rgba(0, 0, 0, 0.3));\n",
              "      fill: #FFFFFF;\n",
              "    }\n",
              "  </style>\n",
              "\n",
              "      <script>\n",
              "        const buttonEl =\n",
              "          document.querySelector('#df-01c3592c-c361-478d-b08f-2e7a23703aa5 button.colab-df-convert');\n",
              "        buttonEl.style.display =\n",
              "          google.colab.kernel.accessAllowed ? 'block' : 'none';\n",
              "\n",
              "        async function convertToInteractive(key) {\n",
              "          const element = document.querySelector('#df-01c3592c-c361-478d-b08f-2e7a23703aa5');\n",
              "          const dataTable =\n",
              "            await google.colab.kernel.invokeFunction('convertToInteractive',\n",
              "                                                     [key], {});\n",
              "          if (!dataTable) return;\n",
              "\n",
              "          const docLinkHtml = 'Like what you see? Visit the ' +\n",
              "            '<a target=\"_blank\" href=https://colab.research.google.com/notebooks/data_table.ipynb>data table notebook</a>'\n",
              "            + ' to learn more about interactive tables.';\n",
              "          element.innerHTML = '';\n",
              "          dataTable['output_type'] = 'display_data';\n",
              "          await google.colab.output.renderOutput(dataTable, element);\n",
              "          const docLink = document.createElement('div');\n",
              "          docLink.innerHTML = docLinkHtml;\n",
              "          element.appendChild(docLink);\n",
              "        }\n",
              "      </script>\n",
              "    </div>\n",
              "  </div>\n",
              "  "
            ]
          },
          "metadata": {},
          "execution_count": 102
        }
      ]
    },
    {
      "cell_type": "code",
      "source": [
        "fig, ax = plt.subplots(figsize =(20,7))\n",
        "ax.bar(top_game7['title'][:10],top_game7[\"count\"][:10],width=0.7, edgecolor=\"white\", linewidth=1)\n",
        "# ax.set(xlim=(0, 8),ylim=(0, 8))\n",
        "plt.title('Top Open World Games')\n",
        "plt.xlabel('Name of games')\n",
        "plt.ylabel('Count')\n",
        "plt.show()"
      ],
      "metadata": {
        "colab": {
          "base_uri": "https://localhost:8080/",
          "height": 458
        },
        "id": "fuJVjy-8E0DI",
        "outputId": "5eb0c385-9569-4bae-e325-b9f450c750dd"
      },
      "execution_count": null,
      "outputs": [
        {
          "output_type": "display_data",
          "data": {
            "text/plain": [
              "<Figure size 1440x504 with 1 Axes>"
            ],
            "image/png": "[encoded data removed]"
          },
          "metadata": {
            "needs_background": "light"
          }
        }
      ]
    },
    {
      "cell_type": "markdown",
      "source": [
        "### By Atmospheric"
      ],
      "metadata": {
        "id": "cTNWti_P_b2x"
      }
    },
    {
      "cell_type": "code",
      "source": [
        "top_game8 = ganre_2.select('title').filter(\"col == 'Atmospheric'\").groupBy(\"title\").count().orderBy(f.col('count').desc())"
      ],
      "metadata": {
        "id": "VK5M_1Cj_dWm"
      },
      "execution_count": null,
      "outputs": []
    },
    {
      "cell_type": "code",
      "source": [
        "top_game8.show(10)"
      ],
      "metadata": {
        "id": "F_EpH-hs_dZb",
        "colab": {
          "base_uri": "https://localhost:8080/"
        },
        "outputId": "30674f30-89f1-448e-e9d1-b65fae0ee966"
      },
      "execution_count": null,
      "outputs": [
        {
          "output_type": "stream",
          "name": "stdout",
          "text": [
            "+--------------------+------+\n",
            "|               title| count|\n",
            "+--------------------+------+\n",
            "|        No Man's Sky|150267|\n",
            "|  Grand Theft Auto V|148839|\n",
            "|           Fallout 4|148538|\n",
            "|Call of Duty®: Mo...|131361|\n",
            "|Red Dead Redempti...|117967|\n",
            "|      Cyberpunk 2077|109328|\n",
            "|      Sea of Thieves|108191|\n",
            "|The Binding of Is...| 98643|\n",
            "|Sid Meier’s Civil...| 83191|\n",
            "|The Elder Scrolls...| 68834|\n",
            "+--------------------+------+\n",
            "only showing top 10 rows\n",
            "\n"
          ]
        }
      ]
    },
    {
      "cell_type": "code",
      "source": [
        "top_game8 = top_game8.toPandas()\n",
        "top_game8.head(10)"
      ],
      "metadata": {
        "colab": {
          "base_uri": "https://localhost:8080/",
          "height": 363
        },
        "id": "U3YbzemMF1l2",
        "outputId": "12ed4c2a-aad8-408b-8eb7-3bb10f6ba5c4"
      },
      "execution_count": null,
      "outputs": [
        {
          "output_type": "execute_result",
          "data": {
            "text/plain": [
              "                               title   count\n",
              "0                       No Man's Sky  150267\n",
              "1                 Grand Theft Auto V  148839\n",
              "2                          Fallout 4  148538\n",
              "3  Call of Duty®: Modern Warfare® II  131361\n",
              "4              Red Dead Redemption 2  117967\n",
              "5                     Cyberpunk 2077  109328\n",
              "6                     Sea of Thieves  108191\n",
              "7      The Binding of Isaac: Rebirth   98643\n",
              "8       Sid Meier’s Civilization® VI   83191\n",
              "9          The Elder Scrolls® Online   68834"
            ],
            "text/html": [
              "\n",
              "  <div id=\"df-46d16c4e-24b7-4ed1-9b40-6379a8e7cd27\">\n",
              "    <div class=\"colab-df-container\">\n",
              "      <div>\n",
              "<style scoped>\n",
              "    .dataframe tbody tr th:only-of-type {\n",
              "        vertical-align: middle;\n",
              "    }\n",
              "\n",
              "    .dataframe tbody tr th {\n",
              "        vertical-align: top;\n",
              "    }\n",
              "\n",
              "    .dataframe thead th {\n",
              "        text-align: right;\n",
              "    }\n",
              "</style>\n",
              "<table border=\"1\" class=\"dataframe\">\n",
              "  <thead>\n",
              "    <tr style=\"text-align: right;\">\n",
              "      <th></th>\n",
              "      <th>title</th>\n",
              "      <th>count</th>\n",
              "    </tr>\n",
              "  </thead>\n",
              "  <tbody>\n",
              "    <tr>\n",
              "      <th>0</th>\n",
              "      <td>No Man's Sky</td>\n",
              "      <td>150267</td>\n",
              "    </tr>\n",
              "    <tr>\n",
              "      <th>1</th>\n",
              "      <td>Grand Theft Auto V</td>\n",
              "      <td>148839</td>\n",
              "    </tr>\n",
              "    <tr>\n",
              "      <th>2</th>\n",
              "      <td>Fallout 4</td>\n",
              "      <td>148538</td>\n",
              "    </tr>\n",
              "    <tr>\n",
              "      <th>3</th>\n",
              "      <td>Call of Duty®: Modern Warfare® II</td>\n",
              "      <td>131361</td>\n",
              "    </tr>\n",
              "    <tr>\n",
              "      <th>4</th>\n",
              "      <td>Red Dead Redemption 2</td>\n",
              "      <td>117967</td>\n",
              "    </tr>\n",
              "    <tr>\n",
              "      <th>5</th>\n",
              "      <td>Cyberpunk 2077</td>\n",
              "      <td>109328</td>\n",
              "    </tr>\n",
              "    <tr>\n",
              "      <th>6</th>\n",
              "      <td>Sea of Thieves</td>\n",
              "      <td>108191</td>\n",
              "    </tr>\n",
              "    <tr>\n",
              "      <th>7</th>\n",
              "      <td>The Binding of Isaac: Rebirth</td>\n",
              "      <td>98643</td>\n",
              "    </tr>\n",
              "    <tr>\n",
              "      <th>8</th>\n",
              "      <td>Sid Meier’s Civilization® VI</td>\n",
              "      <td>83191</td>\n",
              "    </tr>\n",
              "    <tr>\n",
              "      <th>9</th>\n",
              "      <td>The Elder Scrolls® Online</td>\n",
              "      <td>68834</td>\n",
              "    </tr>\n",
              "  </tbody>\n",
              "</table>\n",
              "</div>\n",
              "      <button class=\"colab-df-convert\" onclick=\"convertToInteractive('df-46d16c4e-24b7-4ed1-9b40-6379a8e7cd27')\"\n",
              "              title=\"Convert this dataframe to an interactive table.\"\n",
              "              style=\"display:none;\">\n",
              "        \n",
              "  <svg xmlns=\"http://www.w3.org/2000/svg\" height=\"24px\"viewBox=\"0 0 24 24\"\n",
              "       width=\"24px\">\n",
              "    <path d=\"M0 0h24v24H0V0z\" fill=\"none\"/>\n",
              "    <path d=\"M18.56 5.44l.94 2.06.94-2.06 2.06-.94-2.06-.94-.94-2.06-.94 2.06-2.06.94zm-11 1L8.5 8.5l.94-2.06 2.06-.94-2.06-.94L8.5 2.5l-.94 2.06-2.06.94zm10 10l.94 2.06.94-2.06 2.06-.94-2.06-.94-.94-2.06-.94 2.06-2.06.94z\"/><path d=\"M17.41 7.96l-1.37-1.37c-.4-.4-.92-.59-1.43-.59-.52 0-1.04.2-1.43.59L10.3 9.45l-7.72 7.72c-.78.78-.78 2.05 0 2.83L4 21.41c.39.39.9.59 1.41.59.51 0 1.02-.2 1.41-.59l7.78-7.78 2.81-2.81c.8-.78.8-2.07 0-2.86zM5.41 20L4 18.59l7.72-7.72 1.47 1.35L5.41 20z\"/>\n",
              "  </svg>\n",
              "      </button>\n",
              "      \n",
              "  <style>\n",
              "    .colab-df-container {\n",
              "      display:flex;\n",
              "      flex-wrap:wrap;\n",
              "      gap: 12px;\n",
              "    }\n",
              "\n",
              "    .colab-df-convert {\n",
              "      background-color: #E8F0FE;\n",
              "      border: none;\n",
              "      border-radius: 50%;\n",
              "      cursor: pointer;\n",
              "      display: none;\n",
              "      fill: #1967D2;\n",
              "      height: 32px;\n",
              "      padding: 0 0 0 0;\n",
              "      width: 32px;\n",
              "    }\n",
              "\n",
              "    .colab-df-convert:hover {\n",
              "      background-color: #E2EBFA;\n",
              "      box-shadow: 0px 1px 2px rgba(60, 64, 67, 0.3), 0px 1px 3px 1px rgba(60, 64, 67, 0.15);\n",
              "      fill: #174EA6;\n",
              "    }\n",
              "\n",
              "    [theme=dark] .colab-df-convert {\n",
              "      background-color: #3B4455;\n",
              "      fill: #D2E3FC;\n",
              "    }\n",
              "\n",
              "    [theme=dark] .colab-df-convert:hover {\n",
              "      background-color: #434B5C;\n",
              "      box-shadow: 0px 1px 3px 1px rgba(0, 0, 0, 0.15);\n",
              "      filter: drop-shadow(0px 1px 2px rgba(0, 0, 0, 0.3));\n",
              "      fill: #FFFFFF;\n",
              "    }\n",
              "  </style>\n",
              "\n",
              "      <script>\n",
              "        const buttonEl =\n",
              "          document.querySelector('#df-46d16c4e-24b7-4ed1-9b40-6379a8e7cd27 button.colab-df-convert');\n",
              "        buttonEl.style.display =\n",
              "          google.colab.kernel.accessAllowed ? 'block' : 'none';\n",
              "\n",
              "        async function convertToInteractive(key) {\n",
              "          const element = document.querySelector('#df-46d16c4e-24b7-4ed1-9b40-6379a8e7cd27');\n",
              "          const dataTable =\n",
              "            await google.colab.kernel.invokeFunction('convertToInteractive',\n",
              "                                                     [key], {});\n",
              "          if (!dataTable) return;\n",
              "\n",
              "          const docLinkHtml = 'Like what you see? Visit the ' +\n",
              "            '<a target=\"_blank\" href=https://colab.research.google.com/notebooks/data_table.ipynb>data table notebook</a>'\n",
              "            + ' to learn more about interactive tables.';\n",
              "          element.innerHTML = '';\n",
              "          dataTable['output_type'] = 'display_data';\n",
              "          await google.colab.output.renderOutput(dataTable, element);\n",
              "          const docLink = document.createElement('div');\n",
              "          docLink.innerHTML = docLinkHtml;\n",
              "          element.appendChild(docLink);\n",
              "        }\n",
              "      </script>\n",
              "    </div>\n",
              "  </div>\n",
              "  "
            ]
          },
          "metadata": {},
          "execution_count": 106
        }
      ]
    },
    {
      "cell_type": "code",
      "source": [
        "fig, ax = plt.subplots(figsize =(20,7))\n",
        "ax.bar(top_game8['title'][:10],top_game8[\"count\"][:10],width=0.7, edgecolor=\"white\", linewidth=1)\n",
        "# ax.set(xlim=(0, 8),ylim=(0, 8))\n",
        "plt.title('Top Atmospheric Games')\n",
        "plt.xlabel('Name of games')\n",
        "plt.ylabel('Count')\n",
        "plt.show()"
      ],
      "metadata": {
        "colab": {
          "base_uri": "https://localhost:8080/",
          "height": 458
        },
        "id": "rbnLUk30GD5I",
        "outputId": "1c0eed2a-358c-4454-bb63-55ad086a297d"
      },
      "execution_count": null,
      "outputs": [
        {
          "output_type": "display_data",
          "data": {
            "text/plain": [
              "<Figure size 1440x504 with 1 Axes>"
            ],
            "image/png": "[encoded data removed]"
          },
          "metadata": {
            "needs_background": "light"
          }
        }
      ]
    },
    {
      "cell_type": "markdown",
      "source": [
        "### By Simulation"
      ],
      "metadata": {
        "id": "bLF_vHk6_toE"
      }
    },
    {
      "cell_type": "code",
      "source": [
        "top_game9 = ganre_2.select('title').filter(\"col == 'Simulation'\").groupBy(\"title\").count().orderBy(f.col('count').desc())"
      ],
      "metadata": {
        "id": "i_td0bdK_2o7"
      },
      "execution_count": null,
      "outputs": []
    },
    {
      "cell_type": "code",
      "source": [
        "top_game9.show(10)"
      ],
      "metadata": {
        "id": "aw0oXUTY_2rg",
        "colab": {
          "base_uri": "https://localhost:8080/"
        },
        "outputId": "efb286eb-1e5b-4560-d207-4d8bc588f874"
      },
      "execution_count": null,
      "outputs": [
        {
          "output_type": "stream",
          "name": "stdout",
          "text": [
            "+--------------------+------+\n",
            "|               title| count|\n",
            "+--------------------+------+\n",
            "|                Rust|251447|\n",
            "|        No Man's Sky|150267|\n",
            "|              Arma 3|115929|\n",
            "|   Hearts of Iron IV|104752|\n",
            "|        BeamNG.drive| 90970|\n",
            "|              VRChat| 87365|\n",
            "|Sid Meier’s Civil...| 83191|\n",
            "|     Space Engineers| 76198|\n",
            "|        Satisfactory| 68495|\n",
            "|Tom Clancy's Rain...| 67570|\n",
            "+--------------------+------+\n",
            "only showing top 10 rows\n",
            "\n"
          ]
        }
      ]
    },
    {
      "cell_type": "code",
      "source": [
        "top_game9 = top_game9.toPandas()\n",
        "top_game9.head(10)"
      ],
      "metadata": {
        "colab": {
          "base_uri": "https://localhost:8080/",
          "height": 363
        },
        "id": "AcZGPKuLGc_m",
        "outputId": "c67841c8-eaf6-4201-b741-28ae6aa75775"
      },
      "execution_count": null,
      "outputs": [
        {
          "output_type": "execute_result",
          "data": {
            "text/plain": [
              "                             title   count\n",
              "0                             Rust  251447\n",
              "1                     No Man's Sky  150267\n",
              "2                           Arma 3  115929\n",
              "3                Hearts of Iron IV  104752\n",
              "4                     BeamNG.drive   90970\n",
              "5                           VRChat   87365\n",
              "6     Sid Meier’s Civilization® VI   83191\n",
              "7                  Space Engineers   76198\n",
              "8                     Satisfactory   68495\n",
              "9  Tom Clancy's Rainbow Six® Siege   67570"
            ],
            "text/html": [
              "\n",
              "  <div id=\"df-759eedcc-34bc-47fb-a372-515c7803c0d3\">\n",
              "    <div class=\"colab-df-container\">\n",
              "      <div>\n",
              "<style scoped>\n",
              "    .dataframe tbody tr th:only-of-type {\n",
              "        vertical-align: middle;\n",
              "    }\n",
              "\n",
              "    .dataframe tbody tr th {\n",
              "        vertical-align: top;\n",
              "    }\n",
              "\n",
              "    .dataframe thead th {\n",
              "        text-align: right;\n",
              "    }\n",
              "</style>\n",
              "<table border=\"1\" class=\"dataframe\">\n",
              "  <thead>\n",
              "    <tr style=\"text-align: right;\">\n",
              "      <th></th>\n",
              "      <th>title</th>\n",
              "      <th>count</th>\n",
              "    </tr>\n",
              "  </thead>\n",
              "  <tbody>\n",
              "    <tr>\n",
              "      <th>0</th>\n",
              "      <td>Rust</td>\n",
              "      <td>251447</td>\n",
              "    </tr>\n",
              "    <tr>\n",
              "      <th>1</th>\n",
              "      <td>No Man's Sky</td>\n",
              "      <td>150267</td>\n",
              "    </tr>\n",
              "    <tr>\n",
              "      <th>2</th>\n",
              "      <td>Arma 3</td>\n",
              "      <td>115929</td>\n",
              "    </tr>\n",
              "    <tr>\n",
              "      <th>3</th>\n",
              "      <td>Hearts of Iron IV</td>\n",
              "      <td>104752</td>\n",
              "    </tr>\n",
              "    <tr>\n",
              "      <th>4</th>\n",
              "      <td>BeamNG.drive</td>\n",
              "      <td>90970</td>\n",
              "    </tr>\n",
              "    <tr>\n",
              "      <th>5</th>\n",
              "      <td>VRChat</td>\n",
              "      <td>87365</td>\n",
              "    </tr>\n",
              "    <tr>\n",
              "      <th>6</th>\n",
              "      <td>Sid Meier’s Civilization® VI</td>\n",
              "      <td>83191</td>\n",
              "    </tr>\n",
              "    <tr>\n",
              "      <th>7</th>\n",
              "      <td>Space Engineers</td>\n",
              "      <td>76198</td>\n",
              "    </tr>\n",
              "    <tr>\n",
              "      <th>8</th>\n",
              "      <td>Satisfactory</td>\n",
              "      <td>68495</td>\n",
              "    </tr>\n",
              "    <tr>\n",
              "      <th>9</th>\n",
              "      <td>Tom Clancy's Rainbow Six® Siege</td>\n",
              "      <td>67570</td>\n",
              "    </tr>\n",
              "  </tbody>\n",
              "</table>\n",
              "</div>\n",
              "      <button class=\"colab-df-convert\" onclick=\"convertToInteractive('df-759eedcc-34bc-47fb-a372-515c7803c0d3')\"\n",
              "              title=\"Convert this dataframe to an interactive table.\"\n",
              "              style=\"display:none;\">\n",
              "        \n",
              "  <svg xmlns=\"http://www.w3.org/2000/svg\" height=\"24px\"viewBox=\"0 0 24 24\"\n",
              "       width=\"24px\">\n",
              "    <path d=\"M0 0h24v24H0V0z\" fill=\"none\"/>\n",
              "    <path d=\"M18.56 5.44l.94 2.06.94-2.06 2.06-.94-2.06-.94-.94-2.06-.94 2.06-2.06.94zm-11 1L8.5 8.5l.94-2.06 2.06-.94-2.06-.94L8.5 2.5l-.94 2.06-2.06.94zm10 10l.94 2.06.94-2.06 2.06-.94-2.06-.94-.94-2.06-.94 2.06-2.06.94z\"/><path d=\"M17.41 7.96l-1.37-1.37c-.4-.4-.92-.59-1.43-.59-.52 0-1.04.2-1.43.59L10.3 9.45l-7.72 7.72c-.78.78-.78 2.05 0 2.83L4 21.41c.39.39.9.59 1.41.59.51 0 1.02-.2 1.41-.59l7.78-7.78 2.81-2.81c.8-.78.8-2.07 0-2.86zM5.41 20L4 18.59l7.72-7.72 1.47 1.35L5.41 20z\"/>\n",
              "  </svg>\n",
              "      </button>\n",
              "      \n",
              "  <style>\n",
              "    .colab-df-container {\n",
              "      display:flex;\n",
              "      flex-wrap:wrap;\n",
              "      gap: 12px;\n",
              "    }\n",
              "\n",
              "    .colab-df-convert {\n",
              "      background-color: #E8F0FE;\n",
              "      border: none;\n",
              "      border-radius: 50%;\n",
              "      cursor: pointer;\n",
              "      display: none;\n",
              "      fill: #1967D2;\n",
              "      height: 32px;\n",
              "      padding: 0 0 0 0;\n",
              "      width: 32px;\n",
              "    }\n",
              "\n",
              "    .colab-df-convert:hover {\n",
              "      background-color: #E2EBFA;\n",
              "      box-shadow: 0px 1px 2px rgba(60, 64, 67, 0.3), 0px 1px 3px 1px rgba(60, 64, 67, 0.15);\n",
              "      fill: #174EA6;\n",
              "    }\n",
              "\n",
              "    [theme=dark] .colab-df-convert {\n",
              "      background-color: #3B4455;\n",
              "      fill: #D2E3FC;\n",
              "    }\n",
              "\n",
              "    [theme=dark] .colab-df-convert:hover {\n",
              "      background-color: #434B5C;\n",
              "      box-shadow: 0px 1px 3px 1px rgba(0, 0, 0, 0.15);\n",
              "      filter: drop-shadow(0px 1px 2px rgba(0, 0, 0, 0.3));\n",
              "      fill: #FFFFFF;\n",
              "    }\n",
              "  </style>\n",
              "\n",
              "      <script>\n",
              "        const buttonEl =\n",
              "          document.querySelector('#df-759eedcc-34bc-47fb-a372-515c7803c0d3 button.colab-df-convert');\n",
              "        buttonEl.style.display =\n",
              "          google.colab.kernel.accessAllowed ? 'block' : 'none';\n",
              "\n",
              "        async function convertToInteractive(key) {\n",
              "          const element = document.querySelector('#df-759eedcc-34bc-47fb-a372-515c7803c0d3');\n",
              "          const dataTable =\n",
              "            await google.colab.kernel.invokeFunction('convertToInteractive',\n",
              "                                                     [key], {});\n",
              "          if (!dataTable) return;\n",
              "\n",
              "          const docLinkHtml = 'Like what you see? Visit the ' +\n",
              "            '<a target=\"_blank\" href=https://colab.research.google.com/notebooks/data_table.ipynb>data table notebook</a>'\n",
              "            + ' to learn more about interactive tables.';\n",
              "          element.innerHTML = '';\n",
              "          dataTable['output_type'] = 'display_data';\n",
              "          await google.colab.output.renderOutput(dataTable, element);\n",
              "          const docLink = document.createElement('div');\n",
              "          docLink.innerHTML = docLinkHtml;\n",
              "          element.appendChild(docLink);\n",
              "        }\n",
              "      </script>\n",
              "    </div>\n",
              "  </div>\n",
              "  "
            ]
          },
          "metadata": {},
          "execution_count": 110
        }
      ]
    },
    {
      "cell_type": "code",
      "source": [
        "fig, ax = plt.subplots(figsize =(20,7))\n",
        "ax.bar(top_game9['title'][:10],top_game9[\"count\"][:10],width=0.7, edgecolor=\"white\", linewidth=1)\n",
        "# ax.set(xlim=(0, 8),ylim=(0, 8))\n",
        "plt.title('Top Simulation Games')\n",
        "plt.xlabel('Name of games')\n",
        "plt.ylabel('Count')\n",
        "plt.show()"
      ],
      "metadata": {
        "colab": {
          "base_uri": "https://localhost:8080/",
          "height": 458
        },
        "id": "PLHOwuzxGdCF",
        "outputId": "fcd7b453-7d08-4b2d-c37e-8051eb2e3136"
      },
      "execution_count": null,
      "outputs": [
        {
          "output_type": "display_data",
          "data": {
            "text/plain": [
              "<Figure size 1440x504 with 1 Axes>"
            ],
            "image/png": "[encoded data removed]"
          },
          "metadata": {
            "needs_background": "light"
          }
        }
      ]
    },
    {
      "cell_type": "markdown",
      "source": [
        "### By Sandbox"
      ],
      "metadata": {
        "id": "teEDAtQz_85N"
      }
    },
    {
      "cell_type": "code",
      "source": [
        "top_game10 = ganre_2.select('title').filter(\"col == 'Sandbox'\").groupBy(\"title\").count().orderBy(f.col('count').desc())"
      ],
      "metadata": {
        "id": "hEfmUIPSABhk"
      },
      "execution_count": null,
      "outputs": []
    },
    {
      "cell_type": "code",
      "source": [
        "top_game10.show(10)"
      ],
      "metadata": {
        "id": "y3g-ssfxABmR",
        "colab": {
          "base_uri": "https://localhost:8080/"
        },
        "outputId": "cbf0bd24-b375-4afb-ac18-3349d877c787"
      },
      "execution_count": null,
      "outputs": [
        {
          "output_type": "stream",
          "name": "stdout",
          "text": [
            "+--------------------+------+\n",
            "|               title| count|\n",
            "+--------------------+------+\n",
            "|                Rust|251447|\n",
            "|        No Man's Sky|150267|\n",
            "|    Wallpaper Engine|149644|\n",
            "|  Grand Theft Auto V|148839|\n",
            "|           Fallout 4|148538|\n",
            "|Red Dead Redempti...|117967|\n",
            "|              Arma 3|115929|\n",
            "|   Hearts of Iron IV|104752|\n",
            "|        BeamNG.drive| 90970|\n",
            "|              VRChat| 87365|\n",
            "+--------------------+------+\n",
            "only showing top 10 rows\n",
            "\n"
          ]
        }
      ]
    },
    {
      "cell_type": "code",
      "source": [
        "top_game10 = top_game10.toPandas()\n",
        "top_game10.head(10)"
      ],
      "metadata": {
        "colab": {
          "base_uri": "https://localhost:8080/",
          "height": 363
        },
        "id": "5mchWJqrHf5T",
        "outputId": "1c5d47e1-c3fc-4e02-a003-acf267c8c879"
      },
      "execution_count": null,
      "outputs": [
        {
          "output_type": "execute_result",
          "data": {
            "text/plain": [
              "                   title   count\n",
              "0                   Rust  251447\n",
              "1           No Man's Sky  150267\n",
              "2       Wallpaper Engine  149644\n",
              "3     Grand Theft Auto V  148839\n",
              "4              Fallout 4  148538\n",
              "5  Red Dead Redemption 2  117967\n",
              "6                 Arma 3  115929\n",
              "7      Hearts of Iron IV  104752\n",
              "8           BeamNG.drive   90970\n",
              "9                 VRChat   87365"
            ],
            "text/html": [
              "\n",
              "  <div id=\"df-d258cf8b-83b8-4142-8a03-e6479756f082\">\n",
              "    <div class=\"colab-df-container\">\n",
              "      <div>\n",
              "<style scoped>\n",
              "    .dataframe tbody tr th:only-of-type {\n",
              "        vertical-align: middle;\n",
              "    }\n",
              "\n",
              "    .dataframe tbody tr th {\n",
              "        vertical-align: top;\n",
              "    }\n",
              "\n",
              "    .dataframe thead th {\n",
              "        text-align: right;\n",
              "    }\n",
              "</style>\n",
              "<table border=\"1\" class=\"dataframe\">\n",
              "  <thead>\n",
              "    <tr style=\"text-align: right;\">\n",
              "      <th></th>\n",
              "      <th>title</th>\n",
              "      <th>count</th>\n",
              "    </tr>\n",
              "  </thead>\n",
              "  <tbody>\n",
              "    <tr>\n",
              "      <th>0</th>\n",
              "      <td>Rust</td>\n",
              "      <td>251447</td>\n",
              "    </tr>\n",
              "    <tr>\n",
              "      <th>1</th>\n",
              "      <td>No Man's Sky</td>\n",
              "      <td>150267</td>\n",
              "    </tr>\n",
              "    <tr>\n",
              "      <th>2</th>\n",
              "      <td>Wallpaper Engine</td>\n",
              "      <td>149644</td>\n",
              "    </tr>\n",
              "    <tr>\n",
              "      <th>3</th>\n",
              "      <td>Grand Theft Auto V</td>\n",
              "      <td>148839</td>\n",
              "    </tr>\n",
              "    <tr>\n",
              "      <th>4</th>\n",
              "      <td>Fallout 4</td>\n",
              "      <td>148538</td>\n",
              "    </tr>\n",
              "    <tr>\n",
              "      <th>5</th>\n",
              "      <td>Red Dead Redemption 2</td>\n",
              "      <td>117967</td>\n",
              "    </tr>\n",
              "    <tr>\n",
              "      <th>6</th>\n",
              "      <td>Arma 3</td>\n",
              "      <td>115929</td>\n",
              "    </tr>\n",
              "    <tr>\n",
              "      <th>7</th>\n",
              "      <td>Hearts of Iron IV</td>\n",
              "      <td>104752</td>\n",
              "    </tr>\n",
              "    <tr>\n",
              "      <th>8</th>\n",
              "      <td>BeamNG.drive</td>\n",
              "      <td>90970</td>\n",
              "    </tr>\n",
              "    <tr>\n",
              "      <th>9</th>\n",
              "      <td>VRChat</td>\n",
              "      <td>87365</td>\n",
              "    </tr>\n",
              "  </tbody>\n",
              "</table>\n",
              "</div>\n",
              "      <button class=\"colab-df-convert\" onclick=\"convertToInteractive('df-d258cf8b-83b8-4142-8a03-e6479756f082')\"\n",
              "              title=\"Convert this dataframe to an interactive table.\"\n",
              "              style=\"display:none;\">\n",
              "        \n",
              "  <svg xmlns=\"http://www.w3.org/2000/svg\" height=\"24px\"viewBox=\"0 0 24 24\"\n",
              "       width=\"24px\">\n",
              "    <path d=\"M0 0h24v24H0V0z\" fill=\"none\"/>\n",
              "    <path d=\"M18.56 5.44l.94 2.06.94-2.06 2.06-.94-2.06-.94-.94-2.06-.94 2.06-2.06.94zm-11 1L8.5 8.5l.94-2.06 2.06-.94-2.06-.94L8.5 2.5l-.94 2.06-2.06.94zm10 10l.94 2.06.94-2.06 2.06-.94-2.06-.94-.94-2.06-.94 2.06-2.06.94z\"/><path d=\"M17.41 7.96l-1.37-1.37c-.4-.4-.92-.59-1.43-.59-.52 0-1.04.2-1.43.59L10.3 9.45l-7.72 7.72c-.78.78-.78 2.05 0 2.83L4 21.41c.39.39.9.59 1.41.59.51 0 1.02-.2 1.41-.59l7.78-7.78 2.81-2.81c.8-.78.8-2.07 0-2.86zM5.41 20L4 18.59l7.72-7.72 1.47 1.35L5.41 20z\"/>\n",
              "  </svg>\n",
              "      </button>\n",
              "      \n",
              "  <style>\n",
              "    .colab-df-container {\n",
              "      display:flex;\n",
              "      flex-wrap:wrap;\n",
              "      gap: 12px;\n",
              "    }\n",
              "\n",
              "    .colab-df-convert {\n",
              "      background-color: #E8F0FE;\n",
              "      border: none;\n",
              "      border-radius: 50%;\n",
              "      cursor: pointer;\n",
              "      display: none;\n",
              "      fill: #1967D2;\n",
              "      height: 32px;\n",
              "      padding: 0 0 0 0;\n",
              "      width: 32px;\n",
              "    }\n",
              "\n",
              "    .colab-df-convert:hover {\n",
              "      background-color: #E2EBFA;\n",
              "      box-shadow: 0px 1px 2px rgba(60, 64, 67, 0.3), 0px 1px 3px 1px rgba(60, 64, 67, 0.15);\n",
              "      fill: #174EA6;\n",
              "    }\n",
              "\n",
              "    [theme=dark] .colab-df-convert {\n",
              "      background-color: #3B4455;\n",
              "      fill: #D2E3FC;\n",
              "    }\n",
              "\n",
              "    [theme=dark] .colab-df-convert:hover {\n",
              "      background-color: #434B5C;\n",
              "      box-shadow: 0px 1px 3px 1px rgba(0, 0, 0, 0.15);\n",
              "      filter: drop-shadow(0px 1px 2px rgba(0, 0, 0, 0.3));\n",
              "      fill: #FFFFFF;\n",
              "    }\n",
              "  </style>\n",
              "\n",
              "      <script>\n",
              "        const buttonEl =\n",
              "          document.querySelector('#df-d258cf8b-83b8-4142-8a03-e6479756f082 button.colab-df-convert');\n",
              "        buttonEl.style.display =\n",
              "          google.colab.kernel.accessAllowed ? 'block' : 'none';\n",
              "\n",
              "        async function convertToInteractive(key) {\n",
              "          const element = document.querySelector('#df-d258cf8b-83b8-4142-8a03-e6479756f082');\n",
              "          const dataTable =\n",
              "            await google.colab.kernel.invokeFunction('convertToInteractive',\n",
              "                                                     [key], {});\n",
              "          if (!dataTable) return;\n",
              "\n",
              "          const docLinkHtml = 'Like what you see? Visit the ' +\n",
              "            '<a target=\"_blank\" href=https://colab.research.google.com/notebooks/data_table.ipynb>data table notebook</a>'\n",
              "            + ' to learn more about interactive tables.';\n",
              "          element.innerHTML = '';\n",
              "          dataTable['output_type'] = 'display_data';\n",
              "          await google.colab.output.renderOutput(dataTable, element);\n",
              "          const docLink = document.createElement('div');\n",
              "          docLink.innerHTML = docLinkHtml;\n",
              "          element.appendChild(docLink);\n",
              "        }\n",
              "      </script>\n",
              "    </div>\n",
              "  </div>\n",
              "  "
            ]
          },
          "metadata": {},
          "execution_count": 114
        }
      ]
    },
    {
      "cell_type": "code",
      "source": [
        "fig, ax = plt.subplots(figsize =(20,7))\n",
        "ax.bar(top_game10['title'][:10],top_game10[\"count\"][:10],width=0.7, edgecolor=\"white\", linewidth=1)\n",
        "# ax.set(xlim=(0, 8),ylim=(0, 8))\n",
        "plt.title('Top Sandbox Games')\n",
        "plt.xlabel('Name of games')\n",
        "plt.ylabel('Count')\n",
        "plt.show()"
      ],
      "metadata": {
        "colab": {
          "base_uri": "https://localhost:8080/",
          "height": 458
        },
        "id": "w0-gdPADHmw3",
        "outputId": "dd8cb0d6-4bc7-4105-eec0-fd774ebb8651"
      },
      "execution_count": null,
      "outputs": [
        {
          "output_type": "display_data",
          "data": {
            "text/plain": [
              "<Figure size 1440x504 with 1 Axes>"
            ],
            "image/png": "[encoded data removed]"
          },
          "metadata": {
            "needs_background": "light"
          }
        }
      ]
    },
    {
      "cell_type": "markdown",
      "source": [
        "## ----Top user by time----"
      ],
      "metadata": {
        "id": "7T5APY61jF_w"
      }
    },
    {
      "cell_type": "code",
      "source": [
        "trend = all_data.groupBy(\"title\",'date_release').count().orderBy(f.col('count').desc())"
      ],
      "metadata": {
        "id": "U1I_-0Wj6V8X"
      },
      "execution_count": null,
      "outputs": []
    },
    {
      "cell_type": "code",
      "source": [
        "trend.show(10)"
      ],
      "metadata": {
        "colab": {
          "base_uri": "https://localhost:8080/"
        },
        "id": "g3Efj0_Y6aT8",
        "outputId": "8ccfcd25-9483-446a-a37b-267355a2ab4d"
      },
      "execution_count": null,
      "outputs": [
        {
          "output_type": "stream",
          "name": "stdout",
          "text": [
            "+--------------------+------------+------+\n",
            "|               title|date_release| count|\n",
            "+--------------------+------------+------+\n",
            "|                Rust|  2018-02-08|251447|\n",
            "|Counter-Strike: G...|  2012-08-21|172422|\n",
            "|        No Man's Sky|  2016-08-12|150267|\n",
            "|    Wallpaper Engine|  2018-11-01|149644|\n",
            "|  Grand Theft Auto V|  2015-04-13|148839|\n",
            "|           Fallout 4|  2015-11-09|148538|\n",
            "|Call of Duty®: Mo...|  2022-10-27|131361|\n",
            "|Red Dead Redempti...|  2019-12-05|117967|\n",
            "|              Arma 3|  2013-09-12|115929|\n",
            "|       Path of Exile|  2013-10-23|111579|\n",
            "+--------------------+------------+------+\n",
            "only showing top 10 rows\n",
            "\n"
          ]
        }
      ]
    },
    {
      "cell_type": "code",
      "source": [
        "trend = trend.toPandas()\n",
        "trend.head(10)"
      ],
      "metadata": {
        "colab": {
          "base_uri": "https://localhost:8080/",
          "height": 363
        },
        "id": "F8RepvqYIx1F",
        "outputId": "9c134376-e16f-4437-ee9c-c4632e79d157"
      },
      "execution_count": null,
      "outputs": [
        {
          "output_type": "execute_result",
          "data": {
            "text/plain": [
              "                               title date_release   count\n",
              "0                               Rust   2018-02-08  251447\n",
              "1   Counter-Strike: Global Offensive   2012-08-21  172422\n",
              "2                       No Man's Sky   2016-08-12  150267\n",
              "3                   Wallpaper Engine   2018-11-01  149644\n",
              "4                 Grand Theft Auto V   2015-04-13  148839\n",
              "5                          Fallout 4   2015-11-09  148538\n",
              "6  Call of Duty®: Modern Warfare® II   2022-10-27  131361\n",
              "7              Red Dead Redemption 2   2019-12-05  117967\n",
              "8                             Arma 3   2013-09-12  115929\n",
              "9                      Path of Exile   2013-10-23  111579"
            ],
            "text/html": [
              "\n",
              "  <div id=\"df-10859d2c-7eb3-46c0-896d-a7b643337bb1\">\n",
              "    <div class=\"colab-df-container\">\n",
              "      <div>\n",
              "<style scoped>\n",
              "    .dataframe tbody tr th:only-of-type {\n",
              "        vertical-align: middle;\n",
              "    }\n",
              "\n",
              "    .dataframe tbody tr th {\n",
              "        vertical-align: top;\n",
              "    }\n",
              "\n",
              "    .dataframe thead th {\n",
              "        text-align: right;\n",
              "    }\n",
              "</style>\n",
              "<table border=\"1\" class=\"dataframe\">\n",
              "  <thead>\n",
              "    <tr style=\"text-align: right;\">\n",
              "      <th></th>\n",
              "      <th>title</th>\n",
              "      <th>date_release</th>\n",
              "      <th>count</th>\n",
              "    </tr>\n",
              "  </thead>\n",
              "  <tbody>\n",
              "    <tr>\n",
              "      <th>0</th>\n",
              "      <td>Rust</td>\n",
              "      <td>2018-02-08</td>\n",
              "      <td>251447</td>\n",
              "    </tr>\n",
              "    <tr>\n",
              "      <th>1</th>\n",
              "      <td>Counter-Strike: Global Offensive</td>\n",
              "      <td>2012-08-21</td>\n",
              "      <td>172422</td>\n",
              "    </tr>\n",
              "    <tr>\n",
              "      <th>2</th>\n",
              "      <td>No Man's Sky</td>\n",
              "      <td>2016-08-12</td>\n",
              "      <td>150267</td>\n",
              "    </tr>\n",
              "    <tr>\n",
              "      <th>3</th>\n",
              "      <td>Wallpaper Engine</td>\n",
              "      <td>2018-11-01</td>\n",
              "      <td>149644</td>\n",
              "    </tr>\n",
              "    <tr>\n",
              "      <th>4</th>\n",
              "      <td>Grand Theft Auto V</td>\n",
              "      <td>2015-04-13</td>\n",
              "      <td>148839</td>\n",
              "    </tr>\n",
              "    <tr>\n",
              "      <th>5</th>\n",
              "      <td>Fallout 4</td>\n",
              "      <td>2015-11-09</td>\n",
              "      <td>148538</td>\n",
              "    </tr>\n",
              "    <tr>\n",
              "      <th>6</th>\n",
              "      <td>Call of Duty®: Modern Warfare® II</td>\n",
              "      <td>2022-10-27</td>\n",
              "      <td>131361</td>\n",
              "    </tr>\n",
              "    <tr>\n",
              "      <th>7</th>\n",
              "      <td>Red Dead Redemption 2</td>\n",
              "      <td>2019-12-05</td>\n",
              "      <td>117967</td>\n",
              "    </tr>\n",
              "    <tr>\n",
              "      <th>8</th>\n",
              "      <td>Arma 3</td>\n",
              "      <td>2013-09-12</td>\n",
              "      <td>115929</td>\n",
              "    </tr>\n",
              "    <tr>\n",
              "      <th>9</th>\n",
              "      <td>Path of Exile</td>\n",
              "      <td>2013-10-23</td>\n",
              "      <td>111579</td>\n",
              "    </tr>\n",
              "  </tbody>\n",
              "</table>\n",
              "</div>\n",
              "      <button class=\"colab-df-convert\" onclick=\"convertToInteractive('df-10859d2c-7eb3-46c0-896d-a7b643337bb1')\"\n",
              "              title=\"Convert this dataframe to an interactive table.\"\n",
              "              style=\"display:none;\">\n",
              "        \n",
              "  <svg xmlns=\"http://www.w3.org/2000/svg\" height=\"24px\"viewBox=\"0 0 24 24\"\n",
              "       width=\"24px\">\n",
              "    <path d=\"M0 0h24v24H0V0z\" fill=\"none\"/>\n",
              "    <path d=\"M18.56 5.44l.94 2.06.94-2.06 2.06-.94-2.06-.94-.94-2.06-.94 2.06-2.06.94zm-11 1L8.5 8.5l.94-2.06 2.06-.94-2.06-.94L8.5 2.5l-.94 2.06-2.06.94zm10 10l.94 2.06.94-2.06 2.06-.94-2.06-.94-.94-2.06-.94 2.06-2.06.94z\"/><path d=\"M17.41 7.96l-1.37-1.37c-.4-.4-.92-.59-1.43-.59-.52 0-1.04.2-1.43.59L10.3 9.45l-7.72 7.72c-.78.78-.78 2.05 0 2.83L4 21.41c.39.39.9.59 1.41.59.51 0 1.02-.2 1.41-.59l7.78-7.78 2.81-2.81c.8-.78.8-2.07 0-2.86zM5.41 20L4 18.59l7.72-7.72 1.47 1.35L5.41 20z\"/>\n",
              "  </svg>\n",
              "      </button>\n",
              "      \n",
              "  <style>\n",
              "    .colab-df-container {\n",
              "      display:flex;\n",
              "      flex-wrap:wrap;\n",
              "      gap: 12px;\n",
              "    }\n",
              "\n",
              "    .colab-df-convert {\n",
              "      background-color: #E8F0FE;\n",
              "      border: none;\n",
              "      border-radius: 50%;\n",
              "      cursor: pointer;\n",
              "      display: none;\n",
              "      fill: #1967D2;\n",
              "      height: 32px;\n",
              "      padding: 0 0 0 0;\n",
              "      width: 32px;\n",
              "    }\n",
              "\n",
              "    .colab-df-convert:hover {\n",
              "      background-color: #E2EBFA;\n",
              "      box-shadow: 0px 1px 2px rgba(60, 64, 67, 0.3), 0px 1px 3px 1px rgba(60, 64, 67, 0.15);\n",
              "      fill: #174EA6;\n",
              "    }\n",
              "\n",
              "    [theme=dark] .colab-df-convert {\n",
              "      background-color: #3B4455;\n",
              "      fill: #D2E3FC;\n",
              "    }\n",
              "\n",
              "    [theme=dark] .colab-df-convert:hover {\n",
              "      background-color: #434B5C;\n",
              "      box-shadow: 0px 1px 3px 1px rgba(0, 0, 0, 0.15);\n",
              "      filter: drop-shadow(0px 1px 2px rgba(0, 0, 0, 0.3));\n",
              "      fill: #FFFFFF;\n",
              "    }\n",
              "  </style>\n",
              "\n",
              "      <script>\n",
              "        const buttonEl =\n",
              "          document.querySelector('#df-10859d2c-7eb3-46c0-896d-a7b643337bb1 button.colab-df-convert');\n",
              "        buttonEl.style.display =\n",
              "          google.colab.kernel.accessAllowed ? 'block' : 'none';\n",
              "\n",
              "        async function convertToInteractive(key) {\n",
              "          const element = document.querySelector('#df-10859d2c-7eb3-46c0-896d-a7b643337bb1');\n",
              "          const dataTable =\n",
              "            await google.colab.kernel.invokeFunction('convertToInteractive',\n",
              "                                                     [key], {});\n",
              "          if (!dataTable) return;\n",
              "\n",
              "          const docLinkHtml = 'Like what you see? Visit the ' +\n",
              "            '<a target=\"_blank\" href=https://colab.research.google.com/notebooks/data_table.ipynb>data table notebook</a>'\n",
              "            + ' to learn more about interactive tables.';\n",
              "          element.innerHTML = '';\n",
              "          dataTable['output_type'] = 'display_data';\n",
              "          await google.colab.output.renderOutput(dataTable, element);\n",
              "          const docLink = document.createElement('div');\n",
              "          docLink.innerHTML = docLinkHtml;\n",
              "          element.appendChild(docLink);\n",
              "        }\n",
              "      </script>\n",
              "    </div>\n",
              "  </div>\n",
              "  "
            ]
          },
          "metadata": {},
          "execution_count": 118
        }
      ]
    },
    {
      "cell_type": "code",
      "source": [
        "fig, ax = plt.subplots(figsize =(20,7))\n",
        "ax.bar(trend['title'][:10],trend[\"count\"][:10],width=0.7, edgecolor=\"white\", linewidth=1)\n",
        "# ax.set(xlim=(0, 8),ylim=(0, 8))\n",
        "plt.title('All time')\n",
        "plt.xlabel('Name of games')\n",
        "plt.ylabel('Count')\n",
        "plt.show()"
      ],
      "metadata": {
        "colab": {
          "base_uri": "https://localhost:8080/",
          "height": 458
        },
        "id": "LelDzYhVKW8x",
        "outputId": "6bc0bb73-6ff8-4301-ae6e-6bc1ddf2ccbe"
      },
      "execution_count": null,
      "outputs": [
        {
          "output_type": "display_data",
          "data": {
            "text/plain": [
              "<Figure size 1440x504 with 1 Axes>"
            ],
            "image/png": "[encoded data removed]"
          },
          "metadata": {
            "needs_background": "light"
          }
        }
      ]
    },
    {
      "cell_type": "markdown",
      "source": [
        "### Before 2000's\n"
      ],
      "metadata": {
        "id": "rhunDAP9pR5D"
      }
    },
    {
      "cell_type": "code",
      "source": [
        "trend1 = all_data.filter((f.year('date_release') < lit('2000'))).groupBy(\"title\",'date_release').count().orderBy(f.col('count').desc())"
      ],
      "metadata": {
        "id": "4jJCJU5Ojnvq"
      },
      "execution_count": null,
      "outputs": []
    },
    {
      "cell_type": "code",
      "source": [
        "trend1.show()"
      ],
      "metadata": {
        "id": "TLfS1R2iog-N",
        "colab": {
          "base_uri": "https://localhost:8080/"
        },
        "outputId": "3f9cb2eb-7829-42d2-b93a-e135593648ab"
      },
      "execution_count": null,
      "outputs": [
        {
          "output_type": "stream",
          "name": "stdout",
          "text": [
            "+--------------------+------------+-----+\n",
            "|               title|date_release|count|\n",
            "+--------------------+------------+-----+\n",
            "|Carmageddon Max Pack|  1997-06-30|    1|\n",
            "|           Half-Life|  1998-11-08|    1|\n",
            "|Team Fortress Cla...|  1999-04-01|    1|\n",
            "|Half-Life: Opposi...|  1999-11-01|    1|\n",
            "+--------------------+------------+-----+\n",
            "\n"
          ]
        }
      ]
    },
    {
      "cell_type": "code",
      "source": [
        "trend1= trend1.toPandas()\n",
        "trend1.head(10)"
      ],
      "metadata": {
        "colab": {
          "base_uri": "https://localhost:8080/",
          "height": 175
        },
        "id": "6GJN6t7HLsfm",
        "outputId": "1fd5c6ba-05be-4f45-d7cc-829da7ff7f57"
      },
      "execution_count": null,
      "outputs": [
        {
          "output_type": "execute_result",
          "data": {
            "text/plain": [
              "                       title date_release  count\n",
              "0       Carmageddon Max Pack   1997-06-30      1\n",
              "1                  Half-Life   1998-11-08      1\n",
              "2      Team Fortress Classic   1999-04-01      1\n",
              "3  Half-Life: Opposing Force   1999-11-01      1"
            ],
            "text/html": [
              "\n",
              "  <div id=\"df-0ab0e58b-ddf1-4807-ae94-d5ea04e2dfff\">\n",
              "    <div class=\"colab-df-container\">\n",
              "      <div>\n",
              "<style scoped>\n",
              "    .dataframe tbody tr th:only-of-type {\n",
              "        vertical-align: middle;\n",
              "    }\n",
              "\n",
              "    .dataframe tbody tr th {\n",
              "        vertical-align: top;\n",
              "    }\n",
              "\n",
              "    .dataframe thead th {\n",
              "        text-align: right;\n",
              "    }\n",
              "</style>\n",
              "<table border=\"1\" class=\"dataframe\">\n",
              "  <thead>\n",
              "    <tr style=\"text-align: right;\">\n",
              "      <th></th>\n",
              "      <th>title</th>\n",
              "      <th>date_release</th>\n",
              "      <th>count</th>\n",
              "    </tr>\n",
              "  </thead>\n",
              "  <tbody>\n",
              "    <tr>\n",
              "      <th>0</th>\n",
              "      <td>Carmageddon Max Pack</td>\n",
              "      <td>1997-06-30</td>\n",
              "      <td>1</td>\n",
              "    </tr>\n",
              "    <tr>\n",
              "      <th>1</th>\n",
              "      <td>Half-Life</td>\n",
              "      <td>1998-11-08</td>\n",
              "      <td>1</td>\n",
              "    </tr>\n",
              "    <tr>\n",
              "      <th>2</th>\n",
              "      <td>Team Fortress Classic</td>\n",
              "      <td>1999-04-01</td>\n",
              "      <td>1</td>\n",
              "    </tr>\n",
              "    <tr>\n",
              "      <th>3</th>\n",
              "      <td>Half-Life: Opposing Force</td>\n",
              "      <td>1999-11-01</td>\n",
              "      <td>1</td>\n",
              "    </tr>\n",
              "  </tbody>\n",
              "</table>\n",
              "</div>\n",
              "      <button class=\"colab-df-convert\" onclick=\"convertToInteractive('df-0ab0e58b-ddf1-4807-ae94-d5ea04e2dfff')\"\n",
              "              title=\"Convert this dataframe to an interactive table.\"\n",
              "              style=\"display:none;\">\n",
              "        \n",
              "  <svg xmlns=\"http://www.w3.org/2000/svg\" height=\"24px\"viewBox=\"0 0 24 24\"\n",
              "       width=\"24px\">\n",
              "    <path d=\"M0 0h24v24H0V0z\" fill=\"none\"/>\n",
              "    <path d=\"M18.56 5.44l.94 2.06.94-2.06 2.06-.94-2.06-.94-.94-2.06-.94 2.06-2.06.94zm-11 1L8.5 8.5l.94-2.06 2.06-.94-2.06-.94L8.5 2.5l-.94 2.06-2.06.94zm10 10l.94 2.06.94-2.06 2.06-.94-2.06-.94-.94-2.06-.94 2.06-2.06.94z\"/><path d=\"M17.41 7.96l-1.37-1.37c-.4-.4-.92-.59-1.43-.59-.52 0-1.04.2-1.43.59L10.3 9.45l-7.72 7.72c-.78.78-.78 2.05 0 2.83L4 21.41c.39.39.9.59 1.41.59.51 0 1.02-.2 1.41-.59l7.78-7.78 2.81-2.81c.8-.78.8-2.07 0-2.86zM5.41 20L4 18.59l7.72-7.72 1.47 1.35L5.41 20z\"/>\n",
              "  </svg>\n",
              "      </button>\n",
              "      \n",
              "  <style>\n",
              "    .colab-df-container {\n",
              "      display:flex;\n",
              "      flex-wrap:wrap;\n",
              "      gap: 12px;\n",
              "    }\n",
              "\n",
              "    .colab-df-convert {\n",
              "      background-color: #E8F0FE;\n",
              "      border: none;\n",
              "      border-radius: 50%;\n",
              "      cursor: pointer;\n",
              "      display: none;\n",
              "      fill: #1967D2;\n",
              "      height: 32px;\n",
              "      padding: 0 0 0 0;\n",
              "      width: 32px;\n",
              "    }\n",
              "\n",
              "    .colab-df-convert:hover {\n",
              "      background-color: #E2EBFA;\n",
              "      box-shadow: 0px 1px 2px rgba(60, 64, 67, 0.3), 0px 1px 3px 1px rgba(60, 64, 67, 0.15);\n",
              "      fill: #174EA6;\n",
              "    }\n",
              "\n",
              "    [theme=dark] .colab-df-convert {\n",
              "      background-color: #3B4455;\n",
              "      fill: #D2E3FC;\n",
              "    }\n",
              "\n",
              "    [theme=dark] .colab-df-convert:hover {\n",
              "      background-color: #434B5C;\n",
              "      box-shadow: 0px 1px 3px 1px rgba(0, 0, 0, 0.15);\n",
              "      filter: drop-shadow(0px 1px 2px rgba(0, 0, 0, 0.3));\n",
              "      fill: #FFFFFF;\n",
              "    }\n",
              "  </style>\n",
              "\n",
              "      <script>\n",
              "        const buttonEl =\n",
              "          document.querySelector('#df-0ab0e58b-ddf1-4807-ae94-d5ea04e2dfff button.colab-df-convert');\n",
              "        buttonEl.style.display =\n",
              "          google.colab.kernel.accessAllowed ? 'block' : 'none';\n",
              "\n",
              "        async function convertToInteractive(key) {\n",
              "          const element = document.querySelector('#df-0ab0e58b-ddf1-4807-ae94-d5ea04e2dfff');\n",
              "          const dataTable =\n",
              "            await google.colab.kernel.invokeFunction('convertToInteractive',\n",
              "                                                     [key], {});\n",
              "          if (!dataTable) return;\n",
              "\n",
              "          const docLinkHtml = 'Like what you see? Visit the ' +\n",
              "            '<a target=\"_blank\" href=https://colab.research.google.com/notebooks/data_table.ipynb>data table notebook</a>'\n",
              "            + ' to learn more about interactive tables.';\n",
              "          element.innerHTML = '';\n",
              "          dataTable['output_type'] = 'display_data';\n",
              "          await google.colab.output.renderOutput(dataTable, element);\n",
              "          const docLink = document.createElement('div');\n",
              "          docLink.innerHTML = docLinkHtml;\n",
              "          element.appendChild(docLink);\n",
              "        }\n",
              "      </script>\n",
              "    </div>\n",
              "  </div>\n",
              "  "
            ]
          },
          "metadata": {},
          "execution_count": 122
        }
      ]
    },
    {
      "cell_type": "code",
      "source": [
        "fig, ax = plt.subplots(figsize =(15,7))\n",
        "ax.bar(trend1['title'][:10],trend1[\"count\"][:10],width=0.7, edgecolor=\"white\", linewidth=1)\n",
        "# ax.set(xlim=(0, 8),ylim=(0, 8))\n",
        "plt.title(\"Before 2000's\")\n",
        "plt.xlabel('Name of games')\n",
        "plt.ylabel('Count')\n",
        "plt.show()"
      ],
      "metadata": {
        "colab": {
          "base_uri": "https://localhost:8080/",
          "height": 458
        },
        "id": "NYnolBY3LwZL",
        "outputId": "3a7dff1b-d45e-44f2-ed40-281c35de5813"
      },
      "execution_count": null,
      "outputs": [
        {
          "output_type": "display_data",
          "data": {
            "text/plain": [
              "<Figure size 1080x504 with 1 Axes>"
            ],
            "image/png": "[encoded data removed]"
          },
          "metadata": {
            "needs_background": "light"
          }
        }
      ]
    },
    {
      "cell_type": "markdown",
      "source": [
        "### 2000's - 2010's\n"
      ],
      "metadata": {
        "id": "-JXQpntrpbC0"
      }
    },
    {
      "cell_type": "code",
      "source": [
        "trend2 = all_data.filter((f.year('date_release') > lit('2000')) &(f.year('date_release') <= lit('2010'))).groupBy(\"title\",'date_release').count().orderBy(f.col('count').desc())"
      ],
      "metadata": {
        "id": "ecfceUAKpgw0"
      },
      "execution_count": null,
      "outputs": []
    },
    {
      "cell_type": "code",
      "source": [
        "trend2.show(10)"
      ],
      "metadata": {
        "id": "Az_t3Nxz1G6n",
        "colab": {
          "base_uri": "https://localhost:8080/"
        },
        "outputId": "78f71bfa-bc92-48db-b839-c1cea27e08c2"
      },
      "execution_count": null,
      "outputs": [
        {
          "output_type": "stream",
          "name": "stdout",
          "text": [
            "+--------------------+------------+-----+\n",
            "|               title|date_release|count|\n",
            "+--------------------+------------+-----+\n",
            "|         Garry's Mod|  2006-11-29|35199|\n",
            "|  Fallout: New Vegas|  2010-10-19|18488|\n",
            "|Call of Duty®: Bl...|  2010-11-09|18359|\n",
            "|       Left 4 Dead 2|  2009-11-16|11522|\n",
            "|     Team Fortress 2|  2007-10-10| 3787|\n",
            "|Space Quest™ Coll...|  2009-07-23|    1|\n",
            "|         X3: Reunion|  2006-07-21|    1|\n",
            "|  Bejeweled 2 Deluxe|  2006-08-30|    1|\n",
            "|             ArcaniA|  2010-10-15|    1|\n",
            "|        Patrician IV|  2010-09-17|    1|\n",
            "+--------------------+------------+-----+\n",
            "only showing top 10 rows\n",
            "\n"
          ]
        }
      ]
    },
    {
      "cell_type": "code",
      "source": [
        "trend2 = trend2.toPandas()\n",
        "trend2.head(10)"
      ],
      "metadata": {
        "colab": {
          "base_uri": "https://localhost:8080/",
          "height": 363
        },
        "id": "kgjrUVPbL-3U",
        "outputId": "0eabd5d6-d404-4490-eb4d-b83022b24f9d"
      },
      "execution_count": null,
      "outputs": [
        {
          "output_type": "execute_result",
          "data": {
            "text/plain": [
              "                      title date_release  count\n",
              "0               Garry's Mod   2006-11-29  35199\n",
              "1        Fallout: New Vegas   2010-10-19  18488\n",
              "2  Call of Duty®: Black Ops   2010-11-09  18359\n",
              "3             Left 4 Dead 2   2009-11-16  11522\n",
              "4           Team Fortress 2   2007-10-10   3787\n",
              "5   Space Quest™ Collection   2009-07-23      1\n",
              "6        Bejeweled 2 Deluxe   2006-08-30      1\n",
              "7               X3: Reunion   2006-07-21      1\n",
              "8                   ArcaniA   2010-10-15      1\n",
              "9              Patrician IV   2010-09-17      1"
            ],
            "text/html": [
              "\n",
              "  <div id=\"df-7f4f4c13-aa8a-4125-85dd-f91ac68aa204\">\n",
              "    <div class=\"colab-df-container\">\n",
              "      <div>\n",
              "<style scoped>\n",
              "    .dataframe tbody tr th:only-of-type {\n",
              "        vertical-align: middle;\n",
              "    }\n",
              "\n",
              "    .dataframe tbody tr th {\n",
              "        vertical-align: top;\n",
              "    }\n",
              "\n",
              "    .dataframe thead th {\n",
              "        text-align: right;\n",
              "    }\n",
              "</style>\n",
              "<table border=\"1\" class=\"dataframe\">\n",
              "  <thead>\n",
              "    <tr style=\"text-align: right;\">\n",
              "      <th></th>\n",
              "      <th>title</th>\n",
              "      <th>date_release</th>\n",
              "      <th>count</th>\n",
              "    </tr>\n",
              "  </thead>\n",
              "  <tbody>\n",
              "    <tr>\n",
              "      <th>0</th>\n",
              "      <td>Garry's Mod</td>\n",
              "      <td>2006-11-29</td>\n",
              "      <td>35199</td>\n",
              "    </tr>\n",
              "    <tr>\n",
              "      <th>1</th>\n",
              "      <td>Fallout: New Vegas</td>\n",
              "      <td>2010-10-19</td>\n",
              "      <td>18488</td>\n",
              "    </tr>\n",
              "    <tr>\n",
              "      <th>2</th>\n",
              "      <td>Call of Duty®: Black Ops</td>\n",
              "      <td>2010-11-09</td>\n",
              "      <td>18359</td>\n",
              "    </tr>\n",
              "    <tr>\n",
              "      <th>3</th>\n",
              "      <td>Left 4 Dead 2</td>\n",
              "      <td>2009-11-16</td>\n",
              "      <td>11522</td>\n",
              "    </tr>\n",
              "    <tr>\n",
              "      <th>4</th>\n",
              "      <td>Team Fortress 2</td>\n",
              "      <td>2007-10-10</td>\n",
              "      <td>3787</td>\n",
              "    </tr>\n",
              "    <tr>\n",
              "      <th>5</th>\n",
              "      <td>Space Quest™ Collection</td>\n",
              "      <td>2009-07-23</td>\n",
              "      <td>1</td>\n",
              "    </tr>\n",
              "    <tr>\n",
              "      <th>6</th>\n",
              "      <td>Bejeweled 2 Deluxe</td>\n",
              "      <td>2006-08-30</td>\n",
              "      <td>1</td>\n",
              "    </tr>\n",
              "    <tr>\n",
              "      <th>7</th>\n",
              "      <td>X3: Reunion</td>\n",
              "      <td>2006-07-21</td>\n",
              "      <td>1</td>\n",
              "    </tr>\n",
              "    <tr>\n",
              "      <th>8</th>\n",
              "      <td>ArcaniA</td>\n",
              "      <td>2010-10-15</td>\n",
              "      <td>1</td>\n",
              "    </tr>\n",
              "    <tr>\n",
              "      <th>9</th>\n",
              "      <td>Patrician IV</td>\n",
              "      <td>2010-09-17</td>\n",
              "      <td>1</td>\n",
              "    </tr>\n",
              "  </tbody>\n",
              "</table>\n",
              "</div>\n",
              "      <button class=\"colab-df-convert\" onclick=\"convertToInteractive('df-7f4f4c13-aa8a-4125-85dd-f91ac68aa204')\"\n",
              "              title=\"Convert this dataframe to an interactive table.\"\n",
              "              style=\"display:none;\">\n",
              "        \n",
              "  <svg xmlns=\"http://www.w3.org/2000/svg\" height=\"24px\"viewBox=\"0 0 24 24\"\n",
              "       width=\"24px\">\n",
              "    <path d=\"M0 0h24v24H0V0z\" fill=\"none\"/>\n",
              "    <path d=\"M18.56 5.44l.94 2.06.94-2.06 2.06-.94-2.06-.94-.94-2.06-.94 2.06-2.06.94zm-11 1L8.5 8.5l.94-2.06 2.06-.94-2.06-.94L8.5 2.5l-.94 2.06-2.06.94zm10 10l.94 2.06.94-2.06 2.06-.94-2.06-.94-.94-2.06-.94 2.06-2.06.94z\"/><path d=\"M17.41 7.96l-1.37-1.37c-.4-.4-.92-.59-1.43-.59-.52 0-1.04.2-1.43.59L10.3 9.45l-7.72 7.72c-.78.78-.78 2.05 0 2.83L4 21.41c.39.39.9.59 1.41.59.51 0 1.02-.2 1.41-.59l7.78-7.78 2.81-2.81c.8-.78.8-2.07 0-2.86zM5.41 20L4 18.59l7.72-7.72 1.47 1.35L5.41 20z\"/>\n",
              "  </svg>\n",
              "      </button>\n",
              "      \n",
              "  <style>\n",
              "    .colab-df-container {\n",
              "      display:flex;\n",
              "      flex-wrap:wrap;\n",
              "      gap: 12px;\n",
              "    }\n",
              "\n",
              "    .colab-df-convert {\n",
              "      background-color: #E8F0FE;\n",
              "      border: none;\n",
              "      border-radius: 50%;\n",
              "      cursor: pointer;\n",
              "      display: none;\n",
              "      fill: #1967D2;\n",
              "      height: 32px;\n",
              "      padding: 0 0 0 0;\n",
              "      width: 32px;\n",
              "    }\n",
              "\n",
              "    .colab-df-convert:hover {\n",
              "      background-color: #E2EBFA;\n",
              "      box-shadow: 0px 1px 2px rgba(60, 64, 67, 0.3), 0px 1px 3px 1px rgba(60, 64, 67, 0.15);\n",
              "      fill: #174EA6;\n",
              "    }\n",
              "\n",
              "    [theme=dark] .colab-df-convert {\n",
              "      background-color: #3B4455;\n",
              "      fill: #D2E3FC;\n",
              "    }\n",
              "\n",
              "    [theme=dark] .colab-df-convert:hover {\n",
              "      background-color: #434B5C;\n",
              "      box-shadow: 0px 1px 3px 1px rgba(0, 0, 0, 0.15);\n",
              "      filter: drop-shadow(0px 1px 2px rgba(0, 0, 0, 0.3));\n",
              "      fill: #FFFFFF;\n",
              "    }\n",
              "  </style>\n",
              "\n",
              "      <script>\n",
              "        const buttonEl =\n",
              "          document.querySelector('#df-7f4f4c13-aa8a-4125-85dd-f91ac68aa204 button.colab-df-convert');\n",
              "        buttonEl.style.display =\n",
              "          google.colab.kernel.accessAllowed ? 'block' : 'none';\n",
              "\n",
              "        async function convertToInteractive(key) {\n",
              "          const element = document.querySelector('#df-7f4f4c13-aa8a-4125-85dd-f91ac68aa204');\n",
              "          const dataTable =\n",
              "            await google.colab.kernel.invokeFunction('convertToInteractive',\n",
              "                                                     [key], {});\n",
              "          if (!dataTable) return;\n",
              "\n",
              "          const docLinkHtml = 'Like what you see? Visit the ' +\n",
              "            '<a target=\"_blank\" href=https://colab.research.google.com/notebooks/data_table.ipynb>data table notebook</a>'\n",
              "            + ' to learn more about interactive tables.';\n",
              "          element.innerHTML = '';\n",
              "          dataTable['output_type'] = 'display_data';\n",
              "          await google.colab.output.renderOutput(dataTable, element);\n",
              "          const docLink = document.createElement('div');\n",
              "          docLink.innerHTML = docLinkHtml;\n",
              "          element.appendChild(docLink);\n",
              "        }\n",
              "      </script>\n",
              "    </div>\n",
              "  </div>\n",
              "  "
            ]
          },
          "metadata": {},
          "execution_count": 126
        }
      ]
    },
    {
      "cell_type": "code",
      "source": [
        "fig, ax = plt.subplots(figsize =(20,7))\n",
        "ax.bar(trend2['title'][:10],trend2[\"count\"][:10],width=0.7, edgecolor=\"white\", linewidth=1)\n",
        "# ax.set(xlim=(0, 8),ylim=(0, 8))\n",
        "plt.title(\"2000 - 2005\")\n",
        "plt.xlabel('Name of games')\n",
        "plt.ylabel('Count')\n",
        "plt.show()"
      ],
      "metadata": {
        "colab": {
          "base_uri": "https://localhost:8080/",
          "height": 458
        },
        "id": "vL7LPZXoMDz2",
        "outputId": "85b7cdfb-a3dd-4b15-b487-e37374dd9007"
      },
      "execution_count": null,
      "outputs": [
        {
          "output_type": "display_data",
          "data": {
            "text/plain": [
              "<Figure size 1440x504 with 1 Axes>"
            ],
            "image/png": "[encoded data removed]"
          },
          "metadata": {
            "needs_background": "light"
          }
        }
      ]
    },
    {
      "cell_type": "markdown",
      "source": [
        "###2010's - 2015's "
      ],
      "metadata": {
        "id": "Fah6RhCx2UuH"
      }
    },
    {
      "cell_type": "code",
      "source": [
        "trend4 = all_data.filter((f.year('date_release') > lit('2010')) &(f.year('date_release') <= lit('2015'))).groupBy(\"title\",'date_release').count().orderBy(f.col('count').desc())"
      ],
      "metadata": {
        "id": "szlHBrn42Zu-"
      },
      "execution_count": null,
      "outputs": []
    },
    {
      "cell_type": "code",
      "source": [
        "trend4.show(10)"
      ],
      "metadata": {
        "id": "Qus_DlU72eOm",
        "colab": {
          "base_uri": "https://localhost:8080/"
        },
        "outputId": "72709dc0-d03b-4650-dd4b-1514861ae2fb"
      },
      "execution_count": null,
      "outputs": [
        {
          "output_type": "stream",
          "name": "stdout",
          "text": [
            "+--------------------+------------+------+\n",
            "|               title|date_release| count|\n",
            "+--------------------+------------+------+\n",
            "|Counter-Strike: G...|  2012-08-21|172422|\n",
            "|  Grand Theft Auto V|  2015-04-13|148839|\n",
            "|           Fallout 4|  2015-11-09|148538|\n",
            "|              Arma 3|  2013-09-12|115929|\n",
            "|       Path of Exile|  2013-10-23|111579|\n",
            "|The Binding of Is...|  2014-11-04| 98643|\n",
            "|        BeamNG.drive|  2015-05-29| 90970|\n",
            "|Tom Clancy's Rain...|  2015-12-01| 67570|\n",
            "|            PAYDAY 2|  2013-08-13| 63813|\n",
            "|              Dota 2|  2013-07-09| 61361|\n",
            "+--------------------+------------+------+\n",
            "only showing top 10 rows\n",
            "\n"
          ]
        }
      ]
    },
    {
      "cell_type": "code",
      "source": [
        "trend4 = trend4.toPandas()\n",
        "trend4.head(10)"
      ],
      "metadata": {
        "colab": {
          "base_uri": "https://localhost:8080/",
          "height": 363
        },
        "id": "EfCQw_m1QLGt",
        "outputId": "43355aae-f237-4993-c74e-3f1a4357dd96"
      },
      "execution_count": null,
      "outputs": [
        {
          "output_type": "execute_result",
          "data": {
            "text/plain": [
              "                              title date_release   count\n",
              "0  Counter-Strike: Global Offensive   2012-08-21  172422\n",
              "1                Grand Theft Auto V   2015-04-13  148839\n",
              "2                         Fallout 4   2015-11-09  148538\n",
              "3                            Arma 3   2013-09-12  115929\n",
              "4                     Path of Exile   2013-10-23  111579\n",
              "5     The Binding of Isaac: Rebirth   2014-11-04   98643\n",
              "6                      BeamNG.drive   2015-05-29   90970\n",
              "7   Tom Clancy's Rainbow Six® Siege   2015-12-01   67570\n",
              "8                          PAYDAY 2   2013-08-13   63813\n",
              "9                            Dota 2   2013-07-09   61361"
            ],
            "text/html": [
              "\n",
              "  <div id=\"df-4c99fe88-35b7-4308-8ee0-0ade63bd0dea\">\n",
              "    <div class=\"colab-df-container\">\n",
              "      <div>\n",
              "<style scoped>\n",
              "    .dataframe tbody tr th:only-of-type {\n",
              "        vertical-align: middle;\n",
              "    }\n",
              "\n",
              "    .dataframe tbody tr th {\n",
              "        vertical-align: top;\n",
              "    }\n",
              "\n",
              "    .dataframe thead th {\n",
              "        text-align: right;\n",
              "    }\n",
              "</style>\n",
              "<table border=\"1\" class=\"dataframe\">\n",
              "  <thead>\n",
              "    <tr style=\"text-align: right;\">\n",
              "      <th></th>\n",
              "      <th>title</th>\n",
              "      <th>date_release</th>\n",
              "      <th>count</th>\n",
              "    </tr>\n",
              "  </thead>\n",
              "  <tbody>\n",
              "    <tr>\n",
              "      <th>0</th>\n",
              "      <td>Counter-Strike: Global Offensive</td>\n",
              "      <td>2012-08-21</td>\n",
              "      <td>172422</td>\n",
              "    </tr>\n",
              "    <tr>\n",
              "      <th>1</th>\n",
              "      <td>Grand Theft Auto V</td>\n",
              "      <td>2015-04-13</td>\n",
              "      <td>148839</td>\n",
              "    </tr>\n",
              "    <tr>\n",
              "      <th>2</th>\n",
              "      <td>Fallout 4</td>\n",
              "      <td>2015-11-09</td>\n",
              "      <td>148538</td>\n",
              "    </tr>\n",
              "    <tr>\n",
              "      <th>3</th>\n",
              "      <td>Arma 3</td>\n",
              "      <td>2013-09-12</td>\n",
              "      <td>115929</td>\n",
              "    </tr>\n",
              "    <tr>\n",
              "      <th>4</th>\n",
              "      <td>Path of Exile</td>\n",
              "      <td>2013-10-23</td>\n",
              "      <td>111579</td>\n",
              "    </tr>\n",
              "    <tr>\n",
              "      <th>5</th>\n",
              "      <td>The Binding of Isaac: Rebirth</td>\n",
              "      <td>2014-11-04</td>\n",
              "      <td>98643</td>\n",
              "    </tr>\n",
              "    <tr>\n",
              "      <th>6</th>\n",
              "      <td>BeamNG.drive</td>\n",
              "      <td>2015-05-29</td>\n",
              "      <td>90970</td>\n",
              "    </tr>\n",
              "    <tr>\n",
              "      <th>7</th>\n",
              "      <td>Tom Clancy's Rainbow Six® Siege</td>\n",
              "      <td>2015-12-01</td>\n",
              "      <td>67570</td>\n",
              "    </tr>\n",
              "    <tr>\n",
              "      <th>8</th>\n",
              "      <td>PAYDAY 2</td>\n",
              "      <td>2013-08-13</td>\n",
              "      <td>63813</td>\n",
              "    </tr>\n",
              "    <tr>\n",
              "      <th>9</th>\n",
              "      <td>Dota 2</td>\n",
              "      <td>2013-07-09</td>\n",
              "      <td>61361</td>\n",
              "    </tr>\n",
              "  </tbody>\n",
              "</table>\n",
              "</div>\n",
              "      <button class=\"colab-df-convert\" onclick=\"convertToInteractive('df-4c99fe88-35b7-4308-8ee0-0ade63bd0dea')\"\n",
              "              title=\"Convert this dataframe to an interactive table.\"\n",
              "              style=\"display:none;\">\n",
              "        \n",
              "  <svg xmlns=\"http://www.w3.org/2000/svg\" height=\"24px\"viewBox=\"0 0 24 24\"\n",
              "       width=\"24px\">\n",
              "    <path d=\"M0 0h24v24H0V0z\" fill=\"none\"/>\n",
              "    <path d=\"M18.56 5.44l.94 2.06.94-2.06 2.06-.94-2.06-.94-.94-2.06-.94 2.06-2.06.94zm-11 1L8.5 8.5l.94-2.06 2.06-.94-2.06-.94L8.5 2.5l-.94 2.06-2.06.94zm10 10l.94 2.06.94-2.06 2.06-.94-2.06-.94-.94-2.06-.94 2.06-2.06.94z\"/><path d=\"M17.41 7.96l-1.37-1.37c-.4-.4-.92-.59-1.43-.59-.52 0-1.04.2-1.43.59L10.3 9.45l-7.72 7.72c-.78.78-.78 2.05 0 2.83L4 21.41c.39.39.9.59 1.41.59.51 0 1.02-.2 1.41-.59l7.78-7.78 2.81-2.81c.8-.78.8-2.07 0-2.86zM5.41 20L4 18.59l7.72-7.72 1.47 1.35L5.41 20z\"/>\n",
              "  </svg>\n",
              "      </button>\n",
              "      \n",
              "  <style>\n",
              "    .colab-df-container {\n",
              "      display:flex;\n",
              "      flex-wrap:wrap;\n",
              "      gap: 12px;\n",
              "    }\n",
              "\n",
              "    .colab-df-convert {\n",
              "      background-color: #E8F0FE;\n",
              "      border: none;\n",
              "      border-radius: 50%;\n",
              "      cursor: pointer;\n",
              "      display: none;\n",
              "      fill: #1967D2;\n",
              "      height: 32px;\n",
              "      padding: 0 0 0 0;\n",
              "      width: 32px;\n",
              "    }\n",
              "\n",
              "    .colab-df-convert:hover {\n",
              "      background-color: #E2EBFA;\n",
              "      box-shadow: 0px 1px 2px rgba(60, 64, 67, 0.3), 0px 1px 3px 1px rgba(60, 64, 67, 0.15);\n",
              "      fill: #174EA6;\n",
              "    }\n",
              "\n",
              "    [theme=dark] .colab-df-convert {\n",
              "      background-color: #3B4455;\n",
              "      fill: #D2E3FC;\n",
              "    }\n",
              "\n",
              "    [theme=dark] .colab-df-convert:hover {\n",
              "      background-color: #434B5C;\n",
              "      box-shadow: 0px 1px 3px 1px rgba(0, 0, 0, 0.15);\n",
              "      filter: drop-shadow(0px 1px 2px rgba(0, 0, 0, 0.3));\n",
              "      fill: #FFFFFF;\n",
              "    }\n",
              "  </style>\n",
              "\n",
              "      <script>\n",
              "        const buttonEl =\n",
              "          document.querySelector('#df-4c99fe88-35b7-4308-8ee0-0ade63bd0dea button.colab-df-convert');\n",
              "        buttonEl.style.display =\n",
              "          google.colab.kernel.accessAllowed ? 'block' : 'none';\n",
              "\n",
              "        async function convertToInteractive(key) {\n",
              "          const element = document.querySelector('#df-4c99fe88-35b7-4308-8ee0-0ade63bd0dea');\n",
              "          const dataTable =\n",
              "            await google.colab.kernel.invokeFunction('convertToInteractive',\n",
              "                                                     [key], {});\n",
              "          if (!dataTable) return;\n",
              "\n",
              "          const docLinkHtml = 'Like what you see? Visit the ' +\n",
              "            '<a target=\"_blank\" href=https://colab.research.google.com/notebooks/data_table.ipynb>data table notebook</a>'\n",
              "            + ' to learn more about interactive tables.';\n",
              "          element.innerHTML = '';\n",
              "          dataTable['output_type'] = 'display_data';\n",
              "          await google.colab.output.renderOutput(dataTable, element);\n",
              "          const docLink = document.createElement('div');\n",
              "          docLink.innerHTML = docLinkHtml;\n",
              "          element.appendChild(docLink);\n",
              "        }\n",
              "      </script>\n",
              "    </div>\n",
              "  </div>\n",
              "  "
            ]
          },
          "metadata": {},
          "execution_count": 130
        }
      ]
    },
    {
      "cell_type": "code",
      "source": [
        "fig, ax = plt.subplots(figsize =(20,7))\n",
        "ax.bar(trend4['title'][:10],trend4[\"count\"][:10],width=0.7, edgecolor=\"white\", linewidth=1)\n",
        "# ax.set(xlim=(0, 8),ylim=(0, 8))\n",
        "plt.title(\"2010 - 2015\")\n",
        "plt.xlabel('Name of games')\n",
        "plt.ylabel('Count')\n",
        "plt.show()"
      ],
      "metadata": {
        "colab": {
          "base_uri": "https://localhost:8080/",
          "height": 458
        },
        "id": "Dahb-YltQ05u",
        "outputId": "6260288d-d72f-40ed-d7b8-3a5dadec1a00"
      },
      "execution_count": null,
      "outputs": [
        {
          "output_type": "display_data",
          "data": {
            "text/plain": [
              "<Figure size 1440x504 with 1 Axes>"
            ],
            "image/png": "[encoded data removed]"
          },
          "metadata": {
            "needs_background": "light"
          }
        }
      ]
    },
    {
      "cell_type": "markdown",
      "source": [
        "### 2015's - 2020's"
      ],
      "metadata": {
        "id": "N_cHTvra2o_a"
      }
    },
    {
      "cell_type": "code",
      "source": [
        "trend5 = all_data.filter((f.year('date_release') > lit('2015')) &(f.year('date_release') <= lit('2020'))).groupBy(\"title\",'date_release').count().orderBy(f.col('count').desc())"
      ],
      "metadata": {
        "id": "Llq1fY8125IR"
      },
      "execution_count": null,
      "outputs": []
    },
    {
      "cell_type": "code",
      "source": [
        "trend5.show(10)"
      ],
      "metadata": {
        "id": "XOPYSQTS3BKG",
        "colab": {
          "base_uri": "https://localhost:8080/"
        },
        "outputId": "846cd6d0-5201-4823-85d2-6ed8d79eddad"
      },
      "execution_count": null,
      "outputs": [
        {
          "output_type": "stream",
          "name": "stdout",
          "text": [
            "+--------------------+------------+------+\n",
            "|               title|date_release| count|\n",
            "+--------------------+------------+------+\n",
            "|                Rust|  2018-02-08|251447|\n",
            "|        No Man's Sky|  2016-08-12|150267|\n",
            "|    Wallpaper Engine|  2018-11-01|149644|\n",
            "|Red Dead Redempti...|  2019-12-05|117967|\n",
            "|      Cyberpunk 2077|  2020-12-09|109328|\n",
            "|      Sea of Thieves|  2020-06-03|108191|\n",
            "|   Hearts of Iron IV|  2016-06-06|104752|\n",
            "|          Brawlhalla|  2017-10-17| 99033|\n",
            "|              VRChat|  2017-02-01| 87365|\n",
            "|Sid Meier’s Civil...|  2016-10-20| 83191|\n",
            "+--------------------+------------+------+\n",
            "only showing top 10 rows\n",
            "\n"
          ]
        }
      ]
    },
    {
      "cell_type": "code",
      "source": [
        "trend5 = trend5.toPandas()\n",
        "trend5.head(10)"
      ],
      "metadata": {
        "colab": {
          "base_uri": "https://localhost:8080/",
          "height": 363
        },
        "id": "BegWTBIUQ9JU",
        "outputId": "a91ec706-b26c-4f15-f0b9-1e0b5c0226d0"
      },
      "execution_count": null,
      "outputs": [
        {
          "output_type": "execute_result",
          "data": {
            "text/plain": [
              "                          title date_release   count\n",
              "0                          Rust   2018-02-08  251447\n",
              "1                  No Man's Sky   2016-08-12  150267\n",
              "2              Wallpaper Engine   2018-11-01  149644\n",
              "3         Red Dead Redemption 2   2019-12-05  117967\n",
              "4                Cyberpunk 2077   2020-12-09  109328\n",
              "5                Sea of Thieves   2020-06-03  108191\n",
              "6             Hearts of Iron IV   2016-06-06  104752\n",
              "7                    Brawlhalla   2017-10-17   99033\n",
              "8                        VRChat   2017-02-01   87365\n",
              "9  Sid Meier’s Civilization® VI   2016-10-20   83191"
            ],
            "text/html": [
              "\n",
              "  <div id=\"df-1794e0f2-524c-4b52-8afb-8a5220f27d47\">\n",
              "    <div class=\"colab-df-container\">\n",
              "      <div>\n",
              "<style scoped>\n",
              "    .dataframe tbody tr th:only-of-type {\n",
              "        vertical-align: middle;\n",
              "    }\n",
              "\n",
              "    .dataframe tbody tr th {\n",
              "        vertical-align: top;\n",
              "    }\n",
              "\n",
              "    .dataframe thead th {\n",
              "        text-align: right;\n",
              "    }\n",
              "</style>\n",
              "<table border=\"1\" class=\"dataframe\">\n",
              "  <thead>\n",
              "    <tr style=\"text-align: right;\">\n",
              "      <th></th>\n",
              "      <th>title</th>\n",
              "      <th>date_release</th>\n",
              "      <th>count</th>\n",
              "    </tr>\n",
              "  </thead>\n",
              "  <tbody>\n",
              "    <tr>\n",
              "      <th>0</th>\n",
              "      <td>Rust</td>\n",
              "      <td>2018-02-08</td>\n",
              "      <td>251447</td>\n",
              "    </tr>\n",
              "    <tr>\n",
              "      <th>1</th>\n",
              "      <td>No Man's Sky</td>\n",
              "      <td>2016-08-12</td>\n",
              "      <td>150267</td>\n",
              "    </tr>\n",
              "    <tr>\n",
              "      <th>2</th>\n",
              "      <td>Wallpaper Engine</td>\n",
              "      <td>2018-11-01</td>\n",
              "      <td>149644</td>\n",
              "    </tr>\n",
              "    <tr>\n",
              "      <th>3</th>\n",
              "      <td>Red Dead Redemption 2</td>\n",
              "      <td>2019-12-05</td>\n",
              "      <td>117967</td>\n",
              "    </tr>\n",
              "    <tr>\n",
              "      <th>4</th>\n",
              "      <td>Cyberpunk 2077</td>\n",
              "      <td>2020-12-09</td>\n",
              "      <td>109328</td>\n",
              "    </tr>\n",
              "    <tr>\n",
              "      <th>5</th>\n",
              "      <td>Sea of Thieves</td>\n",
              "      <td>2020-06-03</td>\n",
              "      <td>108191</td>\n",
              "    </tr>\n",
              "    <tr>\n",
              "      <th>6</th>\n",
              "      <td>Hearts of Iron IV</td>\n",
              "      <td>2016-06-06</td>\n",
              "      <td>104752</td>\n",
              "    </tr>\n",
              "    <tr>\n",
              "      <th>7</th>\n",
              "      <td>Brawlhalla</td>\n",
              "      <td>2017-10-17</td>\n",
              "      <td>99033</td>\n",
              "    </tr>\n",
              "    <tr>\n",
              "      <th>8</th>\n",
              "      <td>VRChat</td>\n",
              "      <td>2017-02-01</td>\n",
              "      <td>87365</td>\n",
              "    </tr>\n",
              "    <tr>\n",
              "      <th>9</th>\n",
              "      <td>Sid Meier’s Civilization® VI</td>\n",
              "      <td>2016-10-20</td>\n",
              "      <td>83191</td>\n",
              "    </tr>\n",
              "  </tbody>\n",
              "</table>\n",
              "</div>\n",
              "      <button class=\"colab-df-convert\" onclick=\"convertToInteractive('df-1794e0f2-524c-4b52-8afb-8a5220f27d47')\"\n",
              "              title=\"Convert this dataframe to an interactive table.\"\n",
              "              style=\"display:none;\">\n",
              "        \n",
              "  <svg xmlns=\"http://www.w3.org/2000/svg\" height=\"24px\"viewBox=\"0 0 24 24\"\n",
              "       width=\"24px\">\n",
              "    <path d=\"M0 0h24v24H0V0z\" fill=\"none\"/>\n",
              "    <path d=\"M18.56 5.44l.94 2.06.94-2.06 2.06-.94-2.06-.94-.94-2.06-.94 2.06-2.06.94zm-11 1L8.5 8.5l.94-2.06 2.06-.94-2.06-.94L8.5 2.5l-.94 2.06-2.06.94zm10 10l.94 2.06.94-2.06 2.06-.94-2.06-.94-.94-2.06-.94 2.06-2.06.94z\"/><path d=\"M17.41 7.96l-1.37-1.37c-.4-.4-.92-.59-1.43-.59-.52 0-1.04.2-1.43.59L10.3 9.45l-7.72 7.72c-.78.78-.78 2.05 0 2.83L4 21.41c.39.39.9.59 1.41.59.51 0 1.02-.2 1.41-.59l7.78-7.78 2.81-2.81c.8-.78.8-2.07 0-2.86zM5.41 20L4 18.59l7.72-7.72 1.47 1.35L5.41 20z\"/>\n",
              "  </svg>\n",
              "      </button>\n",
              "      \n",
              "  <style>\n",
              "    .colab-df-container {\n",
              "      display:flex;\n",
              "      flex-wrap:wrap;\n",
              "      gap: 12px;\n",
              "    }\n",
              "\n",
              "    .colab-df-convert {\n",
              "      background-color: #E8F0FE;\n",
              "      border: none;\n",
              "      border-radius: 50%;\n",
              "      cursor: pointer;\n",
              "      display: none;\n",
              "      fill: #1967D2;\n",
              "      height: 32px;\n",
              "      padding: 0 0 0 0;\n",
              "      width: 32px;\n",
              "    }\n",
              "\n",
              "    .colab-df-convert:hover {\n",
              "      background-color: #E2EBFA;\n",
              "      box-shadow: 0px 1px 2px rgba(60, 64, 67, 0.3), 0px 1px 3px 1px rgba(60, 64, 67, 0.15);\n",
              "      fill: #174EA6;\n",
              "    }\n",
              "\n",
              "    [theme=dark] .colab-df-convert {\n",
              "      background-color: #3B4455;\n",
              "      fill: #D2E3FC;\n",
              "    }\n",
              "\n",
              "    [theme=dark] .colab-df-convert:hover {\n",
              "      background-color: #434B5C;\n",
              "      box-shadow: 0px 1px 3px 1px rgba(0, 0, 0, 0.15);\n",
              "      filter: drop-shadow(0px 1px 2px rgba(0, 0, 0, 0.3));\n",
              "      fill: #FFFFFF;\n",
              "    }\n",
              "  </style>\n",
              "\n",
              "      <script>\n",
              "        const buttonEl =\n",
              "          document.querySelector('#df-1794e0f2-524c-4b52-8afb-8a5220f27d47 button.colab-df-convert');\n",
              "        buttonEl.style.display =\n",
              "          google.colab.kernel.accessAllowed ? 'block' : 'none';\n",
              "\n",
              "        async function convertToInteractive(key) {\n",
              "          const element = document.querySelector('#df-1794e0f2-524c-4b52-8afb-8a5220f27d47');\n",
              "          const dataTable =\n",
              "            await google.colab.kernel.invokeFunction('convertToInteractive',\n",
              "                                                     [key], {});\n",
              "          if (!dataTable) return;\n",
              "\n",
              "          const docLinkHtml = 'Like what you see? Visit the ' +\n",
              "            '<a target=\"_blank\" href=https://colab.research.google.com/notebooks/data_table.ipynb>data table notebook</a>'\n",
              "            + ' to learn more about interactive tables.';\n",
              "          element.innerHTML = '';\n",
              "          dataTable['output_type'] = 'display_data';\n",
              "          await google.colab.output.renderOutput(dataTable, element);\n",
              "          const docLink = document.createElement('div');\n",
              "          docLink.innerHTML = docLinkHtml;\n",
              "          element.appendChild(docLink);\n",
              "        }\n",
              "      </script>\n",
              "    </div>\n",
              "  </div>\n",
              "  "
            ]
          },
          "metadata": {},
          "execution_count": 134
        }
      ]
    },
    {
      "cell_type": "code",
      "source": [
        "fig, ax = plt.subplots(figsize =(20,7))\n",
        "ax.bar(trend5['title'][:10],trend5[\"count\"][:10],width=0.7, edgecolor=\"white\", linewidth=1)\n",
        "# ax.set(xlim=(0, 8),ylim=(0, 8))\n",
        "plt.title(\"2015 - 2020\")\n",
        "plt.xlabel('Name of games')\n",
        "plt.ylabel('Count')\n",
        "plt.show()"
      ],
      "metadata": {
        "colab": {
          "base_uri": "https://localhost:8080/",
          "height": 458
        },
        "id": "utfBtzBqRB1I",
        "outputId": "994c3f93-88f4-4fdd-c286-400cecba1501"
      },
      "execution_count": null,
      "outputs": [
        {
          "output_type": "display_data",
          "data": {
            "text/plain": [
              "<Figure size 1440x504 with 1 Axes>"
            ],
            "image/png": "[encoded data removed]"
          },
          "metadata": {
            "needs_background": "light"
          }
        }
      ]
    },
    {
      "cell_type": "markdown",
      "source": [
        "### 2020"
      ],
      "metadata": {
        "id": "lyat1U0E3G2h"
      }
    },
    {
      "cell_type": "code",
      "source": [
        "trend6 = all_data.filter((f.year('date_release') == lit('2020'))).groupBy(\"title\",'date_release').count().orderBy(f.col('count').desc())"
      ],
      "metadata": {
        "id": "4ZrN3KPC3Pnv"
      },
      "execution_count": null,
      "outputs": []
    },
    {
      "cell_type": "code",
      "source": [
        "trend6.show(10)"
      ],
      "metadata": {
        "id": "pwj6KUdC3PsV",
        "colab": {
          "base_uri": "https://localhost:8080/"
        },
        "outputId": "d8251b8f-4c5a-4422-9f16-704c95388bc6"
      },
      "execution_count": null,
      "outputs": [
        {
          "output_type": "stream",
          "name": "stdout",
          "text": [
            "+---------------+------------+------+\n",
            "|          title|date_release| count|\n",
            "+---------------+------------+------+\n",
            "| Cyberpunk 2077|  2020-12-09|109328|\n",
            "| Sea of Thieves|  2020-06-03|108191|\n",
            "|   Satisfactory|  2020-06-08| 68495|\n",
            "|  Borderlands 3|  2020-03-13| 50566|\n",
            "| Risk of Rain 2|  2020-08-11| 47229|\n",
            "|  Apex Legends™|  2020-11-04| 45325|\n",
            "|     Fallout 76|  2020-04-14| 42217|\n",
            "|    The Sims™ 4|  2020-06-18| 40964|\n",
            "|Half-Life: Alyx|  2020-03-23| 37962|\n",
            "|Baldur's Gate 3|  2020-10-06| 37878|\n",
            "+---------------+------------+------+\n",
            "only showing top 10 rows\n",
            "\n"
          ]
        }
      ]
    },
    {
      "cell_type": "code",
      "source": [
        "trend6 = trend6.toPandas()\n",
        "trend6.head(10)"
      ],
      "metadata": {
        "colab": {
          "base_uri": "https://localhost:8080/",
          "height": 363
        },
        "id": "WCKT2FfaRP50",
        "outputId": "8b869090-a30f-42db-ecdf-f403127fda2d"
      },
      "execution_count": null,
      "outputs": [
        {
          "output_type": "execute_result",
          "data": {
            "text/plain": [
              "             title date_release   count\n",
              "0   Cyberpunk 2077   2020-12-09  109328\n",
              "1   Sea of Thieves   2020-06-03  108191\n",
              "2     Satisfactory   2020-06-08   68495\n",
              "3    Borderlands 3   2020-03-13   50566\n",
              "4   Risk of Rain 2   2020-08-11   47229\n",
              "5    Apex Legends™   2020-11-04   45325\n",
              "6       Fallout 76   2020-04-14   42217\n",
              "7      The Sims™ 4   2020-06-18   40964\n",
              "8  Half-Life: Alyx   2020-03-23   37962\n",
              "9  Baldur's Gate 3   2020-10-06   37878"
            ],
            "text/html": [
              "\n",
              "  <div id=\"df-7f24437f-a54c-48b8-b318-2d29aafc6d3f\">\n",
              "    <div class=\"colab-df-container\">\n",
              "      <div>\n",
              "<style scoped>\n",
              "    .dataframe tbody tr th:only-of-type {\n",
              "        vertical-align: middle;\n",
              "    }\n",
              "\n",
              "    .dataframe tbody tr th {\n",
              "        vertical-align: top;\n",
              "    }\n",
              "\n",
              "    .dataframe thead th {\n",
              "        text-align: right;\n",
              "    }\n",
              "</style>\n",
              "<table border=\"1\" class=\"dataframe\">\n",
              "  <thead>\n",
              "    <tr style=\"text-align: right;\">\n",
              "      <th></th>\n",
              "      <th>title</th>\n",
              "      <th>date_release</th>\n",
              "      <th>count</th>\n",
              "    </tr>\n",
              "  </thead>\n",
              "  <tbody>\n",
              "    <tr>\n",
              "      <th>0</th>\n",
              "      <td>Cyberpunk 2077</td>\n",
              "      <td>2020-12-09</td>\n",
              "      <td>109328</td>\n",
              "    </tr>\n",
              "    <tr>\n",
              "      <th>1</th>\n",
              "      <td>Sea of Thieves</td>\n",
              "      <td>2020-06-03</td>\n",
              "      <td>108191</td>\n",
              "    </tr>\n",
              "    <tr>\n",
              "      <th>2</th>\n",
              "      <td>Satisfactory</td>\n",
              "      <td>2020-06-08</td>\n",
              "      <td>68495</td>\n",
              "    </tr>\n",
              "    <tr>\n",
              "      <th>3</th>\n",
              "      <td>Borderlands 3</td>\n",
              "      <td>2020-03-13</td>\n",
              "      <td>50566</td>\n",
              "    </tr>\n",
              "    <tr>\n",
              "      <th>4</th>\n",
              "      <td>Risk of Rain 2</td>\n",
              "      <td>2020-08-11</td>\n",
              "      <td>47229</td>\n",
              "    </tr>\n",
              "    <tr>\n",
              "      <th>5</th>\n",
              "      <td>Apex Legends™</td>\n",
              "      <td>2020-11-04</td>\n",
              "      <td>45325</td>\n",
              "    </tr>\n",
              "    <tr>\n",
              "      <th>6</th>\n",
              "      <td>Fallout 76</td>\n",
              "      <td>2020-04-14</td>\n",
              "      <td>42217</td>\n",
              "    </tr>\n",
              "    <tr>\n",
              "      <th>7</th>\n",
              "      <td>The Sims™ 4</td>\n",
              "      <td>2020-06-18</td>\n",
              "      <td>40964</td>\n",
              "    </tr>\n",
              "    <tr>\n",
              "      <th>8</th>\n",
              "      <td>Half-Life: Alyx</td>\n",
              "      <td>2020-03-23</td>\n",
              "      <td>37962</td>\n",
              "    </tr>\n",
              "    <tr>\n",
              "      <th>9</th>\n",
              "      <td>Baldur's Gate 3</td>\n",
              "      <td>2020-10-06</td>\n",
              "      <td>37878</td>\n",
              "    </tr>\n",
              "  </tbody>\n",
              "</table>\n",
              "</div>\n",
              "      <button class=\"colab-df-convert\" onclick=\"convertToInteractive('df-7f24437f-a54c-48b8-b318-2d29aafc6d3f')\"\n",
              "              title=\"Convert this dataframe to an interactive table.\"\n",
              "              style=\"display:none;\">\n",
              "        \n",
              "  <svg xmlns=\"http://www.w3.org/2000/svg\" height=\"24px\"viewBox=\"0 0 24 24\"\n",
              "       width=\"24px\">\n",
              "    <path d=\"M0 0h24v24H0V0z\" fill=\"none\"/>\n",
              "    <path d=\"M18.56 5.44l.94 2.06.94-2.06 2.06-.94-2.06-.94-.94-2.06-.94 2.06-2.06.94zm-11 1L8.5 8.5l.94-2.06 2.06-.94-2.06-.94L8.5 2.5l-.94 2.06-2.06.94zm10 10l.94 2.06.94-2.06 2.06-.94-2.06-.94-.94-2.06-.94 2.06-2.06.94z\"/><path d=\"M17.41 7.96l-1.37-1.37c-.4-.4-.92-.59-1.43-.59-.52 0-1.04.2-1.43.59L10.3 9.45l-7.72 7.72c-.78.78-.78 2.05 0 2.83L4 21.41c.39.39.9.59 1.41.59.51 0 1.02-.2 1.41-.59l7.78-7.78 2.81-2.81c.8-.78.8-2.07 0-2.86zM5.41 20L4 18.59l7.72-7.72 1.47 1.35L5.41 20z\"/>\n",
              "  </svg>\n",
              "      </button>\n",
              "      \n",
              "  <style>\n",
              "    .colab-df-container {\n",
              "      display:flex;\n",
              "      flex-wrap:wrap;\n",
              "      gap: 12px;\n",
              "    }\n",
              "\n",
              "    .colab-df-convert {\n",
              "      background-color: #E8F0FE;\n",
              "      border: none;\n",
              "      border-radius: 50%;\n",
              "      cursor: pointer;\n",
              "      display: none;\n",
              "      fill: #1967D2;\n",
              "      height: 32px;\n",
              "      padding: 0 0 0 0;\n",
              "      width: 32px;\n",
              "    }\n",
              "\n",
              "    .colab-df-convert:hover {\n",
              "      background-color: #E2EBFA;\n",
              "      box-shadow: 0px 1px 2px rgba(60, 64, 67, 0.3), 0px 1px 3px 1px rgba(60, 64, 67, 0.15);\n",
              "      fill: #174EA6;\n",
              "    }\n",
              "\n",
              "    [theme=dark] .colab-df-convert {\n",
              "      background-color: #3B4455;\n",
              "      fill: #D2E3FC;\n",
              "    }\n",
              "\n",
              "    [theme=dark] .colab-df-convert:hover {\n",
              "      background-color: #434B5C;\n",
              "      box-shadow: 0px 1px 3px 1px rgba(0, 0, 0, 0.15);\n",
              "      filter: drop-shadow(0px 1px 2px rgba(0, 0, 0, 0.3));\n",
              "      fill: #FFFFFF;\n",
              "    }\n",
              "  </style>\n",
              "\n",
              "      <script>\n",
              "        const buttonEl =\n",
              "          document.querySelector('#df-7f24437f-a54c-48b8-b318-2d29aafc6d3f button.colab-df-convert');\n",
              "        buttonEl.style.display =\n",
              "          google.colab.kernel.accessAllowed ? 'block' : 'none';\n",
              "\n",
              "        async function convertToInteractive(key) {\n",
              "          const element = document.querySelector('#df-7f24437f-a54c-48b8-b318-2d29aafc6d3f');\n",
              "          const dataTable =\n",
              "            await google.colab.kernel.invokeFunction('convertToInteractive',\n",
              "                                                     [key], {});\n",
              "          if (!dataTable) return;\n",
              "\n",
              "          const docLinkHtml = 'Like what you see? Visit the ' +\n",
              "            '<a target=\"_blank\" href=https://colab.research.google.com/notebooks/data_table.ipynb>data table notebook</a>'\n",
              "            + ' to learn more about interactive tables.';\n",
              "          element.innerHTML = '';\n",
              "          dataTable['output_type'] = 'display_data';\n",
              "          await google.colab.output.renderOutput(dataTable, element);\n",
              "          const docLink = document.createElement('div');\n",
              "          docLink.innerHTML = docLinkHtml;\n",
              "          element.appendChild(docLink);\n",
              "        }\n",
              "      </script>\n",
              "    </div>\n",
              "  </div>\n",
              "  "
            ]
          },
          "metadata": {},
          "execution_count": 138
        }
      ]
    },
    {
      "cell_type": "code",
      "source": [
        "fig, ax = plt.subplots(figsize =(20,7))\n",
        "ax.bar(trend6['title'][:10],trend6[\"count\"][:10],width=0.7, edgecolor=\"white\", linewidth=1)\n",
        "# ax.set(xlim=(0, 8),ylim=(0, 8))\n",
        "plt.title(\"Year 2020\")\n",
        "plt.xlabel('Name of games')\n",
        "plt.ylabel('Count')\n",
        "plt.show()"
      ],
      "metadata": {
        "colab": {
          "base_uri": "https://localhost:8080/",
          "height": 458
        },
        "id": "SVXGazhGRU3M",
        "outputId": "874802cc-58b4-49f8-9a66-37a17ff2a2c3"
      },
      "execution_count": null,
      "outputs": [
        {
          "output_type": "display_data",
          "data": {
            "text/plain": [
              "<Figure size 1440x504 with 1 Axes>"
            ],
            "image/png": "[encoded data removed]"
          },
          "metadata": {
            "needs_background": "light"
          }
        }
      ]
    },
    {
      "cell_type": "markdown",
      "source": [
        "### 2021"
      ],
      "metadata": {
        "id": "1CRGo8qVRg1p"
      }
    },
    {
      "cell_type": "code",
      "source": [
        "trend7 = all_data.filter((f.year('date_release') == lit('2021'))).groupBy(\"title\",'date_release').count().orderBy(f.col('count').desc())"
      ],
      "metadata": {
        "id": "V_bOYoEpRg1q"
      },
      "execution_count": null,
      "outputs": []
    },
    {
      "cell_type": "code",
      "source": [
        "trend7.show(10)"
      ],
      "metadata": {
        "colab": {
          "base_uri": "https://localhost:8080/"
        },
        "id": "jT5cC1ZBRg1q",
        "outputId": "d4e06721-3928-4cff-a860-1c7bd6d03fdb"
      },
      "execution_count": null,
      "outputs": [
        {
          "output_type": "stream",
          "name": "stdout",
          "text": [
            "+--------------------+------------+-----+\n",
            "|               title|date_release|count|\n",
            "+--------------------+------------+-----+\n",
            "|        Ready or Not|  2021-12-17|50146|\n",
            "|      Hell Let Loose|  2021-07-27|39860|\n",
            "|        It Takes Two|  2021-03-25|27817|\n",
            "|                GTFO|  2021-12-09|25641|\n",
            "|GUILTY GEAR -STRIVE-|  2021-06-11|25488|\n",
            "|       Halo Infinite|  2021-11-15|21899|\n",
            "|Resident Evil Vil...|  2021-05-07|17888|\n",
            "|Age of Empires IV...|  2021-10-28|17683|\n",
            "| My Singing Monsters|  2021-03-24|15672|\n",
            "|Farming Simulator 22|  2021-11-21|14101|\n",
            "+--------------------+------------+-----+\n",
            "only showing top 10 rows\n",
            "\n"
          ]
        }
      ]
    },
    {
      "cell_type": "code",
      "source": [
        "trend7 = trend7.toPandas()\n",
        "trend7.head(10)"
      ],
      "metadata": {
        "colab": {
          "base_uri": "https://localhost:8080/",
          "height": 363
        },
        "id": "0GQj1PXaRg1q",
        "outputId": "501b6f11-2e70-40c5-dc31-2664f52510e3"
      },
      "execution_count": null,
      "outputs": [
        {
          "output_type": "execute_result",
          "data": {
            "text/plain": [
              "                                    title date_release  count\n",
              "0                            Ready or Not   2021-12-17  50146\n",
              "1                          Hell Let Loose   2021-07-27  39860\n",
              "2                            It Takes Two   2021-03-25  27817\n",
              "3                                    GTFO   2021-12-09  25641\n",
              "4                    GUILTY GEAR -STRIVE-   2021-06-11  25488\n",
              "5                           Halo Infinite   2021-11-15  21899\n",
              "6                   Resident Evil Village   2021-05-07  17888\n",
              "7  Age of Empires IV: Anniversary Edition   2021-10-28  17683\n",
              "8                     My Singing Monsters   2021-03-24  15672\n",
              "9                    Farming Simulator 22   2021-11-21  14101"
            ],
            "text/html": [
              "\n",
              "  <div id=\"df-d84a47e5-e969-407b-8cfa-1e8e97519318\">\n",
              "    <div class=\"colab-df-container\">\n",
              "      <div>\n",
              "<style scoped>\n",
              "    .dataframe tbody tr th:only-of-type {\n",
              "        vertical-align: middle;\n",
              "    }\n",
              "\n",
              "    .dataframe tbody tr th {\n",
              "        vertical-align: top;\n",
              "    }\n",
              "\n",
              "    .dataframe thead th {\n",
              "        text-align: right;\n",
              "    }\n",
              "</style>\n",
              "<table border=\"1\" class=\"dataframe\">\n",
              "  <thead>\n",
              "    <tr style=\"text-align: right;\">\n",
              "      <th></th>\n",
              "      <th>title</th>\n",
              "      <th>date_release</th>\n",
              "      <th>count</th>\n",
              "    </tr>\n",
              "  </thead>\n",
              "  <tbody>\n",
              "    <tr>\n",
              "      <th>0</th>\n",
              "      <td>Ready or Not</td>\n",
              "      <td>2021-12-17</td>\n",
              "      <td>50146</td>\n",
              "    </tr>\n",
              "    <tr>\n",
              "      <th>1</th>\n",
              "      <td>Hell Let Loose</td>\n",
              "      <td>2021-07-27</td>\n",
              "      <td>39860</td>\n",
              "    </tr>\n",
              "    <tr>\n",
              "      <th>2</th>\n",
              "      <td>It Takes Two</td>\n",
              "      <td>2021-03-25</td>\n",
              "      <td>27817</td>\n",
              "    </tr>\n",
              "    <tr>\n",
              "      <th>3</th>\n",
              "      <td>GTFO</td>\n",
              "      <td>2021-12-09</td>\n",
              "      <td>25641</td>\n",
              "    </tr>\n",
              "    <tr>\n",
              "      <th>4</th>\n",
              "      <td>GUILTY GEAR -STRIVE-</td>\n",
              "      <td>2021-06-11</td>\n",
              "      <td>25488</td>\n",
              "    </tr>\n",
              "    <tr>\n",
              "      <th>5</th>\n",
              "      <td>Halo Infinite</td>\n",
              "      <td>2021-11-15</td>\n",
              "      <td>21899</td>\n",
              "    </tr>\n",
              "    <tr>\n",
              "      <th>6</th>\n",
              "      <td>Resident Evil Village</td>\n",
              "      <td>2021-05-07</td>\n",
              "      <td>17888</td>\n",
              "    </tr>\n",
              "    <tr>\n",
              "      <th>7</th>\n",
              "      <td>Age of Empires IV: Anniversary Edition</td>\n",
              "      <td>2021-10-28</td>\n",
              "      <td>17683</td>\n",
              "    </tr>\n",
              "    <tr>\n",
              "      <th>8</th>\n",
              "      <td>My Singing Monsters</td>\n",
              "      <td>2021-03-24</td>\n",
              "      <td>15672</td>\n",
              "    </tr>\n",
              "    <tr>\n",
              "      <th>9</th>\n",
              "      <td>Farming Simulator 22</td>\n",
              "      <td>2021-11-21</td>\n",
              "      <td>14101</td>\n",
              "    </tr>\n",
              "  </tbody>\n",
              "</table>\n",
              "</div>\n",
              "      <button class=\"colab-df-convert\" onclick=\"convertToInteractive('df-d84a47e5-e969-407b-8cfa-1e8e97519318')\"\n",
              "              title=\"Convert this dataframe to an interactive table.\"\n",
              "              style=\"display:none;\">\n",
              "        \n",
              "  <svg xmlns=\"http://www.w3.org/2000/svg\" height=\"24px\"viewBox=\"0 0 24 24\"\n",
              "       width=\"24px\">\n",
              "    <path d=\"M0 0h24v24H0V0z\" fill=\"none\"/>\n",
              "    <path d=\"M18.56 5.44l.94 2.06.94-2.06 2.06-.94-2.06-.94-.94-2.06-.94 2.06-2.06.94zm-11 1L8.5 8.5l.94-2.06 2.06-.94-2.06-.94L8.5 2.5l-.94 2.06-2.06.94zm10 10l.94 2.06.94-2.06 2.06-.94-2.06-.94-.94-2.06-.94 2.06-2.06.94z\"/><path d=\"M17.41 7.96l-1.37-1.37c-.4-.4-.92-.59-1.43-.59-.52 0-1.04.2-1.43.59L10.3 9.45l-7.72 7.72c-.78.78-.78 2.05 0 2.83L4 21.41c.39.39.9.59 1.41.59.51 0 1.02-.2 1.41-.59l7.78-7.78 2.81-2.81c.8-.78.8-2.07 0-2.86zM5.41 20L4 18.59l7.72-7.72 1.47 1.35L5.41 20z\"/>\n",
              "  </svg>\n",
              "      </button>\n",
              "      \n",
              "  <style>\n",
              "    .colab-df-container {\n",
              "      display:flex;\n",
              "      flex-wrap:wrap;\n",
              "      gap: 12px;\n",
              "    }\n",
              "\n",
              "    .colab-df-convert {\n",
              "      background-color: #E8F0FE;\n",
              "      border: none;\n",
              "      border-radius: 50%;\n",
              "      cursor: pointer;\n",
              "      display: none;\n",
              "      fill: #1967D2;\n",
              "      height: 32px;\n",
              "      padding: 0 0 0 0;\n",
              "      width: 32px;\n",
              "    }\n",
              "\n",
              "    .colab-df-convert:hover {\n",
              "      background-color: #E2EBFA;\n",
              "      box-shadow: 0px 1px 2px rgba(60, 64, 67, 0.3), 0px 1px 3px 1px rgba(60, 64, 67, 0.15);\n",
              "      fill: #174EA6;\n",
              "    }\n",
              "\n",
              "    [theme=dark] .colab-df-convert {\n",
              "      background-color: #3B4455;\n",
              "      fill: #D2E3FC;\n",
              "    }\n",
              "\n",
              "    [theme=dark] .colab-df-convert:hover {\n",
              "      background-color: #434B5C;\n",
              "      box-shadow: 0px 1px 3px 1px rgba(0, 0, 0, 0.15);\n",
              "      filter: drop-shadow(0px 1px 2px rgba(0, 0, 0, 0.3));\n",
              "      fill: #FFFFFF;\n",
              "    }\n",
              "  </style>\n",
              "\n",
              "      <script>\n",
              "        const buttonEl =\n",
              "          document.querySelector('#df-d84a47e5-e969-407b-8cfa-1e8e97519318 button.colab-df-convert');\n",
              "        buttonEl.style.display =\n",
              "          google.colab.kernel.accessAllowed ? 'block' : 'none';\n",
              "\n",
              "        async function convertToInteractive(key) {\n",
              "          const element = document.querySelector('#df-d84a47e5-e969-407b-8cfa-1e8e97519318');\n",
              "          const dataTable =\n",
              "            await google.colab.kernel.invokeFunction('convertToInteractive',\n",
              "                                                     [key], {});\n",
              "          if (!dataTable) return;\n",
              "\n",
              "          const docLinkHtml = 'Like what you see? Visit the ' +\n",
              "            '<a target=\"_blank\" href=https://colab.research.google.com/notebooks/data_table.ipynb>data table notebook</a>'\n",
              "            + ' to learn more about interactive tables.';\n",
              "          element.innerHTML = '';\n",
              "          dataTable['output_type'] = 'display_data';\n",
              "          await google.colab.output.renderOutput(dataTable, element);\n",
              "          const docLink = document.createElement('div');\n",
              "          docLink.innerHTML = docLinkHtml;\n",
              "          element.appendChild(docLink);\n",
              "        }\n",
              "      </script>\n",
              "    </div>\n",
              "  </div>\n",
              "  "
            ]
          },
          "metadata": {},
          "execution_count": 142
        }
      ]
    },
    {
      "cell_type": "code",
      "source": [
        "fig, ax = plt.subplots(figsize =(25,7))\n",
        "ax.bar(trend7['title'][:10],trend7[\"count\"][:10],width=0.7, edgecolor=\"white\", linewidth=1)\n",
        "# ax.set(xlim=(0, 8),ylim=(0, 8))\n",
        "plt.title(\"Year 2021\")\n",
        "plt.xlabel('Name of games')\n",
        "plt.ylabel('Count')\n",
        "plt.show()"
      ],
      "metadata": {
        "colab": {
          "base_uri": "https://localhost:8080/",
          "height": 458
        },
        "id": "J1koSmziRg1r",
        "outputId": "2af93888-e65c-41b4-d73b-539b83b87692"
      },
      "execution_count": null,
      "outputs": [
        {
          "output_type": "display_data",
          "data": {
            "text/plain": [
              "<Figure size 1800x504 with 1 Axes>"
            ],
            "image/png": "[encoded data removed]"
          },
          "metadata": {
            "needs_background": "light"
          }
        }
      ]
    },
    {
      "cell_type": "markdown",
      "source": [
        "### 2022"
      ],
      "metadata": {
        "id": "4ysbGriHR0eG"
      }
    },
    {
      "cell_type": "code",
      "source": [
        "trend8 = all_data.filter((f.year('date_release') == lit('2022'))).groupBy(\"title\",'date_release').count().orderBy(f.col('count').desc())"
      ],
      "metadata": {
        "id": "jlfEgz7yR0eH"
      },
      "execution_count": null,
      "outputs": []
    },
    {
      "cell_type": "code",
      "source": [
        "trend8.show(10)"
      ],
      "metadata": {
        "colab": {
          "base_uri": "https://localhost:8080/"
        },
        "id": "okbycpIPR0eH",
        "outputId": "a3f05d72-71aa-4b0e-cb30-11fc4c1439f0"
      },
      "execution_count": null,
      "outputs": [
        {
          "output_type": "stream",
          "name": "stdout",
          "text": [
            "+--------------------+------------+------+\n",
            "|               title|date_release| count|\n",
            "+--------------------+------------+------+\n",
            "|Call of Duty®: Mo...|  2022-10-27|131361|\n",
            "|            Lost Ark|  2022-02-11| 94162|\n",
            "|               Stray|  2022-07-19| 56284|\n",
            "|Dying Light 2 Sta...|  2022-02-03| 55244|\n",
            "|          ELDEN RING|  2022-02-24| 55120|\n",
            "|Mount & Blade II:...|  2022-10-25| 54219|\n",
            "|   Vampire Survivors|  2022-10-20| 43523|\n",
            "|Warhammer 40000: ...|  2022-11-30| 38637|\n",
            "|Total War: WARHAM...|  2022-02-16| 32226|\n",
            "|Marvel’s Spider-M...|  2022-08-12| 31048|\n",
            "+--------------------+------------+------+\n",
            "only showing top 10 rows\n",
            "\n"
          ]
        }
      ]
    },
    {
      "cell_type": "code",
      "source": [
        "trend8 = trend8.toPandas()\n",
        "trend8.head(10)"
      ],
      "metadata": {
        "colab": {
          "base_uri": "https://localhost:8080/",
          "height": 363
        },
        "id": "A7dpYwOsR0eH",
        "outputId": "c1f4085a-f601-478a-eb74-315308a7565c"
      },
      "execution_count": null,
      "outputs": [
        {
          "output_type": "execute_result",
          "data": {
            "text/plain": [
              "                               title date_release   count\n",
              "0  Call of Duty®: Modern Warfare® II   2022-10-27  131361\n",
              "1                           Lost Ark   2022-02-11   94162\n",
              "2                              Stray   2022-07-19   56284\n",
              "3           Dying Light 2 Stay Human   2022-02-03   55244\n",
              "4                         ELDEN RING   2022-02-24   55120\n",
              "5       Mount & Blade II: Bannerlord   2022-10-25   54219\n",
              "6                  Vampire Survivors   2022-10-20   43523\n",
              "7          Warhammer 40000: Darktide   2022-11-30   38637\n",
              "8           Total War: WARHAMMER III   2022-02-16   32226\n",
              "9     Marvel’s Spider-Man Remastered   2022-08-12   31048"
            ],
            "text/html": [
              "\n",
              "  <div id=\"df-725bd44f-441f-48b0-8824-e83b7ce294d3\">\n",
              "    <div class=\"colab-df-container\">\n",
              "      <div>\n",
              "<style scoped>\n",
              "    .dataframe tbody tr th:only-of-type {\n",
              "        vertical-align: middle;\n",
              "    }\n",
              "\n",
              "    .dataframe tbody tr th {\n",
              "        vertical-align: top;\n",
              "    }\n",
              "\n",
              "    .dataframe thead th {\n",
              "        text-align: right;\n",
              "    }\n",
              "</style>\n",
              "<table border=\"1\" class=\"dataframe\">\n",
              "  <thead>\n",
              "    <tr style=\"text-align: right;\">\n",
              "      <th></th>\n",
              "      <th>title</th>\n",
              "      <th>date_release</th>\n",
              "      <th>count</th>\n",
              "    </tr>\n",
              "  </thead>\n",
              "  <tbody>\n",
              "    <tr>\n",
              "      <th>0</th>\n",
              "      <td>Call of Duty®: Modern Warfare® II</td>\n",
              "      <td>2022-10-27</td>\n",
              "      <td>131361</td>\n",
              "    </tr>\n",
              "    <tr>\n",
              "      <th>1</th>\n",
              "      <td>Lost Ark</td>\n",
              "      <td>2022-02-11</td>\n",
              "      <td>94162</td>\n",
              "    </tr>\n",
              "    <tr>\n",
              "      <th>2</th>\n",
              "      <td>Stray</td>\n",
              "      <td>2022-07-19</td>\n",
              "      <td>56284</td>\n",
              "    </tr>\n",
              "    <tr>\n",
              "      <th>3</th>\n",
              "      <td>Dying Light 2 Stay Human</td>\n",
              "      <td>2022-02-03</td>\n",
              "      <td>55244</td>\n",
              "    </tr>\n",
              "    <tr>\n",
              "      <th>4</th>\n",
              "      <td>ELDEN RING</td>\n",
              "      <td>2022-02-24</td>\n",
              "      <td>55120</td>\n",
              "    </tr>\n",
              "    <tr>\n",
              "      <th>5</th>\n",
              "      <td>Mount &amp; Blade II: Bannerlord</td>\n",
              "      <td>2022-10-25</td>\n",
              "      <td>54219</td>\n",
              "    </tr>\n",
              "    <tr>\n",
              "      <th>6</th>\n",
              "      <td>Vampire Survivors</td>\n",
              "      <td>2022-10-20</td>\n",
              "      <td>43523</td>\n",
              "    </tr>\n",
              "    <tr>\n",
              "      <th>7</th>\n",
              "      <td>Warhammer 40000: Darktide</td>\n",
              "      <td>2022-11-30</td>\n",
              "      <td>38637</td>\n",
              "    </tr>\n",
              "    <tr>\n",
              "      <th>8</th>\n",
              "      <td>Total War: WARHAMMER III</td>\n",
              "      <td>2022-02-16</td>\n",
              "      <td>32226</td>\n",
              "    </tr>\n",
              "    <tr>\n",
              "      <th>9</th>\n",
              "      <td>Marvel’s Spider-Man Remastered</td>\n",
              "      <td>2022-08-12</td>\n",
              "      <td>31048</td>\n",
              "    </tr>\n",
              "  </tbody>\n",
              "</table>\n",
              "</div>\n",
              "      <button class=\"colab-df-convert\" onclick=\"convertToInteractive('df-725bd44f-441f-48b0-8824-e83b7ce294d3')\"\n",
              "              title=\"Convert this dataframe to an interactive table.\"\n",
              "              style=\"display:none;\">\n",
              "        \n",
              "  <svg xmlns=\"http://www.w3.org/2000/svg\" height=\"24px\"viewBox=\"0 0 24 24\"\n",
              "       width=\"24px\">\n",
              "    <path d=\"M0 0h24v24H0V0z\" fill=\"none\"/>\n",
              "    <path d=\"M18.56 5.44l.94 2.06.94-2.06 2.06-.94-2.06-.94-.94-2.06-.94 2.06-2.06.94zm-11 1L8.5 8.5l.94-2.06 2.06-.94-2.06-.94L8.5 2.5l-.94 2.06-2.06.94zm10 10l.94 2.06.94-2.06 2.06-.94-2.06-.94-.94-2.06-.94 2.06-2.06.94z\"/><path d=\"M17.41 7.96l-1.37-1.37c-.4-.4-.92-.59-1.43-.59-.52 0-1.04.2-1.43.59L10.3 9.45l-7.72 7.72c-.78.78-.78 2.05 0 2.83L4 21.41c.39.39.9.59 1.41.59.51 0 1.02-.2 1.41-.59l7.78-7.78 2.81-2.81c.8-.78.8-2.07 0-2.86zM5.41 20L4 18.59l7.72-7.72 1.47 1.35L5.41 20z\"/>\n",
              "  </svg>\n",
              "      </button>\n",
              "      \n",
              "  <style>\n",
              "    .colab-df-container {\n",
              "      display:flex;\n",
              "      flex-wrap:wrap;\n",
              "      gap: 12px;\n",
              "    }\n",
              "\n",
              "    .colab-df-convert {\n",
              "      background-color: #E8F0FE;\n",
              "      border: none;\n",
              "      border-radius: 50%;\n",
              "      cursor: pointer;\n",
              "      display: none;\n",
              "      fill: #1967D2;\n",
              "      height: 32px;\n",
              "      padding: 0 0 0 0;\n",
              "      width: 32px;\n",
              "    }\n",
              "\n",
              "    .colab-df-convert:hover {\n",
              "      background-color: #E2EBFA;\n",
              "      box-shadow: 0px 1px 2px rgba(60, 64, 67, 0.3), 0px 1px 3px 1px rgba(60, 64, 67, 0.15);\n",
              "      fill: #174EA6;\n",
              "    }\n",
              "\n",
              "    [theme=dark] .colab-df-convert {\n",
              "      background-color: #3B4455;\n",
              "      fill: #D2E3FC;\n",
              "    }\n",
              "\n",
              "    [theme=dark] .colab-df-convert:hover {\n",
              "      background-color: #434B5C;\n",
              "      box-shadow: 0px 1px 3px 1px rgba(0, 0, 0, 0.15);\n",
              "      filter: drop-shadow(0px 1px 2px rgba(0, 0, 0, 0.3));\n",
              "      fill: #FFFFFF;\n",
              "    }\n",
              "  </style>\n",
              "\n",
              "      <script>\n",
              "        const buttonEl =\n",
              "          document.querySelector('#df-725bd44f-441f-48b0-8824-e83b7ce294d3 button.colab-df-convert');\n",
              "        buttonEl.style.display =\n",
              "          google.colab.kernel.accessAllowed ? 'block' : 'none';\n",
              "\n",
              "        async function convertToInteractive(key) {\n",
              "          const element = document.querySelector('#df-725bd44f-441f-48b0-8824-e83b7ce294d3');\n",
              "          const dataTable =\n",
              "            await google.colab.kernel.invokeFunction('convertToInteractive',\n",
              "                                                     [key], {});\n",
              "          if (!dataTable) return;\n",
              "\n",
              "          const docLinkHtml = 'Like what you see? Visit the ' +\n",
              "            '<a target=\"_blank\" href=https://colab.research.google.com/notebooks/data_table.ipynb>data table notebook</a>'\n",
              "            + ' to learn more about interactive tables.';\n",
              "          element.innerHTML = '';\n",
              "          dataTable['output_type'] = 'display_data';\n",
              "          await google.colab.output.renderOutput(dataTable, element);\n",
              "          const docLink = document.createElement('div');\n",
              "          docLink.innerHTML = docLinkHtml;\n",
              "          element.appendChild(docLink);\n",
              "        }\n",
              "      </script>\n",
              "    </div>\n",
              "  </div>\n",
              "  "
            ]
          },
          "metadata": {},
          "execution_count": 146
        }
      ]
    },
    {
      "cell_type": "code",
      "source": [
        "fig, ax = plt.subplots(figsize =(25,7))\n",
        "ax.bar(trend8['title'][:10],trend8[\"count\"][:10],width=0.7, edgecolor=\"white\", linewidth=1)\n",
        "# ax.set(xlim=(0, 8),ylim=(0, 8))\n",
        "plt.title(\"Year 2022\")\n",
        "plt.xlabel('Name of games')\n",
        "plt.ylabel('Count')\n",
        "plt.show()"
      ],
      "metadata": {
        "colab": {
          "base_uri": "https://localhost:8080/",
          "height": 458
        },
        "id": "UQK-MpC6R0eH",
        "outputId": "d4a3f8be-9f64-431d-8502-34d75474fd6f"
      },
      "execution_count": null,
      "outputs": [
        {
          "output_type": "display_data",
          "data": {
            "text/plain": [
              "<Figure size 1800x504 with 1 Axes>"
            ],
            "image/png": "[encoded data removed]"
          },
          "metadata": {
            "needs_background": "light"
          }
        }
      ]
    }
  ],
  "metadata": {
    "colab": {
      "provenance": [],
      "toc_visible": true,
      "authorship_tag": "ABX9TyOJyHPJrMny7XiLN7LA/O0h",
      "include_colab_link": true
    },
    "kernelspec": {
      "display_name": "Python 3",
      "name": "python3"
    },
    "language_info": {
      "name": "python"
    }
  },
  "nbformat": 4,
  "nbformat_minor": 0
}