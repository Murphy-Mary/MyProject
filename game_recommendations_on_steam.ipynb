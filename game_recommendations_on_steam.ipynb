{
  "cells": [
    {
      "cell_type": "markdown",
      "metadata": {
        "id": "view-in-github",
        "colab_type": "text"
      },
      "source": [
        "<a href=\"https://colab.research.google.com/github/Murphy-Mary/MyProject/blob/main/game_recommendations_on_steam.ipynb\" target=\"_parent\"><img src=\"https://colab.research.google.com/assets/colab-badge.svg\" alt=\"Open In Colab\"/></a>"
      ]
    },
    {
      "cell_type": "markdown",
      "metadata": {
        "id": "9uIPv4sZ5sn_"
      },
      "source": [
        "# Import data\n"
      ]
    },
    {
      "cell_type": "markdown",
      "metadata": {
        "id": "5gcjTvkVTz-S"
      },
      "source": [
        "souce : https://www.kaggle.com/datasets/antonkozyriev/game-recommendations-on-steam"
      ]
    },
    {
      "cell_type": "code",
      "execution_count": 2,
      "metadata": {
        "id": "_5cB2k1T3LJE",
        "colab": {
          "base_uri": "https://localhost:8080/"
        },
        "outputId": "e41e8c46-4f6d-4abf-ac35-b96a7fd3c103"
      },
      "outputs": [
        {
          "output_type": "stream",
          "name": "stdout",
          "text": [
            "Mounted at /content/gdrive\n",
            "Downloading game-recommendations-on-steam.zip to /content\n",
            " 86% 97.0M/112M [00:01<00:00, 67.9MB/s]\n",
            "100% 112M/112M [00:01<00:00, 69.6MB/s] \n",
            "Archive:  /content/game-recommendations-on-steam.zip\n",
            "  inflating: games.csv               \n",
            "  inflating: games_metadata.json     \n",
            "  inflating: recommendations.csv     \n",
            "  inflating: users.csv               \n"
          ]
        }
      ],
      "source": [
        "from google.colab import drive\n",
        "drive.mount('/content/gdrive')\n",
        "\n",
        "import os\n",
        "os.environ['KAGGLE_CONFIG_DIR'] = \"/content/gdrive/My Drive/Kaggle\"\n",
        "\n",
        "!kaggle datasets download -d antonkozyriev/game-recommendations-on-steam\n",
        "!unzip /content/game-recommendations-on-steam.zip && rm /content/game-recommendations-on-steam.zip"
      ]
    },
    {
      "cell_type": "code",
      "execution_count": 3,
      "metadata": {
        "colab": {
          "base_uri": "https://localhost:8080/"
        },
        "id": "X_5ZxVQ99DB5",
        "outputId": "9a72f323-6d9f-45af-b117-204e883b1a50"
      },
      "outputs": [
        {
          "output_type": "stream",
          "name": "stdout",
          "text": [
            "\r0% [Working]\r            \rGet:1 https://cloud.r-project.org/bin/linux/ubuntu focal-cran40/ InRelease [3,622 B]\n",
            "Ign:2 https://developer.download.nvidia.com/compute/machine-learning/repos/ubuntu2004/x86_64  InRelease\n",
            "Hit:3 https://developer.download.nvidia.com/compute/cuda/repos/ubuntu2004/x86_64  InRelease\n",
            "Hit:4 https://developer.download.nvidia.com/compute/machine-learning/repos/ubuntu2004/x86_64  Release\n",
            "Get:5 http://security.ubuntu.com/ubuntu focal-security InRelease [114 kB]\n",
            "Hit:6 http://archive.ubuntu.com/ubuntu focal InRelease\n",
            "Get:7 http://archive.ubuntu.com/ubuntu focal-updates InRelease [114 kB]\n",
            "Hit:8 http://ppa.launchpad.net/c2d4u.team/c2d4u4.0+/ubuntu focal InRelease\n",
            "Hit:10 http://ppa.launchpad.net/cran/libgit2/ubuntu focal InRelease\n",
            "Hit:11 http://ppa.launchpad.net/deadsnakes/ppa/ubuntu focal InRelease\n",
            "Get:12 http://archive.ubuntu.com/ubuntu focal-backports InRelease [108 kB]\n",
            "Hit:13 http://ppa.launchpad.net/graphics-drivers/ppa/ubuntu focal InRelease\n",
            "Get:14 http://security.ubuntu.com/ubuntu focal-security/universe amd64 Packages [1,000 kB]\n",
            "Hit:15 http://ppa.launchpad.net/ubuntugis/ppa/ubuntu focal InRelease\n",
            "Get:16 http://archive.ubuntu.com/ubuntu focal-updates/restricted amd64 Packages [2,069 kB]\n",
            "Get:17 http://archive.ubuntu.com/ubuntu focal-updates/universe amd64 Packages [1,299 kB]\n",
            "Get:18 http://archive.ubuntu.com/ubuntu focal-updates/main amd64 Packages [2,972 kB]\n",
            "Fetched 7,679 kB in 3s (2,772 kB/s)\n",
            "Reading package lists... Done\n"
          ]
        }
      ],
      "source": [
        "!apt-get update"
      ]
    },
    {
      "cell_type": "code",
      "execution_count": 4,
      "metadata": {
        "colab": {
          "base_uri": "https://localhost:8080/"
        },
        "id": "yImMt6v56jww",
        "outputId": "7cc5f8d1-c4c4-4ea7-cb1d-cf8f425806bf"
      },
      "outputs": [
        {
          "output_type": "stream",
          "name": "stdout",
          "text": [
            "--2023-02-26 18:10:02--  http://apache.osuosl.org/spark/spark-3.3.2/spark-3.3.2-bin-hadoop3.tgz\n",
            "Resolving apache.osuosl.org (apache.osuosl.org)... 64.50.236.52, 64.50.233.100, 140.211.166.134, ...\n",
            "Connecting to apache.osuosl.org (apache.osuosl.org)|64.50.236.52|:80... connected.\n",
            "HTTP request sent, awaiting response... 200 OK\n",
            "Length: 299360284 (285M) [application/x-gzip]\n",
            "Saving to: ‘spark-3.3.2-bin-hadoop3.tgz’\n",
            "\n",
            "spark-3.3.2-bin-had 100%[===================>] 285.49M  56.7MB/s    in 10s     \n",
            "\n",
            "2023-02-26 18:10:12 (27.4 MB/s) - ‘spark-3.3.2-bin-hadoop3.tgz’ saved [299360284/299360284]\n",
            "\n",
            "\u001b[2K     \u001b[90m━━━━━━━━━━━━━━━━━━━━━━━━━━━━━━━━━━━━━━━━\u001b[0m \u001b[32m57.7/57.7 KB\u001b[0m \u001b[31m3.2 MB/s\u001b[0m eta \u001b[36m0:00:00\u001b[0m\n",
            "\u001b[2K     \u001b[90m━━━━━━━━━━━━━━━━━━━━━━━━━━━━━━━━━━━━━━━━\u001b[0m \u001b[32m1.6/1.6 MB\u001b[0m \u001b[31m36.2 MB/s\u001b[0m eta \u001b[36m0:00:00\u001b[0m\n",
            "\u001b[?25h3.3.2\n"
          ]
        }
      ],
      "source": [
        "#Get Install the Java Development Kit\n",
        "!apt-get install openjdk-8-jdk-headless -qq > /dev/null\n",
        "#Get Spark lib -- address need to be change according to the current version of Spark: https://downloads.apache.org/spark/\n",
        "!wget  http://apache.osuosl.org/spark/spark-3.3.2/spark-3.3.2-bin-hadoop3.tgz\n",
        "#Unzip th Spark\n",
        "!tar xf spark-3.3.2-bin-hadoop3.tgz\n",
        "!rm spark-3.3.2-bin-hadoop3.tgz\n",
        "#install findspark for Python\n",
        "!pip install -q findspark\n",
        "#Install extra lib(s)\n",
        "!pip install -q xlrd\n",
        "!pip install -q kaggle\n",
        "!pip install -q kora\n",
        "\n",
        "#import and set environment for spark\n",
        "os.environ[\"JAVA_HOME\"] = \"/usr/lib/jvm/java-8-openjdk-amd64\"\n",
        "os.environ[\"SPARK_HOME\"] = \"/content/spark-3.3.2-bin-hadoop3\"\n",
        "import kora\n",
        "\n",
        "import findspark\n",
        "findspark.init()\n",
        "from pyspark import SparkContext\n",
        "from pyspark.sql import SparkSession\n",
        "\n",
        "\n",
        "SPARK_URL = \"local[*]\"\n",
        "\n",
        "spark = SparkSession.builder.master(SPARK_URL).getOrCreate()\n",
        "\n",
        "# Check the pyspark version\n",
        "import pyspark\n",
        "print(pyspark.__version__)"
      ]
    },
    {
      "cell_type": "code",
      "execution_count": 5,
      "metadata": {
        "colab": {
          "base_uri": "https://localhost:8080/"
        },
        "id": "hPfNL1sABeDz",
        "outputId": "a47988ae-d19d-4986-bc5a-70c1471b7cd6"
      },
      "outputs": [
        {
          "output_type": "stream",
          "name": "stdout",
          "text": [
            "Looking in indexes: https://pypi.org/simple, https://us-python.pkg.dev/colab-wheels/public/simple/\n",
            "Collecting pyspark_dist_explore\n",
            "  Downloading pyspark_dist_explore-0.1.8-py3-none-any.whl (7.2 kB)\n",
            "Requirement already satisfied: scipy in /usr/local/lib/python3.8/dist-packages (from pyspark_dist_explore) (1.7.3)\n",
            "Requirement already satisfied: pandas in /usr/local/lib/python3.8/dist-packages (from pyspark_dist_explore) (1.3.5)\n",
            "Requirement already satisfied: numpy in /usr/local/lib/python3.8/dist-packages (from pyspark_dist_explore) (1.22.4)\n",
            "Requirement already satisfied: matplotlib in /usr/local/lib/python3.8/dist-packages (from pyspark_dist_explore) (3.5.3)\n",
            "Requirement already satisfied: packaging>=20.0 in /usr/local/lib/python3.8/dist-packages (from matplotlib->pyspark_dist_explore) (23.0)\n",
            "Requirement already satisfied: cycler>=0.10 in /usr/local/lib/python3.8/dist-packages (from matplotlib->pyspark_dist_explore) (0.11.0)\n",
            "Requirement already satisfied: python-dateutil>=2.7 in /usr/local/lib/python3.8/dist-packages (from matplotlib->pyspark_dist_explore) (2.8.2)\n",
            "Requirement already satisfied: pillow>=6.2.0 in /usr/local/lib/python3.8/dist-packages (from matplotlib->pyspark_dist_explore) (7.1.2)\n",
            "Requirement already satisfied: pyparsing>=2.2.1 in /usr/local/lib/python3.8/dist-packages (from matplotlib->pyspark_dist_explore) (3.0.9)\n",
            "Requirement already satisfied: kiwisolver>=1.0.1 in /usr/local/lib/python3.8/dist-packages (from matplotlib->pyspark_dist_explore) (1.4.4)\n",
            "Requirement already satisfied: fonttools>=4.22.0 in /usr/local/lib/python3.8/dist-packages (from matplotlib->pyspark_dist_explore) (4.38.0)\n",
            "Requirement already satisfied: pytz>=2017.3 in /usr/local/lib/python3.8/dist-packages (from pandas->pyspark_dist_explore) (2022.7.1)\n",
            "Requirement already satisfied: six>=1.5 in /usr/local/lib/python3.8/dist-packages (from python-dateutil>=2.7->matplotlib->pyspark_dist_explore) (1.15.0)\n",
            "Installing collected packages: pyspark_dist_explore\n",
            "Successfully installed pyspark_dist_explore-0.1.8\n"
          ]
        }
      ],
      "source": [
        "!pip install pyspark_dist_explore"
      ]
    },
    {
      "cell_type": "code",
      "execution_count": 6,
      "metadata": {
        "colab": {
          "base_uri": "https://localhost:8080/"
        },
        "id": "c4u7xPYE44mB",
        "outputId": "5173e554-544c-48f5-e114-45b296e8e259"
      },
      "outputs": [
        {
          "output_type": "stream",
          "name": "stderr",
          "text": [
            "/content/spark-3.3.2-bin-hadoop3/python/pyspark/sql/context.py:112: FutureWarning: Deprecated in 3.0.0. Use SparkSession.builder.getOrCreate() instead.\n",
            "  warnings.warn(\n"
          ]
        }
      ],
      "source": [
        "import numpy as np \n",
        "import pandas as pd\n",
        "import pyspark.sql.functions as f\n",
        "import matplotlib.pyplot as plt\n",
        "import seaborn as sns\n",
        "\n",
        "from IPython.display import display, HTML, display_html #usefull to display wide tables\n",
        "from pyspark_dist_explore import Histogram, hist, distplot, pandas_histogram\n",
        "from pyspark.sql import Row\n",
        "\n",
        "from pyspark.sql.functions import lit\n",
        "from pyspark import SparkConf\n",
        "from pyspark import SparkContext\n",
        "sc = SparkContext.getOrCreate(SparkConf().setMaster(\"local[*]\"))\n",
        "\n",
        "#sc = pyspark.SparkContext()\n",
        "sqlContext = pyspark.SQLContext(sc)\n",
        "%matplotlib inline"
      ]
    },
    {
      "cell_type": "markdown",
      "metadata": {
        "id": "O_po6boIaWOH"
      },
      "source": [
        "## data"
      ]
    },
    {
      "cell_type": "code",
      "execution_count": 7,
      "metadata": {
        "colab": {
          "base_uri": "https://localhost:8080/"
        },
        "id": "r_y867ze4_ow",
        "outputId": "25f516eb-0089-49d0-d331-72709730c404"
      },
      "outputs": [
        {
          "output_type": "stream",
          "name": "stdout",
          "text": [
            "root\n",
            " |-- app_id: long (nullable = true)\n",
            " |-- description: string (nullable = true)\n",
            " |-- tags: array (nullable = true)\n",
            " |    |-- element: string (containsNull = true)\n",
            "\n",
            "+------+--------------------+--------------------+\n",
            "|app_id|         description|                tags|\n",
            "+------+--------------------+--------------------+\n",
            "| 10090|Call of Duty is b...|[Zombies, World W...|\n",
            "| 13500|Enter the dark un...|[Action, Adventur...|\n",
            "| 22364|                    |            [Action]|\n",
            "|113020|Monaco: What's Yo...|[Co-op, Stealth, ...|\n",
            "|226560|Escape Dead Islan...|[Zombies, Adventu...|\n",
            "|249050|Dungeon of the En...|[Roguelike, Strat...|\n",
            "|250180|“METAL SLUG 3”, t...|[Arcade, Classic,...|\n",
            "|253980|Experience incred...|[RPG, Action, Fan...|\n",
            "|261550|A strategy/action...|[Medieval, Strate...|\n",
            "|271850|                    |[Strategy, Simula...|\n",
            "|282900|Packed with fast-...|[Anime, JRPG, Fem...|\n",
            "| 19810|Lead a team of do...|  [Action, Tactical]|\n",
            "| 15270|In a ferocious Ar...|[Horror, Action, ...|\n",
            "| 21130|Build the adventu...|[LEGO, Adventure,...|\n",
            "| 22130|Includes Hearts o...|[Strategy, Grand ...|\n",
            "| 29180|Enter the ambient...|[Indie, Casual, P...|\n",
            "| 32750|The best-selling ...|[Action, Simulati...|\n",
            "|241620|Action-oriented c...|[RPG, Indie, Isom...|\n",
            "|244910|Explore an abando...|[Atmospheric, Puz...|\n",
            "|245950|                    |[Action, RPG, FPS...|\n",
            "+------+--------------------+--------------------+\n",
            "only showing top 20 rows\n",
            "\n"
          ]
        }
      ],
      "source": [
        "game_tags = spark.read.json(\"/content/games_metadata.json\")\n",
        "game_tags.printSchema()\n",
        "game_tags.show()"
      ]
    },
    {
      "cell_type": "code",
      "execution_count": 8,
      "metadata": {
        "colab": {
          "base_uri": "https://localhost:8080/"
        },
        "id": "BWt_TYOH5Eyz",
        "outputId": "d534ff97-1a35-403b-f44c-a4f6fe6959b9"
      },
      "outputs": [
        {
          "output_type": "execute_result",
          "data": {
            "text/plain": [
              "21236"
            ]
          },
          "metadata": {},
          "execution_count": 8
        }
      ],
      "source": [
        "game_tags.count()"
      ]
    },
    {
      "cell_type": "code",
      "execution_count": 9,
      "metadata": {
        "colab": {
          "base_uri": "https://localhost:8080/"
        },
        "id": "F2JckxI2sc_0",
        "outputId": "d560c7e0-83c0-4917-ac02-4155daf5738c"
      },
      "outputs": [
        {
          "output_type": "stream",
          "name": "stdout",
          "text": [
            "root\n",
            " |-- app_id: string (nullable = true)\n",
            " |-- title: string (nullable = true)\n",
            " |-- date_release: string (nullable = true)\n",
            " |-- win: string (nullable = true)\n",
            " |-- mac: string (nullable = true)\n",
            " |-- linux: string (nullable = true)\n",
            " |-- rating: string (nullable = true)\n",
            " |-- positive_ratio: string (nullable = true)\n",
            " |-- user_reviews: double (nullable = true)\n",
            " |-- price_final: double (nullable = true)\n",
            " |-- price_original: double (nullable = true)\n",
            " |-- discount: double (nullable = true)\n",
            " |-- steam_deck: string (nullable = true)\n",
            "\n",
            "+------+--------------------+------------+----+-----+-----+---------------+--------------+------------+-----------+--------------+--------+----------+\n",
            "|app_id|               title|date_release| win|  mac|linux|         rating|positive_ratio|user_reviews|price_final|price_original|discount|steam_deck|\n",
            "+------+--------------------+------------+----+-----+-----+---------------+--------------+------------+-----------+--------------+--------+----------+\n",
            "| 10090|Call of Duty: Wor...|  2008-11-18|true|false|false|  Very Positive|            92|     37039.0|      19.99|         19.99|     0.0|      true|\n",
            "| 13500|Prince of Persia:...|  2008-11-21|true|false|false|  Very Positive|            84|      2199.0|       9.99|          9.99|     0.0|      true|\n",
            "| 22364|BRINK: Agents of ...|  2011-08-03|true|false|false|       Positive|            85|        21.0|       2.99|          2.99|     0.0|      true|\n",
            "|113020|Monaco: What's Yo...|  2013-04-24|true| true| true|  Very Positive|            92|      3722.0|      14.99|         14.99|     0.0|      true|\n",
            "|226560|  Escape Dead Island|  2014-11-18|true|false|false|          Mixed|            61|       873.0|      14.99|         14.99|     0.0|      true|\n",
            "|249050|Dungeon of the EN...|  2014-10-27|true| true|false|  Very Positive|            88|      8784.0|      11.99|         11.99|     0.0|      true|\n",
            "|250180|        METAL SLUG 3|  2015-09-14|true|false|false|  Very Positive|            90|      5579.0|       7.99|          7.99|     0.0|      true|\n",
            "|253980|             Enclave|  2013-10-04|true| true| true|Mostly Positive|            75|      1608.0|       4.99|          4.99|     0.0|      true|\n",
            "|261550|Mount & Blade II:...|  2022-10-25|true|false|false|  Very Positive|            87|    169694.0|      49.99|         49.99|     0.0|      true|\n",
            "|271850|Men of War: Assau...|  2014-05-16|true|false|false|          Mixed|            61|       199.0|       6.99|          6.99|     0.0|      true|\n",
            "|282900|Hyperdimension Ne...|  2015-01-29|true|false|false|  Very Positive|            94|      9686.0|      14.99|         14.99|     0.0|      true|\n",
            "| 19810|The Sum of All Fears|  2008-10-10|true|false|false|Mostly Positive|            75|        33.0|       9.99|          9.99|     0.0|      true|\n",
            "| 15270|          Cold Fear™|  2008-05-13|true|false|false|  Very Positive|            85|       800.0|       9.99|          9.99|     0.0|      true|\n",
            "| 21130|LEGO® Harry Potte...|  2010-06-25|true|false|false|  Very Positive|            85|      5169.0|      19.99|         19.99|     0.0|      true|\n",
            "| 22130|Hearts of Iron 2 ...|  2009-01-23|true|false|false|  Very Positive|            85|       462.0|      14.99|         14.99|     0.0|      true|\n",
            "| 29180|               Osmos|  2009-08-18|true| true| true|  Very Positive|            88|       532.0|       9.99|          9.99|     0.0|      true|\n",
            "| 32750|          Comanche 4|  2009-06-18|true|false|false|  Very Positive|            90|       222.0|       9.99|          9.99|     0.0|      true|\n",
            "|241620|          Inquisitor|  2013-08-01|true|false|false|Mostly Positive|            70|       390.0|       9.99|          9.99|     0.0|      true|\n",
            "|244910|            Homesick|  2015-05-28|true|false|false|Mostly Positive|            77|      1139.0|      14.99|         14.99|     0.0|      true|\n",
            "|245950|Borderlands 2: He...|  2014-02-11|true| true| true|  Very Positive|            84|       294.0|       0.89|          2.99|    70.0|      true|\n",
            "+------+--------------------+------------+----+-----+-----+---------------+--------------+------------+-----------+--------------+--------+----------+\n",
            "only showing top 20 rows\n",
            "\n"
          ]
        }
      ],
      "source": [
        "game = spark.read.csv('/content/games.csv',header=True)\n",
        "# c0ls = [\"user_reviews\",\"price_final\",\"price_original\",\"discount\"]\n",
        "game = game.withColumn(\"user_reviews\",game.user_reviews.cast('double'))\n",
        "game = game.withColumn(\"price_final\",game.price_final.cast('double'))\n",
        "game = game.withColumn(\"price_original\",game.price_original.cast('double'))\n",
        "game = game.withColumn(\"discount\",game.discount.cast('double'))\n",
        "# game = game.withColumn(\"mac\",game.date_release.cast('Boolean'))\n",
        "# game = game.withColumn(\"mac\",game.date_release.cast('Boolean'))\n",
        "# game = game.withColumn(\"win\",game.date_release.cast('Boolean'))\n",
        "# game = game.withColumn(\"steam_deck\",game.date_release.cast('Boolean'))\n",
        "game.printSchema()\n",
        "game.show()"
      ]
    },
    {
      "cell_type": "code",
      "execution_count": 10,
      "metadata": {
        "colab": {
          "base_uri": "https://localhost:8080/"
        },
        "id": "4ESV2mxR5IKI",
        "outputId": "407a80dc-1beb-445c-a6dd-e092eb2b95c2"
      },
      "outputs": [
        {
          "output_type": "execute_result",
          "data": {
            "text/plain": [
              "21236"
            ]
          },
          "metadata": {},
          "execution_count": 10
        }
      ],
      "source": [
        "game.count()"
      ]
    },
    {
      "cell_type": "code",
      "execution_count": 11,
      "metadata": {
        "colab": {
          "base_uri": "https://localhost:8080/"
        },
        "id": "c5NjzTtw5au4",
        "outputId": "f55ebe14-1c67-4c10-b38a-85676c325a12"
      },
      "outputs": [
        {
          "output_type": "stream",
          "name": "stdout",
          "text": [
            "root\n",
            " |-- app_id: string (nullable = true)\n",
            " |-- helpful: string (nullable = true)\n",
            " |-- funny: string (nullable = true)\n",
            " |-- date: date (nullable = true)\n",
            " |-- is_recommended: boolean (nullable = true)\n",
            " |-- hours: double (nullable = true)\n",
            " |-- user_id: string (nullable = true)\n",
            " |-- review_id: string (nullable = true)\n",
            "\n",
            "+-------+-------+-----+----------+--------------+-----+-------+---------+\n",
            "| app_id|helpful|funny|      date|is_recommended|hours|user_id|review_id|\n",
            "+-------+-------+-----+----------+--------------+-----+-------+---------+\n",
            "| 975370|      0|    0|2022-12-12|          true| 36.3|  14546|        0|\n",
            "| 304390|      4|    0|2017-02-17|         false| 11.5|    797|        1|\n",
            "|1085660|      2|    0|2019-11-17|          true|336.5|  66915|        2|\n",
            "| 703080|      0|    0|2022-09-23|          true| 27.4|  68251|        3|\n",
            "| 526870|      0|    0|2021-01-10|          true|  7.9|   6647|        4|\n",
            "| 306130|      0|    0|2021-10-10|          true|  8.6|  12866|        5|\n",
            "| 238960|      0|    0|2017-11-25|          true|538.8|  24829|        6|\n",
            "|    730|      0|    0|2021-11-30|         false|157.5|  17828|        7|\n",
            "| 255710|      0|    0|2021-05-21|          true| 18.7|  92535|        8|\n",
            "| 289070|      0|    0|2020-05-26|          true|397.5| 118575|        9|\n",
            "| 431960|      0|    0|2020-10-14|          true| 30.3|  53439|       10|\n",
            "|1086940|      0|    0|2020-10-07|          true| 50.0|  24147|       11|\n",
            "|1938090|      0|    0|2022-11-16|          true| 46.7|  43688|       12|\n",
            "|1286830|      2|    0|2020-07-26|          true| 19.3|  31750|       13|\n",
            "|1172620|      0|    0|2020-11-04|          true| 89.1|  34233|       14|\n",
            "| 306130|      0|    0|2021-05-12|          true| 61.1|  21306|       15|\n",
            "| 635260|      0|    0|2022-01-30|          true|177.0|  21626|       16|\n",
            "|1151340|      0|    0|2020-07-01|          true| 86.3|  34784|       17|\n",
            "| 289070|      0|    0|2020-05-29|          true|244.1|  68828|       18|\n",
            "| 392160|      3|    0|2018-12-26|         false|320.5| 106504|       19|\n",
            "+-------+-------+-----+----------+--------------+-----+-------+---------+\n",
            "only showing top 20 rows\n",
            "\n"
          ]
        }
      ],
      "source": [
        "recomm = spark.read.csv('/content/recommendations.csv',header=True)\n",
        "recomm = recomm.withColumn(\"date\",recomm.date.cast('date'))\n",
        "recomm = recomm.withColumn(\"is_recommended\",recomm.is_recommended.cast('Boolean'))\n",
        "recomm = recomm.withColumn(\"hours\",recomm.hours.cast('double'))\n",
        "recomm.printSchema()\n",
        "recomm.show()"
      ]
    },
    {
      "cell_type": "code",
      "source": [
        "recomm.orderBy(f.col(\"date\")).show()"
      ],
      "metadata": {
        "id": "U8xCHSYukqZf"
      },
      "execution_count": null,
      "outputs": []
    },
    {
      "cell_type": "code",
      "execution_count": null,
      "metadata": {
        "id": "ouS-EIb15MmR"
      },
      "outputs": [],
      "source": [
        "recomm.count()"
      ]
    },
    {
      "cell_type": "code",
      "execution_count": null,
      "metadata": {
        "id": "Ir_n3_qPtbX1"
      },
      "outputs": [],
      "source": [
        "user = spark.read.csv('/content/users.csv',header=True)\n",
        "user.printSchema()\n",
        "user.show()"
      ]
    },
    {
      "cell_type": "code",
      "execution_count": null,
      "metadata": {
        "id": "DemaH1ll5O2S"
      },
      "outputs": [],
      "source": [
        "user.count()"
      ]
    },
    {
      "cell_type": "markdown",
      "metadata": {
        "id": "FwV-btcit2FE"
      },
      "source": [
        "# Prepare Section"
      ]
    },
    {
      "cell_type": "code",
      "execution_count": null,
      "metadata": {
        "id": "0Xtc7csGNstL"
      },
      "outputs": [],
      "source": [
        "game_tng = game.join(game_tags,[\"app_id\"],\"full\")"
      ]
    },
    {
      "cell_type": "code",
      "execution_count": null,
      "metadata": {
        "id": "yORzFdI2Ns6-"
      },
      "outputs": [],
      "source": [
        "game_tng.show()\n",
        "# game_tng.select('tags').collect()[0][0][0]\n",
        "# game_tng.describe().show()"
      ]
    },
    {
      "cell_type": "code",
      "execution_count": null,
      "metadata": {
        "id": "3vu2QFBj6M7i"
      },
      "outputs": [],
      "source": [
        "game_tng = game_tng.filter(game_tng.app_id.isNotNull()\\\n",
        "                           |game_tng.title.isNotNull()\\\n",
        "                           |game_tng.win.isNotNull()\\\n",
        "                           |game_tng.rating.isNotNull()\\\n",
        "                           |game_tng.price_final.isNotNull()\\\n",
        "                           |game_tng.price_original.isNotNull()\\\n",
        "                           |game_tng.description.isNotNull()\\\n",
        "                           |game_tng.tags.isNotNull()\\\n",
        "                           ).sort(\"app_id\") \n"
      ]
    },
    {
      "cell_type": "code",
      "execution_count": null,
      "metadata": {
        "id": "nUfY2ny26lz0"
      },
      "outputs": [],
      "source": [
        "game_tng.count()"
      ]
    },
    {
      "cell_type": "code",
      "execution_count": null,
      "metadata": {
        "id": "hPG6M13B-u1S"
      },
      "outputs": [],
      "source": [
        "game_tng.show()"
      ]
    },
    {
      "cell_type": "markdown",
      "metadata": {
        "id": "ecRcLwm-6OWq"
      },
      "source": [
        "-----------------------------------------------------\n"
      ]
    },
    {
      "cell_type": "code",
      "execution_count": null,
      "metadata": {
        "id": "jh_tk2dGRrXi"
      },
      "outputs": [],
      "source": [
        "user_recc = recomm.join(user,[\"user_id\"],\"full\")"
      ]
    },
    {
      "cell_type": "code",
      "execution_count": null,
      "metadata": {
        "id": "vLxWI3z-yFEo"
      },
      "outputs": [],
      "source": [
        "user_recc.show()\n",
        "# user_recc.describe().show()"
      ]
    },
    {
      "cell_type": "code",
      "execution_count": null,
      "metadata": {
        "id": "_nufYNoU8Bf-"
      },
      "outputs": [],
      "source": [
        "user_recc = user_recc.filter(user_recc.app_id.isNotNull()).sort(\"user_id\") "
      ]
    },
    {
      "cell_type": "code",
      "execution_count": null,
      "metadata": {
        "id": "_GGEl5sA8fpd"
      },
      "outputs": [],
      "source": [
        "user_recc.count()"
      ]
    },
    {
      "cell_type": "code",
      "execution_count": null,
      "metadata": {
        "id": "JDuves7O8M7o"
      },
      "outputs": [],
      "source": [
        "user_recc.show()"
      ]
    },
    {
      "cell_type": "code",
      "execution_count": null,
      "metadata": {
        "id": "vg8sasMOfDhi"
      },
      "outputs": [],
      "source": [
        "all_data = game_tng.join(user_recc,[\"app_id\"],\"full\")"
      ]
    },
    {
      "cell_type": "code",
      "execution_count": null,
      "metadata": {
        "id": "nwXzy6-ZfU3a"
      },
      "outputs": [],
      "source": [
        "all_data.printSchema()"
      ]
    },
    {
      "cell_type": "code",
      "execution_count": null,
      "metadata": {
        "id": "zE3GOshplWup"
      },
      "outputs": [],
      "source": [
        "# all_data.count()\n",
        "all_data.show()\n",
        "# app_id,title,win"
      ]
    },
    {
      "cell_type": "code",
      "execution_count": null,
      "metadata": {
        "id": "xtCh1iEHopwa"
      },
      "outputs": [],
      "source": [
        "#Drop Null\n",
        "all_data = all_data.filter(all_data.app_id.isNotNull()|all_data.title.isNotNull()|all_data.win.isNotNull()).sort(\"app_id\") "
      ]
    },
    {
      "cell_type": "code",
      "execution_count": null,
      "metadata": {
        "id": "fqBqphf-tkr-"
      },
      "outputs": [],
      "source": [
        "all_data.count()"
      ]
    },
    {
      "cell_type": "code",
      "execution_count": null,
      "metadata": {
        "id": "-33fjiJ8kweI"
      },
      "outputs": [],
      "source": [
        "all_data.show()"
      ]
    },
    {
      "cell_type": "code",
      "execution_count": null,
      "metadata": {
        "id": "dyCrbVNIyU42"
      },
      "outputs": [],
      "source": [
        "all_data.filter(all_data.date_release.isNull()).show()"
      ]
    },
    {
      "cell_type": "code",
      "execution_count": null,
      "metadata": {
        "id": "7GuCkh3T0A7i"
      },
      "outputs": [],
      "source": [
        "all_data.groupBy(\"app_id\",'title').count().filter(\"count > 1\").sort(\"app_id\").show()"
      ]
    },
    {
      "cell_type": "code",
      "execution_count": null,
      "metadata": {
        "id": "EoLoPRO0mYja"
      },
      "outputs": [],
      "source": [
        "# all_data.write.parquet(\"/content/gdrive/MyDrive/sizeproject/allgamerecc.parquet\")"
      ]
    },
    {
      "cell_type": "markdown",
      "metadata": {
        "id": "0W_Ybs9pzPfQ"
      },
      "source": [
        "# EDA Section"
      ]
    },
    {
      "cell_type": "code",
      "execution_count": null,
      "metadata": {
        "id": "inly8b_SzSSO"
      },
      "outputs": [],
      "source": [
        "all_data.sort(\"price_original\").show()"
      ]
    },
    {
      "cell_type": "markdown",
      "metadata": {
        "id": "mbwuNQEieYpU"
      },
      "source": [
        "## ---- top had user -----"
      ]
    },
    {
      "cell_type": "code",
      "execution_count": null,
      "metadata": {
        "id": "PCweQuo4zSVF"
      },
      "outputs": [],
      "source": [
        "count_data = all_data.select(\"app_id\",\"title\").groupBy(\"title\").count()\\\n",
        "            .orderBy(f.col(\"count\").desc())"
      ]
    },
    {
      "cell_type": "code",
      "execution_count": null,
      "metadata": {
        "id": "akrf9vOLfPe7"
      },
      "outputs": [],
      "source": [
        "count_data.show()"
      ]
    },
    {
      "cell_type": "code",
      "source": [
        "# count_data.plt.plot.bar(x='count')  "
      ],
      "metadata": {
        "id": "v8q8_ifsrxnP"
      },
      "execution_count": null,
      "outputs": []
    },
    {
      "cell_type": "code",
      "execution_count": null,
      "metadata": {
        "id": "GBruc1GZ_vPh"
      },
      "outputs": [],
      "source": [
        "# count_datas = count_data.orderBy(f.col('count').desc())\n",
        "# count_datas.show(20)"
      ]
    },
    {
      "cell_type": "markdown",
      "metadata": {
        "id": "FZuSR2MY2r2g"
      },
      "source": [
        "## ---- top buy games ----\n",
        "\n",
        "\n"
      ]
    },
    {
      "cell_type": "code",
      "execution_count": null,
      "metadata": {
        "id": "OwrGi_8n2vbJ"
      },
      "outputs": [],
      "source": [
        "price = all_data.groupBy(\"app_id\",\"title\").sum()"
      ]
    },
    {
      "cell_type": "code",
      "execution_count": null,
      "metadata": {
        "id": "dCeg16t2O2OC"
      },
      "outputs": [],
      "source": [
        "all_data.select(f.col(\"app_id\"),f.col(\"title\"),f.col(\"price_original\")).filter(\"app_id == 252490\").count()"
      ]
    },
    {
      "cell_type": "code",
      "execution_count": null,
      "metadata": {
        "id": "nnDviMnDX0Uf"
      },
      "outputs": [],
      "source": [
        "all_data.select(f.col(\"app_id\"),f.col(\"title\"),f.col(\"price_original\")).filter(\"app_id == 252490\").show()"
      ]
    },
    {
      "cell_type": "code",
      "execution_count": null,
      "metadata": {
        "id": "7pQ7JHO_JXxb"
      },
      "outputs": [],
      "source": [
        "# from pyspark.sql.functions import *\n",
        "price_ord = price.orderBy(f.col('sum(price_original)').desc())\n",
        "price_ord.show(20)"
      ]
    },
    {
      "cell_type": "markdown",
      "metadata": {
        "id": "K04YkIUWmMHp"
      },
      "source": [
        "## -----Top 10 popular games of 2022 with positive reviews-----"
      ]
    },
    {
      "cell_type": "code",
      "execution_count": null,
      "metadata": {
        "id": "Jlq_9iyFmSdw"
      },
      "outputs": [],
      "source": [
        "game.show()"
      ]
    },
    {
      "cell_type": "code",
      "execution_count": null,
      "metadata": {
        "id": "tHmaYZLKqZFA"
      },
      "outputs": [],
      "source": [
        "game_pos = game.select('app_id','title','date_release','user_reviews','positive_ratio').\\\n",
        "            filter((game[\"date_release\"]>= lit('2022-01-01')) &(game[\"positive_ratio\"]>=90))\\\n",
        "            .sort(f.col('user_reviews').desc(),f.col('positive_ratio').desc())"
      ]
    },
    {
      "cell_type": "code",
      "execution_count": null,
      "metadata": {
        "id": "tgQWaeLV8zm6"
      },
      "outputs": [],
      "source": [
        "game_pos.show(10)"
      ]
    },
    {
      "cell_type": "markdown",
      "metadata": {
        "id": "-5HcjyiCTupg"
      },
      "source": [
        "## ----Top 10 popular games of 2022 with mixed or lower reviews----\n"
      ]
    },
    {
      "cell_type": "code",
      "execution_count": null,
      "metadata": {
        "id": "2Bam8cgtVHVE"
      },
      "outputs": [],
      "source": [
        "game_pos2 = game.select('app_id','title','date_release','user_reviews','positive_ratio').\\\n",
        "            filter((game[\"date_release\"]>= lit('2022-01-01')) &(game[\"positive_ratio\"] <= 70))\\\n",
        "            .sort(f.col('user_reviews').desc(),f.col('positive_ratio').desc())"
      ]
    },
    {
      "cell_type": "code",
      "execution_count": null,
      "metadata": {
        "id": "UCKR9bo3Xf6L"
      },
      "outputs": [],
      "source": [
        "game_pos2.show(10)"
      ]
    },
    {
      "cell_type": "markdown",
      "metadata": {
        "id": "8Lm0qu8vm3AF"
      },
      "source": [
        "## ---- Top Genre popular ----"
      ]
    },
    {
      "cell_type": "code",
      "execution_count": null,
      "metadata": {
        "id": "hFOzyeu4nNH4"
      },
      "outputs": [],
      "source": [
        "game_tags.printSchema()\n",
        "game_tags.show()"
      ]
    },
    {
      "cell_type": "code",
      "execution_count": null,
      "metadata": {
        "id": "RPUgjHr0gnkF"
      },
      "outputs": [],
      "source": [
        "genre = all_data.select(f.col(\"app_id\"),f.col(\"title\"),f.col(\"price_final\"),f.explode(f.col(\"tags\")))"
      ]
    },
    {
      "cell_type": "code",
      "source": [
        "ganre_2 = genre.orderBy(f.col('col').desc())\n",
        "ganre_2.show(10)"
      ],
      "metadata": {
        "id": "wDSFFghdNAQE"
      },
      "execution_count": null,
      "outputs": []
    },
    {
      "cell_type": "code",
      "source": [
        "# genre.show() all_data.groupBy(\"title\").count().filter(\"count > 100\")\n",
        "ganre_3 = genre.select('title','col').groupBy(\"col\").count().orderBy(f.col('count').desc())\n",
        "# .filter(ganre_2[\"col\"] != lit(\"eSports\")).orderBy(f.col('col').desc())\n",
        "ganre_3.show(10)"
      ],
      "metadata": {
        "id": "LcJn_Y-NNSWi"
      },
      "execution_count": null,
      "outputs": []
    },
    {
      "cell_type": "markdown",
      "metadata": {
        "id": "D-jRYqNJcLZz"
      },
      "source": [
        "### Top Gerne Free game"
      ]
    },
    {
      "cell_type": "code",
      "execution_count": null,
      "metadata": {
        "id": "8qTzuvs5cQlQ"
      },
      "outputs": [],
      "source": [
        "ganre_4 = ganre_2.select('title','col').filter(\"price_final == 0\").groupBy(\"col\").count().orderBy(f.col('count').desc())"
      ]
    },
    {
      "cell_type": "code",
      "execution_count": null,
      "metadata": {
        "id": "FP4rq9ekcQrm"
      },
      "outputs": [],
      "source": [
        "ganre_4.show(10)"
      ]
    },
    {
      "cell_type": "markdown",
      "metadata": {
        "id": "TJWhzMHAcROH"
      },
      "source": [
        "### Top Gerne Paid game"
      ]
    },
    {
      "cell_type": "code",
      "execution_count": null,
      "metadata": {
        "id": "aOTjzz_acWPp"
      },
      "outputs": [],
      "source": [
        "ganre_5 = ganre_2.select('title','col').filter(\"price_final != 0\").groupBy(\"col\").count().orderBy(f.col('count').desc())"
      ]
    },
    {
      "cell_type": "code",
      "source": [
        "ganre_5.show(10)"
      ],
      "metadata": {
        "id": "iibC6Ky4WNoT"
      },
      "execution_count": null,
      "outputs": []
    },
    {
      "cell_type": "markdown",
      "source": [
        "### Top Gerne eSpots game"
      ],
      "metadata": {
        "id": "jPOVIh1rgjXb"
      }
    },
    {
      "cell_type": "code",
      "source": [
        "ganre_6 =  ganre_2.select('title').filter(\"col == 'eSports'\").groupBy(\"title\").count().orderBy(f.col('count').desc())"
      ],
      "metadata": {
        "id": "MKQ0l2fEgoSE"
      },
      "execution_count": null,
      "outputs": []
    },
    {
      "cell_type": "code",
      "source": [
        "ganre_6.show(10)"
      ],
      "metadata": {
        "id": "IQGl1sRKgoU6"
      },
      "execution_count": null,
      "outputs": []
    },
    {
      "cell_type": "markdown",
      "source": [
        "## ----Top Gerane Games ----"
      ],
      "metadata": {
        "id": "0ahIyVC6rsbL"
      }
    },
    {
      "cell_type": "code",
      "source": [
        "ganre_3.show(10)"
      ],
      "metadata": {
        "id": "AQm9lQPPr12E"
      },
      "execution_count": null,
      "outputs": []
    },
    {
      "cell_type": "markdown",
      "source": [
        "### By Action"
      ],
      "metadata": {
        "id": "pDKxILCu92xZ"
      }
    },
    {
      "cell_type": "code",
      "source": [
        "top_game1 = ganre_2.select('title').filter(\"col == 'Action'\").groupBy(\"title\").count().orderBy(f.col('count').desc())"
      ],
      "metadata": {
        "id": "uXRtJ1LVr15N"
      },
      "execution_count": null,
      "outputs": []
    },
    {
      "cell_type": "code",
      "source": [
        "top_game1.show(10)"
      ],
      "metadata": {
        "id": "9OkTPaF3-Jc_"
      },
      "execution_count": null,
      "outputs": []
    },
    {
      "cell_type": "markdown",
      "source": [
        "### By Singleplayer"
      ],
      "metadata": {
        "id": "8FMk5IFX-MlP"
      }
    },
    {
      "cell_type": "code",
      "source": [
        "top_game2 = ganre_2.select('title').filter(\"col == 'Singleplayer'\").groupBy(\"title\").count().orderBy(f.col('count').desc())"
      ],
      "metadata": {
        "id": "viE_iPJD-Sfq"
      },
      "execution_count": null,
      "outputs": []
    },
    {
      "cell_type": "code",
      "source": [
        "top_game2.show(10)"
      ],
      "metadata": {
        "id": "OseHBe7h-Siv"
      },
      "execution_count": null,
      "outputs": []
    },
    {
      "cell_type": "markdown",
      "source": [
        "### By Multiplayer"
      ],
      "metadata": {
        "id": "p1F-IvfU-iFL"
      }
    },
    {
      "cell_type": "code",
      "source": [
        "top_game3 = ganre_2.select('title').filter(\"col == 'Multiplayer'\").groupBy(\"title\").count().orderBy(f.col('count').desc())"
      ],
      "metadata": {
        "id": "klhBpgdh-lHO"
      },
      "execution_count": null,
      "outputs": []
    },
    {
      "cell_type": "code",
      "source": [
        "top_game3.show(10)"
      ],
      "metadata": {
        "id": "PETh4Not-lJ-"
      },
      "execution_count": null,
      "outputs": []
    },
    {
      "cell_type": "markdown",
      "source": [
        "### By Co-op"
      ],
      "metadata": {
        "id": "0MaVcRU0-uJ0"
      }
    },
    {
      "cell_type": "code",
      "source": [
        "top_game4 = ganre_2.select('title').filter(\"col == 'Co-op'\").groupBy(\"title\").count().orderBy(f.col('count').desc())"
      ],
      "metadata": {
        "id": "_BbnweV7-2SI"
      },
      "execution_count": null,
      "outputs": []
    },
    {
      "cell_type": "code",
      "source": [
        "top_game4.show(10)"
      ],
      "metadata": {
        "id": "NzlB5mtF-2Ub"
      },
      "execution_count": null,
      "outputs": []
    },
    {
      "cell_type": "markdown",
      "source": [
        "### By Adventure"
      ],
      "metadata": {
        "id": "Y2gsfD0g-74R"
      }
    },
    {
      "cell_type": "code",
      "source": [
        "top_game5 = ganre_2.select('title').filter(\"col == 'Adventure'\").groupBy(\"title\").count().orderBy(f.col('count').desc())"
      ],
      "metadata": {
        "id": "Nh8mrXGj-7-e"
      },
      "execution_count": null,
      "outputs": []
    },
    {
      "cell_type": "code",
      "source": [
        "top_game5.show(10)"
      ],
      "metadata": {
        "id": "vb2amtck-8BF"
      },
      "execution_count": null,
      "outputs": []
    },
    {
      "cell_type": "markdown",
      "source": [
        "### By First-Person"
      ],
      "metadata": {
        "id": "Lvi2dB4E_FlJ"
      }
    },
    {
      "cell_type": "code",
      "source": [
        "top_game6 = ganre_2.select('title').filter(\"col == 'First-Person'\").groupBy(\"title\").count().orderBy(f.col('count').desc())"
      ],
      "metadata": {
        "id": "Sofe4b6l_HFw"
      },
      "execution_count": null,
      "outputs": []
    },
    {
      "cell_type": "code",
      "source": [
        "top_game6.show(10)"
      ],
      "metadata": {
        "id": "ERznIAYd_HIc"
      },
      "execution_count": null,
      "outputs": []
    },
    {
      "cell_type": "markdown",
      "source": [
        "### By Open World"
      ],
      "metadata": {
        "id": "_zHHZW9t_Ozg"
      }
    },
    {
      "cell_type": "code",
      "source": [
        "top_game7 = ganre_2.select('title').filter(\"col == 'Open World'\").groupBy(\"title\").count().orderBy(f.col('count').desc())"
      ],
      "metadata": {
        "id": "OrjVQaUT_O8Y"
      },
      "execution_count": null,
      "outputs": []
    },
    {
      "cell_type": "code",
      "source": [
        "top_game7.show(10)"
      ],
      "metadata": {
        "id": "D4GgFnns_O-1"
      },
      "execution_count": null,
      "outputs": []
    },
    {
      "cell_type": "markdown",
      "source": [
        "### By Atmospheric"
      ],
      "metadata": {
        "id": "cTNWti_P_b2x"
      }
    },
    {
      "cell_type": "code",
      "source": [
        "top_game8 = ganre_2.select('title').filter(\"col == 'Atmospheric'\").groupBy(\"title\").count().orderBy(f.col('count').desc())"
      ],
      "metadata": {
        "id": "VK5M_1Cj_dWm"
      },
      "execution_count": null,
      "outputs": []
    },
    {
      "cell_type": "code",
      "source": [
        "top_game8.show(10)"
      ],
      "metadata": {
        "id": "F_EpH-hs_dZb"
      },
      "execution_count": null,
      "outputs": []
    },
    {
      "cell_type": "markdown",
      "source": [
        "### By Simulation"
      ],
      "metadata": {
        "id": "bLF_vHk6_toE"
      }
    },
    {
      "cell_type": "code",
      "source": [
        "top_game9 = ganre_2.select('title').filter(\"col == 'Simulation'\").groupBy(\"title\").count().orderBy(f.col('count').desc())"
      ],
      "metadata": {
        "id": "i_td0bdK_2o7"
      },
      "execution_count": null,
      "outputs": []
    },
    {
      "cell_type": "code",
      "source": [
        "top_game9.show(10)"
      ],
      "metadata": {
        "id": "aw0oXUTY_2rg"
      },
      "execution_count": null,
      "outputs": []
    },
    {
      "cell_type": "markdown",
      "source": [
        "### By Sandbox"
      ],
      "metadata": {
        "id": "teEDAtQz_85N"
      }
    },
    {
      "cell_type": "code",
      "source": [
        "top_game10 = ganre_2.select('title').filter(\"col == 'Sandbox'\").groupBy(\"title\").count().orderBy(f.col('count').desc())"
      ],
      "metadata": {
        "id": "hEfmUIPSABhk"
      },
      "execution_count": null,
      "outputs": []
    },
    {
      "cell_type": "code",
      "source": [
        "top_game10.show(10)"
      ],
      "metadata": {
        "id": "y3g-ssfxABmR"
      },
      "execution_count": null,
      "outputs": []
    },
    {
      "cell_type": "markdown",
      "source": [
        "## ----Trend by time----"
      ],
      "metadata": {
        "id": "7T5APY61jF_w"
      }
    },
    {
      "cell_type": "code",
      "source": [
        "trend = all_data.groupBy(\"title\",'date_release').count().orderBy(f.col('count').desc())"
      ],
      "metadata": {
        "id": "U1I_-0Wj6V8X"
      },
      "execution_count": null,
      "outputs": []
    },
    {
      "cell_type": "code",
      "source": [
        "trend.show(10)"
      ],
      "metadata": {
        "id": "g3Efj0_Y6aT8"
      },
      "execution_count": null,
      "outputs": []
    },
    {
      "cell_type": "markdown",
      "source": [
        "### By < 2000\n"
      ],
      "metadata": {
        "id": "rhunDAP9pR5D"
      }
    },
    {
      "cell_type": "code",
      "source": [
        "trend1 = all_data.filter((f.year('date_release') < lit('2000'))).groupBy(\"title\",'date_release').count().orderBy(f.col('count').desc())"
      ],
      "metadata": {
        "id": "4jJCJU5Ojnvq"
      },
      "execution_count": null,
      "outputs": []
    },
    {
      "cell_type": "code",
      "source": [
        "trend1.show()"
      ],
      "metadata": {
        "id": "TLfS1R2iog-N"
      },
      "execution_count": null,
      "outputs": []
    },
    {
      "cell_type": "markdown",
      "source": [
        "### By 2000-2005"
      ],
      "metadata": {
        "id": "-JXQpntrpbC0"
      }
    },
    {
      "cell_type": "code",
      "source": [
        "trend2 = all_data.filter((f.year('date_release') > lit('2000')) &(f.year('date_release') <= lit('2005'))).groupBy(\"title\",'date_release').count().orderBy(f.col('count').desc())"
      ],
      "metadata": {
        "id": "ecfceUAKpgw0"
      },
      "execution_count": null,
      "outputs": []
    },
    {
      "cell_type": "code",
      "source": [
        "trend2.show(10)"
      ],
      "metadata": {
        "id": "Az_t3Nxz1G6n"
      },
      "execution_count": null,
      "outputs": []
    },
    {
      "cell_type": "markdown",
      "source": [
        "### By 2005- 2010 "
      ],
      "metadata": {
        "id": "8yb_9ie51VAJ"
      }
    },
    {
      "cell_type": "code",
      "source": [
        "trend3 = all_data.filter((f.year('date_release') > lit('2005')) &(f.year('date_release') <= lit('2010'))).groupBy(\"title\",'date_release').count().orderBy(f.col('count').desc())"
      ],
      "metadata": {
        "id": "N2GXguhH1aas"
      },
      "execution_count": null,
      "outputs": []
    },
    {
      "cell_type": "code",
      "source": [
        "trend3.show(10)"
      ],
      "metadata": {
        "id": "aAWetEDm1adt"
      },
      "execution_count": null,
      "outputs": []
    },
    {
      "cell_type": "markdown",
      "source": [
        "### By 2010 - 2015 "
      ],
      "metadata": {
        "id": "Fah6RhCx2UuH"
      }
    },
    {
      "cell_type": "code",
      "source": [
        "trend4 = all_data.filter((f.year('date_release') > lit('2010')) &(f.year('date_release') <= lit('2015'))).groupBy(\"title\",'date_release').count().orderBy(f.col('count').desc())"
      ],
      "metadata": {
        "id": "szlHBrn42Zu-"
      },
      "execution_count": null,
      "outputs": []
    },
    {
      "cell_type": "code",
      "source": [
        "trend4.show(10)"
      ],
      "metadata": {
        "id": "Qus_DlU72eOm"
      },
      "execution_count": null,
      "outputs": []
    },
    {
      "cell_type": "markdown",
      "source": [
        "### By 2015 - 2020"
      ],
      "metadata": {
        "id": "N_cHTvra2o_a"
      }
    },
    {
      "cell_type": "code",
      "source": [
        "trend5 = all_data.filter((f.year('date_release') > lit('2015')) &(f.year('date_release') <= lit('2020'))).groupBy(\"title\",'date_release').count().orderBy(f.col('count').desc())"
      ],
      "metadata": {
        "id": "Llq1fY8125IR"
      },
      "execution_count": null,
      "outputs": []
    },
    {
      "cell_type": "code",
      "source": [
        "trend5.show(10)"
      ],
      "metadata": {
        "id": "XOPYSQTS3BKG"
      },
      "execution_count": null,
      "outputs": []
    },
    {
      "cell_type": "markdown",
      "source": [
        "### By >= 2020"
      ],
      "metadata": {
        "id": "lyat1U0E3G2h"
      }
    },
    {
      "cell_type": "code",
      "source": [
        "trend6 = all_data.filter((f.year('date_release') >= lit('2020'))).groupBy(\"title\",'date_release').count().orderBy(f.col('count').desc())"
      ],
      "metadata": {
        "id": "4ZrN3KPC3Pnv"
      },
      "execution_count": null,
      "outputs": []
    },
    {
      "cell_type": "code",
      "source": [
        "trend6.show(10)"
      ],
      "metadata": {
        "id": "pwj6KUdC3PsV"
      },
      "execution_count": null,
      "outputs": []
    }
  ],
  "metadata": {
    "colab": {
      "provenance": [],
      "toc_visible": true,
      "authorship_tag": "ABX9TyM7AdbeW3Y2TvZPGCDY0mn/",
      "include_colab_link": true
    },
    "kernelspec": {
      "display_name": "Python 3",
      "name": "python3"
    },
    "language_info": {
      "name": "python"
    }
  },
  "nbformat": 4,
  "nbformat_minor": 0
}